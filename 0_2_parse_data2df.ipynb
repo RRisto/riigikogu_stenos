{
 "cells": [
  {
   "cell_type": "code",
   "execution_count": 1,
   "metadata": {},
   "outputs": [],
   "source": [
    "import re\n",
    "import requests\n",
    "import json\n",
    "from bs4 import BeautifulSoup\n",
    "import pandas as pd\n",
    "import numpy as np"
   ]
  },
  {
   "cell_type": "markdown",
   "metadata": {},
   "source": [
    "## Helpers"
   ]
  },
  {
   "cell_type": "code",
   "execution_count": 2,
   "metadata": {},
   "outputs": [],
   "source": [
    "def get_pattern_elem(text, pattern='[0-9][0-9]:[0-9][0-9]', alternative_pattern='[0-9][0-9]\\.[0-9][0-9]'):\n",
    "    \"\"\"get element from regex pattern. used to get time information from text\n",
    "    -INPUT:\n",
    "        -text: str of text where to search pattern\n",
    "        -pattern: str of regex oattern\n",
    "        -alternative_pattern: str of alternative regex pattern if first pattern didn't return response\n",
    "    -OUTPUT:\n",
    "        - str of matched pattern where . is replaced with :\"\"\"\n",
    "    match=re.search(pattern,text)\n",
    "    if match is None:\n",
    "        match=re.search(alternative_pattern,text) \n",
    "        if match is None:\n",
    "            return\n",
    "    span=match.span()\n",
    "    return text[span[0]:span[1]].replace('.',':')"
   ]
  },
  {
   "cell_type": "code",
   "execution_count": 3,
   "metadata": {},
   "outputs": [],
   "source": [
    "def stenos2df(stenos):\n",
    "    '''Parse stenos to pandas DataFrame\n",
    "    NB! this function adds steno link to all of the segments!\n",
    "    -INPUT:\n",
    "        -stenos: dict of stenos\n",
    "    -OUTPUT:\n",
    "        -pd.DataFrame of stenos'''\n",
    "    stenos_flat=[]\n",
    "    for steno_url in stenos.keys():\n",
    "        data_steno=stenos[steno_url]['talk']\n",
    "        #[row.update({'link_steno':steno_url}) for row in data_steno]\n",
    "        stenos_flat.extend(data_steno)\n",
    "    return pd.DataFrame(stenos_flat)"
   ]
  },
  {
   "cell_type": "markdown",
   "metadata": {},
   "source": [
    "## Data"
   ]
  },
  {
   "cell_type": "code",
   "execution_count": 4,
   "metadata": {},
   "outputs": [],
   "source": [
    "with open('data/raw/stenos_from_links.json') as f:\n",
    "    data=json.load(f)"
   ]
  },
  {
   "cell_type": "markdown",
   "metadata": {},
   "source": [
    "## Format to df"
   ]
  },
  {
   "cell_type": "code",
   "execution_count": 5,
   "metadata": {},
   "outputs": [
    {
     "data": {
      "text/plain": [
       "(213689, 7)"
      ]
     },
     "execution_count": 5,
     "metadata": {},
     "output_type": "execute_result"
    }
   ],
   "source": [
    "df=stenos2df(data)\n",
    "df.shape"
   ]
  },
  {
   "cell_type": "code",
   "execution_count": 6,
   "metadata": {},
   "outputs": [
    {
     "data": {
      "text/html": [
       "<div>\n",
       "<style scoped>\n",
       "    .dataframe tbody tr th:only-of-type {\n",
       "        vertical-align: middle;\n",
       "    }\n",
       "\n",
       "    .dataframe tbody tr th {\n",
       "        vertical-align: top;\n",
       "    }\n",
       "\n",
       "    .dataframe thead th {\n",
       "        text-align: right;\n",
       "    }\n",
       "</style>\n",
       "<table border=\"1\" class=\"dataframe\">\n",
       "  <thead>\n",
       "    <tr style=\"text-align: right;\">\n",
       "      <th></th>\n",
       "      <th>heading</th>\n",
       "      <th>speaker</th>\n",
       "      <th>link_video</th>\n",
       "      <th>link_steno</th>\n",
       "      <th>index_pk</th>\n",
       "      <th>index_snd</th>\n",
       "      <th>text</th>\n",
       "    </tr>\n",
       "  </thead>\n",
       "  <tbody>\n",
       "    <tr>\n",
       "      <th>0</th>\n",
       "      <td>10:00  Istungi rakendamine</td>\n",
       "      <td>Aseesimees Siim Kallas</td>\n",
       "      <td>https://www.youtube.com/watch?v=GaFL2Zc4OMg&amp;t=0</td>\n",
       "      <td>https://stenogrammid.riigikogu.ee/201911191000</td>\n",
       "      <td>PKP-25040</td>\n",
       "      <td>SND-559399</td>\n",
       "      <td>Auväärt kolleegid, auväärt Riigikogu, tere hom...</td>\n",
       "    </tr>\n",
       "    <tr>\n",
       "      <th>1</th>\n",
       "      <td>1.\\n                        10:02  Eesti Keske...</td>\n",
       "      <td>Aseesimees Siim Kallas</td>\n",
       "      <td>https://www.youtube.com/watch?v=GaFL2Zc4OMg&amp;t=125</td>\n",
       "      <td>https://stenogrammid.riigikogu.ee/201911191000</td>\n",
       "      <td>PKP-25041</td>\n",
       "      <td>SND-559400</td>\n",
       "      <td>Täna on meil päevakorras olulise tähtsusega ri...</td>\n",
       "    </tr>\n",
       "    <tr>\n",
       "      <th>2</th>\n",
       "      <td>1.\\n                        10:02  Eesti Keske...</td>\n",
       "      <td>Kersti Sarapuu</td>\n",
       "      <td>https://www.youtube.com/watch?v=GaFL2Zc4OMg&amp;t=238</td>\n",
       "      <td>https://stenogrammid.riigikogu.ee/201911191000</td>\n",
       "      <td>PKP-25041</td>\n",
       "      <td>SND-559401</td>\n",
       "      <td>Lugupeetud istungi juhataja! Head kolleegid ja...</td>\n",
       "    </tr>\n",
       "    <tr>\n",
       "      <th>3</th>\n",
       "      <td>1.\\n                        10:02  Eesti Keske...</td>\n",
       "      <td>Aseesimees Siim Kallas</td>\n",
       "      <td>https://www.youtube.com/watch?v=GaFL2Zc4OMg&amp;t=...</td>\n",
       "      <td>https://stenogrammid.riigikogu.ee/201911191000</td>\n",
       "      <td>PKP-25041</td>\n",
       "      <td>SND-559402</td>\n",
       "      <td>Aitäh! Ettekandjatele ütlen niipalju, et selle...</td>\n",
       "    </tr>\n",
       "    <tr>\n",
       "      <th>4</th>\n",
       "      <td>1.\\n                        10:02  Eesti Keske...</td>\n",
       "      <td>Aivar Sõerd</td>\n",
       "      <td>https://www.youtube.com/watch?v=GaFL2Zc4OMg&amp;t=...</td>\n",
       "      <td>https://stenogrammid.riigikogu.ee/201911191000</td>\n",
       "      <td>PKP-25041</td>\n",
       "      <td>SND-559403</td>\n",
       "      <td>Aitäh, austatud juhataja! Austatud ettekandja!...</td>\n",
       "    </tr>\n",
       "  </tbody>\n",
       "</table>\n",
       "</div>"
      ],
      "text/plain": [
       "                                             heading                 speaker  \\\n",
       "0                         10:00  Istungi rakendamine  Aseesimees Siim Kallas   \n",
       "1  1.\\n                        10:02  Eesti Keske...  Aseesimees Siim Kallas   \n",
       "2  1.\\n                        10:02  Eesti Keske...          Kersti Sarapuu   \n",
       "3  1.\\n                        10:02  Eesti Keske...  Aseesimees Siim Kallas   \n",
       "4  1.\\n                        10:02  Eesti Keske...             Aivar Sõerd   \n",
       "\n",
       "                                          link_video  \\\n",
       "0    https://www.youtube.com/watch?v=GaFL2Zc4OMg&t=0   \n",
       "1  https://www.youtube.com/watch?v=GaFL2Zc4OMg&t=125   \n",
       "2  https://www.youtube.com/watch?v=GaFL2Zc4OMg&t=238   \n",
       "3  https://www.youtube.com/watch?v=GaFL2Zc4OMg&t=...   \n",
       "4  https://www.youtube.com/watch?v=GaFL2Zc4OMg&t=...   \n",
       "\n",
       "                                       link_steno   index_pk   index_snd  \\\n",
       "0  https://stenogrammid.riigikogu.ee/201911191000  PKP-25040  SND-559399   \n",
       "1  https://stenogrammid.riigikogu.ee/201911191000  PKP-25041  SND-559400   \n",
       "2  https://stenogrammid.riigikogu.ee/201911191000  PKP-25041  SND-559401   \n",
       "3  https://stenogrammid.riigikogu.ee/201911191000  PKP-25041  SND-559402   \n",
       "4  https://stenogrammid.riigikogu.ee/201911191000  PKP-25041  SND-559403   \n",
       "\n",
       "                                                text  \n",
       "0  Auväärt kolleegid, auväärt Riigikogu, tere hom...  \n",
       "1  Täna on meil päevakorras olulise tähtsusega ri...  \n",
       "2  Lugupeetud istungi juhataja! Head kolleegid ja...  \n",
       "3  Aitäh! Ettekandjatele ütlen niipalju, et selle...  \n",
       "4  Aitäh, austatud juhataja! Austatud ettekandja!...  "
      ]
     },
     "execution_count": 6,
     "metadata": {},
     "output_type": "execute_result"
    }
   ],
   "source": [
    "df.head()"
   ]
  },
  {
   "cell_type": "markdown",
   "metadata": {},
   "source": [
    "## Get time"
   ]
  },
  {
   "cell_type": "code",
   "execution_count": 7,
   "metadata": {},
   "outputs": [],
   "source": [
    "def clean_speaker(text):\n",
    "    \"\"\"helper func to clean speaker name\n",
    "    -INPUT:\n",
    "        -text: str of speaker name\n",
    "    -OUTPUT:\n",
    "        -cleaner text\"\"\"\n",
    "    text=text.replace('\\n','').replace('<strong>', '').replace('</strong>', '')\n",
    "    text= re.sub('\\d\\d:\\d\\d','', text)\n",
    "    text=text.strip()\n",
    "    text=' '.join(text.split())\n",
    "    return text\n",
    "\n",
    "def time_from_speaker(text, return_h=True):\n",
    "    \"\"\"get time information from speaker name text\n",
    "    -INPUT:\n",
    "        -text: str of speaker name\n",
    "        -return_h: bool if true returns hour infomration otherwise minutes\n",
    "    -OUTPUT:\n",
    "        str of tme information\"\"\"\n",
    "    time=re.findall('\\d\\d:\\d\\d',text)\n",
    "    hour, minutes = time[0].split(':')\n",
    "    if return_h:\n",
    "        return hour\n",
    "    return minutes\n",
    "\n",
    "def has_time(text):\n",
    "    \"\"\"check if text contains time information\"\"\"\n",
    "    return bool(re.search('\\d\\d:\\d\\d', text))"
   ]
  },
  {
   "cell_type": "code",
   "execution_count": 8,
   "metadata": {},
   "outputs": [
    {
     "data": {
      "text/html": [
       "<div>\n",
       "<style scoped>\n",
       "    .dataframe tbody tr th:only-of-type {\n",
       "        vertical-align: middle;\n",
       "    }\n",
       "\n",
       "    .dataframe tbody tr th {\n",
       "        vertical-align: top;\n",
       "    }\n",
       "\n",
       "    .dataframe thead th {\n",
       "        text-align: right;\n",
       "    }\n",
       "</style>\n",
       "<table border=\"1\" class=\"dataframe\">\n",
       "  <thead>\n",
       "    <tr style=\"text-align: right;\">\n",
       "      <th></th>\n",
       "      <th>heading</th>\n",
       "      <th>speaker</th>\n",
       "      <th>link_video</th>\n",
       "      <th>link_steno</th>\n",
       "      <th>index_pk</th>\n",
       "      <th>index_snd</th>\n",
       "      <th>text</th>\n",
       "      <th>year</th>\n",
       "      <th>month</th>\n",
       "      <th>day</th>\n",
       "      <th>time</th>\n",
       "      <th>seconds_from_start</th>\n",
       "      <th>video_link_wo_time</th>\n",
       "    </tr>\n",
       "  </thead>\n",
       "  <tbody>\n",
       "    <tr>\n",
       "      <th>0</th>\n",
       "      <td>10:00  Istungi rakendamine</td>\n",
       "      <td>Aseesimees Siim Kallas</td>\n",
       "      <td>https://www.youtube.com/watch?v=GaFL2Zc4OMg&amp;t=0</td>\n",
       "      <td>https://stenogrammid.riigikogu.ee/201911191000</td>\n",
       "      <td>PKP-25040</td>\n",
       "      <td>SND-559399</td>\n",
       "      <td>Auväärt kolleegid, auväärt Riigikogu, tere hom...</td>\n",
       "      <td>2019</td>\n",
       "      <td>11</td>\n",
       "      <td>19</td>\n",
       "      <td>10:00</td>\n",
       "      <td>0</td>\n",
       "      <td>https://www.youtube.com/watch?v=GaFL2Zc4OMg</td>\n",
       "    </tr>\n",
       "    <tr>\n",
       "      <th>1</th>\n",
       "      <td>1.\\n                        10:02  Eesti Keske...</td>\n",
       "      <td>Aseesimees Siim Kallas</td>\n",
       "      <td>https://www.youtube.com/watch?v=GaFL2Zc4OMg&amp;t=125</td>\n",
       "      <td>https://stenogrammid.riigikogu.ee/201911191000</td>\n",
       "      <td>PKP-25041</td>\n",
       "      <td>SND-559400</td>\n",
       "      <td>Täna on meil päevakorras olulise tähtsusega ri...</td>\n",
       "      <td>2019</td>\n",
       "      <td>11</td>\n",
       "      <td>19</td>\n",
       "      <td>10:02</td>\n",
       "      <td>125</td>\n",
       "      <td>https://www.youtube.com/watch?v=GaFL2Zc4OMg</td>\n",
       "    </tr>\n",
       "    <tr>\n",
       "      <th>2</th>\n",
       "      <td>1.\\n                        10:02  Eesti Keske...</td>\n",
       "      <td>Kersti Sarapuu</td>\n",
       "      <td>https://www.youtube.com/watch?v=GaFL2Zc4OMg&amp;t=238</td>\n",
       "      <td>https://stenogrammid.riigikogu.ee/201911191000</td>\n",
       "      <td>PKP-25041</td>\n",
       "      <td>SND-559401</td>\n",
       "      <td>Lugupeetud istungi juhataja! Head kolleegid ja...</td>\n",
       "      <td>2019</td>\n",
       "      <td>11</td>\n",
       "      <td>19</td>\n",
       "      <td>10:02</td>\n",
       "      <td>238</td>\n",
       "      <td>https://www.youtube.com/watch?v=GaFL2Zc4OMg</td>\n",
       "    </tr>\n",
       "    <tr>\n",
       "      <th>3</th>\n",
       "      <td>1.\\n                        10:02  Eesti Keske...</td>\n",
       "      <td>Aseesimees Siim Kallas</td>\n",
       "      <td>https://www.youtube.com/watch?v=GaFL2Zc4OMg&amp;t=...</td>\n",
       "      <td>https://stenogrammid.riigikogu.ee/201911191000</td>\n",
       "      <td>PKP-25041</td>\n",
       "      <td>SND-559402</td>\n",
       "      <td>Aitäh! Ettekandjatele ütlen niipalju, et selle...</td>\n",
       "      <td>2019</td>\n",
       "      <td>11</td>\n",
       "      <td>19</td>\n",
       "      <td>10:02</td>\n",
       "      <td>1194</td>\n",
       "      <td>https://www.youtube.com/watch?v=GaFL2Zc4OMg</td>\n",
       "    </tr>\n",
       "    <tr>\n",
       "      <th>4</th>\n",
       "      <td>1.\\n                        10:02  Eesti Keske...</td>\n",
       "      <td>Aivar Sõerd</td>\n",
       "      <td>https://www.youtube.com/watch?v=GaFL2Zc4OMg&amp;t=...</td>\n",
       "      <td>https://stenogrammid.riigikogu.ee/201911191000</td>\n",
       "      <td>PKP-25041</td>\n",
       "      <td>SND-559403</td>\n",
       "      <td>Aitäh, austatud juhataja! Austatud ettekandja!...</td>\n",
       "      <td>2019</td>\n",
       "      <td>11</td>\n",
       "      <td>19</td>\n",
       "      <td>10:02</td>\n",
       "      <td>1231</td>\n",
       "      <td>https://www.youtube.com/watch?v=GaFL2Zc4OMg</td>\n",
       "    </tr>\n",
       "  </tbody>\n",
       "</table>\n",
       "</div>"
      ],
      "text/plain": [
       "                                             heading                 speaker  \\\n",
       "0                         10:00  Istungi rakendamine  Aseesimees Siim Kallas   \n",
       "1  1.\\n                        10:02  Eesti Keske...  Aseesimees Siim Kallas   \n",
       "2  1.\\n                        10:02  Eesti Keske...          Kersti Sarapuu   \n",
       "3  1.\\n                        10:02  Eesti Keske...  Aseesimees Siim Kallas   \n",
       "4  1.\\n                        10:02  Eesti Keske...             Aivar Sõerd   \n",
       "\n",
       "                                          link_video  \\\n",
       "0    https://www.youtube.com/watch?v=GaFL2Zc4OMg&t=0   \n",
       "1  https://www.youtube.com/watch?v=GaFL2Zc4OMg&t=125   \n",
       "2  https://www.youtube.com/watch?v=GaFL2Zc4OMg&t=238   \n",
       "3  https://www.youtube.com/watch?v=GaFL2Zc4OMg&t=...   \n",
       "4  https://www.youtube.com/watch?v=GaFL2Zc4OMg&t=...   \n",
       "\n",
       "                                       link_steno   index_pk   index_snd  \\\n",
       "0  https://stenogrammid.riigikogu.ee/201911191000  PKP-25040  SND-559399   \n",
       "1  https://stenogrammid.riigikogu.ee/201911191000  PKP-25041  SND-559400   \n",
       "2  https://stenogrammid.riigikogu.ee/201911191000  PKP-25041  SND-559401   \n",
       "3  https://stenogrammid.riigikogu.ee/201911191000  PKP-25041  SND-559402   \n",
       "4  https://stenogrammid.riigikogu.ee/201911191000  PKP-25041  SND-559403   \n",
       "\n",
       "                                                text  year month day   time  \\\n",
       "0  Auväärt kolleegid, auväärt Riigikogu, tere hom...  2019    11  19  10:00   \n",
       "1  Täna on meil päevakorras olulise tähtsusega ri...  2019    11  19  10:02   \n",
       "2  Lugupeetud istungi juhataja! Head kolleegid ja...  2019    11  19  10:02   \n",
       "3  Aitäh! Ettekandjatele ütlen niipalju, et selle...  2019    11  19  10:02   \n",
       "4  Aitäh, austatud juhataja! Austatud ettekandja!...  2019    11  19  10:02   \n",
       "\n",
       "  seconds_from_start                           video_link_wo_time  \n",
       "0                  0  https://www.youtube.com/watch?v=GaFL2Zc4OMg  \n",
       "1                125  https://www.youtube.com/watch?v=GaFL2Zc4OMg  \n",
       "2                238  https://www.youtube.com/watch?v=GaFL2Zc4OMg  \n",
       "3               1194  https://www.youtube.com/watch?v=GaFL2Zc4OMg  \n",
       "4               1231  https://www.youtube.com/watch?v=GaFL2Zc4OMg  "
      ]
     },
     "execution_count": 8,
     "metadata": {},
     "output_type": "execute_result"
    }
   ],
   "source": [
    "df['year']=df.link_steno.apply(lambda x: x.split('/')[-1][:4])\n",
    "df['month']=df.link_steno.apply(lambda x: x.split('/')[-1][4:6])\n",
    "df['day']=df.link_steno.apply(lambda x: x.split('/')[-1][6:8])\n",
    "df['time']=df.heading.apply(lambda x: get_pattern_elem(x))\n",
    "speaker_has_time=df.speaker.apply(has_time)\n",
    "speaker_times=df.speaker.apply(get_pattern_elem)\n",
    "df['time']=np.where(speaker_has_time, speaker_times, df.time)\n",
    "df['seconds_from_start']=df.link_video.apply(lambda x: str(x).split('&t=')[-1])\n",
    "df['video_link_wo_time']=df.link_video.apply(lambda x: str(x).split('&t=')[0])\n",
    "df['speaker']=df.speaker.apply(clean_speaker)\n",
    "df.head()"
   ]
  },
  {
   "cell_type": "code",
   "execution_count": 9,
   "metadata": {},
   "outputs": [
    {
     "data": {
      "text/html": [
       "<div>\n",
       "<style scoped>\n",
       "    .dataframe tbody tr th:only-of-type {\n",
       "        vertical-align: middle;\n",
       "    }\n",
       "\n",
       "    .dataframe tbody tr th {\n",
       "        vertical-align: top;\n",
       "    }\n",
       "\n",
       "    .dataframe thead th {\n",
       "        text-align: right;\n",
       "    }\n",
       "</style>\n",
       "<table border=\"1\" class=\"dataframe\">\n",
       "  <thead>\n",
       "    <tr style=\"text-align: right;\">\n",
       "      <th></th>\n",
       "      <th>heading</th>\n",
       "      <th>speaker</th>\n",
       "      <th>link_video</th>\n",
       "      <th>link_steno</th>\n",
       "      <th>index_pk</th>\n",
       "      <th>index_snd</th>\n",
       "      <th>text</th>\n",
       "      <th>year</th>\n",
       "      <th>month</th>\n",
       "      <th>day</th>\n",
       "      <th>time</th>\n",
       "      <th>seconds_from_start</th>\n",
       "      <th>video_link_wo_time</th>\n",
       "    </tr>\n",
       "  </thead>\n",
       "  <tbody>\n",
       "    <tr>\n",
       "      <th>213684</th>\n",
       "      <td>6.\\n                        13:52  Põllumajand...</td>\n",
       "      <td>Põllumajandusminister Helir-Valdor Seeder</td>\n",
       "      <td>None</td>\n",
       "      <td>https://stenogrammid.riigikogu.ee/201011171300</td>\n",
       "      <td>PKP-23999</td>\n",
       "      <td>SND-542721</td>\n",
       "      <td>Aitäh! Ma tahan kõigepealt natuke meenutada se...</td>\n",
       "      <td>2010</td>\n",
       "      <td>11</td>\n",
       "      <td>17</td>\n",
       "      <td>13:52</td>\n",
       "      <td>None</td>\n",
       "      <td>None</td>\n",
       "    </tr>\n",
       "    <tr>\n",
       "      <th>213685</th>\n",
       "      <td>6.\\n                        13:52  Põllumajand...</td>\n",
       "      <td>Aseesimees Jüri Ratas</td>\n",
       "      <td>None</td>\n",
       "      <td>https://stenogrammid.riigikogu.ee/201011171300</td>\n",
       "      <td>PKP-23999</td>\n",
       "      <td>SND-542722</td>\n",
       "      <td>Teine täpsustav küsimus, Arvo Sarapuu, palun!</td>\n",
       "      <td>2010</td>\n",
       "      <td>11</td>\n",
       "      <td>17</td>\n",
       "      <td>13:52</td>\n",
       "      <td>None</td>\n",
       "      <td>None</td>\n",
       "    </tr>\n",
       "    <tr>\n",
       "      <th>213686</th>\n",
       "      <td>6.\\n                        13:52  Põllumajand...</td>\n",
       "      <td>Arvo Sarapuu</td>\n",
       "      <td>None</td>\n",
       "      <td>https://stenogrammid.riigikogu.ee/201011171300</td>\n",
       "      <td>PKP-23999</td>\n",
       "      <td>SND-542723</td>\n",
       "      <td>Aitäh, lugupeetud Riigikogu aseesimees! Hea mi...</td>\n",
       "      <td>2010</td>\n",
       "      <td>11</td>\n",
       "      <td>17</td>\n",
       "      <td>13:52</td>\n",
       "      <td>None</td>\n",
       "      <td>None</td>\n",
       "    </tr>\n",
       "    <tr>\n",
       "      <th>213687</th>\n",
       "      <td>6.\\n                        13:52  Põllumajand...</td>\n",
       "      <td>Põllumajandusminister Helir-Valdor Seeder</td>\n",
       "      <td>None</td>\n",
       "      <td>https://stenogrammid.riigikogu.ee/201011171300</td>\n",
       "      <td>PKP-23999</td>\n",
       "      <td>SND-542724</td>\n",
       "      <td>Aitäh! Sellele küsimusele olen ma siit saalist...</td>\n",
       "      <td>2010</td>\n",
       "      <td>11</td>\n",
       "      <td>17</td>\n",
       "      <td>13:52</td>\n",
       "      <td>None</td>\n",
       "      <td>None</td>\n",
       "    </tr>\n",
       "    <tr>\n",
       "      <th>213688</th>\n",
       "      <td>6.\\n                        13:52  Põllumajand...</td>\n",
       "      <td>Aseesimees Jüri Ratas</td>\n",
       "      <td>None</td>\n",
       "      <td>https://stenogrammid.riigikogu.ee/201011171300</td>\n",
       "      <td>PKP-23999</td>\n",
       "      <td>SND-542725</td>\n",
       "      <td>Tänan! Lõpetan selle küsimuse käsitlemise. Hea...</td>\n",
       "      <td>2010</td>\n",
       "      <td>11</td>\n",
       "      <td>17</td>\n",
       "      <td>13:52</td>\n",
       "      <td>None</td>\n",
       "      <td>None</td>\n",
       "    </tr>\n",
       "  </tbody>\n",
       "</table>\n",
       "</div>"
      ],
      "text/plain": [
       "                                                  heading  \\\n",
       "213684  6.\\n                        13:52  Põllumajand...   \n",
       "213685  6.\\n                        13:52  Põllumajand...   \n",
       "213686  6.\\n                        13:52  Põllumajand...   \n",
       "213687  6.\\n                        13:52  Põllumajand...   \n",
       "213688  6.\\n                        13:52  Põllumajand...   \n",
       "\n",
       "                                          speaker link_video  \\\n",
       "213684  Põllumajandusminister Helir-Valdor Seeder       None   \n",
       "213685                      Aseesimees Jüri Ratas       None   \n",
       "213686                               Arvo Sarapuu       None   \n",
       "213687  Põllumajandusminister Helir-Valdor Seeder       None   \n",
       "213688                      Aseesimees Jüri Ratas       None   \n",
       "\n",
       "                                            link_steno   index_pk   index_snd  \\\n",
       "213684  https://stenogrammid.riigikogu.ee/201011171300  PKP-23999  SND-542721   \n",
       "213685  https://stenogrammid.riigikogu.ee/201011171300  PKP-23999  SND-542722   \n",
       "213686  https://stenogrammid.riigikogu.ee/201011171300  PKP-23999  SND-542723   \n",
       "213687  https://stenogrammid.riigikogu.ee/201011171300  PKP-23999  SND-542724   \n",
       "213688  https://stenogrammid.riigikogu.ee/201011171300  PKP-23999  SND-542725   \n",
       "\n",
       "                                                     text  year month day  \\\n",
       "213684  Aitäh! Ma tahan kõigepealt natuke meenutada se...  2010    11  17   \n",
       "213685      Teine täpsustav küsimus, Arvo Sarapuu, palun!  2010    11  17   \n",
       "213686  Aitäh, lugupeetud Riigikogu aseesimees! Hea mi...  2010    11  17   \n",
       "213687  Aitäh! Sellele küsimusele olen ma siit saalist...  2010    11  17   \n",
       "213688  Tänan! Lõpetan selle küsimuse käsitlemise. Hea...  2010    11  17   \n",
       "\n",
       "         time seconds_from_start video_link_wo_time  \n",
       "213684  13:52               None               None  \n",
       "213685  13:52               None               None  \n",
       "213686  13:52               None               None  \n",
       "213687  13:52               None               None  \n",
       "213688  13:52               None               None  "
      ]
     },
     "execution_count": 9,
     "metadata": {},
     "output_type": "execute_result"
    }
   ],
   "source": [
    "df.tail()"
   ]
  },
  {
   "cell_type": "code",
   "execution_count": 10,
   "metadata": {},
   "outputs": [
    {
     "data": {
      "text/plain": [
       "(213689, 13)"
      ]
     },
     "execution_count": 10,
     "metadata": {},
     "output_type": "execute_result"
    }
   ],
   "source": [
    "df.shape"
   ]
  },
  {
   "cell_type": "code",
   "execution_count": 11,
   "metadata": {},
   "outputs": [
    {
     "data": {
      "text/plain": [
       "10261"
      ]
     },
     "execution_count": 11,
     "metadata": {},
     "output_type": "execute_result"
    }
   ],
   "source": [
    "df.index_pk.nunique()"
   ]
  },
  {
   "cell_type": "code",
   "execution_count": 12,
   "metadata": {},
   "outputs": [
    {
     "data": {
      "text/plain": [
       "213689"
      ]
     },
     "execution_count": 12,
     "metadata": {},
     "output_type": "execute_result"
    }
   ],
   "source": [
    "df.index_snd.nunique()"
   ]
  },
  {
   "cell_type": "code",
   "execution_count": 13,
   "metadata": {},
   "outputs": [
    {
     "data": {
      "text/plain": [
       "(0, 13)"
      ]
     },
     "execution_count": 13,
     "metadata": {},
     "output_type": "execute_result"
    }
   ],
   "source": [
    "#any missing time from steno start\n",
    "df[pd.isnull(df.seconds_from_start)].shape"
   ]
  },
  {
   "cell_type": "code",
   "execution_count": 14,
   "metadata": {},
   "outputs": [
    {
     "data": {
      "text/plain": [
       "1493"
      ]
     },
     "execution_count": 14,
     "metadata": {},
     "output_type": "execute_result"
    }
   ],
   "source": [
    "#nr of unique stenograms\n",
    "df.link_steno.nunique()"
   ]
  },
  {
   "cell_type": "code",
   "execution_count": 15,
   "metadata": {},
   "outputs": [
    {
     "data": {
      "text/plain": [
       "(72864, 503)"
      ]
     },
     "execution_count": 15,
     "metadata": {},
     "output_type": "execute_result"
    }
   ],
   "source": [
    "#nr of unique videos\n",
    "df.link_video.nunique(), df.video_link_wo_time.nunique()"
   ]
  },
  {
   "cell_type": "markdown",
   "metadata": {},
   "source": [
    "## Quick overview"
   ]
  },
  {
   "cell_type": "code",
   "execution_count": 16,
   "metadata": {},
   "outputs": [
    {
     "data": {
      "text/plain": [
       "<AxesSubplot:xlabel='year'>"
      ]
     },
     "execution_count": 16,
     "metadata": {},
     "output_type": "execute_result"
    },
    {
     "data": {
      "image/png": "[encoded data removed]",
      "text/plain": [
       "<Figure size 432x288 with 1 Axes>"
      ]
     },
     "metadata": {
      "needs_background": "light"
     },
     "output_type": "display_data"
    }
   ],
   "source": [
    "#nr of steno segments per year\n",
    "df.groupby('year').count()['link_steno'].plot()"
   ]
  },
  {
   "cell_type": "code",
   "execution_count": 18,
   "metadata": {},
   "outputs": [
    {
     "data": {
      "text/plain": [
       "<AxesSubplot:xlabel='month'>"
      ]
     },
     "execution_count": 18,
     "metadata": {},
     "output_type": "execute_result"
    },
    {
     "data": {
      "image/png": "[encoded data removed]",
      "text/plain": [
       "<Figure size 432x288 with 1 Axes>"
      ]
     },
     "metadata": {
      "needs_background": "light"
     },
     "output_type": "display_data"
    }
   ],
   "source": [
    "#nr steno segments per month (across all years)\n",
    "df.groupby('month').count()['link_steno'].plot()"
   ]
  },
  {
   "cell_type": "code",
   "execution_count": 19,
   "metadata": {},
   "outputs": [
    {
     "data": {
      "text/plain": [
       "<AxesSubplot:xlabel='day'>"
      ]
     },
     "execution_count": 19,
     "metadata": {},
     "output_type": "execute_result"
    },
    {
     "data": {
      "image/png": "[encoded data removed]",
      "text/plain": [
       "<Figure size 432x288 with 1 Axes>"
      ]
     },
     "metadata": {
      "needs_background": "light"
     },
     "output_type": "display_data"
    }
   ],
   "source": [
    "#nr steno segments per day (across years)\n",
    "df.groupby('day').count()['link_steno'].plot()"
   ]
  },
  {
   "cell_type": "code",
   "execution_count": 18,
   "metadata": {},
   "outputs": [
    {
     "data": {
      "text/plain": [
       "<matplotlib.legend.Legend at 0x1bc9804aa08>"
      ]
     },
     "execution_count": 18,
     "metadata": {},
     "output_type": "execute_result"
    },
    {
     "data": {
      "image/png": "[encoded data removed]",
      "text/plain": [
       "<Figure size 432x288 with 1 Axes>"
      ]
     },
     "metadata": {
      "needs_background": "light"
     },
     "output_type": "display_data"
    }
   ],
   "source": [
    "#nr steno segments per month in each year\n",
    "ax=df.groupby(['month','year']).count()['link_steno'].unstack().plot()\n",
    "ax.legend(bbox_to_anchor=(1.1, 1.05))"
   ]
  },
  {
   "cell_type": "code",
   "execution_count": 19,
   "metadata": {},
   "outputs": [
    {
     "data": {
      "text/plain": [
       "(738, 738)"
      ]
     },
     "execution_count": 19,
     "metadata": {},
     "output_type": "execute_result"
    }
   ],
   "source": [
    "#unique speakers, check if have different capitalization\n",
    "df.speaker.nunique(), df.speaker.str.lower().nunique()"
   ]
  },
  {
   "cell_type": "code",
   "execution_count": 24,
   "metadata": {},
   "outputs": [
    {
     "data": {
      "text/plain": [
       "<AxesSubplot:>"
      ]
     },
     "execution_count": 24,
     "metadata": {},
     "output_type": "execute_result"
    },
    {
     "data": {
      "image/png": "[encoded data removed]",
      "text/plain": [
       "<Figure size 432x288 with 1 Axes>"
      ]
     },
     "metadata": {
      "needs_background": "light"
     },
     "output_type": "display_data"
    }
   ],
   "source": [
    "#nr of steno segments per speaker histogram\n",
    "df.speaker.value_counts().hist(bins=30)"
   ]
  },
  {
   "cell_type": "code",
   "execution_count": 25,
   "metadata": {},
   "outputs": [
    {
     "data": {
      "text/plain": [
       "(289.45997286295795, 48.0)"
      ]
     },
     "execution_count": 25,
     "metadata": {},
     "output_type": "execute_result"
    }
   ],
   "source": [
    "#median and mean steno segments per speaker\n",
    "df.speaker.value_counts().mean(), df.speaker.value_counts().median()"
   ]
  },
  {
   "cell_type": "markdown",
   "metadata": {},
   "source": [
    "## Save"
   ]
  },
  {
   "cell_type": "code",
   "execution_count": 21,
   "metadata": {},
   "outputs": [],
   "source": [
    "df.to_csv('data/interim/stenos.csv',index=False)"
   ]
  },
  {
   "cell_type": "code",
   "execution_count": null,
   "metadata": {},
   "outputs": [],
   "source": []
  }
 ],
 "metadata": {
  "kernelspec": {
   "display_name": "Python 3.7.4 64-bit ('base': conda)",
   "language": "python",
   "name": "python37464bitbaseconda3c2e7dd945fe4d1ba39ed3bbf64cdaac"
  },
  "language_info": {
   "codemirror_mode": {
    "name": "ipython",
    "version": 3
   },
   "file_extension": ".py",
   "mimetype": "text/x-python",
   "name": "python",
   "nbconvert_exporter": "python",
   "pygments_lexer": "ipython3",
   "version": "3.7.4"
  }
 },
 "nbformat": 4,
 "nbformat_minor": 4
}
