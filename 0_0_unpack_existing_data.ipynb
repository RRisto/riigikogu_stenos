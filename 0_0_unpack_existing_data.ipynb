{
 "cells": [
  {
   "cell_type": "code",
   "execution_count": 3,
   "id": "51e96bd5",
   "metadata": {},
   "outputs": [],
   "source": [
    "import py7zr"
   ]
  },
  {
   "cell_type": "markdown",
   "id": "e786dfe7",
   "metadata": {},
   "source": [
    "## Unpack data"
   ]
  },
  {
   "cell_type": "code",
   "execution_count": 7,
   "id": "c0d17f75",
   "metadata": {},
   "outputs": [],
   "source": [
    "archive = py7zr.SevenZipFile('data/interim/stenos_cleaned_topics.7z', mode='r')\n",
    "archive.extractall()\n",
    "archive.close()"
   ]
  }
 ],
 "metadata": {
  "kernelspec": {
   "display_name": "Python 3 (ipykernel)",
   "language": "python",
   "name": "python3"
  },
  "language_info": {
   "codemirror_mode": {
    "name": "ipython",
    "version": 3
   },
   "file_extension": ".py",
   "mimetype": "text/x-python",
   "name": "python",
   "nbconvert_exporter": "python",
   "pygments_lexer": "ipython3",
   "version": "3.7.4"
  }
 },
 "nbformat": 4,
 "nbformat_minor": 5
}
