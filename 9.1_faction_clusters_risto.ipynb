{
 "cells": [
  {
   "cell_type": "code",
   "execution_count": 171,
   "id": "e46232f7-3ebf-4473-9144-cd74ad099f74",
   "metadata": {
    "pycharm": {
     "name": "#%%\n"
    }
   },
   "outputs": [],
   "source": [
    "import pandas as pd\n",
    "import numpy as np\n",
    "import umap\n",
    "from sklearn.feature_extraction.text import CountVectorizer\n",
    "from scipy.stats import spearmanr\n",
    "import matplotlib.pyplot as plt\n",
    "pd.set_option('display.max_colwidth',None)"
   ]
  },
  {
   "cell_type": "markdown",
   "id": "7e7b4ef6-d57f-4278-8b53-85d84186e801",
   "metadata": {
    "pycharm": {
     "name": "#%% md\n"
    }
   },
   "source": [
    "## Data"
   ]
  },
  {
   "cell_type": "code",
   "execution_count": 39,
   "id": "df0af854-e92b-48e7-8541-ba38b3032fb4",
   "metadata": {
    "pycharm": {
     "name": "#%%\n"
    }
   },
   "outputs": [],
   "source": [
    "vec=np.load('data/embeddings/embs_e5.ar.npy',  allow_pickle=True)"
   ]
  },
  {
   "cell_type": "code",
   "execution_count": 40,
   "id": "a4980743-f6b0-4ad4-8a11-5f710b70a83a",
   "metadata": {
    "pycharm": {
     "name": "#%%\n"
    }
   },
   "outputs": [
    {
     "data": {
      "text/plain": [
       "(413761, 768)"
      ]
     },
     "execution_count": 40,
     "metadata": {},
     "output_type": "execute_result"
    }
   ],
   "source": [
    "vec.shape"
   ]
  },
  {
   "cell_type": "code",
   "execution_count": 23,
   "id": "e56954a5-fab0-4eab-a931-df7b9d6d5491",
   "metadata": {
    "pycharm": {
     "name": "#%%\n"
    }
   },
   "outputs": [
    {
     "data": {
      "text/plain": [
       "(413761, 1)"
      ]
     },
     "execution_count": 23,
     "metadata": {},
     "output_type": "execute_result"
    }
   ],
   "source": [
    "texts=pd.read_csv('data/embeddings/embs_text_e5.csv')\n",
    "texts.shape"
   ]
  },
  {
   "cell_type": "code",
   "execution_count": 26,
   "id": "374bec6b-9617-4a5a-be20-0a218c8dd9ef",
   "metadata": {
    "pycharm": {
     "name": "#%%\n"
    }
   },
   "outputs": [],
   "source": [
    "texts_emb=dict()\n",
    "for i, t in enumerate(texts.text_splitted.tolist()):\n",
    "    texts_emb[t]=vec[i]"
   ]
  },
  {
   "cell_type": "code",
   "execution_count": 27,
   "id": "6b4c04b3-6f0a-4708-927f-9ee70fbdeafb",
   "metadata": {
    "pycharm": {
     "name": "#%%\n"
    }
   },
   "outputs": [
    {
     "data": {
      "text/plain": [
       "413761"
      ]
     },
     "execution_count": 27,
     "metadata": {},
     "output_type": "execute_result"
    }
   ],
   "source": [
    "len(texts_emb)"
   ]
  },
  {
   "cell_type": "code",
   "execution_count": 28,
   "id": "1c434ffb-0458-4162-8e42-a25413d362d9",
   "metadata": {
    "pycharm": {
     "name": "#%%\n"
    }
   },
   "outputs": [
    {
     "data": {
      "text/plain": [
       "(465494, 27)"
      ]
     },
     "execution_count": 28,
     "metadata": {},
     "output_type": "execute_result"
    }
   ],
   "source": [
    "df_orig=pd.read_csv('data/raw/stenos_cleaned_faction2022_topics.csv')\n",
    "df_orig.shape"
   ]
  },
  {
   "cell_type": "code",
   "execution_count": 213,
   "id": "c35b072c-3f79-4091-9cf4-b7c2cc2fd051",
   "metadata": {
    "pycharm": {
     "name": "#%%\n"
    }
   },
   "outputs": [
    {
     "data": {
      "text/plain": [
       "0         273_kohaloleku_kontroll_arupärimisi_töönädala\n",
       "1         1243_ettekanne_teostamisel_minutit_tegevusest\n",
       "2          207_ettekanne_sõnavõttudega_minutit_vastused\n",
       "3               139_ammendumiseni_pikendada_kauem_kella\n",
       "4                 1461_maksude_maksud_maksudega_mängita\n",
       "                              ...                      \n",
       "465489                91_jõuluvana_aplaus_naer_luuletus\n",
       "465490                91_jõuluvana_aplaus_naer_luuletus\n",
       "465491                91_jõuluvana_aplaus_naer_luuletus\n",
       "465492                                   -1_ma_te_me_et\n",
       "465493                91_jõuluvana_aplaus_naer_luuletus\n",
       "Name: Name_red_outliers, Length: 465494, dtype: object"
      ]
     },
     "execution_count": 213,
     "metadata": {},
     "output_type": "execute_result"
    }
   ],
   "source": [
    "df_orig.Name_red_outliers"
   ]
  },
  {
   "cell_type": "code",
   "execution_count": 33,
   "id": "4793d687-3f14-473d-8057-68f4c345c07c",
   "metadata": {
    "pycharm": {
     "name": "#%%\n"
    }
   },
   "outputs": [
    {
     "data": {
      "text/plain": [
       "(232059, 27)"
      ]
     },
     "execution_count": 33,
     "metadata": {},
     "output_type": "execute_result"
    }
   ],
   "source": [
    "df_orig[~df_orig.fation.isnull()].shape"
   ]
  },
  {
   "cell_type": "code",
   "execution_count": 35,
   "id": "7ba6beca-05ff-40a4-8e67-39a2471fbaa7",
   "metadata": {
    "pycharm": {
     "name": "#%%\n"
    }
   },
   "outputs": [
    {
     "data": {
      "text/plain": [
       "Eesti Reformierakonna fraktsioon                    50485\n",
       "Eesti Keskerakonna fraktsioon                       48313\n",
       "Eesti Konservatiivse Rahvaerakonna fraktsioon       37919\n",
       "Sotsiaaldemokraatliku Erakonna fraktsioon           31078\n",
       "Isamaa fraktsioon                                   23842\n",
       "Isamaa ja Res Publica Liidu fraktsioon              12894\n",
       "Eesti Vabaerakonna fraktsioon                       11268\n",
       "Fraktsiooni mittekuuluvad saadikud                   7935\n",
       "Fraktsioonidesse mittekuulunud Riigikogu liikmed     5618\n",
       "Erakonna Eestimaa Rohelised fraktsioon               1362\n",
       "Eestimaa Rahvaliidu fraktsioon                       1050\n",
       "Eesti 200 fraktsioon                                  295\n",
       "Name: fation, dtype: int64"
      ]
     },
     "execution_count": 35,
     "metadata": {},
     "output_type": "execute_result"
    }
   ],
   "source": [
    "df_orig.fation.value_counts()"
   ]
  },
  {
   "cell_type": "markdown",
   "id": "5267ad57-34c2-47a5-a705-95b5f6f87671",
   "metadata": {
    "pycharm": {
     "name": "#%% md\n"
    }
   },
   "source": [
    "## Keep some faction texts"
   ]
  },
  {
   "cell_type": "code",
   "execution_count": 69,
   "id": "fcbdce8d-ec9a-4d81-93d0-06058b9fcfb0",
   "metadata": {
    "pycharm": {
     "name": "#%%\n"
    }
   },
   "outputs": [
    {
     "data": {
      "text/plain": [
       "(232059, 27)"
      ]
     },
     "execution_count": 69,
     "metadata": {},
     "output_type": "execute_result"
    }
   ],
   "source": [
    "factions2keep=['Eesti Reformierakonna fraktsioon','Eesti Keskerakonna fraktsioon',\n",
    "               'Eesti Konservatiivse Rahvaerakonna fraktsioon','Sotsiaaldemokraatliku Erakonna fraktsioon',\n",
    "               'Isamaa fraktsioon', 'Isamaa ja Res Publica Liidu fraktsioon', 'Eesti Vabaerakonna fraktsioon',\n",
    "              'Erakonna Eestimaa Rohelised fraktsioon', 'Eestimaa Rahvaliidu fraktsioon',\n",
    "              'Eesti 200 fraktsioon', 'Fraktsiooni mittekuuluvad saadikud',\n",
    "              'Fraktsioonidesse mittekuulunud Riigikogu liikmed']\n",
    "\n",
    "df_orig_faction=df_orig[df_orig.fation.isin(factions2keep)]\n",
    "df_orig_faction.shape"
   ]
  },
  {
   "cell_type": "markdown",
   "id": "eadde360-5f8f-48cc-bd9f-c5aab1dbb8cc",
   "metadata": {
    "pycharm": {
     "name": "#%% md\n"
    }
   },
   "source": [
    "## Calculate attention"
   ]
  },
  {
   "cell_type": "code",
   "execution_count": 70,
   "id": "5dfa00ba-4f00-42df-a043-fc70961204dc",
   "metadata": {
    "pycharm": {
     "name": "#%%\n"
    }
   },
   "outputs": [],
   "source": [
    "import torch\n",
    "import torch.nn as nn\n",
    "import torch.nn.functional as F\n",
    "\n",
    "# Example class for attention-based aggregation of text embeddings\n",
    "class AttentionAggregator(nn.Module):\n",
    "    def __init__(self, embedding_dim):\n",
    "        super(AttentionAggregator, self).__init__()\n",
    "        # Define a linear layer for computing attention scores\n",
    "        self.attention_layer = nn.Linear(embedding_dim, 1)\n",
    "        \n",
    "    def forward(self, embeddings):\n",
    "        \"\"\"\n",
    "        embeddings: Tensor of shape (n_texts, embedding_dim)\n",
    "        This represents the text embeddings for a single speaker.\n",
    "        \"\"\"\n",
    "        # Compute attention scores\n",
    "        attention_scores = self.attention_layer(embeddings)  # Shape: (n_texts, 1)\n",
    "        attention_scores = attention_scores.squeeze(1)  # Shape: (n_texts)\n",
    "        \n",
    "        # Apply softmax to get normalized attention weights\n",
    "        attention_weights = F.softmax(attention_scores, dim=0)  # Shape: (n_texts)\n",
    "        \n",
    "        # Compute the weighted sum of the embeddings\n",
    "        weighted_embeddings = embeddings * attention_weights.unsqueeze(1)  # Shape: (n_texts, embedding_dim)\n",
    "        speaker_embedding = torch.sum(weighted_embeddings, dim=0)  # Shape: (embedding_dim)\n",
    "        \n",
    "        return speaker_embedding, attention_weights"
   ]
  },
  {
   "cell_type": "code",
   "execution_count": 219,
   "id": "128b639c-61ea-4afd-8e52-a3fc1212c08f",
   "metadata": {
    "pycharm": {
     "name": "#%%\n"
    }
   },
   "outputs": [
    {
     "name": "stdout",
     "output_type": "stream",
     "text": [
      "Eesti Reformierakonna fraktsioon\n",
      "no of texts 50485\n",
      "Eesti Keskerakonna fraktsioon\n",
      "no of texts 48313\n",
      "Eesti Konservatiivse Rahvaerakonna fraktsioon\n",
      "no of texts 37919\n",
      "Sotsiaaldemokraatliku Erakonna fraktsioon\n",
      "no of texts 31078\n",
      "Isamaa fraktsioon\n",
      "no of texts 23842\n",
      "Isamaa ja Res Publica Liidu fraktsioon\n",
      "no of texts 12894\n",
      "Eesti Vabaerakonna fraktsioon\n",
      "no of texts 11268\n",
      "Erakonna Eestimaa Rohelised fraktsioon\n",
      "no of texts 1362\n",
      "Eestimaa Rahvaliidu fraktsioon\n",
      "no of texts 1050\n",
      "Eesti 200 fraktsioon\n",
      "no of texts 295\n",
      "Fraktsiooni mittekuuluvad saadikud\n",
      "no of texts 7935\n",
      "Fraktsioonidesse mittekuulunud Riigikogu liikmed\n",
      "no of texts 5618\n"
     ]
    }
   ],
   "source": [
    "faction_emb=dict()\n",
    "faction_weights=dict()\n",
    "faction_texts=dict()\n",
    "embedding_dim = vec.shape[-1]\n",
    "faction_topics=dict()\n",
    "\n",
    "for faction  in factions2keep:\n",
    "    print(faction)\n",
    "    df_fac_=df_orig_faction[df_orig_faction.fation==faction]\n",
    "    texts_=df_fac_.text_splitted\n",
    "    faction_topics[faction]=df_fac_.Name_red_outliers.tolist()\n",
    "    faction_texts[faction]=texts_.copy()\n",
    "    print(f'no of texts {texts_.shape[0]}')\n",
    "    # texts_ids_ = texts[texts['text_splitted'].isin(texts_)].index\n",
    "    # text_embeddings=torch.tensor(vec[texts_ids_])\n",
    "    text_embeddings=torch.tensor(np.array([texts_emb[t] for t in texts_]))\n",
    "\n",
    "    # Create the attention aggregator model\n",
    "    aggregator = AttentionAggregator(embedding_dim)\n",
    "\n",
    "    # Aggregate the embeddings using the attention mechanism\n",
    "    faction_embedding, attention_weights = aggregator(text_embeddings)\n",
    "    faction_emb[faction]=faction_embedding\n",
    "    faction_weights[faction]=attention_weights"
   ]
  },
  {
   "cell_type": "markdown",
   "id": "6eb0793a-d885-4af2-bc14-b44722b70bb2",
   "metadata": {
    "pycharm": {
     "name": "#%% md\n"
    }
   },
   "source": [
    "## plot vectors"
   ]
  },
  {
   "cell_type": "code",
   "execution_count": 204,
   "id": "c28ac993-9ff7-4c80-a48d-a91726be5448",
   "metadata": {
    "pycharm": {
     "name": "#%%\n"
    }
   },
   "outputs": [
    {
     "name": "stderr",
     "output_type": "stream",
     "text": [
      "/home/risto/.local/lib/python3.9/site-packages/umap/umap_.py:1943: UserWarning: n_jobs value -1 overridden to 1 by setting random_state. Use no seed for parallelism.\n",
      "  warn(f\"n_jobs value {self.n_jobs} overridden to 1 by setting random_state. Use no seed for parallelism.\")\n",
      "/home/risto/.local/lib/python3.9/site-packages/umap/umap_.py:2433: UserWarning: n_neighbors is larger than the dataset size; truncating to X.shape[0] - 1\n",
      "  warn(\n"
     ]
    }
   ],
   "source": [
    "faction_emb_ar=np.vstack([faction_emb[faction].detach().numpy() for faction in factions2keep])\n",
    "# Reduce dimensions using UMAP\n",
    "umap_reducer = umap.UMAP(n_components=2, random_state=42)\n",
    "reduced_embeddings = umap_reducer.fit_transform(faction_emb_ar)"
   ]
  },
  {
   "cell_type": "code",
   "execution_count": 205,
   "id": "c040c1ce-d344-4dd8-952b-4b4be188271f",
   "metadata": {
    "pycharm": {
     "name": "#%%\n"
    }
   },
   "outputs": [
    {
     "data": {
      "text/plain": [
       "(12, 768)"
      ]
     },
     "execution_count": 205,
     "metadata": {},
     "output_type": "execute_result"
    }
   ],
   "source": [
    "faction_emb_ar.shape"
   ]
  },
  {
   "cell_type": "code",
   "execution_count": 242,
   "id": "68323a50-ca8a-4bce-9bd4-11fd9d3bdbbe",
   "metadata": {
    "pycharm": {
     "name": "#%%\n"
    }
   },
   "outputs": [
    {
     "data": {
      "image/png": "[encoded data removed]",
      "text/plain": [
       "<Figure size 720x720 with 1 Axes>"
      ]
     },
     "metadata": {
      "needs_background": "light"
     },
     "output_type": "display_data"
    }
   ],
   "source": [
    "# Plot UMAP-reduced data with clusters\n",
    "fig, ax=plt.subplots(figsize=(10,10))\n",
    "plt.scatter(reduced_embeddings[:, 0], reduced_embeddings[:, 1], s=50)\n",
    "# Adding labels to each point\n",
    "for i, label in enumerate(factions2keep):\n",
    "    plt.text(reduced_embeddings[i, 0], reduced_embeddings[i, 1], label, fontsize=9, ha='right')\n",
    "\n",
    "plt.show()\n",
    "plt.show()"
   ]
  },
  {
   "cell_type": "markdown",
   "id": "3d39e7ac-d143-408f-b580-f78f9b6e266a",
   "metadata": {
    "pycharm": {
     "name": "#%% md\n"
    }
   },
   "source": [
    "### try to calculate correlation of x- and y-axis and the word frequency"
   ]
  },
  {
   "cell_type": "code",
   "execution_count": 243,
   "id": "5872910f-bb91-41cd-8646-28ea8d174170",
   "metadata": {
    "pycharm": {
     "name": "#%%\n"
    }
   },
   "outputs": [],
   "source": [
    "def find_word_score_corr(faction_texts, factions2keep, scores):\n",
    "    vectorizer = CountVectorizer(stop_words=None)\n",
    "    X = vectorizer.fit_transform([faction_texts[faction].values[0] for faction in  factions2keep])  # Word count matrix\n",
    "    words = vectorizer.get_feature_names_out()  # Get the list of words\n",
    "\n",
    "    # Step 2: Convert X to a DataFrame for easier analysis\n",
    "    word_counts = pd.DataFrame(X.toarray(), columns=words)\n",
    "\n",
    "    # Step 3: Calculate Correlation between Word Frequency and Score\n",
    "    correlations = {}\n",
    "    for word in words:\n",
    "        word_frequency = word_counts[word]\n",
    "        correlation, _ = spearmanr(word_frequency, scores)  # Spearman correlation between word freq and score\n",
    "        correlations[word] = correlation\n",
    "\n",
    "    # Step 4: Create a DataFrame with words and their correlation with score\n",
    "    correlation_df = pd.DataFrame(list(correlations.items()), columns=['word', 'correlation'])\n",
    "\n",
    "    # Step 5: Sort by correlation to find the words most correlated with high and low scores\n",
    "    correlation_df = correlation_df.sort_values(by='correlation', ascending=False)\n",
    "    return correlation_df"
   ]
  },
  {
   "cell_type": "code",
   "execution_count": 244,
   "id": "f65a417e-c58b-4826-a19b-a6ba99fbe75a",
   "metadata": {
    "pycharm": {
     "name": "#%%\n"
    }
   },
   "outputs": [
    {
     "data": {
      "text/html": [
       "<div>\n",
       "<style scoped>\n",
       "    .dataframe tbody tr th:only-of-type {\n",
       "        vertical-align: middle;\n",
       "    }\n",
       "\n",
       "    .dataframe tbody tr th {\n",
       "        vertical-align: top;\n",
       "    }\n",
       "\n",
       "    .dataframe thead th {\n",
       "        text-align: right;\n",
       "    }\n",
       "</style>\n",
       "<table border=\"1\" class=\"dataframe\">\n",
       "  <thead>\n",
       "    <tr style=\"text-align: right;\">\n",
       "      <th></th>\n",
       "      <th>word</th>\n",
       "      <th>correlation</th>\n",
       "    </tr>\n",
       "  </thead>\n",
       "  <tbody>\n",
       "    <tr>\n",
       "      <th>14</th>\n",
       "      <td>ajal</td>\n",
       "      <td>0.647750</td>\n",
       "    </tr>\n",
       "    <tr>\n",
       "      <th>510</th>\n",
       "      <td>vaja</td>\n",
       "      <td>0.647750</td>\n",
       "    </tr>\n",
       "    <tr>\n",
       "      <th>24</th>\n",
       "      <td>aru</td>\n",
       "      <td>0.582975</td>\n",
       "    </tr>\n",
       "    <tr>\n",
       "      <th>514</th>\n",
       "      <td>valitsus</td>\n",
       "      <td>0.521430</td>\n",
       "    </tr>\n",
       "    <tr>\n",
       "      <th>276</th>\n",
       "      <td>ning</td>\n",
       "      <td>0.518200</td>\n",
       "    </tr>\n",
       "    <tr>\n",
       "      <th>245</th>\n",
       "      <td>minister</td>\n",
       "      <td>0.518200</td>\n",
       "    </tr>\n",
       "    <tr>\n",
       "      <th>571</th>\n",
       "      <td>ütlesite</td>\n",
       "      <td>0.518200</td>\n",
       "    </tr>\n",
       "    <tr>\n",
       "      <th>481</th>\n",
       "      <td>tulumaksu</td>\n",
       "      <td>0.480384</td>\n",
       "    </tr>\n",
       "    <tr>\n",
       "      <th>30</th>\n",
       "      <td>arvestuslikult</td>\n",
       "      <td>0.480384</td>\n",
       "    </tr>\n",
       "    <tr>\n",
       "      <th>219</th>\n",
       "      <td>maksumuudatus</td>\n",
       "      <td>0.480384</td>\n",
       "    </tr>\n",
       "    <tr>\n",
       "      <th>300</th>\n",
       "      <td>ootused</td>\n",
       "      <td>0.480384</td>\n",
       "    </tr>\n",
       "    <tr>\n",
       "      <th>299</th>\n",
       "      <td>ootab</td>\n",
       "      <td>0.480384</td>\n",
       "    </tr>\n",
       "    <tr>\n",
       "      <th>220</th>\n",
       "      <td>maksumuudatusi</td>\n",
       "      <td>0.480384</td>\n",
       "    </tr>\n",
       "    <tr>\n",
       "      <th>222</th>\n",
       "      <td>maksureform</td>\n",
       "      <td>0.480384</td>\n",
       "    </tr>\n",
       "    <tr>\n",
       "      <th>361</th>\n",
       "      <td>riigieelarves</td>\n",
       "      <td>0.480384</td>\n",
       "    </tr>\n",
       "    <tr>\n",
       "      <th>485</th>\n",
       "      <td>tähendabki</td>\n",
       "      <td>0.480384</td>\n",
       "    </tr>\n",
       "    <tr>\n",
       "      <th>257</th>\n",
       "      <td>määr</td>\n",
       "      <td>0.480384</td>\n",
       "    </tr>\n",
       "    <tr>\n",
       "      <th>331</th>\n",
       "      <td>poodi</td>\n",
       "      <td>0.480384</td>\n",
       "    </tr>\n",
       "    <tr>\n",
       "      <th>29</th>\n",
       "      <td>arvates</td>\n",
       "      <td>0.480384</td>\n",
       "    </tr>\n",
       "    <tr>\n",
       "      <th>421</th>\n",
       "      <td>sisetarbimise</td>\n",
       "      <td>0.480384</td>\n",
       "    </tr>\n",
       "    <tr>\n",
       "      <th>422</th>\n",
       "      <td>sissetuleku</td>\n",
       "      <td>0.480384</td>\n",
       "    </tr>\n",
       "    <tr>\n",
       "      <th>424</th>\n",
       "      <td>sisuliselt</td>\n",
       "      <td>0.480384</td>\n",
       "    </tr>\n",
       "    <tr>\n",
       "      <th>457</th>\n",
       "      <td>tehakse</td>\n",
       "      <td>0.480384</td>\n",
       "    </tr>\n",
       "    <tr>\n",
       "      <th>454</th>\n",
       "      <td>teenusekeskusesse</td>\n",
       "      <td>0.480384</td>\n",
       "    </tr>\n",
       "    <tr>\n",
       "      <th>239</th>\n",
       "      <td>miljonit</td>\n",
       "      <td>0.480384</td>\n",
       "    </tr>\n",
       "    <tr>\n",
       "      <th>343</th>\n",
       "      <td>põhjalikke</td>\n",
       "      <td>0.480384</td>\n",
       "    </tr>\n",
       "    <tr>\n",
       "      <th>254</th>\n",
       "      <td>muutub</td>\n",
       "      <td>0.480384</td>\n",
       "    </tr>\n",
       "    <tr>\n",
       "      <th>255</th>\n",
       "      <td>muutusi</td>\n",
       "      <td>0.480384</td>\n",
       "    </tr>\n",
       "    <tr>\n",
       "      <th>121</th>\n",
       "      <td>järgi</td>\n",
       "      <td>0.480384</td>\n",
       "    </tr>\n",
       "    <tr>\n",
       "      <th>433</th>\n",
       "      <td>suurendamiseks</td>\n",
       "      <td>0.480384</td>\n",
       "    </tr>\n",
       "  </tbody>\n",
       "</table>\n",
       "</div>"
      ],
      "text/plain": [
       "                  word  correlation\n",
       "14                ajal     0.647750\n",
       "510               vaja     0.647750\n",
       "24                 aru     0.582975\n",
       "514           valitsus     0.521430\n",
       "276               ning     0.518200\n",
       "245           minister     0.518200\n",
       "571           ütlesite     0.518200\n",
       "481          tulumaksu     0.480384\n",
       "30      arvestuslikult     0.480384\n",
       "219      maksumuudatus     0.480384\n",
       "300            ootused     0.480384\n",
       "299              ootab     0.480384\n",
       "220     maksumuudatusi     0.480384\n",
       "222        maksureform     0.480384\n",
       "361      riigieelarves     0.480384\n",
       "485         tähendabki     0.480384\n",
       "257               määr     0.480384\n",
       "331              poodi     0.480384\n",
       "29             arvates     0.480384\n",
       "421      sisetarbimise     0.480384\n",
       "422        sissetuleku     0.480384\n",
       "424         sisuliselt     0.480384\n",
       "457            tehakse     0.480384\n",
       "454  teenusekeskusesse     0.480384\n",
       "239           miljonit     0.480384\n",
       "343         põhjalikke     0.480384\n",
       "254             muutub     0.480384\n",
       "255            muutusi     0.480384\n",
       "121              järgi     0.480384\n",
       "433     suurendamiseks     0.480384"
      ]
     },
     "execution_count": 244,
     "metadata": {},
     "output_type": "execute_result"
    }
   ],
   "source": [
    "find_word_score_corr(faction_texts, factions2keep, reduced_embeddings[:, 0]).head(30)"
   ]
  },
  {
   "cell_type": "code",
   "execution_count": 245,
   "id": "d43657d5-d675-4502-808d-fcdc7d0c1a1b",
   "metadata": {
    "pycharm": {
     "name": "#%%\n"
    }
   },
   "outputs": [
    {
     "data": {
      "text/html": [
       "<div>\n",
       "<style scoped>\n",
       "    .dataframe tbody tr th:only-of-type {\n",
       "        vertical-align: middle;\n",
       "    }\n",
       "\n",
       "    .dataframe tbody tr th {\n",
       "        vertical-align: top;\n",
       "    }\n",
       "\n",
       "    .dataframe thead th {\n",
       "        text-align: right;\n",
       "    }\n",
       "</style>\n",
       "<table border=\"1\" class=\"dataframe\">\n",
       "  <thead>\n",
       "    <tr style=\"text-align: right;\">\n",
       "      <th></th>\n",
       "      <th>word</th>\n",
       "      <th>correlation</th>\n",
       "    </tr>\n",
       "  </thead>\n",
       "  <tbody>\n",
       "    <tr>\n",
       "      <th>337</th>\n",
       "      <td>proua</td>\n",
       "      <td>0.647750</td>\n",
       "    </tr>\n",
       "    <tr>\n",
       "      <th>90</th>\n",
       "      <td>euroopa</td>\n",
       "      <td>0.614990</td>\n",
       "    </tr>\n",
       "    <tr>\n",
       "      <th>72</th>\n",
       "      <td>enne</td>\n",
       "      <td>0.582975</td>\n",
       "    </tr>\n",
       "    <tr>\n",
       "      <th>520</th>\n",
       "      <td>vastu</td>\n",
       "      <td>0.521430</td>\n",
       "    </tr>\n",
       "    <tr>\n",
       "      <th>319</th>\n",
       "      <td>pensioniiga</td>\n",
       "      <td>0.510679</td>\n",
       "    </tr>\n",
       "    <tr>\n",
       "      <th>50</th>\n",
       "      <td>eelarveläbirääkimist</td>\n",
       "      <td>0.480384</td>\n",
       "    </tr>\n",
       "    <tr>\n",
       "      <th>297</th>\n",
       "      <td>omavahendeid</td>\n",
       "      <td>0.480384</td>\n",
       "    </tr>\n",
       "    <tr>\n",
       "      <th>526</th>\n",
       "      <td>veel</td>\n",
       "      <td>0.480384</td>\n",
       "    </tr>\n",
       "    <tr>\n",
       "      <th>151</th>\n",
       "      <td>kontekstis</td>\n",
       "      <td>0.480384</td>\n",
       "    </tr>\n",
       "    <tr>\n",
       "      <th>524</th>\n",
       "      <td>vastuvõetavad</td>\n",
       "      <td>0.480384</td>\n",
       "    </tr>\n",
       "    <tr>\n",
       "      <th>139</th>\n",
       "      <td>kevad</td>\n",
       "      <td>0.480384</td>\n",
       "    </tr>\n",
       "    <tr>\n",
       "      <th>511</th>\n",
       "      <td>vajab</td>\n",
       "      <td>0.480384</td>\n",
       "    </tr>\n",
       "    <tr>\n",
       "      <th>469</th>\n",
       "      <td>toetama</td>\n",
       "      <td>0.480384</td>\n",
       "    </tr>\n",
       "    <tr>\n",
       "      <th>259</th>\n",
       "      <td>mõistlikud</td>\n",
       "      <td>0.480384</td>\n",
       "    </tr>\n",
       "    <tr>\n",
       "      <th>349</th>\n",
       "      <td>püsti</td>\n",
       "      <td>0.480384</td>\n",
       "    </tr>\n",
       "    <tr>\n",
       "      <th>49</th>\n",
       "      <td>eelarve</td>\n",
       "      <td>0.480384</td>\n",
       "    </tr>\n",
       "    <tr>\n",
       "      <th>52</th>\n",
       "      <td>eelarvest</td>\n",
       "      <td>0.480384</td>\n",
       "    </tr>\n",
       "    <tr>\n",
       "      <th>51</th>\n",
       "      <td>eelarveperioodi</td>\n",
       "      <td>0.480384</td>\n",
       "    </tr>\n",
       "    <tr>\n",
       "      <th>249</th>\n",
       "      <td>missugused</td>\n",
       "      <td>0.480384</td>\n",
       "    </tr>\n",
       "    <tr>\n",
       "      <th>262</th>\n",
       "      <td>mõne</td>\n",
       "      <td>0.480384</td>\n",
       "    </tr>\n",
       "    <tr>\n",
       "      <th>478</th>\n",
       "      <td>tulevad</td>\n",
       "      <td>0.480384</td>\n",
       "    </tr>\n",
       "    <tr>\n",
       "      <th>482</th>\n",
       "      <td>tulusid</td>\n",
       "      <td>0.480384</td>\n",
       "    </tr>\n",
       "    <tr>\n",
       "      <th>61</th>\n",
       "      <td>eestile</td>\n",
       "      <td>0.480384</td>\n",
       "    </tr>\n",
       "    <tr>\n",
       "      <th>64</th>\n",
       "      <td>ehk</td>\n",
       "      <td>0.480384</td>\n",
       "    </tr>\n",
       "    <tr>\n",
       "      <th>283</th>\n",
       "      <td>oleksid</td>\n",
       "      <td>0.480384</td>\n",
       "    </tr>\n",
       "    <tr>\n",
       "      <th>507</th>\n",
       "      <td>uut</td>\n",
       "      <td>0.480384</td>\n",
       "    </tr>\n",
       "    <tr>\n",
       "      <th>91</th>\n",
       "      <td>euroopaüleselt</td>\n",
       "      <td>0.480384</td>\n",
       "    </tr>\n",
       "    <tr>\n",
       "      <th>85</th>\n",
       "      <td>ettepanekud</td>\n",
       "      <td>0.480384</td>\n",
       "    </tr>\n",
       "    <tr>\n",
       "      <th>156</th>\n",
       "      <td>kott</td>\n",
       "      <td>0.480384</td>\n",
       "    </tr>\n",
       "    <tr>\n",
       "      <th>216</th>\n",
       "      <td>maksud</td>\n",
       "      <td>0.480384</td>\n",
       "    </tr>\n",
       "  </tbody>\n",
       "</table>\n",
       "</div>"
      ],
      "text/plain": [
       "                     word  correlation\n",
       "337                 proua     0.647750\n",
       "90                euroopa     0.614990\n",
       "72                   enne     0.582975\n",
       "520                 vastu     0.521430\n",
       "319           pensioniiga     0.510679\n",
       "50   eelarveläbirääkimist     0.480384\n",
       "297          omavahendeid     0.480384\n",
       "526                  veel     0.480384\n",
       "151            kontekstis     0.480384\n",
       "524         vastuvõetavad     0.480384\n",
       "139                 kevad     0.480384\n",
       "511                 vajab     0.480384\n",
       "469               toetama     0.480384\n",
       "259            mõistlikud     0.480384\n",
       "349                 püsti     0.480384\n",
       "49                eelarve     0.480384\n",
       "52              eelarvest     0.480384\n",
       "51        eelarveperioodi     0.480384\n",
       "249            missugused     0.480384\n",
       "262                  mõne     0.480384\n",
       "478               tulevad     0.480384\n",
       "482               tulusid     0.480384\n",
       "61                eestile     0.480384\n",
       "64                    ehk     0.480384\n",
       "283               oleksid     0.480384\n",
       "507                   uut     0.480384\n",
       "91         euroopaüleselt     0.480384\n",
       "85            ettepanekud     0.480384\n",
       "156                  kott     0.480384\n",
       "216                maksud     0.480384"
      ]
     },
     "execution_count": 245,
     "metadata": {},
     "output_type": "execute_result"
    }
   ],
   "source": [
    "find_word_score_corr(faction_texts, factions2keep, reduced_embeddings[:, 1]).head(30)"
   ]
  },
  {
   "cell_type": "markdown",
   "id": "c36d558f-e5fd-4884-90e3-25188719f82f",
   "metadata": {
    "pycharm": {
     "name": "#%% md\n"
    }
   },
   "source": [
    "### find x and y score and topic relationship"
   ]
  },
  {
   "cell_type": "code",
   "execution_count": 246,
   "id": "4e4f7660-f518-41e1-ab5e-aac407942fc8",
   "metadata": {
    "pycharm": {
     "name": "#%%\n"
    }
   },
   "outputs": [],
   "source": [
    "# faction_topics_l=[faction_topics[faction] for faction in  factions2keep]\n",
    "# faction_topics_l_flat=[item for sublist in faction_topics_l for item in sublist]\n",
    "\n",
    "df_scores=pd.DataFrame()\n",
    "for i, faction in enumerate(factions2keep):\n",
    "    faction_topics_l_=faction_topics[faction]\n",
    "    faction_scores=reduced_embeddings[i, 0]\n",
    "    df_score_=pd.DataFrame({'topic':faction_topics_l_, 'score':[faction_scores for _ in range(len(faction_topics_l_))]})\n",
    "    df_scores=pd.concat([df_scores, df_score_], axis=0)"
   ]
  },
  {
   "cell_type": "code",
   "execution_count": 247,
   "id": "68606607-d173-422f-b216-95b48ce85099",
   "metadata": {
    "pycharm": {
     "name": "#%%\n"
    }
   },
   "outputs": [
    {
     "data": {
      "text/plain": [
       "topic\n",
       "346_määranud_seisukohtade_edastanud_arvamuse                   3.103867\n",
       "1064_kallas_kaja_küsija_aeg                                    3.103867\n",
       "1582_pakosta_ly_liisa_jents                                    3.103867\n",
       "975_kütust_paagis_auto_piiri                                   2.927336\n",
       "1084_menetleja_väärteo_väärteomenetluse_kohtuvälise            2.903566\n",
       "                                                                 ...   \n",
       "303_hääletamissedeli_sedeli_valimiskomisjon_hääletamiskasti    0.544724\n",
       "87_esindab_menetlemisel_valitsust_algatab                      0.544724\n",
       "1102_jänese_vastamiseks_lukase_teadusminister                  0.544724\n",
       "502_ettekanne_suulise_elluviimisest_lõppemisel                 0.544724\n",
       "259_helme_martin_lisaküsimus_mart                              0.544724\n",
       "Name: score, Length: 1635, dtype: float32"
      ]
     },
     "execution_count": 247,
     "metadata": {},
     "output_type": "execute_result"
    }
   ],
   "source": [
    "df_scores.groupby('topic').score.mean().sort_values(ascending=False)"
   ]
  },
  {
   "cell_type": "code",
   "execution_count": 248,
   "id": "a2e7e689-96c3-49e2-8518-99c4acbb4e01",
   "metadata": {
    "pycharm": {
     "name": "#%%\n"
    }
   },
   "outputs": [
    {
     "data": {
      "text/plain": [
       "topic\n",
       "751_ligil_jürgen_protseduuriline_ligi          14.842293\n",
       "1766_kohaloleku_kontroll_viime_kontrolli       14.842293\n",
       "1227_laurson_peeter_järvekaitse_laursonilt     14.842293\n",
       "1871_kersna_liina_täpsustav_osalete            14.842293\n",
       "1725_aller_järgnevalt_arvo_belobrovtsev        14.842293\n",
       "                                                 ...    \n",
       "524_kruuse_urmas_kruusel_täpsustav             12.537503\n",
       "1717_of_and_sex_the                            12.537503\n",
       "237_kert_kingo_kingol_protseduuriline          12.537503\n",
       "1600_toiduabi_fairtrade_rainforest_alliance    12.537503\n",
       "547_lõpetan_liikmetel_soovi_käsitlemise        12.537503\n",
       "Name: score, Length: 1635, dtype: float32"
      ]
     },
     "execution_count": 248,
     "metadata": {},
     "output_type": "execute_result"
    }
   ],
   "source": [
    "df_scores=pd.DataFrame()\n",
    "for i, faction in enumerate(factions2keep):\n",
    "    faction_topics_l_=faction_topics[faction]\n",
    "    faction_scores=reduced_embeddings[i, 1]\n",
    "    df_score_=pd.DataFrame({'topic':faction_topics_l_, 'score':[faction_scores for _ in range(len(faction_topics_l_))]})\n",
    "    df_scores=pd.concat([df_scores, df_score_], axis=0)\n",
    "    \n",
    "df_scores.groupby('topic').score.mean().sort_values(ascending=False)"
   ]
  },
  {
   "cell_type": "markdown",
   "id": "09983ff5-aeb8-444b-92c8-6e0696963712",
   "metadata": {
    "pycharm": {
     "name": "#%% md\n"
    }
   },
   "source": [
    "### see most important texts for each faction"
   ]
  },
  {
   "cell_type": "code",
   "execution_count": 249,
   "id": "1ea41a08-2c3b-481a-84d0-bf2227345bf0",
   "metadata": {
    "pycharm": {
     "name": "#%%\n"
    }
   },
   "outputs": [],
   "source": [
    "def show_mostimportant_faction_texts(faction, faction_texts, faction_weights, n=10):\n",
    "    indices=faction_weights[faction].sort(descending=True).indices\n",
    "    return faction_texts[faction].reset_index().iloc[indices.numpy()].head(n)"
   ]
  },
  {
   "cell_type": "code",
   "execution_count": 250,
   "id": "cf91af8a-a7fc-44a3-a62d-7316010974fe",
   "metadata": {
    "pycharm": {
     "name": "#%%\n"
    }
   },
   "outputs": [
    {
     "data": {
      "text/html": [
       "<div>\n",
       "<style scoped>\n",
       "    .dataframe tbody tr th:only-of-type {\n",
       "        vertical-align: middle;\n",
       "    }\n",
       "\n",
       "    .dataframe tbody tr th {\n",
       "        vertical-align: top;\n",
       "    }\n",
       "\n",
       "    .dataframe thead th {\n",
       "        text-align: right;\n",
       "    }\n",
       "</style>\n",
       "<table border=\"1\" class=\"dataframe\">\n",
       "  <thead>\n",
       "    <tr style=\"text-align: right;\">\n",
       "      <th></th>\n",
       "      <th>index</th>\n",
       "      <th>text_splitted</th>\n",
       "    </tr>\n",
       "  </thead>\n",
       "  <tbody>\n",
       "    <tr>\n",
       "      <th>36881</th>\n",
       "      <td>317344</td>\n",
       "      <td>n-ö vaba rahaga mida valitsus saab poliitiliste prioriteetide järgi ümber suunata on see summa päris suur järgmise aasta eelarvele on iseloomulik veel see et maksutulud on koondatud kokku ühte aastasse seda tehakse mitme meetmega kõigepealt on aktsiisitulusid ajatatud nii et nad maksimaalselt laekuks järgmisel aastal uus pankade maksustamise kord toob maksukohustust ettepoole kuna pangad hakkavad maksu maksma teenitud kasumilt samuti on ettevõtjatel võimalik tulevikus saada soodsamat dividendimäära kui nad järgmistel aastatel maksavad rohkem dividende st ka dividendide maksmine tuuakse ettepoole</td>\n",
       "    </tr>\n",
       "    <tr>\n",
       "      <th>43870</th>\n",
       "      <td>380266</td>\n",
       "      <td>on igal juhul vaba küsimus on selles kas me näeme seal enamat kui ideoloogia on see et riigipühad on vabad päevad selleks et neid tähistada siis nagu probleemi ei ole aga küsimus on selles kas sellega ikkagi kaasneb ootus et selle võiks asendada täiendava vaba päevaga see on selle eelnõu küsimus see on kindlasti diskussiooni koht aga justiitsministeerium ja muide ka sotsiaalministeerium juhtis tähelepanu sellele et kui on eesmärk pühi tähistada siis seda takistust ei ole see üks päev on</td>\n",
       "    </tr>\n",
       "    <tr>\n",
       "      <th>6819</th>\n",
       "      <td>63806</td>\n",
       "      <td>aitäh hea eesistuja lugupeetud minister ettevõtjana te kindlasti teate et kohustused ehk siis võlad ei anna ettevõtte seisust kogupilti oluline on ka see millised on ettevõtte varad kui me nüüd vaatame riigi varasid ja riigi kohustusi siis me näeme et kuigi võlad on hakanud tasapisi justkui vähenema on varade vähenemine olnud nii kiire et netokohustuste hulk kasvab enam kui kaks korda kui ettevõtetega juhtuks sama siis võlausaldajad muutuksid eriti tähelepanelikuks ja eriti kurjaks nii et laenu enam ei antaks halvimal</td>\n",
       "    </tr>\n",
       "    <tr>\n",
       "      <th>4186</th>\n",
       "      <td>38837</td>\n",
       "      <td>õiguslik raamistik mis on seotud elektrituru avanemisega 2013. aastal mis puudutab esimest eesmärki põhivõrgu juhtimist siis on ka avalikkuse eest juba läbi käinud eelnõu raames seatav kohustus et eesti energia ja põhivõrguettevõtja elering ei tohi enam järgmise aasta 1. maist kuuluda sama ministeeriumi haldusalasse et aktsiate valitsejat tuleb muuta olgu öeldud et selle seadusega me ei ütle millise ministeeriumi haldusalasse milline ettevõte kuuluma peab selle otsuse peab valitsus langetama ise minister kinnitas komisjonis et sellekohane analüüs on tegemisel kõige olulisem</td>\n",
       "    </tr>\n",
       "    <tr>\n",
       "      <th>17407</th>\n",
       "      <td>152613</td>\n",
       "      <td>ei või kuna tegemist on riigikogu kodu- ja töökorra seaduse muutmisega</td>\n",
       "    </tr>\n",
       "    <tr>\n",
       "      <th>40007</th>\n",
       "      <td>347949</td>\n",
       "      <td>vähem bürokraatlikumaks muutuma mil moel ja millal need kergendused tulevad ja mis on teie sõnum ettevõtjatele peale selle et makske võimalikult palju makse ära</td>\n",
       "    </tr>\n",
       "    <tr>\n",
       "      <th>35586</th>\n",
       "      <td>308823</td>\n",
       "      <td>tsiviilkohtumenetluse seadustiku ja täitemenetluse seadustiku rakendamise seaduse ning tsiviilseadustiku üldosa seaduse muutmise seaduse eelnõu 713 tekstiga mille valmistas ette riigikogu õiguskomisjon ja seletuskiri vastab põhiosas sellesama eelnõu 713 algteksti seletuskirjale kuna see valitsuse eelnõu oli äsja riigikogu menetluses siis ei hakka ma väga pikalt üle kordama eesmärke mida me üritame selle seaduseelnõuga saavutada peamine põhjus on aga kindlasti laenuvõtja kaitsmine ebamõistlikult kõrge krediidi kulukuse määra eest et laenuandjal ei oleks võimalik ära kasutada laenuvõtja sellist situatsiooni kus ta on hätta</td>\n",
       "    </tr>\n",
       "    <tr>\n",
       "      <th>43502</th>\n",
       "      <td>375544</td>\n",
       "      <td>tekib valimiste järel vähemalt paar aastat poliitika rakendamise aega ja siis järgneb n-ö vahevalimise aasta näiteks euroopa parlamendi valimiste näol loodetavasti kasvab seetõttu ka valimisaktiivsus euroopa parlamendi valimistel nii et vahevalimisteks tuleb uue korra järgi pidadagi teisi valimisi mis siis järgnevad annan nüüd teile ülevaate ka paragrahvidest mida algatajad plaanivad muuta esiteks algatajate ettepanek on sõnastada põhiseaduse § 60 lõige 3 järgmiselt riigikogu korralised valimised toimuvad märtsikuu esimesel pühapäeval neljandal aastal mis järgneb riigikogu eelmiste korraliste valimiste aastale. erinevus praegusest</td>\n",
       "    </tr>\n",
       "    <tr>\n",
       "      <th>31840</th>\n",
       "      <td>275515</td>\n",
       "      <td>esimene lugemine toimus 11. juunil muudatusettepanekute esitamise tähtajaks määrati 17. juuni kell 17 ja esitati üks muudatusettepanek see oli eesti keskerakonna fraktsiooni oma vabariigi valitsus esitas toetava seisukoha ja eelnõu kohta andis oma arvamuse ka eesti energia as majanduskomisjoni töörühm valmistas eelnõu komisjoni istungil menetlemist ette oma nõupidamisel 18. juunil kus osalesid ka majandus- ja kommunikatsiooniministeeriumi esindajad komisjon arutas eelnõu teise lugemise ettevalmistamist 19. juuni istungil kus osalesid samuti majandus- ja kommunikatsiooniministeeriumi esindajad komisjon otsustas teha neli muudatusettepanekut need kõik</td>\n",
       "    </tr>\n",
       "    <tr>\n",
       "      <th>7113</th>\n",
       "      <td>66736</td>\n",
       "      <td>kirjutatu ei ole justkui sellele ametikohale määramisel oluline</td>\n",
       "    </tr>\n",
       "  </tbody>\n",
       "</table>\n",
       "</div>"
      ],
      "text/plain": [
       "        index  \\\n",
       "36881  317344   \n",
       "43870  380266   \n",
       "6819    63806   \n",
       "4186    38837   \n",
       "17407  152613   \n",
       "40007  347949   \n",
       "35586  308823   \n",
       "43502  375544   \n",
       "31840  275515   \n",
       "7113    66736   \n",
       "\n",
       "                                                                                                                                                                                                                                                                                                                                                                                                                                                                                                                                                                                                                                                                           text_splitted  \n",
       "36881                                                         n-ö vaba rahaga mida valitsus saab poliitiliste prioriteetide järgi ümber suunata on see summa päris suur järgmise aasta eelarvele on iseloomulik veel see et maksutulud on koondatud kokku ühte aastasse seda tehakse mitme meetmega kõigepealt on aktsiisitulusid ajatatud nii et nad maksimaalselt laekuks järgmisel aastal uus pankade maksustamise kord toob maksukohustust ettepoole kuna pangad hakkavad maksu maksma teenitud kasumilt samuti on ettevõtjatel võimalik tulevikus saada soodsamat dividendimäära kui nad järgmistel aastatel maksavad rohkem dividende st ka dividendide maksmine tuuakse ettepoole  \n",
       "43870                                                                                                                                                                        on igal juhul vaba küsimus on selles kas me näeme seal enamat kui ideoloogia on see et riigipühad on vabad päevad selleks et neid tähistada siis nagu probleemi ei ole aga küsimus on selles kas sellega ikkagi kaasneb ootus et selle võiks asendada täiendava vaba päevaga see on selle eelnõu küsimus see on kindlasti diskussiooni koht aga justiitsministeerium ja muide ka sotsiaalministeerium juhtis tähelepanu sellele et kui on eesmärk pühi tähistada siis seda takistust ei ole see üks päev on  \n",
       "6819                                                                                                                                         aitäh hea eesistuja lugupeetud minister ettevõtjana te kindlasti teate et kohustused ehk siis võlad ei anna ettevõtte seisust kogupilti oluline on ka see millised on ettevõtte varad kui me nüüd vaatame riigi varasid ja riigi kohustusi siis me näeme et kuigi võlad on hakanud tasapisi justkui vähenema on varade vähenemine olnud nii kiire et netokohustuste hulk kasvab enam kui kaks korda kui ettevõtetega juhtuks sama siis võlausaldajad muutuksid eriti tähelepanelikuks ja eriti kurjaks nii et laenu enam ei antaks halvimal  \n",
       "4186                                                                                õiguslik raamistik mis on seotud elektrituru avanemisega 2013. aastal mis puudutab esimest eesmärki põhivõrgu juhtimist siis on ka avalikkuse eest juba läbi käinud eelnõu raames seatav kohustus et eesti energia ja põhivõrguettevõtja elering ei tohi enam järgmise aasta 1. maist kuuluda sama ministeeriumi haldusalasse et aktsiate valitsejat tuleb muuta olgu öeldud et selle seadusega me ei ütle millise ministeeriumi haldusalasse milline ettevõte kuuluma peab selle otsuse peab valitsus langetama ise minister kinnitas komisjonis et sellekohane analüüs on tegemisel kõige olulisem  \n",
       "17407                                                                                                                                                                                                                                                                                                                                                                                                                                                                                                                                                                                                             ei või kuna tegemist on riigikogu kodu- ja töökorra seaduse muutmisega  \n",
       "40007                                                                                                                                                                                                                                                                                                                                                                                                                                                                                                                   vähem bürokraatlikumaks muutuma mil moel ja millal need kergendused tulevad ja mis on teie sõnum ettevõtjatele peale selle et makske võimalikult palju makse ära  \n",
       "35586                               tsiviilkohtumenetluse seadustiku ja täitemenetluse seadustiku rakendamise seaduse ning tsiviilseadustiku üldosa seaduse muutmise seaduse eelnõu 713 tekstiga mille valmistas ette riigikogu õiguskomisjon ja seletuskiri vastab põhiosas sellesama eelnõu 713 algteksti seletuskirjale kuna see valitsuse eelnõu oli äsja riigikogu menetluses siis ei hakka ma väga pikalt üle kordama eesmärke mida me üritame selle seaduseelnõuga saavutada peamine põhjus on aga kindlasti laenuvõtja kaitsmine ebamõistlikult kõrge krediidi kulukuse määra eest et laenuandjal ei oleks võimalik ära kasutada laenuvõtja sellist situatsiooni kus ta on hätta  \n",
       "43502                     tekib valimiste järel vähemalt paar aastat poliitika rakendamise aega ja siis järgneb n-ö vahevalimise aasta näiteks euroopa parlamendi valimiste näol loodetavasti kasvab seetõttu ka valimisaktiivsus euroopa parlamendi valimistel nii et vahevalimisteks tuleb uue korra järgi pidadagi teisi valimisi mis siis järgnevad annan nüüd teile ülevaate ka paragrahvidest mida algatajad plaanivad muuta esiteks algatajate ettepanek on sõnastada põhiseaduse § 60 lõige 3 järgmiselt riigikogu korralised valimised toimuvad märtsikuu esimesel pühapäeval neljandal aastal mis järgneb riigikogu eelmiste korraliste valimiste aastale. erinevus praegusest  \n",
       "31840  esimene lugemine toimus 11. juunil muudatusettepanekute esitamise tähtajaks määrati 17. juuni kell 17 ja esitati üks muudatusettepanek see oli eesti keskerakonna fraktsiooni oma vabariigi valitsus esitas toetava seisukoha ja eelnõu kohta andis oma arvamuse ka eesti energia as majanduskomisjoni töörühm valmistas eelnõu komisjoni istungil menetlemist ette oma nõupidamisel 18. juunil kus osalesid ka majandus- ja kommunikatsiooniministeeriumi esindajad komisjon arutas eelnõu teise lugemise ettevalmistamist 19. juuni istungil kus osalesid samuti majandus- ja kommunikatsiooniministeeriumi esindajad komisjon otsustas teha neli muudatusettepanekut need kõik  \n",
       "7113                                                                                                                                                                                                                                                                                                                                                                                                                                                                                                                                                                                                                     kirjutatu ei ole justkui sellele ametikohale määramisel oluline  "
      ]
     },
     "execution_count": 250,
     "metadata": {},
     "output_type": "execute_result"
    }
   ],
   "source": [
    "show_mostimportant_faction_texts('Eesti Reformierakonna fraktsioon', faction_texts, faction_weights)"
   ]
  },
  {
   "cell_type": "code",
   "execution_count": 251,
   "id": "b2f7ef63-b0ba-4b7d-ad73-e8ae156dce45",
   "metadata": {
    "pycharm": {
     "name": "#%%\n"
    }
   },
   "outputs": [
    {
     "data": {
      "text/html": [
       "<div>\n",
       "<style scoped>\n",
       "    .dataframe tbody tr th:only-of-type {\n",
       "        vertical-align: middle;\n",
       "    }\n",
       "\n",
       "    .dataframe tbody tr th {\n",
       "        vertical-align: top;\n",
       "    }\n",
       "\n",
       "    .dataframe thead th {\n",
       "        text-align: right;\n",
       "    }\n",
       "</style>\n",
       "<table border=\"1\" class=\"dataframe\">\n",
       "  <thead>\n",
       "    <tr style=\"text-align: right;\">\n",
       "      <th></th>\n",
       "      <th>index</th>\n",
       "      <th>text_splitted</th>\n",
       "    </tr>\n",
       "  </thead>\n",
       "  <tbody>\n",
       "    <tr>\n",
       "      <th>19280</th>\n",
       "      <td>180235</td>\n",
       "      <td>et kristen michal suudab anda neile adekvaatsed vastused aitäh</td>\n",
       "    </tr>\n",
       "    <tr>\n",
       "      <th>32233</th>\n",
       "      <td>289166</td>\n",
       "      <td>tihtipeale teatud väikesed iseärasused ja nad ei saa sellega võib-olla alati hakkama kas on ka mingi lahendus loovisikute jaoks kes ei kuulu loomeliitu</td>\n",
       "    </tr>\n",
       "    <tr>\n",
       "      <th>10886</th>\n",
       "      <td>98421</td>\n",
       "      <td>ei sisalda see peatükk teiste rahvusvähemuste kultuuripärandi väärtustamise sätet kas nende mitte-eestlaste panus eesti kultuuriajalikku kes ei kuulu ülalnimetatud rahvusgruppidesse ei vääri tunnustamist ja tuge</td>\n",
       "    </tr>\n",
       "    <tr>\n",
       "      <th>27641</th>\n",
       "      <td>247575</td>\n",
       "      <td>kuidas sellesse elektroonilisse abieluvarasüsteemi puhtpraktiliselt neid andmeid sisse kantakse veel üks konkreetne küsimus kas mõlemad abielupooled peavad kohal olema</td>\n",
       "    </tr>\n",
       "    <tr>\n",
       "      <th>13695</th>\n",
       "      <td>123239</td>\n",
       "      <td>kanna pimeda ajal helkurit ja temaga midagi juhtub</td>\n",
       "    </tr>\n",
       "    <tr>\n",
       "      <th>22690</th>\n",
       "      <td>206302</td>\n",
       "      <td>lugupeetud eesistuja esineja küsis minult kus ma olin kas ma pean sellele küsimusele vastama ja kas ma võin sellele vastata</td>\n",
       "    </tr>\n",
       "    <tr>\n",
       "      <th>25799</th>\n",
       "      <td>232566</td>\n",
       "      <td>ma lähtun sellele vastates pigem oma elukogemustest ma ei kujuta ette maksuhaldurit kes n-ö käigu pealt ütleme kui auto kiirus on 60 kilomeetrit tunnis hakkab tehnikaga sekeldama pildistama või ühest autost teise hüppama seepärast eeldan 99% tõenäosusega et tegemist on seisva sõidukiga</td>\n",
       "    </tr>\n",
       "    <tr>\n",
       "      <th>45127</th>\n",
       "      <td>426636</td>\n",
       "      <td>tänan juhataja hea üllar ma küsin jätkuvalt eesti lipu seltsi kohta kuna ka esineja pinginaaber tarmo kruusimäe on selle seltsi liige siis võib-olla on ka kuluaarides või pingis omavahel arutatud kui hea mõte on kirjanike päeva puhul lippu heiskama hakata mitte seda ma ei taha öelda et see oleks mingi halb mõte lihtsalt kuna siin oli juttu juubelitest siis mulle tuli ootamatult meelde et järgmisel aastal kui võib-olla on esimene lipupäev on 90 aastat möödas hoopis ühest teisest sündmusest mille</td>\n",
       "    </tr>\n",
       "    <tr>\n",
       "      <th>31539</th>\n",
       "      <td>282892</td>\n",
       "      <td>lugupeetud istungi juhataja kas te juhiksite vastaja tähelepanu küsimusele mida küsija küsis ja kas te jälgite istungi juhatajana et vastaja vastaks küsimusele mida küsija on küsinud</td>\n",
       "    </tr>\n",
       "    <tr>\n",
       "      <th>3768</th>\n",
       "      <td>32842</td>\n",
       "      <td>siis hakatakse neid pühasid arutama</td>\n",
       "    </tr>\n",
       "  </tbody>\n",
       "</table>\n",
       "</div>"
      ],
      "text/plain": [
       "        index  \\\n",
       "19280  180235   \n",
       "32233  289166   \n",
       "10886   98421   \n",
       "27641  247575   \n",
       "13695  123239   \n",
       "22690  206302   \n",
       "25799  232566   \n",
       "45127  426636   \n",
       "31539  282892   \n",
       "3768    32842   \n",
       "\n",
       "                                                                                                                                                                                                                                                                                                                                                                                                                                                                                                             text_splitted  \n",
       "19280                                                                                                                                                                                                                                                                                                                                                                                                                                                       et kristen michal suudab anda neile adekvaatsed vastused aitäh  \n",
       "32233                                                                                                                                                                                                                                                                                                                                                              tihtipeale teatud väikesed iseärasused ja nad ei saa sellega võib-olla alati hakkama kas on ka mingi lahendus loovisikute jaoks kes ei kuulu loomeliitu  \n",
       "10886                                                                                                                                                                                                                                                                                                  ei sisalda see peatükk teiste rahvusvähemuste kultuuripärandi väärtustamise sätet kas nende mitte-eestlaste panus eesti kultuuriajalikku kes ei kuulu ülalnimetatud rahvusgruppidesse ei vääri tunnustamist ja tuge  \n",
       "27641                                                                                                                                                                                                                                                                                                                                              kuidas sellesse elektroonilisse abieluvarasüsteemi puhtpraktiliselt neid andmeid sisse kantakse veel üks konkreetne küsimus kas mõlemad abielupooled peavad kohal olema  \n",
       "13695                                                                                                                                                                                                                                                                                                                                                                                                                                                                   kanna pimeda ajal helkurit ja temaga midagi juhtub  \n",
       "22690                                                                                                                                                                                                                                                                                                                                                                                          lugupeetud eesistuja esineja küsis minult kus ma olin kas ma pean sellele küsimusele vastama ja kas ma võin sellele vastata  \n",
       "25799                                                                                                                                                                                                                       ma lähtun sellele vastates pigem oma elukogemustest ma ei kujuta ette maksuhaldurit kes n-ö käigu pealt ütleme kui auto kiirus on 60 kilomeetrit tunnis hakkab tehnikaga sekeldama pildistama või ühest autost teise hüppama seepärast eeldan 99% tõenäosusega et tegemist on seisva sõidukiga  \n",
       "45127  tänan juhataja hea üllar ma küsin jätkuvalt eesti lipu seltsi kohta kuna ka esineja pinginaaber tarmo kruusimäe on selle seltsi liige siis võib-olla on ka kuluaarides või pingis omavahel arutatud kui hea mõte on kirjanike päeva puhul lippu heiskama hakata mitte seda ma ei taha öelda et see oleks mingi halb mõte lihtsalt kuna siin oli juttu juubelitest siis mulle tuli ootamatult meelde et järgmisel aastal kui võib-olla on esimene lipupäev on 90 aastat möödas hoopis ühest teisest sündmusest mille  \n",
       "31539                                                                                                                                                                                                                                                                                                                               lugupeetud istungi juhataja kas te juhiksite vastaja tähelepanu küsimusele mida küsija küsis ja kas te jälgite istungi juhatajana et vastaja vastaks küsimusele mida küsija on küsinud  \n",
       "3768                                                                                                                                                                                                                                                                                                                                                                                                                                                                                   siis hakatakse neid pühasid arutama  "
      ]
     },
     "execution_count": 251,
     "metadata": {},
     "output_type": "execute_result"
    }
   ],
   "source": [
    "show_mostimportant_faction_texts('Eesti Keskerakonna fraktsioon', faction_texts, faction_weights)"
   ]
  },
  {
   "cell_type": "code",
   "execution_count": 252,
   "id": "340f3bed-b9a0-493b-99d9-9789111c1153",
   "metadata": {
    "pycharm": {
     "name": "#%%\n"
    }
   },
   "outputs": [
    {
     "data": {
      "text/html": [
       "<div>\n",
       "<style scoped>\n",
       "    .dataframe tbody tr th:only-of-type {\n",
       "        vertical-align: middle;\n",
       "    }\n",
       "\n",
       "    .dataframe tbody tr th {\n",
       "        vertical-align: top;\n",
       "    }\n",
       "\n",
       "    .dataframe thead th {\n",
       "        text-align: right;\n",
       "    }\n",
       "</style>\n",
       "<table border=\"1\" class=\"dataframe\">\n",
       "  <thead>\n",
       "    <tr style=\"text-align: right;\">\n",
       "      <th></th>\n",
       "      <th>index</th>\n",
       "      <th>text_splitted</th>\n",
       "    </tr>\n",
       "  </thead>\n",
       "  <tbody>\n",
       "    <tr>\n",
       "      <th>8551</th>\n",
       "      <td>121366</td>\n",
       "      <td>mille taha see jäi et see lõpuks valmis ei saanud</td>\n",
       "    </tr>\n",
       "    <tr>\n",
       "      <th>11080</th>\n",
       "      <td>149266</td>\n",
       "      <td>nad ju ainult 25 eurot tänan teid</td>\n",
       "    </tr>\n",
       "    <tr>\n",
       "      <th>781</th>\n",
       "      <td>13442</td>\n",
       "      <td>aga ma lõpetasin praegu</td>\n",
       "    </tr>\n",
       "    <tr>\n",
       "      <th>28829</th>\n",
       "      <td>425161</td>\n",
       "      <td>see et me loodame ja ootame mõistlikku hinda aga me ei oska seda täpselt öelda nii nagu ma ka ministri käest küsisin me eeldame et see hind on alla fikseeritud lepingute hinna aga see sõltub erinevatest teguritest ja muu hulgas sellest mis konkurentsiamet selle seaduse vastuvõtmise järel selleks hinnaks määrab. küll aga on koalitsioon juba ennetavalt kokku leppinud ja broneerinud raha selle jaoks et igal juhul tuleb riik appi 50 euroga megavati kohta ehk ka sellest hinnast mille konkurentsiamet määrab</td>\n",
       "    </tr>\n",
       "    <tr>\n",
       "      <th>30060</th>\n",
       "      <td>450239</td>\n",
       "      <td>perekonda kümne aastaga euroopas kõige kiiremini kasvanud kodude hinnad süvenev regionaalne ebavõrdsus ja üha kallim toidukorv on vaid mõned näited kuigi ka tänane valitsus on inimestele appi tulnud tänu sotsiaaldemokraatidele suurenes enam kui 100 000 töötaja töötasu ligi 400 eurot aastas palgad tõusid õpetajatel päästjatel politseinikel kultuuritöötajatel aga siit tuleb edasi minna olukord kuhu me oleme jõudnud või veidi optimistlikumatel hinnangutel jõudmas annab meile võimaluse lasta lahti aastakümneid süvenenud dogmadest täna ei aita peresid ega ettevõtjaid haava plaastriga katmine nagu</td>\n",
       "    </tr>\n",
       "    <tr>\n",
       "      <th>13081</th>\n",
       "      <td>179800</td>\n",
       "      <td>olud kiiresti ja tihti on neid raske ette näha valitsus isegi ei ole suutnud seda ette näha et teine laine tuleb ja peaks midagi tegema me oleme siin kuude kaupa näinud et neile hakkab see alles nüüd kohale jõudma rääkimata muudest asjadest. aga kas te saaksite öelda mida sotsiaalminister tanel kiik ja tema juhitav ministeerium sellest seaduseelnõust arvab ma loodan et sealtpoolt oli vähemalt maksimaalne tugi aga nagu ikka siis koalitsioonipartnerid ei luba avalikult toetada või mis mulje teile on</td>\n",
       "    </tr>\n",
       "    <tr>\n",
       "      <th>30585</th>\n",
       "      <td>457770</td>\n",
       "      <td>aitäh küsimuse eest komisjoni liikmed kohe päris alguses küsisid sedasama et milline on see eelarveline mõju üleriiklik selles osas kahjuks eelnõu esitaja jäi vastuse võlgu et seda täpset teadmist tal ei olnud kuna nagu ma ütlesin meil oli hulk kov‑i taustaga inimesi ruumis siis tõepoolest aseesimees komisjonis tõi välja selle et tallinna linn on kalkuleerinud selleks kuluks suurusjärgus 20 miljonit eurot umbes juurde arvutame mida ma tean et eelmise riigikogu koosseisu ajal tehti arvati et see võiks olla suurusjärgus 40</td>\n",
       "    </tr>\n",
       "    <tr>\n",
       "      <th>13421</th>\n",
       "      <td>185049</td>\n",
       "      <td>tolleaegne peaminister ansip on selge et sellised juhtumid on väga üksikud kuid aastate jooksul on 200 alaealiselt eesti kodanikult kahjuks kodakondsus siiski ära võetud andes automaatselt eesti kodakondsuse eestis sündivatele lastele kelle vanemad on eesti alalised elanikud kuid ilma kodakondsuseta lõpetame tõepoolest kodakondsusetuse taastootmise me kõik teame et sellist otsust on meilt ammu oodanud mitmesugused rahvusvahelised organisatsioonid alates üro-st julgen arvata et kui 20 aastat tagasi tulid paljud välisriigid meile vastu ja aktsepteerisid nn halli passi reisidokumendina siis ei osanud</td>\n",
       "    </tr>\n",
       "    <tr>\n",
       "      <th>835</th>\n",
       "      <td>14026</td>\n",
       "      <td>n-ö maksusoodustusest saavad kasu ainult need inimesed kes tulu saavad</td>\n",
       "    </tr>\n",
       "    <tr>\n",
       "      <th>8869</th>\n",
       "      <td>125339</td>\n",
       "      <td>seda ikka kistud tännapoole koguni kaks korda õnneks see sinna ei ole läinud kui seda poleks olnud siis poleks vajadust selle eelnõu järele tekkinud nüüd on algatajad reageerinud n-ö aktuaalsele poliitilisele olukorrale millest tulenevalt valitseb turul suur ebakindlus mis on mõneks ajaks apteegireformi rakendumist pidurdanud ma tänan</td>\n",
       "    </tr>\n",
       "  </tbody>\n",
       "</table>\n",
       "</div>"
      ],
      "text/plain": [
       "        index  \\\n",
       "8551   121366   \n",
       "11080  149266   \n",
       "781     13442   \n",
       "28829  425161   \n",
       "30060  450239   \n",
       "13081  179800   \n",
       "30585  457770   \n",
       "13421  185049   \n",
       "835     14026   \n",
       "8869   125339   \n",
       "\n",
       "                                                                                                                                                                                                                                                                                                                                                                                                                                                                                                                                                                                                                      text_splitted  \n",
       "8551                                                                                                                                                                                                                                                                                                                                                                                                                                                                                                                                                                              mille taha see jäi et see lõpuks valmis ei saanud  \n",
       "11080                                                                                                                                                                                                                                                                                                                                                                                                                                                                                                                                                                                             nad ju ainult 25 eurot tänan teid  \n",
       "781                                                                                                                                                                                                                                                                                                                                                                                                                                                                                                                                                                                                         aga ma lõpetasin praegu  \n",
       "28829                                                                                                    see et me loodame ja ootame mõistlikku hinda aga me ei oska seda täpselt öelda nii nagu ma ka ministri käest küsisin me eeldame et see hind on alla fikseeritud lepingute hinna aga see sõltub erinevatest teguritest ja muu hulgas sellest mis konkurentsiamet selle seaduse vastuvõtmise järel selleks hinnaks määrab. küll aga on koalitsioon juba ennetavalt kokku leppinud ja broneerinud raha selle jaoks et igal juhul tuleb riik appi 50 euroga megavati kohta ehk ka sellest hinnast mille konkurentsiamet määrab  \n",
       "30060        perekonda kümne aastaga euroopas kõige kiiremini kasvanud kodude hinnad süvenev regionaalne ebavõrdsus ja üha kallim toidukorv on vaid mõned näited kuigi ka tänane valitsus on inimestele appi tulnud tänu sotsiaaldemokraatidele suurenes enam kui 100 000 töötaja töötasu ligi 400 eurot aastas palgad tõusid õpetajatel päästjatel politseinikel kultuuritöötajatel aga siit tuleb edasi minna olukord kuhu me oleme jõudnud või veidi optimistlikumatel hinnangutel jõudmas annab meile võimaluse lasta lahti aastakümneid süvenenud dogmadest täna ei aita peresid ega ettevõtjaid haava plaastriga katmine nagu  \n",
       "13081                                                                                                        olud kiiresti ja tihti on neid raske ette näha valitsus isegi ei ole suutnud seda ette näha et teine laine tuleb ja peaks midagi tegema me oleme siin kuude kaupa näinud et neile hakkab see alles nüüd kohale jõudma rääkimata muudest asjadest. aga kas te saaksite öelda mida sotsiaalminister tanel kiik ja tema juhitav ministeerium sellest seaduseelnõust arvab ma loodan et sealtpoolt oli vähemalt maksimaalne tugi aga nagu ikka siis koalitsioonipartnerid ei luba avalikult toetada või mis mulje teile on  \n",
       "30585                                                                                aitäh küsimuse eest komisjoni liikmed kohe päris alguses küsisid sedasama et milline on see eelarveline mõju üleriiklik selles osas kahjuks eelnõu esitaja jäi vastuse võlgu et seda täpset teadmist tal ei olnud kuna nagu ma ütlesin meil oli hulk kov‑i taustaga inimesi ruumis siis tõepoolest aseesimees komisjonis tõi välja selle et tallinna linn on kalkuleerinud selleks kuluks suurusjärgus 20 miljonit eurot umbes juurde arvutame mida ma tean et eelmise riigikogu koosseisu ajal tehti arvati et see võiks olla suurusjärgus 40  \n",
       "13421  tolleaegne peaminister ansip on selge et sellised juhtumid on väga üksikud kuid aastate jooksul on 200 alaealiselt eesti kodanikult kahjuks kodakondsus siiski ära võetud andes automaatselt eesti kodakondsuse eestis sündivatele lastele kelle vanemad on eesti alalised elanikud kuid ilma kodakondsuseta lõpetame tõepoolest kodakondsusetuse taastootmise me kõik teame et sellist otsust on meilt ammu oodanud mitmesugused rahvusvahelised organisatsioonid alates üro-st julgen arvata et kui 20 aastat tagasi tulid paljud välisriigid meile vastu ja aktsepteerisid nn halli passi reisidokumendina siis ei osanud  \n",
       "835                                                                                                                                                                                                                                                                                                                                                                                                                                                                                                                                                          n-ö maksusoodustusest saavad kasu ainult need inimesed kes tulu saavad  \n",
       "8869                                                                                                                                                                                                                                                                               seda ikka kistud tännapoole koguni kaks korda õnneks see sinna ei ole läinud kui seda poleks olnud siis poleks vajadust selle eelnõu järele tekkinud nüüd on algatajad reageerinud n-ö aktuaalsele poliitilisele olukorrale millest tulenevalt valitseb turul suur ebakindlus mis on mõneks ajaks apteegireformi rakendumist pidurdanud ma tänan  "
      ]
     },
     "execution_count": 252,
     "metadata": {},
     "output_type": "execute_result"
    }
   ],
   "source": [
    "show_mostimportant_faction_texts('Sotsiaaldemokraatliku Erakonna fraktsioon', faction_texts, faction_weights)"
   ]
  },
  {
   "cell_type": "code",
   "execution_count": 253,
   "id": "3682a79b-4951-459c-9b5c-7382de10d0e8",
   "metadata": {
    "pycharm": {
     "name": "#%%\n"
    }
   },
   "outputs": [
    {
     "data": {
      "text/html": [
       "<div>\n",
       "<style scoped>\n",
       "    .dataframe tbody tr th:only-of-type {\n",
       "        vertical-align: middle;\n",
       "    }\n",
       "\n",
       "    .dataframe tbody tr th {\n",
       "        vertical-align: top;\n",
       "    }\n",
       "\n",
       "    .dataframe thead th {\n",
       "        text-align: right;\n",
       "    }\n",
       "</style>\n",
       "<table border=\"1\" class=\"dataframe\">\n",
       "  <thead>\n",
       "    <tr style=\"text-align: right;\">\n",
       "      <th></th>\n",
       "      <th>index</th>\n",
       "      <th>text_splitted</th>\n",
       "    </tr>\n",
       "  </thead>\n",
       "  <tbody>\n",
       "    <tr>\n",
       "      <th>37051</th>\n",
       "      <td>461081</td>\n",
       "      <td>saatnud palju annetusi praegu ukrainale</td>\n",
       "    </tr>\n",
       "    <tr>\n",
       "      <th>26709</th>\n",
       "      <td>406613</td>\n",
       "      <td>me ei tea kuhu venemaa võib esimesena lüüa palun lisaaega</td>\n",
       "    </tr>\n",
       "    <tr>\n",
       "      <th>28229</th>\n",
       "      <td>413651</td>\n",
       "      <td>kavatseb vastu võtta kuni 50 000 põgenikku ukrainast</td>\n",
       "    </tr>\n",
       "    <tr>\n",
       "      <th>10520</th>\n",
       "      <td>218739</td>\n",
       "      <td>136</td>\n",
       "    </tr>\n",
       "    <tr>\n",
       "      <th>17302</th>\n",
       "      <td>329240</td>\n",
       "      <td>alžiiri</td>\n",
       "    </tr>\n",
       "    <tr>\n",
       "      <th>6473</th>\n",
       "      <td>137581</td>\n",
       "      <td>maa läti vodkaturistidele</td>\n",
       "    </tr>\n",
       "    <tr>\n",
       "      <th>19823</th>\n",
       "      <td>360191</td>\n",
       "      <td>varust</td>\n",
       "    </tr>\n",
       "    <tr>\n",
       "      <th>28377</th>\n",
       "      <td>414410</td>\n",
       "      <td>hea juhataja hea minister süda läheb soojaks kui ma loen et te olete ette näinud 100 000 eurot lemmikloomade marutaudi vastu vaktsineerimiseks arvestades et vaktsineerimise hind on umbes 30 eurot see tähendab 3300 kassi ja koera vaktsineerimist samas oli ukrainas eelmisel aastal 153 koera marutaudis ja 146 kassi ja lemmikloomi on seal 8 miljonit kokku ja nüüd kui nad tulevad siia koos põgenikega siis 100 000 eurot on selleks ette nähtud ma küsin kust te need arvestused võtsite ja kas</td>\n",
       "    </tr>\n",
       "    <tr>\n",
       "      <th>12646</th>\n",
       "      <td>236994</td>\n",
       "      <td>aitäh lugupeetud kultuuriminister olete toetanud mõtet nimetada okupatsioonide muuseum ümber vabaduse muuseumiks ehk vabamuks see mõte on leidnud ühiskonnas laialdast hukkamõistu sest see on märk lugupidamatusest meie ajaloo vastupanuvõitluse ning kümnete tuhandete inimeste kannatuste vastu okupatsiooniaegse genotsiidi ja venestamispoliitika käigus need on asjad mida ei tohi unustada ammugi mitte vabaduse lipu alla peita ümbernimetamise kohta on teilt küsitud ka varem kuid ma küsin nüüd kas avalikkuse vastuseis ei ole teid pannud oma seisukohta revideerima kas teie arvates on käes aeg</td>\n",
       "    </tr>\n",
       "    <tr>\n",
       "      <th>34465</th>\n",
       "      <td>445506</td>\n",
       "      <td>kus taevas kuulub vene õhuväele</td>\n",
       "    </tr>\n",
       "  </tbody>\n",
       "</table>\n",
       "</div>"
      ],
      "text/plain": [
       "        index  \\\n",
       "37051  461081   \n",
       "26709  406613   \n",
       "28229  413651   \n",
       "10520  218739   \n",
       "17302  329240   \n",
       "6473   137581   \n",
       "19823  360191   \n",
       "28377  414410   \n",
       "12646  236994   \n",
       "34465  445506   \n",
       "\n",
       "                                                                                                                                                                                                                                                                                                                                                                                                                                                                                                                                                                                                         text_splitted  \n",
       "37051                                                                                                                                                                                                                                                                                                                                                                                                                                                                                                                                                                          saatnud palju annetusi praegu ukrainale  \n",
       "26709                                                                                                                                                                                                                                                                                                                                                                                                                                                                                                                                                        me ei tea kuhu venemaa võib esimesena lüüa palun lisaaega  \n",
       "28229                                                                                                                                                                                                                                                                                                                                                                                                                                                                                                                                                             kavatseb vastu võtta kuni 50 000 põgenikku ukrainast  \n",
       "10520                                                                                                                                                                                                                                                                                                                                                                                                                                                                                                                                                                                                              136  \n",
       "17302                                                                                                                                                                                                                                                                                                                                                                                                                                                                                                                                                                                                          alžiiri  \n",
       "6473                                                                                                                                                                                                                                                                                                                                                                                                                                                                                                                                                                                         maa läti vodkaturistidele  \n",
       "19823                                                                                                                                                                                                                                                                                                                                                                                                                                                                                                                                                                                                           varust  \n",
       "28377                                                                                                         hea juhataja hea minister süda läheb soojaks kui ma loen et te olete ette näinud 100 000 eurot lemmikloomade marutaudi vastu vaktsineerimiseks arvestades et vaktsineerimise hind on umbes 30 eurot see tähendab 3300 kassi ja koera vaktsineerimist samas oli ukrainas eelmisel aastal 153 koera marutaudis ja 146 kassi ja lemmikloomi on seal 8 miljonit kokku ja nüüd kui nad tulevad siia koos põgenikega siis 100 000 eurot on selleks ette nähtud ma küsin kust te need arvestused võtsite ja kas  \n",
       "12646  aitäh lugupeetud kultuuriminister olete toetanud mõtet nimetada okupatsioonide muuseum ümber vabaduse muuseumiks ehk vabamuks see mõte on leidnud ühiskonnas laialdast hukkamõistu sest see on märk lugupidamatusest meie ajaloo vastupanuvõitluse ning kümnete tuhandete inimeste kannatuste vastu okupatsiooniaegse genotsiidi ja venestamispoliitika käigus need on asjad mida ei tohi unustada ammugi mitte vabaduse lipu alla peita ümbernimetamise kohta on teilt küsitud ka varem kuid ma küsin nüüd kas avalikkuse vastuseis ei ole teid pannud oma seisukohta revideerima kas teie arvates on käes aeg  \n",
       "34465                                                                                                                                                                                                                                                                                                                                                                                                                                                                                                                                                                                  kus taevas kuulub vene õhuväele  "
      ]
     },
     "execution_count": 253,
     "metadata": {},
     "output_type": "execute_result"
    }
   ],
   "source": [
    "show_mostimportant_faction_texts('Eesti Konservatiivse Rahvaerakonna fraktsioon', faction_texts, faction_weights)"
   ]
  },
  {
   "cell_type": "code",
   "execution_count": 254,
   "id": "4a5ff734-bdd2-4d6e-b97e-1ff5b57f3e70",
   "metadata": {
    "pycharm": {
     "name": "#%%\n"
    }
   },
   "outputs": [
    {
     "data": {
      "text/html": [
       "<div>\n",
       "<style scoped>\n",
       "    .dataframe tbody tr th:only-of-type {\n",
       "        vertical-align: middle;\n",
       "    }\n",
       "\n",
       "    .dataframe tbody tr th {\n",
       "        vertical-align: top;\n",
       "    }\n",
       "\n",
       "    .dataframe thead th {\n",
       "        text-align: right;\n",
       "    }\n",
       "</style>\n",
       "<table border=\"1\" class=\"dataframe\">\n",
       "  <thead>\n",
       "    <tr style=\"text-align: right;\">\n",
       "      <th></th>\n",
       "      <th>index</th>\n",
       "      <th>text_splitted</th>\n",
       "    </tr>\n",
       "  </thead>\n",
       "  <tbody>\n",
       "    <tr>\n",
       "      <th>157</th>\n",
       "      <td>409327</td>\n",
       "      <td>et saavad oma laste eest hoolitseda siis nad neid lapsi saavad nad saavad neid lapsi ka päris mitu mul on hea näide ühest sõbrannast kes sai oma esimese lapse 31-aastaselt nüüd on ta 34 ja kohe-kohe sünnitab oma kolmanda see asi on natuke edasi lükkunud ei saada enam 22-aastaselt lapsi aga praegu on see auk tulnud sellest et meie ühiskond on läinud vabamaks ja inimestel on rohkem valikuid ma tahtsin ka toonitada et raha või peretoetuseid vähendatakse mitte ei kaotata</td>\n",
       "    </tr>\n",
       "    <tr>\n",
       "      <th>274</th>\n",
       "      <td>457620</td>\n",
       "      <td>austatud istungi juhataja head kolleegid komisjon arutas teemat päris pikalt ja teen võrdlemisi põhjaliku ülevaate palun kannatust põhiseaduskomisjon arutas eelnõu 262 oe oma neljapäevasel 14. septembri istungil lisaks komisjoni liikmetele osales istungil selle eelnõu esitaja esindaja tanel kiik kes tutvustas komisjonile eelnõu ning vastas komisjoni liikmete küsimustele eelnõu esitaja esindaja selgitas ammendavalt eelnõu sisu ja sellel ma pikemalt ei peatu komisjonis toimus järgmine arutelu alustuseks sõnas üks komisjoni liige et ei mõista miks on sellel teemal uurimiskomisjoni loomine vajalik ta</td>\n",
       "    </tr>\n",
       "    <tr>\n",
       "      <th>58</th>\n",
       "      <td>387675</td>\n",
       "      <td>olenemata vanaduspensioniealise inimese kogutulu suurusest tulumaksuvabaks jumal missugune lause kuuendaks maksti eelmise aasta sügisel 200‑eurost üksi elava pensionäri toetust mida makstakse ka järgnevatel aastatel 2023. aasta alguses suurendati represseeritutele makstavat toetust 230 eurolt 292 euroni ja hinnatõusu leevendamiseks maksti eelmise aasta novembrikuus ühekordset toetust 50 eurot sotsiaalkomisjoni istungil arutati keskerakonna fraktsiooni ettepanekut komisjoni liikmed küsisid mitmeid küsimusi ja eelkõneleja nendest ka rääkis komisjoni liikmed tundsid ka huvi missugused on vabariigi valitsuse või sotsiaalkaitseministri ettepanekud ja plaanid pensionide kohta vastusena kuulsime</td>\n",
       "    </tr>\n",
       "    <tr>\n",
       "      <th>286</th>\n",
       "      <td>457632</td>\n",
       "      <td>siemann timo suslov hendrik johannes terras urve tiidus vastu olid ants frosch andrei korobeinik helir-valdor seeder ja aleksandr tšaplõgin erapooletuid ei olnud aitäh</td>\n",
       "    </tr>\n",
       "    <tr>\n",
       "      <th>250</th>\n",
       "      <td>438544</td>\n",
       "      <td>arendada ka siiski regionaalhaigla just ennekõike perh-i näol kokkuvõtteks ma ütleks et jah ma olen nõus tallinn ja tallinna inimesed kindlasti vajavad linnahaiglat aga kindlasti ei peaks see haigla konkureerima juba olemasolevate regionaalhaiglatega nii et me vajame pigem sellist kohalikku või mitte kohalikku haiglat vaid keskhaiglat kui piirkondlikku haiglat olles terminoloogias korrektne aitäh teile</td>\n",
       "    </tr>\n",
       "    <tr>\n",
       "      <th>154</th>\n",
       "      <td>409278</td>\n",
       "      <td>teise last aidata üles kasvatada aitäh</td>\n",
       "    </tr>\n",
       "    <tr>\n",
       "      <th>126</th>\n",
       "      <td>407406</td>\n",
       "      <td>oleks või tekiks võimalus sõja võitmiseks margus tsahkna minu küsimus puudutab meie euroopa liitlasi juhataja helistab kella. milline on teie informatsioon selle kohta kuidas meie euroopa liitlased saavad täpselt samamoodi kaasa aidata sellele milline on teie viimane teadmine selles osas</td>\n",
       "    </tr>\n",
       "    <tr>\n",
       "      <th>115</th>\n",
       "      <td>405456</td>\n",
       "      <td>kõik jõuda selleni et eesti mitte ainult koolinoored vaid eesti tervikuna ei oleks üks kõige suuremaid toidu raiskajaid euroopa liidus kas me suudaksime jõuda selleni et heakene küll kui meil jääb mõnikord midagi üle et see jõuaks õigesse kohta kas uuesti mullaks või siis biokütuseks või milleks iganes ta siis parasjagu kõlbulik on et me saame selle asja ühiskonnas parandada kas me jõuaks üheskoos selleni et me saaksime koolinoorte abil olla suure sammu edasi astunud mitte aastate pärast vaid palju</td>\n",
       "    </tr>\n",
       "    <tr>\n",
       "      <th>105</th>\n",
       "      <td>404314</td>\n",
       "      <td>eelduste maksmapanemisel tarbekorral ka sügavaid kitsendusi läbi viime selleks et abielu ei saaks tõu halvenemise allikaks. see tõnissoni ettepanek toetust ei leidnud abiellu astumise piiranguteks jäid parandamata vaimuhaigused raskel kujul langetõbi pidalitõbi ja suguhaigused haiguse külgehakkavuse järgus aga lahutus tuli ja võrdõiguslikkus ka tuletagem meelde siis ikkagi leppisid meie eelkäijad siinsamas saalis kokku senine abielu pühadus ära muuta põhimõtteliselt ja ilmalikult võrdõiguslikuks kardeti küll mitmel korral siinsamas saalis et selline abielu pühaduse rikkumine nagu lahutuse lubamine ja naiste võrdõiguslikuks aitamine</td>\n",
       "    </tr>\n",
       "    <tr>\n",
       "      <th>215</th>\n",
       "      <td>434261</td>\n",
       "      <td>austatud istungi juhataja head kolleegid vastavalt eesti vabariigi põhiseaduse § 65 punktile 7 ja eesti panga seaduse § 7 lõikele 1 nimetab eesti panga nõukogu esimehe ametisse riigikogu vabariigi presidendi ettepanekul viieks aastaks vabariigi president alar karis tegi riigikogule ettepaneku nimetada urmas varblane eesti panga nõukogu esimeheks alates 13. juunist aastal 2023 seoses eesti panga nõukogu esimehe mart laari ametivolituste lõppemisega 12. juunil urmas varblane on üks eesti silmapaistvaid kaasaegseid majandusteadlasi kes on avaldanud sadu teaduspublikatsioone ja osaleb sageli avalikes</td>\n",
       "    </tr>\n",
       "  </tbody>\n",
       "</table>\n",
       "</div>"
      ],
      "text/plain": [
       "      index  \\\n",
       "157  409327   \n",
       "274  457620   \n",
       "58   387675   \n",
       "286  457632   \n",
       "250  438544   \n",
       "154  409278   \n",
       "126  407406   \n",
       "115  405456   \n",
       "105  404314   \n",
       "215  434261   \n",
       "\n",
       "                                                                                                                                                                                                                                                                                                                                                                                                                                                                                                                                                                                                                                                                                                                 text_splitted  \n",
       "157                                                                                                                                                                                                                                    et saavad oma laste eest hoolitseda siis nad neid lapsi saavad nad saavad neid lapsi ka päris mitu mul on hea näide ühest sõbrannast kes sai oma esimese lapse 31-aastaselt nüüd on ta 34 ja kohe-kohe sünnitab oma kolmanda see asi on natuke edasi lükkunud ei saada enam 22-aastaselt lapsi aga praegu on see auk tulnud sellest et meie ühiskond on läinud vabamaks ja inimestel on rohkem valikuid ma tahtsin ka toonitada et raha või peretoetuseid vähendatakse mitte ei kaotata  \n",
       "274                                                                                                austatud istungi juhataja head kolleegid komisjon arutas teemat päris pikalt ja teen võrdlemisi põhjaliku ülevaate palun kannatust põhiseaduskomisjon arutas eelnõu 262 oe oma neljapäevasel 14. septembri istungil lisaks komisjoni liikmetele osales istungil selle eelnõu esitaja esindaja tanel kiik kes tutvustas komisjonile eelnõu ning vastas komisjoni liikmete küsimustele eelnõu esitaja esindaja selgitas ammendavalt eelnõu sisu ja sellel ma pikemalt ei peatu komisjonis toimus järgmine arutelu alustuseks sõnas üks komisjoni liige et ei mõista miks on sellel teemal uurimiskomisjoni loomine vajalik ta  \n",
       "58   olenemata vanaduspensioniealise inimese kogutulu suurusest tulumaksuvabaks jumal missugune lause kuuendaks maksti eelmise aasta sügisel 200‑eurost üksi elava pensionäri toetust mida makstakse ka järgnevatel aastatel 2023. aasta alguses suurendati represseeritutele makstavat toetust 230 eurolt 292 euroni ja hinnatõusu leevendamiseks maksti eelmise aasta novembrikuus ühekordset toetust 50 eurot sotsiaalkomisjoni istungil arutati keskerakonna fraktsiooni ettepanekut komisjoni liikmed küsisid mitmeid küsimusi ja eelkõneleja nendest ka rääkis komisjoni liikmed tundsid ka huvi missugused on vabariigi valitsuse või sotsiaalkaitseministri ettepanekud ja plaanid pensionide kohta vastusena kuulsime  \n",
       "286                                                                                                                                                                                                                                                                                                                                                                                                                                                                                                                                                    siemann timo suslov hendrik johannes terras urve tiidus vastu olid ants frosch andrei korobeinik helir-valdor seeder ja aleksandr tšaplõgin erapooletuid ei olnud aitäh  \n",
       "250                                                                                                                                                                                                                                                                                                      arendada ka siiski regionaalhaigla just ennekõike perh-i näol kokkuvõtteks ma ütleks et jah ma olen nõus tallinn ja tallinna inimesed kindlasti vajavad linnahaiglat aga kindlasti ei peaks see haigla konkureerima juba olemasolevate regionaalhaiglatega nii et me vajame pigem sellist kohalikku või mitte kohalikku haiglat vaid keskhaiglat kui piirkondlikku haiglat olles terminoloogias korrektne aitäh teile  \n",
       "154                                                                                                                                                                                                                                                                                                                                                                                                                                                                                                                                                                                                                                                                                     teise last aidata üles kasvatada aitäh  \n",
       "126                                                                                                                                                                                                                                                                                                                                                                                                                           oleks või tekiks võimalus sõja võitmiseks margus tsahkna minu küsimus puudutab meie euroopa liitlasi juhataja helistab kella. milline on teie informatsioon selle kohta kuidas meie euroopa liitlased saavad täpselt samamoodi kaasa aidata sellele milline on teie viimane teadmine selles osas  \n",
       "115                                                                                                                                                                                                    kõik jõuda selleni et eesti mitte ainult koolinoored vaid eesti tervikuna ei oleks üks kõige suuremaid toidu raiskajaid euroopa liidus kas me suudaksime jõuda selleni et heakene küll kui meil jääb mõnikord midagi üle et see jõuaks õigesse kohta kas uuesti mullaks või siis biokütuseks või milleks iganes ta siis parasjagu kõlbulik on et me saame selle asja ühiskonnas parandada kas me jõuaks üheskoos selleni et me saaksime koolinoorte abil olla suure sammu edasi astunud mitte aastate pärast vaid palju  \n",
       "105                                                            eelduste maksmapanemisel tarbekorral ka sügavaid kitsendusi läbi viime selleks et abielu ei saaks tõu halvenemise allikaks. see tõnissoni ettepanek toetust ei leidnud abiellu astumise piiranguteks jäid parandamata vaimuhaigused raskel kujul langetõbi pidalitõbi ja suguhaigused haiguse külgehakkavuse järgus aga lahutus tuli ja võrdõiguslikkus ka tuletagem meelde siis ikkagi leppisid meie eelkäijad siinsamas saalis kokku senine abielu pühadus ära muuta põhimõtteliselt ja ilmalikult võrdõiguslikuks kardeti küll mitmel korral siinsamas saalis et selline abielu pühaduse rikkumine nagu lahutuse lubamine ja naiste võrdõiguslikuks aitamine  \n",
       "215                                                                                                austatud istungi juhataja head kolleegid vastavalt eesti vabariigi põhiseaduse § 65 punktile 7 ja eesti panga seaduse § 7 lõikele 1 nimetab eesti panga nõukogu esimehe ametisse riigikogu vabariigi presidendi ettepanekul viieks aastaks vabariigi president alar karis tegi riigikogule ettepaneku nimetada urmas varblane eesti panga nõukogu esimeheks alates 13. juunist aastal 2023 seoses eesti panga nõukogu esimehe mart laari ametivolituste lõppemisega 12. juunil urmas varblane on üks eesti silmapaistvaid kaasaegseid majandusteadlasi kes on avaldanud sadu teaduspublikatsioone ja osaleb sageli avalikes  "
      ]
     },
     "execution_count": 254,
     "metadata": {},
     "output_type": "execute_result"
    }
   ],
   "source": [
    "show_mostimportant_faction_texts('Eesti 200 fraktsioon', faction_texts, faction_weights)"
   ]
  },
  {
   "cell_type": "markdown",
   "id": "6506429d-d4f1-474f-b125-0f03405581a3",
   "metadata": {
    "pycharm": {
     "name": "#%% md\n"
    }
   },
   "source": [
    "## Autoencoder"
   ]
  },
  {
   "cell_type": "code",
   "execution_count": 121,
   "id": "618fca80-9a70-4336-a303-ab84dbd2387d",
   "metadata": {
    "pycharm": {
     "name": "#%%\n"
    }
   },
   "outputs": [],
   "source": [
    "import torch\n",
    "import torch.nn as nn\n",
    "import torch.optim as optim\n",
    "\n",
    "# Define the Autoencoder class\n",
    "class Autoencoder(nn.Module):\n",
    "    def __init__(self, input_dim, latent_dim):\n",
    "        super(Autoencoder, self).__init__()\n",
    "        \n",
    "        # Encoder: maps the input to a latent space (lower-dimensional representation)\n",
    "        self.encoder = nn.Sequential(\n",
    "            nn.Linear(input_dim, 128),\n",
    "            nn.ReLU(),\n",
    "            nn.Linear(128, latent_dim)\n",
    "        )\n",
    "        \n",
    "        # Decoder: reconstructs the input from the latent space representation\n",
    "        self.decoder = nn.Sequential(\n",
    "            nn.Linear(latent_dim, 128),\n",
    "            nn.ReLU(),\n",
    "            nn.Linear(128, input_dim),\n",
    "            nn.Sigmoid()  # Use Sigmoid if the input embeddings are normalized between 0 and 1; otherwise, omit this.\n",
    "        )\n",
    "        \n",
    "    def forward(self, x):\n",
    "        # Forward pass through encoder and decoder\n",
    "        latent = self.encoder(x)\n",
    "        reconstructed = self.decoder(latent)\n",
    "        return reconstructed, latent"
   ]
  },
  {
   "cell_type": "markdown",
   "id": "cf76231c-805c-49ab-8c7d-f2f7c4e01869",
   "metadata": {
    "pycharm": {
     "name": "#%% md\n"
    }
   },
   "source": [
    "#### Example usage"
   ]
  },
  {
   "cell_type": "code",
   "execution_count": 137,
   "id": "d9aa411d-5e31-494e-a499-fa76071ab052",
   "metadata": {
    "pycharm": {
     "name": "#%%\n"
    }
   },
   "outputs": [
    {
     "name": "stdout",
     "output_type": "stream",
     "text": [
      "Eesti Reformierakonna fraktsioon\n",
      "no of texts 50485\n",
      "Eesti Keskerakonna fraktsioon\n",
      "no of texts 48313\n",
      "Eesti Konservatiivse Rahvaerakonna fraktsioon\n",
      "no of texts 37919\n",
      "Sotsiaaldemokraatliku Erakonna fraktsioon\n",
      "no of texts 31078\n",
      "Isamaa fraktsioon\n",
      "no of texts 23842\n",
      "Isamaa ja Res Publica Liidu fraktsioon\n",
      "no of texts 12894\n",
      "Eesti Vabaerakonna fraktsioon\n",
      "no of texts 11268\n",
      "Erakonna Eestimaa Rohelised fraktsioon\n",
      "no of texts 1362\n",
      "Eestimaa Rahvaliidu fraktsioon\n",
      "no of texts 1050\n",
      "Eesti 200 fraktsioon\n",
      "no of texts 295\n",
      "Fraktsiooni mittekuuluvad saadikud\n",
      "no of texts 7935\n",
      "Fraktsioonidesse mittekuulunud Riigikogu liikmed\n",
      "no of texts 5618\n",
      "Epoch [100/100], Loss: 0.0013\n",
      "Speaker 1 Latent Embeddings: torch.Size([50275, 50])\n",
      "Speaker 2 Latent Embeddings: torch.Size([47962, 50])\n",
      "Speaker 3 Latent Embeddings: torch.Size([37656, 50])\n",
      "Speaker 4 Latent Embeddings: torch.Size([30633, 50])\n",
      "Speaker 5 Latent Embeddings: torch.Size([23724, 50])\n",
      "Speaker 6 Latent Embeddings: torch.Size([12857, 50])\n",
      "Speaker 7 Latent Embeddings: torch.Size([11222, 50])\n",
      "Speaker 8 Latent Embeddings: torch.Size([1351, 50])\n",
      "Speaker 9 Latent Embeddings: torch.Size([1042, 50])\n",
      "Speaker 10 Latent Embeddings: torch.Size([295, 50])\n",
      "Speaker 11 Latent Embeddings: torch.Size([7919, 50])\n",
      "Speaker 12 Latent Embeddings: torch.Size([5600, 50])\n"
     ]
    }
   ],
   "source": [
    "# Example: Simulate embeddings for 3 different speakers, each with a different number of texts\n",
    "embedding_dim = vec.shape[-1]\n",
    "latent_dim = 50  # Dimension of the compressed embedding (latent space)\n",
    "\n",
    "speaker_embeddings=[]\n",
    "for faction  in factions2keep:\n",
    "    print(faction)\n",
    "    texts_=df_orig_faction[df_orig_faction.fation==faction].text_splitted\n",
    "    faction_texts[faction]=texts_.copy()\n",
    "    print(f'no of texts {texts_.shape[0]}')\n",
    "    texts_ids_ = texts[texts['text_splitted'].isin(texts_)].index\n",
    "    speaker_embeddings.append(torch.tensor(vec[texts_ids_]))\n",
    "    \n",
    "# Random embeddings for 3 speakers, each with a different number of texts\n",
    "#speaker_embeddings = [ torch.tensor(faction_emb[faction]) for faction in factions2keep]\n",
    "\n",
    "\n",
    "# Combine all speakers' embeddings into a single tensor\n",
    "all_speaker_embeddings = torch.vstack(speaker_embeddings)\n",
    "\n",
    "# Keep track of how many texts each speaker has\n",
    "num_texts_per_speaker = [embeddings.shape[0] for embeddings in speaker_embeddings]\n",
    "\n",
    "device='cuda'\n",
    "# Create an instance of the Autoencoder model and move it to the GPU\n",
    "autoencoder = Autoencoder(input_dim=embedding_dim, latent_dim=latent_dim).to(device)\n",
    "\n",
    "# Define the loss function (Mean Squared Error) and optimizer\n",
    "criterion = nn.MSELoss()\n",
    "optimizer = optim.Adam(autoencoder.parameters(), lr=0.001)\n",
    "\n",
    "# Training the autoencoder with all speaker embeddings at once\n",
    "n_epochs = 100\n",
    "for epoch in range(n_epochs):\n",
    "    autoencoder.train()\n",
    "\n",
    "    # Zero the gradients\n",
    "    optimizer.zero_grad()\n",
    "\n",
    "    # Forward pass with all embeddings from all speakers\n",
    "    reconstructed, latent = autoencoder(all_speaker_embeddings.to(device))\n",
    "\n",
    "    # Compute reconstruction loss\n",
    "    loss = criterion(reconstructed, all_speaker_embeddings.to(device))\n",
    "\n",
    "    # Backpropagation and optimization\n",
    "    loss.backward()\n",
    "    optimizer.step()\n",
    "\n",
    "    # Print the loss every 100 epochs\n",
    "    if (epoch + 1) % 100 == 0:\n",
    "        print(f'Epoch [{epoch + 1}/{n_epochs}], Loss: {loss.item():.4f}')\n",
    "\n",
    "# After training, the latent space representation (compressed embeddings) is what we're interested in\n",
    "with torch.no_grad():\n",
    "    _, latent_embeddings = autoencoder(all_speaker_embeddings.to(device))\n",
    "\n",
    "# Split the latent embeddings back by speaker based on the number of texts per speaker\n",
    "start_idx = 0\n",
    "speaker_latent_embeddings = []\n",
    "for num_texts in num_texts_per_speaker:\n",
    "    end_idx = start_idx + num_texts\n",
    "    speaker_latent_embeddings.append(latent_embeddings[start_idx:end_idx])\n",
    "    start_idx = end_idx"
   ]
  },
  {
   "cell_type": "code",
   "execution_count": 140,
   "id": "041f9d4d-90c2-4423-9966-2153a5722a24",
   "metadata": {
    "pycharm": {
     "name": "#%%\n"
    }
   },
   "outputs": [
    {
     "name": "stdout",
     "output_type": "stream",
     "text": [
      "Speaker 1 Latent Embeddings: torch.Size([50275, 50])\n",
      "Speaker 2 Latent Embeddings: torch.Size([47962, 50])\n",
      "Speaker 3 Latent Embeddings: torch.Size([37656, 50])\n",
      "Speaker 4 Latent Embeddings: torch.Size([30633, 50])\n",
      "Speaker 5 Latent Embeddings: torch.Size([23724, 50])\n",
      "Speaker 6 Latent Embeddings: torch.Size([12857, 50])\n",
      "Speaker 7 Latent Embeddings: torch.Size([11222, 50])\n",
      "Speaker 8 Latent Embeddings: torch.Size([1351, 50])\n",
      "Speaker 9 Latent Embeddings: torch.Size([1042, 50])\n",
      "Speaker 10 Latent Embeddings: torch.Size([295, 50])\n",
      "Speaker 11 Latent Embeddings: torch.Size([7919, 50])\n",
      "Speaker 12 Latent Embeddings: torch.Size([5600, 50])\n"
     ]
    }
   ],
   "source": [
    "# Print the resulting speaker embeddings (latent space) for each speaker\n",
    "speaker_avg_embeddings=[]\n",
    "for i, speaker_embedding in enumerate(speaker_latent_embeddings):\n",
    "    speaker_avg_embeddings.append(torch.mean(speaker_embedding, dim=0).cpu().numpy())\n",
    "    print(f\"Speaker {i + 1} Latent Embeddings: {speaker_embedding.shape}\")"
   ]
  },
  {
   "cell_type": "code",
   "execution_count": 142,
   "id": "739be67f-8efe-49f1-a784-3081578342d9",
   "metadata": {
    "pycharm": {
     "name": "#%%\n"
    }
   },
   "outputs": [
    {
     "data": {
      "text/plain": [
       "12"
      ]
     },
     "execution_count": 142,
     "metadata": {},
     "output_type": "execute_result"
    }
   ],
   "source": [
    "len(speaker_avg_embeddings)"
   ]
  },
  {
   "cell_type": "code",
   "execution_count": 146,
   "id": "2a633ceb-c3b3-4f68-beca-fead3e8fef6a",
   "metadata": {
    "pycharm": {
     "name": "#%%\n"
    }
   },
   "outputs": [
    {
     "name": "stderr",
     "output_type": "stream",
     "text": [
      "/home/risto/.local/lib/python3.9/site-packages/umap/umap_.py:1943: UserWarning: n_jobs value -1 overridden to 1 by setting random_state. Use no seed for parallelism.\n",
      "  warn(f\"n_jobs value {self.n_jobs} overridden to 1 by setting random_state. Use no seed for parallelism.\")\n",
      "/home/risto/.local/lib/python3.9/site-packages/umap/umap_.py:2433: UserWarning: n_neighbors is larger than the dataset size; truncating to X.shape[0] - 1\n",
      "  warn(\n"
     ]
    }
   ],
   "source": [
    "faction_avg_latent_emb_ar=np.vstack(speaker_avg_embeddings)\n",
    "# Reduce dimensions using UMAP\n",
    "umap_reducer = umap.UMAP(n_components=2, random_state=42)\n",
    "reduced_avg_latent_embeddings = umap_reducer.fit_transform(faction_avg_latent_emb_ar)"
   ]
  },
  {
   "cell_type": "code",
   "execution_count": 147,
   "id": "2a4816b2-678c-4b77-ab75-6f0ae965b7e8",
   "metadata": {
    "pycharm": {
     "name": "#%%\n"
    }
   },
   "outputs": [
    {
     "data": {
      "image/png": "[encoded data removed]",
      "text/plain": [
       "<Figure size 720x720 with 1 Axes>"
      ]
     },
     "metadata": {
      "needs_background": "light"
     },
     "output_type": "display_data"
    }
   ],
   "source": [
    "# Plot UMAP-reduced data with clusters\n",
    "fig, ax=plt.subplots(figsize=(10,10))\n",
    "plt.scatter(reduced_avg_latent_embeddings[:, 0], reduced_avg_latent_embeddings[:, 1], s=50)\n",
    "# Adding labels to each point\n",
    "for i, label in enumerate(factions2keep):\n",
    "    plt.text(reduced_avg_latent_embeddings[i, 0], reduced_avg_latent_embeddings[i, 1], label, fontsize=9, ha='right')\n",
    "\n",
    "plt.show()\n",
    "plt.show()"
   ]
  },
  {
   "cell_type": "code",
   "execution_count": 187,
   "id": "622c4e93-c525-4c16-a8b0-a2df77a30396",
   "metadata": {
    "pycharm": {
     "name": "#%%\n"
    }
   },
   "outputs": [
    {
     "data": {
      "text/html": [
       "<div>\n",
       "<style scoped>\n",
       "    .dataframe tbody tr th:only-of-type {\n",
       "        vertical-align: middle;\n",
       "    }\n",
       "\n",
       "    .dataframe tbody tr th {\n",
       "        vertical-align: top;\n",
       "    }\n",
       "\n",
       "    .dataframe thead th {\n",
       "        text-align: right;\n",
       "    }\n",
       "</style>\n",
       "<table border=\"1\" class=\"dataframe\">\n",
       "  <thead>\n",
       "    <tr style=\"text-align: right;\">\n",
       "      <th></th>\n",
       "      <th>word</th>\n",
       "      <th>correlation</th>\n",
       "    </tr>\n",
       "  </thead>\n",
       "  <tbody>\n",
       "    <tr>\n",
       "      <th>310</th>\n",
       "      <td>peab</td>\n",
       "      <td>0.647750</td>\n",
       "    </tr>\n",
       "    <tr>\n",
       "      <th>377</th>\n",
       "      <td>saab</td>\n",
       "      <td>0.639693</td>\n",
       "    </tr>\n",
       "    <tr>\n",
       "      <th>495</th>\n",
       "      <td>tänu</td>\n",
       "      <td>0.582975</td>\n",
       "    </tr>\n",
       "    <tr>\n",
       "      <th>405</th>\n",
       "      <td>selle</td>\n",
       "      <td>0.574074</td>\n",
       "    </tr>\n",
       "    <tr>\n",
       "      <th>167</th>\n",
       "      <td>kõige</td>\n",
       "      <td>0.518200</td>\n",
       "    </tr>\n",
       "    <tr>\n",
       "      <th>217</th>\n",
       "      <td>maksude</td>\n",
       "      <td>0.518200</td>\n",
       "    </tr>\n",
       "    <tr>\n",
       "      <th>284</th>\n",
       "      <td>olema</td>\n",
       "      <td>0.518200</td>\n",
       "    </tr>\n",
       "    <tr>\n",
       "      <th>471</th>\n",
       "      <td>toimub</td>\n",
       "      <td>0.518200</td>\n",
       "    </tr>\n",
       "    <tr>\n",
       "      <th>65</th>\n",
       "      <td>ei</td>\n",
       "      <td>0.480930</td>\n",
       "    </tr>\n",
       "    <tr>\n",
       "      <th>286</th>\n",
       "      <td>oleme</td>\n",
       "      <td>0.480384</td>\n",
       "    </tr>\n",
       "    <tr>\n",
       "      <th>98</th>\n",
       "      <td>hetke</td>\n",
       "      <td>0.480384</td>\n",
       "    </tr>\n",
       "    <tr>\n",
       "      <th>316</th>\n",
       "      <td>peaminister</td>\n",
       "      <td>0.480384</td>\n",
       "    </tr>\n",
       "    <tr>\n",
       "      <th>92</th>\n",
       "      <td>fooni</td>\n",
       "      <td>0.480384</td>\n",
       "    </tr>\n",
       "    <tr>\n",
       "      <th>529</th>\n",
       "      <td>viimase</td>\n",
       "      <td>0.480384</td>\n",
       "    </tr>\n",
       "    <tr>\n",
       "      <th>80</th>\n",
       "      <td>esiteks</td>\n",
       "      <td>0.480384</td>\n",
       "    </tr>\n",
       "    <tr>\n",
       "      <th>335</th>\n",
       "      <td>praegune</td>\n",
       "      <td>0.480384</td>\n",
       "    </tr>\n",
       "    <tr>\n",
       "      <th>435</th>\n",
       "      <td>suuresti</td>\n",
       "      <td>0.480384</td>\n",
       "    </tr>\n",
       "    <tr>\n",
       "      <th>450</th>\n",
       "      <td>teema</td>\n",
       "      <td>0.480384</td>\n",
       "    </tr>\n",
       "    <tr>\n",
       "      <th>345</th>\n",
       "      <td>põhjusel</td>\n",
       "      <td>0.480384</td>\n",
       "    </tr>\n",
       "    <tr>\n",
       "      <th>58</th>\n",
       "      <td>eesmärk</td>\n",
       "      <td>0.480384</td>\n",
       "    </tr>\n",
       "    <tr>\n",
       "      <th>357</th>\n",
       "      <td>ratase</td>\n",
       "      <td>0.480384</td>\n",
       "    </tr>\n",
       "    <tr>\n",
       "      <th>429</th>\n",
       "      <td>staadiumisse</td>\n",
       "      <td>0.480384</td>\n",
       "    </tr>\n",
       "    <tr>\n",
       "      <th>426</th>\n",
       "      <td>sobib</td>\n",
       "      <td>0.480384</td>\n",
       "    </tr>\n",
       "    <tr>\n",
       "      <th>360</th>\n",
       "      <td>riigieelarve</td>\n",
       "      <td>0.480384</td>\n",
       "    </tr>\n",
       "    <tr>\n",
       "      <th>111</th>\n",
       "      <td>istungi</td>\n",
       "      <td>0.480384</td>\n",
       "    </tr>\n",
       "    <tr>\n",
       "      <th>125</th>\n",
       "      <td>jõudnud</td>\n",
       "      <td>0.480384</td>\n",
       "    </tr>\n",
       "    <tr>\n",
       "      <th>301</th>\n",
       "      <td>opositsiooniliige</td>\n",
       "      <td>0.480384</td>\n",
       "    </tr>\n",
       "    <tr>\n",
       "      <th>294</th>\n",
       "      <td>oluliselt</td>\n",
       "      <td>0.480384</td>\n",
       "    </tr>\n",
       "    <tr>\n",
       "      <th>218</th>\n",
       "      <td>maksukoormust</td>\n",
       "      <td>0.480384</td>\n",
       "    </tr>\n",
       "    <tr>\n",
       "      <th>489</th>\n",
       "      <td>tähtsa</td>\n",
       "      <td>0.480384</td>\n",
       "    </tr>\n",
       "  </tbody>\n",
       "</table>\n",
       "</div>"
      ],
      "text/plain": [
       "                  word  correlation\n",
       "310               peab     0.647750\n",
       "377               saab     0.639693\n",
       "495               tänu     0.582975\n",
       "405              selle     0.574074\n",
       "167              kõige     0.518200\n",
       "217            maksude     0.518200\n",
       "284              olema     0.518200\n",
       "471             toimub     0.518200\n",
       "65                  ei     0.480930\n",
       "286              oleme     0.480384\n",
       "98               hetke     0.480384\n",
       "316        peaminister     0.480384\n",
       "92               fooni     0.480384\n",
       "529            viimase     0.480384\n",
       "80             esiteks     0.480384\n",
       "335           praegune     0.480384\n",
       "435           suuresti     0.480384\n",
       "450              teema     0.480384\n",
       "345           põhjusel     0.480384\n",
       "58             eesmärk     0.480384\n",
       "357             ratase     0.480384\n",
       "429       staadiumisse     0.480384\n",
       "426              sobib     0.480384\n",
       "360       riigieelarve     0.480384\n",
       "111            istungi     0.480384\n",
       "125            jõudnud     0.480384\n",
       "301  opositsiooniliige     0.480384\n",
       "294          oluliselt     0.480384\n",
       "218      maksukoormust     0.480384\n",
       "489             tähtsa     0.480384"
      ]
     },
     "execution_count": 187,
     "metadata": {},
     "output_type": "execute_result"
    }
   ],
   "source": [
    "find_word_score_corr(faction_texts, factions2keep, reduced_avg_latent_embeddings[:, 0]).head(30)"
   ]
  },
  {
   "cell_type": "code",
   "execution_count": 188,
   "id": "630151ad-1278-4b10-8d58-8873eb661b41",
   "metadata": {
    "pycharm": {
     "name": "#%%\n"
    }
   },
   "outputs": [
    {
     "data": {
      "text/html": [
       "<div>\n",
       "<style scoped>\n",
       "    .dataframe tbody tr th:only-of-type {\n",
       "        vertical-align: middle;\n",
       "    }\n",
       "\n",
       "    .dataframe tbody tr th {\n",
       "        vertical-align: top;\n",
       "    }\n",
       "\n",
       "    .dataframe thead th {\n",
       "        text-align: right;\n",
       "    }\n",
       "</style>\n",
       "<table border=\"1\" class=\"dataframe\">\n",
       "  <thead>\n",
       "    <tr style=\"text-align: right;\">\n",
       "      <th></th>\n",
       "      <th>word</th>\n",
       "      <th>correlation</th>\n",
       "    </tr>\n",
       "  </thead>\n",
       "  <tbody>\n",
       "    <tr>\n",
       "      <th>128</th>\n",
       "      <td>kas</td>\n",
       "      <td>0.751068</td>\n",
       "    </tr>\n",
       "    <tr>\n",
       "      <th>203</th>\n",
       "      <td>ma</td>\n",
       "      <td>0.677638</td>\n",
       "    </tr>\n",
       "    <tr>\n",
       "      <th>282</th>\n",
       "      <td>oleks</td>\n",
       "      <td>0.591312</td>\n",
       "    </tr>\n",
       "    <tr>\n",
       "      <th>544</th>\n",
       "      <td>võimalik</td>\n",
       "      <td>0.532181</td>\n",
       "    </tr>\n",
       "    <tr>\n",
       "      <th>214</th>\n",
       "      <td>makse</td>\n",
       "      <td>0.529620</td>\n",
       "    </tr>\n",
       "    <tr>\n",
       "      <th>225</th>\n",
       "      <td>maksusüsteemi</td>\n",
       "      <td>0.529620</td>\n",
       "    </tr>\n",
       "    <tr>\n",
       "      <th>270</th>\n",
       "      <td>neid</td>\n",
       "      <td>0.518200</td>\n",
       "    </tr>\n",
       "    <tr>\n",
       "      <th>224</th>\n",
       "      <td>maksustamise</td>\n",
       "      <td>0.518200</td>\n",
       "    </tr>\n",
       "    <tr>\n",
       "      <th>266</th>\n",
       "      <td>nagu</td>\n",
       "      <td>0.518200</td>\n",
       "    </tr>\n",
       "    <tr>\n",
       "      <th>28</th>\n",
       "      <td>arvan</td>\n",
       "      <td>0.518200</td>\n",
       "    </tr>\n",
       "    <tr>\n",
       "      <th>186</th>\n",
       "      <td>lihtsalt</td>\n",
       "      <td>0.518200</td>\n",
       "    </tr>\n",
       "    <tr>\n",
       "      <th>521</th>\n",
       "      <td>vastuse</td>\n",
       "      <td>0.480384</td>\n",
       "    </tr>\n",
       "    <tr>\n",
       "      <th>45</th>\n",
       "      <td>dividendide</td>\n",
       "      <td>0.480384</td>\n",
       "    </tr>\n",
       "    <tr>\n",
       "      <th>43</th>\n",
       "      <td>diferentseerida</td>\n",
       "      <td>0.480384</td>\n",
       "    </tr>\n",
       "    <tr>\n",
       "      <th>180</th>\n",
       "      <td>lahendada</td>\n",
       "      <td>0.480384</td>\n",
       "    </tr>\n",
       "    <tr>\n",
       "      <th>145</th>\n",
       "      <td>kohtadel</td>\n",
       "      <td>0.480384</td>\n",
       "    </tr>\n",
       "    <tr>\n",
       "      <th>522</th>\n",
       "      <td>vastusest</td>\n",
       "      <td>0.480384</td>\n",
       "    </tr>\n",
       "    <tr>\n",
       "      <th>213</th>\n",
       "      <td>majutusteenustega</td>\n",
       "      <td>0.480384</td>\n",
       "    </tr>\n",
       "    <tr>\n",
       "      <th>44</th>\n",
       "      <td>diferentseerimisega</td>\n",
       "      <td>0.480384</td>\n",
       "    </tr>\n",
       "    <tr>\n",
       "      <th>413</th>\n",
       "      <td>sellist</td>\n",
       "      <td>0.480384</td>\n",
       "    </tr>\n",
       "    <tr>\n",
       "      <th>267</th>\n",
       "      <td>natukene</td>\n",
       "      <td>0.480384</td>\n",
       "    </tr>\n",
       "    <tr>\n",
       "      <th>34</th>\n",
       "      <td>asja</td>\n",
       "      <td>0.480384</td>\n",
       "    </tr>\n",
       "    <tr>\n",
       "      <th>54</th>\n",
       "      <td>eelmisest</td>\n",
       "      <td>0.480384</td>\n",
       "    </tr>\n",
       "    <tr>\n",
       "      <th>325</th>\n",
       "      <td>petmine</td>\n",
       "      <td>0.480384</td>\n",
       "    </tr>\n",
       "    <tr>\n",
       "      <th>89</th>\n",
       "      <td>ettevõtlust</td>\n",
       "      <td>0.480384</td>\n",
       "    </tr>\n",
       "    <tr>\n",
       "      <th>314</th>\n",
       "      <td>pealt</td>\n",
       "      <td>0.480384</td>\n",
       "    </tr>\n",
       "    <tr>\n",
       "      <th>432</th>\n",
       "      <td>suurendada</td>\n",
       "      <td>0.480384</td>\n",
       "    </tr>\n",
       "    <tr>\n",
       "      <th>474</th>\n",
       "      <td>tootmist</td>\n",
       "      <td>0.480384</td>\n",
       "    </tr>\n",
       "    <tr>\n",
       "      <th>436</th>\n",
       "      <td>suurlinnades</td>\n",
       "      <td>0.480384</td>\n",
       "    </tr>\n",
       "    <tr>\n",
       "      <th>447</th>\n",
       "      <td>taustal</td>\n",
       "      <td>0.480384</td>\n",
       "    </tr>\n",
       "  </tbody>\n",
       "</table>\n",
       "</div>"
      ],
      "text/plain": [
       "                    word  correlation\n",
       "128                  kas     0.751068\n",
       "203                   ma     0.677638\n",
       "282                oleks     0.591312\n",
       "544             võimalik     0.532181\n",
       "214                makse     0.529620\n",
       "225        maksusüsteemi     0.529620\n",
       "270                 neid     0.518200\n",
       "224         maksustamise     0.518200\n",
       "266                 nagu     0.518200\n",
       "28                 arvan     0.518200\n",
       "186             lihtsalt     0.518200\n",
       "521              vastuse     0.480384\n",
       "45           dividendide     0.480384\n",
       "43       diferentseerida     0.480384\n",
       "180            lahendada     0.480384\n",
       "145             kohtadel     0.480384\n",
       "522            vastusest     0.480384\n",
       "213    majutusteenustega     0.480384\n",
       "44   diferentseerimisega     0.480384\n",
       "413              sellist     0.480384\n",
       "267             natukene     0.480384\n",
       "34                  asja     0.480384\n",
       "54             eelmisest     0.480384\n",
       "325              petmine     0.480384\n",
       "89           ettevõtlust     0.480384\n",
       "314                pealt     0.480384\n",
       "432           suurendada     0.480384\n",
       "474             tootmist     0.480384\n",
       "436         suurlinnades     0.480384\n",
       "447              taustal     0.480384"
      ]
     },
     "execution_count": 188,
     "metadata": {},
     "output_type": "execute_result"
    }
   ],
   "source": [
    "find_word_score_corr(faction_texts, factions2keep, reduced_avg_latent_embeddings[:, 1]).head(30)"
   ]
  },
  {
   "cell_type": "markdown",
   "id": "72fe0cbc-fa28-42bc-a8ac-c45a9b10871c",
   "metadata": {
    "pycharm": {
     "name": "#%% md\n"
    }
   },
   "source": [
    "## PCA"
   ]
  },
  {
   "cell_type": "code",
   "execution_count": 189,
   "id": "e6234f5a-554d-4f1f-a6ad-edf1bfc7d9a6",
   "metadata": {
    "pycharm": {
     "name": "#%%\n"
    }
   },
   "outputs": [
    {
     "ename": "IndexError",
     "evalue": "list index out of range",
     "output_type": "error",
     "traceback": [
      "\u001B[0;31m---------------------------------------------------------------------------\u001B[0m",
      "\u001B[0;31mIndexError\u001B[0m                                Traceback (most recent call last)",
      "Input \u001B[0;32mIn [189]\u001B[0m, in \u001B[0;36m<cell line: 37>\u001B[0;34m()\u001B[0m\n\u001B[1;32m     35\u001B[0m colors \u001B[38;5;241m=\u001B[39m [\u001B[38;5;124m'\u001B[39m\u001B[38;5;124mr\u001B[39m\u001B[38;5;124m'\u001B[39m, \u001B[38;5;124m'\u001B[39m\u001B[38;5;124mg\u001B[39m\u001B[38;5;124m'\u001B[39m, \u001B[38;5;124m'\u001B[39m\u001B[38;5;124mb\u001B[39m\u001B[38;5;124m'\u001B[39m]\n\u001B[1;32m     37\u001B[0m \u001B[38;5;28;01mfor\u001B[39;00m i, speaker_embedding \u001B[38;5;129;01min\u001B[39;00m \u001B[38;5;28menumerate\u001B[39m(tsne_speaker_embeddings):\n\u001B[0;32m---> 38\u001B[0m     plt\u001B[38;5;241m.\u001B[39mscatter(speaker_embedding[:, \u001B[38;5;241m0\u001B[39m], speaker_embedding[:, \u001B[38;5;241m1\u001B[39m], color\u001B[38;5;241m=\u001B[39m\u001B[43mcolors\u001B[49m\u001B[43m[\u001B[49m\u001B[43mi\u001B[49m\u001B[43m]\u001B[49m, label\u001B[38;5;241m=\u001B[39m\u001B[38;5;124mf\u001B[39m\u001B[38;5;124m'\u001B[39m\u001B[38;5;124mSpeaker \u001B[39m\u001B[38;5;132;01m{\u001B[39;00mi\u001B[38;5;241m+\u001B[39m\u001B[38;5;241m1\u001B[39m\u001B[38;5;132;01m}\u001B[39;00m\u001B[38;5;124m'\u001B[39m, alpha\u001B[38;5;241m=\u001B[39m\u001B[38;5;241m0.6\u001B[39m)\n\u001B[1;32m     40\u001B[0m plt\u001B[38;5;241m.\u001B[39mtitle(\u001B[38;5;124m'\u001B[39m\u001B[38;5;124mt-SNE of Text Embeddings by Speaker\u001B[39m\u001B[38;5;124m'\u001B[39m)\n\u001B[1;32m     41\u001B[0m plt\u001B[38;5;241m.\u001B[39mlegend()\n",
      "\u001B[0;31mIndexError\u001B[0m: list index out of range"
     ]
    },
    {
     "data": {
      "image/png": "[encoded data removed]",
      "text/plain": [
       "<Figure size 576x432 with 1 Axes>"
      ]
     },
     "metadata": {
      "needs_background": "light"
     },
     "output_type": "display_data"
    }
   ],
   "source": [
    "import numpy as np\n",
    "from sklearn.decomposition import PCA\n",
    "from sklearn.manifold import TSNE\n",
    "import matplotlib.pyplot as plt\n",
    "\n",
    "# Example: Simulate embeddings for 3 different speakers with different numbers of texts\n",
    "embedding_dim = vec.shape[-1]\n",
    "\n",
    "# Step 1: Combine all embeddings into a single matrix\n",
    "all_embeddings = np.vstack(speaker_embeddings)\n",
    "\n",
    "# Step 2: Apply PCA to reduce dimensions from 300 to 50\n",
    "pca = PCA(n_components=2)\n",
    "pca_embeddings = pca.fit_transform(all_embeddings)\n",
    "tsne_embeddings=pca_embeddings\n",
    "# Step 3: Apply t-SNE to further reduce dimensions to 2D or 3D for visualization\n",
    "#tsne = TSNE(n_components=2, perplexity=30, n_iter=1000, random_state=42)\n",
    "#tsne_embeddings = tsne.fit_transform(pca_embeddings)\n",
    "\n",
    "# umap_reducer = umap.UMAP(n_components=2, random_state=42)\n",
    "# tsne_embeddings = umap_reducer.fit_transform(all_embeddings)\n",
    "\n",
    "# Step 4: Split the t-SNE embeddings back by speaker based on the original number of texts\n",
    "num_texts_per_speaker = [embeddings.shape[0] for embeddings in speaker_embeddings]\n",
    "start_idx = 0\n",
    "tsne_speaker_embeddings = []\n",
    "\n",
    "for num_texts in num_texts_per_speaker:\n",
    "    end_idx = start_idx + num_texts\n",
    "    tsne_speaker_embeddings.append(tsne_embeddings[start_idx:end_idx])\n",
    "    start_idx = end_idx\n",
    "\n",
    "# # Visualize the 2D t-SNE embeddings by speaker\n",
    "# plt.figure(figsize=(8, 6))\n",
    "# colors = ['r', 'g', 'b']\n",
    "\n",
    "# for i, speaker_embedding in enumerate(tsne_speaker_embeddings):\n",
    "#     plt.scatter(speaker_embedding[:, 0], speaker_embedding[:, 1], color=colors[i], label=f'Speaker {i+1}', alpha=0.6)\n",
    "\n",
    "# plt.title('t-SNE of Text Embeddings by Speaker')\n",
    "# plt.legend()\n",
    "# plt.show()\n"
   ]
  },
  {
   "cell_type": "code",
   "execution_count": 190,
   "id": "91797532-52db-4f22-9f1a-8b0b30e92352",
   "metadata": {
    "pycharm": {
     "name": "#%%\n"
    }
   },
   "outputs": [],
   "source": [
    "speaker_tsne_avg_embeddings=[]\n",
    "for i, speaker_embedding in enumerate(tsne_speaker_embeddings):\n",
    "    speaker_tsne_avg_embeddings.append(np.mean(speaker_embedding, axis=0))\n",
    "    #print(f\"Speaker {i + 1} Latent Embeddings: {speaker_tsne_avg_embeddings.shape}\")"
   ]
  },
  {
   "cell_type": "code",
   "execution_count": 191,
   "id": "49847924-a35e-478a-b1c9-03885d1837ea",
   "metadata": {
    "pycharm": {
     "name": "#%%\n"
    }
   },
   "outputs": [
    {
     "data": {
      "text/plain": [
       "[array([-0.00029891,  0.0083112 ], dtype=float32),\n",
       " array([-0.0047107 , -0.00524277], dtype=float32),\n",
       " array([ 0.01649691, -0.0061483 ], dtype=float32),\n",
       " array([-0.00674353, -0.00050347], dtype=float32),\n",
       " array([-3.3239518e-05, -3.1546389e-03], dtype=float32),\n",
       " array([-0.00993837,  0.00526784], dtype=float32),\n",
       " array([-0.00036255,  0.01170319], dtype=float32),\n",
       " array([-0.00517018, -0.02038255], dtype=float32),\n",
       " array([-0.02183961, -0.00822081], dtype=float32),\n",
       " array([0.0048216 , 0.00414416], dtype=float32),\n",
       " array([ 0.00073354, -0.00316189], dtype=float32),\n",
       " array([-0.00330486,  0.00289942], dtype=float32)]"
      ]
     },
     "execution_count": 191,
     "metadata": {},
     "output_type": "execute_result"
    }
   ],
   "source": [
    "speaker_tsne_avg_embeddings"
   ]
  },
  {
   "cell_type": "code",
   "execution_count": 192,
   "id": "2ab4e5da-a531-4080-830b-13e854c3d437",
   "metadata": {
    "pycharm": {
     "name": "#%%\n"
    }
   },
   "outputs": [
    {
     "data": {
      "image/png": "[encoded data removed]",
      "text/plain": [
       "<Figure size 720x720 with 1 Axes>"
      ]
     },
     "metadata": {
      "needs_background": "light"
     },
     "output_type": "display_data"
    }
   ],
   "source": [
    "# Plot UMAP-reduced data with clusters\n",
    "fig, ax=plt.subplots(figsize=(10,10))\n",
    "#plt.scatter(speaker_tsne_avg_embeddings[:, 0], speaker_tsne_avg_embeddings[:, 1], s=50)\n",
    "# Adding labels to each point\n",
    "for i, label in enumerate(factions2keep):\n",
    "    plt.scatter(speaker_tsne_avg_embeddings[i][ 0], speaker_tsne_avg_embeddings[i][ 1], s=50)\n",
    "    plt.text(speaker_tsne_avg_embeddings[i][ 0], speaker_tsne_avg_embeddings[i][ 1], label, fontsize=9, ha='right')\n",
    "\n",
    "plt.show()\n",
    "plt.show()"
   ]
  },
  {
   "cell_type": "code",
   "execution_count": 195,
   "id": "2e921150-43ac-4ea5-8628-5bcc9b8c4b99",
   "metadata": {
    "pycharm": {
     "name": "#%%\n"
    }
   },
   "outputs": [
    {
     "data": {
      "text/html": [
       "<div>\n",
       "<style scoped>\n",
       "    .dataframe tbody tr th:only-of-type {\n",
       "        vertical-align: middle;\n",
       "    }\n",
       "\n",
       "    .dataframe tbody tr th {\n",
       "        vertical-align: top;\n",
       "    }\n",
       "\n",
       "    .dataframe thead th {\n",
       "        text-align: right;\n",
       "    }\n",
       "</style>\n",
       "<table border=\"1\" class=\"dataframe\">\n",
       "  <thead>\n",
       "    <tr style=\"text-align: right;\">\n",
       "      <th></th>\n",
       "      <th>word</th>\n",
       "      <th>correlation</th>\n",
       "    </tr>\n",
       "  </thead>\n",
       "  <tbody>\n",
       "    <tr>\n",
       "      <th>128</th>\n",
       "      <td>kas</td>\n",
       "      <td>0.705548</td>\n",
       "    </tr>\n",
       "    <tr>\n",
       "      <th>538</th>\n",
       "      <td>välja</td>\n",
       "      <td>0.647750</td>\n",
       "    </tr>\n",
       "    <tr>\n",
       "      <th>544</th>\n",
       "      <td>võimalik</td>\n",
       "      <td>0.591312</td>\n",
       "    </tr>\n",
       "    <tr>\n",
       "      <th>224</th>\n",
       "      <td>maksustamise</td>\n",
       "      <td>0.582975</td>\n",
       "    </tr>\n",
       "    <tr>\n",
       "      <th>186</th>\n",
       "      <td>lihtsalt</td>\n",
       "      <td>0.582975</td>\n",
       "    </tr>\n",
       "    <tr>\n",
       "      <th>270</th>\n",
       "      <td>neid</td>\n",
       "      <td>0.582975</td>\n",
       "    </tr>\n",
       "    <tr>\n",
       "      <th>266</th>\n",
       "      <td>nagu</td>\n",
       "      <td>0.582975</td>\n",
       "    </tr>\n",
       "    <tr>\n",
       "      <th>410</th>\n",
       "      <td>selline</td>\n",
       "      <td>0.543197</td>\n",
       "    </tr>\n",
       "    <tr>\n",
       "      <th>282</th>\n",
       "      <td>oleks</td>\n",
       "      <td>0.532181</td>\n",
       "    </tr>\n",
       "    <tr>\n",
       "      <th>214</th>\n",
       "      <td>makse</td>\n",
       "      <td>0.529620</td>\n",
       "    </tr>\n",
       "    <tr>\n",
       "      <th>558</th>\n",
       "      <td>ühte</td>\n",
       "      <td>0.518200</td>\n",
       "    </tr>\n",
       "    <tr>\n",
       "      <th>271</th>\n",
       "      <td>nende</td>\n",
       "      <td>0.518200</td>\n",
       "    </tr>\n",
       "    <tr>\n",
       "      <th>287</th>\n",
       "      <td>olen</td>\n",
       "      <td>0.518200</td>\n",
       "    </tr>\n",
       "    <tr>\n",
       "      <th>163</th>\n",
       "      <td>kulud</td>\n",
       "      <td>0.480384</td>\n",
       "    </tr>\n",
       "    <tr>\n",
       "      <th>54</th>\n",
       "      <td>eelmisest</td>\n",
       "      <td>0.480384</td>\n",
       "    </tr>\n",
       "    <tr>\n",
       "      <th>180</th>\n",
       "      <td>lahendada</td>\n",
       "      <td>0.480384</td>\n",
       "    </tr>\n",
       "    <tr>\n",
       "      <th>45</th>\n",
       "      <td>dividendide</td>\n",
       "      <td>0.480384</td>\n",
       "    </tr>\n",
       "    <tr>\n",
       "      <th>521</th>\n",
       "      <td>vastuse</td>\n",
       "      <td>0.480384</td>\n",
       "    </tr>\n",
       "    <tr>\n",
       "      <th>89</th>\n",
       "      <td>ettevõtlust</td>\n",
       "      <td>0.480384</td>\n",
       "    </tr>\n",
       "    <tr>\n",
       "      <th>161</th>\n",
       "      <td>kuidas</td>\n",
       "      <td>0.480384</td>\n",
       "    </tr>\n",
       "    <tr>\n",
       "      <th>350</th>\n",
       "      <td>püütakse</td>\n",
       "      <td>0.480384</td>\n",
       "    </tr>\n",
       "    <tr>\n",
       "      <th>342</th>\n",
       "      <td>põhimõtteliselt</td>\n",
       "      <td>0.480384</td>\n",
       "    </tr>\n",
       "    <tr>\n",
       "      <th>522</th>\n",
       "      <td>vastusest</td>\n",
       "      <td>0.480384</td>\n",
       "    </tr>\n",
       "    <tr>\n",
       "      <th>389</th>\n",
       "      <td>samuti</td>\n",
       "      <td>0.480384</td>\n",
       "    </tr>\n",
       "    <tr>\n",
       "      <th>384</th>\n",
       "      <td>sain</td>\n",
       "      <td>0.480384</td>\n",
       "    </tr>\n",
       "    <tr>\n",
       "      <th>385</th>\n",
       "      <td>sama</td>\n",
       "      <td>0.480384</td>\n",
       "    </tr>\n",
       "    <tr>\n",
       "      <th>145</th>\n",
       "      <td>kohtadel</td>\n",
       "      <td>0.480384</td>\n",
       "    </tr>\n",
       "    <tr>\n",
       "      <th>325</th>\n",
       "      <td>petmine</td>\n",
       "      <td>0.480384</td>\n",
       "    </tr>\n",
       "    <tr>\n",
       "      <th>131</th>\n",
       "      <td>kasvatada</td>\n",
       "      <td>0.480384</td>\n",
       "    </tr>\n",
       "    <tr>\n",
       "      <th>474</th>\n",
       "      <td>tootmist</td>\n",
       "      <td>0.480384</td>\n",
       "    </tr>\n",
       "  </tbody>\n",
       "</table>\n",
       "</div>"
      ],
      "text/plain": [
       "                word  correlation\n",
       "128              kas     0.705548\n",
       "538            välja     0.647750\n",
       "544         võimalik     0.591312\n",
       "224     maksustamise     0.582975\n",
       "186         lihtsalt     0.582975\n",
       "270             neid     0.582975\n",
       "266             nagu     0.582975\n",
       "410          selline     0.543197\n",
       "282            oleks     0.532181\n",
       "214            makse     0.529620\n",
       "558             ühte     0.518200\n",
       "271            nende     0.518200\n",
       "287             olen     0.518200\n",
       "163            kulud     0.480384\n",
       "54         eelmisest     0.480384\n",
       "180        lahendada     0.480384\n",
       "45       dividendide     0.480384\n",
       "521          vastuse     0.480384\n",
       "89       ettevõtlust     0.480384\n",
       "161           kuidas     0.480384\n",
       "350         püütakse     0.480384\n",
       "342  põhimõtteliselt     0.480384\n",
       "522        vastusest     0.480384\n",
       "389           samuti     0.480384\n",
       "384             sain     0.480384\n",
       "385             sama     0.480384\n",
       "145         kohtadel     0.480384\n",
       "325          petmine     0.480384\n",
       "131        kasvatada     0.480384\n",
       "474         tootmist     0.480384"
      ]
     },
     "execution_count": 195,
     "metadata": {},
     "output_type": "execute_result"
    }
   ],
   "source": [
    "find_word_score_corr(faction_texts, factions2keep, [speaker_tsne_avg_embeddings[i][ 0] for i in range(len(speaker_tsne_avg_embeddings))]).head(30)"
   ]
  },
  {
   "cell_type": "code",
   "execution_count": 196,
   "id": "562a59c8-d6c7-46ff-a308-7cf05b2e1337",
   "metadata": {
    "pycharm": {
     "name": "#%%\n"
    }
   },
   "outputs": [
    {
     "data": {
      "text/html": [
       "<div>\n",
       "<style scoped>\n",
       "    .dataframe tbody tr th:only-of-type {\n",
       "        vertical-align: middle;\n",
       "    }\n",
       "\n",
       "    .dataframe tbody tr th {\n",
       "        vertical-align: top;\n",
       "    }\n",
       "\n",
       "    .dataframe thead th {\n",
       "        text-align: right;\n",
       "    }\n",
       "</style>\n",
       "<table border=\"1\" class=\"dataframe\">\n",
       "  <thead>\n",
       "    <tr style=\"text-align: right;\">\n",
       "      <th></th>\n",
       "      <th>word</th>\n",
       "      <th>correlation</th>\n",
       "    </tr>\n",
       "  </thead>\n",
       "  <tbody>\n",
       "    <tr>\n",
       "      <th>268</th>\n",
       "      <td>need</td>\n",
       "      <td>0.752618</td>\n",
       "    </tr>\n",
       "    <tr>\n",
       "      <th>416</th>\n",
       "      <td>sest</td>\n",
       "      <td>0.582975</td>\n",
       "    </tr>\n",
       "    <tr>\n",
       "      <th>159</th>\n",
       "      <td>kui</td>\n",
       "      <td>0.559776</td>\n",
       "    </tr>\n",
       "    <tr>\n",
       "      <th>448</th>\n",
       "      <td>te</td>\n",
       "      <td>0.514136</td>\n",
       "    </tr>\n",
       "    <tr>\n",
       "      <th>123</th>\n",
       "      <td>jätkan</td>\n",
       "      <td>0.480384</td>\n",
       "    </tr>\n",
       "    <tr>\n",
       "      <th>451</th>\n",
       "      <td>teenus</td>\n",
       "      <td>0.480384</td>\n",
       "    </tr>\n",
       "    <tr>\n",
       "      <th>452</th>\n",
       "      <td>teenuse</td>\n",
       "      <td>0.480384</td>\n",
       "    </tr>\n",
       "    <tr>\n",
       "      <th>453</th>\n",
       "      <td>teenusega</td>\n",
       "      <td>0.480384</td>\n",
       "    </tr>\n",
       "    <tr>\n",
       "      <th>455</th>\n",
       "      <td>tegemist</td>\n",
       "      <td>0.480384</td>\n",
       "    </tr>\n",
       "    <tr>\n",
       "      <th>459</th>\n",
       "      <td>teilt</td>\n",
       "      <td>0.480384</td>\n",
       "    </tr>\n",
       "    <tr>\n",
       "      <th>114</th>\n",
       "      <td>jaoks</td>\n",
       "      <td>0.480384</td>\n",
       "    </tr>\n",
       "    <tr>\n",
       "      <th>472</th>\n",
       "      <td>toob</td>\n",
       "      <td>0.480384</td>\n",
       "    </tr>\n",
       "    <tr>\n",
       "      <th>81</th>\n",
       "      <td>esmaspäeval</td>\n",
       "      <td>0.480384</td>\n",
       "    </tr>\n",
       "    <tr>\n",
       "      <th>506</th>\n",
       "      <td>uue</td>\n",
       "      <td>0.480384</td>\n",
       "    </tr>\n",
       "    <tr>\n",
       "      <th>75</th>\n",
       "      <td>esile</td>\n",
       "      <td>0.480384</td>\n",
       "    </tr>\n",
       "    <tr>\n",
       "      <th>519</th>\n",
       "      <td>vastates</td>\n",
       "      <td>0.480384</td>\n",
       "    </tr>\n",
       "    <tr>\n",
       "      <th>523</th>\n",
       "      <td>vastust</td>\n",
       "      <td>0.480384</td>\n",
       "    </tr>\n",
       "    <tr>\n",
       "      <th>147</th>\n",
       "      <td>kohustatud</td>\n",
       "      <td>0.480384</td>\n",
       "    </tr>\n",
       "    <tr>\n",
       "      <th>572</th>\n",
       "      <td>ütlevad</td>\n",
       "      <td>0.480384</td>\n",
       "    </tr>\n",
       "    <tr>\n",
       "      <th>39</th>\n",
       "      <td>baltic</td>\n",
       "      <td>0.480384</td>\n",
       "    </tr>\n",
       "    <tr>\n",
       "      <th>177</th>\n",
       "      <td>küsimust</td>\n",
       "      <td>0.480384</td>\n",
       "    </tr>\n",
       "    <tr>\n",
       "      <th>179</th>\n",
       "      <td>küsisin</td>\n",
       "      <td>0.480384</td>\n",
       "    </tr>\n",
       "    <tr>\n",
       "      <th>394</th>\n",
       "      <td>seaduste</td>\n",
       "      <td>0.480384</td>\n",
       "    </tr>\n",
       "    <tr>\n",
       "      <th>393</th>\n",
       "      <td>seadusega</td>\n",
       "      <td>0.480384</td>\n",
       "    </tr>\n",
       "    <tr>\n",
       "      <th>392</th>\n",
       "      <td>seadused</td>\n",
       "      <td>0.480384</td>\n",
       "    </tr>\n",
       "    <tr>\n",
       "      <th>383</th>\n",
       "      <td>saanud</td>\n",
       "      <td>0.480384</td>\n",
       "    </tr>\n",
       "    <tr>\n",
       "      <th>368</th>\n",
       "      <td>riiklik</td>\n",
       "      <td>0.480384</td>\n",
       "    </tr>\n",
       "    <tr>\n",
       "      <th>366</th>\n",
       "      <td>riigikontroll</td>\n",
       "      <td>0.480384</td>\n",
       "    </tr>\n",
       "    <tr>\n",
       "      <th>359</th>\n",
       "      <td>riigi</td>\n",
       "      <td>0.480384</td>\n",
       "    </tr>\n",
       "    <tr>\n",
       "      <th>355</th>\n",
       "      <td>rail</td>\n",
       "      <td>0.480384</td>\n",
       "    </tr>\n",
       "  </tbody>\n",
       "</table>\n",
       "</div>"
      ],
      "text/plain": [
       "              word  correlation\n",
       "268           need     0.752618\n",
       "416           sest     0.582975\n",
       "159            kui     0.559776\n",
       "448             te     0.514136\n",
       "123         jätkan     0.480384\n",
       "451         teenus     0.480384\n",
       "452        teenuse     0.480384\n",
       "453      teenusega     0.480384\n",
       "455       tegemist     0.480384\n",
       "459          teilt     0.480384\n",
       "114          jaoks     0.480384\n",
       "472           toob     0.480384\n",
       "81     esmaspäeval     0.480384\n",
       "506            uue     0.480384\n",
       "75           esile     0.480384\n",
       "519       vastates     0.480384\n",
       "523        vastust     0.480384\n",
       "147     kohustatud     0.480384\n",
       "572        ütlevad     0.480384\n",
       "39          baltic     0.480384\n",
       "177       küsimust     0.480384\n",
       "179        küsisin     0.480384\n",
       "394       seaduste     0.480384\n",
       "393      seadusega     0.480384\n",
       "392       seadused     0.480384\n",
       "383         saanud     0.480384\n",
       "368        riiklik     0.480384\n",
       "366  riigikontroll     0.480384\n",
       "359          riigi     0.480384\n",
       "355           rail     0.480384"
      ]
     },
     "execution_count": 196,
     "metadata": {},
     "output_type": "execute_result"
    }
   ],
   "source": [
    "find_word_score_corr(faction_texts, factions2keep, [speaker_tsne_avg_embeddings[i][1] for i in range(len(speaker_tsne_avg_embeddings))]).head(30)"
   ]
  },
  {
   "cell_type": "code",
   "execution_count": null,
   "id": "75cd69e7-d0ca-4237-883f-77c9c229ee04",
   "metadata": {
    "pycharm": {
     "name": "#%%\n"
    }
   },
   "outputs": [],
   "source": []
  }
 ],
 "metadata": {
  "kernelspec": {
   "display_name": "Python 3 (ipykernel)",
   "language": "python",
   "name": "python3"
  },
  "language_info": {
   "codemirror_mode": {
    "name": "ipython",
    "version": 3
   },
   "file_extension": ".py",
   "mimetype": "text/x-python",
   "name": "python",
   "nbconvert_exporter": "python",
   "pygments_lexer": "ipython3",
   "version": "3.9.7"
  }
 },
 "nbformat": 4,
 "nbformat_minor": 5
}