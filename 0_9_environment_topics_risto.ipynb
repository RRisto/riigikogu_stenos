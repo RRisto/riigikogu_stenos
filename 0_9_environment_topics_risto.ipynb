{
 "cells": [
  {
   "cell_type": "code",
   "execution_count": 1,
   "id": "e4ccdf19",
   "metadata": {},
   "outputs": [
    {
     "name": "stderr",
     "output_type": "stream",
     "text": [
      "C:\\Users\\RistoHinno\\AppData\\Local\\Temp\\ipykernel_12332\\3496233029.py:22: FutureWarning: Passing a negative integer is deprecated in version 1.0 and will not be supported in future version. Instead, use None to not limit the column width.\n",
      "  pd.set_option('display.max_colwidth', -1)\n"
     ]
    }
   ],
   "source": [
    "import json\n",
    "import math\n",
    "from functools import partial\n",
    "from pathlib import Path\n",
    "from configparser import ConfigParser\n",
    "\n",
    "import umap\n",
    "import hdbscan\n",
    "import pandas as pd\n",
    "import numpy as np\n",
    "import matplotlib.pyplot as plt\n",
    "import seaborn as sns\n",
    "import plotly\n",
    "from plotly.graph_objs import Scatter, Layout, Heatmap\n",
    "from plotly.subplots import make_subplots\n",
    "import plotly.graph_objs as go\n",
    "import chart_studio\n",
    "import chart_studio.plotly as py\n",
    "\n",
    "from src.aggregator import *\n",
    "\n",
    "pd.set_option('display.max_colwidth', -1)"
   ]
  },
  {
   "cell_type": "markdown",
   "id": "e20859c9",
   "metadata": {},
   "source": [
    "## Data"
   ]
  },
  {
   "cell_type": "code",
   "execution_count": 2,
   "id": "d03b54c2",
   "metadata": {},
   "outputs": [
    {
     "data": {
      "text/plain": [
       "(209949, 22)"
      ]
     },
     "execution_count": 2,
     "metadata": {},
     "output_type": "execute_result"
    }
   ],
   "source": [
    "df=pd.read_csv('data/interim/stenos_cleaned_topics.csv')\n",
    "df.shape"
   ]
  },
  {
   "cell_type": "code",
   "execution_count": 3,
   "id": "513e9e02",
   "metadata": {},
   "outputs": [],
   "source": [
    "#normalize factions\n",
    "df['fation']=df.fation.replace({'Fraktsiooni mittekuuluvad saadikud': 'Fraktsioonidesse mittekuulunud Riigikogu liikmed',\n",
    "                               'Fraktsiooni mittekuuluvad Riigikogu liikmed':'Fraktsioonidesse mittekuulunud Riigikogu liikmed'})"
   ]
  },
  {
   "cell_type": "code",
   "execution_count": 4,
   "id": "cc2e869d",
   "metadata": {},
   "outputs": [
    {
     "data": {
      "text/plain": [
       "(1152, 9)"
      ]
     },
     "execution_count": 4,
     "metadata": {},
     "output_type": "execute_result"
    }
   ],
   "source": [
    "df_topic_clusters=pd.read_excel('data/interim/riigikogu_topics_clusters.xlsx')\n",
    "df_topic_clusters['topic_words3']=df_topic_clusters.words.apply(lambda x: ' '.join(x.split()[:3]))\n",
    "df_topic_clusters.shape"
   ]
  },
  {
   "cell_type": "markdown",
   "id": "859569ec",
   "metadata": {},
   "source": [
    "## Colors for plotting"
   ]
  },
  {
   "cell_type": "code",
   "execution_count": 5,
   "id": "8c0125aa",
   "metadata": {},
   "outputs": [],
   "source": [
    "colors=json.loads(Path('utils/colors.json').read_text())\n",
    "colors=list(colors.keys())[10:]"
   ]
  },
  {
   "cell_type": "markdown",
   "id": "2b2e905d",
   "metadata": {},
   "source": [
    "## Add topics to original data"
   ]
  },
  {
   "cell_type": "code",
   "execution_count": 6,
   "id": "df4b9899",
   "metadata": {},
   "outputs": [
    {
     "data": {
      "text/plain": [
       "(209949, 25)"
      ]
     },
     "execution_count": 6,
     "metadata": {},
     "output_type": "execute_result"
    }
   ],
   "source": [
    "df=pd.merge(df, df_topic_clusters[['topic_cluster_id','topic_id', 'x_rand', 'y_rand']], \n",
    "            left_on='topic_id', right_on='topic_id', how='left')\n",
    "df.shape"
   ]
  },
  {
   "cell_type": "markdown",
   "id": "17cfa0e3",
   "metadata": {},
   "source": [
    "## Clusters which are noninformative"
   ]
  },
  {
   "cell_type": "code",
   "execution_count": 7,
   "id": "03d01f23",
   "metadata": {},
   "outputs": [],
   "source": [
    "clusters_noninform=pd.read_csv('data/interim/noninform_clusters.csv')['0'].tolist()\n",
    "topics_noninform=pd.read_csv('data/interim/noninform_topics.csv')['0'].tolist()"
   ]
  },
  {
   "cell_type": "markdown",
   "id": "d3cdb1ac",
   "metadata": {},
   "source": [
    "## Topics related to environment"
   ]
  },
  {
   "cell_type": "code",
   "execution_count": 15,
   "id": "5822272c",
   "metadata": {},
   "outputs": [],
   "source": [
    "topics_environment=[['energiaagentuur', 'agentuuri', 'agentuur'],\n",
    "                   ['korterelamute', 'kortermajade', 'kredexi'],\n",
    "                   ['metsa', 'metsade', 'mets'],\n",
    "                   ['elektri', 'elektrit', 'taastuvenergia'],\n",
    "                   ['utah', 'jordaania', 'energia'],\n",
    "                   ['loomi', 'loomade', 'loomad'],\n",
    "                   ['muundatud', 'geneetiliselt', 'gmo'],\n",
    "                   ['hoone', 'rkas', 'hoonet'],\n",
    "                   ['oiglase', 'virumaale', 'ulemineku'],\n",
    "                   ['kala', 'kalurid', 'kalurite'],\n",
    "                   ['jaatmeid', 'liigiti', 'prugi'],\n",
    "                   ['planeeringu', 'keskkonnamoju', 'keskkonnamojude'],\n",
    "                   ['kala', 'kalurid', 'kalurite'],\n",
    "                   ['lng', 'terminali', 'gaasi'],\n",
    "                   ['est', 'kavatsuste', 'for']]\n",
    "\n",
    "topics_env_str=[' '.join(lst) for lst in topics_environment]"
   ]
  },
  {
   "cell_type": "code",
   "execution_count": 16,
   "id": "1451ad1b",
   "metadata": {},
   "outputs": [],
   "source": [
    "df['topic_env']=np.where(df.topic_words3.isin(topics_env_str), df.topic_words3, 'other')"
   ]
  },
  {
   "cell_type": "code",
   "execution_count": 17,
   "id": "516e3b41",
   "metadata": {},
   "outputs": [
    {
     "data": {
      "text/plain": [
       "other                                        204479\n",
       "elektri elektrit taastuvenergia              1748  \n",
       "metsa metsade mets                           757   \n",
       "hoone rkas hoonet                            492   \n",
       "loomi loomade loomad                         385   \n",
       "korterelamute kortermajade kredexi           357   \n",
       "lng terminali gaasi                          346   \n",
       "jaatmeid liigiti prugi                       333   \n",
       "kala kalurid kalurite                        245   \n",
       "oiglase virumaale ulemineku                  228   \n",
       "planeeringu keskkonnamoju keskkonnamojude    172   \n",
       "utah jordaania energia                       167   \n",
       "energiaagentuur agentuuri agentuur           119   \n",
       "muundatud geneetiliselt gmo                  80    \n",
       "est kavatsuste for                           41    \n",
       "Name: topic_env, dtype: int64"
      ]
     },
     "execution_count": 17,
     "metadata": {},
     "output_type": "execute_result"
    }
   ],
   "source": [
    "df['topic_env'].value_counts()"
   ]
  },
  {
   "cell_type": "code",
   "execution_count": 14,
   "id": "82293e23",
   "metadata": {},
   "outputs": [
    {
     "data": {
      "text/html": [
       "<div>\n",
       "<style scoped>\n",
       "    .dataframe tbody tr th:only-of-type {\n",
       "        vertical-align: middle;\n",
       "    }\n",
       "\n",
       "    .dataframe tbody tr th {\n",
       "        vertical-align: top;\n",
       "    }\n",
       "\n",
       "    .dataframe thead th {\n",
       "        text-align: right;\n",
       "    }\n",
       "</style>\n",
       "<table border=\"1\" class=\"dataframe\">\n",
       "  <thead>\n",
       "    <tr style=\"text-align: right;\">\n",
       "      <th></th>\n",
       "      <th>topic_id</th>\n",
       "      <th>num_docs</th>\n",
       "      <th>words</th>\n",
       "      <th>x_rand</th>\n",
       "      <th>y_rand</th>\n",
       "      <th>topic_size</th>\n",
       "      <th>topic_cluster_id</th>\n",
       "      <th>color_topic_cluster</th>\n",
       "      <th>topic_words3</th>\n",
       "    </tr>\n",
       "  </thead>\n",
       "  <tbody>\n",
       "    <tr>\n",
       "      <th>0</th>\n",
       "      <td>0</td>\n",
       "      <td>2836</td>\n",
       "      <td>koolis kooli opilased kool koolides opilaste opilasi koolid koolide pohikoolis</td>\n",
       "      <td>0.832609</td>\n",
       "      <td>12.465334</td>\n",
       "      <td>2836</td>\n",
       "      <td>18</td>\n",
       "      <td>darkslateblue</td>\n",
       "      <td>koolis kooli opilased</td>\n",
       "    </tr>\n",
       "    <tr>\n",
       "      <th>1</th>\n",
       "      <td>1</td>\n",
       "      <td>2226</td>\n",
       "      <td>oelge te saite teilt hakkasite teie olete vastake raakige tegite</td>\n",
       "      <td>1.093928</td>\n",
       "      <td>9.741197</td>\n",
       "      <td>2226</td>\n",
       "      <td>3</td>\n",
       "      <td>brown</td>\n",
       "      <td>oelge te saite</td>\n",
       "    </tr>\n",
       "    <tr>\n",
       "      <th>2</th>\n",
       "      <td>2</td>\n",
       "      <td>2047</td>\n",
       "      <td>komisjonis teemat kasitlenud arutatud arutanud pohjalikult arutasime teemasid temaatikat arutati</td>\n",
       "      <td>1.444144</td>\n",
       "      <td>10.505503</td>\n",
       "      <td>2047</td>\n",
       "      <td>8</td>\n",
       "      <td>darkgray</td>\n",
       "      <td>komisjonis teemat kasitlenud</td>\n",
       "    </tr>\n",
       "    <tr>\n",
       "      <th>3</th>\n",
       "      <td>3</td>\n",
       "      <td>2015</td>\n",
       "      <td>menetluslikud konsensuslikult konsensuslikud lugemisele menetlusotsused lugemiseks konsensuslik paevakorda novembriks taiskogule</td>\n",
       "      <td>2.818501</td>\n",
       "      <td>10.239195</td>\n",
       "      <td>2015</td>\n",
       "      <td>8</td>\n",
       "      <td>darkgray</td>\n",
       "      <td>menetluslikud konsensuslikult konsensuslikud</td>\n",
       "    </tr>\n",
       "    <tr>\n",
       "      <th>4</th>\n",
       "      <td>4</td>\n",
       "      <td>1963</td>\n",
       "      <td>maaran loppenud lopp lopetatud istung sulgen kell konesoove ammendatud avata</td>\n",
       "      <td>2.291581</td>\n",
       "      <td>8.136870</td>\n",
       "      <td>1963</td>\n",
       "      <td>1</td>\n",
       "      <td>blue</td>\n",
       "      <td>maaran loppenud lopp</td>\n",
       "    </tr>\n",
       "    <tr>\n",
       "      <th>...</th>\n",
       "      <td>...</td>\n",
       "      <td>...</td>\n",
       "      <td>...</td>\n",
       "      <td>...</td>\n",
       "      <td>...</td>\n",
       "      <td>...</td>\n",
       "      <td>...</td>\n",
       "      <td>...</td>\n",
       "      <td>...</td>\n",
       "    </tr>\n",
       "    <tr>\n",
       "      <th>1147</th>\n",
       "      <td>1147</td>\n",
       "      <td>18</td>\n",
       "      <td>laurson peeter kaevandamise laasi valeri tulik ernits vosa toobali ilmneb</td>\n",
       "      <td>7.801987</td>\n",
       "      <td>6.899067</td>\n",
       "      <td>18</td>\n",
       "      <td>0</td>\n",
       "      <td>black</td>\n",
       "      <td>laurson peeter kaevandamise</td>\n",
       "    </tr>\n",
       "    <tr>\n",
       "      <th>1148</th>\n",
       "      <td>1148</td>\n",
       "      <td>18</td>\n",
       "      <td>sibul priit toobal sibula aafrika hepneri kesk seakatku espenberg jufereva</td>\n",
       "      <td>4.804576</td>\n",
       "      <td>-0.205021</td>\n",
       "      <td>18</td>\n",
       "      <td>0</td>\n",
       "      <td>black</td>\n",
       "      <td>sibul priit toobal</td>\n",
       "    </tr>\n",
       "    <tr>\n",
       "      <th>1149</th>\n",
       "      <td>1149</td>\n",
       "      <td>18</td>\n",
       "      <td>einar aegi liivamagi olga vladimir tramberg paur lokk raivo laasi</td>\n",
       "      <td>8.263407</td>\n",
       "      <td>8.190639</td>\n",
       "      <td>18</td>\n",
       "      <td>9</td>\n",
       "      <td>darkgreen</td>\n",
       "      <td>einar aegi liivamagi</td>\n",
       "    </tr>\n",
       "    <tr>\n",
       "      <th>1150</th>\n",
       "      <td>1150</td>\n",
       "      <td>17</td>\n",
       "      <td>aivar kokk rene soerd koka merry aart soerdi algatajale juunist</td>\n",
       "      <td>10.873006</td>\n",
       "      <td>10.670400</td>\n",
       "      <td>17</td>\n",
       "      <td>5</td>\n",
       "      <td>darkblue</td>\n",
       "      <td>aivar kokk rene</td>\n",
       "    </tr>\n",
       "    <tr>\n",
       "      <th>1151</th>\n",
       "      <td>1151</td>\n",
       "      <td>16</td>\n",
       "      <td>toobal priit sibul vangistust vangistuse toobali pikamae kohaldada yana ester</td>\n",
       "      <td>5.366845</td>\n",
       "      <td>-0.558937</td>\n",
       "      <td>16</td>\n",
       "      <td>0</td>\n",
       "      <td>black</td>\n",
       "      <td>toobal priit sibul</td>\n",
       "    </tr>\n",
       "  </tbody>\n",
       "</table>\n",
       "<p>1152 rows × 9 columns</p>\n",
       "</div>"
      ],
      "text/plain": [
       "      topic_id  num_docs  \\\n",
       "0     0         2836       \n",
       "1     1         2226       \n",
       "2     2         2047       \n",
       "3     3         2015       \n",
       "4     4         1963       \n",
       "...  ..          ...       \n",
       "1147  1147      18         \n",
       "1148  1148      18         \n",
       "1149  1149      18         \n",
       "1150  1150      17         \n",
       "1151  1151      16         \n",
       "\n",
       "                                                                                                                                 words  \\\n",
       "0     koolis kooli opilased kool koolides opilaste opilasi koolid koolide pohikoolis                                                     \n",
       "1     oelge te saite teilt hakkasite teie olete vastake raakige tegite                                                                   \n",
       "2     komisjonis teemat kasitlenud arutatud arutanud pohjalikult arutasime teemasid temaatikat arutati                                   \n",
       "3     menetluslikud konsensuslikult konsensuslikud lugemisele menetlusotsused lugemiseks konsensuslik paevakorda novembriks taiskogule   \n",
       "4     maaran loppenud lopp lopetatud istung sulgen kell konesoove ammendatud avata                                                       \n",
       "...                                                                            ...                                                       \n",
       "1147  laurson peeter kaevandamise laasi valeri tulik ernits vosa toobali ilmneb                                                          \n",
       "1148  sibul priit toobal sibula aafrika hepneri kesk seakatku espenberg jufereva                                                         \n",
       "1149  einar aegi liivamagi olga vladimir tramberg paur lokk raivo laasi                                                                  \n",
       "1150  aivar kokk rene soerd koka merry aart soerdi algatajale juunist                                                                    \n",
       "1151  toobal priit sibul vangistust vangistuse toobali pikamae kohaldada yana ester                                                      \n",
       "\n",
       "         x_rand     y_rand  topic_size  topic_cluster_id color_topic_cluster  \\\n",
       "0     0.832609   12.465334  2836        18                darkslateblue        \n",
       "1     1.093928   9.741197   2226        3                 brown                \n",
       "2     1.444144   10.505503  2047        8                 darkgray             \n",
       "3     2.818501   10.239195  2015        8                 darkgray             \n",
       "4     2.291581   8.136870   1963        1                 blue                 \n",
       "...        ...        ...    ...       ..                  ...                 \n",
       "1147  7.801987   6.899067   18          0                 black                \n",
       "1148  4.804576  -0.205021   18          0                 black                \n",
       "1149  8.263407   8.190639   18          9                 darkgreen            \n",
       "1150  10.873006  10.670400  17          5                 darkblue             \n",
       "1151  5.366845  -0.558937   16          0                 black                \n",
       "\n",
       "                                      topic_words3  \n",
       "0     koolis kooli opilased                         \n",
       "1     oelge te saite                                \n",
       "2     komisjonis teemat kasitlenud                  \n",
       "3     menetluslikud konsensuslikult konsensuslikud  \n",
       "4     maaran loppenud lopp                          \n",
       "...                    ...                          \n",
       "1147  laurson peeter kaevandamise                   \n",
       "1148  sibul priit toobal                            \n",
       "1149  einar aegi liivamagi                          \n",
       "1150  aivar kokk rene                               \n",
       "1151  toobal priit sibul                            \n",
       "\n",
       "[1152 rows x 9 columns]"
      ]
     },
     "execution_count": 14,
     "metadata": {},
     "output_type": "execute_result"
    }
   ],
   "source": [
    "df_topic_clusters"
   ]
  },
  {
   "cell_type": "code",
   "execution_count": null,
   "id": "0625a763",
   "metadata": {},
   "outputs": [],
   "source": []
  }
 ],
 "metadata": {
  "kernelspec": {
   "display_name": "Python 3 (ipykernel)",
   "language": "python",
   "name": "python3"
  },
  "language_info": {
   "codemirror_mode": {
    "name": "ipython",
    "version": 3
   },
   "file_extension": ".py",
   "mimetype": "text/x-python",
   "name": "python",
   "nbconvert_exporter": "python",
   "pygments_lexer": "ipython3",
   "version": "3.9.12"
  }
 },
 "nbformat": 4,
 "nbformat_minor": 5
}
