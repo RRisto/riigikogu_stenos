{
 "cells": [
  {
   "cell_type": "code",
   "execution_count": 7,
   "metadata": {},
   "outputs": [],
   "source": [
    "import re\n",
    "import requests\n",
    "import json\n",
    "import pandas as pd\n",
    "import numpy as np\n",
    "from bs4 import BeautifulSoup"
   ]
  },
  {
   "cell_type": "markdown",
   "metadata": {},
   "source": [
    "## Helpers"
   ]
  },
  {
   "cell_type": "code",
   "execution_count": 8,
   "metadata": {},
   "outputs": [],
   "source": [
    "def get_query_jsn(url):\n",
    "    \"\"\"returns json from request\n",
    "    -INPUT:\n",
    "        -url: str of url to be requested\n",
    "    -OUTPUT:\n",
    "        - list of päevakorrad\"\"\"\n",
    "    return json.loads(requests.get(url).content)"
   ]
  },
  {
   "cell_type": "code",
   "execution_count": 9,
   "metadata": {},
   "outputs": [],
   "source": [
    "def get_soup(link):\n",
    "    \"\"\"returns beautifulsoup object from link content\n",
    "    -INPUT:\n",
    "        -link: str of url to be requested\n",
    "    -OUTPUT:\n",
    "        - beautifulsoup of link content\"\"\"\n",
    "    soup=BeautifulSoup(requests.get(link).content)\n",
    "    return soup"
   ]
  },
  {
   "cell_type": "code",
   "execution_count": 10,
   "metadata": {},
   "outputs": [],
   "source": [
    "#historic faction data is in html\n",
    "def get_soup_faction_members(soup):\n",
    "    \"\"\"function to get historic faction members information\n",
    "    -INPUT:\n",
    "        -soup: beautifulsoup ob ject of page where faction member info is\n",
    "    -OUTPUT:\n",
    "        -list of faction members information\"\"\"\n",
    "    factions=[]\n",
    "    faction_name=soup.find('h3').text\n",
    "    faction_members=[]\n",
    "    for i, tag in enumerate(soup.find('h3').next_siblings):\n",
    "        if tag.name=='h3' or tag.name=='h2':\n",
    "            faction_name=tag.text\n",
    "            factions.extend(faction_members)\n",
    "            faction_members=[]\n",
    "        #esimehed, aseesimehed\n",
    "        if tag.name=='p':\n",
    "            text=tag.text\n",
    "            text=text.replace('Aseesimees: ', '').replace('Esimees: ', '').replace('Aseesimehed: ', '').replace('Esimehed: ', '').replace('\\xa0', ' ')\n",
    "            names=text.split(', ')\n",
    "            for name in names:\n",
    "                for subname in name.split('\\n'):\n",
    "                    #usually names not so long\n",
    "                    if len(subname.split())<10 and subname!='':\n",
    "                        faction_members.append((subname, faction_name))\n",
    "        #list of faction members\n",
    "        if tag.name=='ul':\n",
    "            list_members=[(li.text, faction_name) for li in tag.findAll('li')]\n",
    "            faction_members.extend(list_members)\n",
    "\n",
    "    factions.extend(faction_members)\n",
    "    return factions"
   ]
  },
  {
   "cell_type": "code",
   "execution_count": 11,
   "metadata": {},
   "outputs": [],
   "source": [
    "def get_koosseis_faction_members(koosseisud=['xi', 'xii', 'xiii']):\n",
    "    \"\"\"get faction members from Riigikogu koosseisud\n",
    "    -INPUT:\n",
    "        -koosseisud:  list of str of koosseis number\n",
    "    -OUTPIT:\n",
    "        -pd.DataFrame of faction members information\"\"\"\n",
    "    df_factions=pd.DataFrame()\n",
    "    for koosseis in koosseisud:\n",
    "        print(f'working in faction {koosseis}')\n",
    "        soup=get_soup(f'https://www.riigikogu.ee/tutvustus-ja-ajalugu/riigikogu-ajalugu/{koosseis}-riigikogu-koosseis/fraktsioonid/')\n",
    "        faction_members=get_soup_faction_members(soup)\n",
    "        df_=pd.DataFrame(faction_members)\n",
    "        df_.columns=['name', 'faction']\n",
    "        df_['koosseis']=koosseis\n",
    "        df_factions=df_factions.append(df_)\n",
    "    df_factions=df_factions.drop_duplicates()\n",
    "    df_factions=df_factions.reset_index(drop=True)\n",
    "    return df_factions"
   ]
  },
  {
   "cell_type": "markdown",
   "metadata": {},
   "source": [
    "## Get all historic factions from html pages"
   ]
  },
  {
   "cell_type": "code",
   "execution_count": 12,
   "metadata": {},
   "outputs": [
    {
     "name": "stdout",
     "output_type": "stream",
     "text": [
      "working in faction xi\n",
      "working in faction xii\n",
      "working in faction xiii\n"
     ]
    }
   ],
   "source": [
    "df_factions=get_koosseis_faction_members()"
   ]
  },
  {
   "cell_type": "code",
   "execution_count": 13,
   "metadata": {},
   "outputs": [
    {
     "data": {
      "text/plain": [
       "(305, 3)"
      ]
     },
     "execution_count": 13,
     "metadata": {},
     "output_type": "execute_result"
    }
   ],
   "source": [
    "df_factions.shape"
   ]
  },
  {
   "cell_type": "code",
   "execution_count": 14,
   "metadata": {},
   "outputs": [
    {
     "data": {
      "text/plain": [
       "Eesti Reformierakonna fraktsioon                    89\n",
       "Eesti Keskerakonna fraktsioon                       72\n",
       "Sotsiaaldemokraatliku Erakonna fraktsioon           42\n",
       "Isamaa ja Res Publica Liidu fraktsioon              41\n",
       "Fraktsioonidesse mittekuulunud Riigikogu liikmed    16\n",
       "Isamaa fraktsioon                                   11\n",
       "Fraktsiooni mittekuuluvad saadikud                   8\n",
       "Eestimaa Rahvaliidu fraktsioon                       7\n",
       "Eesti Konservatiivse Rahvaerakonna fraktsioon        7\n",
       "Erakonna Eestimaa Rohelised fraktsioon               6\n",
       "Eesti Vabaerakonna fraktsioon                        6\n",
       "Name: faction, dtype: int64"
      ]
     },
     "execution_count": 14,
     "metadata": {},
     "output_type": "execute_result"
    }
   ],
   "source": [
    "df_factions.faction.value_counts()"
   ]
  },
  {
   "cell_type": "code",
   "execution_count": 15,
   "metadata": {},
   "outputs": [
    {
     "data": {
      "text/html": [
       "<div>\n",
       "<style scoped>\n",
       "    .dataframe tbody tr th:only-of-type {\n",
       "        vertical-align: middle;\n",
       "    }\n",
       "\n",
       "    .dataframe tbody tr th {\n",
       "        vertical-align: top;\n",
       "    }\n",
       "\n",
       "    .dataframe thead th {\n",
       "        text-align: right;\n",
       "    }\n",
       "</style>\n",
       "<table border=\"1\" class=\"dataframe\">\n",
       "  <thead>\n",
       "    <tr style=\"text-align: right;\">\n",
       "      <th></th>\n",
       "      <th>name</th>\n",
       "      <th>faction</th>\n",
       "      <th>koosseis</th>\n",
       "    </tr>\n",
       "  </thead>\n",
       "  <tbody>\n",
       "    <tr>\n",
       "      <th>0</th>\n",
       "      <td>Mai Treial (02.04.2007–07.07.2010)</td>\n",
       "      <td>Eestimaa Rahvaliidu fraktsioon</td>\n",
       "      <td>xi</td>\n",
       "    </tr>\n",
       "    <tr>\n",
       "      <th>1</th>\n",
       "      <td>Villu Reiljan (02.04.2007–26.05.2010)</td>\n",
       "      <td>Eestimaa Rahvaliidu fraktsioon</td>\n",
       "      <td>xi</td>\n",
       "    </tr>\n",
       "    <tr>\n",
       "      <th>2</th>\n",
       "      <td>Karel Rüütli (02.04.2007–07.07.2010)</td>\n",
       "      <td>Eestimaa Rahvaliidu fraktsioon</td>\n",
       "      <td>xi</td>\n",
       "    </tr>\n",
       "    <tr>\n",
       "      <th>3</th>\n",
       "      <td>Ester Tuiksoo (09.04.2007–07.07.2010)</td>\n",
       "      <td>Eestimaa Rahvaliidu fraktsioon</td>\n",
       "      <td>xi</td>\n",
       "    </tr>\n",
       "    <tr>\n",
       "      <th>4</th>\n",
       "      <td>Tarmo Mänd (03.04.2007–12.03.2010)</td>\n",
       "      <td>Eestimaa Rahvaliidu fraktsioon</td>\n",
       "      <td>xi</td>\n",
       "    </tr>\n",
       "  </tbody>\n",
       "</table>\n",
       "</div>"
      ],
      "text/plain": [
       "                                    name                         faction  \\\n",
       "0     Mai Treial (02.04.2007–07.07.2010)  Eestimaa Rahvaliidu fraktsioon   \n",
       "1  Villu Reiljan (02.04.2007–26.05.2010)  Eestimaa Rahvaliidu fraktsioon   \n",
       "2   Karel Rüütli (02.04.2007–07.07.2010)  Eestimaa Rahvaliidu fraktsioon   \n",
       "3  Ester Tuiksoo (09.04.2007–07.07.2010)  Eestimaa Rahvaliidu fraktsioon   \n",
       "4     Tarmo Mänd (03.04.2007–12.03.2010)  Eestimaa Rahvaliidu fraktsioon   \n",
       "\n",
       "  koosseis  \n",
       "0       xi  \n",
       "1       xi  \n",
       "2       xi  \n",
       "3       xi  \n",
       "4       xi  "
      ]
     },
     "execution_count": 15,
     "metadata": {},
     "output_type": "execute_result"
    }
   ],
   "source": [
    "df_factions.head()"
   ]
  },
  {
   "cell_type": "markdown",
   "metadata": {},
   "source": [
    "## Get current koosseis using API"
   ]
  },
  {
   "cell_type": "code",
   "execution_count": 16,
   "metadata": {},
   "outputs": [],
   "source": [
    "current_koosseis=get_query_jsn('https://api.riigikogu.ee/api/plenary-members?lang=et')"
   ]
  },
  {
   "cell_type": "code",
   "execution_count": 17,
   "metadata": {},
   "outputs": [
    {
     "data": {
      "text/html": [
       "<div>\n",
       "<style scoped>\n",
       "    .dataframe tbody tr th:only-of-type {\n",
       "        vertical-align: middle;\n",
       "    }\n",
       "\n",
       "    .dataframe tbody tr th {\n",
       "        vertical-align: top;\n",
       "    }\n",
       "\n",
       "    .dataframe thead th {\n",
       "        text-align: right;\n",
       "    }\n",
       "</style>\n",
       "<table border=\"1\" class=\"dataframe\">\n",
       "  <thead>\n",
       "    <tr style=\"text-align: right;\">\n",
       "      <th></th>\n",
       "      <th>name</th>\n",
       "      <th>faction</th>\n",
       "      <th>koosseis</th>\n",
       "    </tr>\n",
       "  </thead>\n",
       "  <tbody>\n",
       "    <tr>\n",
       "      <th>0</th>\n",
       "      <td>Jaak Aab</td>\n",
       "      <td>Eesti Keskerakonna fraktsioon</td>\n",
       "      <td>xiv</td>\n",
       "    </tr>\n",
       "    <tr>\n",
       "      <th>1</th>\n",
       "      <td>Merry Aart</td>\n",
       "      <td>Eesti Konservatiivse Rahvaerakonna fraktsioon</td>\n",
       "      <td>xiv</td>\n",
       "    </tr>\n",
       "    <tr>\n",
       "      <th>2</th>\n",
       "      <td>Taavi Aas</td>\n",
       "      <td>Eesti Keskerakonna fraktsioon</td>\n",
       "      <td>xiv</td>\n",
       "    </tr>\n",
       "    <tr>\n",
       "      <th>3</th>\n",
       "      <td>Annely Akkermann</td>\n",
       "      <td>Eesti Reformierakonna fraktsioon</td>\n",
       "      <td>xiv</td>\n",
       "    </tr>\n",
       "    <tr>\n",
       "      <th>4</th>\n",
       "      <td>Yoko Alender</td>\n",
       "      <td>Eesti Reformierakonna fraktsioon</td>\n",
       "      <td>xiv</td>\n",
       "    </tr>\n",
       "  </tbody>\n",
       "</table>\n",
       "</div>"
      ],
      "text/plain": [
       "               name                                        faction koosseis\n",
       "0          Jaak Aab                  Eesti Keskerakonna fraktsioon      xiv\n",
       "1        Merry Aart  Eesti Konservatiivse Rahvaerakonna fraktsioon      xiv\n",
       "2         Taavi Aas                  Eesti Keskerakonna fraktsioon      xiv\n",
       "3  Annely Akkermann               Eesti Reformierakonna fraktsioon      xiv\n",
       "4      Yoko Alender               Eesti Reformierakonna fraktsioon      xiv"
      ]
     },
     "execution_count": 17,
     "metadata": {},
     "output_type": "execute_result"
    }
   ],
   "source": [
    "df_current_faction=pd.DataFrame([[i['fullName'], i['faction']['name']] for i in current_koosseis])\n",
    "df_current_faction.columns=['name', 'faction']\n",
    "df_current_faction['koosseis']='xiv'\n",
    "df_current_faction.head()"
   ]
  },
  {
   "cell_type": "markdown",
   "metadata": {},
   "source": [
    "## Append current and historic data"
   ]
  },
  {
   "cell_type": "code",
   "execution_count": 18,
   "metadata": {},
   "outputs": [
    {
     "data": {
      "text/plain": [
       "(406, 3)"
      ]
     },
     "execution_count": 18,
     "metadata": {},
     "output_type": "execute_result"
    }
   ],
   "source": [
    "df_factions_all=df_factions.append(df_current_faction)\n",
    "df_factions_all=df_factions_all.reset_index(drop=True)\n",
    "df_factions_all.shape"
   ]
  },
  {
   "cell_type": "markdown",
   "metadata": {},
   "source": [
    "## Do some cleaning"
   ]
  },
  {
   "cell_type": "code",
   "execution_count": 19,
   "metadata": {},
   "outputs": [
    {
     "data": {
      "text/plain": [
       "(281, 12)"
      ]
     },
     "execution_count": 19,
     "metadata": {},
     "output_type": "execute_result"
    }
   ],
   "source": [
    "df_factions_all['name'].nunique(), df_factions_all['faction'].nunique()"
   ]
  },
  {
   "cell_type": "code",
   "execution_count": 20,
   "metadata": {},
   "outputs": [
    {
     "data": {
      "text/plain": [
       "(280, 12)"
      ]
     },
     "execution_count": 20,
     "metadata": {},
     "output_type": "execute_result"
    }
   ],
   "source": [
    "#a bit of cleaning and formatting\n",
    "df_factions_all['name']=df_factions_all.name.str.strip()\n",
    "df_factions_all['faction']=df_factions_all.faction.str.strip()\n",
    "df_factions_all['name'].nunique(), df_factions_all['faction'].nunique()"
   ]
  },
  {
   "cell_type": "markdown",
   "metadata": {},
   "source": [
    "## Get times (if from or to exists) if person has changed faction during koosseis"
   ]
  },
  {
   "cell_type": "code",
   "execution_count": 21,
   "metadata": {},
   "outputs": [],
   "source": [
    "def get_from_to(text):\n",
    "    \"\"\"extract from and to in faction member nae field\"\"\"\n",
    "    if ' (alates' in text.lower():\n",
    "        return text.split(' (alates')[-1].replace(')', '').strip(), None\n",
    "    start_end=re.findall('\\(\\d\\d\\.\\d\\d\\.\\d\\d\\d\\d–\\d\\d\\.\\d\\d\\.\\d\\d\\d\\d\\)', text)\n",
    "    if len(start_end)>0:\n",
    "        start, end = start_end[0].split('–')\n",
    "        return start.replace('(', '').strip(), end.replace(')', '').strip()\n",
    "    return None, None"
   ]
  },
  {
   "cell_type": "code",
   "execution_count": 22,
   "metadata": {},
   "outputs": [],
   "source": [
    "df_factions_all['from'], df_factions_all['to']= zip(*df_factions_all['name'].map(get_from_to))"
   ]
  },
  {
   "cell_type": "code",
   "execution_count": 23,
   "metadata": {},
   "outputs": [
    {
     "data": {
      "text/plain": [
       "07.07.2010    5\n",
       "02.04.2007    4\n",
       "09.04.2007    1\n",
       "03.04.2007    1\n",
       "31.05.2010    1\n",
       "22.04.2008    1\n",
       "12.03.2010    1\n",
       "07.12.2010    1\n",
       "Name: from, dtype: int64"
      ]
     },
     "execution_count": 23,
     "metadata": {},
     "output_type": "execute_result"
    }
   ],
   "source": [
    "df_factions_all['from'].value_counts()"
   ]
  },
  {
   "cell_type": "markdown",
   "metadata": {},
   "source": [
    "## Fill members from and to based on koosseis start time"
   ]
  },
  {
   "cell_type": "code",
   "execution_count": 24,
   "metadata": {},
   "outputs": [],
   "source": [
    "#this was taken from wikipedia\n",
    "koosseis_start={'xi':'02.04.2007',\n",
    "                'xii':'04.04.2011',\n",
    "                'xiii':'30.03.2015',\n",
    "                'xiv':'04.04.2019'}\n",
    "\n",
    "koosseis_end={'xi':'03.04.2011',\n",
    "                'xii':'29.03.2015',\n",
    "                'xiii':'03.04.2019',\n",
    "                'xiv':'03.04.2023'}"
   ]
  },
  {
   "cell_type": "code",
   "execution_count": 26,
   "metadata": {},
   "outputs": [],
   "source": [
    "df_factions_all['from']=np.where(pd.isnull(df_factions_all['from']), df_factions_all.koosseis.apply(lambda x: koosseis_start[x]), df_factions_all['from'])\n",
    "df_factions_all['to']=np.where(pd.isnull(df_factions_all['to']), df_factions_all.koosseis.apply(lambda x: koosseis_end[x]), df_factions_all['to'])\n",
    "df_factions_all['from']=pd.to_datetime(df_factions_all['from'])\n",
    "df_factions_all['to']=pd.to_datetime(df_factions_all['to'])"
   ]
  },
  {
   "cell_type": "code",
   "execution_count": 27,
   "metadata": {},
   "outputs": [
    {
     "data": {
      "text/html": [
       "<div>\n",
       "<style scoped>\n",
       "    .dataframe tbody tr th:only-of-type {\n",
       "        vertical-align: middle;\n",
       "    }\n",
       "\n",
       "    .dataframe tbody tr th {\n",
       "        vertical-align: top;\n",
       "    }\n",
       "\n",
       "    .dataframe thead th {\n",
       "        text-align: right;\n",
       "    }\n",
       "</style>\n",
       "<table border=\"1\" class=\"dataframe\">\n",
       "  <thead>\n",
       "    <tr style=\"text-align: right;\">\n",
       "      <th></th>\n",
       "      <th>name</th>\n",
       "      <th>faction</th>\n",
       "      <th>koosseis</th>\n",
       "      <th>from</th>\n",
       "      <th>to</th>\n",
       "    </tr>\n",
       "  </thead>\n",
       "  <tbody>\n",
       "    <tr>\n",
       "      <th>0</th>\n",
       "      <td>Mai Treial (02.04.2007–07.07.2010)</td>\n",
       "      <td>Eestimaa Rahvaliidu fraktsioon</td>\n",
       "      <td>xi</td>\n",
       "      <td>2007-02-04</td>\n",
       "      <td>2010-07-07</td>\n",
       "    </tr>\n",
       "    <tr>\n",
       "      <th>1</th>\n",
       "      <td>Villu Reiljan (02.04.2007–26.05.2010)</td>\n",
       "      <td>Eestimaa Rahvaliidu fraktsioon</td>\n",
       "      <td>xi</td>\n",
       "      <td>2007-02-04</td>\n",
       "      <td>2010-05-26</td>\n",
       "    </tr>\n",
       "    <tr>\n",
       "      <th>2</th>\n",
       "      <td>Karel Rüütli (02.04.2007–07.07.2010)</td>\n",
       "      <td>Eestimaa Rahvaliidu fraktsioon</td>\n",
       "      <td>xi</td>\n",
       "      <td>2007-02-04</td>\n",
       "      <td>2010-07-07</td>\n",
       "    </tr>\n",
       "    <tr>\n",
       "      <th>3</th>\n",
       "      <td>Ester Tuiksoo (09.04.2007–07.07.2010)</td>\n",
       "      <td>Eestimaa Rahvaliidu fraktsioon</td>\n",
       "      <td>xi</td>\n",
       "      <td>2007-09-04</td>\n",
       "      <td>2010-07-07</td>\n",
       "    </tr>\n",
       "    <tr>\n",
       "      <th>4</th>\n",
       "      <td>Tarmo Mänd (03.04.2007–12.03.2010)</td>\n",
       "      <td>Eestimaa Rahvaliidu fraktsioon</td>\n",
       "      <td>xi</td>\n",
       "      <td>2007-03-04</td>\n",
       "      <td>2010-12-03</td>\n",
       "    </tr>\n",
       "    <tr>\n",
       "      <th>...</th>\n",
       "      <td>...</td>\n",
       "      <td>...</td>\n",
       "      <td>...</td>\n",
       "      <td>...</td>\n",
       "      <td>...</td>\n",
       "    </tr>\n",
       "    <tr>\n",
       "      <th>401</th>\n",
       "      <td>Marika Tuus-Laul</td>\n",
       "      <td>Eesti Keskerakonna fraktsioon</td>\n",
       "      <td>xiv</td>\n",
       "      <td>2019-04-04</td>\n",
       "      <td>2023-03-04</td>\n",
       "    </tr>\n",
       "    <tr>\n",
       "      <th>402</th>\n",
       "      <td>Jaak Valge</td>\n",
       "      <td>Eesti Konservatiivse Rahvaerakonna fraktsioon</td>\n",
       "      <td>xiv</td>\n",
       "      <td>2019-04-04</td>\n",
       "      <td>2023-03-04</td>\n",
       "    </tr>\n",
       "    <tr>\n",
       "      <th>403</th>\n",
       "      <td>Viktor Vassiljev</td>\n",
       "      <td>Eesti Keskerakonna fraktsioon</td>\n",
       "      <td>xiv</td>\n",
       "      <td>2019-04-04</td>\n",
       "      <td>2023-03-04</td>\n",
       "    </tr>\n",
       "    <tr>\n",
       "      <th>404</th>\n",
       "      <td>Aivar Viidik</td>\n",
       "      <td>Eesti Reformierakonna fraktsioon</td>\n",
       "      <td>xiv</td>\n",
       "      <td>2019-04-04</td>\n",
       "      <td>2023-03-04</td>\n",
       "    </tr>\n",
       "    <tr>\n",
       "      <th>405</th>\n",
       "      <td>Mart Võrklaev</td>\n",
       "      <td>Eesti Reformierakonna fraktsioon</td>\n",
       "      <td>xiv</td>\n",
       "      <td>2019-04-04</td>\n",
       "      <td>2023-03-04</td>\n",
       "    </tr>\n",
       "  </tbody>\n",
       "</table>\n",
       "<p>406 rows × 5 columns</p>\n",
       "</div>"
      ],
      "text/plain": [
       "                                      name  \\\n",
       "0       Mai Treial (02.04.2007–07.07.2010)   \n",
       "1    Villu Reiljan (02.04.2007–26.05.2010)   \n",
       "2     Karel Rüütli (02.04.2007–07.07.2010)   \n",
       "3    Ester Tuiksoo (09.04.2007–07.07.2010)   \n",
       "4       Tarmo Mänd (03.04.2007–12.03.2010)   \n",
       "..                                     ...   \n",
       "401                       Marika Tuus-Laul   \n",
       "402                             Jaak Valge   \n",
       "403                       Viktor Vassiljev   \n",
       "404                           Aivar Viidik   \n",
       "405                          Mart Võrklaev   \n",
       "\n",
       "                                           faction koosseis       from  \\\n",
       "0                   Eestimaa Rahvaliidu fraktsioon       xi 2007-02-04   \n",
       "1                   Eestimaa Rahvaliidu fraktsioon       xi 2007-02-04   \n",
       "2                   Eestimaa Rahvaliidu fraktsioon       xi 2007-02-04   \n",
       "3                   Eestimaa Rahvaliidu fraktsioon       xi 2007-09-04   \n",
       "4                   Eestimaa Rahvaliidu fraktsioon       xi 2007-03-04   \n",
       "..                                             ...      ...        ...   \n",
       "401                  Eesti Keskerakonna fraktsioon      xiv 2019-04-04   \n",
       "402  Eesti Konservatiivse Rahvaerakonna fraktsioon      xiv 2019-04-04   \n",
       "403                  Eesti Keskerakonna fraktsioon      xiv 2019-04-04   \n",
       "404               Eesti Reformierakonna fraktsioon      xiv 2019-04-04   \n",
       "405               Eesti Reformierakonna fraktsioon      xiv 2019-04-04   \n",
       "\n",
       "            to  \n",
       "0   2010-07-07  \n",
       "1   2010-05-26  \n",
       "2   2010-07-07  \n",
       "3   2010-07-07  \n",
       "4   2010-12-03  \n",
       "..         ...  \n",
       "401 2023-03-04  \n",
       "402 2023-03-04  \n",
       "403 2023-03-04  \n",
       "404 2023-03-04  \n",
       "405 2023-03-04  \n",
       "\n",
       "[406 rows x 5 columns]"
      ]
     },
     "execution_count": 27,
     "metadata": {},
     "output_type": "execute_result"
    }
   ],
   "source": [
    "df_factions_all"
   ]
  },
  {
   "cell_type": "markdown",
   "metadata": {},
   "source": [
    "## Do additional cleaning of names"
   ]
  },
  {
   "cell_type": "code",
   "execution_count": 28,
   "metadata": {},
   "outputs": [
    {
     "data": {
      "text/html": [
       "<div>\n",
       "<style scoped>\n",
       "    .dataframe tbody tr th:only-of-type {\n",
       "        vertical-align: middle;\n",
       "    }\n",
       "\n",
       "    .dataframe tbody tr th {\n",
       "        vertical-align: top;\n",
       "    }\n",
       "\n",
       "    .dataframe thead th {\n",
       "        text-align: right;\n",
       "    }\n",
       "</style>\n",
       "<table border=\"1\" class=\"dataframe\">\n",
       "  <thead>\n",
       "    <tr style=\"text-align: right;\">\n",
       "      <th></th>\n",
       "      <th>name</th>\n",
       "      <th>faction</th>\n",
       "      <th>koosseis</th>\n",
       "      <th>from</th>\n",
       "      <th>to</th>\n",
       "      <th>name_clean</th>\n",
       "    </tr>\n",
       "  </thead>\n",
       "  <tbody>\n",
       "    <tr>\n",
       "      <th>0</th>\n",
       "      <td>Mai Treial (02.04.2007–07.07.2010)</td>\n",
       "      <td>Eestimaa Rahvaliidu fraktsioon</td>\n",
       "      <td>xi</td>\n",
       "      <td>2007-02-04</td>\n",
       "      <td>2010-07-07</td>\n",
       "      <td>Mai Treial</td>\n",
       "    </tr>\n",
       "    <tr>\n",
       "      <th>1</th>\n",
       "      <td>Villu Reiljan (02.04.2007–26.05.2010)</td>\n",
       "      <td>Eestimaa Rahvaliidu fraktsioon</td>\n",
       "      <td>xi</td>\n",
       "      <td>2007-02-04</td>\n",
       "      <td>2010-05-26</td>\n",
       "      <td>Villu Reiljan</td>\n",
       "    </tr>\n",
       "    <tr>\n",
       "      <th>2</th>\n",
       "      <td>Karel Rüütli (02.04.2007–07.07.2010)</td>\n",
       "      <td>Eestimaa Rahvaliidu fraktsioon</td>\n",
       "      <td>xi</td>\n",
       "      <td>2007-02-04</td>\n",
       "      <td>2010-07-07</td>\n",
       "      <td>Karel Rüütli</td>\n",
       "    </tr>\n",
       "    <tr>\n",
       "      <th>3</th>\n",
       "      <td>Ester Tuiksoo (09.04.2007–07.07.2010)</td>\n",
       "      <td>Eestimaa Rahvaliidu fraktsioon</td>\n",
       "      <td>xi</td>\n",
       "      <td>2007-09-04</td>\n",
       "      <td>2010-07-07</td>\n",
       "      <td>Ester Tuiksoo</td>\n",
       "    </tr>\n",
       "    <tr>\n",
       "      <th>4</th>\n",
       "      <td>Tarmo Mänd (03.04.2007–12.03.2010)</td>\n",
       "      <td>Eestimaa Rahvaliidu fraktsioon</td>\n",
       "      <td>xi</td>\n",
       "      <td>2007-03-04</td>\n",
       "      <td>2010-12-03</td>\n",
       "      <td>Tarmo Mänd</td>\n",
       "    </tr>\n",
       "  </tbody>\n",
       "</table>\n",
       "</div>"
      ],
      "text/plain": [
       "                                    name                         faction  \\\n",
       "0     Mai Treial (02.04.2007–07.07.2010)  Eestimaa Rahvaliidu fraktsioon   \n",
       "1  Villu Reiljan (02.04.2007–26.05.2010)  Eestimaa Rahvaliidu fraktsioon   \n",
       "2   Karel Rüütli (02.04.2007–07.07.2010)  Eestimaa Rahvaliidu fraktsioon   \n",
       "3  Ester Tuiksoo (09.04.2007–07.07.2010)  Eestimaa Rahvaliidu fraktsioon   \n",
       "4     Tarmo Mänd (03.04.2007–12.03.2010)  Eestimaa Rahvaliidu fraktsioon   \n",
       "\n",
       "  koosseis       from         to     name_clean  \n",
       "0       xi 2007-02-04 2010-07-07     Mai Treial  \n",
       "1       xi 2007-02-04 2010-05-26  Villu Reiljan  \n",
       "2       xi 2007-02-04 2010-07-07   Karel Rüütli  \n",
       "3       xi 2007-09-04 2010-07-07  Ester Tuiksoo  \n",
       "4       xi 2007-03-04 2010-12-03     Tarmo Mänd  "
      ]
     },
     "execution_count": 28,
     "metadata": {},
     "output_type": "execute_result"
    }
   ],
   "source": [
    "#remove time info from names\n",
    "df_factions_all['name_clean']=df_factions_all.name.apply(lambda x: x.split('(')[0].split(', ')[0].strip())\n",
    "df_factions_all.head()"
   ]
  },
  {
   "cell_type": "code",
   "execution_count": 29,
   "metadata": {},
   "outputs": [
    {
     "data": {
      "text/plain": [
       "Enn Eesmaa          4\n",
       "Heljo Pikhof        4\n",
       "Sven Sester         4\n",
       "Kalvi Kõva          4\n",
       "Marko Mihkelson     4\n",
       "                   ..\n",
       "Tiit Tammsaar       1\n",
       "Rannar Vassiljev    1\n",
       "Remo Holsmer        1\n",
       "Jaanus Tamkivi      1\n",
       "Mart Võrklaev       1\n",
       "Name: name_clean, Length: 270, dtype: int64"
      ]
     },
     "execution_count": 29,
     "metadata": {},
     "output_type": "execute_result"
    }
   ],
   "source": [
    "df_factions_all.name_clean.value_counts()"
   ]
  },
  {
   "cell_type": "code",
   "execution_count": 30,
   "metadata": {},
   "outputs": [
    {
     "data": {
      "text/plain": [
       "{' ',\n",
       " '-',\n",
       " 'a',\n",
       " 'b',\n",
       " 'c',\n",
       " 'd',\n",
       " 'e',\n",
       " 'f',\n",
       " 'g',\n",
       " 'h',\n",
       " 'i',\n",
       " 'j',\n",
       " 'k',\n",
       " 'l',\n",
       " 'm',\n",
       " 'n',\n",
       " 'o',\n",
       " 'p',\n",
       " 'r',\n",
       " 's',\n",
       " 't',\n",
       " 'u',\n",
       " 'v',\n",
       " 'y',\n",
       " 'z',\n",
       " 'ä',\n",
       " 'õ',\n",
       " 'ö',\n",
       " 'ü',\n",
       " 'š'}"
      ]
     },
     "execution_count": 30,
     "metadata": {},
     "output_type": "execute_result"
    }
   ],
   "source": [
    "#check if have some funny characters\n",
    "set(''.join(df_factions_all.name_clean.tolist()).lower())"
   ]
  },
  {
   "cell_type": "code",
   "execution_count": 31,
   "metadata": {},
   "outputs": [
    {
     "data": {
      "text/html": [
       "<div>\n",
       "<style scoped>\n",
       "    .dataframe tbody tr th:only-of-type {\n",
       "        vertical-align: middle;\n",
       "    }\n",
       "\n",
       "    .dataframe tbody tr th {\n",
       "        vertical-align: top;\n",
       "    }\n",
       "\n",
       "    .dataframe thead th {\n",
       "        text-align: right;\n",
       "    }\n",
       "</style>\n",
       "<table border=\"1\" class=\"dataframe\">\n",
       "  <thead>\n",
       "    <tr style=\"text-align: right;\">\n",
       "      <th></th>\n",
       "      <th>name</th>\n",
       "      <th>faction</th>\n",
       "      <th>koosseis</th>\n",
       "      <th>from</th>\n",
       "      <th>to</th>\n",
       "      <th>name_clean</th>\n",
       "    </tr>\n",
       "  </thead>\n",
       "  <tbody>\n",
       "    <tr>\n",
       "      <th>18</th>\n",
       "      <td>Mari-Ann Kelam</td>\n",
       "      <td>Isamaa ja Res Publica Liidu fraktsioon</td>\n",
       "      <td>xi</td>\n",
       "      <td>2007-02-04</td>\n",
       "      <td>2011-03-04</td>\n",
       "      <td>Mari-Ann Kelam</td>\n",
       "    </tr>\n",
       "    <tr>\n",
       "      <th>24</th>\n",
       "      <td>Liisa-Ly Pakosta</td>\n",
       "      <td>Isamaa ja Res Publica Liidu fraktsioon</td>\n",
       "      <td>xi</td>\n",
       "      <td>2007-02-04</td>\n",
       "      <td>2011-03-04</td>\n",
       "      <td>Liisa-Ly Pakosta</td>\n",
       "    </tr>\n",
       "    <tr>\n",
       "      <th>29</th>\n",
       "      <td>Ken-Marti Vaher</td>\n",
       "      <td>Isamaa ja Res Publica Liidu fraktsioon</td>\n",
       "      <td>xi</td>\n",
       "      <td>2007-02-04</td>\n",
       "      <td>2011-03-04</td>\n",
       "      <td>Ken-Marti Vaher</td>\n",
       "    </tr>\n",
       "    <tr>\n",
       "      <th>51</th>\n",
       "      <td>Katrin Karisma-Krumm</td>\n",
       "      <td>Eesti Reformierakonna fraktsioon</td>\n",
       "      <td>xi</td>\n",
       "      <td>2007-02-04</td>\n",
       "      <td>2011-03-04</td>\n",
       "      <td>Katrin Karisma-Krumm</td>\n",
       "    </tr>\n",
       "    <tr>\n",
       "      <th>65</th>\n",
       "      <td>Paul-Eerik Rummo</td>\n",
       "      <td>Eesti Reformierakonna fraktsioon</td>\n",
       "      <td>xi</td>\n",
       "      <td>2007-02-04</td>\n",
       "      <td>2011-03-04</td>\n",
       "      <td>Paul-Eerik Rummo</td>\n",
       "    </tr>\n",
       "    <tr>\n",
       "      <th>119</th>\n",
       "      <td>Liisa-Ly Pakosta</td>\n",
       "      <td>Isamaa ja Res Publica Liidu fraktsioon</td>\n",
       "      <td>xii</td>\n",
       "      <td>2011-04-04</td>\n",
       "      <td>2015-03-29</td>\n",
       "      <td>Liisa-Ly Pakosta</td>\n",
       "    </tr>\n",
       "    <tr>\n",
       "      <th>124</th>\n",
       "      <td>Helir-Valdor Seeder</td>\n",
       "      <td>Isamaa ja Res Publica Liidu fraktsioon</td>\n",
       "      <td>xii</td>\n",
       "      <td>2011-04-04</td>\n",
       "      <td>2015-03-29</td>\n",
       "      <td>Helir-Valdor Seeder</td>\n",
       "    </tr>\n",
       "    <tr>\n",
       "      <th>129</th>\n",
       "      <td>Ken-Marti Vaher</td>\n",
       "      <td>Isamaa ja Res Publica Liidu fraktsioon</td>\n",
       "      <td>xii</td>\n",
       "      <td>2011-04-04</td>\n",
       "      <td>2015-03-29</td>\n",
       "      <td>Ken-Marti Vaher</td>\n",
       "    </tr>\n",
       "    <tr>\n",
       "      <th>167</th>\n",
       "      <td>Tiina Lokk-Tramberg</td>\n",
       "      <td>Eesti Reformierakonna fraktsioon</td>\n",
       "      <td>xii</td>\n",
       "      <td>2011-04-04</td>\n",
       "      <td>2015-03-29</td>\n",
       "      <td>Tiina Lokk-Tramberg</td>\n",
       "    </tr>\n",
       "    <tr>\n",
       "      <th>177</th>\n",
       "      <td>Paul-Eerik Rummo</td>\n",
       "      <td>Eesti Reformierakonna fraktsioon</td>\n",
       "      <td>xii</td>\n",
       "      <td>2011-04-04</td>\n",
       "      <td>2015-03-29</td>\n",
       "      <td>Paul-Eerik Rummo</td>\n",
       "    </tr>\n",
       "    <tr>\n",
       "      <th>196</th>\n",
       "      <td>Marika Tuus-Laul</td>\n",
       "      <td>Eesti Keskerakonna fraktsioon</td>\n",
       "      <td>xii</td>\n",
       "      <td>2011-04-04</td>\n",
       "      <td>2015-03-29</td>\n",
       "      <td>Marika Tuus-Laul</td>\n",
       "    </tr>\n",
       "    <tr>\n",
       "      <th>222</th>\n",
       "      <td>Marika Tuus-Laul</td>\n",
       "      <td>Eesti Keskerakonna fraktsioon</td>\n",
       "      <td>xiii</td>\n",
       "      <td>2015-03-30</td>\n",
       "      <td>2019-03-04</td>\n",
       "      <td>Marika Tuus-Laul</td>\n",
       "    </tr>\n",
       "    <tr>\n",
       "      <th>227</th>\n",
       "      <td>Siret Kotka-Repinski</td>\n",
       "      <td>Eesti Keskerakonna fraktsioon</td>\n",
       "      <td>xiii</td>\n",
       "      <td>2015-03-30</td>\n",
       "      <td>2019-03-04</td>\n",
       "      <td>Siret Kotka-Repinski</td>\n",
       "    </tr>\n",
       "    <tr>\n",
       "      <th>256</th>\n",
       "      <td>Keit Pentus-Rosimannus</td>\n",
       "      <td>Eesti Reformierakonna fraktsioon</td>\n",
       "      <td>xiii</td>\n",
       "      <td>2015-03-30</td>\n",
       "      <td>2019-03-04</td>\n",
       "      <td>Keit Pentus-Rosimannus</td>\n",
       "    </tr>\n",
       "    <tr>\n",
       "      <th>272</th>\n",
       "      <td>Helir-Valdor Seeder</td>\n",
       "      <td>Isamaa fraktsioon</td>\n",
       "      <td>xiii</td>\n",
       "      <td>2015-03-30</td>\n",
       "      <td>2019-03-04</td>\n",
       "      <td>Helir-Valdor Seeder</td>\n",
       "    </tr>\n",
       "    <tr>\n",
       "      <th>282</th>\n",
       "      <td>Viktoria Ladõnskaja-Kubits</td>\n",
       "      <td>Isamaa fraktsioon</td>\n",
       "      <td>xiii</td>\n",
       "      <td>2015-03-30</td>\n",
       "      <td>2019-03-04</td>\n",
       "      <td>Viktoria Ladõnskaja-Kubits</td>\n",
       "    </tr>\n",
       "    <tr>\n",
       "      <th>318</th>\n",
       "      <td>Helle-Moonika Helme</td>\n",
       "      <td>Eesti Konservatiivse Rahvaerakonna fraktsioon</td>\n",
       "      <td>xiv</td>\n",
       "      <td>2019-04-04</td>\n",
       "      <td>2023-03-04</td>\n",
       "      <td>Helle-Moonika Helme</td>\n",
       "    </tr>\n",
       "    <tr>\n",
       "      <th>324</th>\n",
       "      <td>Maria Jufereva-Skuratovski</td>\n",
       "      <td>Eesti Keskerakonna fraktsioon</td>\n",
       "      <td>xiv</td>\n",
       "      <td>2019-04-04</td>\n",
       "      <td>2023-03-04</td>\n",
       "      <td>Maria Jufereva-Skuratovski</td>\n",
       "    </tr>\n",
       "    <tr>\n",
       "      <th>342</th>\n",
       "      <td>Anastassia Kovalenko-Kõlvart</td>\n",
       "      <td>Fraktsiooni mittekuuluvad Riigikogu liikmed</td>\n",
       "      <td>xiv</td>\n",
       "      <td>2019-04-04</td>\n",
       "      <td>2023-03-04</td>\n",
       "      <td>Anastassia Kovalenko-Kõlvart</td>\n",
       "    </tr>\n",
       "    <tr>\n",
       "      <th>345</th>\n",
       "      <td>Eerik-Niiles Kross</td>\n",
       "      <td>Eesti Reformierakonna fraktsioon</td>\n",
       "      <td>xiv</td>\n",
       "      <td>2019-04-04</td>\n",
       "      <td>2023-03-04</td>\n",
       "      <td>Eerik-Niiles Kross</td>\n",
       "    </tr>\n",
       "    <tr>\n",
       "      <th>351</th>\n",
       "      <td>Viktoria Ladõnskaja-Kubits</td>\n",
       "      <td>Isamaa fraktsioon</td>\n",
       "      <td>xiv</td>\n",
       "      <td>2019-04-04</td>\n",
       "      <td>2023-03-04</td>\n",
       "      <td>Viktoria Ladõnskaja-Kubits</td>\n",
       "    </tr>\n",
       "    <tr>\n",
       "      <th>385</th>\n",
       "      <td>Helir-Valdor Seeder</td>\n",
       "      <td>Isamaa fraktsioon</td>\n",
       "      <td>xiv</td>\n",
       "      <td>2019-04-04</td>\n",
       "      <td>2023-03-04</td>\n",
       "      <td>Helir-Valdor Seeder</td>\n",
       "    </tr>\n",
       "    <tr>\n",
       "      <th>394</th>\n",
       "      <td>Kristina Šmigun-Vähi</td>\n",
       "      <td>Eesti Reformierakonna fraktsioon</td>\n",
       "      <td>xiv</td>\n",
       "      <td>2019-04-04</td>\n",
       "      <td>2023-03-04</td>\n",
       "      <td>Kristina Šmigun-Vähi</td>\n",
       "    </tr>\n",
       "    <tr>\n",
       "      <th>401</th>\n",
       "      <td>Marika Tuus-Laul</td>\n",
       "      <td>Eesti Keskerakonna fraktsioon</td>\n",
       "      <td>xiv</td>\n",
       "      <td>2019-04-04</td>\n",
       "      <td>2023-03-04</td>\n",
       "      <td>Marika Tuus-Laul</td>\n",
       "    </tr>\n",
       "  </tbody>\n",
       "</table>\n",
       "</div>"
      ],
      "text/plain": [
       "                             name  \\\n",
       "18                 Mari-Ann Kelam   \n",
       "24               Liisa-Ly Pakosta   \n",
       "29                Ken-Marti Vaher   \n",
       "51           Katrin Karisma-Krumm   \n",
       "65               Paul-Eerik Rummo   \n",
       "119              Liisa-Ly Pakosta   \n",
       "124           Helir-Valdor Seeder   \n",
       "129               Ken-Marti Vaher   \n",
       "167           Tiina Lokk-Tramberg   \n",
       "177              Paul-Eerik Rummo   \n",
       "196              Marika Tuus-Laul   \n",
       "222              Marika Tuus-Laul   \n",
       "227          Siret Kotka-Repinski   \n",
       "256        Keit Pentus-Rosimannus   \n",
       "272           Helir-Valdor Seeder   \n",
       "282    Viktoria Ladõnskaja-Kubits   \n",
       "318           Helle-Moonika Helme   \n",
       "324    Maria Jufereva-Skuratovski   \n",
       "342  Anastassia Kovalenko-Kõlvart   \n",
       "345            Eerik-Niiles Kross   \n",
       "351    Viktoria Ladõnskaja-Kubits   \n",
       "385           Helir-Valdor Seeder   \n",
       "394          Kristina Šmigun-Vähi   \n",
       "401              Marika Tuus-Laul   \n",
       "\n",
       "                                           faction koosseis       from  \\\n",
       "18          Isamaa ja Res Publica Liidu fraktsioon       xi 2007-02-04   \n",
       "24          Isamaa ja Res Publica Liidu fraktsioon       xi 2007-02-04   \n",
       "29          Isamaa ja Res Publica Liidu fraktsioon       xi 2007-02-04   \n",
       "51                Eesti Reformierakonna fraktsioon       xi 2007-02-04   \n",
       "65                Eesti Reformierakonna fraktsioon       xi 2007-02-04   \n",
       "119         Isamaa ja Res Publica Liidu fraktsioon      xii 2011-04-04   \n",
       "124         Isamaa ja Res Publica Liidu fraktsioon      xii 2011-04-04   \n",
       "129         Isamaa ja Res Publica Liidu fraktsioon      xii 2011-04-04   \n",
       "167               Eesti Reformierakonna fraktsioon      xii 2011-04-04   \n",
       "177               Eesti Reformierakonna fraktsioon      xii 2011-04-04   \n",
       "196                  Eesti Keskerakonna fraktsioon      xii 2011-04-04   \n",
       "222                  Eesti Keskerakonna fraktsioon     xiii 2015-03-30   \n",
       "227                  Eesti Keskerakonna fraktsioon     xiii 2015-03-30   \n",
       "256               Eesti Reformierakonna fraktsioon     xiii 2015-03-30   \n",
       "272                              Isamaa fraktsioon     xiii 2015-03-30   \n",
       "282                              Isamaa fraktsioon     xiii 2015-03-30   \n",
       "318  Eesti Konservatiivse Rahvaerakonna fraktsioon      xiv 2019-04-04   \n",
       "324                  Eesti Keskerakonna fraktsioon      xiv 2019-04-04   \n",
       "342    Fraktsiooni mittekuuluvad Riigikogu liikmed      xiv 2019-04-04   \n",
       "345               Eesti Reformierakonna fraktsioon      xiv 2019-04-04   \n",
       "351                              Isamaa fraktsioon      xiv 2019-04-04   \n",
       "385                              Isamaa fraktsioon      xiv 2019-04-04   \n",
       "394               Eesti Reformierakonna fraktsioon      xiv 2019-04-04   \n",
       "401                  Eesti Keskerakonna fraktsioon      xiv 2019-04-04   \n",
       "\n",
       "            to                    name_clean  \n",
       "18  2011-03-04                Mari-Ann Kelam  \n",
       "24  2011-03-04              Liisa-Ly Pakosta  \n",
       "29  2011-03-04               Ken-Marti Vaher  \n",
       "51  2011-03-04          Katrin Karisma-Krumm  \n",
       "65  2011-03-04              Paul-Eerik Rummo  \n",
       "119 2015-03-29              Liisa-Ly Pakosta  \n",
       "124 2015-03-29           Helir-Valdor Seeder  \n",
       "129 2015-03-29               Ken-Marti Vaher  \n",
       "167 2015-03-29           Tiina Lokk-Tramberg  \n",
       "177 2015-03-29              Paul-Eerik Rummo  \n",
       "196 2015-03-29              Marika Tuus-Laul  \n",
       "222 2019-03-04              Marika Tuus-Laul  \n",
       "227 2019-03-04          Siret Kotka-Repinski  \n",
       "256 2019-03-04        Keit Pentus-Rosimannus  \n",
       "272 2019-03-04           Helir-Valdor Seeder  \n",
       "282 2019-03-04    Viktoria Ladõnskaja-Kubits  \n",
       "318 2023-03-04           Helle-Moonika Helme  \n",
       "324 2023-03-04    Maria Jufereva-Skuratovski  \n",
       "342 2023-03-04  Anastassia Kovalenko-Kõlvart  \n",
       "345 2023-03-04            Eerik-Niiles Kross  \n",
       "351 2023-03-04    Viktoria Ladõnskaja-Kubits  \n",
       "385 2023-03-04           Helir-Valdor Seeder  \n",
       "394 2023-03-04          Kristina Šmigun-Vähi  \n",
       "401 2023-03-04              Marika Tuus-Laul  "
      ]
     },
     "execution_count": 31,
     "metadata": {},
     "output_type": "execute_result"
    }
   ],
   "source": [
    "df_factions_all[df_factions_all.name_clean.str.contains('-')]"
   ]
  },
  {
   "cell_type": "code",
   "execution_count": 32,
   "metadata": {},
   "outputs": [
    {
     "data": {
      "text/html": [
       "<div>\n",
       "<style scoped>\n",
       "    .dataframe tbody tr th:only-of-type {\n",
       "        vertical-align: middle;\n",
       "    }\n",
       "\n",
       "    .dataframe tbody tr th {\n",
       "        vertical-align: top;\n",
       "    }\n",
       "\n",
       "    .dataframe thead th {\n",
       "        text-align: right;\n",
       "    }\n",
       "</style>\n",
       "<table border=\"1\" class=\"dataframe\">\n",
       "  <thead>\n",
       "    <tr style=\"text-align: right;\">\n",
       "      <th></th>\n",
       "      <th>name</th>\n",
       "      <th>faction</th>\n",
       "      <th>koosseis</th>\n",
       "      <th>from</th>\n",
       "      <th>to</th>\n",
       "      <th>name_clean</th>\n",
       "    </tr>\n",
       "  </thead>\n",
       "  <tbody>\n",
       "    <tr>\n",
       "      <th>101</th>\n",
       "      <td>Tarmo Mänd (alates 12.03.2010)</td>\n",
       "      <td>Fraktsioonidesse mittekuulunud Riigikogu liikmed</td>\n",
       "      <td>xi</td>\n",
       "      <td>2010-12-03</td>\n",
       "      <td>2011-03-04</td>\n",
       "      <td>Tarmo Mänd</td>\n",
       "    </tr>\n",
       "    <tr>\n",
       "      <th>102</th>\n",
       "      <td>Jaanus Marrandi (alates 07.07.2010)</td>\n",
       "      <td>Fraktsioonidesse mittekuulunud Riigikogu liikmed</td>\n",
       "      <td>xi</td>\n",
       "      <td>2010-07-07</td>\n",
       "      <td>2011-03-04</td>\n",
       "      <td>Jaanus Marrandi</td>\n",
       "    </tr>\n",
       "    <tr>\n",
       "      <th>103</th>\n",
       "      <td>Karel Rüütli (alates 07.07.2010)</td>\n",
       "      <td>Fraktsioonidesse mittekuulunud Riigikogu liikmed</td>\n",
       "      <td>xi</td>\n",
       "      <td>2010-07-07</td>\n",
       "      <td>2011-03-04</td>\n",
       "      <td>Karel Rüütli</td>\n",
       "    </tr>\n",
       "    <tr>\n",
       "      <th>105</th>\n",
       "      <td>Mai Treial (alates 07.07.2010)</td>\n",
       "      <td>Fraktsioonidesse mittekuulunud Riigikogu liikmed</td>\n",
       "      <td>xi</td>\n",
       "      <td>2010-07-07</td>\n",
       "      <td>2011-03-04</td>\n",
       "      <td>Mai Treial</td>\n",
       "    </tr>\n",
       "    <tr>\n",
       "      <th>106</th>\n",
       "      <td>Ester Tuiksoo (alates 07.07.2010)</td>\n",
       "      <td>Fraktsioonidesse mittekuulunud Riigikogu liikmed</td>\n",
       "      <td>xi</td>\n",
       "      <td>2010-07-07</td>\n",
       "      <td>2011-03-04</td>\n",
       "      <td>Ester Tuiksoo</td>\n",
       "    </tr>\n",
       "    <tr>\n",
       "      <th>107</th>\n",
       "      <td>Jaan Õunapuu (alates 07.07.2010)</td>\n",
       "      <td>Fraktsioonidesse mittekuulunud Riigikogu liikmed</td>\n",
       "      <td>xi</td>\n",
       "      <td>2010-07-07</td>\n",
       "      <td>2011-03-04</td>\n",
       "      <td>Jaan Õunapuu</td>\n",
       "    </tr>\n",
       "  </tbody>\n",
       "</table>\n",
       "</div>"
      ],
      "text/plain": [
       "                                    name  \\\n",
       "101       Tarmo Mänd (alates 12.03.2010)   \n",
       "102  Jaanus Marrandi (alates 07.07.2010)   \n",
       "103     Karel Rüütli (alates 07.07.2010)   \n",
       "105       Mai Treial (alates 07.07.2010)   \n",
       "106    Ester Tuiksoo (alates 07.07.2010)   \n",
       "107     Jaan Õunapuu (alates 07.07.2010)   \n",
       "\n",
       "                                              faction koosseis       from  \\\n",
       "101  Fraktsioonidesse mittekuulunud Riigikogu liikmed       xi 2010-12-03   \n",
       "102  Fraktsioonidesse mittekuulunud Riigikogu liikmed       xi 2010-07-07   \n",
       "103  Fraktsioonidesse mittekuulunud Riigikogu liikmed       xi 2010-07-07   \n",
       "105  Fraktsioonidesse mittekuulunud Riigikogu liikmed       xi 2010-07-07   \n",
       "106  Fraktsioonidesse mittekuulunud Riigikogu liikmed       xi 2010-07-07   \n",
       "107  Fraktsioonidesse mittekuulunud Riigikogu liikmed       xi 2010-07-07   \n",
       "\n",
       "            to       name_clean  \n",
       "101 2011-03-04       Tarmo Mänd  \n",
       "102 2011-03-04  Jaanus Marrandi  \n",
       "103 2011-03-04     Karel Rüütli  \n",
       "105 2011-03-04       Mai Treial  \n",
       "106 2011-03-04    Ester Tuiksoo  \n",
       "107 2011-03-04     Jaan Õunapuu  "
      ]
     },
     "execution_count": 32,
     "metadata": {},
     "output_type": "execute_result"
    }
   ],
   "source": [
    "# members that have multiple factions in one koosseis - became MPs without faction (left faction/party)\n",
    "df_factions_all[df_factions_all.duplicated(subset=['name_clean', 'koosseis'])]"
   ]
  },
  {
   "cell_type": "markdown",
   "metadata": {},
   "source": [
    "## Save faction data"
   ]
  },
  {
   "cell_type": "code",
   "execution_count": 557,
   "metadata": {},
   "outputs": [],
   "source": [
    "df_factions_all.to_csv('data/interim/factions.csv',index=False)"
   ]
  },
  {
   "cell_type": "markdown",
   "metadata": {},
   "source": [
    "## Read stenos to add faction info"
   ]
  },
  {
   "cell_type": "code",
   "execution_count": 33,
   "metadata": {},
   "outputs": [
    {
     "data": {
      "text/plain": [
       "(209949, 14)"
      ]
     },
     "execution_count": 33,
     "metadata": {},
     "output_type": "execute_result"
    }
   ],
   "source": [
    "df_stenos=pd.read_csv('data/interim/stenos_cleaned.csv')\n",
    "df_stenos.shape"
   ]
  },
  {
   "cell_type": "code",
   "execution_count": 34,
   "metadata": {},
   "outputs": [
    {
     "data": {
      "text/html": [
       "<div>\n",
       "<style scoped>\n",
       "    .dataframe tbody tr th:only-of-type {\n",
       "        vertical-align: middle;\n",
       "    }\n",
       "\n",
       "    .dataframe tbody tr th {\n",
       "        vertical-align: top;\n",
       "    }\n",
       "\n",
       "    .dataframe thead th {\n",
       "        text-align: right;\n",
       "    }\n",
       "</style>\n",
       "<table border=\"1\" class=\"dataframe\">\n",
       "  <thead>\n",
       "    <tr style=\"text-align: right;\">\n",
       "      <th></th>\n",
       "      <th>heading</th>\n",
       "      <th>speaker</th>\n",
       "      <th>link_video</th>\n",
       "      <th>link_steno</th>\n",
       "      <th>index_pk</th>\n",
       "      <th>index_snd</th>\n",
       "      <th>text</th>\n",
       "      <th>year</th>\n",
       "      <th>month</th>\n",
       "      <th>day</th>\n",
       "      <th>time</th>\n",
       "      <th>seconds_from_start</th>\n",
       "      <th>video_link_wo_time</th>\n",
       "      <th>text_wo_punct</th>\n",
       "    </tr>\n",
       "  </thead>\n",
       "  <tbody>\n",
       "    <tr>\n",
       "      <th>0</th>\n",
       "      <td>10:00  Istungi rakendamine</td>\n",
       "      <td>Aseesimees Siim Kallas</td>\n",
       "      <td>https://www.youtube.com/watch?v=GaFL2Zc4OMg&amp;t=0</td>\n",
       "      <td>https://stenogrammid.riigikogu.ee/201911191000</td>\n",
       "      <td>PKP-25040</td>\n",
       "      <td>SND-559399</td>\n",
       "      <td>Auväärt kolleegid, auväärt Riigikogu, tere hom...</td>\n",
       "      <td>2019</td>\n",
       "      <td>11</td>\n",
       "      <td>19</td>\n",
       "      <td>10:00</td>\n",
       "      <td>0</td>\n",
       "      <td>https://www.youtube.com/watch?v=GaFL2Zc4OMg</td>\n",
       "      <td>auväärt kolleegid auväärt riigikogu tere hommi...</td>\n",
       "    </tr>\n",
       "    <tr>\n",
       "      <th>1</th>\n",
       "      <td>1.\\n                        10:02  Eesti Keske...</td>\n",
       "      <td>Aseesimees Siim Kallas</td>\n",
       "      <td>https://www.youtube.com/watch?v=GaFL2Zc4OMg&amp;t=125</td>\n",
       "      <td>https://stenogrammid.riigikogu.ee/201911191000</td>\n",
       "      <td>PKP-25041</td>\n",
       "      <td>SND-559400</td>\n",
       "      <td>Täna on meil päevakorras olulise tähtsusega ri...</td>\n",
       "      <td>2019</td>\n",
       "      <td>11</td>\n",
       "      <td>19</td>\n",
       "      <td>10:02</td>\n",
       "      <td>125</td>\n",
       "      <td>https://www.youtube.com/watch?v=GaFL2Zc4OMg</td>\n",
       "      <td>täna on meil päevakorras olulise tähtsusega ri...</td>\n",
       "    </tr>\n",
       "    <tr>\n",
       "      <th>2</th>\n",
       "      <td>1.\\n                        10:02  Eesti Keske...</td>\n",
       "      <td>Kersti Sarapuu</td>\n",
       "      <td>https://www.youtube.com/watch?v=GaFL2Zc4OMg&amp;t=238</td>\n",
       "      <td>https://stenogrammid.riigikogu.ee/201911191000</td>\n",
       "      <td>PKP-25041</td>\n",
       "      <td>SND-559401</td>\n",
       "      <td>Lugupeetud istungi juhataja! Head kolleegid ja...</td>\n",
       "      <td>2019</td>\n",
       "      <td>11</td>\n",
       "      <td>19</td>\n",
       "      <td>10:02</td>\n",
       "      <td>238</td>\n",
       "      <td>https://www.youtube.com/watch?v=GaFL2Zc4OMg</td>\n",
       "      <td>lugupeetud istungi juhataja head kolleegid ja ...</td>\n",
       "    </tr>\n",
       "    <tr>\n",
       "      <th>3</th>\n",
       "      <td>1.\\n                        10:02  Eesti Keske...</td>\n",
       "      <td>Aseesimees Siim Kallas</td>\n",
       "      <td>https://www.youtube.com/watch?v=GaFL2Zc4OMg&amp;t=...</td>\n",
       "      <td>https://stenogrammid.riigikogu.ee/201911191000</td>\n",
       "      <td>PKP-25041</td>\n",
       "      <td>SND-559402</td>\n",
       "      <td>Aitäh! Ettekandjatele ütlen niipalju, et selle...</td>\n",
       "      <td>2019</td>\n",
       "      <td>11</td>\n",
       "      <td>19</td>\n",
       "      <td>10:02</td>\n",
       "      <td>1194</td>\n",
       "      <td>https://www.youtube.com/watch?v=GaFL2Zc4OMg</td>\n",
       "      <td>aitäh ettekandjatele ütlen niipalju et selles ...</td>\n",
       "    </tr>\n",
       "    <tr>\n",
       "      <th>4</th>\n",
       "      <td>1.\\n                        10:02  Eesti Keske...</td>\n",
       "      <td>Aivar Sõerd</td>\n",
       "      <td>https://www.youtube.com/watch?v=GaFL2Zc4OMg&amp;t=...</td>\n",
       "      <td>https://stenogrammid.riigikogu.ee/201911191000</td>\n",
       "      <td>PKP-25041</td>\n",
       "      <td>SND-559403</td>\n",
       "      <td>Aitäh, austatud juhataja! Austatud ettekandja!...</td>\n",
       "      <td>2019</td>\n",
       "      <td>11</td>\n",
       "      <td>19</td>\n",
       "      <td>10:02</td>\n",
       "      <td>1231</td>\n",
       "      <td>https://www.youtube.com/watch?v=GaFL2Zc4OMg</td>\n",
       "      <td>aitäh austatud juhataja austatud ettekandja ei...</td>\n",
       "    </tr>\n",
       "  </tbody>\n",
       "</table>\n",
       "</div>"
      ],
      "text/plain": [
       "                                             heading                 speaker  \\\n",
       "0                         10:00  Istungi rakendamine  Aseesimees Siim Kallas   \n",
       "1  1.\\n                        10:02  Eesti Keske...  Aseesimees Siim Kallas   \n",
       "2  1.\\n                        10:02  Eesti Keske...          Kersti Sarapuu   \n",
       "3  1.\\n                        10:02  Eesti Keske...  Aseesimees Siim Kallas   \n",
       "4  1.\\n                        10:02  Eesti Keske...             Aivar Sõerd   \n",
       "\n",
       "                                          link_video  \\\n",
       "0    https://www.youtube.com/watch?v=GaFL2Zc4OMg&t=0   \n",
       "1  https://www.youtube.com/watch?v=GaFL2Zc4OMg&t=125   \n",
       "2  https://www.youtube.com/watch?v=GaFL2Zc4OMg&t=238   \n",
       "3  https://www.youtube.com/watch?v=GaFL2Zc4OMg&t=...   \n",
       "4  https://www.youtube.com/watch?v=GaFL2Zc4OMg&t=...   \n",
       "\n",
       "                                       link_steno   index_pk   index_snd  \\\n",
       "0  https://stenogrammid.riigikogu.ee/201911191000  PKP-25040  SND-559399   \n",
       "1  https://stenogrammid.riigikogu.ee/201911191000  PKP-25041  SND-559400   \n",
       "2  https://stenogrammid.riigikogu.ee/201911191000  PKP-25041  SND-559401   \n",
       "3  https://stenogrammid.riigikogu.ee/201911191000  PKP-25041  SND-559402   \n",
       "4  https://stenogrammid.riigikogu.ee/201911191000  PKP-25041  SND-559403   \n",
       "\n",
       "                                                text  year  month  day   time  \\\n",
       "0  Auväärt kolleegid, auväärt Riigikogu, tere hom...  2019     11   19  10:00   \n",
       "1  Täna on meil päevakorras olulise tähtsusega ri...  2019     11   19  10:02   \n",
       "2  Lugupeetud istungi juhataja! Head kolleegid ja...  2019     11   19  10:02   \n",
       "3  Aitäh! Ettekandjatele ütlen niipalju, et selle...  2019     11   19  10:02   \n",
       "4  Aitäh, austatud juhataja! Austatud ettekandja!...  2019     11   19  10:02   \n",
       "\n",
       "  seconds_from_start                           video_link_wo_time  \\\n",
       "0                  0  https://www.youtube.com/watch?v=GaFL2Zc4OMg   \n",
       "1                125  https://www.youtube.com/watch?v=GaFL2Zc4OMg   \n",
       "2                238  https://www.youtube.com/watch?v=GaFL2Zc4OMg   \n",
       "3               1194  https://www.youtube.com/watch?v=GaFL2Zc4OMg   \n",
       "4               1231  https://www.youtube.com/watch?v=GaFL2Zc4OMg   \n",
       "\n",
       "                                       text_wo_punct  \n",
       "0  auväärt kolleegid auväärt riigikogu tere hommi...  \n",
       "1  täna on meil päevakorras olulise tähtsusega ri...  \n",
       "2  lugupeetud istungi juhataja head kolleegid ja ...  \n",
       "3  aitäh ettekandjatele ütlen niipalju et selles ...  \n",
       "4  aitäh austatud juhataja austatud ettekandja ei...  "
      ]
     },
     "execution_count": 34,
     "metadata": {},
     "output_type": "execute_result"
    }
   ],
   "source": [
    "df_stenos.head()"
   ]
  },
  {
   "cell_type": "markdown",
   "metadata": {},
   "source": [
    "## Add koosseis info"
   ]
  },
  {
   "cell_type": "code",
   "execution_count": 35,
   "metadata": {},
   "outputs": [],
   "source": [
    "#create koossseis variable\n",
    "df_stenos['date']=pd.to_datetime(df_stenos.year.astype(str)+'.'+df_stenos.month.astype(str)+'.'+df_stenos.day.astype(str))\n",
    "df_stenos['koosseis']=np.where(df_stenos['date']<=pd.to_datetime(koosseis_end['xi']), 'xi', '')\n",
    "df_stenos['koosseis']=np.where((df_stenos['date']<=pd.to_datetime(koosseis_end['xii']))&(df_stenos['date']>pd.to_datetime(koosseis_end['xi'])), 'xii', df_stenos['koosseis'])\n",
    "df_stenos['koosseis']=np.where((df_stenos['date']<=pd.to_datetime(koosseis_end['xiii']))&(df_stenos['date']>pd.to_datetime(koosseis_end['xii'])), 'xiii', df_stenos['koosseis'])\n",
    "df_stenos['koosseis']=np.where((df_stenos['date']<=pd.to_datetime(koosseis_end['xiv']))&(df_stenos['date']>pd.to_datetime(koosseis_end['xiii'])), 'xiv', df_stenos['koosseis'])"
   ]
  },
  {
   "cell_type": "code",
   "execution_count": 36,
   "metadata": {},
   "outputs": [
    {
     "data": {
      "text/plain": [
       "xiii    72124\n",
       "xiv     60994\n",
       "xii     57013\n",
       "xi      19818\n",
       "Name: koosseis, dtype: int64"
      ]
     },
     "execution_count": 36,
     "metadata": {},
     "output_type": "execute_result"
    }
   ],
   "source": [
    "df_stenos.koosseis.value_counts()"
   ]
  },
  {
   "cell_type": "code",
   "execution_count": 37,
   "metadata": {},
   "outputs": [
    {
     "data": {
      "text/plain": [
       "(209949, 16)"
      ]
     },
     "execution_count": 37,
     "metadata": {},
     "output_type": "execute_result"
    }
   ],
   "source": [
    "df_stenos.shape"
   ]
  },
  {
   "cell_type": "markdown",
   "metadata": {},
   "source": [
    "## Add faction info"
   ]
  },
  {
   "cell_type": "code",
   "execution_count": 38,
   "metadata": {},
   "outputs": [
    {
     "name": "stdout",
     "output_type": "stream",
     "text": [
      "Wall time: 50min 6s\n"
     ]
    }
   ],
   "source": [
    "#this one takes time!\n",
    "def get_stenos_factions(x):\n",
    "    \"\"\"adds faction member info to steno based on the time of Riigikogu koosseis and when somebody was in faction\"\"\"\n",
    "    df_  = df_stenos[df_stenos.index_snd==x['index_snd']]\n",
    "    if not df_['speaker'].tolist()[0] in df_factions_all.name_clean.tolist():\n",
    "         return ''\n",
    "    df_factions_all_sub=df_factions_all[(df_factions_all['to']>=df_.date.tolist()[0])&(df_factions_all['from']<=df_.date.tolist()[0])&(df_factions_all.name_clean==df_['speaker'].tolist()[0])]\n",
    "    if df_factions_all_sub.shape[0]==0:\n",
    "        return ''\n",
    "    elif df_factions_all_sub.shape[0]==1:\n",
    "        return df_factions_all_sub['faction'].tolist()[0]\n",
    "    else:\n",
    "        print(f'df shape {df_.shape} should be (0, n)')\n",
    "        \n",
    "%time stenos_factions=df_stenos.apply(get_stenos_factions, axis=1)"
   ]
  },
  {
   "cell_type": "code",
   "execution_count": 39,
   "metadata": {},
   "outputs": [],
   "source": [
    "df_stenos['fation']=stenos_factions"
   ]
  },
  {
   "cell_type": "code",
   "execution_count": 40,
   "metadata": {},
   "outputs": [
    {
     "data": {
      "text/plain": [
       "                                                    135559\n",
       "Eesti Keskerakonna fraktsioon                        16806\n",
       "Eesti Reformierakonna fraktsioon                     15521\n",
       "Eesti Konservatiivse Rahvaerakonna fraktsioon        11069\n",
       "Sotsiaaldemokraatliku Erakonna fraktsioon            10050\n",
       "Isamaa fraktsioon                                     6095\n",
       "Isamaa ja Res Publica Liidu fraktsioon                5098\n",
       "Eesti Vabaerakonna fraktsioon                         3385\n",
       "Fraktsiooni mittekuuluvad saadikud                    2707\n",
       "Fraktsioonidesse mittekuulunud Riigikogu liikmed      2446\n",
       "Erakonna Eestimaa Rohelised fraktsioon                 486\n",
       "Eestimaa Rahvaliidu fraktsioon                         411\n",
       "Fraktsiooni mittekuuluvad Riigikogu liikmed            316\n",
       "Name: fation, dtype: int64"
      ]
     },
     "execution_count": 40,
     "metadata": {},
     "output_type": "execute_result"
    }
   ],
   "source": [
    "df_stenos['fation'].value_counts()"
   ]
  },
  {
   "cell_type": "markdown",
   "metadata": {},
   "source": [
    "## Save stenos"
   ]
  },
  {
   "cell_type": "code",
   "execution_count": 43,
   "metadata": {},
   "outputs": [],
   "source": [
    "df_stenos.to_csv('data/interim/stenos_cleaned_faction.csv', index=False)"
   ]
  },
  {
   "cell_type": "code",
   "execution_count": null,
   "metadata": {},
   "outputs": [],
   "source": []
  }
 ],
 "metadata": {
  "kernelspec": {
   "display_name": "Python 3.7.4 64-bit ('base': conda)",
   "language": "python",
   "name": "python37464bitbaseconda3c2e7dd945fe4d1ba39ed3bbf64cdaac"
  },
  "language_info": {
   "codemirror_mode": {
    "name": "ipython",
    "version": 3
   },
   "file_extension": ".py",
   "mimetype": "text/x-python",
   "name": "python",
   "nbconvert_exporter": "python",
   "pygments_lexer": "ipython3",
   "version": "3.7.4"
  }
 },
 "nbformat": 4,
 "nbformat_minor": 4
}
