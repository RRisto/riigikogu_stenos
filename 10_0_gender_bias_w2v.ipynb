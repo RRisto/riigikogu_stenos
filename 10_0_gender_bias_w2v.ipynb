{
 "cells": [
  {
   "cell_type": "code",
   "execution_count": 1,
   "id": "a6cc912b",
   "metadata": {},
   "outputs": [],
   "source": [
    "import math\n",
    "import gensim\n",
    "import umap\n",
    "import hdbscan\n",
    "import numpy as np\n",
    "import pandas as pd\n",
    "from ast import literal_eval\n",
    "from scipy.stats import norm\n",
    "from collections import Counter\n",
    "from sklearn.cluster import AgglomerativeClustering\n",
    "import matplotlib.pyplot as plt"
   ]
  },
  {
   "cell_type": "markdown",
   "id": "99345190",
   "metadata": {},
   "source": [
    "## Load wordvectors"
   ]
  },
  {
   "cell_type": "code",
   "execution_count": 2,
   "id": "2eb4945c",
   "metadata": {},
   "outputs": [],
   "source": [
    "vecs_w2v=gensim.models.KeyedVectors.load('wordvectors/riigikogu_word2vec.wordvectors')"
   ]
  },
  {
   "cell_type": "code",
   "execution_count": 3,
   "id": "2d239532",
   "metadata": {},
   "outputs": [
    {
     "data": {
      "text/plain": [
       "(1, 300)"
      ]
     },
     "execution_count": 3,
     "metadata": {},
     "output_type": "execute_result"
    }
   ],
   "source": [
    "np.expand_dims(vecs_w2v['õed'], axis=0).shape"
   ]
  },
  {
   "cell_type": "markdown",
   "id": "3fb21af1",
   "metadata": {},
   "source": [
    "## Helpers"
   ]
  },
  {
   "cell_type": "code",
   "execution_count": 4,
   "id": "e7298100",
   "metadata": {},
   "outputs": [],
   "source": [
    "#SC-WEAT function\n",
    "#source: https://github.com/wolferobert3/gender_bias_swe_aies2022/blob/main/gender_association_collector.py\n",
    "def SC_WEAT(w, A, B, permutations):\n",
    "    w_normed = w / np.linalg.norm(w)\n",
    "    A_normed = A / np.linalg.norm(A,axis=-1,keepdims=True)\n",
    "    B_normed = B / np.linalg.norm(B,axis=-1,keepdims=True)\n",
    "\n",
    "    A_associations = w_normed @ A_normed.T\n",
    "    B_associations = w_normed @ B_normed.T\n",
    "    joint_associations = np.concatenate((A_associations,B_associations),axis=-1)\n",
    "\n",
    "    test_statistic = np.mean(A_associations) - np.mean(B_associations)\n",
    "    effect_size = test_statistic / np.std(joint_associations,ddof=1)\n",
    "\n",
    "    midpoint = len(A)\n",
    "    sample_distribution = np.array([np.random.permutation(joint_associations) for _ in range(permutations)])\n",
    "    sample_associations = np.mean(sample_distribution[:,:midpoint],axis=1) - np.mean(sample_distribution[:,midpoint:],axis=1)\n",
    "    p_value = 1 - norm.cdf(test_statistic,np.mean(sample_associations),np.std(sample_associations,ddof=1))\n",
    "\n",
    "    return effect_size, p_value"
   ]
  },
  {
   "cell_type": "markdown",
   "id": "c2dddafa",
   "metadata": {},
   "source": [
    "## Get word vectors"
   ]
  },
  {
   "cell_type": "code",
   "execution_count": 6,
   "id": "100c8b04",
   "metadata": {},
   "outputs": [
    {
     "data": {
      "text/plain": [
       "True"
      ]
     },
     "execution_count": 6,
     "metadata": {},
     "output_type": "execute_result"
    }
   ],
   "source": [
    "#Attribute Words\n",
    "female_stimuli = ['naise','naine','tüdruk','tüdruku','õde', 'naiste','naistele','naist','õed','tütar', 'naisterahvas', 'tüdrukud', 'tüdrukute', 'ema', 'emad', 'naistel', 'üksikema']\n",
    "male_stimuli = ['mehe','mees','poiss','poisi', 'vend', 'meeste','meestele','meest','vennad','poeg', 'meesterahvas', 'poisid', 'poiste', 'isa', 'isad', 'meestel', 'üksikisa']\n",
    "\n",
    "len(set(female_stimuli))==len(set(male_stimuli))"
   ]
  },
  {
   "cell_type": "code",
   "execution_count": 7,
   "id": "5c7d8a0e",
   "metadata": {},
   "outputs": [],
   "source": [
    "def get_word_vecs(model, words, print_every=1000):\n",
    "    embeds=np.expand_dims(model[words[0]], axis=0)\n",
    "    for i, word in enumerate(words[1:]):\n",
    "        if i%print_every==0:\n",
    "            print(f'working on word {i}')\n",
    "        embeds=np.append(embeds, np.expand_dims(model[word], axis=0),  axis=0)\n",
    "    return embeds"
   ]
  },
  {
   "cell_type": "code",
   "execution_count": 8,
   "id": "799dd917",
   "metadata": {},
   "outputs": [
    {
     "name": "stdout",
     "output_type": "stream",
     "text": [
      "working on word 0\n",
      "working on word 0\n"
     ]
    }
   ],
   "source": [
    "female_embeddings=get_word_vecs(vecs_w2v, female_stimuli)\n",
    "male_embeddings=get_word_vecs(vecs_w2v, male_stimuli)"
   ]
  },
  {
   "cell_type": "code",
   "execution_count": 9,
   "id": "0158a470",
   "metadata": {},
   "outputs": [
    {
     "data": {
      "text/plain": [
       "((17, 300), (17, 300))"
      ]
     },
     "execution_count": 9,
     "metadata": {},
     "output_type": "execute_result"
    }
   ],
   "source": [
    "female_embeddings.shape, male_embeddings.shape"
   ]
  },
  {
   "cell_type": "markdown",
   "id": "607e749e",
   "metadata": {},
   "source": [
    "## Get target words - use frequency and remove stopwords"
   ]
  },
  {
   "cell_type": "code",
   "execution_count": 10,
   "id": "48db438d",
   "metadata": {},
   "outputs": [
    {
     "data": {
      "text/plain": [
       "(209949, 25)"
      ]
     },
     "execution_count": 10,
     "metadata": {},
     "output_type": "execute_result"
    }
   ],
   "source": [
    "df=pd.read_csv('data/interim/stenos_cleaned_topics_vecs.csv')\n",
    "df.shape"
   ]
  },
  {
   "cell_type": "code",
   "execution_count": 11,
   "id": "0bf63fdf",
   "metadata": {},
   "outputs": [
    {
     "data": {
      "text/plain": [
       "\"['auväärt', 'kolleegid', ',', 'auväärt', 'riigikogu', ',', 'tere', 'hommikust', '!', 'kui', 'te', 'nüüd', 'korraks', 'jälle', 'keskendute', 'meie', 'suurepärase', 'istungi', 'rakendamisele', 'ja', 'räägite', 'omavahelisi', 'jutte', 'edasi', 'pärast', ',', 'siis', 'on', 'mul', 'suur', 'rõõm', 'avada', 'riigikogu', 'täiskogu', 'ii', 'istungjärgu', '9.', 'töönädala', 'teisipäevane', 'istung', '.', 'kõigepealt', 'on', 'eelnõude', 'ja', 'arupärimiste', 'üleandmine', ',', 'kui', 'selleks', 'on', 'soovi', '.', 'eelnõude', 'ja', 'arupärimiste', 'üleandmise', 'soovi', 'ma', 'ei', 'näe', '.', 'siis', 'teeme', 'palun', 'kohaloleku', 'kontrolli', '.', 'kohaloleku', 'kontroll', 'kohal', 'on', '75', 'riigikogu', 'liiget', ',', 'puudub', '26.', 'sellest', 'piisab', 'täielikult', ',', 'et', 'asuda', 'meie', 'päevakorra', 'arutelu', 'juurde', '.']\""
      ]
     },
     "execution_count": 11,
     "metadata": {},
     "output_type": "execute_result"
    }
   ],
   "source": [
    "df.tokes[0]"
   ]
  },
  {
   "cell_type": "code",
   "execution_count": 12,
   "id": "1be39514",
   "metadata": {},
   "outputs": [
    {
     "name": "stdout",
     "output_type": "stream",
     "text": [
      "5295\n"
     ]
    }
   ],
   "source": [
    "with open('utils/estonian-stopwords.txt', encoding='utf-8') as f:\n",
    "    stopwords=f.read().split('\\n')\n",
    "print(len(stopwords))  \n",
    "with open('utils/estonian-stopwords_additional.txt', encoding='utf-8') as f:\n",
    "    stopwords_addit=f.read().split('\\n')\n",
    "    \n",
    "stopwords.extend(stopwords_addit)\n",
    "stopwords.extend(['.', ',', '!', '?', ':', ';', ')', '(', '-', ']', '[', '...', '–,'])\n",
    "stopwords.extend(female_stimuli)\n",
    "stopwords.extend(male_stimuli)"
   ]
  },
  {
   "cell_type": "code",
   "execution_count": 13,
   "id": "13b0f056",
   "metadata": {},
   "outputs": [],
   "source": [
    "tokens=df.tokes.apply(literal_eval).tolist()\n",
    "tokens=[item for sublist in tokens for item in sublist]"
   ]
  },
  {
   "cell_type": "code",
   "execution_count": 14,
   "id": "60973a09",
   "metadata": {},
   "outputs": [
    {
     "data": {
      "text/plain": [
       "(25252052, 420801)"
      ]
     },
     "execution_count": 14,
     "metadata": {},
     "output_type": "execute_result"
    }
   ],
   "source": [
    "len(tokens), len(set(tokens))"
   ]
  },
  {
   "cell_type": "code",
   "execution_count": 15,
   "id": "00acc090",
   "metadata": {},
   "outputs": [
    {
     "name": "stdout",
     "output_type": "stream",
     "text": [
      "CPU times: total: 2.06 s\n",
      "Wall time: 2.06 s\n"
     ]
    }
   ],
   "source": [
    "%time cnt=Counter(tokens)"
   ]
  },
  {
   "cell_type": "code",
   "execution_count": 16,
   "id": "44c8f6dc",
   "metadata": {},
   "outputs": [
    {
     "data": {
      "text/plain": [
       "0"
      ]
     },
     "execution_count": 16,
     "metadata": {},
     "output_type": "execute_result"
    }
   ],
   "source": [
    "cnt['vanapoiss']"
   ]
  },
  {
   "cell_type": "code",
   "execution_count": 17,
   "id": "c4a8cb32",
   "metadata": {},
   "outputs": [
    {
     "data": {
      "text/plain": [
       "['euroopa',\n",
       " 'seaduse',\n",
       " 'raha',\n",
       " 'eurot',\n",
       " 'küsimusi',\n",
       " 'tänan',\n",
       " 'kolleeg',\n",
       " 'ettepaneku',\n",
       " 'inimesi',\n",
       " 'fraktsiooni']"
      ]
     },
     "execution_count": 17,
     "metadata": {},
     "output_type": "execute_result"
    }
   ],
   "source": [
    "MIN_COUNT=20\n",
    "most_common_tokens_cnt=cnt.most_common(100000)\n",
    "most_common_tokens_cnt=[el for el in most_common_tokens_cnt if el[1]>=MIN_COUNT]\n",
    "most_common_tokens=[el[0] for el in most_common_tokens_cnt if el[0] not in stopwords]\n",
    "most_common_tokens=[el for el in most_common_tokens if el in vecs_w2v]\n",
    "most_common_tokens[:10]"
   ]
  },
  {
   "cell_type": "code",
   "execution_count": 18,
   "id": "619c629a",
   "metadata": {},
   "outputs": [
    {
     "data": {
      "text/plain": [
       "40543"
      ]
     },
     "execution_count": 18,
     "metadata": {},
     "output_type": "execute_result"
    }
   ],
   "source": [
    "len(most_common_tokens)"
   ]
  },
  {
   "cell_type": "markdown",
   "id": "aed3e4b9",
   "metadata": {},
   "source": [
    "## Calculate SC-WEATS"
   ]
  },
  {
   "cell_type": "code",
   "execution_count": 20,
   "id": "e637ae16",
   "metadata": {},
   "outputs": [],
   "source": [
    "STEP = 10000\n",
    "N_ITERS=math.ceil(len(most_common_tokens)/STEP)\n",
    "PERMUTATIONS = 10000"
   ]
  },
  {
   "cell_type": "code",
   "execution_count": 22,
   "id": "17621e23",
   "metadata": {},
   "outputs": [
    {
     "name": "stdout",
     "output_type": "stream",
     "text": [
      "0\n"
     ]
    },
    {
     "name": "stderr",
     "output_type": "stream",
     "text": [
      "C:\\Users\\RistoHinno\\AppData\\Local\\Temp\\ipykernel_22652\\3901138716.py:8: FutureWarning: The frame.append method is deprecated and will be removed from pandas in a future version. Use pandas.concat instead.\n",
      "  df_bias=df_bias.append(bias_df_)\n"
     ]
    },
    {
     "name": "stdout",
     "output_type": "stream",
     "text": [
      "1\n"
     ]
    },
    {
     "name": "stderr",
     "output_type": "stream",
     "text": [
      "C:\\Users\\RistoHinno\\AppData\\Local\\Temp\\ipykernel_22652\\3901138716.py:8: FutureWarning: The frame.append method is deprecated and will be removed from pandas in a future version. Use pandas.concat instead.\n",
      "  df_bias=df_bias.append(bias_df_)\n"
     ]
    },
    {
     "name": "stdout",
     "output_type": "stream",
     "text": [
      "2\n"
     ]
    },
    {
     "name": "stderr",
     "output_type": "stream",
     "text": [
      "C:\\Users\\RistoHinno\\AppData\\Local\\Temp\\ipykernel_22652\\3901138716.py:8: FutureWarning: The frame.append method is deprecated and will be removed from pandas in a future version. Use pandas.concat instead.\n",
      "  df_bias=df_bias.append(bias_df_)\n"
     ]
    },
    {
     "name": "stdout",
     "output_type": "stream",
     "text": [
      "3\n"
     ]
    },
    {
     "name": "stderr",
     "output_type": "stream",
     "text": [
      "C:\\Users\\RistoHinno\\AppData\\Local\\Temp\\ipykernel_22652\\3901138716.py:8: FutureWarning: The frame.append method is deprecated and will be removed from pandas in a future version. Use pandas.concat instead.\n",
      "  df_bias=df_bias.append(bias_df_)\n"
     ]
    },
    {
     "name": "stdout",
     "output_type": "stream",
     "text": [
      "4\n"
     ]
    },
    {
     "name": "stderr",
     "output_type": "stream",
     "text": [
      "C:\\Users\\RistoHinno\\AppData\\Local\\Temp\\ipykernel_22652\\3901138716.py:8: FutureWarning: The frame.append method is deprecated and will be removed from pandas in a future version. Use pandas.concat instead.\n",
      "  df_bias=df_bias.append(bias_df_)\n"
     ]
    }
   ],
   "source": [
    "df_bias=pd.DataFrame()\n",
    "for i in range(N_ITERS):\n",
    "    print(i)\n",
    "    targets = most_common_tokens[i*STEP:(i+1)*STEP]\n",
    "    bias_array = np.array([SC_WEAT(vecs_w2v[word],\n",
    "                                   female_embeddings, male_embeddings,PERMUTATIONS) for word in targets])\n",
    "    bias_df_ = pd.DataFrame(bias_array, columns=['female_effect_size','female_p_value'])\n",
    "    df_bias=df_bias.append(bias_df_)"
   ]
  },
  {
   "cell_type": "code",
   "execution_count": 23,
   "id": "5d2cd9fb",
   "metadata": {},
   "outputs": [],
   "source": [
    "df_bias.index=most_common_tokens"
   ]
  },
  {
   "cell_type": "code",
   "execution_count": 24,
   "id": "6b9ee10a",
   "metadata": {},
   "outputs": [
    {
     "data": {
      "text/html": [
       "<div>\n",
       "<style scoped>\n",
       "    .dataframe tbody tr th:only-of-type {\n",
       "        vertical-align: middle;\n",
       "    }\n",
       "\n",
       "    .dataframe tbody tr th {\n",
       "        vertical-align: top;\n",
       "    }\n",
       "\n",
       "    .dataframe thead th {\n",
       "        text-align: right;\n",
       "    }\n",
       "</style>\n",
       "<table border=\"1\" class=\"dataframe\">\n",
       "  <thead>\n",
       "    <tr style=\"text-align: right;\">\n",
       "      <th></th>\n",
       "      <th>female_effect_size</th>\n",
       "      <th>female_p_value</th>\n",
       "    </tr>\n",
       "  </thead>\n",
       "  <tbody>\n",
       "    <tr>\n",
       "      <th>juurutama</th>\n",
       "      <td>1.143367</td>\n",
       "      <td>0.000385</td>\n",
       "    </tr>\n",
       "    <tr>\n",
       "      <th>finantseerima</th>\n",
       "      <td>1.017046</td>\n",
       "      <td>0.001592</td>\n",
       "    </tr>\n",
       "    <tr>\n",
       "      <th>valmima</th>\n",
       "      <td>1.008965</td>\n",
       "      <td>0.001881</td>\n",
       "    </tr>\n",
       "    <tr>\n",
       "      <th>harjuma</th>\n",
       "      <td>0.988480</td>\n",
       "      <td>0.002135</td>\n",
       "    </tr>\n",
       "    <tr>\n",
       "      <th>taotlema</th>\n",
       "      <td>0.971773</td>\n",
       "      <td>0.002301</td>\n",
       "    </tr>\n",
       "    <tr>\n",
       "      <th>käivituma</th>\n",
       "      <td>0.961220</td>\n",
       "      <td>0.002586</td>\n",
       "    </tr>\n",
       "    <tr>\n",
       "      <th>töötama</th>\n",
       "      <td>0.952283</td>\n",
       "      <td>0.002839</td>\n",
       "    </tr>\n",
       "    <tr>\n",
       "      <th>määratlema</th>\n",
       "      <td>0.942401</td>\n",
       "      <td>0.003157</td>\n",
       "    </tr>\n",
       "    <tr>\n",
       "      <th>lisanduma</th>\n",
       "      <td>0.935941</td>\n",
       "      <td>0.002811</td>\n",
       "    </tr>\n",
       "    <tr>\n",
       "      <th>tõstatama</th>\n",
       "      <td>0.927435</td>\n",
       "      <td>0.003317</td>\n",
       "    </tr>\n",
       "    <tr>\n",
       "      <th>meditsiinilise</th>\n",
       "      <td>0.925369</td>\n",
       "      <td>0.003381</td>\n",
       "    </tr>\n",
       "    <tr>\n",
       "      <th>saatekirja</th>\n",
       "      <td>0.918707</td>\n",
       "      <td>0.003713</td>\n",
       "    </tr>\n",
       "    <tr>\n",
       "      <th>täiendama</th>\n",
       "      <td>0.918343</td>\n",
       "      <td>0.003641</td>\n",
       "    </tr>\n",
       "    <tr>\n",
       "      <th>keelustama</th>\n",
       "      <td>0.917608</td>\n",
       "      <td>0.003690</td>\n",
       "    </tr>\n",
       "    <tr>\n",
       "      <th>motiveerima</th>\n",
       "      <td>0.914839</td>\n",
       "      <td>0.003570</td>\n",
       "    </tr>\n",
       "    <tr>\n",
       "      <th>algatama</th>\n",
       "      <td>0.911056</td>\n",
       "      <td>0.004062</td>\n",
       "    </tr>\n",
       "    <tr>\n",
       "      <th>põhikooli-</th>\n",
       "      <td>0.898203</td>\n",
       "      <td>0.004484</td>\n",
       "    </tr>\n",
       "    <tr>\n",
       "      <th>oktoobrit</th>\n",
       "      <td>0.896670</td>\n",
       "      <td>0.004772</td>\n",
       "    </tr>\n",
       "    <tr>\n",
       "      <th>harv</th>\n",
       "      <td>0.889260</td>\n",
       "      <td>0.005354</td>\n",
       "    </tr>\n",
       "    <tr>\n",
       "      <th>kustutatakse</th>\n",
       "      <td>0.884965</td>\n",
       "      <td>0.005466</td>\n",
       "    </tr>\n",
       "    <tr>\n",
       "      <th>hindamist</th>\n",
       "      <td>0.881957</td>\n",
       "      <td>0.005014</td>\n",
       "    </tr>\n",
       "    <tr>\n",
       "      <th>hõlmama</th>\n",
       "      <td>0.877663</td>\n",
       "      <td>0.005669</td>\n",
       "    </tr>\n",
       "    <tr>\n",
       "      <th>suitsetama</th>\n",
       "      <td>0.877540</td>\n",
       "      <td>0.005360</td>\n",
       "    </tr>\n",
       "    <tr>\n",
       "      <th>kerkima</th>\n",
       "      <td>0.872359</td>\n",
       "      <td>0.005260</td>\n",
       "    </tr>\n",
       "    <tr>\n",
       "      <th>kõrgema</th>\n",
       "      <td>0.871028</td>\n",
       "      <td>0.005556</td>\n",
       "    </tr>\n",
       "    <tr>\n",
       "      <th>mõtlema</th>\n",
       "      <td>0.869394</td>\n",
       "      <td>0.005452</td>\n",
       "    </tr>\n",
       "    <tr>\n",
       "      <th>puudutama</th>\n",
       "      <td>0.868066</td>\n",
       "      <td>0.005625</td>\n",
       "    </tr>\n",
       "    <tr>\n",
       "      <th>järeldusele</th>\n",
       "      <td>0.858506</td>\n",
       "      <td>0.006025</td>\n",
       "    </tr>\n",
       "    <tr>\n",
       "      <th>detailseks</th>\n",
       "      <td>0.856043</td>\n",
       "      <td>0.006317</td>\n",
       "    </tr>\n",
       "    <tr>\n",
       "      <th>koolitaja</th>\n",
       "      <td>0.854213</td>\n",
       "      <td>0.006215</td>\n",
       "    </tr>\n",
       "  </tbody>\n",
       "</table>\n",
       "</div>"
      ],
      "text/plain": [
       "                female_effect_size  female_p_value\n",
       "juurutama                 1.143367        0.000385\n",
       "finantseerima             1.017046        0.001592\n",
       "valmima                   1.008965        0.001881\n",
       "harjuma                   0.988480        0.002135\n",
       "taotlema                  0.971773        0.002301\n",
       "käivituma                 0.961220        0.002586\n",
       "töötama                   0.952283        0.002839\n",
       "määratlema                0.942401        0.003157\n",
       "lisanduma                 0.935941        0.002811\n",
       "tõstatama                 0.927435        0.003317\n",
       "meditsiinilise            0.925369        0.003381\n",
       "saatekirja                0.918707        0.003713\n",
       "täiendama                 0.918343        0.003641\n",
       "keelustama                0.917608        0.003690\n",
       "motiveerima               0.914839        0.003570\n",
       "algatama                  0.911056        0.004062\n",
       "põhikooli-                0.898203        0.004484\n",
       "oktoobrit                 0.896670        0.004772\n",
       "harv                      0.889260        0.005354\n",
       "kustutatakse              0.884965        0.005466\n",
       "hindamist                 0.881957        0.005014\n",
       "hõlmama                   0.877663        0.005669\n",
       "suitsetama                0.877540        0.005360\n",
       "kerkima                   0.872359        0.005260\n",
       "kõrgema                   0.871028        0.005556\n",
       "mõtlema                   0.869394        0.005452\n",
       "puudutama                 0.868066        0.005625\n",
       "järeldusele               0.858506        0.006025\n",
       "detailseks                0.856043        0.006317\n",
       "koolitaja                 0.854213        0.006215"
      ]
     },
     "execution_count": 24,
     "metadata": {},
     "output_type": "execute_result"
    }
   ],
   "source": [
    "df_bias[(df_bias.female_effect_size>.5)&(df_bias.female_p_value<.05)].sort_values('female_effect_size', ascending=False).head(30)"
   ]
  },
  {
   "cell_type": "markdown",
   "id": "6e6f5b7d",
   "metadata": {},
   "source": [
    "## Save"
   ]
  },
  {
   "cell_type": "code",
   "execution_count": 25,
   "id": "27917b7b",
   "metadata": {},
   "outputs": [],
   "source": [
    "df_bias.to_csv('data/interim/gender_bias/words_female_scores_v2.csv')"
   ]
  },
  {
   "cell_type": "markdown",
   "id": "804206c6",
   "metadata": {},
   "source": [
    "## Load "
   ]
  },
  {
   "cell_type": "code",
   "execution_count": 26,
   "id": "b6dc074b",
   "metadata": {},
   "outputs": [
    {
     "data": {
      "text/plain": [
       "(40543, 2)"
      ]
     },
     "execution_count": 26,
     "metadata": {},
     "output_type": "execute_result"
    }
   ],
   "source": [
    "df_bias=pd.read_csv('data/interim/gender_bias/words_female_scores_v2.csv', index_col=0)\n",
    "df_bias.shape"
   ]
  },
  {
   "cell_type": "code",
   "execution_count": 27,
   "id": "95da4cb2",
   "metadata": {},
   "outputs": [
    {
     "data": {
      "text/html": [
       "<div>\n",
       "<style scoped>\n",
       "    .dataframe tbody tr th:only-of-type {\n",
       "        vertical-align: middle;\n",
       "    }\n",
       "\n",
       "    .dataframe tbody tr th {\n",
       "        vertical-align: top;\n",
       "    }\n",
       "\n",
       "    .dataframe thead th {\n",
       "        text-align: right;\n",
       "    }\n",
       "</style>\n",
       "<table border=\"1\" class=\"dataframe\">\n",
       "  <thead>\n",
       "    <tr style=\"text-align: right;\">\n",
       "      <th></th>\n",
       "      <th>female_effect_size</th>\n",
       "      <th>female_p_value</th>\n",
       "    </tr>\n",
       "  </thead>\n",
       "  <tbody>\n",
       "    <tr>\n",
       "      <th>euroopa</th>\n",
       "      <td>0.249238</td>\n",
       "      <td>0.239294</td>\n",
       "    </tr>\n",
       "    <tr>\n",
       "      <th>seaduse</th>\n",
       "      <td>0.639835</td>\n",
       "      <td>0.032584</td>\n",
       "    </tr>\n",
       "    <tr>\n",
       "      <th>raha</th>\n",
       "      <td>0.061697</td>\n",
       "      <td>0.427547</td>\n",
       "    </tr>\n",
       "    <tr>\n",
       "      <th>eurot</th>\n",
       "      <td>0.286011</td>\n",
       "      <td>0.204118</td>\n",
       "    </tr>\n",
       "    <tr>\n",
       "      <th>küsimusi</th>\n",
       "      <td>-0.547189</td>\n",
       "      <td>0.945468</td>\n",
       "    </tr>\n",
       "    <tr>\n",
       "      <th>...</th>\n",
       "      <td>...</td>\n",
       "      <td>...</td>\n",
       "    </tr>\n",
       "    <tr>\n",
       "      <th>lasketiiru</th>\n",
       "      <td>0.227060</td>\n",
       "      <td>0.251788</td>\n",
       "    </tr>\n",
       "    <tr>\n",
       "      <th>käsimüügiravimite</th>\n",
       "      <td>0.128099</td>\n",
       "      <td>0.356420</td>\n",
       "    </tr>\n",
       "    <tr>\n",
       "      <th>baskini</th>\n",
       "      <td>-0.336560</td>\n",
       "      <td>0.834577</td>\n",
       "    </tr>\n",
       "    <tr>\n",
       "      <th>c2</th>\n",
       "      <td>0.381899</td>\n",
       "      <td>0.131180</td>\n",
       "    </tr>\n",
       "    <tr>\n",
       "      <th>1.8</th>\n",
       "      <td>0.229063</td>\n",
       "      <td>0.247043</td>\n",
       "    </tr>\n",
       "  </tbody>\n",
       "</table>\n",
       "<p>40543 rows × 2 columns</p>\n",
       "</div>"
      ],
      "text/plain": [
       "                   female_effect_size  female_p_value\n",
       "euroopa                      0.249238        0.239294\n",
       "seaduse                      0.639835        0.032584\n",
       "raha                         0.061697        0.427547\n",
       "eurot                        0.286011        0.204118\n",
       "küsimusi                    -0.547189        0.945468\n",
       "...                               ...             ...\n",
       "lasketiiru                   0.227060        0.251788\n",
       "käsimüügiravimite            0.128099        0.356420\n",
       "baskini                     -0.336560        0.834577\n",
       "c2                           0.381899        0.131180\n",
       "1.8                          0.229063        0.247043\n",
       "\n",
       "[40543 rows x 2 columns]"
      ]
     },
     "execution_count": 27,
     "metadata": {},
     "output_type": "execute_result"
    }
   ],
   "source": [
    "df_bias"
   ]
  },
  {
   "cell_type": "code",
   "execution_count": 28,
   "id": "7d87103d",
   "metadata": {},
   "outputs": [
    {
     "data": {
      "text/plain": [
       "(707, 2)"
      ]
     },
     "execution_count": 28,
     "metadata": {},
     "output_type": "execute_result"
    }
   ],
   "source": [
    "df_bias_female=df_bias[(df_bias.female_effect_size>=.5)&(df_bias.female_p_value<=.05)].sort_values('female_effect_size', ascending=False)\n",
    "df_bias_female.shape"
   ]
  },
  {
   "cell_type": "code",
   "execution_count": 29,
   "id": "b0fe8234",
   "metadata": {},
   "outputs": [
    {
     "data": {
      "text/html": [
       "<div>\n",
       "<style scoped>\n",
       "    .dataframe tbody tr th:only-of-type {\n",
       "        vertical-align: middle;\n",
       "    }\n",
       "\n",
       "    .dataframe tbody tr th {\n",
       "        vertical-align: top;\n",
       "    }\n",
       "\n",
       "    .dataframe thead th {\n",
       "        text-align: right;\n",
       "    }\n",
       "</style>\n",
       "<table border=\"1\" class=\"dataframe\">\n",
       "  <thead>\n",
       "    <tr style=\"text-align: right;\">\n",
       "      <th></th>\n",
       "      <th>female_effect_size</th>\n",
       "      <th>female_p_value</th>\n",
       "    </tr>\n",
       "  </thead>\n",
       "  <tbody>\n",
       "    <tr>\n",
       "      <th>juurutama</th>\n",
       "      <td>1.143367</td>\n",
       "      <td>0.000385</td>\n",
       "    </tr>\n",
       "    <tr>\n",
       "      <th>finantseerima</th>\n",
       "      <td>1.017046</td>\n",
       "      <td>0.001592</td>\n",
       "    </tr>\n",
       "    <tr>\n",
       "      <th>valmima</th>\n",
       "      <td>1.008965</td>\n",
       "      <td>0.001881</td>\n",
       "    </tr>\n",
       "    <tr>\n",
       "      <th>harjuma</th>\n",
       "      <td>0.988480</td>\n",
       "      <td>0.002135</td>\n",
       "    </tr>\n",
       "    <tr>\n",
       "      <th>taotlema</th>\n",
       "      <td>0.971773</td>\n",
       "      <td>0.002301</td>\n",
       "    </tr>\n",
       "    <tr>\n",
       "      <th>käivituma</th>\n",
       "      <td>0.961220</td>\n",
       "      <td>0.002586</td>\n",
       "    </tr>\n",
       "    <tr>\n",
       "      <th>töötama</th>\n",
       "      <td>0.952283</td>\n",
       "      <td>0.002839</td>\n",
       "    </tr>\n",
       "    <tr>\n",
       "      <th>määratlema</th>\n",
       "      <td>0.942401</td>\n",
       "      <td>0.003157</td>\n",
       "    </tr>\n",
       "    <tr>\n",
       "      <th>lisanduma</th>\n",
       "      <td>0.935941</td>\n",
       "      <td>0.002811</td>\n",
       "    </tr>\n",
       "    <tr>\n",
       "      <th>tõstatama</th>\n",
       "      <td>0.927435</td>\n",
       "      <td>0.003317</td>\n",
       "    </tr>\n",
       "    <tr>\n",
       "      <th>meditsiinilise</th>\n",
       "      <td>0.925369</td>\n",
       "      <td>0.003381</td>\n",
       "    </tr>\n",
       "    <tr>\n",
       "      <th>saatekirja</th>\n",
       "      <td>0.918707</td>\n",
       "      <td>0.003713</td>\n",
       "    </tr>\n",
       "    <tr>\n",
       "      <th>täiendama</th>\n",
       "      <td>0.918343</td>\n",
       "      <td>0.003641</td>\n",
       "    </tr>\n",
       "    <tr>\n",
       "      <th>keelustama</th>\n",
       "      <td>0.917608</td>\n",
       "      <td>0.003690</td>\n",
       "    </tr>\n",
       "    <tr>\n",
       "      <th>motiveerima</th>\n",
       "      <td>0.914839</td>\n",
       "      <td>0.003570</td>\n",
       "    </tr>\n",
       "    <tr>\n",
       "      <th>algatama</th>\n",
       "      <td>0.911056</td>\n",
       "      <td>0.004062</td>\n",
       "    </tr>\n",
       "    <tr>\n",
       "      <th>põhikooli-</th>\n",
       "      <td>0.898203</td>\n",
       "      <td>0.004484</td>\n",
       "    </tr>\n",
       "    <tr>\n",
       "      <th>oktoobrit</th>\n",
       "      <td>0.896670</td>\n",
       "      <td>0.004772</td>\n",
       "    </tr>\n",
       "    <tr>\n",
       "      <th>harv</th>\n",
       "      <td>0.889260</td>\n",
       "      <td>0.005354</td>\n",
       "    </tr>\n",
       "    <tr>\n",
       "      <th>kustutatakse</th>\n",
       "      <td>0.884965</td>\n",
       "      <td>0.005466</td>\n",
       "    </tr>\n",
       "  </tbody>\n",
       "</table>\n",
       "</div>"
      ],
      "text/plain": [
       "                female_effect_size  female_p_value\n",
       "juurutama                 1.143367        0.000385\n",
       "finantseerima             1.017046        0.001592\n",
       "valmima                   1.008965        0.001881\n",
       "harjuma                   0.988480        0.002135\n",
       "taotlema                  0.971773        0.002301\n",
       "käivituma                 0.961220        0.002586\n",
       "töötama                   0.952283        0.002839\n",
       "määratlema                0.942401        0.003157\n",
       "lisanduma                 0.935941        0.002811\n",
       "tõstatama                 0.927435        0.003317\n",
       "meditsiinilise            0.925369        0.003381\n",
       "saatekirja                0.918707        0.003713\n",
       "täiendama                 0.918343        0.003641\n",
       "keelustama                0.917608        0.003690\n",
       "motiveerima               0.914839        0.003570\n",
       "algatama                  0.911056        0.004062\n",
       "põhikooli-                0.898203        0.004484\n",
       "oktoobrit                 0.896670        0.004772\n",
       "harv                      0.889260        0.005354\n",
       "kustutatakse              0.884965        0.005466"
      ]
     },
     "execution_count": 29,
     "metadata": {},
     "output_type": "execute_result"
    }
   ],
   "source": [
    "df_bias_female.head(20)"
   ]
  },
  {
   "cell_type": "code",
   "execution_count": 30,
   "id": "3efa8c72",
   "metadata": {},
   "outputs": [
    {
     "data": {
      "text/plain": [
       "(564, 2)"
      ]
     },
     "execution_count": 30,
     "metadata": {},
     "output_type": "execute_result"
    }
   ],
   "source": [
    "df_bias_male=df_bias[(df_bias.female_effect_size<=-.5)&(df_bias.female_p_value>=.95)].sort_values('female_effect_size', ascending=True)\n",
    "df_bias_male.shape"
   ]
  },
  {
   "cell_type": "code",
   "execution_count": 31,
   "id": "cb6f201a",
   "metadata": {},
   "outputs": [
    {
     "data": {
      "text/html": [
       "<div>\n",
       "<style scoped>\n",
       "    .dataframe tbody tr th:only-of-type {\n",
       "        vertical-align: middle;\n",
       "    }\n",
       "\n",
       "    .dataframe tbody tr th {\n",
       "        vertical-align: top;\n",
       "    }\n",
       "\n",
       "    .dataframe thead th {\n",
       "        text-align: right;\n",
       "    }\n",
       "</style>\n",
       "<table border=\"1\" class=\"dataframe\">\n",
       "  <thead>\n",
       "    <tr style=\"text-align: right;\">\n",
       "      <th></th>\n",
       "      <th>female_effect_size</th>\n",
       "      <th>female_p_value</th>\n",
       "    </tr>\n",
       "  </thead>\n",
       "  <tbody>\n",
       "    <tr>\n",
       "      <th>sõerdile</th>\n",
       "      <td>-1.021268</td>\n",
       "      <td>0.998612</td>\n",
       "    </tr>\n",
       "    <tr>\n",
       "      <th>peangi</th>\n",
       "      <td>-1.018271</td>\n",
       "      <td>0.998401</td>\n",
       "    </tr>\n",
       "    <tr>\n",
       "      <th>jaanus</th>\n",
       "      <td>-1.004130</td>\n",
       "      <td>0.998263</td>\n",
       "    </tr>\n",
       "    <tr>\n",
       "      <th>krimm</th>\n",
       "      <td>-0.989838</td>\n",
       "      <td>0.997932</td>\n",
       "    </tr>\n",
       "    <tr>\n",
       "      <th>okupeerinud</th>\n",
       "      <td>-0.955118</td>\n",
       "      <td>0.997177</td>\n",
       "    </tr>\n",
       "    <tr>\n",
       "      <th>välisministrile</th>\n",
       "      <td>-0.947992</td>\n",
       "      <td>0.996986</td>\n",
       "    </tr>\n",
       "    <tr>\n",
       "      <th>hansson</th>\n",
       "      <td>-0.931199</td>\n",
       "      <td>0.996750</td>\n",
       "    </tr>\n",
       "    <tr>\n",
       "      <th>õnne</th>\n",
       "      <td>-0.925720</td>\n",
       "      <td>0.996429</td>\n",
       "    </tr>\n",
       "    <tr>\n",
       "      <th>viimse</th>\n",
       "      <td>-0.916476</td>\n",
       "      <td>0.996413</td>\n",
       "    </tr>\n",
       "    <tr>\n",
       "      <th>andrus</th>\n",
       "      <td>-0.906184</td>\n",
       "      <td>0.996096</td>\n",
       "    </tr>\n",
       "    <tr>\n",
       "      <th>erki</th>\n",
       "      <td>-0.904648</td>\n",
       "      <td>0.996052</td>\n",
       "    </tr>\n",
       "    <tr>\n",
       "      <th>uhkusega</th>\n",
       "      <td>-0.898439</td>\n",
       "      <td>0.995936</td>\n",
       "    </tr>\n",
       "    <tr>\n",
       "      <th>meri</th>\n",
       "      <td>-0.892115</td>\n",
       "      <td>0.995325</td>\n",
       "    </tr>\n",
       "    <tr>\n",
       "      <th>lähiajalugu</th>\n",
       "      <td>-0.891550</td>\n",
       "      <td>0.995176</td>\n",
       "    </tr>\n",
       "    <tr>\n",
       "      <th>ennegi</th>\n",
       "      <td>-0.881435</td>\n",
       "      <td>0.994895</td>\n",
       "    </tr>\n",
       "    <tr>\n",
       "      <th>vankri</th>\n",
       "      <td>-0.879719</td>\n",
       "      <td>0.995162</td>\n",
       "    </tr>\n",
       "    <tr>\n",
       "      <th>uhkust</th>\n",
       "      <td>-0.873756</td>\n",
       "      <td>0.994160</td>\n",
       "    </tr>\n",
       "    <tr>\n",
       "      <th>vilja</th>\n",
       "      <td>-0.871898</td>\n",
       "      <td>0.994796</td>\n",
       "    </tr>\n",
       "    <tr>\n",
       "      <th>toonases</th>\n",
       "      <td>-0.865718</td>\n",
       "      <td>0.994835</td>\n",
       "    </tr>\n",
       "    <tr>\n",
       "      <th>manipuleerida</th>\n",
       "      <td>-0.859777</td>\n",
       "      <td>0.994183</td>\n",
       "    </tr>\n",
       "  </tbody>\n",
       "</table>\n",
       "</div>"
      ],
      "text/plain": [
       "                 female_effect_size  female_p_value\n",
       "sõerdile                  -1.021268        0.998612\n",
       "peangi                    -1.018271        0.998401\n",
       "jaanus                    -1.004130        0.998263\n",
       "krimm                     -0.989838        0.997932\n",
       "okupeerinud               -0.955118        0.997177\n",
       "välisministrile           -0.947992        0.996986\n",
       "hansson                   -0.931199        0.996750\n",
       "õnne                      -0.925720        0.996429\n",
       "viimse                    -0.916476        0.996413\n",
       "andrus                    -0.906184        0.996096\n",
       "erki                      -0.904648        0.996052\n",
       "uhkusega                  -0.898439        0.995936\n",
       "meri                      -0.892115        0.995325\n",
       "lähiajalugu               -0.891550        0.995176\n",
       "ennegi                    -0.881435        0.994895\n",
       "vankri                    -0.879719        0.995162\n",
       "uhkust                    -0.873756        0.994160\n",
       "vilja                     -0.871898        0.994796\n",
       "toonases                  -0.865718        0.994835\n",
       "manipuleerida             -0.859777        0.994183"
      ]
     },
     "execution_count": 31,
     "metadata": {},
     "output_type": "execute_result"
    }
   ],
   "source": [
    "df_bias_male.head(20)"
   ]
  },
  {
   "cell_type": "markdown",
   "id": "b279f6e8",
   "metadata": {},
   "source": [
    "## Cluster female and male words"
   ]
  },
  {
   "cell_type": "code",
   "execution_count": 33,
   "id": "c2122fee",
   "metadata": {},
   "outputs": [],
   "source": [
    "def cosine_similarity(vecs_ar1, vecs_ar2, words=None):\n",
    "    \"\"\"returns vecs_ar.shape[0] x vecs_ar.shape[0] dataframe of each word cosine similarity with other words\"\"\"\n",
    "    sims= np.dot(vecs_ar1, vecs_ar2.T)/(np.linalg.norm(vecs_ar1)*np.linalg.norm(vecs_ar2.T))\n",
    "    df_sims=pd.DataFrame(sims)\n",
    "    if isinstance(words, list):\n",
    "        df_sims.index=words\n",
    "        df_sims.columns=words\n",
    "    return df_sims\n",
    "\n",
    "def cluster_sims(df_sims, n_clusters):\n",
    "    clustering = AgglomerativeClustering(n_clusters=n_clusters, compute_distances=True).fit(df_sims)\n",
    "    df_clusters=pd.DataFrame({'token':df_sims.index, 'cluster':clustering.labels_})\n",
    "    df_clusters.index=df_clusters.token\n",
    "    return clustering, df_clusters"
   ]
  },
  {
   "cell_type": "markdown",
   "id": "7fd510da",
   "metadata": {},
   "source": [
    "#### word embeddings"
   ]
  },
  {
   "cell_type": "code",
   "execution_count": 34,
   "id": "7bed67ba",
   "metadata": {},
   "outputs": [
    {
     "name": "stdout",
     "output_type": "stream",
     "text": [
      "working on word 0\n"
     ]
    }
   ],
   "source": [
    "df_bias_female_embs=pd.DataFrame(get_word_vecs(vecs_w2v, df_bias_female.index))\n",
    "df_bias_female_embs.index=df_bias_female.index"
   ]
  },
  {
   "cell_type": "code",
   "execution_count": 35,
   "id": "107b0110",
   "metadata": {},
   "outputs": [
    {
     "name": "stdout",
     "output_type": "stream",
     "text": [
      "working on word 0\n"
     ]
    }
   ],
   "source": [
    "df_bias_male_embs=pd.DataFrame(get_word_vecs(vecs_w2v, df_bias_male.index))\n",
    "df_bias_male_embs.index=df_bias_male.index"
   ]
  },
  {
   "cell_type": "markdown",
   "id": "88bc00bb",
   "metadata": {},
   "source": [
    "#### cosine similarity between vectors"
   ]
  },
  {
   "cell_type": "code",
   "execution_count": 36,
   "id": "56671d50",
   "metadata": {},
   "outputs": [],
   "source": [
    "df_bias_female_embs_sims=cosine_similarity(df_bias_female_embs, df_bias_female_embs, list(df_bias_female_embs.index))"
   ]
  },
  {
   "cell_type": "code",
   "execution_count": 37,
   "id": "a478ec91",
   "metadata": {},
   "outputs": [],
   "source": [
    "df_bias_male_embs_sims=cosine_similarity(df_bias_male_embs, df_bias_male_embs, list(df_bias_male_embs.index))"
   ]
  },
  {
   "cell_type": "markdown",
   "id": "e53bfdc6",
   "metadata": {},
   "source": [
    "#### Agglomerative clustering"
   ]
  },
  {
   "cell_type": "code",
   "execution_count": 38,
   "id": "f2b1fc04",
   "metadata": {},
   "outputs": [],
   "source": [
    "clust_clf_female_ag, df_female_clusters_ag=cluster_sims(df_bias_female_embs_sims, n_clusters=20)"
   ]
  },
  {
   "cell_type": "code",
   "execution_count": 39,
   "id": "c4ed0fd6",
   "metadata": {},
   "outputs": [
    {
     "data": {
      "text/plain": [
       "12    178\n",
       "17    127\n",
       "13     68\n",
       "10     58\n",
       "4      39\n",
       "11     37\n",
       "16     32\n",
       "15     27\n",
       "3      21\n",
       "2      19\n",
       "19     18\n",
       "1      17\n",
       "8      13\n",
       "7      12\n",
       "5      12\n",
       "6      10\n",
       "9       7\n",
       "14      5\n",
       "18      4\n",
       "0       3\n",
       "Name: cluster, dtype: int64"
      ]
     },
     "execution_count": 39,
     "metadata": {},
     "output_type": "execute_result"
    }
   ],
   "source": [
    "df_female_clusters_ag.cluster.value_counts()[:20]"
   ]
  },
  {
   "cell_type": "code",
   "execution_count": 41,
   "id": "2d4aa53d",
   "metadata": {},
   "outputs": [],
   "source": [
    "clust_clf_male_ag, df_male_clusters_ag=cluster_sims(df_bias_male_embs_sims, n_clusters=20)"
   ]
  },
  {
   "cell_type": "markdown",
   "id": "d12c5b29",
   "metadata": {},
   "source": [
    "#### HDBSCAN"
   ]
  },
  {
   "cell_type": "code",
   "execution_count": 42,
   "id": "169b7653",
   "metadata": {},
   "outputs": [],
   "source": [
    "#first reduce dimensions\n",
    "reducer = umap.UMAP(random_state=42,n_components=4, metric='cosine')\n",
    "bias_female_embs_sims_red=dding=reducer.fit_transform(df_bias_female_embs_sims)"
   ]
  },
  {
   "cell_type": "code",
   "execution_count": 43,
   "id": "9b96d9cb",
   "metadata": {},
   "outputs": [],
   "source": [
    "#first reduce dimensions\n",
    "reducer = umap.UMAP(random_state=42,n_components=4, metric='cosine')\n",
    "bias_male_embs_sims_red=dding=reducer.fit_transform(df_bias_male_embs_sims)"
   ]
  },
  {
   "cell_type": "code",
   "execution_count": 44,
   "id": "337d7776",
   "metadata": {},
   "outputs": [
    {
     "data": {
      "text/plain": [
       "((707, 4), (564, 4))"
      ]
     },
     "execution_count": 44,
     "metadata": {},
     "output_type": "execute_result"
    }
   ],
   "source": [
    "bias_female_embs_sims_red.shape, bias_male_embs_sims_red.shape"
   ]
  },
  {
   "cell_type": "code",
   "execution_count": 45,
   "id": "bb30b062",
   "metadata": {},
   "outputs": [
    {
     "data": {
      "text/plain": [
       "HDBSCAN()"
      ]
     },
     "execution_count": 45,
     "metadata": {},
     "output_type": "execute_result"
    }
   ],
   "source": [
    "clust_hdb = hdbscan.HDBSCAN()\n",
    "clust_hdb.fit(pd.DataFrame(bias_female_embs_sims_red))"
   ]
  },
  {
   "cell_type": "code",
   "execution_count": 46,
   "id": "8d0114f9",
   "metadata": {},
   "outputs": [
    {
     "data": {
      "text/plain": [
       "20"
      ]
     },
     "execution_count": 46,
     "metadata": {},
     "output_type": "execute_result"
    }
   ],
   "source": [
    "#number of clusters\n",
    "len(set(clust_hdb.labels_))"
   ]
  },
  {
   "cell_type": "code",
   "execution_count": 47,
   "id": "e64ef3f7",
   "metadata": {},
   "outputs": [
    {
     "data": {
      "text/plain": [
       "HDBSCAN()"
      ]
     },
     "execution_count": 47,
     "metadata": {},
     "output_type": "execute_result"
    }
   ],
   "source": [
    "clust_hdb_male = hdbscan.HDBSCAN()\n",
    "clust_hdb_male.fit(pd.DataFrame(bias_male_embs_sims_red))"
   ]
  },
  {
   "cell_type": "code",
   "execution_count": 48,
   "id": "e971dfd2",
   "metadata": {},
   "outputs": [],
   "source": [
    "df_female_clusters_ag['cluster_hdb']=clust_hdb.labels_\n",
    "df_male_clusters_ag['cluster_hdb']=clust_hdb_male.labels_"
   ]
  },
  {
   "cell_type": "code",
   "execution_count": 49,
   "id": "ded5714d",
   "metadata": {},
   "outputs": [
    {
     "data": {
      "text/plain": [
       " 0     249\n",
       "-1     139\n",
       " 2      33\n",
       " 8      33\n",
       " 14     32\n",
       " 4      22\n",
       " 9      21\n",
       " 18     20\n",
       " 17     19\n",
       " 15     19\n",
       " 12     18\n",
       " 11     18\n",
       " 5      17\n",
       " 7      16\n",
       " 6      10\n",
       " 13      9\n",
       " 10      9\n",
       " 3       8\n",
       " 16      8\n",
       " 1       7\n",
       "Name: cluster_hdb, dtype: int64"
      ]
     },
     "execution_count": 49,
     "metadata": {},
     "output_type": "execute_result"
    }
   ],
   "source": [
    "df_female_clusters_ag.cluster_hdb.value_counts()"
   ]
  },
  {
   "cell_type": "code",
   "execution_count": 50,
   "id": "dac2013f",
   "metadata": {},
   "outputs": [
    {
     "data": {
      "text/html": [
       "<div>\n",
       "<style scoped>\n",
       "    .dataframe tbody tr th:only-of-type {\n",
       "        vertical-align: middle;\n",
       "    }\n",
       "\n",
       "    .dataframe tbody tr th {\n",
       "        vertical-align: top;\n",
       "    }\n",
       "\n",
       "    .dataframe thead th {\n",
       "        text-align: right;\n",
       "    }\n",
       "</style>\n",
       "<table border=\"1\" class=\"dataframe\">\n",
       "  <thead>\n",
       "    <tr style=\"text-align: right;\">\n",
       "      <th></th>\n",
       "      <th>token</th>\n",
       "      <th>cluster</th>\n",
       "      <th>cluster_hdb</th>\n",
       "    </tr>\n",
       "    <tr>\n",
       "      <th>token</th>\n",
       "      <th></th>\n",
       "      <th></th>\n",
       "      <th></th>\n",
       "    </tr>\n",
       "  </thead>\n",
       "  <tbody>\n",
       "    <tr>\n",
       "      <th>juurutama</th>\n",
       "      <td>juurutama</td>\n",
       "      <td>13</td>\n",
       "      <td>0</td>\n",
       "    </tr>\n",
       "    <tr>\n",
       "      <th>finantseerima</th>\n",
       "      <td>finantseerima</td>\n",
       "      <td>10</td>\n",
       "      <td>0</td>\n",
       "    </tr>\n",
       "    <tr>\n",
       "      <th>valmima</th>\n",
       "      <td>valmima</td>\n",
       "      <td>16</td>\n",
       "      <td>0</td>\n",
       "    </tr>\n",
       "    <tr>\n",
       "      <th>harjuma</th>\n",
       "      <td>harjuma</td>\n",
       "      <td>13</td>\n",
       "      <td>0</td>\n",
       "    </tr>\n",
       "    <tr>\n",
       "      <th>taotlema</th>\n",
       "      <td>taotlema</td>\n",
       "      <td>11</td>\n",
       "      <td>0</td>\n",
       "    </tr>\n",
       "    <tr>\n",
       "      <th>...</th>\n",
       "      <td>...</td>\n",
       "      <td>...</td>\n",
       "      <td>...</td>\n",
       "    </tr>\n",
       "    <tr>\n",
       "      <th>selguma</th>\n",
       "      <td>selguma</td>\n",
       "      <td>16</td>\n",
       "      <td>0</td>\n",
       "    </tr>\n",
       "    <tr>\n",
       "      <th>kontrolliga</th>\n",
       "      <td>kontrolliga</td>\n",
       "      <td>12</td>\n",
       "      <td>17</td>\n",
       "    </tr>\n",
       "    <tr>\n",
       "      <th>kasvama</th>\n",
       "      <td>kasvama</td>\n",
       "      <td>9</td>\n",
       "      <td>0</td>\n",
       "    </tr>\n",
       "    <tr>\n",
       "      <th>halval</th>\n",
       "      <td>halval</td>\n",
       "      <td>12</td>\n",
       "      <td>3</td>\n",
       "    </tr>\n",
       "    <tr>\n",
       "      <th>tundlik</th>\n",
       "      <td>tundlik</td>\n",
       "      <td>15</td>\n",
       "      <td>2</td>\n",
       "    </tr>\n",
       "  </tbody>\n",
       "</table>\n",
       "<p>707 rows × 3 columns</p>\n",
       "</div>"
      ],
      "text/plain": [
       "                       token  cluster  cluster_hdb\n",
       "token                                             \n",
       "juurutama          juurutama       13            0\n",
       "finantseerima  finantseerima       10            0\n",
       "valmima              valmima       16            0\n",
       "harjuma              harjuma       13            0\n",
       "taotlema            taotlema       11            0\n",
       "...                      ...      ...          ...\n",
       "selguma              selguma       16            0\n",
       "kontrolliga      kontrolliga       12           17\n",
       "kasvama              kasvama        9            0\n",
       "halval                halval       12            3\n",
       "tundlik              tundlik       15            2\n",
       "\n",
       "[707 rows x 3 columns]"
      ]
     },
     "execution_count": 50,
     "metadata": {},
     "output_type": "execute_result"
    }
   ],
   "source": [
    "df_female_clusters_ag"
   ]
  },
  {
   "cell_type": "code",
   "execution_count": 51,
   "id": "6d6cfdc6",
   "metadata": {},
   "outputs": [],
   "source": [
    "#add it to original data\n",
    "df_bias_female['clust_ag']=df_female_clusters_ag.cluster\n",
    "df_bias_female['cluster_hdb']=df_female_clusters_ag.cluster_hdb"
   ]
  },
  {
   "cell_type": "code",
   "execution_count": 52,
   "id": "d7782aa0",
   "metadata": {},
   "outputs": [],
   "source": [
    "df_bias_male['clust_ag']=df_male_clusters_ag.cluster\n",
    "df_bias_male['cluster_hdb']=df_male_clusters_ag.cluster_hdb"
   ]
  },
  {
   "cell_type": "code",
   "execution_count": 53,
   "id": "697a9652",
   "metadata": {},
   "outputs": [
    {
     "data": {
      "text/plain": [
       "[('tüdruk', 0.713146448135376),\n",
       " ('mees', 0.6667014956474304),\n",
       " ('neiu', 0.6330894231796265),\n",
       " ('tütarlaps', 0.6147922277450562),\n",
       " ('poeg', 0.6108688116073608),\n",
       " ('noormees', 0.6090396642684937),\n",
       " ('naine', 0.6007523536682129),\n",
       " ('sõber', 0.6000964045524597),\n",
       " ('meesterahvas', 0.5992476940155029),\n",
       " ('tütar', 0.5898628830909729),\n",
       " ('kirikuõpetaja', 0.5848573446273804),\n",
       " ('vanaema', 0.5753918886184692),\n",
       " ('härrasmees', 0.5677305459976196),\n",
       " ('naisterahvas', 0.5645389556884766),\n",
       " ('pereisa', 0.5622426271438599),\n",
       " ('teadlane', 0.5608881711959839),\n",
       " ('vallavanem', 0.5470516681671143),\n",
       " ('toots', 0.5462425947189331),\n",
       " ('onu', 0.5456746220588684),\n",
       " ('noor', 0.5399383306503296)]"
      ]
     },
     "execution_count": 53,
     "metadata": {},
     "output_type": "execute_result"
    }
   ],
   "source": [
    "vecs_w2v.most_similar('poiss', topn=20)"
   ]
  },
  {
   "cell_type": "markdown",
   "id": "af15c47c",
   "metadata": {},
   "source": [
    "## Female clusters"
   ]
  },
  {
   "cell_type": "code",
   "execution_count": 56,
   "id": "3a16e2af",
   "metadata": {},
   "outputs": [
    {
     "data": {
      "text/plain": [
       "clust_ag\n",
       "14    0.793752\n",
       "18    0.749313\n",
       "9     0.738344\n",
       "7     0.726154\n",
       "13    0.702765\n",
       "10    0.700774\n",
       "19    0.694814\n",
       "5     0.687891\n",
       "16    0.677394\n",
       "11    0.672608\n",
       "6     0.665499\n",
       "0     0.660479\n",
       "15    0.644722\n",
       "8     0.635444\n",
       "4     0.635347\n",
       "17    0.629783\n",
       "1     0.620228\n",
       "3     0.618650\n",
       "12    0.616322\n",
       "2     0.601868\n",
       "Name: female_effect_size, dtype: float64"
      ]
     },
     "execution_count": 56,
     "metadata": {},
     "output_type": "execute_result"
    }
   ],
   "source": [
    "df_bias_female.groupby('clust_ag')['female_effect_size'].median().sort_values(ascending=False).head(20)"
   ]
  },
  {
   "cell_type": "code",
   "execution_count": 58,
   "id": "c2ce47c6",
   "metadata": {},
   "outputs": [
    {
     "data": {
      "text/plain": [
       "cluster_hdb\n",
       " 4     0.696766\n",
       " 0     0.682258\n",
       " 13    0.681936\n",
       " 9     0.672905\n",
       " 11    0.662436\n",
       " 7     0.644667\n",
       " 2     0.643240\n",
       "-1     0.641923\n",
       " 5     0.621271\n",
       " 16    0.616685\n",
       " 12    0.615988\n",
       " 8     0.613171\n",
       " 3     0.611304\n",
       " 14    0.603983\n",
       " 17    0.603552\n",
       " 1     0.602309\n",
       " 10    0.601868\n",
       " 6     0.597728\n",
       " 15    0.590381\n",
       " 18    0.587914\n",
       "Name: female_effect_size, dtype: float64"
      ]
     },
     "execution_count": 58,
     "metadata": {},
     "output_type": "execute_result"
    }
   ],
   "source": [
    "df_bias_female.groupby('cluster_hdb')['female_effect_size'].median().sort_values(ascending=False).head(20)"
   ]
  },
  {
   "cell_type": "code",
   "execution_count": 59,
   "id": "d0438e61",
   "metadata": {},
   "outputs": [
    {
     "data": {
      "text/html": [
       "<div>\n",
       "<style scoped>\n",
       "    .dataframe tbody tr th:only-of-type {\n",
       "        vertical-align: middle;\n",
       "    }\n",
       "\n",
       "    .dataframe tbody tr th {\n",
       "        vertical-align: top;\n",
       "    }\n",
       "\n",
       "    .dataframe thead th {\n",
       "        text-align: right;\n",
       "    }\n",
       "</style>\n",
       "<table border=\"1\" class=\"dataframe\">\n",
       "  <thead>\n",
       "    <tr style=\"text-align: right;\">\n",
       "      <th></th>\n",
       "      <th>female_effect_size</th>\n",
       "      <th>female_p_value</th>\n",
       "      <th>clust_ag</th>\n",
       "      <th>cluster_hdb</th>\n",
       "    </tr>\n",
       "  </thead>\n",
       "  <tbody>\n",
       "    <tr>\n",
       "      <th>saatekirja</th>\n",
       "      <td>0.918707</td>\n",
       "      <td>0.003713</td>\n",
       "      <td>17</td>\n",
       "      <td>-1</td>\n",
       "    </tr>\n",
       "    <tr>\n",
       "      <th>hindamist</th>\n",
       "      <td>0.881957</td>\n",
       "      <td>0.005014</td>\n",
       "      <td>3</td>\n",
       "      <td>-1</td>\n",
       "    </tr>\n",
       "    <tr>\n",
       "      <th>järeldusele</th>\n",
       "      <td>0.858506</td>\n",
       "      <td>0.006025</td>\n",
       "      <td>18</td>\n",
       "      <td>-1</td>\n",
       "    </tr>\n",
       "    <tr>\n",
       "      <th>koolitaja</th>\n",
       "      <td>0.854213</td>\n",
       "      <td>0.006215</td>\n",
       "      <td>12</td>\n",
       "      <td>-1</td>\n",
       "    </tr>\n",
       "    <tr>\n",
       "      <th>hindamise</th>\n",
       "      <td>0.820778</td>\n",
       "      <td>0.008568</td>\n",
       "      <td>3</td>\n",
       "      <td>-1</td>\n",
       "    </tr>\n",
       "    <tr>\n",
       "      <th>...</th>\n",
       "      <td>...</td>\n",
       "      <td>...</td>\n",
       "      <td>...</td>\n",
       "      <td>...</td>\n",
       "    </tr>\n",
       "    <tr>\n",
       "      <th>logopeedi</th>\n",
       "      <td>0.568674</td>\n",
       "      <td>0.048773</td>\n",
       "      <td>17</td>\n",
       "      <td>-1</td>\n",
       "    </tr>\n",
       "    <tr>\n",
       "      <th>kutsehaiguskindlustuse</th>\n",
       "      <td>0.566853</td>\n",
       "      <td>0.046084</td>\n",
       "      <td>2</td>\n",
       "      <td>-1</td>\n",
       "    </tr>\n",
       "    <tr>\n",
       "      <th>ravi-</th>\n",
       "      <td>0.565339</td>\n",
       "      <td>0.049932</td>\n",
       "      <td>12</td>\n",
       "      <td>-1</td>\n",
       "    </tr>\n",
       "    <tr>\n",
       "      <th>leidsime</th>\n",
       "      <td>0.562295</td>\n",
       "      <td>0.048216</td>\n",
       "      <td>18</td>\n",
       "      <td>-1</td>\n",
       "    </tr>\n",
       "    <tr>\n",
       "      <th>meditsiiniliselt</th>\n",
       "      <td>0.560348</td>\n",
       "      <td>0.049613</td>\n",
       "      <td>12</td>\n",
       "      <td>-1</td>\n",
       "    </tr>\n",
       "  </tbody>\n",
       "</table>\n",
       "<p>139 rows × 4 columns</p>\n",
       "</div>"
      ],
      "text/plain": [
       "                        female_effect_size  female_p_value  clust_ag  \\\n",
       "saatekirja                        0.918707        0.003713        17   \n",
       "hindamist                         0.881957        0.005014         3   \n",
       "järeldusele                       0.858506        0.006025        18   \n",
       "koolitaja                         0.854213        0.006215        12   \n",
       "hindamise                         0.820778        0.008568         3   \n",
       "...                                    ...             ...       ...   \n",
       "logopeedi                         0.568674        0.048773        17   \n",
       "kutsehaiguskindlustuse            0.566853        0.046084         2   \n",
       "ravi-                             0.565339        0.049932        12   \n",
       "leidsime                          0.562295        0.048216        18   \n",
       "meditsiiniliselt                  0.560348        0.049613        12   \n",
       "\n",
       "                        cluster_hdb  \n",
       "saatekirja                       -1  \n",
       "hindamist                        -1  \n",
       "järeldusele                      -1  \n",
       "koolitaja                        -1  \n",
       "hindamise                        -1  \n",
       "...                             ...  \n",
       "logopeedi                        -1  \n",
       "kutsehaiguskindlustuse           -1  \n",
       "ravi-                            -1  \n",
       "leidsime                         -1  \n",
       "meditsiiniliselt                 -1  \n",
       "\n",
       "[139 rows x 4 columns]"
      ]
     },
     "execution_count": 59,
     "metadata": {},
     "output_type": "execute_result"
    }
   ],
   "source": [
    "df_bias_female[df_bias_female.cluster_hdb==-1]"
   ]
  },
  {
   "cell_type": "markdown",
   "id": "569e4c94",
   "metadata": {},
   "source": [
    "## Male clusters"
   ]
  },
  {
   "cell_type": "code",
   "execution_count": 60,
   "id": "f3efda48",
   "metadata": {},
   "outputs": [
    {
     "data": {
      "text/plain": [
       "cluster_hdb\n",
       " 15   -0.711778\n",
       " 17   -0.699287\n",
       " 11   -0.663897\n",
       " 21   -0.663516\n",
       " 13   -0.662770\n",
       " 24   -0.641110\n",
       " 8    -0.637718\n",
       " 5    -0.636074\n",
       " 23   -0.633952\n",
       " 20   -0.633385\n",
       "-1    -0.631080\n",
       " 1    -0.629136\n",
       " 7    -0.627704\n",
       " 0    -0.625395\n",
       " 3    -0.624610\n",
       " 22   -0.622789\n",
       " 16   -0.618555\n",
       " 14   -0.618506\n",
       " 19   -0.617536\n",
       " 10   -0.617502\n",
       "Name: female_effect_size, dtype: float64"
      ]
     },
     "execution_count": 60,
     "metadata": {},
     "output_type": "execute_result"
    }
   ],
   "source": [
    "df_bias_male.groupby('cluster_hdb')['female_effect_size'].median().sort_values(ascending=True).head(20)"
   ]
  },
  {
   "cell_type": "markdown",
   "id": "e8df6988",
   "metadata": {},
   "source": [
    "## Create 2d vectors for visualization"
   ]
  },
  {
   "cell_type": "code",
   "execution_count": 62,
   "id": "50ce08d6",
   "metadata": {},
   "outputs": [
    {
     "name": "stderr",
     "output_type": "stream",
     "text": [
      "C:\\Users\\RistoHinno\\AppData\\Local\\Temp\\ipykernel_22652\\578596992.py:1: FutureWarning: The frame.append method is deprecated and will be removed from pandas in a future version. Use pandas.concat instead.\n",
      "  df_bias_all_embs=df_bias_female_embs.append(df_bias_male_embs)\n"
     ]
    }
   ],
   "source": [
    "df_bias_all_embs=df_bias_female_embs.append(df_bias_male_embs)\n",
    "df_bias_all_embs_sims=cosine_similarity(df_bias_all_embs, df_bias_all_embs, list(df_bias_all_embs.index))"
   ]
  },
  {
   "cell_type": "code",
   "execution_count": 63,
   "id": "d9563d05",
   "metadata": {},
   "outputs": [],
   "source": [
    "reducer = umap.UMAP(random_state=42,n_components=2, metric='cosine')\n",
    "bias_all_embs_sims_red=reducer.fit_transform(df_bias_all_embs)"
   ]
  },
  {
   "cell_type": "code",
   "execution_count": 64,
   "id": "60269de8",
   "metadata": {},
   "outputs": [],
   "source": [
    "df_bias_all_embs_sims_red=pd.DataFrame(bias_all_embs_sims_red)"
   ]
  },
  {
   "cell_type": "code",
   "execution_count": 65,
   "id": "08db362e",
   "metadata": {},
   "outputs": [],
   "source": [
    "df_bias_female['x']=df_bias_all_embs_sims_red[0].tolist()[:df_bias_female.shape[0]]\n",
    "df_bias_female['y']=df_bias_all_embs_sims_red[1].tolist()[:df_bias_female.shape[0]]"
   ]
  },
  {
   "cell_type": "code",
   "execution_count": 66,
   "id": "91040ded",
   "metadata": {},
   "outputs": [],
   "source": [
    "df_bias_male['x']=df_bias_all_embs_sims_red[0].tolist()[df_bias_female.shape[0]:]\n",
    "df_bias_male['y']=df_bias_all_embs_sims_red[1].tolist()[df_bias_female.shape[0]:]"
   ]
  },
  {
   "cell_type": "code",
   "execution_count": 67,
   "id": "b5fee34e",
   "metadata": {},
   "outputs": [
    {
     "data": {
      "text/html": [
       "<div>\n",
       "<style scoped>\n",
       "    .dataframe tbody tr th:only-of-type {\n",
       "        vertical-align: middle;\n",
       "    }\n",
       "\n",
       "    .dataframe tbody tr th {\n",
       "        vertical-align: top;\n",
       "    }\n",
       "\n",
       "    .dataframe thead th {\n",
       "        text-align: right;\n",
       "    }\n",
       "</style>\n",
       "<table border=\"1\" class=\"dataframe\">\n",
       "  <thead>\n",
       "    <tr style=\"text-align: right;\">\n",
       "      <th></th>\n",
       "      <th>female_effect_size</th>\n",
       "      <th>female_p_value</th>\n",
       "      <th>clust_ag</th>\n",
       "      <th>cluster_hdb</th>\n",
       "      <th>x</th>\n",
       "      <th>y</th>\n",
       "    </tr>\n",
       "  </thead>\n",
       "  <tbody>\n",
       "    <tr>\n",
       "      <th>sõerdile</th>\n",
       "      <td>-1.021268</td>\n",
       "      <td>0.998612</td>\n",
       "      <td>16</td>\n",
       "      <td>5</td>\n",
       "      <td>-1.574706</td>\n",
       "      <td>1.658165</td>\n",
       "    </tr>\n",
       "    <tr>\n",
       "      <th>peangi</th>\n",
       "      <td>-1.018271</td>\n",
       "      <td>0.998401</td>\n",
       "      <td>1</td>\n",
       "      <td>1</td>\n",
       "      <td>2.760018</td>\n",
       "      <td>2.916470</td>\n",
       "    </tr>\n",
       "    <tr>\n",
       "      <th>jaanus</th>\n",
       "      <td>-1.004130</td>\n",
       "      <td>0.998263</td>\n",
       "      <td>0</td>\n",
       "      <td>10</td>\n",
       "      <td>-0.673930</td>\n",
       "      <td>2.131979</td>\n",
       "    </tr>\n",
       "    <tr>\n",
       "      <th>krimm</th>\n",
       "      <td>-0.989838</td>\n",
       "      <td>0.997932</td>\n",
       "      <td>1</td>\n",
       "      <td>12</td>\n",
       "      <td>0.551765</td>\n",
       "      <td>0.279491</td>\n",
       "    </tr>\n",
       "    <tr>\n",
       "      <th>okupeerinud</th>\n",
       "      <td>-0.955118</td>\n",
       "      <td>0.997177</td>\n",
       "      <td>1</td>\n",
       "      <td>23</td>\n",
       "      <td>1.756345</td>\n",
       "      <td>1.445126</td>\n",
       "    </tr>\n",
       "    <tr>\n",
       "      <th>...</th>\n",
       "      <td>...</td>\n",
       "      <td>...</td>\n",
       "      <td>...</td>\n",
       "      <td>...</td>\n",
       "      <td>...</td>\n",
       "      <td>...</td>\n",
       "    </tr>\n",
       "    <tr>\n",
       "      <th>aktsiisipoliitikas</th>\n",
       "      <td>-0.558500</td>\n",
       "      <td>0.950115</td>\n",
       "      <td>1</td>\n",
       "      <td>23</td>\n",
       "      <td>1.561862</td>\n",
       "      <td>0.362474</td>\n",
       "    </tr>\n",
       "    <tr>\n",
       "      <th>nestor</th>\n",
       "      <td>-0.558294</td>\n",
       "      <td>0.950191</td>\n",
       "      <td>9</td>\n",
       "      <td>10</td>\n",
       "      <td>-1.268597</td>\n",
       "      <td>1.833280</td>\n",
       "    </tr>\n",
       "    <tr>\n",
       "      <th>oskagi</th>\n",
       "      <td>-0.557308</td>\n",
       "      <td>0.950345</td>\n",
       "      <td>2</td>\n",
       "      <td>3</td>\n",
       "      <td>2.680472</td>\n",
       "      <td>2.496277</td>\n",
       "    </tr>\n",
       "    <tr>\n",
       "      <th>pomerants</th>\n",
       "      <td>-0.556146</td>\n",
       "      <td>0.950882</td>\n",
       "      <td>9</td>\n",
       "      <td>10</td>\n",
       "      <td>-1.137863</td>\n",
       "      <td>1.665205</td>\n",
       "    </tr>\n",
       "    <tr>\n",
       "      <th>avalduses</th>\n",
       "      <td>-0.551605</td>\n",
       "      <td>0.950288</td>\n",
       "      <td>3</td>\n",
       "      <td>-1</td>\n",
       "      <td>1.346948</td>\n",
       "      <td>0.852669</td>\n",
       "    </tr>\n",
       "  </tbody>\n",
       "</table>\n",
       "<p>564 rows × 6 columns</p>\n",
       "</div>"
      ],
      "text/plain": [
       "                    female_effect_size  female_p_value  clust_ag  cluster_hdb  \\\n",
       "sõerdile                     -1.021268        0.998612        16            5   \n",
       "peangi                       -1.018271        0.998401         1            1   \n",
       "jaanus                       -1.004130        0.998263         0           10   \n",
       "krimm                        -0.989838        0.997932         1           12   \n",
       "okupeerinud                  -0.955118        0.997177         1           23   \n",
       "...                                ...             ...       ...          ...   \n",
       "aktsiisipoliitikas           -0.558500        0.950115         1           23   \n",
       "nestor                       -0.558294        0.950191         9           10   \n",
       "oskagi                       -0.557308        0.950345         2            3   \n",
       "pomerants                    -0.556146        0.950882         9           10   \n",
       "avalduses                    -0.551605        0.950288         3           -1   \n",
       "\n",
       "                           x         y  \n",
       "sõerdile           -1.574706  1.658165  \n",
       "peangi              2.760018  2.916470  \n",
       "jaanus             -0.673930  2.131979  \n",
       "krimm               0.551765  0.279491  \n",
       "okupeerinud         1.756345  1.445126  \n",
       "...                      ...       ...  \n",
       "aktsiisipoliitikas  1.561862  0.362474  \n",
       "nestor             -1.268597  1.833280  \n",
       "oskagi              2.680472  2.496277  \n",
       "pomerants          -1.137863  1.665205  \n",
       "avalduses           1.346948  0.852669  \n",
       "\n",
       "[564 rows x 6 columns]"
      ]
     },
     "execution_count": 67,
     "metadata": {},
     "output_type": "execute_result"
    }
   ],
   "source": [
    "df_bias_male"
   ]
  },
  {
   "cell_type": "markdown",
   "id": "c55a47a1",
   "metadata": {},
   "source": [
    "## Add counts"
   ]
  },
  {
   "cell_type": "code",
   "execution_count": 68,
   "id": "98ffb2b6",
   "metadata": {},
   "outputs": [],
   "source": [
    "df_bias_male['count']=[cnt[x] for x in df_bias_male.index]\n",
    "df_bias_female['count']=[cnt[x] for x in df_bias_female.index]"
   ]
  },
  {
   "cell_type": "markdown",
   "id": "b64836de",
   "metadata": {},
   "source": [
    "## Save"
   ]
  },
  {
   "cell_type": "code",
   "execution_count": 69,
   "id": "581cd1d7",
   "metadata": {},
   "outputs": [],
   "source": [
    "df_bias_male.to_csv('data/interim/gender_bias/separated/bias_male_w2v.csv')"
   ]
  },
  {
   "cell_type": "code",
   "execution_count": 70,
   "id": "94f889b8",
   "metadata": {},
   "outputs": [],
   "source": [
    "df_bias_female.to_csv('data/interim/gender_bias/separated/bias_female_w2v.csv')"
   ]
  },
  {
   "cell_type": "code",
   "execution_count": null,
   "id": "6bb5b277",
   "metadata": {},
   "outputs": [],
   "source": []
  }
 ],
 "metadata": {
  "kernelspec": {
   "display_name": "Python 3 (ipykernel)",
   "language": "python",
   "name": "python3"
  },
  "language_info": {
   "codemirror_mode": {
    "name": "ipython",
    "version": 3
   },
   "file_extension": ".py",
   "mimetype": "text/x-python",
   "name": "python",
   "nbconvert_exporter": "python",
   "pygments_lexer": "ipython3",
   "version": "3.9.12"
  }
 },
 "nbformat": 4,
 "nbformat_minor": 5
}
