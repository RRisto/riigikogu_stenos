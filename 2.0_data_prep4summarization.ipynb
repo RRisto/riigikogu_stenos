{
 "cells": [
  {
   "cell_type": "code",
   "execution_count": 1,
   "id": "0a94f6b1",
   "metadata": {},
   "outputs": [
    {
     "name": "stderr",
     "output_type": "stream",
     "text": [
      "C:\\Users\\RistoHinno\\anaconda3\\lib\\site-packages\\transformers\\utils\\generic.py:485: UserWarning: torch.utils._pytree._register_pytree_node is deprecated. Please use torch.utils._pytree.register_pytree_node instead.\n",
      "  _torch_pytree._register_pytree_node(\n"
     ]
    }
   ],
   "source": [
    "import pandas as pd\n",
    "import tiktoken\n",
    "import math\n",
    "from transformers import MBartTokenizerFast"
   ]
  },
  {
   "cell_type": "markdown",
   "id": "fbb841cd",
   "metadata": {},
   "source": [
    "## Data"
   ]
  },
  {
   "cell_type": "code",
   "execution_count": 2,
   "id": "521a121e",
   "metadata": {},
   "outputs": [
    {
     "data": {
      "text/plain": [
       "(241366, 17)"
      ]
     },
     "execution_count": 2,
     "metadata": {},
     "output_type": "execute_result"
    }
   ],
   "source": [
    "df=pd.read_csv('data/interim/stenos_cleaned_faction2022.csv')\n",
    "df.shape"
   ]
  },
  {
   "cell_type": "markdown",
   "id": "1d1dd556",
   "metadata": {},
   "source": [
    "## tokenizer"
   ]
  },
  {
   "cell_type": "code",
   "execution_count": 3,
   "id": "529a5e36",
   "metadata": {},
   "outputs": [
    {
     "data": {
      "text/plain": [
       "[55704, 259, 1130, 97613]"
      ]
     },
     "execution_count": 3,
     "metadata": {},
     "output_type": "execute_result"
    }
   ],
   "source": [
    "tokenizer=tiktoken.encoding_for_model(\"gpt-4\")\n",
    "tokenizer.encode('tere tulemast')"
   ]
  },
  {
   "cell_type": "code",
   "execution_count": 4,
   "id": "affa86e6",
   "metadata": {},
   "outputs": [],
   "source": [
    "tokenizer_mbart = MBartTokenizerFast.from_pretrained(\"facebook/mbart-large-cc25\")\n",
    "tokenizer_mbart.src_lang = \"et_EE\"\n",
    "tokenizer_mbart.tgt_lang = \"et_EE\""
   ]
  },
  {
   "cell_type": "markdown",
   "id": "74499bb9",
   "metadata": {},
   "source": [
    "## see how many toks there are in päevakorrapunktid"
   ]
  },
  {
   "cell_type": "code",
   "execution_count": 5,
   "id": "c51528b8",
   "metadata": {},
   "outputs": [
    {
     "data": {
      "text/plain": [
       "Index(['heading', 'speaker', 'link_video', 'link_steno', 'index_pk',\n",
       "       'index_snd', 'text', 'year', 'month', 'day', 'time',\n",
       "       'seconds_from_start', 'video_link_wo_time', 'text_wo_punct', 'date',\n",
       "       'koosseis', 'fation'],\n",
       "      dtype='object')"
      ]
     },
     "execution_count": 5,
     "metadata": {},
     "output_type": "execute_result"
    }
   ],
   "source": [
    "df.columns"
   ]
  },
  {
   "cell_type": "code",
   "execution_count": 6,
   "id": "719226db",
   "metadata": {},
   "outputs": [
    {
     "data": {
      "text/plain": [
       "241366"
      ]
     },
     "execution_count": 6,
     "metadata": {},
     "output_type": "execute_result"
    }
   ],
   "source": [
    "df.index_snd.nunique()"
   ]
  },
  {
   "cell_type": "code",
   "execution_count": 7,
   "id": "53f71d8e",
   "metadata": {},
   "outputs": [
    {
     "data": {
      "text/plain": [
       "11171"
      ]
     },
     "execution_count": 7,
     "metadata": {},
     "output_type": "execute_result"
    }
   ],
   "source": [
    "df.index_pk.nunique()"
   ]
  },
  {
   "cell_type": "code",
   "execution_count": 8,
   "id": "06d985ed",
   "metadata": {},
   "outputs": [],
   "source": [
    "df['ntoks']=df.text.apply(lambda x: len(x.split()))\n",
    "df['ntoks_tiktoken']=df.text.apply(lambda x: len(tokenizer.encode(x)))"
   ]
  },
  {
   "cell_type": "code",
   "execution_count": 9,
   "id": "f5819642",
   "metadata": {},
   "outputs": [
    {
     "name": "stderr",
     "output_type": "stream",
     "text": [
      "Token indices sequence length is longer than the specified maximum sequence length for this model (2961 > 1024). Running this sequence through the model will result in indexing errors\n"
     ]
    }
   ],
   "source": [
    "df['ntoks_mbart']=df.text.apply(lambda x: len(tokenizer_mbart(x)['input_ids']))"
   ]
  },
  {
   "cell_type": "code",
   "execution_count": 10,
   "id": "6e7313fa",
   "metadata": {},
   "outputs": [
    {
     "data": {
      "text/plain": [
       "<Axes: >"
      ]
     },
     "execution_count": 10,
     "metadata": {},
     "output_type": "execute_result"
    },
    {
     "data": {
      "image/png": "[encoded data removed]",
      "text/plain": [
       "<Figure size 640x480 with 1 Axes>"
      ]
     },
     "metadata": {},
     "output_type": "display_data"
    }
   ],
   "source": [
    "df.groupby('index_pk')['ntoks'].sum().hist()"
   ]
  },
  {
   "cell_type": "code",
   "execution_count": 11,
   "id": "cd8ae183",
   "metadata": {},
   "outputs": [
    {
     "data": {
      "text/plain": [
       "<Axes: >"
      ]
     },
     "execution_count": 11,
     "metadata": {},
     "output_type": "execute_result"
    },
    {
     "data": {
      "image/png": "[encoded data removed]",
      "text/plain": [
       "<Figure size 640x480 with 1 Axes>"
      ]
     },
     "metadata": {},
     "output_type": "display_data"
    }
   ],
   "source": [
    "df.groupby('index_pk')['ntoks_tiktoken'].sum().hist()"
   ]
  },
  {
   "cell_type": "code",
   "execution_count": 12,
   "id": "4d856a7b",
   "metadata": {},
   "outputs": [
    {
     "data": {
      "text/plain": [
       "count     11171.000000\n",
       "mean       6428.416883\n",
       "std       10887.452170\n",
       "min           3.000000\n",
       "25%        1042.500000\n",
       "50%        2693.000000\n",
       "75%        6590.500000\n",
       "max      163447.000000\n",
       "Name: ntoks_tiktoken, dtype: float64"
      ]
     },
     "execution_count": 12,
     "metadata": {},
     "output_type": "execute_result"
    }
   ],
   "source": [
    "df.groupby('index_pk')['ntoks_tiktoken'].sum().describe()"
   ]
  },
  {
   "cell_type": "code",
   "execution_count": 13,
   "id": "f9e24416",
   "metadata": {},
   "outputs": [
    {
     "data": {
      "text/plain": [
       "<Axes: >"
      ]
     },
     "execution_count": 13,
     "metadata": {},
     "output_type": "execute_result"
    },
    {
     "data": {
      "image/png": "[encoded data removed]",
      "text/plain": [
       "<Figure size 640x480 with 1 Axes>"
      ]
     },
     "metadata": {},
     "output_type": "display_data"
    }
   ],
   "source": [
    "df.groupby('index_pk')['ntoks_mbart'].sum().hist()"
   ]
  },
  {
   "cell_type": "code",
   "execution_count": 14,
   "id": "6ba1cc6f",
   "metadata": {},
   "outputs": [
    {
     "data": {
      "text/plain": [
       "count     11171.000000\n",
       "mean       4080.807627\n",
       "std        6960.248098\n",
       "min           5.000000\n",
       "25%         633.000000\n",
       "50%        1712.000000\n",
       "75%        4171.000000\n",
       "max      103598.000000\n",
       "Name: ntoks_mbart, dtype: float64"
      ]
     },
     "execution_count": 14,
     "metadata": {},
     "output_type": "execute_result"
    }
   ],
   "source": [
    "df.groupby('index_pk')['ntoks_mbart'].sum().describe()"
   ]
  },
  {
   "cell_type": "markdown",
   "id": "5e45b029",
   "metadata": {},
   "source": [
    "## make text where speaker is appended to text"
   ]
  },
  {
   "cell_type": "code",
   "execution_count": 71,
   "id": "81aba929",
   "metadata": {},
   "outputs": [],
   "source": [
    "df['speaker_text']=' \\n '+df.speaker+': '+df.text"
   ]
  },
  {
   "cell_type": "code",
   "execution_count": 72,
   "id": "251bc722",
   "metadata": {},
   "outputs": [
    {
     "data": {
      "text/plain": [
       "' \\n Aseesimees Siim Kallas: Täna on meil päevakorras olulise tähtsusega riikliku küsimusena \"Maksusüsteem – kuidas edasi?\" arutelu. See on Eesti Keskerkaonna fraktsiooni algatatud olulise tähtsusega riikliku küsimuse arutelu. Tutvustan, kuidas see asi peaks välja nägema. Kõigepealt on meil ettekanded. Keskerakonna fraktsiooni esimehe Kersti Sarapuu ettekanne on kuni 15 minutit, küsimused ja vastused kuni 15 minutit. Seejärel on Rahandusministeeriumi maksu- ja tollipoliitika asekantseleri Dmitri Jegorovi ettekanne kuni 20 minutit, küsimused ja vastused kuni 20 minutit. Siis on Indrek Neivelti ettekanne kuni 20 minutit, küsimused ja vastused kuni 20 minutit. Riigikogu liige võib esitada ettekandjatele kokku kuni kaks küsimust.\\xa0Ühesõnaga, ettekandjatele kokku on igaühel kaks küsimust. Pärast ettekandeid ja küsimustele vastamist avatakse läbirääkimised. Sõnavõttudega võivad esineda kõik Riigikogu liikmed, kes seda soovivad, ning komisjonide ja fraktsioonide esindajad. Eesti Keskerakonna fraktsiooni palvel teen Riigikogule ettepaneku, et kõigepealt esineksid fraktsioonide esindajad. Kõne siis kas puldist, nagu meil kombeks, 5 + 3 minutit, või sõnavõtt kohapealt 2 minutit. Arutetlu lõppemisel Riigikogu otsust vastu ei võta. Keskerakond on teinud ka ettepaneku pikendada istungi aega kuni päevakorrapunkti ammendumiseni, kuid mitte kauem kui kella kaheni. Aga ma arvan, et juhatus paneb selle hääletusele siis, kui me nii kaugel oleme ja on selge, et me plaanilise ajaga toime ei tule.   Nii et kui teil, kallid sõbrad, midagi selle vastu ei ole, siis me hakkaksime esimest punkti menetlema. Ja ma annan võimaluse esineda ettekandega Kersti Sarapuule, Keskerakonna fraktsiooni esimehele. Kõne 15 minutit, küsimused ja vastused ka kokku 15 minutit. Palun!'"
      ]
     },
     "execution_count": 72,
     "metadata": {},
     "output_type": "execute_result"
    }
   ],
   "source": [
    "df.speaker_text[1]"
   ]
  },
  {
   "cell_type": "code",
   "execution_count": 73,
   "id": "897f86c0",
   "metadata": {},
   "outputs": [
    {
     "data": {
      "text/plain": [
       "' \\n Aseesimees Siim Kallas: Täna on meil päevakorras olulise tähtsusega riikliku küsimusena \"Maksusüsteem – kuidas edasi?\" arutelu. See on Eesti Keskerkaonna fraktsiooni algatatud olulise tähtsusega riikliku küsimuse arutelu. Tutvustan, kuidas see asi peaks välja nägema. Kõigepealt on meil ettekanded. Keskerakonna fraktsiooni esimehe Kersti Sarapuu ettekanne on kuni 15 minutit, küsimused ja vastused kuni 15 minutit. Seejärel on Rahandusministeeriumi maksu- ja tollipoliitika asekantseleri Dmitri Jegorovi ettekanne kuni 20 minutit, küsimused ja vastused kuni 20 minutit. Siis on Indrek Neivelti ettekanne kuni 20 minutit, küsimused ja vastused kuni 20 minutit. Riigikogu liige võib esitada ettekandjatele kokku kuni kaks küsimust.\\xa0Ühesõnaga, ettekandjatele kokku on igaühel kaks küsimust. Pärast ettekandeid ja küsimustele vastamist avatakse läbirääkimised. Sõnavõttudega võivad esineda kõik Riigikogu liikmed, kes seda soovivad, ning komisjonide ja fraktsioonide esindajad. Eesti Keskerakonna fraktsiooni palvel teen Riigikogule ettepaneku, et kõigepealt esineksid fraktsioonide esindajad. Kõne siis kas puldist, nagu meil kombeks, 5 + 3 minutit, või sõnavõtt kohapealt 2 minutit. Arutetlu lõppemisel Riigikogu otsust vastu ei võta. Keskerakond on teinud ka ettepaneku pikendada istungi aega kuni päevakorrapunkti ammendumiseni, kuid mitte kauem kui kella kaheni. Aga ma arvan, et juhatus paneb selle hääletusele siis, kui me nii kaugel oleme ja on selge, et me plaanilise ajaga toime ei tule.   Nii et kui teil, kallid sõbrad, midagi selle vastu ei ole, siis me hakkaksime esimest punkti menetlema. Ja ma annan võimaluse esineda ettekandega Kersti Sarapuule, Keskerakonna fraktsiooni esimehele. Kõne 15 minutit, küsimused ja vastused ka kokku 15 minutit. Palun!'"
      ]
     },
     "execution_count": 73,
     "metadata": {},
     "output_type": "execute_result"
    }
   ],
   "source": [
    "df[df.index_pk=='PKP-25041']['speaker_text'][1]"
   ]
  },
  {
   "cell_type": "code",
   "execution_count": 74,
   "id": "7b2a65d8",
   "metadata": {},
   "outputs": [
    {
     "data": {
      "text/plain": [
       "0          \\n Aseesimees Siim Kallas: Auväärt kolleegid,...\n",
       "1          \\n Aseesimees Siim Kallas: Täna on meil päeva...\n",
       "2          \\n Kersti Sarapuu: Lugupeetud istungi juhataj...\n",
       "3          \\n Aseesimees Siim Kallas: Aitäh! Ettekandjat...\n",
       "4          \\n Aivar Sõerd: Aitäh, austatud juhataja! Aus...\n",
       "                                ...                        \n",
       "241361                            \\n Jõuluvana: Selge. Jaa.\n",
       "241362     \\n Jaak Juske:  See lõppev aasta polnud kerge...\n",
       "241363                 \\n Jõuluvana:  Väga ilus, väga ilus!\n",
       "241364     \\n Toomas Jürgenstein:  Head kolleegid! Hea j...\n",
       "241365     \\n Jõuluvana:  Väga ilus, väga ilus. Tublid p...\n",
       "Name: speaker_text, Length: 241366, dtype: object"
      ]
     },
     "execution_count": 74,
     "metadata": {},
     "output_type": "execute_result"
    }
   ],
   "source": [
    "df.speaker_text"
   ]
  },
  {
   "cell_type": "code",
   "execution_count": 75,
   "id": "9c247dca",
   "metadata": {},
   "outputs": [],
   "source": [
    "df['ntoks_speaker_text_mbart']=df.speaker_text.apply(lambda x: len(tokenizer_mbart(str(x))['input_ids']))"
   ]
  },
  {
   "cell_type": "code",
   "execution_count": 76,
   "id": "ac03ffe4",
   "metadata": {},
   "outputs": [
    {
     "data": {
      "text/plain": [
       "count     11171.000000\n",
       "mean       4235.437920\n",
       "std        7207.427296\n",
       "min           3.000000\n",
       "25%         667.000000\n",
       "50%        1784.000000\n",
       "75%        4333.000000\n",
       "max      107229.000000\n",
       "Name: ntoks_speaker_text_mbart, dtype: float64"
      ]
     },
     "execution_count": 76,
     "metadata": {},
     "output_type": "execute_result"
    }
   ],
   "source": [
    "df.groupby('index_pk')['ntoks_speaker_text_mbart'].sum().describe()"
   ]
  },
  {
   "cell_type": "markdown",
   "id": "8ccdd972",
   "metadata": {},
   "source": [
    "## see how long segments are"
   ]
  },
  {
   "cell_type": "code",
   "execution_count": 77,
   "id": "80d155b6",
   "metadata": {},
   "outputs": [
    {
     "data": {
      "text/plain": [
       "<Axes: >"
      ]
     },
     "execution_count": 77,
     "metadata": {},
     "output_type": "execute_result"
    },
    {
     "data": {
      "image/png": "[encoded data removed]",
      "text/plain": [
       "<Figure size 640x480 with 1 Axes>"
      ]
     },
     "metadata": {},
     "output_type": "display_data"
    }
   ],
   "source": [
    "df.ntoks_speaker_text_mbart.hist()"
   ]
  },
  {
   "cell_type": "code",
   "execution_count": 78,
   "id": "8215784e",
   "metadata": {},
   "outputs": [
    {
     "data": {
      "text/plain": [
       "(6264, 22)"
      ]
     },
     "execution_count": 78,
     "metadata": {},
     "output_type": "execute_result"
    }
   ],
   "source": [
    "df[df.ntoks_speaker_text_mbart>1000].shape"
   ]
  },
  {
   "cell_type": "code",
   "execution_count": 79,
   "id": "bf1eca36",
   "metadata": {},
   "outputs": [
    {
     "data": {
      "text/plain": [
       "(241366, 22)"
      ]
     },
     "execution_count": 79,
     "metadata": {},
     "output_type": "execute_result"
    }
   ],
   "source": [
    "df.shape"
   ]
  },
  {
   "cell_type": "code",
   "execution_count": 80,
   "id": "470c0855",
   "metadata": {},
   "outputs": [
    {
     "data": {
      "text/plain": [
       "0.02595228822617933"
      ]
     },
     "execution_count": 80,
     "metadata": {},
     "output_type": "execute_result"
    }
   ],
   "source": [
    "df[df.ntoks_speaker_text_mbart>1000].shape[0]/df.shape[0]"
   ]
  },
  {
   "cell_type": "code",
   "execution_count": 81,
   "id": "37570d81",
   "metadata": {},
   "outputs": [
    {
     "data": {
      "text/plain": [
       "count    241366.000000\n",
       "mean        196.026271\n",
       "std         337.821829\n",
       "min           3.000000\n",
       "25%          25.000000\n",
       "50%          97.000000\n",
       "75%         215.000000\n",
       "max        7176.000000\n",
       "Name: ntoks_speaker_text_mbart, dtype: float64"
      ]
     },
     "execution_count": 81,
     "metadata": {},
     "output_type": "execute_result"
    }
   ],
   "source": [
    "df.ntoks_speaker_text_mbart.describe()"
   ]
  },
  {
   "cell_type": "markdown",
   "id": "fce370ca",
   "metadata": {},
   "source": [
    "## create dataset where each index_pk texts are up to 2048 mbart tokens"
   ]
  },
  {
   "cell_type": "code",
   "execution_count": 82,
   "id": "4d7cd6f9",
   "metadata": {},
   "outputs": [
    {
     "data": {
      "text/plain": [
       "' \\n Peeter Kreitzberg: Austatud juhataja! Lugupeetud minister! Kolleegid! See on päris hea eelnõu selles mõttes, et see jätkab pensioniea tõstmise arutelu, mille minu meelest üsna efektselt lõpetas Lauri Vahtre, kes ütles, et lõpetage noorte tapmine, siis nad elavad hästi kaua ja ei ole mingit probleemi 65-aastaselt pensionileminekuga. See on nüüd see eelnõu, mis puudutab noori ja kus ilmselt tuleb hakata mõtlema selle peale, kuidas noori mitte tappa, et nad tõesti kaua elaksid. Selle eelnõu puhul ma ütleksin, et asi ei lähe mitte paremaks, vaid läheb ka noorte puhul oluliselt halvemaks. Haridusalastel eelnõudel peab olema alati mingi haridusalane eesmärk. Näiteks olgu eesmärgiks see, nii nagu põhikooli- ja gümnaasiumiseaduses on väga kenasti öeldud, et üle 24 õpilase ei tohi klassis olla. Siin võime me samuti apelleerida inimeste mõistusele, usule või millele iganes. Me võime kehtestada ka liikluses piirnormiks 200 kilomeetrit tunnis, olles kindlad, et inimesed on hästi targad ja mõistlikud, säästavad üksteist ja iseennast ega sõida kindlasti mitte kriipsugi kiiremini kui 90 kilomeetrit tunnis. Mina arvan, et ei ole vaja teha selliseid seadusi ega avada seadustes võimalusi, mille tõttu haridusalaste eesmärkide saavutamine võib muutuda halvemaks, mitte paremaks. Mida see seadus siis tegelikult teeb? Nagu ma ütlesin küsimuse esitamise käigus, kohtade puudus on tõesti suur. 3-aastaste hulgas on see tõenäoliselt suurem kui 6-aastaste hulgas. Oleks vaja täita seadust ja kindlustada igale lapsele vanuses 1,5–7 eluaastat lasteaiakoht. Me alustasime riiklikku programmi, panime sinna 300 miljonit, 150 miljonit läks lasteaedade ehitamiseks. Õiguskantsler Allar Jõks on ammu juhtinud tähelepanu probleemile, et 40%-s omavalitsustest ei jätku kohti ja samas on selge, et omavalitsustel endil ei jätku ka vahendeid nende kohtade rajamiseks. Kui me oleme vähegi haridusega tegelnud, siis me teame, et alusharidus on haridusastmetest kõige olulisem ja kõige määravama tähtsusega. Kui seal midagi tegemata jätta, siis on väga raske seda hiljem kompenseerida. Sellepärast on mulle täiesti vastuvõetamatu puhtfiskaalne lähenemine, et lahendatakse üks probleem vasaku käega, ilma igasuguse haridusliku tagamõtteta ära. Selles seaduses on tegelikult kaks halba asja. Esiteks, kui enne olid rühmad sellised, et sinna kuulusid kahe järjestikuse sünniaastaga lapsed, siis nüüd on rühmaks nimetatud rühm, kus on lapsed 3.–7. eluaastani. Varem nimetati seda liitrühmaks ja selle suurus võis olla kõige rohkem 20 last, praegu kehtestatakse sellise rühma suuruseks 24 last. See ongi tegelikult peamine seaduse trikk. Teine trikk on ju see, et kui liitrühma kuulusid varem lapsed vanuses 2–7 eluaastat, siis nüüd kuuluvad sinna lapsed vanuses 1,5–7 eluaastat. Ma oleksin saanud aru, kui oleks mindud vastupidist teed ja liitrühmaks oleks kehtestatud rühm, kus ei ole lapsed mitte vanuses 2–7 eluaastat, vaid 3–7 või 4–7 eluaastat, et neid oleks parem õpetada, et neil oleksid sarnased probleemid. Minu meelest läheme me selle eelnõuga haridusest oluliselt kaugemale. Tegelikult vajab Eesti uusi lasteaiakohti ja kindlasti ei suuda omavalitsused neid ehitada. Tallinna lasteaiad on peaaegu kõik täis viimase piirini – 24 last. Aga arvestada tuleb ka seda, et lastele ei jätku pinda. Kui leht kirjutab, et 3000 lapsele on pinda kuni 1 ruutmeeter, aga normid ütlevad, et peab olema 4 ruutmeetrit, siis seda fakti tuleks ka arvestada, enne kui minna uljalt sellist seadust vastu võtma ja tegelikult probleemist  mööda vaatama. Mina nimetaksin seda  seadust ebameeldivatele otsustele tee avamise seaduseks. Ministri põhiargument on kogu aeg, et ega  seda ei kasutata, teeme seaduse küll, aga niikuinii keegi ei kasuta seda.  Tegelikult, pange tähele, kasutatakse kindlasti, sest selleks see seadus tehtud on. Kahe fraktsiooni nimel, Sotsiaaldemokraatliku Erakonna ja Keskerakonna fraktsiooni nimel esitan ettepaneku eelnõu 679 esimesel lugemisel tagasi lükata.'"
      ]
     },
     "execution_count": 82,
     "metadata": {},
     "output_type": "execute_result"
    }
   ],
   "source": [
    "df[(df.ntoks_speaker_text_mbart<1000)&(df.ntoks_speaker_text_mbart>950)].speaker_text[395]"
   ]
  },
  {
   "cell_type": "code",
   "execution_count": 83,
   "id": "db2c62bc",
   "metadata": {},
   "outputs": [],
   "source": [
    "def split_text_into_equal_parts(text, n_parts):\n",
    "    \"\"\"\n",
    "    Splits text into approximately equal parts, trying to preserve complete sentences.\n",
    "    \n",
    "    Args:\n",
    "        text (str): The input text to split.\n",
    "        n_parts (int): The number of parts to split the text into.\n",
    "    \n",
    "    Returns:\n",
    "        list of str: A list where each item is a part of the original text.\n",
    "    \"\"\"\n",
    "    # Split the text by period to preserve sentences\n",
    "    sentences = [sentence.strip() + '.' for sentence in text.split('.') if sentence.strip()]\n",
    "    \n",
    "    # If there are fewer sentences than parts, return the sentences as parts directly\n",
    "    if len(sentences) <= n_parts:\n",
    "        return sentences + [''] * (n_parts - len(sentences))\n",
    "    \n",
    "    # Calculate the ideal number of characters per part\n",
    "    total_chars = sum(len(sentence) for sentence in sentences)\n",
    "    part_char_count = total_chars / n_parts\n",
    "    \n",
    "    parts = []\n",
    "    current_part = \"\"\n",
    "    current_length = 0\n",
    "    \n",
    "    for sentence in sentences:\n",
    "        # Check if adding this sentence to the current part would exceed the ideal part length\n",
    "        if current_length + len(sentence) > part_char_count and current_part:\n",
    "            # If so, start a new part\n",
    "            parts.append(current_part)\n",
    "            current_part = sentence\n",
    "            current_length = len(sentence)\n",
    "            # Adjust part size for remaining parts to handle any imbalance\n",
    "            remaining_parts = n_parts - len(parts)\n",
    "            if remaining_parts > 0:\n",
    "                part_char_count = (total_chars - current_length) / remaining_parts\n",
    "        else:\n",
    "            # Otherwise, add the sentence to the current part\n",
    "            current_part += ' ' + sentence if current_part else sentence\n",
    "            current_length += len(sentence)\n",
    "    \n",
    "    # Add the last part if it contains any sentences\n",
    "    if current_part:\n",
    "        parts.append(current_part)\n",
    "    \n",
    "    # If there aren't enough parts due to rounding, add empty strings\n",
    "    while len(parts) < n_parts:\n",
    "        parts.append('')\n",
    "    \n",
    "    return parts"
   ]
  },
  {
   "cell_type": "code",
   "execution_count": 113,
   "id": "b99f222f",
   "metadata": {},
   "outputs": [],
   "source": [
    "text_chunks=[]\n",
    "\n",
    "max_mbart_tokens=2000\n",
    "ntoks_chunk=0\n",
    "text_chunk=''\n",
    "index_pk_prev=df.index_pk[0]\n",
    "\n",
    "for i, row in df.iterrows():\n",
    "    \n",
    "    if row['ntoks_speaker_text_mbart']>max_mbart_tokens:\n",
    "        n_parts=math.ceil(row['ntoks_speaker_text_mbart']/(max_mbart_tokens-100))\n",
    "        if n_parts>3:\n",
    "            n_parts+=1\n",
    "        parts=split_text_into_equal_parts(row['speaker_text'], n_parts)\n",
    "        \n",
    "        for j, part in enumerate(parts):\n",
    "            if len(part)>10:\n",
    "                if j==0:\n",
    "                    text=part\n",
    "                else:\n",
    "                    text=' \\n '+ row['speaker']+': '+part\n",
    "                text_chunks.extend([{'text':text, 'index_pk':row['index_pk'], 'ntoks':row['ntoks_speaker_text_mbart']/n_parts}])\n",
    "        ntoks_chunk=0\n",
    "        text_chunk=''\n",
    "        index_pk_prev=row['index_pk']\n",
    "        \n",
    "    elif (row['ntoks_speaker_text_mbart']+ntoks_chunk>max_mbart_tokens and ntoks_chunk>0) or index_pk_prev!=row['index_pk']:\n",
    "        text_chunks.extend([{'text':text_chunk, 'index_pk':index_pk_prev, 'ntoks':ntoks_chunk}])\n",
    "        ntoks_chunk=row['ntoks_speaker_text_mbart']\n",
    "        text_chunk=row['speaker_text']\n",
    "        index_pk_prev=row['index_pk']\n",
    "\n",
    "    else:    \n",
    "        text_chunk=f\"{text_chunk} \\n {row['speaker_text']}\"\n",
    "        ntoks_chunk+=row['ntoks_speaker_text_mbart']"
   ]
  },
  {
   "cell_type": "code",
   "execution_count": 139,
   "id": "479636d3",
   "metadata": {},
   "outputs": [
    {
     "data": {
      "text/plain": [
       "0          \\n Aseesimees Siim Kallas: Auväärt kolleegid,...\n",
       "1          \\n Aseesimees Siim Kallas: Täna on meil päeva...\n",
       "2          \\n Kersti Sarapuu: Lugupeetud istungi juhataj...\n",
       "3          \\n Aseesimees Siim Kallas: Aitäh! Ettekandjat...\n",
       "4          \\n Aivar Sõerd: Aitäh, austatud juhataja! Aus...\n",
       "                                ...                        \n",
       "241361                            \\n Jõuluvana: Selge. Jaa.\n",
       "241362     \\n Jaak Juske:  See lõppev aasta polnud kerge...\n",
       "241363                 \\n Jõuluvana:  Väga ilus, väga ilus!\n",
       "241364     \\n Toomas Jürgenstein:  Head kolleegid! Hea j...\n",
       "241365     \\n Jõuluvana:  Väga ilus, väga ilus. Tublid p...\n",
       "Name: speaker_text, Length: 241366, dtype: object"
      ]
     },
     "execution_count": 139,
     "metadata": {},
     "output_type": "execute_result"
    }
   ],
   "source": [
    "df.speaker_text"
   ]
  },
  {
   "cell_type": "code",
   "execution_count": 114,
   "id": "3596c0b5",
   "metadata": {},
   "outputs": [
    {
     "data": {
      "text/plain": [
       "32886"
      ]
     },
     "execution_count": 114,
     "metadata": {},
     "output_type": "execute_result"
    }
   ],
   "source": [
    "len(text_chunks)"
   ]
  },
  {
   "cell_type": "code",
   "execution_count": 115,
   "id": "f90b810c",
   "metadata": {},
   "outputs": [
    {
     "data": {
      "text/plain": [
       "(32886, 3)"
      ]
     },
     "execution_count": 115,
     "metadata": {},
     "output_type": "execute_result"
    }
   ],
   "source": [
    "df_chunks=pd.DataFrame(text_chunks)\n",
    "df_chunks.shape"
   ]
  },
  {
   "cell_type": "code",
   "execution_count": 116,
   "id": "f7b3d88a",
   "metadata": {},
   "outputs": [
    {
     "data": {
      "text/html": [
       "<div>\n",
       "<style scoped>\n",
       "    .dataframe tbody tr th:only-of-type {\n",
       "        vertical-align: middle;\n",
       "    }\n",
       "\n",
       "    .dataframe tbody tr th {\n",
       "        vertical-align: top;\n",
       "    }\n",
       "\n",
       "    .dataframe thead th {\n",
       "        text-align: right;\n",
       "    }\n",
       "</style>\n",
       "<table border=\"1\" class=\"dataframe\">\n",
       "  <thead>\n",
       "    <tr style=\"text-align: right;\">\n",
       "      <th></th>\n",
       "      <th>text</th>\n",
       "      <th>index_pk</th>\n",
       "      <th>ntoks</th>\n",
       "    </tr>\n",
       "  </thead>\n",
       "  <tbody>\n",
       "    <tr>\n",
       "      <th>0</th>\n",
       "      <td>\\n  \\n Aseesimees Siim Kallas: Auväärt kollee...</td>\n",
       "      <td>PKP-25040</td>\n",
       "      <td>147.0</td>\n",
       "    </tr>\n",
       "    <tr>\n",
       "      <th>1</th>\n",
       "      <td>Kersti Sarapuu: Lugupeetud istungi juhataja! H...</td>\n",
       "      <td>PKP-25041</td>\n",
       "      <td>1483.0</td>\n",
       "    </tr>\n",
       "    <tr>\n",
       "      <th>2</th>\n",
       "      <td>\\n Kersti Sarapuu: Eurostati andmetel oli Gin...</td>\n",
       "      <td>PKP-25041</td>\n",
       "      <td>1483.0</td>\n",
       "    </tr>\n",
       "    <tr>\n",
       "      <th>3</th>\n",
       "      <td>\\n  \\n Aseesimees Siim Kallas: Aitäh! Ettekan...</td>\n",
       "      <td>PKP-25041</td>\n",
       "      <td>1918.0</td>\n",
       "    </tr>\n",
       "    <tr>\n",
       "      <th>4</th>\n",
       "      <td>Rahandusministeeriumi asekantsler Dmitri Jegor...</td>\n",
       "      <td>PKP-25041</td>\n",
       "      <td>1655.5</td>\n",
       "    </tr>\n",
       "  </tbody>\n",
       "</table>\n",
       "</div>"
      ],
      "text/plain": [
       "                                                text   index_pk   ntoks\n",
       "0   \\n  \\n Aseesimees Siim Kallas: Auväärt kollee...  PKP-25040   147.0\n",
       "1  Kersti Sarapuu: Lugupeetud istungi juhataja! H...  PKP-25041  1483.0\n",
       "2   \\n Kersti Sarapuu: Eurostati andmetel oli Gin...  PKP-25041  1483.0\n",
       "3   \\n  \\n Aseesimees Siim Kallas: Aitäh! Ettekan...  PKP-25041  1918.0\n",
       "4  Rahandusministeeriumi asekantsler Dmitri Jegor...  PKP-25041  1655.5"
      ]
     },
     "execution_count": 116,
     "metadata": {},
     "output_type": "execute_result"
    }
   ],
   "source": [
    "df_chunks.head()"
   ]
  },
  {
   "cell_type": "markdown",
   "id": "fd81e80a",
   "metadata": {},
   "source": [
    "## retokenize"
   ]
  },
  {
   "cell_type": "code",
   "execution_count": 117,
   "id": "180efd78",
   "metadata": {},
   "outputs": [],
   "source": [
    "df_chunks['ntoks_space']=df_chunks.text.apply(lambda x: len(str(x).split()))"
   ]
  },
  {
   "cell_type": "code",
   "execution_count": 118,
   "id": "078afd09",
   "metadata": {},
   "outputs": [],
   "source": [
    "df_chunks['ntoks_mbart']=df_chunks.text.apply(lambda x: len(tokenizer_mbart(str(x))['input_ids']))"
   ]
  },
  {
   "cell_type": "code",
   "execution_count": 119,
   "id": "97ac6ad4",
   "metadata": {},
   "outputs": [],
   "source": [
    "df_chunks['ntoks_gpt35']=df_chunks.text.apply(lambda x: len(tokenizer.encode(str(x))))"
   ]
  },
  {
   "cell_type": "code",
   "execution_count": 120,
   "id": "e00c4f42",
   "metadata": {},
   "outputs": [
    {
     "data": {
      "text/plain": [
       "count    32886.000000\n",
       "mean      1402.774980\n",
       "std        557.186736\n",
       "min          2.000000\n",
       "25%       1073.000000\n",
       "50%       1590.000000\n",
       "75%       1866.000000\n",
       "max       2808.000000\n",
       "Name: ntoks_mbart, dtype: float64"
      ]
     },
     "execution_count": 120,
     "metadata": {},
     "output_type": "execute_result"
    }
   ],
   "source": [
    "df_chunks['ntoks_mbart'].describe()"
   ]
  },
  {
   "cell_type": "code",
   "execution_count": 121,
   "id": "d12c0d18",
   "metadata": {},
   "outputs": [
    {
     "data": {
      "text/plain": [
       "count    32886.000000\n",
       "mean      2218.304111\n",
       "std        876.849337\n",
       "min          0.000000\n",
       "25%       1714.000000\n",
       "50%       2508.000000\n",
       "75%       2928.000000\n",
       "max       4579.000000\n",
       "Name: ntoks_gpt35, dtype: float64"
      ]
     },
     "execution_count": 121,
     "metadata": {},
     "output_type": "execute_result"
    }
   ],
   "source": [
    "df_chunks['ntoks_gpt35'].describe()"
   ]
  },
  {
   "cell_type": "code",
   "execution_count": 122,
   "id": "27ed7b64",
   "metadata": {},
   "outputs": [
    {
     "data": {
      "text/plain": [
       "count    32886.000000\n",
       "mean       759.029648\n",
       "std        310.448113\n",
       "min          0.000000\n",
       "25%        568.000000\n",
       "50%        863.000000\n",
       "75%       1010.000000\n",
       "max       1605.000000\n",
       "Name: ntoks_space, dtype: float64"
      ]
     },
     "execution_count": 122,
     "metadata": {},
     "output_type": "execute_result"
    }
   ],
   "source": [
    "df_chunks['ntoks_space'].describe()"
   ]
  },
  {
   "cell_type": "code",
   "execution_count": 123,
   "id": "7a4f48e6",
   "metadata": {},
   "outputs": [
    {
     "data": {
      "text/html": [
       "<div>\n",
       "<style scoped>\n",
       "    .dataframe tbody tr th:only-of-type {\n",
       "        vertical-align: middle;\n",
       "    }\n",
       "\n",
       "    .dataframe tbody tr th {\n",
       "        vertical-align: top;\n",
       "    }\n",
       "\n",
       "    .dataframe thead th {\n",
       "        text-align: right;\n",
       "    }\n",
       "</style>\n",
       "<table border=\"1\" class=\"dataframe\">\n",
       "  <thead>\n",
       "    <tr style=\"text-align: right;\">\n",
       "      <th></th>\n",
       "      <th>text</th>\n",
       "      <th>index_pk</th>\n",
       "      <th>ntoks</th>\n",
       "      <th>ntoks_space</th>\n",
       "      <th>ntoks_mbart</th>\n",
       "      <th>ntoks_gpt35</th>\n",
       "    </tr>\n",
       "  </thead>\n",
       "  <tbody>\n",
       "    <tr>\n",
       "      <th>692</th>\n",
       "      <td>NaN</td>\n",
       "      <td>PKP-22649</td>\n",
       "      <td>3.0</td>\n",
       "      <td>1</td>\n",
       "      <td>3</td>\n",
       "      <td>1</td>\n",
       "    </tr>\n",
       "    <tr>\n",
       "      <th>696</th>\n",
       "      <td>\\n  \\n Esimees Eiki Nestor: Tänan teid, proua...</td>\n",
       "      <td>PKP-22653</td>\n",
       "      <td>18.0</td>\n",
       "      <td>7</td>\n",
       "      <td>18</td>\n",
       "      <td>20</td>\n",
       "    </tr>\n",
       "    <tr>\n",
       "      <th>1356</th>\n",
       "      <td>\\n Aseesimees Siim Kallas: Tere hommikust, au...</td>\n",
       "      <td>PKP-25071</td>\n",
       "      <td>23.0</td>\n",
       "      <td>8</td>\n",
       "      <td>23</td>\n",
       "      <td>32</td>\n",
       "    </tr>\n",
       "    <tr>\n",
       "      <th>2158</th>\n",
       "      <td>\\n Esimees Eiki Nestor: Austatud Riigikogu, t...</td>\n",
       "      <td>PKP-22899</td>\n",
       "      <td>17.0</td>\n",
       "      <td>7</td>\n",
       "      <td>17</td>\n",
       "      <td>24</td>\n",
       "    </tr>\n",
       "    <tr>\n",
       "      <th>2306</th>\n",
       "      <td>\\n Esimees Eiki Nestor: Austatud Riigikogu! T...</td>\n",
       "      <td>PKP-22577</td>\n",
       "      <td>17.0</td>\n",
       "      <td>7</td>\n",
       "      <td>17</td>\n",
       "      <td>25</td>\n",
       "    </tr>\n",
       "    <tr>\n",
       "      <th>3264</th>\n",
       "      <td>\\n Esimees Eiki Nestor: Austatud Riigikogu, t...</td>\n",
       "      <td>PKP-20541</td>\n",
       "      <td>17.0</td>\n",
       "      <td>7</td>\n",
       "      <td>17</td>\n",
       "      <td>25</td>\n",
       "    </tr>\n",
       "    <tr>\n",
       "      <th>4203</th>\n",
       "      <td>\\n Esimees Henn Põlluaas: Aitäh! Tarmo Kruusi...</td>\n",
       "      <td>PKP-42423</td>\n",
       "      <td>22.0</td>\n",
       "      <td>7</td>\n",
       "      <td>22</td>\n",
       "      <td>29</td>\n",
       "    </tr>\n",
       "    <tr>\n",
       "      <th>4436</th>\n",
       "      <td>\\n Aseesimees Hanno Pevkur: Kohale registreer...</td>\n",
       "      <td>PKP-271726</td>\n",
       "      <td>22.0</td>\n",
       "      <td>8</td>\n",
       "      <td>22</td>\n",
       "      <td>28</td>\n",
       "    </tr>\n",
       "    <tr>\n",
       "      <th>4697</th>\n",
       "      <td>\\n Esimees Eiki Nestor: Austatud Riigikogu, t...</td>\n",
       "      <td>PKP-21424</td>\n",
       "      <td>17.0</td>\n",
       "      <td>7</td>\n",
       "      <td>17</td>\n",
       "      <td>24</td>\n",
       "    </tr>\n",
       "    <tr>\n",
       "      <th>6356</th>\n",
       "      <td>\\n Aseesimees Hanno Pevkur:  Lõpetan selle kü...</td>\n",
       "      <td>PKP-233809</td>\n",
       "      <td>22.0</td>\n",
       "      <td>7</td>\n",
       "      <td>22</td>\n",
       "      <td>27</td>\n",
       "    </tr>\n",
       "    <tr>\n",
       "      <th>6938</th>\n",
       "      <td>\\n Aseesimees Hanno Pevkur: Kohale registreer...</td>\n",
       "      <td>PKP-334964</td>\n",
       "      <td>22.0</td>\n",
       "      <td>8</td>\n",
       "      <td>22</td>\n",
       "      <td>28</td>\n",
       "    </tr>\n",
       "    <tr>\n",
       "      <th>7695</th>\n",
       "      <td>\\n Esimees Henn Põlluaas: Aitäh! Lõpetan sell...</td>\n",
       "      <td>PKP-25143</td>\n",
       "      <td>23.0</td>\n",
       "      <td>8</td>\n",
       "      <td>23</td>\n",
       "      <td>30</td>\n",
       "    </tr>\n",
       "    <tr>\n",
       "      <th>8102</th>\n",
       "      <td>\\n Aseesimees Hanno Pevkur: Aeg!</td>\n",
       "      <td>PKP-132310</td>\n",
       "      <td>15.0</td>\n",
       "      <td>4</td>\n",
       "      <td>15</td>\n",
       "      <td>15</td>\n",
       "    </tr>\n",
       "    <tr>\n",
       "      <th>8648</th>\n",
       "      <td>\\n Esimees Henn Põlluaas: Aitäh! Lõpetan sell...</td>\n",
       "      <td>PKP-38500</td>\n",
       "      <td>23.0</td>\n",
       "      <td>8</td>\n",
       "      <td>23</td>\n",
       "      <td>30</td>\n",
       "    </tr>\n",
       "    <tr>\n",
       "      <th>9503</th>\n",
       "      <td>\\n Aseesimees Siim Kallas: Nõndaks, selle küs...</td>\n",
       "      <td>PKP-25057</td>\n",
       "      <td>23.0</td>\n",
       "      <td>9</td>\n",
       "      <td>23</td>\n",
       "      <td>31</td>\n",
       "    </tr>\n",
       "    <tr>\n",
       "      <th>10439</th>\n",
       "      <td>\\n Aseesimees Keit Pentus: Aitäh! Lõpetan sel...</td>\n",
       "      <td>PKP-20197</td>\n",
       "      <td>23.0</td>\n",
       "      <td>8</td>\n",
       "      <td>23</td>\n",
       "      <td>29</td>\n",
       "    </tr>\n",
       "    <tr>\n",
       "      <th>10464</th>\n",
       "      <td>\\n Aseesimees Keit Pentus: Aitäh! Lõpetan sel...</td>\n",
       "      <td>PKP-25080</td>\n",
       "      <td>22.0</td>\n",
       "      <td>8</td>\n",
       "      <td>22</td>\n",
       "      <td>28</td>\n",
       "    </tr>\n",
       "    <tr>\n",
       "      <th>10470</th>\n",
       "      <td>\\n Esimees Jüri Ratas: Palun Riigikogu kõneto...</td>\n",
       "      <td>PKP-202257</td>\n",
       "      <td>19.0</td>\n",
       "      <td>8</td>\n",
       "      <td>19</td>\n",
       "      <td>27</td>\n",
       "    </tr>\n",
       "    <tr>\n",
       "      <th>10500</th>\n",
       "      <td>\\n Aseesimees Hanno Pevkur:  Nüüd oleme küll ...</td>\n",
       "      <td>PKP-202254</td>\n",
       "      <td>23.0</td>\n",
       "      <td>9</td>\n",
       "      <td>23</td>\n",
       "      <td>36</td>\n",
       "    </tr>\n",
       "    <tr>\n",
       "      <th>11000</th>\n",
       "      <td></td>\n",
       "      <td>PKP-26449</td>\n",
       "      <td>0.0</td>\n",
       "      <td>0</td>\n",
       "      <td>2</td>\n",
       "      <td>0</td>\n",
       "    </tr>\n",
       "    <tr>\n",
       "      <th>12099</th>\n",
       "      <td>\\n  \\n Esimees Eiki Nestor: Küsimused komisjo...</td>\n",
       "      <td>PKP-21470</td>\n",
       "      <td>25.0</td>\n",
       "      <td>9</td>\n",
       "      <td>25</td>\n",
       "      <td>29</td>\n",
       "    </tr>\n",
       "    <tr>\n",
       "      <th>13618</th>\n",
       "      <td>\\n  \\n Esimees Ene Ergma: Tänan teid, härra p...</td>\n",
       "      <td>PKP-22286</td>\n",
       "      <td>28.0</td>\n",
       "      <td>9</td>\n",
       "      <td>28</td>\n",
       "      <td>30</td>\n",
       "    </tr>\n",
       "    <tr>\n",
       "      <th>14404</th>\n",
       "      <td>\\n Aseesimees Hanno Pevkur: Kohale registreer...</td>\n",
       "      <td>PKP-278337</td>\n",
       "      <td>22.0</td>\n",
       "      <td>8</td>\n",
       "      <td>22</td>\n",
       "      <td>28</td>\n",
       "    </tr>\n",
       "    <tr>\n",
       "      <th>14469</th>\n",
       "      <td>\\n Esimees Eiki Nestor: Lõpetan selle küsimus...</td>\n",
       "      <td>PKP-19909</td>\n",
       "      <td>19.0</td>\n",
       "      <td>7</td>\n",
       "      <td>19</td>\n",
       "      <td>23</td>\n",
       "    </tr>\n",
       "    <tr>\n",
       "      <th>16465</th>\n",
       "      <td>\\n Esimees Jüri Ratas: Jaa, jaa.</td>\n",
       "      <td>PKP-221263</td>\n",
       "      <td>13.0</td>\n",
       "      <td>5</td>\n",
       "      <td>13</td>\n",
       "      <td>16</td>\n",
       "    </tr>\n",
       "    <tr>\n",
       "      <th>17410</th>\n",
       "      <td>\\n Esimees Eiki Nestor: Aitäh ministritele! I...</td>\n",
       "      <td>PKP-23182</td>\n",
       "      <td>21.0</td>\n",
       "      <td>8</td>\n",
       "      <td>21</td>\n",
       "      <td>26</td>\n",
       "    </tr>\n",
       "    <tr>\n",
       "      <th>17567</th>\n",
       "      <td>\\n  \\n Aseesimees Laine Randjärv: Suur tänu! ...</td>\n",
       "      <td>PKP-19117</td>\n",
       "      <td>20.0</td>\n",
       "      <td>6</td>\n",
       "      <td>20</td>\n",
       "      <td>23</td>\n",
       "    </tr>\n",
       "    <tr>\n",
       "      <th>17570</th>\n",
       "      <td>\\n  \\n Esimees Eiki Nestor: Tänan teid, härra...</td>\n",
       "      <td>PKP-19118</td>\n",
       "      <td>28.0</td>\n",
       "      <td>9</td>\n",
       "      <td>28</td>\n",
       "      <td>29</td>\n",
       "    </tr>\n",
       "    <tr>\n",
       "      <th>18103</th>\n",
       "      <td>\\n Aseesimees Martin Helme: Kohale registreer...</td>\n",
       "      <td>PKP-211676</td>\n",
       "      <td>20.0</td>\n",
       "      <td>8</td>\n",
       "      <td>20</td>\n",
       "      <td>26</td>\n",
       "    </tr>\n",
       "    <tr>\n",
       "      <th>18662</th>\n",
       "      <td>\\n Aseesimees Martin Helme: Kohalolijaks regi...</td>\n",
       "      <td>PKP-192193</td>\n",
       "      <td>21.0</td>\n",
       "      <td>7</td>\n",
       "      <td>21</td>\n",
       "      <td>25</td>\n",
       "    </tr>\n",
       "    <tr>\n",
       "      <th>18924</th>\n",
       "      <td>\\n Aseesimees Hanno Pevkur: Kohalolijaks regi...</td>\n",
       "      <td>PKP-202215</td>\n",
       "      <td>25.0</td>\n",
       "      <td>9</td>\n",
       "      <td>25</td>\n",
       "      <td>33</td>\n",
       "    </tr>\n",
       "    <tr>\n",
       "      <th>19115</th>\n",
       "      <td>\\n Aseesimees Hanno Pevkur: Kohale registreer...</td>\n",
       "      <td>PKP-272341</td>\n",
       "      <td>22.0</td>\n",
       "      <td>8</td>\n",
       "      <td>22</td>\n",
       "      <td>28</td>\n",
       "    </tr>\n",
       "    <tr>\n",
       "      <th>19379</th>\n",
       "      <td></td>\n",
       "      <td>PKP-21026</td>\n",
       "      <td>0.0</td>\n",
       "      <td>0</td>\n",
       "      <td>2</td>\n",
       "      <td>0</td>\n",
       "    </tr>\n",
       "    <tr>\n",
       "      <th>19595</th>\n",
       "      <td>\\n Esimees Ene Ergma: Rohkem kõnesoove ei ole...</td>\n",
       "      <td>PKP-21082</td>\n",
       "      <td>27.0</td>\n",
       "      <td>9</td>\n",
       "      <td>27</td>\n",
       "      <td>30</td>\n",
       "    </tr>\n",
       "    <tr>\n",
       "      <th>19906</th>\n",
       "      <td></td>\n",
       "      <td>PKP-257647</td>\n",
       "      <td>0.0</td>\n",
       "      <td>0</td>\n",
       "      <td>2</td>\n",
       "      <td>0</td>\n",
       "    </tr>\n",
       "    <tr>\n",
       "      <th>19909</th>\n",
       "      <td>\\n  \\n Esimees Jüri Ratas:  Tänan teid, proua...</td>\n",
       "      <td>PKP-257651</td>\n",
       "      <td>17.0</td>\n",
       "      <td>7</td>\n",
       "      <td>17</td>\n",
       "      <td>22</td>\n",
       "    </tr>\n",
       "    <tr>\n",
       "      <th>20400</th>\n",
       "      <td>\\n Esimees Eiki Nestor: Lõpetan selle küsimus...</td>\n",
       "      <td>PKP-23805</td>\n",
       "      <td>19.0</td>\n",
       "      <td>7</td>\n",
       "      <td>19</td>\n",
       "      <td>23</td>\n",
       "    </tr>\n",
       "    <tr>\n",
       "      <th>22113</th>\n",
       "      <td>\\n Esimees Eiki Nestor: Austatud Riigikogu, t...</td>\n",
       "      <td>PKP-24036</td>\n",
       "      <td>21.0</td>\n",
       "      <td>9</td>\n",
       "      <td>21</td>\n",
       "      <td>33</td>\n",
       "    </tr>\n",
       "    <tr>\n",
       "      <th>23236</th>\n",
       "      <td>\\n Esimees Eiki Nestor: Austatud Riigikogu, t...</td>\n",
       "      <td>PKP-21105</td>\n",
       "      <td>17.0</td>\n",
       "      <td>7</td>\n",
       "      <td>17</td>\n",
       "      <td>25</td>\n",
       "    </tr>\n",
       "    <tr>\n",
       "      <th>23324</th>\n",
       "      <td>\\n Esimees Eiki Nestor: Lõpetan selle küsimus...</td>\n",
       "      <td>PKP-20972</td>\n",
       "      <td>19.0</td>\n",
       "      <td>7</td>\n",
       "      <td>19</td>\n",
       "      <td>23</td>\n",
       "    </tr>\n",
       "    <tr>\n",
       "      <th>23715</th>\n",
       "      <td>\\n Peaminister Andrus Ansip: Aitäh! Kahju.</td>\n",
       "      <td>PKP-27227</td>\n",
       "      <td>14.0</td>\n",
       "      <td>5</td>\n",
       "      <td>14</td>\n",
       "      <td>16</td>\n",
       "    </tr>\n",
       "    <tr>\n",
       "      <th>23782</th>\n",
       "      <td>\\n Aseesimees Laine Randjärv: Aitäh! Me oleme...</td>\n",
       "      <td>PKP-18251</td>\n",
       "      <td>22.0</td>\n",
       "      <td>9</td>\n",
       "      <td>22</td>\n",
       "      <td>31</td>\n",
       "    </tr>\n",
       "    <tr>\n",
       "      <th>24219</th>\n",
       "      <td>\\n Esimees Henn Põlluaas: Aitäh! Lõpetan sell...</td>\n",
       "      <td>PKP-101240</td>\n",
       "      <td>23.0</td>\n",
       "      <td>8</td>\n",
       "      <td>23</td>\n",
       "      <td>30</td>\n",
       "    </tr>\n",
       "    <tr>\n",
       "      <th>24638</th>\n",
       "      <td>\\n Esimees Henn Põlluaas: Aitäh! Lõpetan sell...</td>\n",
       "      <td>PKP-25735</td>\n",
       "      <td>23.0</td>\n",
       "      <td>8</td>\n",
       "      <td>23</td>\n",
       "      <td>30</td>\n",
       "    </tr>\n",
       "    <tr>\n",
       "      <th>24895</th>\n",
       "      <td>\\n Aseesimees Hanno Pevkur: Kohale registreer...</td>\n",
       "      <td>PKP-291777</td>\n",
       "      <td>22.0</td>\n",
       "      <td>8</td>\n",
       "      <td>22</td>\n",
       "      <td>28</td>\n",
       "    </tr>\n",
       "    <tr>\n",
       "      <th>27264</th>\n",
       "      <td>\\n Aseesimees Martin Helme: Kirja pani ennast...</td>\n",
       "      <td>PKP-642221</td>\n",
       "      <td>18.0</td>\n",
       "      <td>9</td>\n",
       "      <td>18</td>\n",
       "      <td>28</td>\n",
       "    </tr>\n",
       "    <tr>\n",
       "      <th>27423</th>\n",
       "      <td>\\n Esimees Jüri Ratas: Hea ettekandja, teie a...</td>\n",
       "      <td>PKP-513367</td>\n",
       "      <td>19.0</td>\n",
       "      <td>9</td>\n",
       "      <td>19</td>\n",
       "      <td>27</td>\n",
       "    </tr>\n",
       "    <tr>\n",
       "      <th>27508</th>\n",
       "      <td>\\n Aseesimees Hanno Pevkur: Aeg!</td>\n",
       "      <td>PKP-637769</td>\n",
       "      <td>15.0</td>\n",
       "      <td>4</td>\n",
       "      <td>15</td>\n",
       "      <td>15</td>\n",
       "    </tr>\n",
       "    <tr>\n",
       "      <th>27682</th>\n",
       "      <td>\\n Esimees Jüri Ratas: Sest teil oli protsedu...</td>\n",
       "      <td>PKP-642593</td>\n",
       "      <td>17.0</td>\n",
       "      <td>8</td>\n",
       "      <td>17</td>\n",
       "      <td>22</td>\n",
       "    </tr>\n",
       "    <tr>\n",
       "      <th>28113</th>\n",
       "      <td>\\n  \\n Aseesimees Helir-Valdor Seeder:  Aitäh!</td>\n",
       "      <td>PKP-538910</td>\n",
       "      <td>16.0</td>\n",
       "      <td>4</td>\n",
       "      <td>16</td>\n",
       "      <td>19</td>\n",
       "    </tr>\n",
       "    <tr>\n",
       "      <th>28832</th>\n",
       "      <td>\\n  \\n Esimees Lauri Hussar:  Tänan teid, här...</td>\n",
       "      <td>PKP-635907</td>\n",
       "      <td>17.0</td>\n",
       "      <td>7</td>\n",
       "      <td>17</td>\n",
       "      <td>21</td>\n",
       "    </tr>\n",
       "    <tr>\n",
       "      <th>29738</th>\n",
       "      <td>\\n Esimees Jüri Ratas:  Aitäh! Lõpetan selle ...</td>\n",
       "      <td>PKP-408802</td>\n",
       "      <td>20.0</td>\n",
       "      <td>8</td>\n",
       "      <td>20</td>\n",
       "      <td>29</td>\n",
       "    </tr>\n",
       "    <tr>\n",
       "      <th>29834</th>\n",
       "      <td>\\n Esimees Jüri Ratas:  Aitäh! Lõpetan selle ...</td>\n",
       "      <td>PKP-637074</td>\n",
       "      <td>20.0</td>\n",
       "      <td>8</td>\n",
       "      <td>20</td>\n",
       "      <td>29</td>\n",
       "    </tr>\n",
       "    <tr>\n",
       "      <th>30392</th>\n",
       "      <td>\\n Aseesimees Hanno Pevkur: Palun vaikust saa...</td>\n",
       "      <td>PKP-388141</td>\n",
       "      <td>19.0</td>\n",
       "      <td>6</td>\n",
       "      <td>19</td>\n",
       "      <td>20</td>\n",
       "    </tr>\n",
       "    <tr>\n",
       "      <th>30516</th>\n",
       "      <td>\\n Esimees Jüri Ratas:  Aitäh! Sellega lõpeta...</td>\n",
       "      <td>PKP-627323</td>\n",
       "      <td>20.0</td>\n",
       "      <td>8</td>\n",
       "      <td>20</td>\n",
       "      <td>30</td>\n",
       "    </tr>\n",
       "    <tr>\n",
       "      <th>30779</th>\n",
       "      <td>\\n Aseesimees Toomas Kivimägi: Aeg! Aeg, koll...</td>\n",
       "      <td>PKP-647242</td>\n",
       "      <td>20.0</td>\n",
       "      <td>6</td>\n",
       "      <td>20</td>\n",
       "      <td>24</td>\n",
       "    </tr>\n",
       "    <tr>\n",
       "      <th>31171</th>\n",
       "      <td>\\n Aseesimees Hanno Pevkur: Lõpetan selle küs...</td>\n",
       "      <td>PKP-401582</td>\n",
       "      <td>22.0</td>\n",
       "      <td>7</td>\n",
       "      <td>22</td>\n",
       "      <td>26</td>\n",
       "    </tr>\n",
       "    <tr>\n",
       "      <th>32695</th>\n",
       "      <td>\\n Esimees Jüri Ratas: Palun Riigikogu kõneto...</td>\n",
       "      <td>PKP-642360</td>\n",
       "      <td>19.0</td>\n",
       "      <td>8</td>\n",
       "      <td>19</td>\n",
       "      <td>28</td>\n",
       "    </tr>\n",
       "  </tbody>\n",
       "</table>\n",
       "</div>"
      ],
      "text/plain": [
       "                                                    text    index_pk  ntoks   \n",
       "692                                                  NaN   PKP-22649    3.0  \\\n",
       "696     \\n  \\n Esimees Eiki Nestor: Tänan teid, proua...   PKP-22653   18.0   \n",
       "1356    \\n Aseesimees Siim Kallas: Tere hommikust, au...   PKP-25071   23.0   \n",
       "2158    \\n Esimees Eiki Nestor: Austatud Riigikogu, t...   PKP-22899   17.0   \n",
       "2306    \\n Esimees Eiki Nestor: Austatud Riigikogu! T...   PKP-22577   17.0   \n",
       "3264    \\n Esimees Eiki Nestor: Austatud Riigikogu, t...   PKP-20541   17.0   \n",
       "4203    \\n Esimees Henn Põlluaas: Aitäh! Tarmo Kruusi...   PKP-42423   22.0   \n",
       "4436    \\n Aseesimees Hanno Pevkur: Kohale registreer...  PKP-271726   22.0   \n",
       "4697    \\n Esimees Eiki Nestor: Austatud Riigikogu, t...   PKP-21424   17.0   \n",
       "6356    \\n Aseesimees Hanno Pevkur:  Lõpetan selle kü...  PKP-233809   22.0   \n",
       "6938    \\n Aseesimees Hanno Pevkur: Kohale registreer...  PKP-334964   22.0   \n",
       "7695    \\n Esimees Henn Põlluaas: Aitäh! Lõpetan sell...   PKP-25143   23.0   \n",
       "8102                    \\n Aseesimees Hanno Pevkur: Aeg!  PKP-132310   15.0   \n",
       "8648    \\n Esimees Henn Põlluaas: Aitäh! Lõpetan sell...   PKP-38500   23.0   \n",
       "9503    \\n Aseesimees Siim Kallas: Nõndaks, selle küs...   PKP-25057   23.0   \n",
       "10439   \\n Aseesimees Keit Pentus: Aitäh! Lõpetan sel...   PKP-20197   23.0   \n",
       "10464   \\n Aseesimees Keit Pentus: Aitäh! Lõpetan sel...   PKP-25080   22.0   \n",
       "10470   \\n Esimees Jüri Ratas: Palun Riigikogu kõneto...  PKP-202257   19.0   \n",
       "10500   \\n Aseesimees Hanno Pevkur:  Nüüd oleme küll ...  PKP-202254   23.0   \n",
       "11000                                                      PKP-26449    0.0   \n",
       "12099   \\n  \\n Esimees Eiki Nestor: Küsimused komisjo...   PKP-21470   25.0   \n",
       "13618   \\n  \\n Esimees Ene Ergma: Tänan teid, härra p...   PKP-22286   28.0   \n",
       "14404   \\n Aseesimees Hanno Pevkur: Kohale registreer...  PKP-278337   22.0   \n",
       "14469   \\n Esimees Eiki Nestor: Lõpetan selle küsimus...   PKP-19909   19.0   \n",
       "16465                   \\n Esimees Jüri Ratas: Jaa, jaa.  PKP-221263   13.0   \n",
       "17410   \\n Esimees Eiki Nestor: Aitäh ministritele! I...   PKP-23182   21.0   \n",
       "17567   \\n  \\n Aseesimees Laine Randjärv: Suur tänu! ...   PKP-19117   20.0   \n",
       "17570   \\n  \\n Esimees Eiki Nestor: Tänan teid, härra...   PKP-19118   28.0   \n",
       "18103   \\n Aseesimees Martin Helme: Kohale registreer...  PKP-211676   20.0   \n",
       "18662   \\n Aseesimees Martin Helme: Kohalolijaks regi...  PKP-192193   21.0   \n",
       "18924   \\n Aseesimees Hanno Pevkur: Kohalolijaks regi...  PKP-202215   25.0   \n",
       "19115   \\n Aseesimees Hanno Pevkur: Kohale registreer...  PKP-272341   22.0   \n",
       "19379                                                      PKP-21026    0.0   \n",
       "19595   \\n Esimees Ene Ergma: Rohkem kõnesoove ei ole...   PKP-21082   27.0   \n",
       "19906                                                     PKP-257647    0.0   \n",
       "19909   \\n  \\n Esimees Jüri Ratas:  Tänan teid, proua...  PKP-257651   17.0   \n",
       "20400   \\n Esimees Eiki Nestor: Lõpetan selle küsimus...   PKP-23805   19.0   \n",
       "22113   \\n Esimees Eiki Nestor: Austatud Riigikogu, t...   PKP-24036   21.0   \n",
       "23236   \\n Esimees Eiki Nestor: Austatud Riigikogu, t...   PKP-21105   17.0   \n",
       "23324   \\n Esimees Eiki Nestor: Lõpetan selle küsimus...   PKP-20972   19.0   \n",
       "23715         \\n Peaminister Andrus Ansip: Aitäh! Kahju.   PKP-27227   14.0   \n",
       "23782   \\n Aseesimees Laine Randjärv: Aitäh! Me oleme...   PKP-18251   22.0   \n",
       "24219   \\n Esimees Henn Põlluaas: Aitäh! Lõpetan sell...  PKP-101240   23.0   \n",
       "24638   \\n Esimees Henn Põlluaas: Aitäh! Lõpetan sell...   PKP-25735   23.0   \n",
       "24895   \\n Aseesimees Hanno Pevkur: Kohale registreer...  PKP-291777   22.0   \n",
       "27264   \\n Aseesimees Martin Helme: Kirja pani ennast...  PKP-642221   18.0   \n",
       "27423   \\n Esimees Jüri Ratas: Hea ettekandja, teie a...  PKP-513367   19.0   \n",
       "27508                   \\n Aseesimees Hanno Pevkur: Aeg!  PKP-637769   15.0   \n",
       "27682   \\n Esimees Jüri Ratas: Sest teil oli protsedu...  PKP-642593   17.0   \n",
       "28113     \\n  \\n Aseesimees Helir-Valdor Seeder:  Aitäh!  PKP-538910   16.0   \n",
       "28832   \\n  \\n Esimees Lauri Hussar:  Tänan teid, här...  PKP-635907   17.0   \n",
       "29738   \\n Esimees Jüri Ratas:  Aitäh! Lõpetan selle ...  PKP-408802   20.0   \n",
       "29834   \\n Esimees Jüri Ratas:  Aitäh! Lõpetan selle ...  PKP-637074   20.0   \n",
       "30392   \\n Aseesimees Hanno Pevkur: Palun vaikust saa...  PKP-388141   19.0   \n",
       "30516   \\n Esimees Jüri Ratas:  Aitäh! Sellega lõpeta...  PKP-627323   20.0   \n",
       "30779   \\n Aseesimees Toomas Kivimägi: Aeg! Aeg, koll...  PKP-647242   20.0   \n",
       "31171   \\n Aseesimees Hanno Pevkur: Lõpetan selle küs...  PKP-401582   22.0   \n",
       "32695   \\n Esimees Jüri Ratas: Palun Riigikogu kõneto...  PKP-642360   19.0   \n",
       "\n",
       "       ntoks_space  ntoks_mbart  ntoks_gpt35  \n",
       "692              1            3            1  \n",
       "696              7           18           20  \n",
       "1356             8           23           32  \n",
       "2158             7           17           24  \n",
       "2306             7           17           25  \n",
       "3264             7           17           25  \n",
       "4203             7           22           29  \n",
       "4436             8           22           28  \n",
       "4697             7           17           24  \n",
       "6356             7           22           27  \n",
       "6938             8           22           28  \n",
       "7695             8           23           30  \n",
       "8102             4           15           15  \n",
       "8648             8           23           30  \n",
       "9503             9           23           31  \n",
       "10439            8           23           29  \n",
       "10464            8           22           28  \n",
       "10470            8           19           27  \n",
       "10500            9           23           36  \n",
       "11000            0            2            0  \n",
       "12099            9           25           29  \n",
       "13618            9           28           30  \n",
       "14404            8           22           28  \n",
       "14469            7           19           23  \n",
       "16465            5           13           16  \n",
       "17410            8           21           26  \n",
       "17567            6           20           23  \n",
       "17570            9           28           29  \n",
       "18103            8           20           26  \n",
       "18662            7           21           25  \n",
       "18924            9           25           33  \n",
       "19115            8           22           28  \n",
       "19379            0            2            0  \n",
       "19595            9           27           30  \n",
       "19906            0            2            0  \n",
       "19909            7           17           22  \n",
       "20400            7           19           23  \n",
       "22113            9           21           33  \n",
       "23236            7           17           25  \n",
       "23324            7           19           23  \n",
       "23715            5           14           16  \n",
       "23782            9           22           31  \n",
       "24219            8           23           30  \n",
       "24638            8           23           30  \n",
       "24895            8           22           28  \n",
       "27264            9           18           28  \n",
       "27423            9           19           27  \n",
       "27508            4           15           15  \n",
       "27682            8           17           22  \n",
       "28113            4           16           19  \n",
       "28832            7           17           21  \n",
       "29738            8           20           29  \n",
       "29834            8           20           29  \n",
       "30392            6           19           20  \n",
       "30516            8           20           30  \n",
       "30779            6           20           24  \n",
       "31171            7           22           26  \n",
       "32695            8           19           28  "
      ]
     },
     "execution_count": 123,
     "metadata": {},
     "output_type": "execute_result"
    }
   ],
   "source": [
    "df_chunks[df_chunks.ntoks_space<10]"
   ]
  },
  {
   "cell_type": "code",
   "execution_count": 124,
   "id": "0282b2e8",
   "metadata": {},
   "outputs": [
    {
     "data": {
      "text/plain": [
       "7421"
      ]
     },
     "execution_count": 124,
     "metadata": {},
     "output_type": "execute_result"
    }
   ],
   "source": [
    "df_chunks[df_chunks.ntoks>1024].index_pk.nunique()"
   ]
  },
  {
   "cell_type": "code",
   "execution_count": 125,
   "id": "7a6e55ca",
   "metadata": {},
   "outputs": [
    {
     "data": {
      "text/plain": [
       "11168"
      ]
     },
     "execution_count": 125,
     "metadata": {},
     "output_type": "execute_result"
    }
   ],
   "source": [
    "df_chunks.index_pk.nunique()"
   ]
  },
  {
   "cell_type": "code",
   "execution_count": 126,
   "id": "79228f8a",
   "metadata": {},
   "outputs": [
    {
     "data": {
      "text/plain": [
       "0.6644878223495702"
      ]
     },
     "execution_count": 126,
     "metadata": {},
     "output_type": "execute_result"
    }
   ],
   "source": [
    "df_chunks[df_chunks.ntoks>1024].index_pk.nunique()/df_chunks.index_pk.nunique()"
   ]
  },
  {
   "cell_type": "markdown",
   "id": "e5c128a4",
   "metadata": {},
   "source": [
    "## Review what sequences could be kept for summarization"
   ]
  },
  {
   "cell_type": "code",
   "execution_count": 127,
   "id": "8ac8ce3c",
   "metadata": {},
   "outputs": [
    {
     "data": {
      "text/plain": [
       "<Axes: >"
      ]
     },
     "execution_count": 127,
     "metadata": {},
     "output_type": "execute_result"
    },
    {
     "data": {
      "image/png": "[encoded data removed]",
      "text/plain": [
       "<Figure size 640x480 with 1 Axes>"
      ]
     },
     "metadata": {},
     "output_type": "display_data"
    }
   ],
   "source": [
    "df_chunks['ntoks_space'].hist(bins=20)"
   ]
  },
  {
   "cell_type": "code",
   "execution_count": 128,
   "id": "22017a57",
   "metadata": {},
   "outputs": [
    {
     "data": {
      "text/plain": [
       "3064      \\n Aseesimees Keit Pentus: Suur tänu, austatu...\n",
       "11074     \\n Aseesimees Jüri Ratas: Esimene päevakorrap...\n",
       "13161     \\n Aseesimees Helir-Valdor Seeder: Head kolle...\n",
       "13606     \\n Esimees Ene Ergma: Järgmine päevakorrapunk...\n",
       "18877     \\n Esimees Ene Ergma: Järgmine päevakorrapunk...\n",
       "19395     \\n Aseesimees Hanno Pevkur: Teine päevakorrap...\n",
       "22026     \\n Esimees Henn Põlluaas: Tänane ainus päevak...\n",
       "22339     \\n Esimees Eiki Nestor: Vabariigi Valitsuse a...\n",
       "24068     \\n Esimees Ene Ergma: Algab Vabariigi Valitsu...\n",
       "25855     \\n Aseesimees Helir-Valdor Seeder: Tere hommi...\n",
       "26618     \\n Aseesimees Enn Eesmaa: Tere hommikust, aus...\n",
       "26907     \\n Aseesimees Jüri Ratas: Tänan! Rohkem kõnes...\n",
       "30903     \\n Aseesimees Helir-Valdor Seeder:  Ja olemeg...\n",
       "Name: text, dtype: object"
      ]
     },
     "execution_count": 128,
     "metadata": {},
     "output_type": "execute_result"
    }
   ],
   "source": [
    "df_chunks[df_chunks.ntoks_space==100].text"
   ]
  },
  {
   "cell_type": "code",
   "execution_count": 129,
   "id": "7ba50084",
   "metadata": {},
   "outputs": [
    {
     "data": {
      "text/plain": [
       "(32886, 6)"
      ]
     },
     "execution_count": 129,
     "metadata": {},
     "output_type": "execute_result"
    }
   ],
   "source": [
    "df_chunks.shape"
   ]
  },
  {
   "cell_type": "code",
   "execution_count": 130,
   "id": "f32f82c9",
   "metadata": {},
   "outputs": [
    {
     "data": {
      "text/plain": [
       "(31030, 6)"
      ]
     },
     "execution_count": 130,
     "metadata": {},
     "output_type": "execute_result"
    }
   ],
   "source": [
    "df_chunks[df_chunks.ntoks_space>100].shape"
   ]
  },
  {
   "cell_type": "code",
   "execution_count": 131,
   "id": "71492c1c",
   "metadata": {},
   "outputs": [
    {
     "data": {
      "text/plain": [
       "<Axes: >"
      ]
     },
     "execution_count": 131,
     "metadata": {},
     "output_type": "execute_result"
    },
    {
     "data": {
      "image/png": "[encoded data removed]",
      "text/plain": [
       "<Figure size 640x480 with 1 Axes>"
      ]
     },
     "metadata": {},
     "output_type": "display_data"
    }
   ],
   "source": [
    "df_chunks['ntoks_mbart'].hist(bins=20)"
   ]
  },
  {
   "cell_type": "code",
   "execution_count": 132,
   "id": "18298e6c",
   "metadata": {},
   "outputs": [
    {
     "data": {
      "text/plain": [
       "(138, 6)"
      ]
     },
     "execution_count": 132,
     "metadata": {},
     "output_type": "execute_result"
    }
   ],
   "source": [
    "df_chunks[df_chunks['ntoks_mbart']>2000].shape"
   ]
  },
  {
   "cell_type": "markdown",
   "id": "35b4063e",
   "metadata": {},
   "source": [
    "## save "
   ]
  },
  {
   "cell_type": "code",
   "execution_count": 133,
   "id": "c4fa9ef1",
   "metadata": {},
   "outputs": [],
   "source": [
    "df_chunks.to_excel('data/interim/summarization/for_summarization_mbart_2048_chunks.xlsx', index=False)"
   ]
  },
  {
   "cell_type": "code",
   "execution_count": 134,
   "id": "f1a4204f",
   "metadata": {},
   "outputs": [
    {
     "data": {
      "text/plain": [
       "' \\n  \\n Aseesimees Siim Kallas: Auväärt kolleegid, auväärt Riigikogu, tere hommikust! Kui te nüüd korraks jälle keskendute meie suurepärase istungi rakendamisele ja räägite omavahelisi jutte edasi pärast, siis on mul suur rõõm avada Riigikogu täiskogu II istungjärgu 9. töönädala teisipäevane istung. Kõigepealt on eelnõude ja arupärimiste üleandmine, kui selleks on soovi. Eelnõude ja arupärimiste üleandmise soovi ma ei näe. Siis teeme palun kohaloleku kontrolli.\\xa0 Kohaloleku kontroll Kohal on 75 Riigikogu liiget, puudub 26. Sellest piisab täielikult, et asuda meie päevakorra arutelu juurde.'"
      ]
     },
     "execution_count": 134,
     "metadata": {},
     "output_type": "execute_result"
    }
   ],
   "source": [
    "df_chunks.text[0]"
   ]
  },
  {
   "cell_type": "code",
   "execution_count": 135,
   "id": "dc942cf5",
   "metadata": {},
   "outputs": [
    {
     "data": {
      "text/plain": [
       "'Kersti Sarapuu: Lugupeetud istungi juhataja! Head kolleegid ja külalised! Tänane arutelu siin Riigikogu saalis toimub suuresti tänu peaminister Jüri Ratase üleskutsele arutada laiemalt meie maksusüsteemi ja maksukoormust. Keskerakonna fraktsioon toetab seda mõtet ning just seetõttu oleme toonud maksude teema täna oluliselt tähtsa riikliku küsimusena Riigikogusse. Praegune ajahetk sobib mitmel põhjusel maksuaruteluks. Esiteks on järgmise aasta riigieelarve eelnõu jõudnud sellisesse staadiumisse, et ka kõige skeptilisem opositsiooniliige saab aru, et selle arutelu eesmärk ei ole luua fooni viimase hetke maksutõusudeks, vaid valitsus peab kinni oma lubadusest, et meil on maksurahu. Kuigi tegemist on näiliselt lihtsa lubadusega, ei olegi see varem Eestis olnud nii elementaarne. Teiseks on järgmised valimised piisavalt kaugel ega takista arutelu. Me nägime väga hästi, mis juhtus Kaja Kallasega, kui ta enne valimisi käis välja sotsiaalmaksu kaotamise idee. Idee oli, kuid Reformierakonna valimisplatvormis me seda ei näinud ja rohkem sellest mõttest ka midagi ei kuulnud. Kaja Kallas põhjendas seda sellega, et neil on erakonnas ka kolm endist rahandusministrit. (S. Kallas täpsustab: \"Viis. \") Viis isegi. Mina ei ole kindlasti seda meelt, et sellised ideed tuleks kohe laualt maha lükata. Isegi kui sa oled endine rahandusminister, ei tohiks sul olla õigust oma erakonna esimehe ideed prügikasti saata. Võimalik, et siinkohal\\xa0on õigus kogenud poliitikul Siim Kallasel, kes ütles, et valimistele ei saa minna teadusliku traktaadiga, vaid kampaanias pannakse esiplaanile üks dominant. Küll aga ei saa ma nõustuda tema samas intervjuus öeldud järgmise lausega, et ainult siis, kui oled valitsuses positsioonil, saad välja tulla terve maksumuudatuste paketiga. Ma julgustan siiski opositsiooni tulema välja oma paketiga. Täiesti lubatud on ka öelda, et praegune süsteem on ideaalne ja midagi pole vaja muuta, aga sellisel juhul ei tasu küsida, miks ühe või teise valdkonna rahastus on just selline, mitte suurem. Kolmandaks peame aru saama, et maailm muutub meie ümber iga päev ja ka eesmärgid muutuvad. Toomas Hendrik Ilves ütles õigesti, et see, mis on toonud meid siia, enam edasi ei vii. Nii on öelnud ka Raul Eamets. Eesti maksukoormus on üks Euroopa Liidu madalamaid. 2018. aastal oli maksukoormus Eestis 33%, seejuures Euroopa Liidu keskmine on 40% SKT-st. Meist väiksem on maksukoormus Lätis, Leedus, Bulgaarias ja Rumeenias. Eesti maksukoormus püsib järgmisel kahel aastal 33,2% juures ja langeb 2022. aastaks 32,7%-le. Hetkel on meil palju abi Euroopa Liidu fondidest, mille abil oleme erinevaid investeeringuid rahastanud, kuid elu lõpuni ei saa me sellele lootma jääda. Samal ajal on Eesti valitsussektori kulud osakaaluna SKT-st palju väiksemad kui Euroopa Liidus keskmiselt. 2019. aastal olid valitsussektori kulud Eestis 39% ja Euroopa Liidus keskmiselt 46%. Peamine erinevus tuleb meie madalatest sotsiaal- ja tervishoiukuludest. Väikeriigina saame tõepoolest korraldada asju efektiivsemalt, kuid kusagil tuleb siiski piir ette. Ka 2020. aasta riigieelarve teine lugemine näitas, et meil on palju sektoreid, mis vajaksid lisavahendeid. Kui me räägime opositsiooni muudatusettepanekutest, siis me ei oleks vastu nende sisule, kui neil oleks konkreetne katteallikas, aga praegu neid ei ole. Riigieelarve ei ole midagi muud kui ühe pere eelarve, selleks pereks on Eestimaa inimesed. Nii nagu igal pere eelarvel, on ka riigieelarvel tulud ja kulud ning tasakaal. Võrrand on paigas. Kui tahame rohkem teenuseid, siis tuleb ka rohkem panustada. Teisi võimalusi lihtsalt ei ole. Seejuures on riigieelarves suur fikseeritud kulude osakaal –\\xa0üle 80%. Kui taasiseseisvunud Eestis alustati maksureformi, siis oli ühtlase tulumaksu üks eesmärkidest tagada maksude tõhus kogumine, sest iseseisvunud riigil puudus kogenud ametkond maksude kogumiseks. Selle puudumine oleks toonud kaasa maksude alalaekumise ning põrandaaluse majanduse osakaalu kasvu. Loodeti, et madalamad maksud distsiplineerivad inimesi paremini maksusid tasuma ning süsteemi lihtsus võimaldab ka teostada tõhusamat kontrolli. Lihtsam süsteem tähendas vähem erandeid ja maksuauke, mistõttu oli maksuametil võimalik kontsentreerida oma jõude. Seega oli see taasiseseisvunud Eesti teadlik valik, mida keegi ei sea kahtluse alla, kuid peame endalt küsima, kas see viib meid edasi lähemale Põhjamaadele. Ma usun, et Eesti ambitsioonid aastatega muutunud, kuid poliitikas on siiani vaadatud maksuküsimusi üsna ühekülgselt. Kuigi ühiskondlik jõukus on kasvanud kiiresti, on see jagunenud inimeste ja eri ühiskonnagruppide vahel väga erinevalt. Peaminister on rõhutanud, et Eesti uus siht peab olema ühiskondlik tasakaal, mis toob kaasa kestliku majanduskasvu. Londoni  Fiskaaluuringute Instituudi ökonomist Stuart Adam on juhtinud tähelepanu, et ühtlane tulumaksusüsteem seab piirangud sellele, kuidas valitsus saab tulusid ümber jaotada. Astmelisele tulumaksule heidetakse sageli ette keerukust, kuid tegelikult ei tulene Lääne-Euroopa ja USA tulumaksusüsteemi keerukus mitte mitmest määrast, vaid maksueranditest ja -vabastustest. Süsteem on seda keerulisem, mida rohkem esineb seal erisätteid. Nii kulutasid näiteks üksikisikutest maksumaksjad 1990-ndate alguses Ameerikas kokku maksudega tegelemise peale 3 miljardit tundi, mis tegi ühe maksumaksja kohta keskmiseks ajakuluks 27 tundi aastas. Eesti on aga maailmas läbi löönud tugeva IT-riigina ja siin esitatakse üle 98% tuludeklaratsioonidest interneti teel. Täiendav maksuaste ei ole arvutiprogrammi jaoks mingisugune takistus. Eesti on olnud aastaid sissetulekute jaotuse poolest pigem Euroopa Liidu ebavõrdsemate riikide hulgas. Seda näitab Gini indeks, mis sobib kõige paremini iseloomustama ühiskondade sotsiaalset ebavõrdsust ja kihistumist. Mida madalam on Gini indeksi väärtus, seda võrdsem on ühiskonna majanduslik ja sotsiaalne seisund. Arenenud riikide Gini indeks jääb enamasti vahemikku 20–30% ja arenguriikide indeks jääb vahemikku 40–60%.'"
      ]
     },
     "execution_count": 135,
     "metadata": {},
     "output_type": "execute_result"
    }
   ],
   "source": [
    "df_chunks.text[1]"
   ]
  },
  {
   "cell_type": "code",
   "execution_count": 136,
   "id": "7fdd66a0",
   "metadata": {},
   "outputs": [
    {
     "data": {
      "text/plain": [
       "' \\n Kersti Sarapuu: Eurostati andmetel oli Gini indeks Eestis eelmisel aastal 31,7%. Viimastel aastatel on indeksi väärtus järjekindlalt langenud ehk ebavõrdsus on vähenenud. Näiteks, 2015. aastal oli Eesti näitaja 34,8. Ühest küljest me võime olla uhked, kuid paraku on Põhjamaad meist veel sissetulekute võrdsema jaotuse poolest kaugel ees. Soomes oli vastav näitaja eelmisel aastal 25,9 ja Rootsil 27. Seejuures kõige väiksem ebavõrdsus Euroopa Liidus on Slovakkias, Sloveenias ja Tšehhis, kus Gini indeksi koefitsient on 23% ja 24% vahel. Kuigi eestlastel meeldib ennast alati võrrelda lätlastega, siis on Eesti ka Sloveeniaga küllaltki sarnane. Mõlema riigi näol on tegemist 1990-ndate alguses taasiseseisvunud riigiga. Samuti astusid Euroopa Liitu mõlemad riigid samal ajal –\\xa02004. aastal. Tõsi, Sloveenia eksportis juba Jugoslaavia aegadel kolm korda rohkem välismaale ning ettevõtjad olid 1960. aastatest isemajandavad, mis tagas Sloveeniale parema stardipositsiooni ja ka väiksema kukkumise varakapitalistlikul üleminekuperioodil. Sellel vaatamata on mõlemad riigid lisaks tähelepanuväärsele majanduskasvule ka Euroopa riikide esirinnas nii madala korruptsiooninäitaja kui ka ühiskonnaelu ja infrastruktuuri kajastamise ning tööhõive küsimustes. Üks erinevus on aga just maksusüsteem, kus Sloveenia kasutab 5-astmelist üksikisiku maksusüsteemi. Sloveenia majandusuuringute instituudis tehti 2007. aastal uuring, mille ülesanne oli välja selgitada, kuidas mõjutaks Sloveenia majandust üleminek ühtlasele tulumaksule. Lisaks praegusele tulumaksusüsteemile modelleeriti läbi ka ühtlane tulumaks määraga 22% ja 25% ning astmelised tulumaksusüsteemid maksumääradega 15% ja 25%; 15%, 25% ja 35% ning 16%, 27% ja 41%. Simulatsioon näitas, et maksusüsteemi muudatuste mõju sisemajanduse kogutoodangule ei ole oluline. Kui baasstsenaarium nägi ette võrreldes baasperioodiga 2025. aastaks 25,19% SKT kasvu, siis alternatiivsetest stsenaariumidest andis parema tulemuse 22%-line tulumaksu määr. Sarnaselt on uuritud ühtlase tulumaksu kehtestamisega kaasnevaid muudatusi Saksamaa näitel. Seal leiti, et ühtlase tulumaksuga kaasnevad küll teatavad positiivsed efektid, kuid nende mõju pole Saksamaale nii oluline, kui oli 1990-ndate lõpus Nõukogude Liidu  mõju alt vabanenud Ida-Euroopa riikidele. Tihitipeale on igasugune arutelu tulumaksu teemal ka laualt maha löödud väitega, et inimesed seda ei soovi. Ameerikas on uuritud, kuidas muutub suhtumine ühtlasse tulumaksu pärast täiendavaid loenguid selle toimimise kohta. Nii langes 1996. aastal Austinis ühtlase tulumaksu toetus 44%-lt 33%-le pärast seda, kui testrühm oli terve nädalavahetuse saanud maksukoolitust. Tulumaksuseadus on Eestis üks enim muudetud seadus, kuid pärast ühtlase tulumaksu kehtestamist 1994. aastal püsis maksumäär pikka aega ühel tasemel. Pärast ettevõtte tulumaksu reformimist 2000. aastal muutus aktiivseks ka arutelu tulumaksumäära muutmise üle. 2001. aasta alguses käis tollane rahandusminister Siim Kallas välja idee, et tulumaksumäära tuleks vähendada ning eesmärgiks on tulumaksumäära vähendamine 20%-le. Tulumaksumäära  vähendamisel räägiti palju, kuidas sellest reformist võidavad kõik palgatulu saajad. Reaalsuses on see küll nii ka olnud, kuid võidu suurus on oluliselt sõltunud palga suurusest. Aastatepikkune järkjärguline langetamine tekitas olukorra, kus inimene, kes teenis kuupalka 500 eurot, võitis muudatustest lõpuks 155 eurot aastas, 5000 euro saaja võit oli aga juba enam kui 3000 eurot. Seega, suurepalgaliste võit oli ebaproportsionaalselt suur. Sissetuleku vahe oli 10-kordne, kuid muudatustest tehtud võit tuli 20-kordne. Selline oli siis meie arusaam õiglasest maksusüsteemist. Samale asjale juhtis tähelepanu Tartu Ülikooli dotsent Eve Parts juba 2004. aastal, kui ta artiklis \"Eesti tulumaksureformi mõju leibkondade tuluerinevustele\" märkis, et elluviidav maksureform on absoluutarvudes kasulik kõigile palgatulu saajatele, kuid samas\\xa0ilmnevad mõningad vastuolud riigi makromajanduslike eesmärkide ja kitsaskohtadega. Oma artiklis kirjutas ta, et tulumaksumäära vähendamine on kasulikum suurema sissetulekuga inimestele, mistõttu suhtelised tuluerinevused kasvavad ning see tekitab pingeid ühiskonnas, mis suurendavad ebastabiilsust ja pärsivad majanduskasvu. Makromajanduslikult toob jõukamate töötajate tulu suurendamine kaasa täiendava surve impordikulutustele ning jooksevkonto defitsiidi suurendamiseks. Samuti tuleb meelde tuletada, et sellesse perioodi jäi ka käibemaksu tõus 18%-lt 20%-le. Tarbimismaksude tõusu probleem on nende regressiivsus, mistõttu vaesemad leibkonnad maksavad nende maksude näol suhteliselt suurema osa enda sissetulekust. Selline tarbimismaksude kasv justkui õigustaks astmelise tulumaksu kasutuselevõttu, et kanda vähemalt tulumaksu tekitatud maksukoormus kõrgema tuluga maksumaksjatele. Samuti viitab tarbimismaksude osakaalu suurenemisele maksustruktuuris ja nende regressiivsus, et madalama sissetulekuga indiviidid on tulumaksureformi käigus kokkuvõttes kaotanud oma ostuvõimes. Loomulikult ei piirdu maksusüsteem Eestis tulumaksuga. Süsteem on tervik, mida tuleb ka niimoodi vaadata. Aegade jooksul on läbi käidud erinevaid ideid muudatusteks. Näiteks on jutuks olnud ka varamaksud, mis on Eestis võrreldes Euroopa Liidu keskmisega sisuliselt olematud. Kui me vaatame ülevaadet tervikuna, siis me näeme, et maksulaekumisi protsendina SKT-st on kõige vähem. Muide, ka Prantsuse president Chirac on öelnud, et näete, Euroopa toetusi me tahame küll, aga ettevõtte tulumaksu ei kehtesta. Ja loomulikult on väga oluline kliimaneutraalsus. Kui me näeme, millise jalajälje on kliimakahjustused üle maailma tekitanud, siis võib-olla peaksime mõtlema ka selle peale, kuidas maksustada erinevaid kulutusi, olgu siis pakendid või mingid muud alad. Aga ma arvan, et kõigist nendest asjadest räägivad meile täna väga tublid eksperdid härra Jegorov ja härra Neivelt, kes löövad lahti kõik niisugused head maksustamise võimalused või tavad. Igal juhul Keskerakond töötab oma maksupaketi välja järgmiseks kevadeks. Aitäh teile!.'"
      ]
     },
     "execution_count": 136,
     "metadata": {},
     "output_type": "execute_result"
    }
   ],
   "source": [
    "df_chunks.text[2]"
   ]
  },
  {
   "cell_type": "code",
   "execution_count": 137,
   "id": "ee2da62a",
   "metadata": {},
   "outputs": [
    {
     "data": {
      "text/plain": [
       "' \\n  \\n Aseesimees Siim Kallas: Aitäh! Ettekandjatele ütlen niipalju, et selles mudelis, mis on kokku lepitud, ei ole ettekande pikendamist ette nähtud. Kui sõnavõttude puhul anname kolm minutit juurde, siis ettekannetega on nii, et jääb see 20 või 15 minutit, nagu on kokku lepitud. Aga ettekandjale on mõistagi küsimusi ja ka seda tuletan meelde, et küsimuste peale kokku on meil sellele ettekandjale 15 minutit ja igaühel on võimalik esitada kokku kaks küsimust kõikidele ettekandjatele. Nii et tehke omad plaanid selle järgi. Aivar Sõerd, palun! \\n  \\n Aivar Sõerd: Aitäh, austatud juhataja! Austatud ettekandja! Eile olime rahanduskomisjonis, te istusite ka seal, ja meil oli kohtumine Eesti Pangaga. On teada, et pensionisüsteemi muudatused viivad pensionisüsteemist raha minema. Küsimus pole selles, kas, vaid selles, kui suures ulatuses tuleb tõsta makse selleks, et pensionikulusid tulevikus katta, kui asendusmäär langeb allapoole 40% praegust taset. Aga ma küsin selle kohta, et sellel maksutõusu plaanil on ikkagi ka negatiivne külg olemas, need on hinnatõusud. Ja Eesti on olnud siin Euroopa hinnatõusude edetabeli tipus ikkagi päris pikka aega. Ärge rääkige, et te maksudega seda ei õhuta –\\xa0võtame gaasiaktsiisi, mis on tõusnud mitu aastat järjest ja tõuseb ka järgmisel aastal, kütuseaktsiisi langetamise lubadus jäigi ainult lubaduseks. Kas te oma maksutõusu plaanide juures mõtlete ka sellele, kuidas hinnatõuse leevendada? See puudutab just vähekindlustatuid ja pensionäre –\\xa0hinnatõusud toiduainetele, küttele, kodukuludele jne. \\n  \\n Aseesimees Siim Kallas: Küsijatele: eks ole, minut on kõigil küsimiseks. Palun! \\n  \\n Kersti Sarapuu: Aitäh, kolleeg Aivar Sõerd! Tegelikult, kui sa panid tähele ja kuulasid tänast ettekannet, siis me ei räägi maksude tõstmisest. Tänane teema ei ole maksude tõstmine. Praegu me peaksime vaatama, kuidas me saaksime korrastada maksusüsteemi, et meie majandus oleks ka järgmistel aastatel jätkusuutlik ja et me siis, kui meil tõesti Euroopa Liidu toetused ära kaovad, saaksime kõiki samu valdkondi toetada, arendada ja inimeste heaolu eest seista. Nii et siin tegelikult maksutõusudest juttu ei olnud. \\n  \\n Aseesimees Siim Kallas: Anneli Ott, järgmine küsimus, palun! \\n  \\n Anneli Ott: Austatud juhataja! Hea ettekandja! Enamik teie sõnavõtust rääkis riiklikest maksudest, aga kindlasti on väga oluline roll ka kohalikel omavalitsusel Eesti inimeste elu korraldamisel. Siin on aeg-ajalt tõstatunud teema, et kohalike maksude seaduses § 5 on kuus erinevat maksu, mida kohalikud omavalitsused võiksid kehtestada. Kuidas te suhtute sellesse, et seda nimekirja laiendada? Ja aeg-ajalt on tõstatatud –\\xa0eriti haldusreformi käigus\\xa0– ka turismimaksu idee. Mis on teie arvamus, kas sellel maksul on mõtet või on siin kindlad vastuargumendid ja see ei väärigi üldse debatti? \\n  \\n Kersti Sarapuu: Aitäh, hea küsija! Tegelikult, olles ise olnud kohaliku omavalistuse juht kokku ligi 11 aastat, ma olen väga hästi näinud, mismoodi kujuneb kohaliku omavalitsuse tulubaas. Põhilise osa sellest moodustab füüsilise isiku tulumaks, mingil määral maamaks. Loomulikult maapiirkondades\\xa0– eriti kui me jätame välja Tallinna, Pärnu, Tartu, kus on rakendatud parkimistasud, reklaamitasud, paadimaksud jne\\xa0–\\xa0kohalikel omavalitsustel ei olegi väga oma tulu võimalusi. Muide, ettepanekutena on ju Tallinn, Pärnu ja Tartu väga palju tõstnud üles just nimelt sedasama turismimaksu. Me näeme, kui palju investeerivad omavalitsused infrasse, et eelkõige oma inimestel, aga ka turistidel on võimalik külastusobjektidel ja turismiobjektidel käia, ka teed-tänavad on sellest korda tehtud, et oleks turistidel hea. Nii et ma ei näe üldse mingit vastuolu selles, kui kohalik omavalitsus sooviks turismimaksu kehtestada. Eelkõige näen ma seda just nimelt suuremates linnades ja keskustes. Muidugi, ka väiksemad linnad niisamuti nagu Paide, Võru ja Põlva –\\xa0kõik teevad täpselt samamoodi investeeringuid. Kindlasti see turismimaks oleks just nimelt selline, mis suunatakse sihtotstarbeliselt sellesse valdkonda, millega oleks võimalik investeeringuid, korrastustöid jms teostada. \\n  \\n Aseesimees Siim Kallas: Aitäh! Ivari Padar, ole lahke! \\n  \\n Ivari Padar: Aitäh! Lugupeetud proua ettekandja! Te rääkisite siin\\xa0mõne sõnaga ka Euroopa Liidust ja Euroopa Liidu eelarvest. Nüüd enne veel, kui tuleb kevad ja Keskerakonna maksuplaan, tuleb veel sügis ja talv. Tulevad ka Euroopa Liidu läbirääkimised järgmise eelarveperioodi kohta. Tühi kott ei seisa püsti. Ehk selge see, et Euroopa Liidu eelarve vajab omavahendeid, tulusid ja maksusid. Millised on selles kontekstis Keskerakonna ettepanekud? Missugused üleeuroopalised maksud peaksid toetama uut eelarveläbirääkimist? Mis oleksid sellised maksud, mis oleksid euroopaüleselt mõistlikud ja Eestile vastuvõetavad? \\n  \\n Kersti Sarapuu: Aitäh, lugupeetud Ivari Padar! Me oleme selle teemaga alles alustanud. Muide, meil tõesti toimus eelmisel reedel ka niisugune maksuhommik, kus me proovisime juba esimestena\\xa0teha töögruppides arutelusid maksuteemade üle, erinevate maksupakettide üle. Aga sinnamaani, mis puudutab Euroopa Liidu maksusid, me veel jõudnud ei ole. Nagu öeldud, tõesti ees on veel nii talv kui ka kevad, nii et me jõuame kindlasti ka nende teemadeni. \\n  \\n Aseesimees Siim Kallas: Jüri Jaanson, palun! \\n  \\n Jüri Jaanson: Aitäh! Austatud ettekandja! Ma olen teiega nõus selles suhtes, et julgelt tuleb välja käia erinevaid maksuideid. Seda ideed kandis kindlasti ka Kaja Kallase tõstatatud sotsiaalmaksu kaotamine. Ma tuletaksin siinjuures meelde, et veebruaris 2015 tõi Keskerakond ju Riigikokku kollektiivse pöördumise 1000 eurot miinimumpalgaks ja veel maikuus 2015 oli see suure arutelu all sotsiaalkomisjonis, see oli vist ka ettevalmistamisel olulise tähtsusega riiklikuks küsimuseks. See teema on pärast kadunud. Ma küsiksingi siis, kuidas te selle teemaga edasi lähete. Üks mõte on ju see, et sellest 1000 eurost saaks tulumaksuvaba piirmäär. \\n  \\n Kersti Sarapuu: Aitäh, Jüri Jaanson! Alustan sellest, mida sa väitsid, et Kaja Kallase debati teema löödi liiga kiiresti\\xa0laualt maha ja võib-olla oleks pidanud selle üle rohkem arutlema. Ma arvan, et kindlasti oleks pidanud arutlema, nii nagu me tänagi viskame õhku niisuguseid küsimuste puntraid. Aga tahan siinjuures kõigepealt\\xa0öelda ka seda, et jah, Keskerakond on alati olnud seda meelt, et tervishoid peaks olema solidaarne, ja loomulikult me praegu ikkagi väga ei toeta niisugust tervishoiusüsteemi, mis baseerub erakindlustusel. Aga loomulikult oleme me endiselt seda meelt, et tuleb minna üle astmelisele tulumaksule. Praegu on meil juba kaks astet olemas: meil on nullmaksumäär ja on meil ka 20%-line maksumäär. Sealt tuleks minna edasi ja loomulikult sellelt baasilt, kui me oleme läinud näiteks edasi kolmandale ja neljandale astmele, me räägiksime kindlasti\\xa0sotsiaalmaksu lae piiramisest. Aga mis puutub sellesse 1000-sse eurosse, siis ma arvan, et me kõik liigume selle poole. See pole tõesti veel saavutatud, aga kindlasti liigume selles suunas. \\n  \\n Aseesimees Siim Kallas: Aitäh! Marko Šorin, palun! \\n  \\n Marko Šorin: Aitäh, eesistuja! Ja aitäh, eeskõneleja – tänan väga hea ettekande eest! Pikalt on räägitud, et maksudest rääkimine on patt omaette, kuid kindlasti riigijuhtimise juurde kuulub ka maksude juhtimine ja, nagu te ise ütlesite, maksusüsteem on üks tervik. Aga ma küsiksin kunagi Jüri Ratase \"Foorumi\" saates välja öeldud retoorilise küsimuse. Kas kiiresti arenevas ja uusi väljakutseid pakkuvas keskkonnas on tõesti riigil võimalik ennast rikkaks säästa?'"
      ]
     },
     "execution_count": 137,
     "metadata": {},
     "output_type": "execute_result"
    }
   ],
   "source": [
    "df_chunks.text[3]"
   ]
  },
  {
   "cell_type": "code",
   "execution_count": null,
   "id": "963d0d59",
   "metadata": {},
   "outputs": [],
   "source": []
  }
 ],
 "metadata": {
  "kernelspec": {
   "display_name": "Python 3 (ipykernel)",
   "language": "python",
   "name": "python3"
  },
  "language_info": {
   "codemirror_mode": {
    "name": "ipython",
    "version": 3
   },
   "file_extension": ".py",
   "mimetype": "text/x-python",
   "name": "python",
   "nbconvert_exporter": "python",
   "pygments_lexer": "ipython3",
   "version": "3.9.12"
  }
 },
 "nbformat": 4,
 "nbformat_minor": 5
}
