{
 "cells": [
  {
   "cell_type": "code",
   "execution_count": 4,
   "metadata": {
    "pycharm": {
     "name": "#%%\n"
    }
   },
   "outputs": [],
   "source": [
    "import re\n",
    "import requests\n",
    "import json\n",
    "from bs4 import BeautifulSoup\n",
    "import pandas as pd\n",
    "import numpy as np"
   ]
  },
  {
   "cell_type": "markdown",
   "metadata": {},
   "source": [
    "## Same as previous notebook but with stenos from Jan 2022 till Oct 2023"
   ]
  },
  {
   "cell_type": "markdown",
   "metadata": {
    "pycharm": {
     "name": "#%% md\n"
    }
   },
   "source": [
    "## Helpers"
   ]
  },
  {
   "cell_type": "code",
   "execution_count": 5,
   "metadata": {
    "pycharm": {
     "name": "#%%\n"
    }
   },
   "outputs": [],
   "source": [
    "def get_pattern_elem(text, pattern='[0-9][0-9]:[0-9][0-9]', alternative_pattern='[0-9][0-9]\\.[0-9][0-9]'):\n",
    "    \"\"\"get element from regex pattern. used to get time information from text\n",
    "    -INPUT:\n",
    "        -text: str of text where to search pattern\n",
    "        -pattern: str of regex oattern\n",
    "        -alternative_pattern: str of alternative regex pattern if first pattern didn't return response\n",
    "    -OUTPUT:\n",
    "        - str of matched pattern where . is replaced with :\"\"\"\n",
    "    match=re.search(pattern,text)\n",
    "    if match is None:\n",
    "        match=re.search(alternative_pattern,text) \n",
    "        if match is None:\n",
    "            return\n",
    "    span=match.span()\n",
    "    return text[span[0]:span[1]].replace('.',':')"
   ]
  },
  {
   "cell_type": "code",
   "execution_count": 6,
   "metadata": {
    "pycharm": {
     "name": "#%%\n"
    }
   },
   "outputs": [],
   "source": [
    "def stenos2df(stenos):\n",
    "    '''Parse stenos to pandas DataFrame\n",
    "    NB! this function adds steno link to all of the segments!\n",
    "    -INPUT:\n",
    "        -stenos: dict of stenos\n",
    "    -OUTPUT:\n",
    "        -pd.DataFrame of stenos'''\n",
    "    stenos_flat=[]\n",
    "    for steno_url in stenos.keys():\n",
    "        data_steno=stenos[steno_url]['talk']\n",
    "        #[row.update({'link_steno':steno_url}) for row in data_steno]\n",
    "        stenos_flat.extend(data_steno)\n",
    "    return pd.DataFrame(stenos_flat)"
   ]
  },
  {
   "cell_type": "markdown",
   "metadata": {
    "pycharm": {
     "name": "#%% md\n"
    }
   },
   "source": [
    "## Data"
   ]
  },
  {
   "cell_type": "code",
   "execution_count": 7,
   "metadata": {
    "pycharm": {
     "name": "#%%\n"
    }
   },
   "outputs": [],
   "source": [
    "with open('data/raw/stenos_from_links2022.json') as f:\n",
    "    data=json.load(f)"
   ]
  },
  {
   "cell_type": "markdown",
   "metadata": {
    "pycharm": {
     "name": "#%% md\n"
    }
   },
   "source": [
    "## Format to df"
   ]
  },
  {
   "cell_type": "code",
   "execution_count": 8,
   "metadata": {
    "pycharm": {
     "name": "#%%\n"
    }
   },
   "outputs": [
    {
     "data": {
      "text/plain": [
       "(47236, 7)"
      ]
     },
     "execution_count": 8,
     "metadata": {},
     "output_type": "execute_result"
    }
   ],
   "source": [
    "df=stenos2df(data)\n",
    "df.shape"
   ]
  },
  {
   "cell_type": "code",
   "execution_count": 9,
   "metadata": {
    "pycharm": {
     "name": "#%%\n"
    }
   },
   "outputs": [
    {
     "data": {
      "text/html": [
       "<div>\n",
       "<style scoped>\n",
       "    .dataframe tbody tr th:only-of-type {\n",
       "        vertical-align: middle;\n",
       "    }\n",
       "\n",
       "    .dataframe tbody tr th {\n",
       "        vertical-align: top;\n",
       "    }\n",
       "\n",
       "    .dataframe thead th {\n",
       "        text-align: right;\n",
       "    }\n",
       "</style>\n",
       "<table border=\"1\" class=\"dataframe\">\n",
       "  <thead>\n",
       "    <tr style=\"text-align: right;\">\n",
       "      <th></th>\n",
       "      <th>heading</th>\n",
       "      <th>speaker</th>\n",
       "      <th>link_video</th>\n",
       "      <th>link_steno</th>\n",
       "      <th>index_pk</th>\n",
       "      <th>index_snd</th>\n",
       "      <th>text</th>\n",
       "    </tr>\n",
       "  </thead>\n",
       "  <tbody>\n",
       "    <tr>\n",
       "      <th>0</th>\n",
       "      <td>13:58 Istungi rakendamine</td>\n",
       "      <td>14:00\\n\\n                            \\n\\n     ...</td>\n",
       "      <td>https://www.youtube.com/watch?v=xker_lBOjl8&amp;t=0</td>\n",
       "      <td>https://stenogrammid.riigikogu.ee/202212141400</td>\n",
       "      <td>PKP-566707</td>\n",
       "      <td>SND-18377973</td>\n",
       "      <td></td>\n",
       "    </tr>\n",
       "    <tr>\n",
       "      <th>1</th>\n",
       "      <td>13:58 Istungi rakendamine</td>\n",
       "      <td>14:00\\n\\n                            \\n\\n     ...</td>\n",
       "      <td>https://www.youtube.com/watch?v=xker_lBOjl8&amp;t=27</td>\n",
       "      <td>https://stenogrammid.riigikogu.ee/202212141400</td>\n",
       "      <td>PKP-566707</td>\n",
       "      <td>SND-18377975</td>\n",
       "      <td></td>\n",
       "    </tr>\n",
       "    <tr>\n",
       "      <th>2</th>\n",
       "      <td>13:58 Istungi rakendamine</td>\n",
       "      <td>14:01\\n\\n                            \\n\\n     ...</td>\n",
       "      <td>https://www.youtube.com/watch?v=xker_lBOjl8&amp;t=96</td>\n",
       "      <td>https://stenogrammid.riigikogu.ee/202212141400</td>\n",
       "      <td>PKP-566707</td>\n",
       "      <td>SND-18377972</td>\n",
       "      <td></td>\n",
       "    </tr>\n",
       "    <tr>\n",
       "      <th>3</th>\n",
       "      <td>13:58 Istungi rakendamine</td>\n",
       "      <td>14:01\\n\\n                            \\n\\n     ...</td>\n",
       "      <td>https://www.youtube.com/watch?v=xker_lBOjl8&amp;t=105</td>\n",
       "      <td>https://stenogrammid.riigikogu.ee/202212141400</td>\n",
       "      <td>PKP-566707</td>\n",
       "      <td>SND-18377976</td>\n",
       "      <td>None</td>\n",
       "    </tr>\n",
       "    <tr>\n",
       "      <th>4</th>\n",
       "      <td>13:58 Istungi rakendamine</td>\n",
       "      <td>14:02\\n\\n                            \\n\\n     ...</td>\n",
       "      <td>https://www.youtube.com/watch?v=xker_lBOjl8&amp;t=136</td>\n",
       "      <td>https://stenogrammid.riigikogu.ee/202212141400</td>\n",
       "      <td>PKP-566707</td>\n",
       "      <td>SND-18377974</td>\n",
       "      <td></td>\n",
       "    </tr>\n",
       "  </tbody>\n",
       "</table>\n",
       "</div>"
      ],
      "text/plain": [
       "                     heading  \\\n",
       "0  13:58 Istungi rakendamine   \n",
       "1  13:58 Istungi rakendamine   \n",
       "2  13:58 Istungi rakendamine   \n",
       "3  13:58 Istungi rakendamine   \n",
       "4  13:58 Istungi rakendamine   \n",
       "\n",
       "                                             speaker  \\\n",
       "0  14:00\\n\\n                            \\n\\n     ...   \n",
       "1  14:00\\n\\n                            \\n\\n     ...   \n",
       "2  14:01\\n\\n                            \\n\\n     ...   \n",
       "3  14:01\\n\\n                            \\n\\n     ...   \n",
       "4  14:02\\n\\n                            \\n\\n     ...   \n",
       "\n",
       "                                          link_video  \\\n",
       "0    https://www.youtube.com/watch?v=xker_lBOjl8&t=0   \n",
       "1   https://www.youtube.com/watch?v=xker_lBOjl8&t=27   \n",
       "2   https://www.youtube.com/watch?v=xker_lBOjl8&t=96   \n",
       "3  https://www.youtube.com/watch?v=xker_lBOjl8&t=105   \n",
       "4  https://www.youtube.com/watch?v=xker_lBOjl8&t=136   \n",
       "\n",
       "                                       link_steno    index_pk     index_snd  \\\n",
       "0  https://stenogrammid.riigikogu.ee/202212141400  PKP-566707  SND-18377973   \n",
       "1  https://stenogrammid.riigikogu.ee/202212141400  PKP-566707  SND-18377975   \n",
       "2  https://stenogrammid.riigikogu.ee/202212141400  PKP-566707  SND-18377972   \n",
       "3  https://stenogrammid.riigikogu.ee/202212141400  PKP-566707  SND-18377976   \n",
       "4  https://stenogrammid.riigikogu.ee/202212141400  PKP-566707  SND-18377974   \n",
       "\n",
       "   text  \n",
       "0        \n",
       "1        \n",
       "2        \n",
       "3  None  \n",
       "4        "
      ]
     },
     "execution_count": 9,
     "metadata": {},
     "output_type": "execute_result"
    }
   ],
   "source": [
    "df.head()"
   ]
  },
  {
   "cell_type": "markdown",
   "metadata": {
    "pycharm": {
     "name": "#%% md\n"
    }
   },
   "source": [
    "## Get time"
   ]
  },
  {
   "cell_type": "code",
   "execution_count": 10,
   "metadata": {
    "pycharm": {
     "name": "#%%\n"
    }
   },
   "outputs": [],
   "source": [
    "def clean_speaker(text):\n",
    "    \"\"\"helper func to clean speaker name\n",
    "    -INPUT:\n",
    "        -text: str of speaker name\n",
    "    -OUTPUT:\n",
    "        -cleaner text\"\"\"\n",
    "    text=text.replace('\\n','').replace('<strong>', '').replace('</strong>', '')\n",
    "    text= re.sub('\\d\\d:\\d\\d','', text)\n",
    "    text=text.strip()\n",
    "    text=' '.join(text.split())\n",
    "    return text\n",
    "\n",
    "def time_from_speaker(text, return_h=True):\n",
    "    \"\"\"get time information from speaker name text\n",
    "    -INPUT:\n",
    "        -text: str of speaker name\n",
    "        -return_h: bool if true returns hour infomration otherwise minutes\n",
    "    -OUTPUT:\n",
    "        str of tme information\"\"\"\n",
    "    time=re.findall('\\d\\d:\\d\\d',text)\n",
    "    hour, minutes = time[0].split(':')\n",
    "    if return_h:\n",
    "        return hour\n",
    "    return minutes\n",
    "\n",
    "def has_time(text):\n",
    "    \"\"\"check if text contains time information\"\"\"\n",
    "    return bool(re.search('\\d\\d:\\d\\d', text))"
   ]
  },
  {
   "cell_type": "code",
   "execution_count": 11,
   "metadata": {
    "pycharm": {
     "name": "#%%\n"
    }
   },
   "outputs": [
    {
     "data": {
      "text/html": [
       "<div>\n",
       "<style scoped>\n",
       "    .dataframe tbody tr th:only-of-type {\n",
       "        vertical-align: middle;\n",
       "    }\n",
       "\n",
       "    .dataframe tbody tr th {\n",
       "        vertical-align: top;\n",
       "    }\n",
       "\n",
       "    .dataframe thead th {\n",
       "        text-align: right;\n",
       "    }\n",
       "</style>\n",
       "<table border=\"1\" class=\"dataframe\">\n",
       "  <thead>\n",
       "    <tr style=\"text-align: right;\">\n",
       "      <th></th>\n",
       "      <th>heading</th>\n",
       "      <th>speaker</th>\n",
       "      <th>link_video</th>\n",
       "      <th>link_steno</th>\n",
       "      <th>index_pk</th>\n",
       "      <th>index_snd</th>\n",
       "      <th>text</th>\n",
       "      <th>year</th>\n",
       "      <th>month</th>\n",
       "      <th>day</th>\n",
       "      <th>time</th>\n",
       "      <th>seconds_from_start</th>\n",
       "      <th>video_link_wo_time</th>\n",
       "    </tr>\n",
       "  </thead>\n",
       "  <tbody>\n",
       "    <tr>\n",
       "      <th>0</th>\n",
       "      <td>13:58 Istungi rakendamine</td>\n",
       "      <td>Aseesimees Martin Helme</td>\n",
       "      <td>https://www.youtube.com/watch?v=xker_lBOjl8&amp;t=0</td>\n",
       "      <td>https://stenogrammid.riigikogu.ee/202212141400</td>\n",
       "      <td>PKP-566707</td>\n",
       "      <td>SND-18377973</td>\n",
       "      <td></td>\n",
       "      <td>2022</td>\n",
       "      <td>12</td>\n",
       "      <td>14</td>\n",
       "      <td>14:00</td>\n",
       "      <td>0</td>\n",
       "      <td>https://www.youtube.com/watch?v=xker_lBOjl8</td>\n",
       "    </tr>\n",
       "    <tr>\n",
       "      <th>1</th>\n",
       "      <td>13:58 Istungi rakendamine</td>\n",
       "      <td>Heiki Kranich</td>\n",
       "      <td>https://www.youtube.com/watch?v=xker_lBOjl8&amp;t=27</td>\n",
       "      <td>https://stenogrammid.riigikogu.ee/202212141400</td>\n",
       "      <td>PKP-566707</td>\n",
       "      <td>SND-18377975</td>\n",
       "      <td></td>\n",
       "      <td>2022</td>\n",
       "      <td>12</td>\n",
       "      <td>14</td>\n",
       "      <td>14:00</td>\n",
       "      <td>27</td>\n",
       "      <td>https://www.youtube.com/watch?v=xker_lBOjl8</td>\n",
       "    </tr>\n",
       "    <tr>\n",
       "      <th>2</th>\n",
       "      <td>13:58 Istungi rakendamine</td>\n",
       "      <td>Aseesimees Martin Helme</td>\n",
       "      <td>https://www.youtube.com/watch?v=xker_lBOjl8&amp;t=96</td>\n",
       "      <td>https://stenogrammid.riigikogu.ee/202212141400</td>\n",
       "      <td>PKP-566707</td>\n",
       "      <td>SND-18377972</td>\n",
       "      <td></td>\n",
       "      <td>2022</td>\n",
       "      <td>12</td>\n",
       "      <td>14</td>\n",
       "      <td>14:01</td>\n",
       "      <td>96</td>\n",
       "      <td>https://www.youtube.com/watch?v=xker_lBOjl8</td>\n",
       "    </tr>\n",
       "    <tr>\n",
       "      <th>3</th>\n",
       "      <td>13:58 Istungi rakendamine</td>\n",
       "      <td>Kohaloleku kontroll</td>\n",
       "      <td>https://www.youtube.com/watch?v=xker_lBOjl8&amp;t=105</td>\n",
       "      <td>https://stenogrammid.riigikogu.ee/202212141400</td>\n",
       "      <td>PKP-566707</td>\n",
       "      <td>SND-18377976</td>\n",
       "      <td>None</td>\n",
       "      <td>2022</td>\n",
       "      <td>12</td>\n",
       "      <td>14</td>\n",
       "      <td>14:01</td>\n",
       "      <td>105</td>\n",
       "      <td>https://www.youtube.com/watch?v=xker_lBOjl8</td>\n",
       "    </tr>\n",
       "    <tr>\n",
       "      <th>4</th>\n",
       "      <td>13:58 Istungi rakendamine</td>\n",
       "      <td>Aseesimees Martin Helme</td>\n",
       "      <td>https://www.youtube.com/watch?v=xker_lBOjl8&amp;t=136</td>\n",
       "      <td>https://stenogrammid.riigikogu.ee/202212141400</td>\n",
       "      <td>PKP-566707</td>\n",
       "      <td>SND-18377974</td>\n",
       "      <td></td>\n",
       "      <td>2022</td>\n",
       "      <td>12</td>\n",
       "      <td>14</td>\n",
       "      <td>14:02</td>\n",
       "      <td>136</td>\n",
       "      <td>https://www.youtube.com/watch?v=xker_lBOjl8</td>\n",
       "    </tr>\n",
       "  </tbody>\n",
       "</table>\n",
       "</div>"
      ],
      "text/plain": [
       "                     heading                  speaker  \\\n",
       "0  13:58 Istungi rakendamine  Aseesimees Martin Helme   \n",
       "1  13:58 Istungi rakendamine            Heiki Kranich   \n",
       "2  13:58 Istungi rakendamine  Aseesimees Martin Helme   \n",
       "3  13:58 Istungi rakendamine      Kohaloleku kontroll   \n",
       "4  13:58 Istungi rakendamine  Aseesimees Martin Helme   \n",
       "\n",
       "                                          link_video  \\\n",
       "0    https://www.youtube.com/watch?v=xker_lBOjl8&t=0   \n",
       "1   https://www.youtube.com/watch?v=xker_lBOjl8&t=27   \n",
       "2   https://www.youtube.com/watch?v=xker_lBOjl8&t=96   \n",
       "3  https://www.youtube.com/watch?v=xker_lBOjl8&t=105   \n",
       "4  https://www.youtube.com/watch?v=xker_lBOjl8&t=136   \n",
       "\n",
       "                                       link_steno    index_pk     index_snd  \\\n",
       "0  https://stenogrammid.riigikogu.ee/202212141400  PKP-566707  SND-18377973   \n",
       "1  https://stenogrammid.riigikogu.ee/202212141400  PKP-566707  SND-18377975   \n",
       "2  https://stenogrammid.riigikogu.ee/202212141400  PKP-566707  SND-18377972   \n",
       "3  https://stenogrammid.riigikogu.ee/202212141400  PKP-566707  SND-18377976   \n",
       "4  https://stenogrammid.riigikogu.ee/202212141400  PKP-566707  SND-18377974   \n",
       "\n",
       "   text  year month day   time seconds_from_start  \\\n",
       "0        2022    12  14  14:00                  0   \n",
       "1        2022    12  14  14:00                 27   \n",
       "2        2022    12  14  14:01                 96   \n",
       "3  None  2022    12  14  14:01                105   \n",
       "4        2022    12  14  14:02                136   \n",
       "\n",
       "                            video_link_wo_time  \n",
       "0  https://www.youtube.com/watch?v=xker_lBOjl8  \n",
       "1  https://www.youtube.com/watch?v=xker_lBOjl8  \n",
       "2  https://www.youtube.com/watch?v=xker_lBOjl8  \n",
       "3  https://www.youtube.com/watch?v=xker_lBOjl8  \n",
       "4  https://www.youtube.com/watch?v=xker_lBOjl8  "
      ]
     },
     "execution_count": 11,
     "metadata": {},
     "output_type": "execute_result"
    }
   ],
   "source": [
    "df['year']=df.link_steno.apply(lambda x: x.split('/')[-1][:4])\n",
    "df['month']=df.link_steno.apply(lambda x: x.split('/')[-1][4:6])\n",
    "df['day']=df.link_steno.apply(lambda x: x.split('/')[-1][6:8])\n",
    "df['time']=df.heading.apply(lambda x: get_pattern_elem(x))\n",
    "speaker_has_time=df.speaker.apply(has_time)\n",
    "speaker_times=df.speaker.apply(get_pattern_elem)\n",
    "df['time']=np.where(speaker_has_time, speaker_times, df.time)\n",
    "df['seconds_from_start']=df.link_video.apply(lambda x: str(x).split('&t=')[-1])\n",
    "df['video_link_wo_time']=df.link_video.apply(lambda x: str(x).split('&t=')[0])\n",
    "df['speaker']=df.speaker.apply(clean_speaker)\n",
    "df.head()"
   ]
  },
  {
   "cell_type": "code",
   "execution_count": 12,
   "metadata": {
    "pycharm": {
     "name": "#%%\n"
    }
   },
   "outputs": [
    {
     "data": {
      "text/html": [
       "<div>\n",
       "<style scoped>\n",
       "    .dataframe tbody tr th:only-of-type {\n",
       "        vertical-align: middle;\n",
       "    }\n",
       "\n",
       "    .dataframe tbody tr th {\n",
       "        vertical-align: top;\n",
       "    }\n",
       "\n",
       "    .dataframe thead th {\n",
       "        text-align: right;\n",
       "    }\n",
       "</style>\n",
       "<table border=\"1\" class=\"dataframe\">\n",
       "  <thead>\n",
       "    <tr style=\"text-align: right;\">\n",
       "      <th></th>\n",
       "      <th>heading</th>\n",
       "      <th>speaker</th>\n",
       "      <th>link_video</th>\n",
       "      <th>link_steno</th>\n",
       "      <th>index_pk</th>\n",
       "      <th>index_snd</th>\n",
       "      <th>text</th>\n",
       "      <th>year</th>\n",
       "      <th>month</th>\n",
       "      <th>day</th>\n",
       "      <th>time</th>\n",
       "      <th>seconds_from_start</th>\n",
       "      <th>video_link_wo_time</th>\n",
       "    </tr>\n",
       "  </thead>\n",
       "  <tbody>\n",
       "    <tr>\n",
       "      <th>47231</th>\n",
       "      <td>2.\\n                        10:15 Jõuluvana</td>\n",
       "      <td>Jaak Juske</td>\n",
       "      <td>https://www.youtube.com/watch?v=Wxpvs5IFpn4&amp;t=...</td>\n",
       "      <td>https://stenogrammid.riigikogu.ee/202212151000</td>\n",
       "      <td>PKP-565151</td>\n",
       "      <td>SND-18354221</td>\n",
       "      <td>See lõppev aasta polnud kerge. / Sõda muutis ...</td>\n",
       "      <td>2022</td>\n",
       "      <td>12</td>\n",
       "      <td>15</td>\n",
       "      <td>10:46</td>\n",
       "      <td>2775</td>\n",
       "      <td>https://www.youtube.com/watch?v=Wxpvs5IFpn4</td>\n",
       "    </tr>\n",
       "    <tr>\n",
       "      <th>47232</th>\n",
       "      <td>2.\\n                        10:15 Jõuluvana</td>\n",
       "      <td>Jõuluvana</td>\n",
       "      <td>https://www.youtube.com/watch?v=Wxpvs5IFpn4&amp;t=...</td>\n",
       "      <td>https://stenogrammid.riigikogu.ee/202212151000</td>\n",
       "      <td>PKP-565151</td>\n",
       "      <td>SND-18354224</td>\n",
       "      <td>Väga ilus, väga ilus!</td>\n",
       "      <td>2022</td>\n",
       "      <td>12</td>\n",
       "      <td>15</td>\n",
       "      <td>10:47</td>\n",
       "      <td>2841</td>\n",
       "      <td>https://www.youtube.com/watch?v=Wxpvs5IFpn4</td>\n",
       "    </tr>\n",
       "    <tr>\n",
       "      <th>47233</th>\n",
       "      <td>2.\\n                        10:15 Jõuluvana</td>\n",
       "      <td>Toomas Jürgenstein</td>\n",
       "      <td>https://www.youtube.com/watch?v=Wxpvs5IFpn4&amp;t=...</td>\n",
       "      <td>https://stenogrammid.riigikogu.ee/202212151000</td>\n",
       "      <td>PKP-565151</td>\n",
       "      <td>SND-18354189</td>\n",
       "      <td>Head kolleegid! Hea jõuluvana! Enne tegin ma ...</td>\n",
       "      <td>2022</td>\n",
       "      <td>12</td>\n",
       "      <td>15</td>\n",
       "      <td>10:47</td>\n",
       "      <td>2846</td>\n",
       "      <td>https://www.youtube.com/watch?v=Wxpvs5IFpn4</td>\n",
       "    </tr>\n",
       "    <tr>\n",
       "      <th>47234</th>\n",
       "      <td>2.\\n                        10:15 Jõuluvana</td>\n",
       "      <td>Jõuluvana</td>\n",
       "      <td>https://www.youtube.com/watch?v=Wxpvs5IFpn4&amp;t=...</td>\n",
       "      <td>https://stenogrammid.riigikogu.ee/202212151000</td>\n",
       "      <td>PKP-565151</td>\n",
       "      <td>SND-18354182</td>\n",
       "      <td>Väga ilus, väga ilus. Tublid poisid olete. Pa...</td>\n",
       "      <td>2022</td>\n",
       "      <td>12</td>\n",
       "      <td>15</td>\n",
       "      <td>10:48</td>\n",
       "      <td>2926</td>\n",
       "      <td>https://www.youtube.com/watch?v=Wxpvs5IFpn4</td>\n",
       "    </tr>\n",
       "    <tr>\n",
       "      <th>47235</th>\n",
       "      <td>2.\\n                        10:15 Jõuluvana</td>\n",
       "      <td>Istung lõppes</td>\n",
       "      <td>None</td>\n",
       "      <td>https://stenogrammid.riigikogu.ee/202212151000</td>\n",
       "      <td>PKP-565151</td>\n",
       "      <td>SND-18354210</td>\n",
       "      <td></td>\n",
       "      <td>2022</td>\n",
       "      <td>12</td>\n",
       "      <td>15</td>\n",
       "      <td>10:52</td>\n",
       "      <td>None</td>\n",
       "      <td>None</td>\n",
       "    </tr>\n",
       "  </tbody>\n",
       "</table>\n",
       "</div>"
      ],
      "text/plain": [
       "                                           heading             speaker  \\\n",
       "47231  2.\\n                        10:15 Jõuluvana          Jaak Juske   \n",
       "47232  2.\\n                        10:15 Jõuluvana           Jõuluvana   \n",
       "47233  2.\\n                        10:15 Jõuluvana  Toomas Jürgenstein   \n",
       "47234  2.\\n                        10:15 Jõuluvana           Jõuluvana   \n",
       "47235  2.\\n                        10:15 Jõuluvana       Istung lõppes   \n",
       "\n",
       "                                              link_video  \\\n",
       "47231  https://www.youtube.com/watch?v=Wxpvs5IFpn4&t=...   \n",
       "47232  https://www.youtube.com/watch?v=Wxpvs5IFpn4&t=...   \n",
       "47233  https://www.youtube.com/watch?v=Wxpvs5IFpn4&t=...   \n",
       "47234  https://www.youtube.com/watch?v=Wxpvs5IFpn4&t=...   \n",
       "47235                                               None   \n",
       "\n",
       "                                           link_steno    index_pk  \\\n",
       "47231  https://stenogrammid.riigikogu.ee/202212151000  PKP-565151   \n",
       "47232  https://stenogrammid.riigikogu.ee/202212151000  PKP-565151   \n",
       "47233  https://stenogrammid.riigikogu.ee/202212151000  PKP-565151   \n",
       "47234  https://stenogrammid.riigikogu.ee/202212151000  PKP-565151   \n",
       "47235  https://stenogrammid.riigikogu.ee/202212151000  PKP-565151   \n",
       "\n",
       "          index_snd                                               text  year  \\\n",
       "47231  SND-18354221   See lõppev aasta polnud kerge. / Sõda muutis ...  2022   \n",
       "47232  SND-18354224                              Väga ilus, väga ilus!  2022   \n",
       "47233  SND-18354189   Head kolleegid! Hea jõuluvana! Enne tegin ma ...  2022   \n",
       "47234  SND-18354182   Väga ilus, väga ilus. Tublid poisid olete. Pa...  2022   \n",
       "47235  SND-18354210                                                     2022   \n",
       "\n",
       "      month day   time seconds_from_start  \\\n",
       "47231    12  15  10:46               2775   \n",
       "47232    12  15  10:47               2841   \n",
       "47233    12  15  10:47               2846   \n",
       "47234    12  15  10:48               2926   \n",
       "47235    12  15  10:52               None   \n",
       "\n",
       "                                video_link_wo_time  \n",
       "47231  https://www.youtube.com/watch?v=Wxpvs5IFpn4  \n",
       "47232  https://www.youtube.com/watch?v=Wxpvs5IFpn4  \n",
       "47233  https://www.youtube.com/watch?v=Wxpvs5IFpn4  \n",
       "47234  https://www.youtube.com/watch?v=Wxpvs5IFpn4  \n",
       "47235                                         None  "
      ]
     },
     "execution_count": 12,
     "metadata": {},
     "output_type": "execute_result"
    }
   ],
   "source": [
    "df.tail()"
   ]
  },
  {
   "cell_type": "code",
   "execution_count": 13,
   "metadata": {
    "pycharm": {
     "name": "#%%\n"
    }
   },
   "outputs": [
    {
     "data": {
      "text/plain": [
       "(47236, 13)"
      ]
     },
     "execution_count": 13,
     "metadata": {},
     "output_type": "execute_result"
    }
   ],
   "source": [
    "df.shape"
   ]
  },
  {
   "cell_type": "code",
   "execution_count": 14,
   "metadata": {
    "pycharm": {
     "name": "#%%\n"
    }
   },
   "outputs": [
    {
     "data": {
      "text/plain": [
       "1561"
      ]
     },
     "execution_count": 14,
     "metadata": {},
     "output_type": "execute_result"
    }
   ],
   "source": [
    "df.index_pk.nunique()"
   ]
  },
  {
   "cell_type": "code",
   "execution_count": 15,
   "metadata": {
    "pycharm": {
     "name": "#%%\n"
    }
   },
   "outputs": [
    {
     "data": {
      "text/plain": [
       "47236"
      ]
     },
     "execution_count": 15,
     "metadata": {},
     "output_type": "execute_result"
    }
   ],
   "source": [
    "df.index_snd.nunique()"
   ]
  },
  {
   "cell_type": "code",
   "execution_count": 16,
   "metadata": {
    "pycharm": {
     "name": "#%%\n"
    }
   },
   "outputs": [
    {
     "data": {
      "text/plain": [
       "(0, 13)"
      ]
     },
     "execution_count": 16,
     "metadata": {},
     "output_type": "execute_result"
    }
   ],
   "source": [
    "#any missing time from steno start\n",
    "df[pd.isnull(df.seconds_from_start)].shape"
   ]
  },
  {
   "cell_type": "code",
   "execution_count": 17,
   "metadata": {
    "pycharm": {
     "name": "#%%\n"
    }
   },
   "outputs": [
    {
     "data": {
      "text/plain": [
       "211"
      ]
     },
     "execution_count": 17,
     "metadata": {},
     "output_type": "execute_result"
    }
   ],
   "source": [
    "#nr of unique stenograms\n",
    "df.link_steno.nunique()"
   ]
  },
  {
   "cell_type": "code",
   "execution_count": 18,
   "metadata": {
    "pycharm": {
     "name": "#%%\n"
    }
   },
   "outputs": [
    {
     "data": {
      "text/plain": [
       "(44880, 219)"
      ]
     },
     "execution_count": 18,
     "metadata": {},
     "output_type": "execute_result"
    }
   ],
   "source": [
    "#nr of unique videos\n",
    "df.link_video.nunique(), df.video_link_wo_time.nunique()"
   ]
  },
  {
   "cell_type": "markdown",
   "metadata": {
    "pycharm": {
     "name": "#%% md\n"
    }
   },
   "source": [
    "## Quick overview"
   ]
  },
  {
   "cell_type": "code",
   "execution_count": 19,
   "metadata": {
    "pycharm": {
     "name": "#%%\n"
    }
   },
   "outputs": [
    {
     "data": {
      "text/plain": [
       "<Axes: xlabel='year'>"
      ]
     },
     "execution_count": 19,
     "metadata": {},
     "output_type": "execute_result"
    },
    {
     "data": {
      "image/png": "[encoded data removed]",
      "text/plain": [
       "<Figure size 640x480 with 1 Axes>"
      ]
     },
     "metadata": {},
     "output_type": "display_data"
    }
   ],
   "source": [
    "#nr of steno segments per year\n",
    "df.groupby('year').count()['link_steno'].plot()"
   ]
  },
  {
   "cell_type": "code",
   "execution_count": 20,
   "metadata": {
    "pycharm": {
     "name": "#%%\n"
    }
   },
   "outputs": [
    {
     "data": {
      "text/plain": [
       "<Axes: xlabel='month'>"
      ]
     },
     "execution_count": 20,
     "metadata": {},
     "output_type": "execute_result"
    },
    {
     "data": {
      "image/png": "[encoded data removed]",
      "text/plain": [
       "<Figure size 640x480 with 1 Axes>"
      ]
     },
     "metadata": {},
     "output_type": "display_data"
    }
   ],
   "source": [
    "#nr steno segments per month (across all years)\n",
    "df.groupby('month').count()['link_steno'].plot()"
   ]
  },
  {
   "cell_type": "code",
   "execution_count": 21,
   "metadata": {
    "pycharm": {
     "name": "#%%\n"
    }
   },
   "outputs": [
    {
     "data": {
      "text/plain": [
       "<Axes: xlabel='day'>"
      ]
     },
     "execution_count": 21,
     "metadata": {},
     "output_type": "execute_result"
    },
    {
     "data": {
      "image/png": "[encoded data removed]",
      "text/plain": [
       "<Figure size 640x480 with 1 Axes>"
      ]
     },
     "metadata": {},
     "output_type": "display_data"
    }
   ],
   "source": [
    "#nr steno segments per day (across years)\n",
    "df.groupby('day').count()['link_steno'].plot()"
   ]
  },
  {
   "cell_type": "code",
   "execution_count": 22,
   "metadata": {
    "pycharm": {
     "name": "#%%\n"
    }
   },
   "outputs": [
    {
     "data": {
      "text/plain": [
       "<matplotlib.legend.Legend at 0x2032d1ddb20>"
      ]
     },
     "execution_count": 22,
     "metadata": {},
     "output_type": "execute_result"
    },
    {
     "data": {
      "image/png": "[encoded data removed]",
      "text/plain": [
       "<Figure size 640x480 with 1 Axes>"
      ]
     },
     "metadata": {},
     "output_type": "display_data"
    }
   ],
   "source": [
    "#nr steno segments per month in each year\n",
    "ax=df.groupby(['month','year']).count()['link_steno'].unstack().plot()\n",
    "ax.legend(bbox_to_anchor=(1.1, 1.05))"
   ]
  },
  {
   "cell_type": "code",
   "execution_count": 23,
   "metadata": {
    "pycharm": {
     "name": "#%%\n"
    }
   },
   "outputs": [
    {
     "data": {
      "text/plain": [
       "(253, 253)"
      ]
     },
     "execution_count": 23,
     "metadata": {},
     "output_type": "execute_result"
    }
   ],
   "source": [
    "#unique speakers, check if have different capitalization\n",
    "df.speaker.nunique(), df.speaker.str.lower().nunique()"
   ]
  },
  {
   "cell_type": "code",
   "execution_count": 24,
   "metadata": {
    "pycharm": {
     "name": "#%%\n"
    }
   },
   "outputs": [
    {
     "data": {
      "text/plain": [
       "<Axes: >"
      ]
     },
     "execution_count": 24,
     "metadata": {},
     "output_type": "execute_result"
    },
    {
     "data": {
      "image/png": "[encoded data removed]",
      "text/plain": [
       "<Figure size 640x480 with 1 Axes>"
      ]
     },
     "metadata": {},
     "output_type": "display_data"
    }
   ],
   "source": [
    "#nr of steno segments per speaker histogram\n",
    "df.speaker.value_counts().hist(bins=30)"
   ]
  },
  {
   "cell_type": "code",
   "execution_count": 25,
   "metadata": {
    "pycharm": {
     "name": "#%%\n"
    }
   },
   "outputs": [
    {
     "data": {
      "text/plain": [
       "(186.70355731225297, 50.0)"
      ]
     },
     "execution_count": 25,
     "metadata": {},
     "output_type": "execute_result"
    }
   ],
   "source": [
    "#median and mean steno segments per speaker\n",
    "df.speaker.value_counts().mean(), df.speaker.value_counts().median()"
   ]
  },
  {
   "cell_type": "markdown",
   "metadata": {
    "pycharm": {
     "name": "#%% md\n"
    }
   },
   "source": [
    "## Save"
   ]
  },
  {
   "cell_type": "code",
   "execution_count": 26,
   "metadata": {
    "pycharm": {
     "name": "#%%\n"
    }
   },
   "outputs": [],
   "source": [
    "df.to_csv('data/interim/stenos2023.csv',index=False)"
   ]
  },
  {
   "cell_type": "code",
   "execution_count": null,
   "metadata": {
    "pycharm": {
     "name": "#%%\n"
    }
   },
   "outputs": [],
   "source": []
  }
 ],
 "metadata": {
  "kernelspec": {
   "display_name": "Python 3 (ipykernel)",
   "language": "python",
   "name": "python3"
  },
  "language_info": {
   "codemirror_mode": {
    "name": "ipython",
    "version": 3
   },
   "file_extension": ".py",
   "mimetype": "text/x-python",
   "name": "python",
   "nbconvert_exporter": "python",
   "pygments_lexer": "ipython3",
   "version": "3.9.12"
  }
 },
 "nbformat": 4,
 "nbformat_minor": 4
}
