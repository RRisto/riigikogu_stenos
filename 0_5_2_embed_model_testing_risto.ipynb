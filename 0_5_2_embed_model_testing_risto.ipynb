{
 "cells": [
  {
   "cell_type": "code",
   "execution_count": 1,
   "id": "ed79c6f9-73b7-4f59-b9f1-faaa53473eb0",
   "metadata": {
    "pycharm": {
     "name": "#%%\n"
    }
   },
   "outputs": [
    {
     "name": "stderr",
     "output_type": "stream",
     "text": [
      "2024-09-11 15:55:14.539224: W tensorflow/stream_executor/platform/default/dso_loader.cc:64] Could not load dynamic library 'libcudart.so.11.0'; dlerror: libcudart.so.11.0: cannot open shared object file: No such file or directory\n",
      "2024-09-11 15:55:14.539243: I tensorflow/stream_executor/cuda/cudart_stub.cc:29] Ignore above cudart dlerror if you do not have a GPU set up on your machine.\n"
     ]
    },
    {
     "name": "stdout",
     "output_type": "stream",
     "text": [
      "WARNING: faiss must be imported for indexing\n"
     ]
    }
   ],
   "source": [
    "import umap\n",
    "import torch\n",
    "import pandas as pd\n",
    "import numpy as np\n",
    "from bertopic import BERTopic\n",
    "import matplotlib.pyplot as plt\n",
    "import seaborn as sns\n",
    "from sentence_transformers import SentenceTransformer\n",
    "from colbert.modeling.checkpoint import Checkpoint\n",
    "from colbert.infra import ColBERTConfig\n",
    "import pandas as pd\n",
    "from scipy.stats import chi2_contingency\n",
    "import math\n",
    "pd.set_option('display.max_colwidth',-1)"
   ]
  },
  {
   "cell_type": "markdown",
   "id": "fc265528-a964-4e90-b111-f633bec0b138",
   "metadata": {
    "pycharm": {
     "name": "#%% md\n"
    }
   },
   "source": [
    "## Load data"
   ]
  },
  {
   "cell_type": "code",
   "execution_count": 2,
   "id": "48378b04-5a52-4696-8d42-f9d301516fa2",
   "metadata": {
    "pycharm": {
     "name": "#%%\n"
    }
   },
   "outputs": [],
   "source": [
    "#!unzip data/interim/stenos_cleaned_faction2022_topics.zip"
   ]
  },
  {
   "cell_type": "code",
   "execution_count": 3,
   "id": "54dbb456-7302-4fea-95d0-929d42b3c635",
   "metadata": {
    "pycharm": {
     "name": "#%%\n"
    }
   },
   "outputs": [
    {
     "data": {
      "text/plain": [
       "(465494, 27)"
      ]
     },
     "execution_count": 3,
     "metadata": {},
     "output_type": "execute_result"
    }
   ],
   "source": [
    "df=pd.read_csv('data/interim/stenos_cleaned_faction2022_topics.csv')\n",
    "df.shape"
   ]
  },
  {
   "cell_type": "code",
   "execution_count": 4,
   "id": "62d31623-9bcc-4e3d-9fd6-fe2de7e4b3b9",
   "metadata": {
    "pycharm": {
     "name": "#%%\n"
    }
   },
   "outputs": [
    {
     "data": {
      "text/html": [
       "<div>\n",
       "<style scoped>\n",
       "    .dataframe tbody tr th:only-of-type {\n",
       "        vertical-align: middle;\n",
       "    }\n",
       "\n",
       "    .dataframe tbody tr th {\n",
       "        vertical-align: top;\n",
       "    }\n",
       "\n",
       "    .dataframe thead th {\n",
       "        text-align: right;\n",
       "    }\n",
       "</style>\n",
       "<table border=\"1\" class=\"dataframe\">\n",
       "  <thead>\n",
       "    <tr style=\"text-align: right;\">\n",
       "      <th></th>\n",
       "      <th>heading</th>\n",
       "      <th>speaker</th>\n",
       "      <th>link_video</th>\n",
       "      <th>link_steno</th>\n",
       "      <th>index_pk</th>\n",
       "      <th>index_snd</th>\n",
       "      <th>year</th>\n",
       "      <th>month</th>\n",
       "      <th>day</th>\n",
       "      <th>time</th>\n",
       "      <th>...</th>\n",
       "      <th>ntoks_splitted</th>\n",
       "      <th>doc_id</th>\n",
       "      <th>topic_id</th>\n",
       "      <th>topic_prob</th>\n",
       "      <th>Name</th>\n",
       "      <th>cluster_name</th>\n",
       "      <th>cluster_name_very_high</th>\n",
       "      <th>topic_reduce_outliers</th>\n",
       "      <th>Name_red_outliers</th>\n",
       "      <th>fation</th>\n",
       "    </tr>\n",
       "  </thead>\n",
       "  <tbody>\n",
       "    <tr>\n",
       "      <th>0</th>\n",
       "      <td>10:00  Istungi rakendamine</td>\n",
       "      <td>Aseesimees Siim Kallas</td>\n",
       "      <td>https://www.youtube.com/watch?v=GaFL2Zc4OMg&amp;t=0</td>\n",
       "      <td>https://stenogrammid.riigikogu.ee/201911191000</td>\n",
       "      <td>PKP-25040</td>\n",
       "      <td>SND-559399</td>\n",
       "      <td>2019</td>\n",
       "      <td>11</td>\n",
       "      <td>19</td>\n",
       "      <td>10:00</td>\n",
       "      <td>...</td>\n",
       "      <td>77</td>\n",
       "      <td>0</td>\n",
       "      <td>273.0</td>\n",
       "      <td>0.652444</td>\n",
       "      <td>273_kohaloleku_kontroll_arupärimisi_töönädala</td>\n",
       "      <td>istungjärgu_töönädala_arupärimisi_istungit_tere</td>\n",
       "      <td>palun_lugemine_juhtivkomisjoni_läbirääkimisi_kõnesoove</td>\n",
       "      <td>273.0</td>\n",
       "      <td>273_kohaloleku_kontroll_arupärimisi_töönädala</td>\n",
       "      <td>NaN</td>\n",
       "    </tr>\n",
       "    <tr>\n",
       "      <th>1</th>\n",
       "      <td>1.\\n                        10:02  Eesti Keskerakonna fraktsiooni algatatud olulise tähtsusega riikliku küsimuse \"Maksusüsteem – kuidas edasi?\" arutelu</td>\n",
       "      <td>Aseesimees Siim Kallas</td>\n",
       "      <td>https://www.youtube.com/watch?v=GaFL2Zc4OMg&amp;t=125</td>\n",
       "      <td>https://stenogrammid.riigikogu.ee/201911191000</td>\n",
       "      <td>PKP-25041</td>\n",
       "      <td>SND-559400</td>\n",
       "      <td>2019</td>\n",
       "      <td>11</td>\n",
       "      <td>19</td>\n",
       "      <td>10:02</td>\n",
       "      <td>...</td>\n",
       "      <td>80</td>\n",
       "      <td>1</td>\n",
       "      <td>1243.0</td>\n",
       "      <td>0.572646</td>\n",
       "      <td>1243_ettekanne_teostamisel_minutit_tegevusest</td>\n",
       "      <td>ettekanne_minutit_kuni_vastused_fraktsioonide</td>\n",
       "      <td>palun_lugemine_juhtivkomisjoni_läbirääkimisi_kõnesoove</td>\n",
       "      <td>1243.0</td>\n",
       "      <td>1243_ettekanne_teostamisel_minutit_tegevusest</td>\n",
       "      <td>NaN</td>\n",
       "    </tr>\n",
       "    <tr>\n",
       "      <th>2</th>\n",
       "      <td>1.\\n                        10:02  Eesti Keskerakonna fraktsiooni algatatud olulise tähtsusega riikliku küsimuse \"Maksusüsteem – kuidas edasi?\" arutelu</td>\n",
       "      <td>Aseesimees Siim Kallas</td>\n",
       "      <td>https://www.youtube.com/watch?v=GaFL2Zc4OMg&amp;t=125</td>\n",
       "      <td>https://stenogrammid.riigikogu.ee/201911191000</td>\n",
       "      <td>PKP-25041</td>\n",
       "      <td>SND-559400</td>\n",
       "      <td>2019</td>\n",
       "      <td>11</td>\n",
       "      <td>19</td>\n",
       "      <td>10:02</td>\n",
       "      <td>...</td>\n",
       "      <td>80</td>\n",
       "      <td>2</td>\n",
       "      <td>207.0</td>\n",
       "      <td>0.850651</td>\n",
       "      <td>207_ettekanne_sõnavõttudega_minutit_vastused</td>\n",
       "      <td>ettekanne_minutit_kuni_vastused_fraktsioonide</td>\n",
       "      <td>palun_lugemine_juhtivkomisjoni_läbirääkimisi_kõnesoove</td>\n",
       "      <td>207.0</td>\n",
       "      <td>207_ettekanne_sõnavõttudega_minutit_vastused</td>\n",
       "      <td>NaN</td>\n",
       "    </tr>\n",
       "    <tr>\n",
       "      <th>3</th>\n",
       "      <td>1.\\n                        10:02  Eesti Keskerakonna fraktsiooni algatatud olulise tähtsusega riikliku küsimuse \"Maksusüsteem – kuidas edasi?\" arutelu</td>\n",
       "      <td>Aseesimees Siim Kallas</td>\n",
       "      <td>https://www.youtube.com/watch?v=GaFL2Zc4OMg&amp;t=125</td>\n",
       "      <td>https://stenogrammid.riigikogu.ee/201911191000</td>\n",
       "      <td>PKP-25041</td>\n",
       "      <td>SND-559400</td>\n",
       "      <td>2019</td>\n",
       "      <td>11</td>\n",
       "      <td>19</td>\n",
       "      <td>10:02</td>\n",
       "      <td>...</td>\n",
       "      <td>75</td>\n",
       "      <td>3</td>\n",
       "      <td>139.0</td>\n",
       "      <td>0.818905</td>\n",
       "      <td>139_ammendumiseni_pikendada_kauem_kella</td>\n",
       "      <td>kella_ammendumiseni_pikendada_kauem_ni</td>\n",
       "      <td>palun_lugemine_juhtivkomisjoni_läbirääkimisi_kõnesoove</td>\n",
       "      <td>139.0</td>\n",
       "      <td>139_ammendumiseni_pikendada_kauem_kella</td>\n",
       "      <td>NaN</td>\n",
       "    </tr>\n",
       "    <tr>\n",
       "      <th>4</th>\n",
       "      <td>1.\\n                        10:02  Eesti Keskerakonna fraktsiooni algatatud olulise tähtsusega riikliku küsimuse \"Maksusüsteem – kuidas edasi?\" arutelu</td>\n",
       "      <td>Kersti Sarapuu</td>\n",
       "      <td>https://www.youtube.com/watch?v=GaFL2Zc4OMg&amp;t=238</td>\n",
       "      <td>https://stenogrammid.riigikogu.ee/201911191000</td>\n",
       "      <td>PKP-25041</td>\n",
       "      <td>SND-559401</td>\n",
       "      <td>2019</td>\n",
       "      <td>11</td>\n",
       "      <td>19</td>\n",
       "      <td>10:02</td>\n",
       "      <td>...</td>\n",
       "      <td>80</td>\n",
       "      <td>4</td>\n",
       "      <td>-1.0</td>\n",
       "      <td>0.000000</td>\n",
       "      <td>-1_ma_te_me_et</td>\n",
       "      <td>-1_ma_te_me_et</td>\n",
       "      <td>-1_ma_te_me_et</td>\n",
       "      <td>1461.0</td>\n",
       "      <td>1461_maksude_maksud_maksudega_mängita</td>\n",
       "      <td>Eesti Keskerakonna fraktsioon</td>\n",
       "    </tr>\n",
       "  </tbody>\n",
       "</table>\n",
       "<p>5 rows × 27 columns</p>\n",
       "</div>"
      ],
      "text/plain": [
       "                                                                                                                                                   heading  \\\n",
       "0  10:00  Istungi rakendamine                                                                                                                                \n",
       "1  1.\\n                        10:02  Eesti Keskerakonna fraktsiooni algatatud olulise tähtsusega riikliku küsimuse \"Maksusüsteem – kuidas edasi?\" arutelu   \n",
       "2  1.\\n                        10:02  Eesti Keskerakonna fraktsiooni algatatud olulise tähtsusega riikliku küsimuse \"Maksusüsteem – kuidas edasi?\" arutelu   \n",
       "3  1.\\n                        10:02  Eesti Keskerakonna fraktsiooni algatatud olulise tähtsusega riikliku küsimuse \"Maksusüsteem – kuidas edasi?\" arutelu   \n",
       "4  1.\\n                        10:02  Eesti Keskerakonna fraktsiooni algatatud olulise tähtsusega riikliku küsimuse \"Maksusüsteem – kuidas edasi?\" arutelu   \n",
       "\n",
       "                  speaker                                         link_video  \\\n",
       "0  Aseesimees Siim Kallas  https://www.youtube.com/watch?v=GaFL2Zc4OMg&t=0     \n",
       "1  Aseesimees Siim Kallas  https://www.youtube.com/watch?v=GaFL2Zc4OMg&t=125   \n",
       "2  Aseesimees Siim Kallas  https://www.youtube.com/watch?v=GaFL2Zc4OMg&t=125   \n",
       "3  Aseesimees Siim Kallas  https://www.youtube.com/watch?v=GaFL2Zc4OMg&t=125   \n",
       "4  Kersti Sarapuu          https://www.youtube.com/watch?v=GaFL2Zc4OMg&t=238   \n",
       "\n",
       "                                       link_steno   index_pk   index_snd  \\\n",
       "0  https://stenogrammid.riigikogu.ee/201911191000  PKP-25040  SND-559399   \n",
       "1  https://stenogrammid.riigikogu.ee/201911191000  PKP-25041  SND-559400   \n",
       "2  https://stenogrammid.riigikogu.ee/201911191000  PKP-25041  SND-559400   \n",
       "3  https://stenogrammid.riigikogu.ee/201911191000  PKP-25041  SND-559400   \n",
       "4  https://stenogrammid.riigikogu.ee/201911191000  PKP-25041  SND-559401   \n",
       "\n",
       "   year  month  day   time  ... ntoks_splitted doc_id topic_id topic_prob  \\\n",
       "0  2019  11     19   10:00  ...  77             0      273.0    0.652444    \n",
       "1  2019  11     19   10:02  ...  80             1      1243.0   0.572646    \n",
       "2  2019  11     19   10:02  ...  80             2      207.0    0.850651    \n",
       "3  2019  11     19   10:02  ...  75             3      139.0    0.818905    \n",
       "4  2019  11     19   10:02  ...  80             4     -1.0      0.000000    \n",
       "\n",
       "                                            Name  \\\n",
       "0  273_kohaloleku_kontroll_arupärimisi_töönädala   \n",
       "1  1243_ettekanne_teostamisel_minutit_tegevusest   \n",
       "2  207_ettekanne_sõnavõttudega_minutit_vastused    \n",
       "3  139_ammendumiseni_pikendada_kauem_kella         \n",
       "4  -1_ma_te_me_et                                  \n",
       "\n",
       "                                      cluster_name  \\\n",
       "0  istungjärgu_töönädala_arupärimisi_istungit_tere   \n",
       "1  ettekanne_minutit_kuni_vastused_fraktsioonide     \n",
       "2  ettekanne_minutit_kuni_vastused_fraktsioonide     \n",
       "3  kella_ammendumiseni_pikendada_kauem_ni            \n",
       "4  -1_ma_te_me_et                                    \n",
       "\n",
       "                                   cluster_name_very_high  \\\n",
       "0  palun_lugemine_juhtivkomisjoni_läbirääkimisi_kõnesoove   \n",
       "1  palun_lugemine_juhtivkomisjoni_läbirääkimisi_kõnesoove   \n",
       "2  palun_lugemine_juhtivkomisjoni_läbirääkimisi_kõnesoove   \n",
       "3  palun_lugemine_juhtivkomisjoni_läbirääkimisi_kõnesoove   \n",
       "4  -1_ma_te_me_et                                           \n",
       "\n",
       "   topic_reduce_outliers                              Name_red_outliers  \\\n",
       "0  273.0                  273_kohaloleku_kontroll_arupärimisi_töönädala   \n",
       "1  1243.0                 1243_ettekanne_teostamisel_minutit_tegevusest   \n",
       "2  207.0                  207_ettekanne_sõnavõttudega_minutit_vastused    \n",
       "3  139.0                  139_ammendumiseni_pikendada_kauem_kella         \n",
       "4  1461.0                 1461_maksude_maksud_maksudega_mängita           \n",
       "\n",
       "                          fation  \n",
       "0  NaN                            \n",
       "1  NaN                            \n",
       "2  NaN                            \n",
       "3  NaN                            \n",
       "4  Eesti Keskerakonna fraktsioon  \n",
       "\n",
       "[5 rows x 27 columns]"
      ]
     },
     "execution_count": 4,
     "metadata": {},
     "output_type": "execute_result"
    }
   ],
   "source": [
    "df.head()"
   ]
  },
  {
   "cell_type": "code",
   "execution_count": 5,
   "id": "f54626c8-d1af-4896-963e-650c0b6f36bf",
   "metadata": {
    "pycharm": {
     "name": "#%%\n"
    }
   },
   "outputs": [
    {
     "data": {
      "text/plain": [
       "Index(['heading', 'speaker', 'link_video', 'link_steno', 'index_pk',\n",
       "       'index_snd', 'year', 'month', 'day', 'time', 'seconds_from_start',\n",
       "       'video_link_wo_time', 'text_wo_punct', 'date', 'koosseis', 'ntoks',\n",
       "       'text_splitted', 'ntoks_splitted', 'doc_id', 'topic_id', 'topic_prob',\n",
       "       'Name', 'cluster_name', 'cluster_name_very_high',\n",
       "       'topic_reduce_outliers', 'Name_red_outliers', 'fation'],\n",
       "      dtype='object')"
      ]
     },
     "execution_count": 5,
     "metadata": {},
     "output_type": "execute_result"
    }
   ],
   "source": [
    "df.columns"
   ]
  },
  {
   "cell_type": "code",
   "execution_count": 6,
   "id": "b2de11a1-49f9-4abe-9f1c-d1b31c367a77",
   "metadata": {
    "pycharm": {
     "name": "#%%\n"
    }
   },
   "outputs": [
    {
     "data": {
      "text/plain": [
       "413761"
      ]
     },
     "execution_count": 6,
     "metadata": {},
     "output_type": "execute_result"
    }
   ],
   "source": [
    "df.text_splitted.nunique()"
   ]
  },
  {
   "cell_type": "code",
   "execution_count": 7,
   "id": "44607da3-fb94-4ff2-9bd9-71580f3cf123",
   "metadata": {
    "pycharm": {
     "name": "#%%\n"
    }
   },
   "outputs": [
    {
     "data": {
      "text/plain": [
       "(465494, 27)"
      ]
     },
     "execution_count": 7,
     "metadata": {},
     "output_type": "execute_result"
    }
   ],
   "source": [
    "df.shape"
   ]
  },
  {
   "cell_type": "markdown",
   "id": "56cb972b-390d-43d3-a1a1-2603304c2907",
   "metadata": {
    "pycharm": {
     "name": "#%% md\n"
    }
   },
   "source": [
    "## Embed some texts"
   ]
  },
  {
   "cell_type": "code",
   "execution_count": 8,
   "id": "6ffeea4d-7188-4ff3-ad01-61068ad65673",
   "metadata": {
    "pycharm": {
     "name": "#%%\n"
    }
   },
   "outputs": [],
   "source": [
    "df_subset=df.iloc[-50000:,]"
   ]
  },
  {
   "cell_type": "markdown",
   "id": "34c1c26b-6424-4632-a3ec-0b9cef976030",
   "metadata": {
    "pycharm": {
     "name": "#%% md\n"
    }
   },
   "source": [
    "### BGE"
   ]
  },
  {
   "cell_type": "code",
   "execution_count": 9,
   "id": "ef0700c9-1954-4359-af0d-a78363c21d81",
   "metadata": {
    "pycharm": {
     "name": "#%%\n"
    }
   },
   "outputs": [],
   "source": [
    "model = SentenceTransformer('BAAI/bge-m3')\n",
    "embeddings = model.encode(df_subset.text_splitted.tolist(), normalize_embeddings=True)"
   ]
  },
  {
   "cell_type": "code",
   "execution_count": 10,
   "id": "41e74837-b0d0-4810-abbb-ec3f74840c48",
   "metadata": {
    "pycharm": {
     "name": "#%%\n"
    }
   },
   "outputs": [
    {
     "data": {
      "text/plain": [
       "(50000, 1024)"
      ]
     },
     "execution_count": 10,
     "metadata": {},
     "output_type": "execute_result"
    }
   ],
   "source": [
    "embeddings.shape"
   ]
  },
  {
   "cell_type": "markdown",
   "id": "f7f29c17-91e1-4ca9-923d-188352af500c",
   "metadata": {
    "pycharm": {
     "name": "#%% md\n"
    }
   },
   "source": [
    "### Cluster texts"
   ]
  },
  {
   "cell_type": "code",
   "execution_count": 11,
   "id": "c4618899-38a7-42bc-87e1-1f85dc61827c",
   "metadata": {
    "pycharm": {
     "name": "#%%\n"
    }
   },
   "outputs": [],
   "source": [
    "import umap\n",
    "\n",
    "# Reduce dimensions using UMAP\n",
    "umap_reducer = umap.UMAP(n_components=2, random_state=42)\n",
    "reduced_embeddings = umap_reducer.fit_transform(embeddings)"
   ]
  },
  {
   "cell_type": "code",
   "execution_count": 12,
   "id": "b7de7a4b-bd70-43f3-9401-93dd64c18801",
   "metadata": {
    "pycharm": {
     "name": "#%%\n"
    }
   },
   "outputs": [
    {
     "name": "stdout",
     "output_type": "stream",
     "text": [
      "[ 85 234 234 ... 234 234 234]\n"
     ]
    }
   ],
   "source": [
    "import hdbscan\n",
    "\n",
    "# Perform clustering using HDBSCAN\n",
    "clusterer = hdbscan.HDBSCAN(min_cluster_size=2, min_samples=1, cluster_selection_epsilon=0.1)\n",
    "labels = clusterer.fit_predict(reduced_embeddings)\n",
    "\n",
    "# Print the cluster labels\n",
    "print(labels)"
   ]
  },
  {
   "cell_type": "code",
   "execution_count": 13,
   "id": "d18d8c52-cfa4-4ee9-aad3-8f45cf7df0c3",
   "metadata": {
    "pycharm": {
     "name": "#%%\n"
    }
   },
   "outputs": [
    {
     "data": {
      "text/plain": [
       "236"
      ]
     },
     "execution_count": 13,
     "metadata": {},
     "output_type": "execute_result"
    }
   ],
   "source": [
    "len(set(labels))"
   ]
  },
  {
   "cell_type": "code",
   "execution_count": 14,
   "id": "2ff9c5f0-ccc7-49da-b026-64f764328642",
   "metadata": {
    "pycharm": {
     "name": "#%%\n"
    }
   },
   "outputs": [
    {
     "data": {
      "image/png": "[encoded data removed]",
      "text/plain": [
       "<Figure size 432x288 with 2 Axes>"
      ]
     },
     "metadata": {
      "needs_background": "light"
     },
     "output_type": "display_data"
    }
   ],
   "source": [
    "import matplotlib.pyplot as plt\n",
    "\n",
    "# Plot UMAP-reduced data with clusters\n",
    "plt.scatter(reduced_embeddings[:, 0], reduced_embeddings[:, 1], c=labels, cmap='Spectral', s=50)\n",
    "plt.colorbar()\n",
    "plt.show()"
   ]
  },
  {
   "cell_type": "markdown",
   "id": "31817a18-3cf2-4bec-a9b0-bb52fdab49c5",
   "metadata": {
    "pycharm": {
     "name": "#%% md\n"
    }
   },
   "source": [
    "### E5"
   ]
  },
  {
   "cell_type": "code",
   "execution_count": 15,
   "id": "6f96c6d3-44ca-43f5-8818-0e950b84a021",
   "metadata": {
    "pycharm": {
     "name": "#%%\n"
    }
   },
   "outputs": [],
   "source": [
    "model_e5 = SentenceTransformer('intfloat/multilingual-e5-large')\n",
    "embeddings_e5 = model_e5.encode(df_subset.text_splitted.tolist(), normalize_embeddings=True)"
   ]
  },
  {
   "cell_type": "code",
   "execution_count": 16,
   "id": "b51f0ce8-4501-4961-9dbe-f483440df69c",
   "metadata": {
    "pycharm": {
     "name": "#%%\n"
    }
   },
   "outputs": [],
   "source": [
    "# Reduce dimensions using UMAP\n",
    "umap_reducer = umap.UMAP(n_components=2, random_state=42)\n",
    "reduced_embeddings_e5 = umap_reducer.fit_transform(embeddings_e5)"
   ]
  },
  {
   "cell_type": "code",
   "execution_count": 17,
   "id": "268d2069-e3c1-4730-82dd-e20ee7917fea",
   "metadata": {
    "pycharm": {
     "name": "#%%\n"
    }
   },
   "outputs": [],
   "source": [
    "# Perform clustering using HDBSCAN\n",
    "clusterer = hdbscan.HDBSCAN(min_cluster_size=2, min_samples=1, cluster_selection_epsilon=0.1)\n",
    "labels_e5 = clusterer.fit_predict(reduced_embeddings_e5)"
   ]
  },
  {
   "cell_type": "code",
   "execution_count": 18,
   "id": "6533baa9-2abe-4196-9b39-379f5bff3fc1",
   "metadata": {
    "pycharm": {
     "name": "#%%\n"
    }
   },
   "outputs": [
    {
     "data": {
      "image/png": "[encoded data removed]",
      "text/plain": [
       "<Figure size 432x288 with 2 Axes>"
      ]
     },
     "metadata": {
      "needs_background": "light"
     },
     "output_type": "display_data"
    }
   ],
   "source": [
    "# Plot UMAP-reduced data with clusters\n",
    "plt.scatter(reduced_embeddings_e5[:, 0], reduced_embeddings_e5[:, 1], c=labels, cmap='Spectral', s=50)\n",
    "plt.colorbar()\n",
    "plt.show()"
   ]
  },
  {
   "cell_type": "markdown",
   "id": "5f04b748-7a75-425b-a45c-276eb6d9d198",
   "metadata": {
    "pycharm": {
     "name": "#%% md\n"
    }
   },
   "source": [
    "## colbert"
   ]
  },
  {
   "cell_type": "code",
   "execution_count": 19,
   "id": "e34ab5bc-c748-4a9b-bbb5-bc9904614bae",
   "metadata": {
    "pycharm": {
     "name": "#%%\n"
    }
   },
   "outputs": [],
   "source": [
    "ckpt = Checkpoint(\"answerdotai/answerai-colbert-small-v1\", colbert_config=ColBERTConfig())\n",
    "embedded_query = ckpt.queryFromText([\"Who dubs Howl's in English?\"], bsize=16)"
   ]
  },
  {
   "cell_type": "code",
   "execution_count": 20,
   "id": "d312ba35-2940-4d9c-81ec-9c67249c9581",
   "metadata": {
    "pycharm": {
     "name": "#%%\n"
    }
   },
   "outputs": [],
   "source": [
    "embs_colbert=ckpt.queryFromText(df_subset.text_splitted.tolist(), bsize=16)"
   ]
  },
  {
   "cell_type": "code",
   "execution_count": 21,
   "id": "98407002-0e99-4a0d-9b5f-9bef5d80efc6",
   "metadata": {
    "pycharm": {
     "name": "#%%\n"
    }
   },
   "outputs": [],
   "source": [
    "embs_colbert_cls_pool=embs_colbert[:, 0, :]"
   ]
  },
  {
   "cell_type": "code",
   "execution_count": 22,
   "id": "75d5b393-3e06-4a71-a5a8-192a37564a9e",
   "metadata": {
    "pycharm": {
     "name": "#%%\n"
    }
   },
   "outputs": [],
   "source": [
    "embs_colbert_mean_pool=torch.mean(embs_colbert, dim=1) "
   ]
  },
  {
   "cell_type": "code",
   "execution_count": 23,
   "id": "33755b46-1cbd-4bff-a288-92e9d14c9e29",
   "metadata": {
    "pycharm": {
     "name": "#%%\n"
    }
   },
   "outputs": [],
   "source": [
    "# Reduce dimensions using UMAP\n",
    "umap_reducer = umap.UMAP(n_components=2, random_state=42)\n",
    "reduced_embeddings_colb_cls_pool = umap_reducer.fit_transform(embs_colbert_cls_pool.cpu())"
   ]
  },
  {
   "cell_type": "code",
   "execution_count": 24,
   "id": "e274ff6d-448c-4e47-b400-9cf35bec2e00",
   "metadata": {
    "pycharm": {
     "name": "#%%\n"
    }
   },
   "outputs": [],
   "source": [
    "# Perform clustering using HDBSCAN\n",
    "clusterer = hdbscan.HDBSCAN(min_cluster_size=2, min_samples=1, cluster_selection_epsilon=0.1)\n",
    "labels_colb_cls = clusterer.fit_predict(reduced_embeddings_colb_cls_pool)"
   ]
  },
  {
   "cell_type": "code",
   "execution_count": 25,
   "id": "dd49f89a-09dd-4ea5-a2e6-ead895c5ad88",
   "metadata": {
    "pycharm": {
     "name": "#%%\n"
    }
   },
   "outputs": [
    {
     "data": {
      "image/png": "[encoded data removed]",
      "text/plain": [
       "<Figure size 432x288 with 2 Axes>"
      ]
     },
     "metadata": {
      "needs_background": "light"
     },
     "output_type": "display_data"
    }
   ],
   "source": [
    "# Plot UMAP-reduced data with clusters\n",
    "plt.scatter(reduced_embeddings_colb_cls_pool[:, 0], reduced_embeddings_colb_cls_pool[:, 1], c=labels, cmap='Spectral', s=50)\n",
    "plt.colorbar()\n",
    "plt.show()"
   ]
  },
  {
   "cell_type": "code",
   "execution_count": 26,
   "id": "3dad1ddd-3678-407b-b519-eaa6eb4a1285",
   "metadata": {
    "pycharm": {
     "name": "#%%\n"
    }
   },
   "outputs": [],
   "source": [
    "# Reduce dimensions using UMAP\n",
    "umap_reducer = umap.UMAP(n_components=2, random_state=42)\n",
    "reduced_embeddings_colb_mean_pool = umap_reducer.fit_transform(embs_colbert_mean_pool.cpu())"
   ]
  },
  {
   "cell_type": "code",
   "execution_count": 27,
   "id": "a058cc0e-ca1b-4fd7-8886-1def499ae5d9",
   "metadata": {
    "pycharm": {
     "name": "#%%\n"
    }
   },
   "outputs": [],
   "source": [
    "# Perform clustering using HDBSCAN\n",
    "clusterer = hdbscan.HDBSCAN(min_cluster_size=2, min_samples=1, cluster_selection_epsilon=0.1)\n",
    "labels_colb_mean = clusterer.fit_predict(reduced_embeddings_colb_mean_pool)"
   ]
  },
  {
   "cell_type": "code",
   "execution_count": 28,
   "id": "78e47da4-0ac0-4906-a800-7611ad5a5c52",
   "metadata": {
    "pycharm": {
     "name": "#%%\n"
    }
   },
   "outputs": [
    {
     "data": {
      "image/png": "[encoded data removed]",
      "text/plain": [
       "<Figure size 432x288 with 2 Axes>"
      ]
     },
     "metadata": {
      "needs_background": "light"
     },
     "output_type": "display_data"
    }
   ],
   "source": [
    "# Plot UMAP-reduced data with clusters\n",
    "plt.scatter(reduced_embeddings_colb_mean_pool[:, 0], reduced_embeddings_colb_mean_pool[:, 1], c=labels, cmap='Spectral', s=50)\n",
    "plt.colorbar()\n",
    "plt.show()"
   ]
  },
  {
   "cell_type": "markdown",
   "id": "31ca6a14-5149-498c-8974-807b5c483725",
   "metadata": {
    "pycharm": {
     "name": "#%% md\n"
    }
   },
   "source": [
    "## LaBSE"
   ]
  },
  {
   "cell_type": "code",
   "execution_count": 29,
   "id": "0965bc61-cec8-499a-adc0-63840e0f6a5a",
   "metadata": {
    "pycharm": {
     "name": "#%%\n"
    }
   },
   "outputs": [],
   "source": [
    "model_labse = SentenceTransformer('sentence-transformers/LaBSE')\n",
    "embeddings_labse = model_labse.encode(df_subset.text_splitted.tolist())"
   ]
  },
  {
   "cell_type": "code",
   "execution_count": 30,
   "id": "62f667a2-bac9-40d5-90cb-bcbd9b2f5bd7",
   "metadata": {
    "pycharm": {
     "name": "#%%\n"
    }
   },
   "outputs": [],
   "source": [
    "# Reduce dimensions using UMAP\n",
    "umap_reducer = umap.UMAP(n_components=2, random_state=42)\n",
    "reduced_embeddings_labse = umap_reducer.fit_transform(embeddings_labse)"
   ]
  },
  {
   "cell_type": "code",
   "execution_count": 31,
   "id": "63f7cdac-4e2d-47a0-a340-95bcd2fdd9e4",
   "metadata": {
    "pycharm": {
     "name": "#%%\n"
    }
   },
   "outputs": [],
   "source": [
    "# Perform clustering using HDBSCAN\n",
    "clusterer = hdbscan.HDBSCAN(min_cluster_size=2, min_samples=1, cluster_selection_epsilon=0.1)\n",
    "labels_labse = clusterer.fit_predict(reduced_embeddings_labse)"
   ]
  },
  {
   "cell_type": "code",
   "execution_count": 32,
   "id": "c2ddfd0d-1daf-4b33-89fd-580e31dd2000",
   "metadata": {
    "pycharm": {
     "name": "#%%\n"
    }
   },
   "outputs": [
    {
     "data": {
      "image/png": "[encoded data removed]",
      "text/plain": [
       "<Figure size 432x288 with 2 Axes>"
      ]
     },
     "metadata": {
      "needs_background": "light"
     },
     "output_type": "display_data"
    }
   ],
   "source": [
    "# Plot UMAP-reduced data with clusters\n",
    "plt.scatter(reduced_embeddings_labse[:, 0], reduced_embeddings_labse[:, 1], c=labels, cmap='Spectral', s=50)\n",
    "plt.colorbar()\n",
    "plt.show()"
   ]
  },
  {
   "cell_type": "markdown",
   "id": "cf8724be-2a75-476c-86c8-1ffe3778452e",
   "metadata": {
    "pycharm": {
     "name": "#%% md\n"
    }
   },
   "source": [
    "## Add labels to data"
   ]
  },
  {
   "cell_type": "code",
   "execution_count": 33,
   "id": "97787afb-fe80-4e14-9666-1168c1a47ea5",
   "metadata": {
    "pycharm": {
     "name": "#%%\n"
    }
   },
   "outputs": [],
   "source": [
    "df_subset['cluster_bge']=labels\n",
    "df_subset['cluster_e5']=labels_e5\n",
    "df_subset['cluster_colb_cls']=labels_colb_cls\n",
    "df_subset['cluster_e5']=labels_colb_mean\n",
    "df_subset['cluster_labse']=labels_labse"
   ]
  },
  {
   "cell_type": "code",
   "execution_count": 34,
   "id": "388ade1f-313f-4597-b345-dc4e24cc93fe",
   "metadata": {
    "pycharm": {
     "name": "#%%\n"
    }
   },
   "outputs": [
    {
     "data": {
      "text/plain": [
       "234    42053\n",
       "144    455  \n",
       "161    226  \n",
       "45     214  \n",
       "20     203  \n",
       "      ...   \n",
       "203    2    \n",
       "6      2    \n",
       "166    2    \n",
       "209    2    \n",
       "159    2    \n",
       "Name: cluster_bge, Length: 236, dtype: int64"
      ]
     },
     "execution_count": 34,
     "metadata": {},
     "output_type": "execute_result"
    }
   ],
   "source": [
    "df_subset.cluster_bge.value_counts()"
   ]
  },
  {
   "cell_type": "code",
   "execution_count": 35,
   "id": "a51add95-3d70-4a12-bca2-6a31457e84ec",
   "metadata": {
    "pycharm": {
     "name": "#%%\n"
    }
   },
   "outputs": [
    {
     "data": {
      "text/plain": [
       "Series([], Name: text_splitted, dtype: object)"
      ]
     },
     "execution_count": 35,
     "metadata": {},
     "output_type": "execute_result"
    }
   ],
   "source": [
    "df_subset[df_subset.cluster_bge==249].text_splitted"
   ]
  },
  {
   "cell_type": "code",
   "execution_count": 36,
   "id": "23fddd7d-fd84-40ac-a66f-973d141d7df4",
   "metadata": {
    "pycharm": {
     "name": "#%%\n"
    }
   },
   "outputs": [
    {
     "data": {
      "text/html": [
       "<div>\n",
       "<style scoped>\n",
       "    .dataframe tbody tr th:only-of-type {\n",
       "        vertical-align: middle;\n",
       "    }\n",
       "\n",
       "    .dataframe tbody tr th {\n",
       "        vertical-align: top;\n",
       "    }\n",
       "\n",
       "    .dataframe thead th {\n",
       "        text-align: right;\n",
       "    }\n",
       "</style>\n",
       "<table border=\"1\" class=\"dataframe\">\n",
       "  <thead>\n",
       "    <tr style=\"text-align: right;\">\n",
       "      <th></th>\n",
       "      <th>cluster_name</th>\n",
       "      <th>cluster_bge</th>\n",
       "      <th>cluster_e5</th>\n",
       "      <th>cluster_labse</th>\n",
       "      <th>text_splitted</th>\n",
       "    </tr>\n",
       "  </thead>\n",
       "  <tbody>\n",
       "    <tr>\n",
       "      <th>464527</th>\n",
       "      <td>post_rahvastikuregistri_posti_elukoha_rahvastikuregistrisse</td>\n",
       "      <td>234</td>\n",
       "      <td>225</td>\n",
       "      <td>249</td>\n",
       "      <td>puudutab õiguslikku soo muutmist rahvastikuregistris saab aset leida pärast seda kui tervisekomisjoni otsuse alusel on läbi viidud vastav meditsiiniline protseduur siis kas selle uue soolise ebakõla kohta ma vaatan siin on öeldud et komisjoni otsuse alusel saab rahvastikuregistris hakata kandeid tegema ka ilma meditsiinilise protseduurita ehk tegelikult ideoloogilise valikuna</td>\n",
       "    </tr>\n",
       "    <tr>\n",
       "      <th>432371</th>\n",
       "      <td>-1_ma_te_me_et</td>\n",
       "      <td>234</td>\n",
       "      <td>225</td>\n",
       "      <td>249</td>\n",
       "      <td>aitäh teate ütlen täitsa ausalt minul on ka väga kurb meel et isamaal ei ole õiguskomisjonis liiget ma arvan et me kõik kurvastame selle üle eriti arvestades neid viimaste päevade menetlusi mis seal on olnud ühte sellist liiget kes seisab terve mõistuse ja normaalsuse eest oleks seal kindlasti juurde vaja ja ma peaksin reageerima oma sõnavõtus ka sellele kiirustamise teemale mis siit korduvalt läbi käis nägin ise kõik meie fraktsiooni liikmed nägid eile missugune on tööstiil õiguskomisjonis kus komisjoni esimees</td>\n",
       "    </tr>\n",
       "    <tr>\n",
       "      <th>418061</th>\n",
       "      <td>ukraina_venemaa_ukrainas_sõda_ukrainale</td>\n",
       "      <td>234</td>\n",
       "      <td>225</td>\n",
       "      <td>249</td>\n",
       "      <td>tõesti vastan sellele küsimusele jaa olen teiega absoluutselt nõus et need nõudmised mida venemaa on esitanud on täiesti ennekuulmatud tegelikult nad nõuavad asju mida nad nõuda ei tohiks tõesti kuidas kaitstakse nato erinevaid riike esitada nõudmisi selle kohta ja teiseks selle kohta kes võivad üldse nato‑sse kuuluda või ei või kuuluda on hea et nato riigid on tõesti hoidnud ühtset liini et me kuidagi sellistele provokatsioonidele ei allu ja venemaal ei ole õigust euroopa julgeolekuarhitektuuri kohta midagi öelda te küsite</td>\n",
       "    </tr>\n",
       "    <tr>\n",
       "      <th>423344</th>\n",
       "      <td>metsa_rmk_töökorra_kodu_riigimetsa</td>\n",
       "      <td>234</td>\n",
       "      <td>225</td>\n",
       "      <td>249</td>\n",
       "      <td>hea juhataja te mitme koha peal ütlesite et seadus ei luba aga ma küsin teilt et vaadake kui keegi on välisluureameti juht ja sõda käib nõukogu liikmeid ei ole eriti palju. kas siis äkki mihhail korb helistas tal oli telefoninumber et helistada välisluureameti juhile sõja ajal või äkki ülo needo mooste mõisaisa tema helistas või äkki metsandusprofessor tullus helistas inimesele kes ütleb et ta metsast mitte midagi ei tea oleks ikkagi lootnud teilt vastust saada kes neist üldse kvalifitseerub selleks</td>\n",
       "    </tr>\n",
       "    <tr>\n",
       "      <th>462246</th>\n",
       "      <td>NaN</td>\n",
       "      <td>234</td>\n",
       "      <td>216</td>\n",
       "      <td>249</td>\n",
       "      <td>ole ülemäärane</td>\n",
       "    </tr>\n",
       "    <tr>\n",
       "      <th>422784</th>\n",
       "      <td>vägivalla_naiste_lähisuhtevägivalla_perevägivalla_varjupaikade</td>\n",
       "      <td>234</td>\n",
       "      <td>225</td>\n",
       "      <td>249</td>\n",
       "      <td>suur aitäh küsimuse eest taas kord iga teenus on spetsiifiline ja me peame vaatama teenuse eesmärki ja ka võimalusi mismoodi seda teenust on kõige parem korraldada et klient saaks parima võimaliku toe rääkides naiste tugikeskusest on tegemist valdavalt perevägivalla ohvritega perevägivalla ohvrite puhul nagu ka inimkaubanduse ohvrite puhul on alati see risk et vägivallatseja otsib ohvri üles korduvalt ja korduvalt et teda taas traumeerida aga sageli traumeerida ka ohvriga koos olevaid lapsi praktika on paljudel juhtudel selline et me oleme</td>\n",
       "    </tr>\n",
       "    <tr>\n",
       "      <th>456329</th>\n",
       "      <td>-1_ma_te_me_et</td>\n",
       "      <td>234</td>\n",
       "      <td>225</td>\n",
       "      <td>249</td>\n",
       "      <td>rääkida sellest mida ta siin jõudis teha ja kuidas vanad jaamad hoiti lahti siis kui tulemused käes olid et investeeringuid pole tehtud see ei ole just suur töövõit mina võin oma valitsusajast tuua terve rea suuri investeeringuid mis kõik on jäänud viimaseks tuulepargid auvere estlinkid kõik need suure tähtsusega asjad said tol ajal tehtud teades et tegelikult ka keskkonnarisk eksisteerib sellele panustades sai tehtud õlitehas olin eesti energia nõukogus aga peale seda ei ole enam mitte midagi tehtud ma lihtsalt</td>\n",
       "    </tr>\n",
       "    <tr>\n",
       "      <th>437828</th>\n",
       "      <td>-1_ma_te_me_et</td>\n",
       "      <td>234</td>\n",
       "      <td>225</td>\n",
       "      <td>249</td>\n",
       "      <td>ja heiki kranich erapooletu oli merry aart teha ettepanek esimene lugemine lõpetada hääletuse tulemus oli sama ja määrata juhtivkomisjoni esindajaks mind kahtlemata on see teema keskkonnakaitseline kõik on hoiakute ja tarbimisharjumuste muutmises kinni samuti majanduse struktuuris nii et see eeldab täit tähelepanu kõigilt meilt ei ole võimalik teha ühtegi üleminekut kui see päriselt ei toimu inimeste peades aitäh</td>\n",
       "    </tr>\n",
       "    <tr>\n",
       "      <th>427041</th>\n",
       "      <td>NaN</td>\n",
       "      <td>8</td>\n",
       "      <td>15</td>\n",
       "      <td>142</td>\n",
       "      <td>lauri läänemets palun</td>\n",
       "    </tr>\n",
       "    <tr>\n",
       "      <th>423928</th>\n",
       "      <td>-1_ma_te_me_et</td>\n",
       "      <td>234</td>\n",
       "      <td>225</td>\n",
       "      <td>249</td>\n",
       "      <td>need muutuvad hopsti tagurpidi teisteks numbriteks mitte tagurpidi aga sisuliselt sadades miljonites need vahed muutuvad kas tulu- või kulupooles paljud riigi tasakaalunumbrid muutuvad eelarvestrateegia tsüklis kui ka järgmise aasta puhul need on olnud ameerika mäed ja need on suures plaanis olnud tingitud väliskeskkonnast eks ole me ei hakka rääkima koroonaajast kus numbrid liikusid aga ma mäletan ise ka 2019. aasta valitsuse tegemist raul ja ülo mäletavad räägivad küsimus oli selles et 2019 tuli uus valitsus kokku mitte midagi ei olnud</td>\n",
       "    </tr>\n",
       "    <tr>\n",
       "      <th>419452</th>\n",
       "      <td>rahapesu_finantsinspektsiooni_finantsinspektsioon_danske_veb</td>\n",
       "      <td>234</td>\n",
       "      <td>225</td>\n",
       "      <td>249</td>\n",
       "      <td>aitäh see seaduseelnõu reguleerib ja on suunatud virtuaalvääringu teenuse teenusepakkujatele ehk eraisikuid kes näiteks virtuaalvääringute rahakotti omavad see sellisel kujul ei puuduta see puudutab teenusepakkujaid ja puudutab neid teenusepakkujaid kellele on põhjust väljastada tegevusluba litsents teiste riikidega on lugu selline et tõenäoliselt väga paljud ootavad seda et kõigepealt saaks euroopa liit oma reeglitega valmis muidugi kui me räägime teiste riikide ütleme olukorrast üldse siis kui me räägime väljastatud lubadest ei ole tegelikult kedagi keda eestiga võrrelda saaks näiteks suurbritannias on</td>\n",
       "    </tr>\n",
       "    <tr>\n",
       "      <th>447703</th>\n",
       "      <td>NaN</td>\n",
       "      <td>65</td>\n",
       "      <td>50</td>\n",
       "      <td>54</td>\n",
       "      <td>helle-moonika helme palun</td>\n",
       "    </tr>\n",
       "    <tr>\n",
       "      <th>426250</th>\n",
       "      <td>-1_ma_te_me_et</td>\n",
       "      <td>234</td>\n",
       "      <td>225</td>\n",
       "      <td>249</td>\n",
       "      <td>ettevõtted ja kohalikud kogukonnad tekitavad seda nõudlust ja me tegelikult alandasime seal märkimisväärselt omafinantseeringu piiri isegi 95 protsendini nii et tegelikult piisab viieprotsendilisest omafinantseeringust et selliseid projekte rahastada</td>\n",
       "    </tr>\n",
       "    <tr>\n",
       "      <th>441554</th>\n",
       "      <td>-1_ma_te_me_et</td>\n",
       "      <td>234</td>\n",
       "      <td>225</td>\n",
       "      <td>249</td>\n",
       "      <td>me oleksime kindlad et struktuurivahenditest suurem osa liigub niimoodi et neid kasutatakse niimoodi et piirkondlik ebavõrdsus väheneb kui vaadata eelmistele aastatele tagasi siis tulemus on olnud vastupidine jah heas tahtes lootuses et küll midagi maale ka jõuab on raha kasutatud on miljardite viisi raha kasutatud aga tulemus on see et piirkondlikku ebavõrdsust ei ole suudetud tasakaalustada ka struktuurivahendite abil. pigem on juhtunud et need võimendavad piirkondlikke erinevusi selleks et ebavõrdsus iseenesest ei suureneks on vaja teadlikku vastusammu ja see teadlik</td>\n",
       "    </tr>\n",
       "    <tr>\n",
       "      <th>435644</th>\n",
       "      <td>lapse_perede_pere_laste_last</td>\n",
       "      <td>234</td>\n",
       "      <td>225</td>\n",
       "      <td>249</td>\n",
       "      <td>tea millest samal ajal võetakse lastelt raha ära ja oma niinimetatud tulumaksuküüru kaotamisega antakse see niigi juba hästi toime tulevatele ja rikastele inimestele aga just suurpered vajavad kõige rohkem abi nad on kui jätta üksikvanemad kõrvale kõige suuremas kitsikuses siis öeldakse harjuge ära me anname teile aega harjuda kohaneda ma ei tea sihukese asjaga ei saa harjuda sihukese asjaga ei saa kohaneda sellise asjaga ei saa leppida ammugi sellise valitsuse ega nende inimestega kes sellist ideoloogiat kannavad see ei tule</td>\n",
       "    </tr>\n",
       "    <tr>\n",
       "      <th>461353</th>\n",
       "      <td>-1_ma_te_me_et</td>\n",
       "      <td>234</td>\n",
       "      <td>225</td>\n",
       "      <td>249</td>\n",
       "      <td>aitäh austatud istungi juhataja hea raimond see sotsiaaldemokraatide algatus on kahtlemata väga vajalik ja asjakohane sest aitab vähendada eesti inimeste palgavaesust ja seda olulisel määral sa tõid ilusasti välja kui palju selle eelnõuga jääks õpetajale aastas keskmiselt rohkem raha kätte kas sa oled teinud ka arvutuse kui palju meie eelnõu jätaks rohkem raha kätte õdedele päästjatele ja politseinikele</td>\n",
       "    </tr>\n",
       "    <tr>\n",
       "      <th>452551</th>\n",
       "      <td>delegatsiooni_assamblee_väliskomisjoni_väliskomisjon_parlamentaarse</td>\n",
       "      <td>132</td>\n",
       "      <td>225</td>\n",
       "      <td>249</td>\n",
       "      <td>aitäh austatud riigikogu aseesimees lugupeetud kolleegid väliskomisjon esitas riigikogu otsuse eelnõu 212 delegatsiooni moodustamiseks 17. mail delegatsiooni moodustavad timo suslov enn eesmaa arvo aller karmen joller meelis kiili lauri laats priit lomp tiit maran helir‑valdor seeder riina solman margit sutrop ja peeter tali riigikogu juhatuse määratud muudatusettepanekute tähtajaks mis oli 22. mai käesoleval aastal kell 10 ühtegi muudatusettepanekut ei esitatud väliskomisjon tegi oma 16. mai istungil konsensusega järgmised menetluslikud otsused võtta riigikogu otsuse eelnõu 212 esimeseks lugemiseks riigikogu täiskogu neljapäeva</td>\n",
       "    </tr>\n",
       "    <tr>\n",
       "      <th>461687</th>\n",
       "      <td>-1_ma_te_me_et</td>\n",
       "      <td>234</td>\n",
       "      <td>225</td>\n",
       "      <td>249</td>\n",
       "      <td>see et me hakkame mingisuguseid makse alandama aga miks ei tule kõne alla tegelikku põhjendust ei ole miks ei tule kõne alla seda tegelikku põhjendust lihtsalt ei ole mis on valitsuse ülesanne valitsuse ülesanne on tagada et riik püsiks iseseisvana et riigil oleks arvestatav heidutusvõime kaitsevõime näol et riigil oleks arvestatav sisejulgeoleku tagamise mehhanism ja et riigi kodanikud tuleksid oma eluga toime selleks istume siin koos ka meie muide riigikogus ja võtame vastu seadusi kui on rasked ajad aga muide</td>\n",
       "    </tr>\n",
       "    <tr>\n",
       "      <th>463010</th>\n",
       "      <td>metsa_rmk_töökorra_kodu_riigimetsa</td>\n",
       "      <td>217</td>\n",
       "      <td>213</td>\n",
       "      <td>147</td>\n",
       "      <td>kulutase on kümne aasta pärast reaalsus</td>\n",
       "    </tr>\n",
       "    <tr>\n",
       "      <th>452129</th>\n",
       "      <td>kaitseliidu_riigikaitse_kaitseväe_keskmaa_õhutõrje</td>\n",
       "      <td>234</td>\n",
       "      <td>225</td>\n",
       "      <td>249</td>\n",
       "      <td>riigikaitse rahastamine ei saa toimuda emotsioonide pinnal meil peab olema väga selge arusaam millised võimelüngad meil reaalselt on et tänapäevase sõjaga hakkama saada kõige paremad teadmised ja kogemused me saame käimasolevast sõjast</td>\n",
       "    </tr>\n",
       "  </tbody>\n",
       "</table>\n",
       "</div>"
      ],
      "text/plain": [
       "                                                               cluster_name  \\\n",
       "464527  post_rahvastikuregistri_posti_elukoha_rahvastikuregistrisse           \n",
       "432371  -1_ma_te_me_et                                                        \n",
       "418061  ukraina_venemaa_ukrainas_sõda_ukrainale                               \n",
       "423344  metsa_rmk_töökorra_kodu_riigimetsa                                    \n",
       "462246  NaN                                                                   \n",
       "422784  vägivalla_naiste_lähisuhtevägivalla_perevägivalla_varjupaikade        \n",
       "456329  -1_ma_te_me_et                                                        \n",
       "437828  -1_ma_te_me_et                                                        \n",
       "427041  NaN                                                                   \n",
       "423928  -1_ma_te_me_et                                                        \n",
       "419452  rahapesu_finantsinspektsiooni_finantsinspektsioon_danske_veb          \n",
       "447703  NaN                                                                   \n",
       "426250  -1_ma_te_me_et                                                        \n",
       "441554  -1_ma_te_me_et                                                        \n",
       "435644  lapse_perede_pere_laste_last                                          \n",
       "461353  -1_ma_te_me_et                                                        \n",
       "452551  delegatsiooni_assamblee_väliskomisjoni_väliskomisjon_parlamentaarse   \n",
       "461687  -1_ma_te_me_et                                                        \n",
       "463010  metsa_rmk_töökorra_kodu_riigimetsa                                    \n",
       "452129  kaitseliidu_riigikaitse_kaitseväe_keskmaa_õhutõrje                    \n",
       "\n",
       "        cluster_bge  cluster_e5  cluster_labse  \\\n",
       "464527  234          225         249             \n",
       "432371  234          225         249             \n",
       "418061  234          225         249             \n",
       "423344  234          225         249             \n",
       "462246  234          216         249             \n",
       "422784  234          225         249             \n",
       "456329  234          225         249             \n",
       "437828  234          225         249             \n",
       "427041  8            15          142             \n",
       "423928  234          225         249             \n",
       "419452  234          225         249             \n",
       "447703  65           50          54              \n",
       "426250  234          225         249             \n",
       "441554  234          225         249             \n",
       "435644  234          225         249             \n",
       "461353  234          225         249             \n",
       "452551  132          225         249             \n",
       "461687  234          225         249             \n",
       "463010  217          213         147             \n",
       "452129  234          225         249             \n",
       "\n",
       "                                                                                                                                                                                                                                                                                                                                                                                                                                                                                                                                                                                                                                                       text_splitted  \n",
       "464527  puudutab õiguslikku soo muutmist rahvastikuregistris saab aset leida pärast seda kui tervisekomisjoni otsuse alusel on läbi viidud vastav meditsiiniline protseduur siis kas selle uue soolise ebakõla kohta ma vaatan siin on öeldud et komisjoni otsuse alusel saab rahvastikuregistris hakata kandeid tegema ka ilma meditsiinilise protseduurita ehk tegelikult ideoloogilise valikuna                                                                                                                                                                                                                                                                    \n",
       "432371  aitäh teate ütlen täitsa ausalt minul on ka väga kurb meel et isamaal ei ole õiguskomisjonis liiget ma arvan et me kõik kurvastame selle üle eriti arvestades neid viimaste päevade menetlusi mis seal on olnud ühte sellist liiget kes seisab terve mõistuse ja normaalsuse eest oleks seal kindlasti juurde vaja ja ma peaksin reageerima oma sõnavõtus ka sellele kiirustamise teemale mis siit korduvalt läbi käis nägin ise kõik meie fraktsiooni liikmed nägid eile missugune on tööstiil õiguskomisjonis kus komisjoni esimees                                                                                                                         \n",
       "418061  tõesti vastan sellele küsimusele jaa olen teiega absoluutselt nõus et need nõudmised mida venemaa on esitanud on täiesti ennekuulmatud tegelikult nad nõuavad asju mida nad nõuda ei tohiks tõesti kuidas kaitstakse nato erinevaid riike esitada nõudmisi selle kohta ja teiseks selle kohta kes võivad üldse nato‑sse kuuluda või ei või kuuluda on hea et nato riigid on tõesti hoidnud ühtset liini et me kuidagi sellistele provokatsioonidele ei allu ja venemaal ei ole õigust euroopa julgeolekuarhitektuuri kohta midagi öelda te küsite                                                                                                             \n",
       "423344  hea juhataja te mitme koha peal ütlesite et seadus ei luba aga ma küsin teilt et vaadake kui keegi on välisluureameti juht ja sõda käib nõukogu liikmeid ei ole eriti palju. kas siis äkki mihhail korb helistas tal oli telefoninumber et helistada välisluureameti juhile sõja ajal või äkki ülo needo mooste mõisaisa tema helistas või äkki metsandusprofessor tullus helistas inimesele kes ütleb et ta metsast mitte midagi ei tea oleks ikkagi lootnud teilt vastust saada kes neist üldse kvalifitseerub selleks                                                                                                                                      \n",
       "462246  ole ülemäärane                                                                                                                                                                                                                                                                                                                                                                                                                                                                                                                                                                                                                                                \n",
       "422784  suur aitäh küsimuse eest taas kord iga teenus on spetsiifiline ja me peame vaatama teenuse eesmärki ja ka võimalusi mismoodi seda teenust on kõige parem korraldada et klient saaks parima võimaliku toe rääkides naiste tugikeskusest on tegemist valdavalt perevägivalla ohvritega perevägivalla ohvrite puhul nagu ka inimkaubanduse ohvrite puhul on alati see risk et vägivallatseja otsib ohvri üles korduvalt ja korduvalt et teda taas traumeerida aga sageli traumeerida ka ohvriga koos olevaid lapsi praktika on paljudel juhtudel selline et me oleme                                                                                             \n",
       "456329  rääkida sellest mida ta siin jõudis teha ja kuidas vanad jaamad hoiti lahti siis kui tulemused käes olid et investeeringuid pole tehtud see ei ole just suur töövõit mina võin oma valitsusajast tuua terve rea suuri investeeringuid mis kõik on jäänud viimaseks tuulepargid auvere estlinkid kõik need suure tähtsusega asjad said tol ajal tehtud teades et tegelikult ka keskkonnarisk eksisteerib sellele panustades sai tehtud õlitehas olin eesti energia nõukogus aga peale seda ei ole enam mitte midagi tehtud ma lihtsalt                                                                                                                         \n",
       "437828  ja heiki kranich erapooletu oli merry aart teha ettepanek esimene lugemine lõpetada hääletuse tulemus oli sama ja määrata juhtivkomisjoni esindajaks mind kahtlemata on see teema keskkonnakaitseline kõik on hoiakute ja tarbimisharjumuste muutmises kinni samuti majanduse struktuuris nii et see eeldab täit tähelepanu kõigilt meilt ei ole võimalik teha ühtegi üleminekut kui see päriselt ei toimu inimeste peades aitäh                                                                                                                                                                                                                              \n",
       "427041  lauri läänemets palun                                                                                                                                                                                                                                                                                                                                                                                                                                                                                                                                                                                                                                         \n",
       "423928  need muutuvad hopsti tagurpidi teisteks numbriteks mitte tagurpidi aga sisuliselt sadades miljonites need vahed muutuvad kas tulu- või kulupooles paljud riigi tasakaalunumbrid muutuvad eelarvestrateegia tsüklis kui ka järgmise aasta puhul need on olnud ameerika mäed ja need on suures plaanis olnud tingitud väliskeskkonnast eks ole me ei hakka rääkima koroonaajast kus numbrid liikusid aga ma mäletan ise ka 2019. aasta valitsuse tegemist raul ja ülo mäletavad räägivad küsimus oli selles et 2019 tuli uus valitsus kokku mitte midagi ei olnud                                                                                               \n",
       "419452  aitäh see seaduseelnõu reguleerib ja on suunatud virtuaalvääringu teenuse teenusepakkujatele ehk eraisikuid kes näiteks virtuaalvääringute rahakotti omavad see sellisel kujul ei puuduta see puudutab teenusepakkujaid ja puudutab neid teenusepakkujaid kellele on põhjust väljastada tegevusluba litsents teiste riikidega on lugu selline et tõenäoliselt väga paljud ootavad seda et kõigepealt saaks euroopa liit oma reeglitega valmis muidugi kui me räägime teiste riikide ütleme olukorrast üldse siis kui me räägime väljastatud lubadest ei ole tegelikult kedagi keda eestiga võrrelda saaks näiteks suurbritannias on                           \n",
       "447703  helle-moonika helme palun                                                                                                                                                                                                                                                                                                                                                                                                                                                                                                                                                                                                                                     \n",
       "426250  ettevõtted ja kohalikud kogukonnad tekitavad seda nõudlust ja me tegelikult alandasime seal märkimisväärselt omafinantseeringu piiri isegi 95 protsendini nii et tegelikult piisab viieprotsendilisest omafinantseeringust et selliseid projekte rahastada                                                                                                                                                                                                                                                                                                                                                                                                    \n",
       "441554  me oleksime kindlad et struktuurivahenditest suurem osa liigub niimoodi et neid kasutatakse niimoodi et piirkondlik ebavõrdsus väheneb kui vaadata eelmistele aastatele tagasi siis tulemus on olnud vastupidine jah heas tahtes lootuses et küll midagi maale ka jõuab on raha kasutatud on miljardite viisi raha kasutatud aga tulemus on see et piirkondlikku ebavõrdsust ei ole suudetud tasakaalustada ka struktuurivahendite abil. pigem on juhtunud et need võimendavad piirkondlikke erinevusi selleks et ebavõrdsus iseenesest ei suureneks on vaja teadlikku vastusammu ja see teadlik                                                              \n",
       "435644  tea millest samal ajal võetakse lastelt raha ära ja oma niinimetatud tulumaksuküüru kaotamisega antakse see niigi juba hästi toime tulevatele ja rikastele inimestele aga just suurpered vajavad kõige rohkem abi nad on kui jätta üksikvanemad kõrvale kõige suuremas kitsikuses siis öeldakse harjuge ära me anname teile aega harjuda kohaneda ma ei tea sihukese asjaga ei saa harjuda sihukese asjaga ei saa kohaneda sellise asjaga ei saa leppida ammugi sellise valitsuse ega nende inimestega kes sellist ideoloogiat kannavad see ei tule                                                                                                           \n",
       "461353  aitäh austatud istungi juhataja hea raimond see sotsiaaldemokraatide algatus on kahtlemata väga vajalik ja asjakohane sest aitab vähendada eesti inimeste palgavaesust ja seda olulisel määral sa tõid ilusasti välja kui palju selle eelnõuga jääks õpetajale aastas keskmiselt rohkem raha kätte kas sa oled teinud ka arvutuse kui palju meie eelnõu jätaks rohkem raha kätte õdedele päästjatele ja politseinikele                                                                                                                                                                                                                                        \n",
       "452551  aitäh austatud riigikogu aseesimees lugupeetud kolleegid väliskomisjon esitas riigikogu otsuse eelnõu 212 delegatsiooni moodustamiseks 17. mail delegatsiooni moodustavad timo suslov enn eesmaa arvo aller karmen joller meelis kiili lauri laats priit lomp tiit maran helir‑valdor seeder riina solman margit sutrop ja peeter tali riigikogu juhatuse määratud muudatusettepanekute tähtajaks mis oli 22. mai käesoleval aastal kell 10 ühtegi muudatusettepanekut ei esitatud väliskomisjon tegi oma 16. mai istungil konsensusega järgmised menetluslikud otsused võtta riigikogu otsuse eelnõu 212 esimeseks lugemiseks riigikogu täiskogu neljapäeva  \n",
       "461687  see et me hakkame mingisuguseid makse alandama aga miks ei tule kõne alla tegelikku põhjendust ei ole miks ei tule kõne alla seda tegelikku põhjendust lihtsalt ei ole mis on valitsuse ülesanne valitsuse ülesanne on tagada et riik püsiks iseseisvana et riigil oleks arvestatav heidutusvõime kaitsevõime näol et riigil oleks arvestatav sisejulgeoleku tagamise mehhanism ja et riigi kodanikud tuleksid oma eluga toime selleks istume siin koos ka meie muide riigikogus ja võtame vastu seadusi kui on rasked ajad aga muide                                                                                                                         \n",
       "463010  kulutase on kümne aasta pärast reaalsus                                                                                                                                                                                                                                                                                                                                                                                                                                                                                                                                                                                                                       \n",
       "452129  riigikaitse rahastamine ei saa toimuda emotsioonide pinnal meil peab olema väga selge arusaam millised võimelüngad meil reaalselt on et tänapäevase sõjaga hakkama saada kõige paremad teadmised ja kogemused me saame käimasolevast sõjast                                                                                                                                                                                                                                                                                                                                                                                                                   "
      ]
     },
     "execution_count": 36,
     "metadata": {},
     "output_type": "execute_result"
    }
   ],
   "source": [
    "df_subset[['cluster_name','cluster_bge','cluster_e5','cluster_labse','text_splitted']].sample(20)"
   ]
  },
  {
   "cell_type": "markdown",
   "id": "a617f2c8-015b-40b8-a964-a9ef11c92d12",
   "metadata": {
    "pycharm": {
     "name": "#%% md\n"
    }
   },
   "source": [
    "## Train topic models"
   ]
  },
  {
   "cell_type": "code",
   "execution_count": 37,
   "id": "b3468fd1-750c-4d6c-aa26-4019e3277d20",
   "metadata": {
    "pycharm": {
     "name": "#%%\n"
    }
   },
   "outputs": [],
   "source": [
    "topic_model_bge = BERTopic(language='estonian')\n",
    "topics_bge, probs_bge = topic_model_bge.fit_transform(df_subset.text_splitted.tolist(), embeddings)"
   ]
  },
  {
   "cell_type": "code",
   "execution_count": 38,
   "id": "0cca6f17-db73-455a-bc30-53e37a22e33d",
   "metadata": {
    "pycharm": {
     "name": "#%%\n"
    }
   },
   "outputs": [],
   "source": [
    "topic_model_e5 = BERTopic(language='estonian')\n",
    "topics_e5, probs_e5 = topic_model_e5.fit_transform(df_subset.text_splitted.tolist(), embeddings_e5)"
   ]
  },
  {
   "cell_type": "code",
   "execution_count": 39,
   "id": "c51cb410-ec90-4606-a102-8c96f5d8a9b3",
   "metadata": {
    "pycharm": {
     "name": "#%%\n"
    }
   },
   "outputs": [],
   "source": [
    "topic_model_colb_cls = BERTopic(language='estonian')\n",
    "topics_colb_cls, probs_colb_cls = topic_model_colb_cls.fit_transform(df_subset.text_splitted.tolist(), embs_colbert_cls_pool.cpu().numpy())"
   ]
  },
  {
   "cell_type": "code",
   "execution_count": 40,
   "id": "d3aebc91-f51e-4244-b4ef-596a3f941877",
   "metadata": {
    "pycharm": {
     "name": "#%%\n"
    }
   },
   "outputs": [],
   "source": [
    "topic_model_colb_mean = BERTopic(language='estonian')\n",
    "topics_colb_mean, probs_colb_mean = topic_model_colb_mean.fit_transform(df_subset.text_splitted.tolist(), embs_colbert_mean_pool.cpu().numpy())"
   ]
  },
  {
   "cell_type": "code",
   "execution_count": 41,
   "id": "442f7091-2105-4559-853e-03be6424f6ae",
   "metadata": {
    "pycharm": {
     "name": "#%%\n"
    }
   },
   "outputs": [],
   "source": [
    "topic_model_labse = BERTopic(language='estonian')\n",
    "topics_labse, probs_labse = topic_model_labse.fit_transform(df_subset.text_splitted.tolist(), embeddings_labse)"
   ]
  },
  {
   "cell_type": "markdown",
   "id": "d3c7d757-8f41-4fa8-b5f8-f67e9d68644f",
   "metadata": {
    "pycharm": {
     "name": "#%% md\n"
    }
   },
   "source": [
    "## Topics info"
   ]
  },
  {
   "cell_type": "code",
   "execution_count": 42,
   "id": "71875784-f936-4f32-86ec-a8ce559002d9",
   "metadata": {
    "pycharm": {
     "name": "#%%\n"
    }
   },
   "outputs": [],
   "source": [
    "#topic_model_bge.get_topic_info()"
   ]
  },
  {
   "cell_type": "code",
   "execution_count": 43,
   "id": "740da052-51c5-482b-b324-ab9556ac8be2",
   "metadata": {
    "pycharm": {
     "name": "#%%\n"
    }
   },
   "outputs": [],
   "source": [
    "#topic_model_e5.get_topic_info()"
   ]
  },
  {
   "cell_type": "code",
   "execution_count": 44,
   "id": "310e3f04-0462-4e95-85b9-4f02b3adbbcb",
   "metadata": {
    "pycharm": {
     "name": "#%%\n"
    }
   },
   "outputs": [],
   "source": [
    "#topic_model_colb_cls.get_topic_info()"
   ]
  },
  {
   "cell_type": "code",
   "execution_count": 45,
   "id": "c9ba50f5-c675-414f-9ab0-e676aa78307c",
   "metadata": {
    "pycharm": {
     "name": "#%%\n"
    }
   },
   "outputs": [],
   "source": [
    "#topic_model_colb_mean.get_topic_info()"
   ]
  },
  {
   "cell_type": "code",
   "execution_count": 46,
   "id": "67de4fe6-049e-4157-b9ab-4dd89dc2e63f",
   "metadata": {
    "pycharm": {
     "name": "#%%\n"
    }
   },
   "outputs": [],
   "source": [
    "#topic_model_labse.get_topic_info()"
   ]
  },
  {
   "cell_type": "code",
   "execution_count": 47,
   "id": "4d8fc52b-7911-4d41-b779-b70d193aa504",
   "metadata": {
    "pycharm": {
     "name": "#%%\n"
    }
   },
   "outputs": [],
   "source": [
    "from umap import UMAP\n",
    "reduced_embeddings = UMAP(n_neighbors=10, n_components=2, min_dist=0.0, metric='cosine').fit_transform(embeddings)\n",
    "#topic_model_bge.visualize_documents(df_subset.text_splitted.tolist(), \n",
    " #                                   reduced_embeddings=reduced_embeddings, custom_labels=True, hide_annotations=True)"
   ]
  },
  {
   "cell_type": "code",
   "execution_count": 48,
   "id": "25c5a327-b3ff-4e2a-bf9e-a022e350c4d4",
   "metadata": {
    "pycharm": {
     "name": "#%%\n"
    }
   },
   "outputs": [],
   "source": [
    "reduced_embeddings = UMAP(n_neighbors=10, n_components=2, min_dist=0.0, metric='cosine').fit_transform(embeddings_e5)\n",
    "#topic_model_e5.visualize_documents(df_subset.text_splitted.tolist(), \n",
    " #                                   reduced_embeddings=reduced_embeddings, custom_labels=True, hide_annotations=True)"
   ]
  },
  {
   "cell_type": "code",
   "execution_count": 49,
   "id": "91c2c311-ed03-4516-b6d5-589ffec18cf0",
   "metadata": {
    "pycharm": {
     "name": "#%%\n"
    }
   },
   "outputs": [
    {
     "name": "stderr",
     "output_type": "stream",
     "text": [
      "100%|██████████| 523/523 [00:03<00:00, 135.37it/s]\n"
     ]
    }
   ],
   "source": [
    "hierarchical_topics = topic_model_bge.hierarchical_topics(df_subset.text_splitted.tolist())\n",
    "#topic_model_bge.visualize_hierarchy(hierarchical_topics=hierarchical_topics)"
   ]
  },
  {
   "cell_type": "code",
   "execution_count": 50,
   "id": "edacade6-843e-4a83-a300-365e8b2bccdc",
   "metadata": {
    "pycharm": {
     "name": "#%%\n"
    }
   },
   "outputs": [
    {
     "name": "stderr",
     "output_type": "stream",
     "text": [
      "100%|██████████| 516/516 [00:03<00:00, 136.97it/s]\n"
     ]
    }
   ],
   "source": [
    "hierarchical_topics = topic_model_e5.hierarchical_topics(df_subset.text_splitted.tolist())\n",
    "#topic_model_e5.visualize_hierarchy(hierarchical_topics=hierarchical_topics)"
   ]
  },
  {
   "cell_type": "markdown",
   "id": "6bf6c9f2-e6da-4e00-9810-ebbea025d9bf",
   "metadata": {
    "pycharm": {
     "name": "#%% md\n"
    }
   },
   "source": [
    "## Add topics to texts"
   ]
  },
  {
   "cell_type": "code",
   "execution_count": 51,
   "id": "7aa57892-93f0-4621-a8a9-b31844537b45",
   "metadata": {
    "pycharm": {
     "name": "#%%\n"
    }
   },
   "outputs": [],
   "source": [
    "docs_topic_bge=topic_model_bge.transform(documents=df_subset.text_splitted.tolist(), embeddings=embeddings)"
   ]
  },
  {
   "cell_type": "code",
   "execution_count": 52,
   "id": "e4cc58ed-bd9f-4634-8930-a70cca9091d0",
   "metadata": {
    "pycharm": {
     "name": "#%%\n"
    }
   },
   "outputs": [],
   "source": [
    "docs_topic_e5=topic_model_e5.transform(documents=df_subset.text_splitted.tolist(), embeddings=embeddings_e5)"
   ]
  },
  {
   "cell_type": "code",
   "execution_count": 53,
   "id": "81128a87-0da2-41c1-b1d9-2b7ecd768340",
   "metadata": {
    "pycharm": {
     "name": "#%%\n"
    }
   },
   "outputs": [],
   "source": [
    "docs_topic_colb_cls=topic_model_colb_cls.transform(documents=df_subset.text_splitted.tolist(), embeddings=embs_colbert_cls_pool.cpu().numpy())"
   ]
  },
  {
   "cell_type": "code",
   "execution_count": 54,
   "id": "8ca5f475-4380-4498-ad3d-e56873cef5b3",
   "metadata": {
    "pycharm": {
     "name": "#%%\n"
    }
   },
   "outputs": [],
   "source": [
    "docs_topic_colb_mean=topic_model_colb_mean.transform(documents=df_subset.text_splitted.tolist(), embeddings=embs_colbert_mean_pool.cpu().numpy())"
   ]
  },
  {
   "cell_type": "code",
   "execution_count": 55,
   "id": "b5ea6800-d78a-452b-bb12-4816d0b7542a",
   "metadata": {
    "pycharm": {
     "name": "#%%\n"
    }
   },
   "outputs": [],
   "source": [
    "docs_topic_labse=topic_model_labse.transform(documents=df_subset.text_splitted.tolist(), embeddings=embeddings_labse)"
   ]
  },
  {
   "cell_type": "code",
   "execution_count": 56,
   "id": "067b22fd-1e04-491b-8e93-fde42d4eeb53",
   "metadata": {
    "pycharm": {
     "name": "#%%\n"
    }
   },
   "outputs": [],
   "source": [
    "topics_bge={}\n",
    "for k, v in zip(topic_model_bge.get_topic_info()['Topic'].tolist(), topic_model_bge.get_topic_info()['Name'].tolist()):\n",
    "    topics_bge[k]=v"
   ]
  },
  {
   "cell_type": "code",
   "execution_count": 57,
   "id": "328c55ac-9043-45fc-93f4-e6bca50629e1",
   "metadata": {
    "pycharm": {
     "name": "#%%\n"
    }
   },
   "outputs": [],
   "source": [
    "topics_e5={}\n",
    "for k, v in zip(topic_model_e5.get_topic_info()['Topic'].tolist(), topic_model_e5.get_topic_info()['Name'].tolist()):\n",
    "    topics_e5[k]=v"
   ]
  },
  {
   "cell_type": "code",
   "execution_count": 58,
   "id": "af78cb64-138b-4bd2-8c8e-97a1c35221a7",
   "metadata": {
    "pycharm": {
     "name": "#%%\n"
    }
   },
   "outputs": [],
   "source": [
    "topics_colb_cls={}\n",
    "for k, v in zip(topic_model_colb_cls.get_topic_info()['Topic'].tolist(), topic_model_colb_cls.get_topic_info()['Name'].tolist()):\n",
    "    topics_colb_cls[k]=v"
   ]
  },
  {
   "cell_type": "code",
   "execution_count": 59,
   "id": "1c698804-6cfd-4a1f-9d0a-88e978cc1239",
   "metadata": {
    "pycharm": {
     "name": "#%%\n"
    }
   },
   "outputs": [],
   "source": [
    "topics_colb_mean={}\n",
    "for k, v in zip(topic_model_colb_mean.get_topic_info()['Topic'].tolist(), topic_model_colb_mean.get_topic_info()['Name'].tolist()):\n",
    "    topics_colb_mean[k]=v"
   ]
  },
  {
   "cell_type": "code",
   "execution_count": 60,
   "id": "f27ba1ae-96d5-4374-b76f-d3458ec84609",
   "metadata": {
    "pycharm": {
     "name": "#%%\n"
    }
   },
   "outputs": [],
   "source": [
    "topics_labse={}\n",
    "for k, v in zip(topic_model_labse.get_topic_info()['Topic'].tolist(), topic_model_labse.get_topic_info()['Name'].tolist()):\n",
    "    topics_labse[k]=v"
   ]
  },
  {
   "cell_type": "code",
   "execution_count": 61,
   "id": "5f787266-c00d-4571-8908-d8c7d07f3791",
   "metadata": {
    "pycharm": {
     "name": "#%%\n"
    }
   },
   "outputs": [],
   "source": [
    "df_subset['topic_bge']=docs_topic_bge[0]\n",
    "df_subset['topic_e5']=docs_topic_e5[0]\n",
    "df_subset['topic_colb_cls']=docs_topic_colb_cls[0]\n",
    "df_subset['topic_colb_mean']=docs_topic_colb_mean[0]\n",
    "df_subset['topic_labse']=docs_topic_labse[0]\n",
    "\n",
    "df_subset['topic_bge_name']=df_subset['topic_bge'].apply(lambda x: topics_bge[x])"
   ]
  },
  {
   "cell_type": "code",
   "execution_count": 62,
   "id": "654818e1-e9ef-46c4-82a7-450dce8af3a8",
   "metadata": {
    "pycharm": {
     "name": "#%%\n"
    }
   },
   "outputs": [],
   "source": [
    "df_subset['topic_e5_name']=df_subset['topic_e5'].apply(lambda x: topics_e5[x])"
   ]
  },
  {
   "cell_type": "code",
   "execution_count": 63,
   "id": "25524922-476e-4e50-be90-c83d3331196f",
   "metadata": {
    "pycharm": {
     "name": "#%%\n"
    }
   },
   "outputs": [],
   "source": [
    "df_subset['topic_colb_cls_name']=df_subset['topic_colb_cls'].apply(lambda x: topics_colb_cls[x])\n",
    "df_subset['topic_colb_mean_name']=df_subset['topic_colb_mean'].apply(lambda x: topics_colb_mean[x])\n",
    "df_subset['topic_labse_name']=df_subset['topic_labse'].apply(lambda x: topics_labse[x])"
   ]
  },
  {
   "cell_type": "code",
   "execution_count": 64,
   "id": "d5f7b8d1-91e1-44f4-9510-a1a96d8608ca",
   "metadata": {
    "pycharm": {
     "name": "#%%\n"
    }
   },
   "outputs": [
    {
     "data": {
      "text/html": [
       "<div>\n",
       "<style scoped>\n",
       "    .dataframe tbody tr th:only-of-type {\n",
       "        vertical-align: middle;\n",
       "    }\n",
       "\n",
       "    .dataframe tbody tr th {\n",
       "        vertical-align: top;\n",
       "    }\n",
       "\n",
       "    .dataframe thead th {\n",
       "        text-align: right;\n",
       "    }\n",
       "</style>\n",
       "<table border=\"1\" class=\"dataframe\">\n",
       "  <thead>\n",
       "    <tr style=\"text-align: right;\">\n",
       "      <th></th>\n",
       "      <th>text_splitted</th>\n",
       "      <th>topic_e5_name</th>\n",
       "      <th>topic_labse_name</th>\n",
       "    </tr>\n",
       "  </thead>\n",
       "  <tbody>\n",
       "    <tr>\n",
       "      <th>464908</th>\n",
       "      <td>taustal teie tegevust või vähemalt teie lähtepunkte hindama kas te teate neid</td>\n",
       "      <td>-1_ma_et_ei_see</td>\n",
       "      <td>-1_et_see_on_ei</td>\n",
       "    </tr>\n",
       "    <tr>\n",
       "      <th>449156</th>\n",
       "      <td>jüri ratas juba ülendatud siia meie esimeheks aga igal juhul vastutav minister oli teie erakonnast miks tol korral ei tehtud seda kohe tähtajatult miks see süsteemi muutus ei toimunud niimoodi et me ei peaks täna seda siin arutama ja 1. jaanuarist ei pöörataks süsteemi tagasi</td>\n",
       "      <td>-1_ma_et_ei_see</td>\n",
       "      <td>0_hea_juhataja_lugupeetud_austatud</td>\n",
       "    </tr>\n",
       "    <tr>\n",
       "      <th>438539</th>\n",
       "      <td>hea ettekandja ma tänan teid rohkem küsimusi ei ole avan läbirääkimised ja palun riigikogu kõnetooli eesti 200 fraktsiooni esindaja irja lutsari palun</td>\n",
       "      <td>42_avan_läbirääkimised_küsimusi_kõnetooli</td>\n",
       "      <td>43_küsimusi_ettekandja_avan_kõnetooli</td>\n",
       "    </tr>\n",
       "    <tr>\n",
       "      <th>458091</th>\n",
       "      <td>menetleda eks lõpliku hinnangu saab igaüks ise anda aga see oli tõesti üks arutelu telgi meil komisjonis siis oli juttu sellest kas eelnõu algataja on kursis sellega et nagu me mäletame siin oli eelnõu 241 mida teise ja kolmanda lugemise vahel muudeti ja seal oli osa riigikogu liikmete poolt hinnanguna antud mõningad keelelised korrektuurid teise ja kolmanda lugemise vahel me märkasime et need keelelised korrektuurid mis meie tegime toona selles eelnõus ära põhiseaduskomisjoni poolt ja mille suur saal heaks kiitis</td>\n",
       "      <td>-1_ma_et_ei_see</td>\n",
       "      <td>4_eelnõu_komisjoni_arutelu_komisjonis</td>\n",
       "    </tr>\n",
       "    <tr>\n",
       "      <th>456208</th>\n",
       "      <td>auditis me võtsime aluseks tuuleenergia just seetõttu et tuuleenergiat on võimalik toota nii öösel kui ka päeval see ei ole kuidagi seotud päikesevalgusega päevasel ajal ehk on palju tõhusam ja kui vaatame seda võimsust mis on vaja võrku liita ligikaudu 1 gigavatt merel ja 1 gigavatt maal siis näeme et võrguga liitumise puhul just tuuleenergia on see mis on efektiivsem suurema kasuteguriga ja see eelis tuleks tekitada et rajatav võimsus ka reaalselt võrku saaks elektrit anda me näeme et tänapäeva</td>\n",
       "      <td>5_taastuvenergia_võrku_elektrit_2030</td>\n",
       "      <td>1_gaasi_hind_elektri_energia</td>\n",
       "    </tr>\n",
       "    <tr>\n",
       "      <th>415800</th>\n",
       "      <td>suuremal määral peaks hüvitisena samasse piirkonda tagasi minema miks teil konsensust ei ole kas te olete sellest valitsuskabinetis ministritega rääkimas käinud või ei ole</td>\n",
       "      <td>-1_ma_et_ei_see</td>\n",
       "      <td>-1_et_see_on_ei</td>\n",
       "    </tr>\n",
       "    <tr>\n",
       "      <th>447997</th>\n",
       "      <td>see igati loogiline aga miks me räägime paljulapseliste perede suuremast toetusevajadusest on ju see et on vaja anda meie peredele teatud turvatunne ma just rõhutan seda turvatunnet et nad saavad ka hakkama siis kui perre tuleb üks laps või kaks last juurde ja jõutakse ka kolme lapseni või veel rõõmustavam nelja või isegi rohkema lapseni alles alates kolmest lapsest me saame rääkida rahvastiku taastootmisest ja eestlased kui väga väike rahvas ei saa sellest mööda vaadata me peame sellest kindlasti rääkima</td>\n",
       "      <td>1_perede_pere_lapse_lapsi</td>\n",
       "      <td>6_lapsi_pere_laste_perede</td>\n",
       "    </tr>\n",
       "    <tr>\n",
       "      <th>447198</th>\n",
       "      <td>aitäh jah see kõne on väga palju kantud sellest et euroopas on käimas sõda ja selle kõne eesmärk on anda ülevaade riigikogule eesti valitsuse tegevusest euroopa liidus sellel aastal kuna sõda algas veebruaris siis kõik need otsused ja tegevused on väga palju selle sõjaga seotud seda esiteks teiseks mis puudutab põllumajandustoetusi siis tõesti on 2004. aastal liitunute toetused erinevad selle eest et need oleksid samasugused oleme me kogu aeg võidelnud ja võitleme ka edasi nii et see on täiesti kavas</td>\n",
       "      <td>-1_ma_et_ei_see</td>\n",
       "      <td>-1_et_see_on_ei</td>\n",
       "    </tr>\n",
       "    <tr>\n",
       "      <th>437845</th>\n",
       "      <td>aitäh aivar kokk palun isamaa fraktsiooni nimel</td>\n",
       "      <td>378_nimel_fraktsiooni_isamaa_kokk</td>\n",
       "      <td>125_nimel_isamaa_fraktsiooni_kokk</td>\n",
       "    </tr>\n",
       "    <tr>\n",
       "      <th>439503</th>\n",
       "      <td>raivo tamm palun</td>\n",
       "      <td>304_reili_rand_raivo_tamm</td>\n",
       "      <td>150_kotka_siret_tiit_terik</td>\n",
       "    </tr>\n",
       "    <tr>\n",
       "      <th>431318</th>\n",
       "      <td>mõjute ka niimoodi arusaamatult arvestades asjaolu et te olete ühtlasi eesti suurima omavalitsuse linnavolikogu esimees minu küsimus teile ongi kas te tallinna linnavolikogu esimehena peate tõesti mõistlikuks tallinna linna eelarvet ulatuslikult mitme miljoni euro ulatuses kärpida</td>\n",
       "      <td>-1_ma_et_ei_see</td>\n",
       "      <td>-1_et_see_on_ei</td>\n",
       "    </tr>\n",
       "    <tr>\n",
       "      <th>455740</th>\n",
       "      <td>mina olen veendunud et tegevuspõhise eelarve metoodika on õige aga ma arvan et seda peab täiendama majandusüksuste ja riigi raamatupidamise kataloogi järgsete tulude ja kulude võrdlemisega see puudutab näiteks sedasama kaitsetahet kui meil oleksid näiteks ma ei tea kaitseväe eelarve kulud kululiikide lõikes aga me ei teaks me ei märkaks või ei hindaks eelarve protsessis kas kaitsetahe on alles kas ta väheneb või kasvab siis me isegi ei märkaks et me kasutame vahendeid valesti või et mingisugune asi on kusagil</td>\n",
       "      <td>145_tegevuspõhise_eelarve_riigieelarve_tegevuspõhine</td>\n",
       "      <td>339_kõikehõlmavam_märkaks_eelarve_kotis</td>\n",
       "    </tr>\n",
       "    <tr>\n",
       "      <th>432129</th>\n",
       "      <td>aitäh kert kingo palun vastusõnavõtt</td>\n",
       "      <td>83_kingo_kert_protseduuriline_lisaküsimus</td>\n",
       "      <td>69_vastusõnavõtt_järgnevalt_mart_palun</td>\n",
       "    </tr>\n",
       "    <tr>\n",
       "      <th>424449</th>\n",
       "      <td>saab rõõmustada ja vastu rinda lüüa et näete mis me kõik head oleme teinud see oli keskerakonna ettepanek ka keskmise pensioni maksuvabastuse suhtes leppisime kokku nii et need on varasemalt tehtud otsused kahjuks on praegu juba nii palju vett merre voolanud ja see meeletu inflatsioon on tegelikult ju teinud need otsused lahjemaks. tegelikult meie oleme rääkinud et vaatamata sellele et järgmine aasta keskmine pension tõuseb kuskil 18% kui me vaatame neid inflatsiooninumbreid siis see ei tundugi enam nii suur me</td>\n",
       "      <td>32_pension_pensionitõusu_pensioni_keskmine</td>\n",
       "      <td>-1_et_see_on_ei</td>\n",
       "    </tr>\n",
       "    <tr>\n",
       "      <th>439271</th>\n",
       "      <td>hea juhataja head kolleegid ma kõigepealt ikkagi tõden et minister riina sikkuti aadressil on kõlanud siit puldist ja saalist ebasobivaid väljendeid ma võtan selle enda peale ja vabandan nende eest head sõbrad me oleme siin viimased tunnid teinud väga vale asja juhataja helistab kella. tunnistan et see umbusaldusavaldus meenutab mulle ajaloost ülihästi tuntud sokratese kohtuprotsessi mis tõsi toimus umbes kaks ja pool tuhat aastat tagasi ka seal kõlasid absurdsed süüdistused ateena tänavatel inimestele mõtlemist õpetanud ja mõttekäike korrastanud filosoofi aadressil</td>\n",
       "      <td>347_riina_sikkut_sokratese_sikkuti</td>\n",
       "      <td>0_hea_juhataja_lugupeetud_austatud</td>\n",
       "    </tr>\n",
       "    <tr>\n",
       "      <th>453472</th>\n",
       "      <td>valesti jagunemisel ja nüüd ma juba mitmes kord seletan ka siit puldist seda miks need valesti jagunevad kui me teeme üleriigilisi toetusmeetmeid siis selline suurde puhtasse konkurentsi uskumine teatavasti alati ei tööta sellisena nagu sellest ilusat juttu räägitakse siin on hea näide kui me teeme üleriigilise toetusmeetme kus saab osaleda ka mõni võru- või valga- või põlvamaa ettevõtja ja harjumaa ettevõtja siis tihtilugu on nii et harjumaa ettevõtjal on rohkem rahalist ressurssi rohkem teadmiste ressurssi inimressurssi ja ta kirjutab lihtsalt</td>\n",
       "      <td>115_regionaalset_regionaalse_euroraha_raha</td>\n",
       "      <td>-1_et_see_on_ei</td>\n",
       "    </tr>\n",
       "    <tr>\n",
       "      <th>463724</th>\n",
       "      <td>oma põhiseaduse kallale</td>\n",
       "      <td>6_hääletada_lahendada_vabandust_karmilt</td>\n",
       "      <td>-1_et_see_on_ei</td>\n",
       "    </tr>\n",
       "    <tr>\n",
       "      <th>450504</th>\n",
       "      <td>kaja kallas palun</td>\n",
       "      <td>23_kallas_kaja_palun_</td>\n",
       "      <td>8_kallas_kaja_palun_madis</td>\n",
       "    </tr>\n",
       "    <tr>\n",
       "      <th>454549</th>\n",
       "      <td>erinevaid sõnavõtte ja ilmselgelt kõike ei peagi protokollima sest komisjoni protokoll ei ole stenogramm see on protokoll kokkuvõte sellest aga seal oli väga erinevaid ja kirevaid sõnavõtte nii nagu ma ütlesin seal oli minu hinnangul ka neid sõnavõtte mis ei olnud kolleegide suhtes lugupidavad ma ei kiida seda heaks aga need jäävad nende heade kolleegide südametunnistusele aga nii nagu ka hea istungi juhataja ütles tõesti siin on nagu kaks varianti kas ma vastan teile lühidalt ütlen et komisjonis neid teemasid</td>\n",
       "      <td>136_komisjoni_komisjonis_isiklikke_seisukohti</td>\n",
       "      <td>0_hea_juhataja_lugupeetud_austatud</td>\n",
       "    </tr>\n",
       "    <tr>\n",
       "      <th>449958</th>\n",
       "      <td>ekre-st toona veel eraldas valitsus 0,0% palgatõusudeks palgad tõusid politseis 0,0% ja päästes ka 0,0% ehk siis ei tõusnud. meil mõlemal oli õigus. te olete tõstnud neid palkasid aga kahjuks kärpimise kaudu ja siis te ei ole neid tõstnud olete ühe aasta vahele jätnud sellest on väga kahju aga ma tean kalle grünthal et te kuulete alati väga erinevat infot mis mõnikord ei vasta tõele. me olime teiega 3. jaanuaril paides koos kui asetasime pärgi vabadussõjas langenute mälestusmärgi juurde. ma</td>\n",
       "      <td>39_päästjate_politseinike_palka_siseturvalisuse</td>\n",
       "      <td>-1_et_see_on_ei</td>\n",
       "    </tr>\n",
       "  </tbody>\n",
       "</table>\n",
       "</div>"
      ],
      "text/plain": [
       "                                                                                                                                                                                                                                                                                                                                                                                                                                                                                                                                                                                       text_splitted  \\\n",
       "464908  taustal teie tegevust või vähemalt teie lähtepunkte hindama kas te teate neid                                                                                                                                                                                                                                                                                                                                                                                                                                                                                                                  \n",
       "449156  jüri ratas juba ülendatud siia meie esimeheks aga igal juhul vastutav minister oli teie erakonnast miks tol korral ei tehtud seda kohe tähtajatult miks see süsteemi muutus ei toimunud niimoodi et me ei peaks täna seda siin arutama ja 1. jaanuarist ei pöörataks süsteemi tagasi                                                                                                                                                                                                                                                                                                           \n",
       "438539  hea ettekandja ma tänan teid rohkem küsimusi ei ole avan läbirääkimised ja palun riigikogu kõnetooli eesti 200 fraktsiooni esindaja irja lutsari palun                                                                                                                                                                                                                                                                                                                                                                                                                                         \n",
       "458091  menetleda eks lõpliku hinnangu saab igaüks ise anda aga see oli tõesti üks arutelu telgi meil komisjonis siis oli juttu sellest kas eelnõu algataja on kursis sellega et nagu me mäletame siin oli eelnõu 241 mida teise ja kolmanda lugemise vahel muudeti ja seal oli osa riigikogu liikmete poolt hinnanguna antud mõningad keelelised korrektuurid teise ja kolmanda lugemise vahel me märkasime et need keelelised korrektuurid mis meie tegime toona selles eelnõus ära põhiseaduskomisjoni poolt ja mille suur saal heaks kiitis                                                        \n",
       "456208  auditis me võtsime aluseks tuuleenergia just seetõttu et tuuleenergiat on võimalik toota nii öösel kui ka päeval see ei ole kuidagi seotud päikesevalgusega päevasel ajal ehk on palju tõhusam ja kui vaatame seda võimsust mis on vaja võrku liita ligikaudu 1 gigavatt merel ja 1 gigavatt maal siis näeme et võrguga liitumise puhul just tuuleenergia on see mis on efektiivsem suurema kasuteguriga ja see eelis tuleks tekitada et rajatav võimsus ka reaalselt võrku saaks elektrit anda me näeme et tänapäeva                                                                          \n",
       "415800  suuremal määral peaks hüvitisena samasse piirkonda tagasi minema miks teil konsensust ei ole kas te olete sellest valitsuskabinetis ministritega rääkimas käinud või ei ole                                                                                                                                                                                                                                                                                                                                                                                                                    \n",
       "447997  see igati loogiline aga miks me räägime paljulapseliste perede suuremast toetusevajadusest on ju see et on vaja anda meie peredele teatud turvatunne ma just rõhutan seda turvatunnet et nad saavad ka hakkama siis kui perre tuleb üks laps või kaks last juurde ja jõutakse ka kolme lapseni või veel rõõmustavam nelja või isegi rohkema lapseni alles alates kolmest lapsest me saame rääkida rahvastiku taastootmisest ja eestlased kui väga väike rahvas ei saa sellest mööda vaadata me peame sellest kindlasti rääkima                                                                 \n",
       "447198  aitäh jah see kõne on väga palju kantud sellest et euroopas on käimas sõda ja selle kõne eesmärk on anda ülevaade riigikogule eesti valitsuse tegevusest euroopa liidus sellel aastal kuna sõda algas veebruaris siis kõik need otsused ja tegevused on väga palju selle sõjaga seotud seda esiteks teiseks mis puudutab põllumajandustoetusi siis tõesti on 2004. aastal liitunute toetused erinevad selle eest et need oleksid samasugused oleme me kogu aeg võidelnud ja võitleme ka edasi nii et see on täiesti kavas                                                                      \n",
       "437845  aitäh aivar kokk palun isamaa fraktsiooni nimel                                                                                                                                                                                                                                                                                                                                                                                                                                                                                                                                                \n",
       "439503  raivo tamm palun                                                                                                                                                                                                                                                                                                                                                                                                                                                                                                                                                                               \n",
       "431318  mõjute ka niimoodi arusaamatult arvestades asjaolu et te olete ühtlasi eesti suurima omavalitsuse linnavolikogu esimees minu küsimus teile ongi kas te tallinna linnavolikogu esimehena peate tõesti mõistlikuks tallinna linna eelarvet ulatuslikult mitme miljoni euro ulatuses kärpida                                                                                                                                                                                                                                                                                                      \n",
       "455740  mina olen veendunud et tegevuspõhise eelarve metoodika on õige aga ma arvan et seda peab täiendama majandusüksuste ja riigi raamatupidamise kataloogi järgsete tulude ja kulude võrdlemisega see puudutab näiteks sedasama kaitsetahet kui meil oleksid näiteks ma ei tea kaitseväe eelarve kulud kululiikide lõikes aga me ei teaks me ei märkaks või ei hindaks eelarve protsessis kas kaitsetahe on alles kas ta väheneb või kasvab siis me isegi ei märkaks et me kasutame vahendeid valesti või et mingisugune asi on kusagil                                                             \n",
       "432129  aitäh kert kingo palun vastusõnavõtt                                                                                                                                                                                                                                                                                                                                                                                                                                                                                                                                                           \n",
       "424449  saab rõõmustada ja vastu rinda lüüa et näete mis me kõik head oleme teinud see oli keskerakonna ettepanek ka keskmise pensioni maksuvabastuse suhtes leppisime kokku nii et need on varasemalt tehtud otsused kahjuks on praegu juba nii palju vett merre voolanud ja see meeletu inflatsioon on tegelikult ju teinud need otsused lahjemaks. tegelikult meie oleme rääkinud et vaatamata sellele et järgmine aasta keskmine pension tõuseb kuskil 18% kui me vaatame neid inflatsiooninumbreid siis see ei tundugi enam nii suur me                                                           \n",
       "439271  hea juhataja head kolleegid ma kõigepealt ikkagi tõden et minister riina sikkuti aadressil on kõlanud siit puldist ja saalist ebasobivaid väljendeid ma võtan selle enda peale ja vabandan nende eest head sõbrad me oleme siin viimased tunnid teinud väga vale asja juhataja helistab kella. tunnistan et see umbusaldusavaldus meenutab mulle ajaloost ülihästi tuntud sokratese kohtuprotsessi mis tõsi toimus umbes kaks ja pool tuhat aastat tagasi ka seal kõlasid absurdsed süüdistused ateena tänavatel inimestele mõtlemist õpetanud ja mõttekäike korrastanud filosoofi aadressil   \n",
       "453472  valesti jagunemisel ja nüüd ma juba mitmes kord seletan ka siit puldist seda miks need valesti jagunevad kui me teeme üleriigilisi toetusmeetmeid siis selline suurde puhtasse konkurentsi uskumine teatavasti alati ei tööta sellisena nagu sellest ilusat juttu räägitakse siin on hea näide kui me teeme üleriigilise toetusmeetme kus saab osaleda ka mõni võru- või valga- või põlvamaa ettevõtja ja harjumaa ettevõtja siis tihtilugu on nii et harjumaa ettevõtjal on rohkem rahalist ressurssi rohkem teadmiste ressurssi inimressurssi ja ta kirjutab lihtsalt                        \n",
       "463724  oma põhiseaduse kallale                                                                                                                                                                                                                                                                                                                                                                                                                                                                                                                                                                        \n",
       "450504  kaja kallas palun                                                                                                                                                                                                                                                                                                                                                                                                                                                                                                                                                                              \n",
       "454549  erinevaid sõnavõtte ja ilmselgelt kõike ei peagi protokollima sest komisjoni protokoll ei ole stenogramm see on protokoll kokkuvõte sellest aga seal oli väga erinevaid ja kirevaid sõnavõtte nii nagu ma ütlesin seal oli minu hinnangul ka neid sõnavõtte mis ei olnud kolleegide suhtes lugupidavad ma ei kiida seda heaks aga need jäävad nende heade kolleegide südametunnistusele aga nii nagu ka hea istungi juhataja ütles tõesti siin on nagu kaks varianti kas ma vastan teile lühidalt ütlen et komisjonis neid teemasid                                                            \n",
       "449958  ekre-st toona veel eraldas valitsus 0,0% palgatõusudeks palgad tõusid politseis 0,0% ja päästes ka 0,0% ehk siis ei tõusnud. meil mõlemal oli õigus. te olete tõstnud neid palkasid aga kahjuks kärpimise kaudu ja siis te ei ole neid tõstnud olete ühe aasta vahele jätnud sellest on väga kahju aga ma tean kalle grünthal et te kuulete alati väga erinevat infot mis mõnikord ei vasta tõele. me olime teiega 3. jaanuaril paides koos kui asetasime pärgi vabadussõjas langenute mälestusmärgi juurde. ma                                                                                \n",
       "\n",
       "                                               topic_e5_name  \\\n",
       "464908  -1_ma_et_ei_see                                        \n",
       "449156  -1_ma_et_ei_see                                        \n",
       "438539  42_avan_läbirääkimised_küsimusi_kõnetooli              \n",
       "458091  -1_ma_et_ei_see                                        \n",
       "456208  5_taastuvenergia_võrku_elektrit_2030                   \n",
       "415800  -1_ma_et_ei_see                                        \n",
       "447997  1_perede_pere_lapse_lapsi                              \n",
       "447198  -1_ma_et_ei_see                                        \n",
       "437845  378_nimel_fraktsiooni_isamaa_kokk                      \n",
       "439503  304_reili_rand_raivo_tamm                              \n",
       "431318  -1_ma_et_ei_see                                        \n",
       "455740  145_tegevuspõhise_eelarve_riigieelarve_tegevuspõhine   \n",
       "432129  83_kingo_kert_protseduuriline_lisaküsimus              \n",
       "424449  32_pension_pensionitõusu_pensioni_keskmine             \n",
       "439271  347_riina_sikkut_sokratese_sikkuti                     \n",
       "453472  115_regionaalset_regionaalse_euroraha_raha             \n",
       "463724  6_hääletada_lahendada_vabandust_karmilt                \n",
       "450504  23_kallas_kaja_palun_                                  \n",
       "454549  136_komisjoni_komisjonis_isiklikke_seisukohti          \n",
       "449958  39_päästjate_politseinike_palka_siseturvalisuse        \n",
       "\n",
       "                               topic_labse_name  \n",
       "464908  -1_et_see_on_ei                          \n",
       "449156  0_hea_juhataja_lugupeetud_austatud       \n",
       "438539  43_küsimusi_ettekandja_avan_kõnetooli    \n",
       "458091  4_eelnõu_komisjoni_arutelu_komisjonis    \n",
       "456208  1_gaasi_hind_elektri_energia             \n",
       "415800  -1_et_see_on_ei                          \n",
       "447997  6_lapsi_pere_laste_perede                \n",
       "447198  -1_et_see_on_ei                          \n",
       "437845  125_nimel_isamaa_fraktsiooni_kokk        \n",
       "439503  150_kotka_siret_tiit_terik               \n",
       "431318  -1_et_see_on_ei                          \n",
       "455740  339_kõikehõlmavam_märkaks_eelarve_kotis  \n",
       "432129  69_vastusõnavõtt_järgnevalt_mart_palun   \n",
       "424449  -1_et_see_on_ei                          \n",
       "439271  0_hea_juhataja_lugupeetud_austatud       \n",
       "453472  -1_et_see_on_ei                          \n",
       "463724  -1_et_see_on_ei                          \n",
       "450504  8_kallas_kaja_palun_madis                \n",
       "454549  0_hea_juhataja_lugupeetud_austatud       \n",
       "449958  -1_et_see_on_ei                          "
      ]
     },
     "execution_count": 64,
     "metadata": {},
     "output_type": "execute_result"
    }
   ],
   "source": [
    "df_subset[['text_splitted','topic_e5_name', 'topic_labse_name']].sample(20)"
   ]
  },
  {
   "cell_type": "code",
   "execution_count": 65,
   "id": "db6800ea-2f72-46ac-ac53-9beccee658c2",
   "metadata": {
    "pycharm": {
     "name": "#%%\n"
    }
   },
   "outputs": [
    {
     "data": {
      "text/html": [
       "<div>\n",
       "<style scoped>\n",
       "    .dataframe tbody tr th:only-of-type {\n",
       "        vertical-align: middle;\n",
       "    }\n",
       "\n",
       "    .dataframe tbody tr th {\n",
       "        vertical-align: top;\n",
       "    }\n",
       "\n",
       "    .dataframe thead th {\n",
       "        text-align: right;\n",
       "    }\n",
       "</style>\n",
       "<table border=\"1\" class=\"dataframe\">\n",
       "  <thead>\n",
       "    <tr style=\"text-align: right;\">\n",
       "      <th></th>\n",
       "      <th>text_splitted</th>\n",
       "      <th>topic_bge_name</th>\n",
       "      <th>topic_e5_name</th>\n",
       "      <th>topic_colb_cls_name</th>\n",
       "      <th>topic_colb_mean_name</th>\n",
       "      <th>topic_labse_name</th>\n",
       "    </tr>\n",
       "  </thead>\n",
       "  <tbody>\n",
       "    <tr>\n",
       "      <th>415494</th>\n",
       "      <td>jaa palun</td>\n",
       "      <td>267_alender_yoko_jaa_palun</td>\n",
       "      <td>355_jaa_jah_palun_paluksin</td>\n",
       "      <td>254_raidma_mati_jaa_jah</td>\n",
       "      <td>179_jaa_jah_palun_stopper</td>\n",
       "      <td>246_jaa_jah_palun_stopper</td>\n",
       "    </tr>\n",
       "    <tr>\n",
       "      <th>415495</th>\n",
       "      <td>pidasime vello saage parima kirjandusõpetaja juubelit tartus tal on kuulus tsitaat mida õpilased meenutavad sa pead koolis käima kui sa koolis ei käi siis õpetaja ei saa sulle kolme välja panna kui sa käid koolis siis ta kuidagimoodi leiab selle lahenduse et sulle kolm välja panna kui sa kooli ei tule siis sa kukud lihtsalt läbi. hästi võib-olla ta aitas ka mitte ei pannud ainult kolme välja. aga see on hästi oluline et koolid saaksid selle instrumendi kuidas toetada õpilasi</td>\n",
       "      <td>4_keele_eestikeelsele_keelt_kooli</td>\n",
       "      <td>4_eestikeelsele_keele_keelt_kooli</td>\n",
       "      <td>-1_et_on_ja_see</td>\n",
       "      <td>-1_et_on_ja_see</td>\n",
       "      <td>2_keele_keelt_keeles_õpetajate</td>\n",
       "    </tr>\n",
       "    <tr>\n",
       "      <th>415496</th>\n",
       "      <td>et neile antaks ministeeriumi poolt mitte ainult välist seiret vaid ka tuge ma tean et ministeerium on käivitamas koolide kvaliteedi arendamise programmi koostöös kov‑idega mis võiks toetada seda et koolid arenevad sellisele tasemele kindlasti on õpetajate palk hästi suur motivaator ja võib-olla võiks seda toetada ka koolivõrgu reform sest kust me saame selle raha et õpetajate palka tõsta. aga ma arvan et seesama ettepanek mis koolide poolt tuleb näiteks madis somelari ettepanek viia õpetaja palk sõltuvusse õpetaja tulemustest on omakorda</td>\n",
       "      <td>85_õpetajate_palk_palga_palka</td>\n",
       "      <td>-1_ma_et_ei_see</td>\n",
       "      <td>-1_et_on_ja_see</td>\n",
       "      <td>-1_et_on_ja_see</td>\n",
       "      <td>-1_et_see_on_ei</td>\n",
       "    </tr>\n",
       "    <tr>\n",
       "      <th>415497</th>\n",
       "      <td>väga motiveeriv asi mitte ainult see et parimatel õpilastel on parimad tulemused vaid kui just nimelt need kellel on õpiraskused viiakse paremate tulemuste saavutamiseni siis peaks õpetajat premeerima kolmandaks tõepoolest teine riigieksam järeleksamina lõpetada ära see et me lihtsalt näitame mingeid tulemusi õpetajate palk raha haridusse juurde koolide kvaliteedi arendamise programmi kaudu tuleb toetada neid koole et nad kõik hakkama saaksid ma arvan et see tulemus on tehtav selge et siin on riskid aga me ei tohiks kõhelda vaid minna</td>\n",
       "      <td>-1_ma_et_me_ja</td>\n",
       "      <td>94_põhikooli_lävendi_lävend_eksamid</td>\n",
       "      <td>-1_et_on_ja_see</td>\n",
       "      <td>-1_et_on_ja_see</td>\n",
       "      <td>2_keele_keelt_keeles_õpetajate</td>\n",
       "    </tr>\n",
       "    <tr>\n",
       "      <th>415498</th>\n",
       "      <td>edasi sellelsamal teel jõuda ennastjuhtiva õppijani ja jõuda ka selleni et õppimine ja eksamid toetavad mitte ei ole need mis löövad templi et sina oled läbi kukkunud sina oled saamatu need õpilased kes viskavad oma punaseks tehtud kontrolltöö prügikasti ei jõua mitte kunagi kusagile nemad jõuavad kes hoolivad sellest kes arvavad, et see on neile tagasiside mis aitab neil paremaks saada need punaseks tehtud kontrolltööd on see peamine koht mille põhjal tegelikult tekib õppimisvõimalus läbikukkumist ei tohiks karta me peame</td>\n",
       "      <td>82_põhikooli_lävendi_lävend_eksamid</td>\n",
       "      <td>94_põhikooli_lävendi_lävend_eksamid</td>\n",
       "      <td>-1_et_on_ja_see</td>\n",
       "      <td>-1_et_on_ja_see</td>\n",
       "      <td>2_keele_keelt_keeles_õpetajate</td>\n",
       "    </tr>\n",
       "  </tbody>\n",
       "</table>\n",
       "</div>"
      ],
      "text/plain": [
       "                                                                                                                                                                                                                                                                                                                                                                                                                                                                                                                                                           text_splitted  \\\n",
       "415494  jaa palun                                                                                                                                                                                                                                                                                                                                                                                                                                                                                                                                                          \n",
       "415495  pidasime vello saage parima kirjandusõpetaja juubelit tartus tal on kuulus tsitaat mida õpilased meenutavad sa pead koolis käima kui sa koolis ei käi siis õpetaja ei saa sulle kolme välja panna kui sa käid koolis siis ta kuidagimoodi leiab selle lahenduse et sulle kolm välja panna kui sa kooli ei tule siis sa kukud lihtsalt läbi. hästi võib-olla ta aitas ka mitte ei pannud ainult kolme välja. aga see on hästi oluline et koolid saaksid selle instrumendi kuidas toetada õpilasi                                                                    \n",
       "415496  et neile antaks ministeeriumi poolt mitte ainult välist seiret vaid ka tuge ma tean et ministeerium on käivitamas koolide kvaliteedi arendamise programmi koostöös kov‑idega mis võiks toetada seda et koolid arenevad sellisele tasemele kindlasti on õpetajate palk hästi suur motivaator ja võib-olla võiks seda toetada ka koolivõrgu reform sest kust me saame selle raha et õpetajate palka tõsta. aga ma arvan et seesama ettepanek mis koolide poolt tuleb näiteks madis somelari ettepanek viia õpetaja palk sõltuvusse õpetaja tulemustest on omakorda   \n",
       "415497  väga motiveeriv asi mitte ainult see et parimatel õpilastel on parimad tulemused vaid kui just nimelt need kellel on õpiraskused viiakse paremate tulemuste saavutamiseni siis peaks õpetajat premeerima kolmandaks tõepoolest teine riigieksam järeleksamina lõpetada ära see et me lihtsalt näitame mingeid tulemusi õpetajate palk raha haridusse juurde koolide kvaliteedi arendamise programmi kaudu tuleb toetada neid koole et nad kõik hakkama saaksid ma arvan et see tulemus on tehtav selge et siin on riskid aga me ei tohiks kõhelda vaid minna       \n",
       "415498  edasi sellelsamal teel jõuda ennastjuhtiva õppijani ja jõuda ka selleni et õppimine ja eksamid toetavad mitte ei ole need mis löövad templi et sina oled läbi kukkunud sina oled saamatu need õpilased kes viskavad oma punaseks tehtud kontrolltöö prügikasti ei jõua mitte kunagi kusagile nemad jõuavad kes hoolivad sellest kes arvavad, et see on neile tagasiside mis aitab neil paremaks saada need punaseks tehtud kontrolltööd on see peamine koht mille põhjal tegelikult tekib õppimisvõimalus läbikukkumist ei tohiks karta me peame                   \n",
       "\n",
       "                             topic_bge_name  \\\n",
       "415494  267_alender_yoko_jaa_palun            \n",
       "415495  4_keele_eestikeelsele_keelt_kooli     \n",
       "415496  85_õpetajate_palk_palga_palka         \n",
       "415497  -1_ma_et_me_ja                        \n",
       "415498  82_põhikooli_lävendi_lävend_eksamid   \n",
       "\n",
       "                              topic_e5_name      topic_colb_cls_name  \\\n",
       "415494  355_jaa_jah_palun_paluksin           254_raidma_mati_jaa_jah   \n",
       "415495  4_eestikeelsele_keele_keelt_kooli    -1_et_on_ja_see           \n",
       "415496  -1_ma_et_ei_see                      -1_et_on_ja_see           \n",
       "415497  94_põhikooli_lävendi_lävend_eksamid  -1_et_on_ja_see           \n",
       "415498  94_põhikooli_lävendi_lävend_eksamid  -1_et_on_ja_see           \n",
       "\n",
       "             topic_colb_mean_name                topic_labse_name  \n",
       "415494  179_jaa_jah_palun_stopper  246_jaa_jah_palun_stopper       \n",
       "415495  -1_et_on_ja_see            2_keele_keelt_keeles_õpetajate  \n",
       "415496  -1_et_on_ja_see            -1_et_see_on_ei                 \n",
       "415497  -1_et_on_ja_see            2_keele_keelt_keeles_õpetajate  \n",
       "415498  -1_et_on_ja_see            2_keele_keelt_keeles_õpetajate  "
      ]
     },
     "execution_count": 65,
     "metadata": {},
     "output_type": "execute_result"
    }
   ],
   "source": [
    "df_subset[['text_splitted', 'topic_bge_name', 'topic_e5_name', 'topic_colb_cls_name', 'topic_colb_mean_name', 'topic_labse_name']].head()"
   ]
  },
  {
   "cell_type": "code",
   "execution_count": 66,
   "id": "6a0de1f6-8e6b-4af7-9eb5-ff200a81fa7e",
   "metadata": {
    "pycharm": {
     "name": "#%%\n"
    }
   },
   "outputs": [
    {
     "data": {
      "text/plain": [
       "-1_ma_et_me_ja                                                      19323\n",
       "0_perede_pere_lapse_lasterikka                                      1049 \n",
       "1_taastuvenergia_põlevkivi_elektrit_energia                         826  \n",
       "2_omavalitsuste_omavalitsused_kohalike_omavalitsustele              804  \n",
       "3_gaasi_lng_soome_laev                                              753  \n",
       "                                                                   ...   \n",
       "519_rahvastikupoliitika_kohtumine_valitsuskomisjoni_arengukava      10   \n",
       "520_jääk_kasutamata_eraldatud_kasutatud                             10   \n",
       "521_tööpäeva_muudatusettepanekute_tähtajaks_parandusettepanekute    10   \n",
       "522_kaitseväe_moraalne_viga_vabastati                               10   \n",
       "523_tõene_küsige_vastasin_võite                                     10   \n",
       "Name: topic_bge_name, Length: 525, dtype: int64"
      ]
     },
     "execution_count": 66,
     "metadata": {},
     "output_type": "execute_result"
    }
   ],
   "source": [
    "df_subset['topic_bge_name'].value_counts()"
   ]
  },
  {
   "cell_type": "code",
   "execution_count": 67,
   "id": "316eac0b-7922-450a-98ec-d39a6e577879",
   "metadata": {
    "pycharm": {
     "name": "#%%\n"
    }
   },
   "outputs": [
    {
     "data": {
      "text/plain": [
       "-1_ma_et_ei_see                                             20027\n",
       "0_ukraina_venemaa_nato_ukrainas                             1347 \n",
       "1_perede_pere_lapse_lapsi                                   1112 \n",
       "2_keskmaa_riigikaitse_õhutõrje_kaitseväe                    777  \n",
       "3_gaasi_lng_laev_soome                                      682  \n",
       "                                                           ...   \n",
       "512_mikrokraadi_õpetajad_ainetes_meetoditega                10   \n",
       "513_buumiaeg_lõpptarbijatele_püstitamist_kulutasid          10   \n",
       "514_ettepanekutel_rahvusparlament_innustust_suurendaksid    10   \n",
       "515_piirissaare_kaubavedu_direktiiv_siseveekogudel          10   \n",
       "516_dubleerimist_arste_haigla_haiglavõrgu                   10   \n",
       "Name: topic_e5_name, Length: 518, dtype: int64"
      ]
     },
     "execution_count": 67,
     "metadata": {},
     "output_type": "execute_result"
    }
   ],
   "source": [
    "df_subset['topic_e5_name'].value_counts()"
   ]
  },
  {
   "cell_type": "code",
   "execution_count": 68,
   "id": "0eb05f8a-ec52-444e-a621-ecdb6dc9de7d",
   "metadata": {
    "pycharm": {
     "name": "#%%\n"
    }
   },
   "outputs": [
    {
     "data": {
      "text/plain": [
       "-1_et_on_ja_see                                            26467\n",
       "0_minister_lugupeetud_austatud_juhataja                    1803 \n",
       "1_need_kes_kõik_on                                         1131 \n",
       "2_lugupeetud_ettekandja_istungi_juhataja                   915  \n",
       "3_head_kolleegid_riigikogu_austatud                        894  \n",
       "                                                          ...   \n",
       "361_kandideerinud_harjutusväljasid_põhiseadust_lõimitud    10   \n",
       "362_alkoholi_lätti_kasutusega_olematuks                    10   \n",
       "363_naeravad_halvene_hankeid_teenus                        10   \n",
       "364_koolieelses_lasteasutuses_lasteaia_kraamiti            10   \n",
       "365_täiendate_vaatasite_il_soovib                          10   \n",
       "Name: topic_colb_cls_name, Length: 367, dtype: int64"
      ]
     },
     "execution_count": 68,
     "metadata": {},
     "output_type": "execute_result"
    }
   ],
   "source": [
    "df_subset['topic_colb_cls_name'].value_counts()"
   ]
  },
  {
   "cell_type": "code",
   "execution_count": 69,
   "id": "af049706-fe79-4d32-b969-eba1ca4c81f9",
   "metadata": {
    "pycharm": {
     "name": "#%%\n"
    }
   },
   "outputs": [
    {
     "data": {
      "text/plain": [
       "-1_et_on_ja_see                                           26192\n",
       "0_juhataja_lugupeetud_austatud_istungi                    3527 \n",
       "1_minister_lugupeetud_austatud_juhataja                   1951 \n",
       "2_me_ma_ei_seda                                           1262 \n",
       "3_vastata_ministril_küsija_teile                          544  \n",
       "                                                         ...   \n",
       "316_üürida_linnaosad_maa_linnaossa                        10   \n",
       "317_tagasiulatuva_kuupäevaga_teavitatakse_omanikku        10   \n",
       "318_suurepärasest_liikumisharrastus_aitamist_maksuvaba    10   \n",
       "319_küsimusi_läbirääkimised_läbirääkimiste_venemaaga      10   \n",
       "320_jahipiirkondi_kaitseb_kohtunikest_mulje               10   \n",
       "Name: topic_colb_mean_name, Length: 322, dtype: int64"
      ]
     },
     "execution_count": 69,
     "metadata": {},
     "output_type": "execute_result"
    }
   ],
   "source": [
    "df_subset['topic_colb_mean_name'].value_counts()"
   ]
  },
  {
   "cell_type": "code",
   "execution_count": 70,
   "id": "3e6a52b8-a7c5-4240-b453-4f8e3207505f",
   "metadata": {
    "pycharm": {
     "name": "#%%\n"
    }
   },
   "outputs": [
    {
     "data": {
      "text/plain": [
       "-1_et_see_on_ei                                           25707\n",
       "0_hea_juhataja_lugupeetud_austatud                        4719 \n",
       "1_gaasi_hind_elektri_energia                              2329 \n",
       "2_keele_keelt_keeles_õpetajate                            887  \n",
       "3_ukraina_venemaa_nato_sõda                               790  \n",
       "                                                         ...   \n",
       "339_kõikehõlmavam_märkaks_eelarve_kotis                   10   \n",
       "340_lisaküsimus_järgnevalt_mart_üks                       10   \n",
       "341_kohaloleku_tere_alustame_kontroll                     10   \n",
       "342_hääletada_selleteemalist_referendumit_kandidaadiks    10   \n",
       "343_inimestele_asumi_kanne_kellel                         10   \n",
       "Name: topic_labse_name, Length: 345, dtype: int64"
      ]
     },
     "execution_count": 70,
     "metadata": {},
     "output_type": "execute_result"
    }
   ],
   "source": [
    "df_subset['topic_labse_name'].value_counts()"
   ]
  },
  {
   "cell_type": "code",
   "execution_count": 71,
   "id": "53e613e1-5436-4f24-81b5-52a4d4ed40cc",
   "metadata": {
    "pycharm": {
     "name": "#%%\n"
    }
   },
   "outputs": [
    {
     "data": {
      "text/plain": [
       "0.6187315046581778"
      ]
     },
     "execution_count": 71,
     "metadata": {},
     "output_type": "execute_result"
    }
   ],
   "source": [
    "#correlation between different model topics\n",
    "def topics_corr(topics1, topics2):\n",
    "    # Step 1: Create a contingency table\n",
    "    contingency_table = pd.crosstab(topics1, topics2)\n",
    "\n",
    "    # Step 2: Perform Chi-Square test\n",
    "    chi2, p, dof, expected = chi2_contingency(contingency_table)\n",
    "\n",
    "    # Step 3: Calculate Cramér's V\n",
    "    n = contingency_table.sum().sum()  # Total number of observations\n",
    "    r, k = contingency_table.shape  # Number of rows and columns\n",
    "    cramers_v = math.sqrt(chi2 / (n * (min(r, k) - 1)))\n",
    "    return cramers_v, expected\n",
    "\n",
    "cramers_v, expected=topics_corr(df_subset.topic_e5_name, df_subset.topic_labse_name)\n",
    "cramers_v"
   ]
  },
  {
   "cell_type": "code",
   "execution_count": 72,
   "id": "4c67f919-f98c-49c0-9d37-9dec7e68e26e",
   "metadata": {
    "pycharm": {
     "name": "#%%\n"
    }
   },
   "outputs": [
    {
     "data": {
      "text/plain": [
       "(518, 345)"
      ]
     },
     "execution_count": 72,
     "metadata": {},
     "output_type": "execute_result"
    }
   ],
   "source": [
    "expected.shape"
   ]
  },
  {
   "cell_type": "code",
   "execution_count": 73,
   "id": "52f5aa6d-abdb-41b8-be66-75dd119a6ff1",
   "metadata": {
    "pycharm": {
     "name": "#%%\n"
    }
   },
   "outputs": [
    {
     "data": {
      "text/plain": [
       "(0.6802249999419678,\n",
       " array([[7.73963442e+03, 4.20166460e+02, 2.92394200e+01, ...,\n",
       "         2.96399600e+01, 2.96399600e+01, 1.44995480e+02],\n",
       "        [5.20561620e+02, 2.82600600e+01, 1.96662000e+00, ...,\n",
       "         1.99356000e+00, 1.99356000e+00, 9.75228000e+00],\n",
       "        [2.89845000e+01, 1.57350000e+00, 1.09500000e-01, ...,\n",
       "         1.11000000e-01, 1.11000000e-01, 5.43000000e-01],\n",
       "        ...,\n",
       "        [2.93709600e+01, 1.59448000e+00, 1.10960000e-01, ...,\n",
       "         1.12480000e-01, 1.12480000e-01, 5.50240000e-01],\n",
       "        [2.89845000e+01, 1.57350000e+00, 1.09500000e-01, ...,\n",
       "         1.11000000e-01, 1.11000000e-01, 5.43000000e-01],\n",
       "        [1.45695420e+02, 7.90946000e+00, 5.50420000e-01, ...,\n",
       "         5.57960000e-01, 5.57960000e-01, 2.72948000e+00]]))"
      ]
     },
     "execution_count": 73,
     "metadata": {},
     "output_type": "execute_result"
    }
   ],
   "source": [
    "topics_corr(df_subset.topic_e5_name, df_subset.topic_bge_name)"
   ]
  },
  {
   "cell_type": "code",
   "execution_count": 74,
   "id": "2293cf20-f7fe-4416-91c6-7a2498171d1f",
   "metadata": {
    "pycharm": {
     "name": "#%%\n"
    }
   },
   "outputs": [
    {
     "data": {
      "text/plain": [
       "(0.5797495987124939,\n",
       " array([[1.04909437e+04, 1.41270458e+03, 1.76237600e+01, ...,\n",
       "         1.80243000e+01, 1.80243000e+01, 1.47799260e+02],\n",
       "        [7.05612480e+02, 9.50173800e+01, 1.18536000e+00, ...,\n",
       "         1.21230000e+00, 1.21230000e+00, 9.94086000e+00],\n",
       "        [3.92880000e+01, 5.29050000e+00, 6.60000000e-02, ...,\n",
       "         6.75000000e-02, 6.75000000e-02, 5.53500000e-01],\n",
       "        ...,\n",
       "        [3.98118400e+01, 5.36104000e+00, 6.68800000e-02, ...,\n",
       "         6.84000000e-02, 6.84000000e-02, 5.60880000e-01],\n",
       "        [3.92880000e+01, 5.29050000e+00, 6.60000000e-02, ...,\n",
       "         6.75000000e-02, 6.75000000e-02, 5.53500000e-01],\n",
       "        [1.97487680e+02, 2.65935800e+01, 3.31760000e-01, ...,\n",
       "         3.39300000e-01, 3.39300000e-01, 2.78226000e+00]]))"
      ]
     },
     "execution_count": 74,
     "metadata": {},
     "output_type": "execute_result"
    }
   ],
   "source": [
    "topics_corr(df_subset.topic_e5_name, df_subset.topic_colb_mean_name)"
   ]
  },
  {
   "cell_type": "code",
   "execution_count": 75,
   "id": "33d7af24-046b-4595-a522-3268b6114448",
   "metadata": {
    "pycharm": {
     "name": "#%%\n"
    }
   },
   "outputs": [
    {
     "data": {
      "text/plain": [
       "(0.5315266917478357,\n",
       " array([[1.06010922e+04, 7.22173620e+02, 2.00270000e+01, ...,\n",
       "         2.04275400e+01, 2.04275400e+01, 1.49000880e+02],\n",
       "        [7.13020980e+02, 4.85728200e+01, 1.34700000e+00, ...,\n",
       "         1.37394000e+00, 1.37394000e+00, 1.00216800e+01],\n",
       "        [3.97005000e+01, 2.70450000e+00, 7.50000000e-02, ...,\n",
       "         7.65000000e-02, 7.65000000e-02, 5.58000000e-01],\n",
       "        ...,\n",
       "        [4.02298400e+01, 2.74056000e+00, 7.60000000e-02, ...,\n",
       "         7.75200000e-02, 7.75200000e-02, 5.65440000e-01],\n",
       "        [3.97005000e+01, 2.70450000e+00, 7.50000000e-02, ...,\n",
       "         7.65000000e-02, 7.65000000e-02, 5.58000000e-01],\n",
       "        [1.99561180e+02, 1.35946200e+01, 3.77000000e-01, ...,\n",
       "         3.84540000e-01, 3.84540000e-01, 2.80488000e+00]]))"
      ]
     },
     "execution_count": 75,
     "metadata": {},
     "output_type": "execute_result"
    }
   ],
   "source": [
    "topics_corr(df_subset.topic_e5_name, df_subset.topic_colb_cls_name)"
   ]
  },
  {
   "cell_type": "code",
   "execution_count": 76,
   "id": "2ad8139f-5e6b-4c90-a876-e4b39911a1e8",
   "metadata": {
    "pycharm": {
     "name": "#%%\n"
    }
   },
   "outputs": [
    {
     "data": {
      "text/plain": [
       "(0.656933213375146,\n",
       " array([[1.38644733e+04, 9.44483520e+02, 2.61920000e+01, ...,\n",
       "         2.67158400e+01, 2.67158400e+01, 1.94868480e+02],\n",
       "        [1.86698218e+03, 1.27183620e+02, 3.52700000e+00, ...,\n",
       "         3.59754000e+00, 3.59754000e+00, 2.62408800e+01],\n",
       "        [2.32909600e+01, 1.58664000e+00, 4.40000000e-02, ...,\n",
       "         4.48800000e-02, 4.48800000e-02, 3.27360000e-01],\n",
       "        ...,\n",
       "        [2.38203000e+01, 1.62270000e+00, 4.50000000e-02, ...,\n",
       "         4.59000000e-02, 4.59000000e-02, 3.34800000e-01],\n",
       "        [2.38203000e+01, 1.62270000e+00, 4.50000000e-02, ...,\n",
       "         4.59000000e-02, 4.59000000e-02, 3.34800000e-01],\n",
       "        [1.95326460e+02, 1.33061400e+01, 3.69000000e-01, ...,\n",
       "         3.76380000e-01, 3.76380000e-01, 2.74536000e+00]]))"
      ]
     },
     "execution_count": 76,
     "metadata": {},
     "output_type": "execute_result"
    }
   ],
   "source": [
    "topics_corr(df_subset.topic_colb_mean_name, df_subset.topic_colb_cls_name)"
   ]
  },
  {
   "cell_type": "markdown",
   "id": "d3087c3d-c354-45b1-bc62-4c054f15358d",
   "metadata": {
    "pycharm": {
     "name": "#%% md\n"
    }
   },
   "source": [
    "## Per topics correlations"
   ]
  },
  {
   "cell_type": "code",
   "execution_count": 77,
   "id": "99d1fb64-7493-4b98-acff-c4d208f3cd33",
   "metadata": {
    "pycharm": {
     "name": "#%%\n"
    }
   },
   "outputs": [],
   "source": [
    "def per_topic_corr(topics1, topics2):\n",
    "    # Step 1: Create a contingency table (cross-tabulation)\n",
    "    contingency_table = pd.crosstab(topics1, topics2)\n",
    "\n",
    "    # Step 2: Calculate joint probability (joint occurrences of Category_1 and Category_2)\n",
    "    joint_prob = contingency_table / contingency_table.values.sum()\n",
    "\n",
    "    # Step 3: Calculate marginal probabilities (individual probabilities for Category_1 and Category_2)\n",
    "    marginal_prob_1 = joint_prob.sum(axis=1).values  # Marginal for Category_1\n",
    "    marginal_prob_2 = joint_prob.sum(axis=0).values  # Marginal for Category_2\n",
    "\n",
    "    # Step 4: Compute Pointwise Mutual Information (PMI)\n",
    "    pmi = np.log(joint_prob / (marginal_prob_1[:, None] * marginal_prob_2))\n",
    "\n",
    "    # Step 5: Compute Normalized PMI (NPMI)\n",
    "    npmi = pmi / -np.log(joint_prob)\n",
    "\n",
    "    # Handle cases where PMI or NPMI might be undefined (log(0) or division by 0)\n",
    "    npmi = npmi.replace([np.inf, -np.inf, np.nan], 0)\n",
    "\n",
    "    # Show NPMI scores between each category pair\n",
    "    #print(\"NPMI between Category_1 and Category_2 values:\")\n",
    "    npmi=npmi.unstack().reset_index()\n",
    "    npmi.columns = [*npmi.columns[:-1], 'npmi']\n",
    "    return npmi"
   ]
  },
  {
   "cell_type": "code",
   "execution_count": 78,
   "id": "073ae0dc-e37f-4bf7-a366-d1b5d33ee9f5",
   "metadata": {
    "pycharm": {
     "name": "#%%\n"
    }
   },
   "outputs": [
    {
     "name": "stderr",
     "output_type": "stream",
     "text": [
      "/opt/miniconda3/lib/python3.9/site-packages/pandas/core/internals/blocks.py:402: RuntimeWarning: divide by zero encountered in log\n",
      "  result = func(self.values, **kwargs)\n"
     ]
    },
    {
     "data": {
      "text/html": [
       "<div>\n",
       "<style scoped>\n",
       "    .dataframe tbody tr th:only-of-type {\n",
       "        vertical-align: middle;\n",
       "    }\n",
       "\n",
       "    .dataframe tbody tr th {\n",
       "        vertical-align: top;\n",
       "    }\n",
       "\n",
       "    .dataframe thead th {\n",
       "        text-align: right;\n",
       "    }\n",
       "</style>\n",
       "<table border=\"1\" class=\"dataframe\">\n",
       "  <thead>\n",
       "    <tr style=\"text-align: right;\">\n",
       "      <th></th>\n",
       "      <th>topic_labse_name</th>\n",
       "      <th>topic_e5_name</th>\n",
       "      <th>npmi</th>\n",
       "    </tr>\n",
       "  </thead>\n",
       "  <tbody>\n",
       "    <tr>\n",
       "      <th>1761</th>\n",
       "      <td>101_eesmaa_eenmaa_enn_ivi</td>\n",
       "      <td>286_eesmaa_eenmaa_ivi_enn</td>\n",
       "      <td>0.916097</td>\n",
       "    </tr>\n",
       "    <tr>\n",
       "      <th>2159</th>\n",
       "      <td>102_tiidus_urve_palun_</td>\n",
       "      <td>178_tiidus_urve_palun_</td>\n",
       "      <td>1.000000</td>\n",
       "    </tr>\n",
       "    <tr>\n",
       "      <th>5864</th>\n",
       "      <td>109_maria_jufereva_skuratovski_liimets</td>\n",
       "      <td>249_jufereva_skuratovski_maria_palun</td>\n",
       "      <td>0.956849</td>\n",
       "    </tr>\n",
       "    <tr>\n",
       "      <th>7353</th>\n",
       "      <td>111_jürgen_ligi_palun_</td>\n",
       "      <td>190_jürgen_ligi_palun_</td>\n",
       "      <td>1.000000</td>\n",
       "    </tr>\n",
       "    <tr>\n",
       "      <th>7951</th>\n",
       "      <td>112_saar_indrek_saaremäe_üllar</td>\n",
       "      <td>262_saar_indrek_palun_aitäh</td>\n",
       "      <td>0.946292</td>\n",
       "    </tr>\n",
       "    <tr>\n",
       "      <th>...</th>\n",
       "      <td>...</td>\n",
       "      <td>...</td>\n",
       "      <td>...</td>\n",
       "    </tr>\n",
       "    <tr>\n",
       "      <th>172042</th>\n",
       "      <td>89_aart_merry_palun_jõuluvana</td>\n",
       "      <td>159_aart_merry_palun_</td>\n",
       "      <td>0.997033</td>\n",
       "    </tr>\n",
       "    <tr>\n",
       "      <th>172650</th>\n",
       "      <td>8_kallas_kaja_palun_madis</td>\n",
       "      <td>23_kallas_kaja_palun_</td>\n",
       "      <td>0.917374</td>\n",
       "    </tr>\n",
       "    <tr>\n",
       "      <th>174095</th>\n",
       "      <td>92_aab_jaak_palun_appi</td>\n",
       "      <td>141_aab_jaak_alender_yoko</td>\n",
       "      <td>0.979741</td>\n",
       "    </tr>\n",
       "    <tr>\n",
       "      <th>176223</th>\n",
       "      <td>96_martin_helme_palun_raamatu</td>\n",
       "      <td>192_martin_helme_palun_selge</td>\n",
       "      <td>0.983144</td>\n",
       "    </tr>\n",
       "    <tr>\n",
       "      <th>178709</th>\n",
       "      <td>9_algatatud_seaduse_muutmise_päevakorrapunkt</td>\n",
       "      <td>9_algatatud_muutmise_seaduse_päevakorrapunkt</td>\n",
       "      <td>0.912901</td>\n",
       "    </tr>\n",
       "  </tbody>\n",
       "</table>\n",
       "<p>123 rows × 3 columns</p>\n",
       "</div>"
      ],
      "text/plain": [
       "                                    topic_labse_name  \\\n",
       "1761    101_eesmaa_eenmaa_enn_ivi                      \n",
       "2159    102_tiidus_urve_palun_                         \n",
       "5864    109_maria_jufereva_skuratovski_liimets         \n",
       "7353    111_jürgen_ligi_palun_                         \n",
       "7951    112_saar_indrek_saaremäe_üllar                 \n",
       "...                                ...                 \n",
       "172042  89_aart_merry_palun_jõuluvana                  \n",
       "172650  8_kallas_kaja_palun_madis                      \n",
       "174095  92_aab_jaak_palun_appi                         \n",
       "176223  96_martin_helme_palun_raamatu                  \n",
       "178709  9_algatatud_seaduse_muutmise_päevakorrapunkt   \n",
       "\n",
       "                                       topic_e5_name      npmi  \n",
       "1761    286_eesmaa_eenmaa_ivi_enn                     0.916097  \n",
       "2159    178_tiidus_urve_palun_                        1.000000  \n",
       "5864    249_jufereva_skuratovski_maria_palun          0.956849  \n",
       "7353    190_jürgen_ligi_palun_                        1.000000  \n",
       "7951    262_saar_indrek_palun_aitäh                   0.946292  \n",
       "...                             ...                        ...  \n",
       "172042  159_aart_merry_palun_                         0.997033  \n",
       "172650  23_kallas_kaja_palun_                         0.917374  \n",
       "174095  141_aab_jaak_alender_yoko                     0.979741  \n",
       "176223  192_martin_helme_palun_selge                  0.983144  \n",
       "178709  9_algatatud_muutmise_seaduse_päevakorrapunkt  0.912901  \n",
       "\n",
       "[123 rows x 3 columns]"
      ]
     },
     "execution_count": 78,
     "metadata": {},
     "output_type": "execute_result"
    }
   ],
   "source": [
    "npmi=per_topic_corr(df_subset.topic_e5_name, df_subset.topic_labse_name)\n",
    "npmi[npmi.npmi.abs()>0.9]"
   ]
  },
  {
   "cell_type": "code",
   "execution_count": 79,
   "id": "57b77284-9b72-4564-bd00-18a31370f1eb",
   "metadata": {
    "pycharm": {
     "name": "#%%\n"
    }
   },
   "outputs": [
    {
     "data": {
      "text/html": [
       "<div>\n",
       "<style scoped>\n",
       "    .dataframe tbody tr th:only-of-type {\n",
       "        vertical-align: middle;\n",
       "    }\n",
       "\n",
       "    .dataframe tbody tr th {\n",
       "        vertical-align: top;\n",
       "    }\n",
       "\n",
       "    .dataframe thead th {\n",
       "        text-align: right;\n",
       "    }\n",
       "</style>\n",
       "<table border=\"1\" class=\"dataframe\">\n",
       "  <thead>\n",
       "    <tr style=\"text-align: right;\">\n",
       "      <th></th>\n",
       "      <th>topic_labse_name</th>\n",
       "      <th>topic_e5_name</th>\n",
       "      <th>npmi</th>\n",
       "    </tr>\n",
       "  </thead>\n",
       "  <tbody>\n",
       "    <tr>\n",
       "      <th>1</th>\n",
       "      <td>-1_et_see_on_ei</td>\n",
       "      <td>0_ukraina_venemaa_nato_ukrainas</td>\n",
       "      <td>0.027948</td>\n",
       "    </tr>\n",
       "    <tr>\n",
       "      <th>2</th>\n",
       "      <td>-1_et_see_on_ei</td>\n",
       "      <td>100_rene_kokk_palun_aitäh</td>\n",
       "      <td>0.000000</td>\n",
       "    </tr>\n",
       "    <tr>\n",
       "      <th>3</th>\n",
       "      <td>-1_et_see_on_ei</td>\n",
       "      <td>101_kinnisasja_motivatsioonitasu_avalikes_hindamise</td>\n",
       "      <td>0.076064</td>\n",
       "    </tr>\n",
       "    <tr>\n",
       "      <th>4</th>\n",
       "      <td>-1_et_see_on_ei</td>\n",
       "      <td>102_sibul_priit_palun_jaa</td>\n",
       "      <td>0.000000</td>\n",
       "    </tr>\n",
       "    <tr>\n",
       "      <th>5</th>\n",
       "      <td>-1_et_see_on_ei</td>\n",
       "      <td>103_ppa_teenindussaali_id_nädalas</td>\n",
       "      <td>0.020664</td>\n",
       "    </tr>\n",
       "    <tr>\n",
       "      <th>...</th>\n",
       "      <td>...</td>\n",
       "      <td>...</td>\n",
       "      <td>...</td>\n",
       "    </tr>\n",
       "    <tr>\n",
       "      <th>178704</th>\n",
       "      <td>9_algatatud_seaduse_muutmise_päevakorrapunkt</td>\n",
       "      <td>95_poolamets_anti_frosch_ants</td>\n",
       "      <td>0.000000</td>\n",
       "    </tr>\n",
       "    <tr>\n",
       "      <th>178705</th>\n",
       "      <td>9_algatatud_seaduse_muutmise_päevakorrapunkt</td>\n",
       "      <td>96_rootsi_nato_soome_ga</td>\n",
       "      <td>0.000000</td>\n",
       "    </tr>\n",
       "    <tr>\n",
       "      <th>178706</th>\n",
       "      <td>9_algatatud_seaduse_muutmise_päevakorrapunkt</td>\n",
       "      <td>97_minutit_kolm_palun_kaks</td>\n",
       "      <td>0.000000</td>\n",
       "    </tr>\n",
       "    <tr>\n",
       "      <th>178707</th>\n",
       "      <td>9_algatatud_seaduse_muutmise_päevakorrapunkt</td>\n",
       "      <td>98_arutanud_komisjonis_küsimust_küsimuse</td>\n",
       "      <td>0.000000</td>\n",
       "    </tr>\n",
       "    <tr>\n",
       "      <th>178708</th>\n",
       "      <td>9_algatatud_seaduse_muutmise_päevakorrapunkt</td>\n",
       "      <td>99_küsimusi_käsitlemise_lõpetan_sekundit</td>\n",
       "      <td>0.000000</td>\n",
       "    </tr>\n",
       "  </tbody>\n",
       "</table>\n",
       "<p>176836 rows × 3 columns</p>\n",
       "</div>"
      ],
      "text/plain": [
       "                                    topic_labse_name  \\\n",
       "1       -1_et_see_on_ei                                \n",
       "2       -1_et_see_on_ei                                \n",
       "3       -1_et_see_on_ei                                \n",
       "4       -1_et_see_on_ei                                \n",
       "5       -1_et_see_on_ei                                \n",
       "...                 ...                                \n",
       "178704  9_algatatud_seaduse_muutmise_päevakorrapunkt   \n",
       "178705  9_algatatud_seaduse_muutmise_päevakorrapunkt   \n",
       "178706  9_algatatud_seaduse_muutmise_päevakorrapunkt   \n",
       "178707  9_algatatud_seaduse_muutmise_päevakorrapunkt   \n",
       "178708  9_algatatud_seaduse_muutmise_päevakorrapunkt   \n",
       "\n",
       "                                              topic_e5_name      npmi  \n",
       "1       0_ukraina_venemaa_nato_ukrainas                      0.027948  \n",
       "2       100_rene_kokk_palun_aitäh                            0.000000  \n",
       "3       101_kinnisasja_motivatsioonitasu_avalikes_hindamise  0.076064  \n",
       "4       102_sibul_priit_palun_jaa                            0.000000  \n",
       "5       103_ppa_teenindussaali_id_nädalas                    0.020664  \n",
       "...                                   ...                         ...  \n",
       "178704  95_poolamets_anti_frosch_ants                        0.000000  \n",
       "178705  96_rootsi_nato_soome_ga                              0.000000  \n",
       "178706  97_minutit_kolm_palun_kaks                           0.000000  \n",
       "178707  98_arutanud_komisjonis_küsimust_küsimuse             0.000000  \n",
       "178708  99_küsimusi_käsitlemise_lõpetan_sekundit             0.000000  \n",
       "\n",
       "[176836 rows x 3 columns]"
      ]
     },
     "execution_count": 79,
     "metadata": {},
     "output_type": "execute_result"
    }
   ],
   "source": [
    "npmi[npmi.npmi.abs()<0.1]"
   ]
  },
  {
   "cell_type": "markdown",
   "id": "63c4b60c-23ec-43f9-b50a-77964e77283d",
   "metadata": {
    "pycharm": {
     "name": "#%% md\n"
    }
   },
   "source": [
    "## Save"
   ]
  },
  {
   "cell_type": "code",
   "execution_count": 80,
   "id": "73179465-0ecf-4406-b231-b86d0d218174",
   "metadata": {
    "pycharm": {
     "name": "#%%\n"
    }
   },
   "outputs": [],
   "source": [
    "df_subset.to_excel('data/interim/embeddings/topics_bge_e5_other.xlsx', index=False)"
   ]
  },
  {
   "cell_type": "code",
   "execution_count": 81,
   "id": "1ca2f0b7-28d5-4993-9d88-ad3a51ca4e90",
   "metadata": {
    "pycharm": {
     "name": "#%%\n"
    }
   },
   "outputs": [],
   "source": [
    "df_e5=pd.DataFrame({'text':df_subset.text_splitted.tolist(), 'x':reduced_embeddings_e5[:, 0].tolist(), 'y':reduced_embeddings_e5[:, 1].tolist()})\n",
    "df_e5.to_excel('data/interim/embeddings/e5_embs_2d.xlsx', index=False)"
   ]
  },
  {
   "cell_type": "markdown",
   "id": "1677769c-c8dc-4957-9e60-f43bdbd0528c",
   "metadata": {
    "pycharm": {
     "name": "#%% md\n"
    }
   },
   "source": [
    "## Visualize embeddings"
   ]
  },
  {
   "cell_type": "code",
   "execution_count": 2,
   "id": "1bf68745-fa1b-4239-aaf6-e949824501d9",
   "metadata": {
    "pycharm": {
     "name": "#%%\n"
    }
   },
   "outputs": [],
   "source": [
    "import pandas as pd\n",
    "df_e5=pd.read_excel('data/interim/embeddings/e5_embs_2d.xlsx')"
   ]
  },
  {
   "cell_type": "code",
   "execution_count": 3,
   "id": "d7fcf6a7-1300-4b3a-aff0-2d5552d91de6",
   "metadata": {
    "pycharm": {
     "name": "#%%\n"
    }
   },
   "outputs": [
    {
     "data": {
      "application/vnd.jupyter.widget-view+json": {
       "model_id": "b7d920e38d4743fa8418be9e8f157187",
       "version_major": 2,
       "version_minor": 0
      },
      "text/plain": [
       "HBox(children=(HBox(children=(VBox(children=(Button(button_style='primary', icon='arrows', layout=Layout(width…"
      ]
     },
     "metadata": {},
     "output_type": "display_data"
    }
   ],
   "source": [
    "from bulk.widgets import BaseTextExplorer\n",
    "widget = BaseTextExplorer(df_e5)\n",
    "widget.show()"
   ]
  },
  {
   "cell_type": "code",
   "execution_count": null,
   "id": "207cb110-201c-4d24-bee1-cfbada07de20",
   "metadata": {
    "pycharm": {
     "name": "#%%\n"
    }
   },
   "outputs": [],
   "source": []
  }
 ],
 "metadata": {
  "kernelspec": {
   "display_name": "Python 3 (ipykernel)",
   "language": "python",
   "name": "python3"
  },
  "language_info": {
   "codemirror_mode": {
    "name": "ipython",
    "version": 3
   },
   "file_extension": ".py",
   "mimetype": "text/x-python",
   "name": "python",
   "nbconvert_exporter": "python",
   "pygments_lexer": "ipython3",
   "version": "3.9.12"
  }
 },
 "nbformat": 4,
 "nbformat_minor": 5
}
