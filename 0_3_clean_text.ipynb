{
 "cells": [
  {
   "cell_type": "code",
   "execution_count": 1,
   "metadata": {},
   "outputs": [
    {
     "name": "stderr",
     "output_type": "stream",
     "text": [
      "C:\\Users\\risto\\Anaconda3\\lib\\site-packages\\ipykernel_launcher.py:6: FutureWarning: Passing a negative integer is deprecated in version 1.0 and will not be supported in future version. Instead, use None to not limit the column width.\n",
      "  \n"
     ]
    }
   ],
   "source": [
    "import re\n",
    "import pandas as pd\n",
    "from pathlib import Path\n",
    "from collections import Counter\n",
    "\n",
    "pd.set_option('display.max_colwidth', -1)"
   ]
  },
  {
   "cell_type": "markdown",
   "metadata": {},
   "source": [
    "## Data"
   ]
  },
  {
   "cell_type": "code",
   "execution_count": 2,
   "metadata": {},
   "outputs": [],
   "source": [
    "df=pd.read_csv('data/interim/stenos.csv')"
   ]
  },
  {
   "cell_type": "code",
   "execution_count": 3,
   "metadata": {},
   "outputs": [
    {
     "data": {
      "text/plain": [
       "(213689, 13)"
      ]
     },
     "execution_count": 3,
     "metadata": {},
     "output_type": "execute_result"
    }
   ],
   "source": [
    "df.shape"
   ]
  },
  {
   "cell_type": "code",
   "execution_count": 5,
   "metadata": {},
   "outputs": [
    {
     "data": {
      "text/html": [
       "<div>\n",
       "<style scoped>\n",
       "    .dataframe tbody tr th:only-of-type {\n",
       "        vertical-align: middle;\n",
       "    }\n",
       "\n",
       "    .dataframe tbody tr th {\n",
       "        vertical-align: top;\n",
       "    }\n",
       "\n",
       "    .dataframe thead th {\n",
       "        text-align: right;\n",
       "    }\n",
       "</style>\n",
       "<table border=\"1\" class=\"dataframe\">\n",
       "  <thead>\n",
       "    <tr style=\"text-align: right;\">\n",
       "      <th></th>\n",
       "      <th>heading</th>\n",
       "      <th>speaker</th>\n",
       "      <th>link_video</th>\n",
       "      <th>link_steno</th>\n",
       "      <th>index_pk</th>\n",
       "      <th>index_snd</th>\n",
       "      <th>text</th>\n",
       "      <th>year</th>\n",
       "      <th>month</th>\n",
       "      <th>day</th>\n",
       "      <th>time</th>\n",
       "      <th>seconds_from_start</th>\n",
       "      <th>video_link_wo_time</th>\n",
       "    </tr>\n",
       "  </thead>\n",
       "  <tbody>\n",
       "    <tr>\n",
       "      <th>0</th>\n",
       "      <td>10:00  Istungi rakendamine</td>\n",
       "      <td>Aseesimees Siim Kallas</td>\n",
       "      <td>https://www.youtube.com/watch?v=GaFL2Zc4OMg&amp;t=0</td>\n",
       "      <td>https://stenogrammid.riigikogu.ee/201911191000</td>\n",
       "      <td>PKP-25040</td>\n",
       "      <td>SND-559399</td>\n",
       "      <td>Auväärt kolleegid, auväärt Riigikogu, tere hommikust! Kui te nüüd korraks jälle keskendute meie suurepärase istungi rakendamisele ja räägite omavahelisi jutte edasi pärast, siis on mul suur rõõm avada Riigikogu täiskogu II istungjärgu 9. töönädala teisipäevane istung. Kõigepealt on eelnõude ja arupärimiste üleandmine, kui selleks on soovi. Eelnõude ja arupärimiste üleandmise soovi ma ei näe. Siis teeme palun kohaloleku kontrolli.  Kohaloleku kontroll Kohal on 75 Riigikogu liiget, puudub 26. Sellest piisab täielikult, et asuda meie päevakorra arutelu juurde.</td>\n",
       "      <td>2019</td>\n",
       "      <td>11</td>\n",
       "      <td>19</td>\n",
       "      <td>10:00</td>\n",
       "      <td>0</td>\n",
       "      <td>https://www.youtube.com/watch?v=GaFL2Zc4OMg</td>\n",
       "    </tr>\n",
       "  </tbody>\n",
       "</table>\n",
       "</div>"
      ],
      "text/plain": [
       "                      heading                 speaker  \\\n",
       "0  10:00  Istungi rakendamine  Aseesimees Siim Kallas   \n",
       "\n",
       "                                        link_video  \\\n",
       "0  https://www.youtube.com/watch?v=GaFL2Zc4OMg&t=0   \n",
       "\n",
       "                                       link_steno   index_pk   index_snd  \\\n",
       "0  https://stenogrammid.riigikogu.ee/201911191000  PKP-25040  SND-559399   \n",
       "\n",
       "                                                                                                                                                                                                                                                                                                                                                                                                                                                                                                                                                                                  text  \\\n",
       "0  Auväärt kolleegid, auväärt Riigikogu, tere hommikust! Kui te nüüd korraks jälle keskendute meie suurepärase istungi rakendamisele ja räägite omavahelisi jutte edasi pärast, siis on mul suur rõõm avada Riigikogu täiskogu II istungjärgu 9. töönädala teisipäevane istung. Kõigepealt on eelnõude ja arupärimiste üleandmine, kui selleks on soovi. Eelnõude ja arupärimiste üleandmise soovi ma ei näe. Siis teeme palun kohaloleku kontrolli.  Kohaloleku kontroll Kohal on 75 Riigikogu liiget, puudub 26. Sellest piisab täielikult, et asuda meie päevakorra arutelu juurde.   \n",
       "\n",
       "   year  month  day   time seconds_from_start  \\\n",
       "0  2019  11     19   10:00  0                   \n",
       "\n",
       "                            video_link_wo_time  \n",
       "0  https://www.youtube.com/watch?v=GaFL2Zc4OMg  "
      ]
     },
     "execution_count": 5,
     "metadata": {},
     "output_type": "execute_result"
    }
   ],
   "source": [
    "df.head(1)"
   ]
  },
  {
   "cell_type": "code",
   "execution_count": 6,
   "metadata": {},
   "outputs": [
    {
     "data": {
      "text/plain": [
       "3740"
      ]
     },
     "execution_count": 6,
     "metadata": {},
     "output_type": "execute_result"
    }
   ],
   "source": [
    "df.text.isnull().sum()"
   ]
  },
  {
   "cell_type": "code",
   "execution_count": 7,
   "metadata": {},
   "outputs": [
    {
     "data": {
      "text/plain": [
       "(209949, 13)"
      ]
     },
     "execution_count": 7,
     "metadata": {},
     "output_type": "execute_result"
    }
   ],
   "source": [
    "#remove cases where text is missing - might be some data collection errors,\n",
    "#but not much compared to overall amount of data (less than 2%)\n",
    "df=df[~pd.isnull(df.text)]\n",
    "df.shape"
   ]
  },
  {
   "cell_type": "markdown",
   "metadata": {},
   "source": [
    "## See chars we have - is there something funny"
   ]
  },
  {
   "cell_type": "code",
   "execution_count": 9,
   "metadata": {},
   "outputs": [],
   "source": [
    "cnt_char=Counter(''.join(df.text).lower())"
   ]
  },
  {
   "cell_type": "code",
   "execution_count": 10,
   "metadata": {},
   "outputs": [
    {
     "data": {
      "text/plain": [
       "132"
      ]
     },
     "execution_count": 10,
     "metadata": {},
     "output_type": "execute_result"
    }
   ],
   "source": [
    "len(cnt_char)"
   ]
  },
  {
   "cell_type": "code",
   "execution_count": 11,
   "metadata": {},
   "outputs": [
    {
     "data": {
      "text/plain": [
       "[(' ', 21226757),\n",
       " ('e', 16438037),\n",
       " ('a', 14882055),\n",
       " ('i', 12987380),\n",
       " ('s', 11897888),\n",
       " ('t', 10191553),\n",
       " ('l', 7936321),\n",
       " ('u', 7886941),\n",
       " ('n', 6457234),\n",
       " ('k', 6159097),\n",
       " ('o', 5211257),\n",
       " ('m', 5122718),\n",
       " ('d', 4919949),\n",
       " ('r', 3747142),\n",
       " ('v', 2819709),\n",
       " ('g', 2562789),\n",
       " ('p', 2077195),\n",
       " ('j', 2046506),\n",
       " ('h', 2036389),\n",
       " (',', 1981784),\n",
       " ('ä', 1793865),\n",
       " ('õ', 1532485),\n",
       " ('.', 1381396),\n",
       " ('ü', 904149),\n",
       " ('b', 879255),\n",
       " ('ö', 371478),\n",
       " ('!', 298545),\n",
       " ('\\xa0', 226830),\n",
       " ('0', 192233),\n",
       " ('f', 150215),\n",
       " ('1', 147502),\n",
       " ('-', 143387),\n",
       " ('2', 128476),\n",
       " ('?', 107389),\n",
       " ('–', 71805),\n",
       " ('5', 59881),\n",
       " ('3', 52049),\n",
       " ('\"', 49819),\n",
       " (':', 43923),\n",
       " ('4', 43464),\n",
       " ('6', 37406),\n",
       " ('9', 36542),\n",
       " ('7', 36345),\n",
       " ('8', 33319),\n",
       " ('%', 31366),\n",
       " ('c', 18931),\n",
       " (')', 12687),\n",
       " ('(', 12343),\n",
       " ('§', 9062),\n",
       " ('[', 6624),\n",
       " (']', 6623),\n",
       " ('y', 5486),\n",
       " ('‑', 5269),\n",
       " ('š', 4454),\n",
       " ('x', 3233),\n",
       " ('w', 3056),\n",
       " ('ž', 3007),\n",
       " ('z', 2427),\n",
       " (';', 2355),\n",
       " (\"'\", 1891),\n",
       " ('/', 1858),\n",
       " ('+', 1154),\n",
       " ('q', 308),\n",
       " ('&', 194),\n",
       " ('é', 125),\n",
       " ('à', 101),\n",
       " ('á', 74),\n",
       " ('´', 54),\n",
       " ('\\n', 33),\n",
       " ('’', 30),\n",
       " ('å', 28),\n",
       " ('“', 27),\n",
       " ('è', 25),\n",
       " ('×', 21),\n",
       " ('„', 20),\n",
       " ('č', 18),\n",
       " ('ó', 16),\n",
       " ('=', 14),\n",
       " ('@', 14),\n",
       " ('ï', 14),\n",
       " ('°', 13),\n",
       " ('í', 11),\n",
       " ('ê', 9),\n",
       " ('”', 9),\n",
       " ('ç', 8),\n",
       " ('²', 7),\n",
       " ('_', 7),\n",
       " ('±', 7),\n",
       " ('ł', 6),\n",
       " ('â', 6),\n",
       " ('€', 6),\n",
       " ('ø', 6),\n",
       " ('‰', 6),\n",
       " ('`', 6),\n",
       " ('\\u202f', 6),\n",
       " ('ú', 5),\n",
       " ('ñ', 5),\n",
       " ('\\xad', 5),\n",
       " ('ā', 4),\n",
       " ('р', 4),\n",
       " ('с', 4),\n",
       " ('и', 4),\n",
       " ('̈', 4),\n",
       " ('ë', 4),\n",
       " ('ò', 4),\n",
       " ('ń', 3),\n",
       " ('«', 3),\n",
       " ('»', 3),\n",
       " ('ō', 2),\n",
       " ('#', 2),\n",
       " ('у', 2),\n",
       " ('к', 2),\n",
       " ('й', 2),\n",
       " ('м', 2),\n",
       " ('¹', 2),\n",
       " ('̃', 2),\n",
       " ('ς', 2),\n",
       " ('\\x9f', 1),\n",
       " ('−', 1),\n",
       " ('ę', 1),\n",
       " ('\\x84', 1),\n",
       " ('‒', 1),\n",
       " ('ý', 1),\n",
       " ('…', 1),\n",
       " ('º', 1),\n",
       " ('\\x9b', 1),\n",
       " ('*', 1),\n",
       " ('\\x98', 1),\n",
       " ('ś', 1),\n",
       " ('α', 1),\n",
       " ('æ', 1),\n",
       " ('″', 1)]"
      ]
     },
     "execution_count": 11,
     "metadata": {},
     "output_type": "execute_result"
    }
   ],
   "source": [
    "cnt_char.most_common(200)"
   ]
  },
  {
   "cell_type": "markdown",
   "metadata": {},
   "source": [
    "## Make text without punctuation (migth be useful for topic modelling)\n",
    "## Also remove some junk"
   ]
  },
  {
   "cell_type": "code",
   "execution_count": 14,
   "metadata": {},
   "outputs": [
    {
     "data": {
      "text/plain": [
       "'austatud riigikogu tere päevast teate mis'"
      ]
     },
     "execution_count": 14,
     "metadata": {},
     "output_type": "execute_result"
    }
   ],
   "source": [
    "def remove_punct(text):\n",
    "    \"\"\"remove punctuation, junk from text\n",
    "    -INPUT:\n",
    "        -text: str of text to be cleaned\n",
    "    -OUTPUT:\n",
    "        -cleaned text str\"\"\"\n",
    "    text=re.sub('(?<=[^0-9])\\. ', ' ', text) #keep . if they are between characters (no space) or after numbers\n",
    "    text_clean=text.lower().replace('\\x98', ' ').replace('\\x9f', ' ').replace('\\x84', ' ').replace('\\x9b', ' ')\\\n",
    "    .replace('\\xad', ' ')\\\n",
    "    .replace('\\xa0', ' ').replace('...', ' ')\\\n",
    "    .replace('!',' ').replace('\\?',' ').replace('?',' ').replace(', ',' ').replace(')',' ')\\\n",
    "    .replace('(',' ').replace('\"',' ')\\\n",
    "    .replace('ºC', ' kraadi ').replace(' – ', ' ').replace(':', ' ').replace('–', ' ').\\\n",
    "    replace('[---]', ' ').replace('[', '').replace(']', '')\\\n",
    "    .replace(';', ' ').replace('+', ' pluss ').replace(' & ', '&').replace('”', ' ').\\\n",
    "    replace('„', ' ').replace('=', ' võrdub ')\\\n",
    "    .replace('´', \"'\").replace('’', \"'\").replace('“', ' ').replace(' ±', ' pluss-miinus ').\\\n",
    "    replace(' ..',' ').replace('`', \"'\")\\\n",
    "    .replace('…', ' ').replace('″', ' ').replace(' = ', ' võrdub ')\n",
    "    text_clean=' '.join(text_clean.split())\n",
    "    if text_clean.endswith('.'):\n",
    "        text_clean=text_clean[:-1]\n",
    "    return text_clean\n",
    "\n",
    "remove_punct('Austatud Riigikogu, tere päevast! Teate mis, ')"
   ]
  },
  {
   "cell_type": "code",
   "execution_count": 15,
   "metadata": {},
   "outputs": [],
   "source": [
    "df['text_wo_punct']=df.text.apply(remove_punct)"
   ]
  },
  {
   "cell_type": "code",
   "execution_count": 16,
   "metadata": {},
   "outputs": [
    {
     "name": "stdout",
     "output_type": "stream",
     "text": [
      "103\n"
     ]
    },
    {
     "data": {
      "text/plain": [
       "[(' ', 21192736),\n",
       " ('e', 16438037),\n",
       " ('a', 14882055),\n",
       " ('i', 12987394),\n",
       " ('s', 11900217),\n",
       " ('t', 10191553),\n",
       " ('l', 7937482),\n",
       " ('u', 7888123),\n",
       " ('n', 6457241),\n",
       " ('k', 6159097),\n",
       " ('o', 5211257),\n",
       " ('m', 5122725),\n",
       " ('d', 4919963),\n",
       " ('r', 3747156),\n",
       " ('v', 2819723),\n",
       " ('g', 2562789),\n",
       " ('p', 2078356),\n",
       " ('j', 2046506),\n",
       " ('h', 2036389),\n",
       " ('ä', 1793865),\n",
       " ('õ', 1532499),\n",
       " ('ü', 904149),\n",
       " ('b', 879269),\n",
       " ('ö', 371478),\n",
       " ('0', 192233),\n",
       " ('f', 150215),\n",
       " ('1', 147502),\n",
       " ('-', 142779),\n",
       " ('2', 128476),\n",
       " ('.', 126969),\n",
       " ('5', 59881),\n",
       " ('3', 52049),\n",
       " ('4', 43464),\n",
       " ('6', 37406),\n",
       " ('9', 36542),\n",
       " ('7', 36345),\n",
       " ('8', 33319),\n",
       " ('%', 31366),\n",
       " ('c', 18931),\n",
       " (',', 17012),\n",
       " ('§', 9062),\n",
       " ('y', 5486),\n",
       " ('‑', 5269),\n",
       " ('š', 4454),\n",
       " ('x', 3233),\n",
       " ('w', 3056),\n",
       " ('ž', 3007),\n",
       " ('z', 2427),\n",
       " (\"'\", 1981),\n",
       " ('/', 1858),\n",
       " ('q', 308),\n",
       " ('&', 194),\n",
       " ('é', 125),\n",
       " ('à', 101),\n",
       " ('á', 74),\n",
       " ('å', 28),\n",
       " ('è', 25),\n",
       " ('×', 21),\n",
       " ('č', 18),\n",
       " ('ó', 16),\n",
       " ('@', 14),\n",
       " ('ï', 14),\n",
       " ('°', 13),\n",
       " ('í', 11),\n",
       " ('ê', 9),\n",
       " ('ç', 8),\n",
       " ('²', 7),\n",
       " ('_', 7),\n",
       " ('ł', 6),\n",
       " ('â', 6),\n",
       " ('€', 6),\n",
       " ('ø', 6),\n",
       " ('‰', 6),\n",
       " ('ú', 5),\n",
       " ('ñ', 5),\n",
       " ('ā', 4),\n",
       " ('р', 4),\n",
       " ('с', 4),\n",
       " ('и', 4),\n",
       " ('̈', 4),\n",
       " ('ë', 4),\n",
       " ('ò', 4),\n",
       " ('ń', 3),\n",
       " ('«', 3),\n",
       " ('»', 3),\n",
       " ('ō', 2),\n",
       " ('#', 2),\n",
       " ('у', 2),\n",
       " ('к', 2),\n",
       " ('й', 2),\n",
       " ('м', 2),\n",
       " ('¹', 2),\n",
       " ('̃', 2),\n",
       " ('ς', 2),\n",
       " ('−', 1),\n",
       " ('ę', 1),\n",
       " ('‒', 1),\n",
       " ('ý', 1),\n",
       " ('º', 1),\n",
       " ('*', 1),\n",
       " ('ś', 1),\n",
       " ('α', 1),\n",
       " ('æ', 1)]"
      ]
     },
     "execution_count": 16,
     "metadata": {},
     "output_type": "execute_result"
    }
   ],
   "source": [
    "#we should have less funny characters now\n",
    "cnt_char_clean=Counter(''.join(df.text_wo_punct).lower())\n",
    "print(len(cnt_char_clean))\n",
    "cnt_char_clean.most_common(200)"
   ]
  },
  {
   "cell_type": "markdown",
   "metadata": {},
   "source": [
    "## Remove \"v a h e a e g\""
   ]
  },
  {
   "cell_type": "code",
   "execution_count": 17,
   "metadata": {},
   "outputs": [],
   "source": [
    "#not really said but indicates when vaheaeg started\n",
    "df['text_wo_punct']=df.text_wo_punct.str.replace('v a h e a e g', '')\n",
    "df['text_wo_punct']=df.text_wo_punct.str.replace('v a h e a eg', '')"
   ]
  },
  {
   "cell_type": "markdown",
   "metadata": {},
   "source": [
    "## Save data"
   ]
  },
  {
   "cell_type": "code",
   "execution_count": 18,
   "metadata": {},
   "outputs": [],
   "source": [
    "df.to_csv('data/interim/stenos_cleaned.csv', index=False)"
   ]
  }
 ],
 "metadata": {
  "kernelspec": {
   "display_name": "Python 3.7.4 64-bit ('base': conda)",
   "language": "python",
   "name": "python37464bitbaseconda3c2e7dd945fe4d1ba39ed3bbf64cdaac"
  },
  "language_info": {
   "codemirror_mode": {
    "name": "ipython",
    "version": 3
   },
   "file_extension": ".py",
   "mimetype": "text/x-python",
   "name": "python",
   "nbconvert_exporter": "python",
   "pygments_lexer": "ipython3",
   "version": "3.7.4"
  }
 },
 "nbformat": 4,
 "nbformat_minor": 4
}
