{
 "cells": [
  {
   "cell_type": "markdown",
   "metadata": {
    "id": "STSvh2eb6XuQ",
    "pycharm": {
     "name": "#%% md\n"
    }
   },
   "source": [
    "## Classy words: formulas for finding category-associated terms\n",
    "## Jason S. Kessler @jasonkessler\n",
    "\n",
    "The Github repository for talk is at [https://github.com/JasonKessler/PuPPyTalk](https://github.com/JasonKessler/PuPPyTalk).\n",
    "\n",
    "Visualizations were made using [Scattertext](https://github.com/JasonKessler/scattertext).\n",
    "\n",
    "Please cite as:\n",
    "Jason S. Kessler. Scattertext: a Browser-Based Tool for Visualizing how Corpora Differ. ACL System Demonstrations. 2017."
   ]
  },
  {
   "cell_type": "code",
   "execution_count": 1,
   "metadata": {
    "colab": {
     "base_uri": "https://localhost:8080/",
     "height": 0
    },
    "id": "oXS4thnf6fvV",
    "outputId": "bc62741e-7e60-43a6-ac52-cf0c05ebc3fa",
    "pycharm": {
     "name": "#%%\n"
    }
   },
   "outputs": [],
   "source": [
    "# !pip3 install -U scattertext"
   ]
  },
  {
   "cell_type": "code",
   "execution_count": 1,
   "metadata": {
    "colab": {
     "base_uri": "https://localhost:8080/",
     "height": 17
    },
    "id": "SzqiQJcw6XuV",
    "outputId": "0eca853b-3920-4fab-b08c-2d2019e9fcb2",
    "pycharm": {
     "name": "#%%\n"
    }
   },
   "outputs": [
    {
     "name": "stderr",
     "output_type": "stream",
     "text": [
      "C:\\Users\\RistoHinno\\anaconda3\\lib\\site-packages\\transformers\\utils\\generic.py:485: UserWarning: torch.utils._pytree._register_pytree_node is deprecated. Please use torch.utils._pytree.register_pytree_node instead.\n",
      "  _torch_pytree._register_pytree_node(\n",
      "C:\\Users\\RistoHinno\\anaconda3\\lib\\site-packages\\transformers\\utils\\generic.py:342: UserWarning: torch.utils._pytree._register_pytree_node is deprecated. Please use torch.utils._pytree.register_pytree_node instead.\n",
      "  _torch_pytree._register_pytree_node(\n",
      "C:\\Users\\RistoHinno\\AppData\\Local\\Temp\\ipykernel_16116\\2368473273.py:7: DeprecationWarning: Importing display from IPython.core.display is deprecated since IPython 7.14, please import from IPython display\n",
      "  from IPython.core.display import display, HTML\n"
     ]
    },
    {
     "data": {
      "text/html": [
       "<style>.container { width:98% !important; }</style>"
      ],
      "text/plain": [
       "<IPython.core.display.HTML object>"
      ]
     },
     "metadata": {},
     "output_type": "display_data"
    }
   ],
   "source": [
    "import pandas as pd\n",
    "import numpy as np\n",
    "import scattertext as st\n",
    "import spacy\n",
    "from scipy.stats import rankdata\n",
    "from IPython.display import IFrame\n",
    "from IPython.core.display import display, HTML\n",
    "display(HTML(\"<style>.container { width:98% !important; }</style>\"))\n",
    "import matplotlib.pyplot as plt\n",
    "from pathlib import Path\n",
    "%matplotlib inline"
   ]
  },
  {
   "cell_type": "markdown",
   "metadata": {
    "id": "NrfFtAvZ6Xup",
    "pycharm": {
     "name": "#%% md\n"
    }
   },
   "source": [
    "### The data\n",
    "\n",
    "Dataset consists of reviews of movies and plot descriptions.  Plot descriptions are guaranteed to be from a movie which was reviewed.\n",
    "\n",
    "Data set is from http://www.cs.cornell.edu/people/pabo/movie-review-data/\n",
    "\n",
    "References:\n",
    "* Bo Pang, Lillian Lee, and Shivakumar Vaithyanathan, Thumbs up? Sentiment Classification using Machine Learning Techniques, Proceedings of EMNLP 2002.\n",
    "\n",
    "* Bo Pang and Lillian Lee, A Sentimental Education: Sentiment Analysis Using Subjectivity Summarization Based on Minimum Cuts, Proceedings of ACL 2004."
   ]
  },
  {
   "cell_type": "code",
   "execution_count": 2,
   "metadata": {
    "colab": {
     "base_uri": "https://localhost:8080/",
     "height": 0
    },
    "id": "Zmo4wLW36Xuq",
    "outputId": "17862954-e735-47b9-f5b0-da38d77d9645",
    "pycharm": {
     "name": "#%%\n"
    }
   },
   "outputs": [
    {
     "data": {
      "text/plain": [
       "(2581, 17)"
      ]
     },
     "execution_count": 2,
     "metadata": {},
     "output_type": "execute_result"
    }
   ],
   "source": [
    "df=pd.read_excel('data/scattertext/ossin_soerd.xlsx')\n",
    "df.shape"
   ]
  },
  {
   "cell_type": "code",
   "execution_count": 3,
   "metadata": {
    "colab": {
     "base_uri": "https://localhost:8080/",
     "height": 0
    },
    "id": "2086gydsG7Mi",
    "outputId": "3c290f21-0014-46de-fe8e-70e8df481600",
    "pycharm": {
     "name": "#%%\n"
    }
   },
   "outputs": [
    {
     "data": {
      "text/plain": [
       "0       Aitäh, austatud juhataja! Austatud ettekandja!...\n",
       "1       Aitäh, austatud juhataja! Austatud ettekandja!...\n",
       "2       Austatud juhataja! Head kolleegid! Arutelu mak...\n",
       "3       Seega tulevik teeb pigem murelikuks. Ja selles...\n",
       "4       Aitäh, lugupeetud rahandusminister! Ma osalise...\n",
       "                              ...                        \n",
       "2576     2016. aasta hilissügisel välja kuulutatud ja ...\n",
       "2577     Aitäh, austatud eesistuja! Austatud ettekandj...\n",
       "2578     Aitäh, austatud eesistuja! Austatud ettekandj...\n",
       "2579     Aitäh, austatud eesistuja! Austatud õiguskant...\n",
       "2580     Austatud ettekandja! Kui see astmeliselt vähe...\n",
       "Name: text, Length: 2581, dtype: object"
      ]
     },
     "execution_count": 3,
     "metadata": {},
     "output_type": "execute_result"
    }
   ],
   "source": [
    "df.text"
   ]
  },
  {
   "cell_type": "code",
   "execution_count": 4,
   "metadata": {
    "colab": {
     "base_uri": "https://localhost:8080/"
    },
    "id": "3JUwjwnTNdOk",
    "outputId": "e727fc2a-79d4-4f62-fee4-1fe9998c2d82",
    "pycharm": {
     "name": "#%%\n"
    }
   },
   "outputs": [
    {
     "data": {
      "text/plain": [
       "7680"
      ]
     },
     "execution_count": 4,
     "metadata": {},
     "output_type": "execute_result"
    }
   ],
   "source": [
    "#stopwords\n",
    "stops=Path('utils/estonian-stopwords.txt').read_text().split('\\n')+Path('utils/estonian-stopwords_additional.txt').read_text().split('\\n')\n",
    "len(stops)"
   ]
  },
  {
   "cell_type": "markdown",
   "metadata": {
    "id": "CSRSXKPUNVpR",
    "pycharm": {
     "name": "#%% md\n"
    }
   },
   "source": [
    "## Create a background corpus"
   ]
  },
  {
   "cell_type": "code",
   "execution_count": 5,
   "metadata": {
    "id": "51AOXZKULe9y",
    "pycharm": {
     "name": "#%%\n"
    }
   },
   "outputs": [],
   "source": [
    "corpus = (st.CorpusFromPandas(df,\n",
    "                              category_col='speaker',\n",
    "                              text_col='text',\n",
    "                              nlp = st.whitespace_nlp_with_sentences)\n",
    "          .build())\n",
    "background_corpus=corpus.get_term_freq_df()\n",
    "background_corpus['Frequency']=background_corpus['Aivar Sõerd freq']+background_corpus['Jevgeni Ossinovski freq']\n",
    "background_corpus=background_corpus['Frequency']"
   ]
  },
  {
   "cell_type": "markdown",
   "metadata": {
    "id": "k6WZpLitOWpp",
    "pycharm": {
     "name": "#%% md\n"
    }
   },
   "source": [
    "## create a corpus"
   ]
  },
  {
   "cell_type": "code",
   "execution_count": 6,
   "metadata": {
    "id": "GK-FsCU76Xuw",
    "pycharm": {
     "name": "#%%\n"
    }
   },
   "outputs": [],
   "source": [
    "corpus = (st.CorpusFromPandas(df,\n",
    "                              category_col='speaker',\n",
    "                              text_col='text',\n",
    "                              nlp = st.whitespace_nlp_with_sentences)\n",
    "          .build()).filter_out(\n",
    "                  lambda term: term in stops).remove_infrequent_words(\n",
    "                                            minimum_term_count=3).set_background_corpus(\n",
    "    background_corpus\n",
    ")\n",
    "#corpus.get_term_freq_df().to_csv('term_freqs.csv')\n",
    "unigram_corpus = corpus.get_unigram_corpus()"
   ]
  },
  {
   "cell_type": "code",
   "execution_count": 7,
   "metadata": {
    "pycharm": {
     "name": "#%%\n"
    }
   },
   "outputs": [
    {
     "data": {
      "text/plain": [
       "['Aivar Sõerd', 'Jevgeni Ossinovski']"
      ]
     },
     "execution_count": 7,
     "metadata": {},
     "output_type": "execute_result"
    }
   ],
   "source": [
    "corpus.get_categories()"
   ]
  },
  {
   "cell_type": "code",
   "execution_count": 8,
   "metadata": {
    "pycharm": {
     "name": "#%%\n"
    }
   },
   "outputs": [],
   "source": [
    "posnegcorpus = corpus.remove_categories(['Aivar Sõerd'])\n",
    "unigram_posnegcorpus = posnegcorpus.get_unigram_corpus()"
   ]
  },
  {
   "cell_type": "code",
   "execution_count": 9,
   "metadata": {
    "id": "zq-wD4pn4iqn",
    "pycharm": {
     "name": "#%%\n"
    }
   },
   "outputs": [],
   "source": [
    "tdf = unigram_posnegcorpus.get_term_freq_df('')"
   ]
  },
  {
   "cell_type": "markdown",
   "metadata": {
    "pycharm": {
     "name": "#%% md\n"
    }
   },
   "source": [
    "## calculate scaled F-scores (look downwards for more information)"
   ]
  },
  {
   "cell_type": "code",
   "execution_count": 10,
   "metadata": {
    "pycharm": {
     "name": "#%%\n"
    }
   },
   "outputs": [],
   "source": [
    "term_freq_df = corpus.get_term_freq_df()\n",
    "\n",
    "# Add a score column, for example, scaled f-scores\n",
    "term_freq_df['cat_score_jev'] = corpus.get_scaled_f_scores('Jevgeni Ossinovski')\n",
    "term_freq_df['cat_score_aivar'] = corpus.get_scaled_f_scores('Aivar Sõerd')"
   ]
  },
  {
   "cell_type": "code",
   "execution_count": 11,
   "metadata": {
    "pycharm": {
     "name": "#%%\n"
    }
   },
   "outputs": [
    {
     "data": {
      "text/html": [
       "<div>\n",
       "<style scoped>\n",
       "    .dataframe tbody tr th:only-of-type {\n",
       "        vertical-align: middle;\n",
       "    }\n",
       "\n",
       "    .dataframe tbody tr th {\n",
       "        vertical-align: top;\n",
       "    }\n",
       "\n",
       "    .dataframe thead th {\n",
       "        text-align: right;\n",
       "    }\n",
       "</style>\n",
       "<table border=\"1\" class=\"dataframe\">\n",
       "  <thead>\n",
       "    <tr style=\"text-align: right;\">\n",
       "      <th></th>\n",
       "      <th>Aivar Sõerd freq</th>\n",
       "      <th>Jevgeni Ossinovski freq</th>\n",
       "      <th>cat_score_jev</th>\n",
       "      <th>cat_score_aivar</th>\n",
       "    </tr>\n",
       "    <tr>\n",
       "      <th>term</th>\n",
       "      <th></th>\n",
       "      <th></th>\n",
       "      <th></th>\n",
       "      <th></th>\n",
       "    </tr>\n",
       "  </thead>\n",
       "  <tbody>\n",
       "    <tr>\n",
       "      <th>föderatsiooni</th>\n",
       "      <td>0</td>\n",
       "      <td>165</td>\n",
       "      <td>1.000000e+00</td>\n",
       "      <td>0.000000e+00</td>\n",
       "    </tr>\n",
       "    <tr>\n",
       "      <th>venemaa föderatsiooni</th>\n",
       "      <td>0</td>\n",
       "      <td>163</td>\n",
       "      <td>1.000000e+00</td>\n",
       "      <td>1.457371e-10</td>\n",
       "    </tr>\n",
       "    <tr>\n",
       "      <th>millisel viisil</th>\n",
       "      <td>0</td>\n",
       "      <td>131</td>\n",
       "      <td>9.999996e-01</td>\n",
       "      <td>4.420855e-07</td>\n",
       "    </tr>\n",
       "    <tr>\n",
       "      <th>kodakondsusest</th>\n",
       "      <td>0</td>\n",
       "      <td>95</td>\n",
       "      <td>9.997928e-01</td>\n",
       "      <td>2.072293e-04</td>\n",
       "    </tr>\n",
       "    <tr>\n",
       "      <th>kahtlematult</th>\n",
       "      <td>0</td>\n",
       "      <td>93</td>\n",
       "      <td>9.997241e-01</td>\n",
       "      <td>2.759210e-04</td>\n",
       "    </tr>\n",
       "    <tr>\n",
       "      <th>...</th>\n",
       "      <td>...</td>\n",
       "      <td>...</td>\n",
       "      <td>...</td>\n",
       "      <td>...</td>\n",
       "    </tr>\n",
       "    <tr>\n",
       "      <th>panga</th>\n",
       "      <td>148</td>\n",
       "      <td>1</td>\n",
       "      <td>5.827183e-04</td>\n",
       "      <td>9.994173e-01</td>\n",
       "    </tr>\n",
       "    <tr>\n",
       "      <th>piirikaubanduse</th>\n",
       "      <td>85</td>\n",
       "      <td>0</td>\n",
       "      <td>4.182159e-04</td>\n",
       "      <td>9.995818e-01</td>\n",
       "    </tr>\n",
       "    <tr>\n",
       "      <th>euroala</th>\n",
       "      <td>88</td>\n",
       "      <td>0</td>\n",
       "      <td>2.666238e-04</td>\n",
       "      <td>9.997334e-01</td>\n",
       "    </tr>\n",
       "    <tr>\n",
       "      <th>tänan tähelepanu</th>\n",
       "      <td>136</td>\n",
       "      <td>0</td>\n",
       "      <td>9.591341e-09</td>\n",
       "      <td>1.000000e+00</td>\n",
       "    </tr>\n",
       "    <tr>\n",
       "      <th>tähelepanu eest</th>\n",
       "      <td>138</td>\n",
       "      <td>0</td>\n",
       "      <td>0.000000e+00</td>\n",
       "      <td>1.000000e+00</td>\n",
       "    </tr>\n",
       "  </tbody>\n",
       "</table>\n",
       "<p>19102 rows × 4 columns</p>\n",
       "</div>"
      ],
      "text/plain": [
       "                       Aivar Sõerd freq  Jevgeni Ossinovski freq  \\\n",
       "term                                                               \n",
       "föderatsiooni                         0                      165   \n",
       "venemaa föderatsiooni                 0                      163   \n",
       "millisel viisil                       0                      131   \n",
       "kodakondsusest                        0                       95   \n",
       "kahtlematult                          0                       93   \n",
       "...                                 ...                      ...   \n",
       "panga                               148                        1   \n",
       "piirikaubanduse                      85                        0   \n",
       "euroala                              88                        0   \n",
       "tänan tähelepanu                    136                        0   \n",
       "tähelepanu eest                     138                        0   \n",
       "\n",
       "                       cat_score_jev  cat_score_aivar  \n",
       "term                                                   \n",
       "föderatsiooni           1.000000e+00     0.000000e+00  \n",
       "venemaa föderatsiooni   1.000000e+00     1.457371e-10  \n",
       "millisel viisil         9.999996e-01     4.420855e-07  \n",
       "kodakondsusest          9.997928e-01     2.072293e-04  \n",
       "kahtlematult            9.997241e-01     2.759210e-04  \n",
       "...                              ...              ...  \n",
       "panga                   5.827183e-04     9.994173e-01  \n",
       "piirikaubanduse         4.182159e-04     9.995818e-01  \n",
       "euroala                 2.666238e-04     9.997334e-01  \n",
       "tänan tähelepanu        9.591341e-09     1.000000e+00  \n",
       "tähelepanu eest         0.000000e+00     1.000000e+00  \n",
       "\n",
       "[19102 rows x 4 columns]"
      ]
     },
     "execution_count": 11,
     "metadata": {},
     "output_type": "execute_result"
    }
   ],
   "source": [
    "term_freq_df.sort_values(by='cat_score_jev', ascending=False)"
   ]
  },
  {
   "cell_type": "code",
   "execution_count": 12,
   "metadata": {
    "pycharm": {
     "name": "#%%\n"
    }
   },
   "outputs": [
    {
     "data": {
      "text/html": [
       "<div>\n",
       "<style scoped>\n",
       "    .dataframe tbody tr th:only-of-type {\n",
       "        vertical-align: middle;\n",
       "    }\n",
       "\n",
       "    .dataframe tbody tr th {\n",
       "        vertical-align: top;\n",
       "    }\n",
       "\n",
       "    .dataframe thead th {\n",
       "        text-align: right;\n",
       "    }\n",
       "</style>\n",
       "<table border=\"1\" class=\"dataframe\">\n",
       "  <thead>\n",
       "    <tr style=\"text-align: right;\">\n",
       "      <th></th>\n",
       "      <th>Aivar Sõerd freq</th>\n",
       "      <th>Jevgeni Ossinovski freq</th>\n",
       "      <th>cat_score_jev</th>\n",
       "      <th>cat_score_aivar</th>\n",
       "    </tr>\n",
       "    <tr>\n",
       "      <th>term</th>\n",
       "      <th></th>\n",
       "      <th></th>\n",
       "      <th></th>\n",
       "      <th></th>\n",
       "    </tr>\n",
       "  </thead>\n",
       "  <tbody>\n",
       "    <tr>\n",
       "      <th>tähelepanu eest</th>\n",
       "      <td>138</td>\n",
       "      <td>0</td>\n",
       "      <td>0.000000e+00</td>\n",
       "      <td>1.000000e+00</td>\n",
       "    </tr>\n",
       "    <tr>\n",
       "      <th>tänan tähelepanu</th>\n",
       "      <td>136</td>\n",
       "      <td>0</td>\n",
       "      <td>9.591341e-09</td>\n",
       "      <td>1.000000e+00</td>\n",
       "    </tr>\n",
       "    <tr>\n",
       "      <th>euroala</th>\n",
       "      <td>88</td>\n",
       "      <td>0</td>\n",
       "      <td>2.666238e-04</td>\n",
       "      <td>9.997334e-01</td>\n",
       "    </tr>\n",
       "    <tr>\n",
       "      <th>piirikaubanduse</th>\n",
       "      <td>85</td>\n",
       "      <td>0</td>\n",
       "      <td>4.182159e-04</td>\n",
       "      <td>9.995818e-01</td>\n",
       "    </tr>\n",
       "    <tr>\n",
       "      <th>panga</th>\n",
       "      <td>148</td>\n",
       "      <td>1</td>\n",
       "      <td>5.827183e-04</td>\n",
       "      <td>9.994173e-01</td>\n",
       "    </tr>\n",
       "    <tr>\n",
       "      <th>...</th>\n",
       "      <td>...</td>\n",
       "      <td>...</td>\n",
       "      <td>...</td>\n",
       "      <td>...</td>\n",
       "    </tr>\n",
       "    <tr>\n",
       "      <th>kahtlematult</th>\n",
       "      <td>0</td>\n",
       "      <td>93</td>\n",
       "      <td>9.997241e-01</td>\n",
       "      <td>2.759210e-04</td>\n",
       "    </tr>\n",
       "    <tr>\n",
       "      <th>kodakondsusest</th>\n",
       "      <td>0</td>\n",
       "      <td>95</td>\n",
       "      <td>9.997928e-01</td>\n",
       "      <td>2.072293e-04</td>\n",
       "    </tr>\n",
       "    <tr>\n",
       "      <th>millisel viisil</th>\n",
       "      <td>0</td>\n",
       "      <td>131</td>\n",
       "      <td>9.999996e-01</td>\n",
       "      <td>4.420855e-07</td>\n",
       "    </tr>\n",
       "    <tr>\n",
       "      <th>venemaa föderatsiooni</th>\n",
       "      <td>0</td>\n",
       "      <td>163</td>\n",
       "      <td>1.000000e+00</td>\n",
       "      <td>1.457371e-10</td>\n",
       "    </tr>\n",
       "    <tr>\n",
       "      <th>föderatsiooni</th>\n",
       "      <td>0</td>\n",
       "      <td>165</td>\n",
       "      <td>1.000000e+00</td>\n",
       "      <td>0.000000e+00</td>\n",
       "    </tr>\n",
       "  </tbody>\n",
       "</table>\n",
       "<p>19102 rows × 4 columns</p>\n",
       "</div>"
      ],
      "text/plain": [
       "                       Aivar Sõerd freq  Jevgeni Ossinovski freq  \\\n",
       "term                                                               \n",
       "tähelepanu eest                     138                        0   \n",
       "tänan tähelepanu                    136                        0   \n",
       "euroala                              88                        0   \n",
       "piirikaubanduse                      85                        0   \n",
       "panga                               148                        1   \n",
       "...                                 ...                      ...   \n",
       "kahtlematult                          0                       93   \n",
       "kodakondsusest                        0                       95   \n",
       "millisel viisil                       0                      131   \n",
       "venemaa föderatsiooni                 0                      163   \n",
       "föderatsiooni                         0                      165   \n",
       "\n",
       "                       cat_score_jev  cat_score_aivar  \n",
       "term                                                   \n",
       "tähelepanu eest         0.000000e+00     1.000000e+00  \n",
       "tänan tähelepanu        9.591341e-09     1.000000e+00  \n",
       "euroala                 2.666238e-04     9.997334e-01  \n",
       "piirikaubanduse         4.182159e-04     9.995818e-01  \n",
       "panga                   5.827183e-04     9.994173e-01  \n",
       "...                              ...              ...  \n",
       "kahtlematult            9.997241e-01     2.759210e-04  \n",
       "kodakondsusest          9.997928e-01     2.072293e-04  \n",
       "millisel viisil         9.999996e-01     4.420855e-07  \n",
       "venemaa föderatsiooni   1.000000e+00     1.457371e-10  \n",
       "föderatsiooni           1.000000e+00     0.000000e+00  \n",
       "\n",
       "[19102 rows x 4 columns]"
      ]
     },
     "execution_count": 12,
     "metadata": {},
     "output_type": "execute_result"
    }
   ],
   "source": [
    "term_freq_df.sort_values(by='cat_score_aivar', ascending=False)"
   ]
  },
  {
   "cell_type": "markdown",
   "metadata": {
    "pycharm": {
     "name": "#%% md\n"
    }
   },
   "source": [
    "## calculate scaled F-score raw"
   ]
  },
  {
   "cell_type": "code",
   "execution_count": 31,
   "metadata": {
    "pycharm": {
     "name": "#%%\n"
    }
   },
   "outputs": [],
   "source": [
    "from scipy.stats import hmean\n",
    "from scipy.stats import norm\n",
    "\n",
    "def normcdf(x):\n",
    "    return norm.cdf(x, x.mean(), x.std())\n",
    "\n",
    "def calc_cat_scaled_fscore(df_freq, catname1, catname2):\n",
    "    df_freq[f'{catname1}_precision'] = (df_freq[catname1] * 1./\n",
    "                                     (df_freq[catname1] + df_freq[catname2]))\n",
    "\n",
    "    df_freq[f'{catname1}_freq_pct'] = (df_freq[catname1] * 1.\n",
    "                                    /df_freq[catname1].sum())\n",
    "\n",
    "    df_freq[f'{catname1}_hmean'] = (df_freq.apply(lambda x: (hmean([x[f'{catname1}_precision'], x[f'{catname1}_freq_pct']])\n",
    "                                                   if x[f'{catname1}_precision'] > 0 and x[f'{catname1}_freq_pct'] > 0\n",
    "                                                   else 0), axis=1))\n",
    "    \n",
    "    df_freq[f'{catname1}_precision_normcdf'] = normcdf(df_freq[f'{catname1}_precision'])\n",
    "    df_freq[f'{catname1}_freq_pct_normcdf'] = normcdf(df_freq[f'{catname1}_freq_pct'])\n",
    "    df_freq[f'{catname1}_scaled_f_score'] = hmean([df_freq[f'{catname1}_precision_normcdf'], df_freq[f'{catname1}_freq_pct_normcdf']])\n",
    "    df_freq.sort_values(by=f'{catname1}_scaled_f_score', ascending=False).iloc[:10]\n",
    "\n",
    "    return df_freq\n",
    "    \n",
    "def calc_scaled_fscore(df_freq):\n",
    "    \"\"\"df_freq can have 2 columns, column names are taken to be category names\"\"\"\n",
    "    categories=df_freq.columns\n",
    "    df_freq = df_freq[df_freq.sum(axis=1) > 0]\n",
    "    \n",
    "    for catname1, catname2 in list(zip(categories, categories[::-1])):\n",
    "        df_freq=calc_cat_scaled_fscore(df_freq, catname1, catname2)\n",
    "    \n",
    "    df_freq['scaled_f_score'] = 0\n",
    "    df_freq.loc[df_freq[f'{categories[0]}_scaled_f_score'] > df_freq[f'{categories[0]}_scaled_f_score'],\n",
    "                     'scaled_f_score'] = df_freq[f'{categories[0]}_scaled_f_score']\n",
    "    df_freq.loc[df_freq[f'{categories[0]}_scaled_f_score'] < df_freq[f'{categories[1]}_scaled_f_score'], 'scaled_f_score'] = 1-df_freq[f'{categories[1]}_scaled_f_score']\n",
    "    df_freq['scaled_f_score'] = 2 * (df_freq['scaled_f_score'] - 0.5)\n",
    "    return df_freq\n",
    "    "
   ]
  },
  {
   "cell_type": "code",
   "execution_count": 32,
   "metadata": {
    "pycharm": {
     "name": "#%%\n"
    }
   },
   "outputs": [
    {
     "data": {
      "text/html": [
       "<div>\n",
       "<style scoped>\n",
       "    .dataframe tbody tr th:only-of-type {\n",
       "        vertical-align: middle;\n",
       "    }\n",
       "\n",
       "    .dataframe tbody tr th {\n",
       "        vertical-align: top;\n",
       "    }\n",
       "\n",
       "    .dataframe thead th {\n",
       "        text-align: right;\n",
       "    }\n",
       "</style>\n",
       "<table border=\"1\" class=\"dataframe\">\n",
       "  <thead>\n",
       "    <tr style=\"text-align: right;\">\n",
       "      <th></th>\n",
       "      <th>Aivar</th>\n",
       "      <th>Jevgeni</th>\n",
       "    </tr>\n",
       "    <tr>\n",
       "      <th>term</th>\n",
       "      <th></th>\n",
       "      <th></th>\n",
       "    </tr>\n",
       "  </thead>\n",
       "  <tbody>\n",
       "    <tr>\n",
       "      <th>aitäh</th>\n",
       "      <td>712</td>\n",
       "      <td>727</td>\n",
       "    </tr>\n",
       "    <tr>\n",
       "      <th>aitäh austatud</th>\n",
       "      <td>321</td>\n",
       "      <td>141</td>\n",
       "    </tr>\n",
       "    <tr>\n",
       "      <th>austatud juhataja</th>\n",
       "      <td>385</td>\n",
       "      <td>6</td>\n",
       "    </tr>\n",
       "    <tr>\n",
       "      <th>austatud ettekandja</th>\n",
       "      <td>198</td>\n",
       "      <td>53</td>\n",
       "    </tr>\n",
       "    <tr>\n",
       "      <th>rahanduskomisjonis</th>\n",
       "      <td>149</td>\n",
       "      <td>3</td>\n",
       "    </tr>\n",
       "    <tr>\n",
       "      <th>...</th>\n",
       "      <td>...</td>\n",
       "      <td>...</td>\n",
       "    </tr>\n",
       "    <tr>\n",
       "      <th>eriarstiabi</th>\n",
       "      <td>0</td>\n",
       "      <td>4</td>\n",
       "    </tr>\n",
       "    <tr>\n",
       "      <th>varamaksude</th>\n",
       "      <td>3</td>\n",
       "      <td>1</td>\n",
       "    </tr>\n",
       "    <tr>\n",
       "      <th>varamaksude osakaal</th>\n",
       "      <td>3</td>\n",
       "      <td>1</td>\n",
       "    </tr>\n",
       "    <tr>\n",
       "      <th>performance</th>\n",
       "      <td>0</td>\n",
       "      <td>5</td>\n",
       "    </tr>\n",
       "    <tr>\n",
       "      <th>maksueksperimenti</th>\n",
       "      <td>4</td>\n",
       "      <td>0</td>\n",
       "    </tr>\n",
       "  </tbody>\n",
       "</table>\n",
       "<p>19102 rows × 2 columns</p>\n",
       "</div>"
      ],
      "text/plain": [
       "                     Aivar  Jevgeni\n",
       "term                               \n",
       "aitäh                  712      727\n",
       "aitäh austatud         321      141\n",
       "austatud juhataja      385        6\n",
       "austatud ettekandja    198       53\n",
       "rahanduskomisjonis     149        3\n",
       "...                    ...      ...\n",
       "eriarstiabi              0        4\n",
       "varamaksude              3        1\n",
       "varamaksude osakaal      3        1\n",
       "performance              0        5\n",
       "maksueksperimenti        4        0\n",
       "\n",
       "[19102 rows x 2 columns]"
      ]
     },
     "execution_count": 32,
     "metadata": {},
     "output_type": "execute_result"
    }
   ],
   "source": [
    "#example usage\n",
    "df_freq=corpus.get_term_freq_df()#[['Jevgeni Ossinovski freq', 'Aivar Sõerd freq']]\n",
    "df_freq.columns=['Aivar', 'Jevgeni']\n",
    "df_freq"
   ]
  },
  {
   "cell_type": "code",
   "execution_count": 36,
   "metadata": {
    "pycharm": {
     "name": "#%%\n"
    }
   },
   "outputs": [
    {
     "data": {
      "text/html": [
       "<div>\n",
       "<style scoped>\n",
       "    .dataframe tbody tr th:only-of-type {\n",
       "        vertical-align: middle;\n",
       "    }\n",
       "\n",
       "    .dataframe tbody tr th {\n",
       "        vertical-align: top;\n",
       "    }\n",
       "\n",
       "    .dataframe thead th {\n",
       "        text-align: right;\n",
       "    }\n",
       "</style>\n",
       "<table border=\"1\" class=\"dataframe\">\n",
       "  <thead>\n",
       "    <tr style=\"text-align: right;\">\n",
       "      <th></th>\n",
       "      <th>Aivar</th>\n",
       "      <th>Jevgeni</th>\n",
       "      <th>Aivar_precision</th>\n",
       "      <th>Aivar_freq_pct</th>\n",
       "      <th>Aivar_hmean</th>\n",
       "      <th>Aivar_precision_normcdf</th>\n",
       "      <th>Aivar_freq_pct_normcdf</th>\n",
       "      <th>Aivar_scaled_f_score</th>\n",
       "      <th>Jevgeni_precision</th>\n",
       "      <th>Jevgeni_freq_pct</th>\n",
       "      <th>Jevgeni_hmean</th>\n",
       "      <th>Jevgeni_precision_normcdf</th>\n",
       "      <th>Jevgeni_freq_pct_normcdf</th>\n",
       "      <th>Jevgeni_scaled_f_score</th>\n",
       "      <th>scaled_f_score</th>\n",
       "    </tr>\n",
       "    <tr>\n",
       "      <th>term</th>\n",
       "      <th></th>\n",
       "      <th></th>\n",
       "      <th></th>\n",
       "      <th></th>\n",
       "      <th></th>\n",
       "      <th></th>\n",
       "      <th></th>\n",
       "      <th></th>\n",
       "      <th></th>\n",
       "      <th></th>\n",
       "      <th></th>\n",
       "      <th></th>\n",
       "      <th></th>\n",
       "      <th></th>\n",
       "      <th></th>\n",
       "    </tr>\n",
       "  </thead>\n",
       "  <tbody>\n",
       "    <tr>\n",
       "      <th>föderatsiooni</th>\n",
       "      <td>0</td>\n",
       "      <td>165</td>\n",
       "      <td>0.000000</td>\n",
       "      <td>0.000000</td>\n",
       "      <td>0.000000</td>\n",
       "      <td>0.061408</td>\n",
       "      <td>0.376854</td>\n",
       "      <td>0.105608</td>\n",
       "      <td>1.000000</td>\n",
       "      <td>0.001200</td>\n",
       "      <td>0.002397</td>\n",
       "      <td>0.938592</td>\n",
       "      <td>1.000000</td>\n",
       "      <td>0.968323</td>\n",
       "      <td>-0.936646</td>\n",
       "    </tr>\n",
       "    <tr>\n",
       "      <th>venemaa föderatsiooni</th>\n",
       "      <td>0</td>\n",
       "      <td>163</td>\n",
       "      <td>0.000000</td>\n",
       "      <td>0.000000</td>\n",
       "      <td>0.000000</td>\n",
       "      <td>0.061408</td>\n",
       "      <td>0.376854</td>\n",
       "      <td>0.105608</td>\n",
       "      <td>1.000000</td>\n",
       "      <td>0.001186</td>\n",
       "      <td>0.002368</td>\n",
       "      <td>0.938592</td>\n",
       "      <td>1.000000</td>\n",
       "      <td>0.968323</td>\n",
       "      <td>-0.936646</td>\n",
       "    </tr>\n",
       "    <tr>\n",
       "      <th>millisel viisil</th>\n",
       "      <td>0</td>\n",
       "      <td>131</td>\n",
       "      <td>0.000000</td>\n",
       "      <td>0.000000</td>\n",
       "      <td>0.000000</td>\n",
       "      <td>0.061408</td>\n",
       "      <td>0.376854</td>\n",
       "      <td>0.105608</td>\n",
       "      <td>1.000000</td>\n",
       "      <td>0.000953</td>\n",
       "      <td>0.001904</td>\n",
       "      <td>0.938592</td>\n",
       "      <td>0.999999</td>\n",
       "      <td>0.968323</td>\n",
       "      <td>-0.936646</td>\n",
       "    </tr>\n",
       "    <tr>\n",
       "      <th>kodakondsusest</th>\n",
       "      <td>0</td>\n",
       "      <td>95</td>\n",
       "      <td>0.000000</td>\n",
       "      <td>0.000000</td>\n",
       "      <td>0.000000</td>\n",
       "      <td>0.061408</td>\n",
       "      <td>0.376854</td>\n",
       "      <td>0.105608</td>\n",
       "      <td>1.000000</td>\n",
       "      <td>0.000691</td>\n",
       "      <td>0.001381</td>\n",
       "      <td>0.938592</td>\n",
       "      <td>0.999707</td>\n",
       "      <td>0.968186</td>\n",
       "      <td>-0.936371</td>\n",
       "    </tr>\n",
       "    <tr>\n",
       "      <th>kahtlematult</th>\n",
       "      <td>0</td>\n",
       "      <td>93</td>\n",
       "      <td>0.000000</td>\n",
       "      <td>0.000000</td>\n",
       "      <td>0.000000</td>\n",
       "      <td>0.061408</td>\n",
       "      <td>0.376854</td>\n",
       "      <td>0.105608</td>\n",
       "      <td>1.000000</td>\n",
       "      <td>0.000676</td>\n",
       "      <td>0.001352</td>\n",
       "      <td>0.938592</td>\n",
       "      <td>0.999609</td>\n",
       "      <td>0.968140</td>\n",
       "      <td>-0.936280</td>\n",
       "    </tr>\n",
       "    <tr>\n",
       "      <th>vähemasti</th>\n",
       "      <td>0</td>\n",
       "      <td>74</td>\n",
       "      <td>0.000000</td>\n",
       "      <td>0.000000</td>\n",
       "      <td>0.000000</td>\n",
       "      <td>0.061408</td>\n",
       "      <td>0.376854</td>\n",
       "      <td>0.105608</td>\n",
       "      <td>1.000000</td>\n",
       "      <td>0.000538</td>\n",
       "      <td>0.001076</td>\n",
       "      <td>0.938592</td>\n",
       "      <td>0.995544</td>\n",
       "      <td>0.966229</td>\n",
       "      <td>-0.932459</td>\n",
       "    </tr>\n",
       "    <tr>\n",
       "      <th>kodanikuks</th>\n",
       "      <td>0</td>\n",
       "      <td>74</td>\n",
       "      <td>0.000000</td>\n",
       "      <td>0.000000</td>\n",
       "      <td>0.000000</td>\n",
       "      <td>0.061408</td>\n",
       "      <td>0.376854</td>\n",
       "      <td>0.105608</td>\n",
       "      <td>1.000000</td>\n",
       "      <td>0.000538</td>\n",
       "      <td>0.001076</td>\n",
       "      <td>0.938592</td>\n",
       "      <td>0.995544</td>\n",
       "      <td>0.966229</td>\n",
       "      <td>-0.932459</td>\n",
       "    </tr>\n",
       "    <tr>\n",
       "      <th>lugupeetud kolleegid</th>\n",
       "      <td>0</td>\n",
       "      <td>73</td>\n",
       "      <td>0.000000</td>\n",
       "      <td>0.000000</td>\n",
       "      <td>0.000000</td>\n",
       "      <td>0.061408</td>\n",
       "      <td>0.376854</td>\n",
       "      <td>0.105608</td>\n",
       "      <td>1.000000</td>\n",
       "      <td>0.000531</td>\n",
       "      <td>0.001061</td>\n",
       "      <td>0.938592</td>\n",
       "      <td>0.995006</td>\n",
       "      <td>0.965976</td>\n",
       "      <td>-0.931952</td>\n",
       "    </tr>\n",
       "    <tr>\n",
       "      <th>laps</th>\n",
       "      <td>1</td>\n",
       "      <td>89</td>\n",
       "      <td>0.011111</td>\n",
       "      <td>0.000007</td>\n",
       "      <td>0.000014</td>\n",
       "      <td>0.065584</td>\n",
       "      <td>0.392884</td>\n",
       "      <td>0.112404</td>\n",
       "      <td>0.988889</td>\n",
       "      <td>0.000647</td>\n",
       "      <td>0.001294</td>\n",
       "      <td>0.934416</td>\n",
       "      <td>0.999319</td>\n",
       "      <td>0.965778</td>\n",
       "      <td>-0.931557</td>\n",
       "    </tr>\n",
       "    <tr>\n",
       "      <th>lugupeetud ettekandja</th>\n",
       "      <td>0</td>\n",
       "      <td>72</td>\n",
       "      <td>0.000000</td>\n",
       "      <td>0.000000</td>\n",
       "      <td>0.000000</td>\n",
       "      <td>0.061408</td>\n",
       "      <td>0.376854</td>\n",
       "      <td>0.105608</td>\n",
       "      <td>1.000000</td>\n",
       "      <td>0.000524</td>\n",
       "      <td>0.001047</td>\n",
       "      <td>0.938592</td>\n",
       "      <td>0.994411</td>\n",
       "      <td>0.965695</td>\n",
       "      <td>-0.931391</td>\n",
       "    </tr>\n",
       "  </tbody>\n",
       "</table>\n",
       "</div>"
      ],
      "text/plain": [
       "                       Aivar  Jevgeni  Aivar_precision  Aivar_freq_pct  \\\n",
       "term                                                                     \n",
       "föderatsiooni              0      165         0.000000        0.000000   \n",
       "venemaa föderatsiooni      0      163         0.000000        0.000000   \n",
       "millisel viisil            0      131         0.000000        0.000000   \n",
       "kodakondsusest             0       95         0.000000        0.000000   \n",
       "kahtlematult               0       93         0.000000        0.000000   \n",
       "vähemasti                  0       74         0.000000        0.000000   \n",
       "kodanikuks                 0       74         0.000000        0.000000   \n",
       "lugupeetud kolleegid       0       73         0.000000        0.000000   \n",
       "laps                       1       89         0.011111        0.000007   \n",
       "lugupeetud ettekandja      0       72         0.000000        0.000000   \n",
       "\n",
       "                       Aivar_hmean  Aivar_precision_normcdf  \\\n",
       "term                                                          \n",
       "föderatsiooni             0.000000                 0.061408   \n",
       "venemaa föderatsiooni     0.000000                 0.061408   \n",
       "millisel viisil           0.000000                 0.061408   \n",
       "kodakondsusest            0.000000                 0.061408   \n",
       "kahtlematult              0.000000                 0.061408   \n",
       "vähemasti                 0.000000                 0.061408   \n",
       "kodanikuks                0.000000                 0.061408   \n",
       "lugupeetud kolleegid      0.000000                 0.061408   \n",
       "laps                      0.000014                 0.065584   \n",
       "lugupeetud ettekandja     0.000000                 0.061408   \n",
       "\n",
       "                       Aivar_freq_pct_normcdf  Aivar_scaled_f_score  \\\n",
       "term                                                                  \n",
       "föderatsiooni                        0.376854              0.105608   \n",
       "venemaa föderatsiooni                0.376854              0.105608   \n",
       "millisel viisil                      0.376854              0.105608   \n",
       "kodakondsusest                       0.376854              0.105608   \n",
       "kahtlematult                         0.376854              0.105608   \n",
       "vähemasti                            0.376854              0.105608   \n",
       "kodanikuks                           0.376854              0.105608   \n",
       "lugupeetud kolleegid                 0.376854              0.105608   \n",
       "laps                                 0.392884              0.112404   \n",
       "lugupeetud ettekandja                0.376854              0.105608   \n",
       "\n",
       "                       Jevgeni_precision  Jevgeni_freq_pct  Jevgeni_hmean  \\\n",
       "term                                                                        \n",
       "föderatsiooni                   1.000000          0.001200       0.002397   \n",
       "venemaa föderatsiooni           1.000000          0.001186       0.002368   \n",
       "millisel viisil                 1.000000          0.000953       0.001904   \n",
       "kodakondsusest                  1.000000          0.000691       0.001381   \n",
       "kahtlematult                    1.000000          0.000676       0.001352   \n",
       "vähemasti                       1.000000          0.000538       0.001076   \n",
       "kodanikuks                      1.000000          0.000538       0.001076   \n",
       "lugupeetud kolleegid            1.000000          0.000531       0.001061   \n",
       "laps                            0.988889          0.000647       0.001294   \n",
       "lugupeetud ettekandja           1.000000          0.000524       0.001047   \n",
       "\n",
       "                       Jevgeni_precision_normcdf  Jevgeni_freq_pct_normcdf  \\\n",
       "term                                                                         \n",
       "föderatsiooni                           0.938592                  1.000000   \n",
       "venemaa föderatsiooni                   0.938592                  1.000000   \n",
       "millisel viisil                         0.938592                  0.999999   \n",
       "kodakondsusest                          0.938592                  0.999707   \n",
       "kahtlematult                            0.938592                  0.999609   \n",
       "vähemasti                               0.938592                  0.995544   \n",
       "kodanikuks                              0.938592                  0.995544   \n",
       "lugupeetud kolleegid                    0.938592                  0.995006   \n",
       "laps                                    0.934416                  0.999319   \n",
       "lugupeetud ettekandja                   0.938592                  0.994411   \n",
       "\n",
       "                       Jevgeni_scaled_f_score  scaled_f_score  \n",
       "term                                                           \n",
       "föderatsiooni                        0.968323       -0.936646  \n",
       "venemaa föderatsiooni                0.968323       -0.936646  \n",
       "millisel viisil                      0.968323       -0.936646  \n",
       "kodakondsusest                       0.968186       -0.936371  \n",
       "kahtlematult                         0.968140       -0.936280  \n",
       "vähemasti                            0.966229       -0.932459  \n",
       "kodanikuks                           0.966229       -0.932459  \n",
       "lugupeetud kolleegid                 0.965976       -0.931952  \n",
       "laps                                 0.965778       -0.931557  \n",
       "lugupeetud ettekandja                0.965695       -0.931391  "
      ]
     },
     "execution_count": 36,
     "metadata": {},
     "output_type": "execute_result"
    }
   ],
   "source": [
    "df_scaled_fscore=calc_scaled_fscore(df_freq)\n",
    "df_scaled_fscore.sort_values(by='Jevgeni_scaled_f_score', ascending=False).iloc[:10]"
   ]
  },
  {
   "cell_type": "code",
   "execution_count": 37,
   "metadata": {
    "pycharm": {
     "name": "#%%\n"
    }
   },
   "outputs": [
    {
     "data": {
      "text/html": [
       "<div>\n",
       "<style scoped>\n",
       "    .dataframe tbody tr th:only-of-type {\n",
       "        vertical-align: middle;\n",
       "    }\n",
       "\n",
       "    .dataframe tbody tr th {\n",
       "        vertical-align: top;\n",
       "    }\n",
       "\n",
       "    .dataframe thead th {\n",
       "        text-align: right;\n",
       "    }\n",
       "</style>\n",
       "<table border=\"1\" class=\"dataframe\">\n",
       "  <thead>\n",
       "    <tr style=\"text-align: right;\">\n",
       "      <th></th>\n",
       "      <th>Aivar</th>\n",
       "      <th>Jevgeni</th>\n",
       "      <th>Aivar_precision</th>\n",
       "      <th>Aivar_freq_pct</th>\n",
       "      <th>Aivar_hmean</th>\n",
       "      <th>Aivar_precision_normcdf</th>\n",
       "      <th>Aivar_freq_pct_normcdf</th>\n",
       "      <th>Aivar_scaled_f_score</th>\n",
       "      <th>Jevgeni_precision</th>\n",
       "      <th>Jevgeni_freq_pct</th>\n",
       "      <th>Jevgeni_hmean</th>\n",
       "      <th>Jevgeni_precision_normcdf</th>\n",
       "      <th>Jevgeni_freq_pct_normcdf</th>\n",
       "      <th>Jevgeni_scaled_f_score</th>\n",
       "      <th>scaled_f_score</th>\n",
       "    </tr>\n",
       "    <tr>\n",
       "      <th>term</th>\n",
       "      <th></th>\n",
       "      <th></th>\n",
       "      <th></th>\n",
       "      <th></th>\n",
       "      <th></th>\n",
       "      <th></th>\n",
       "      <th></th>\n",
       "      <th></th>\n",
       "      <th></th>\n",
       "      <th></th>\n",
       "      <th></th>\n",
       "      <th></th>\n",
       "      <th></th>\n",
       "      <th></th>\n",
       "      <th></th>\n",
       "    </tr>\n",
       "  </thead>\n",
       "  <tbody>\n",
       "    <tr>\n",
       "      <th>tähelepanu eest</th>\n",
       "      <td>138</td>\n",
       "      <td>0</td>\n",
       "      <td>1.000000</td>\n",
       "      <td>0.000966</td>\n",
       "      <td>0.001930</td>\n",
       "      <td>0.930034</td>\n",
       "      <td>1.000000</td>\n",
       "      <td>0.963749</td>\n",
       "      <td>0.000000</td>\n",
       "      <td>0.000000</td>\n",
       "      <td>0.000000</td>\n",
       "      <td>0.069966</td>\n",
       "      <td>0.389047</td>\n",
       "      <td>0.118603</td>\n",
       "      <td>-1.0</td>\n",
       "    </tr>\n",
       "    <tr>\n",
       "      <th>tänan tähelepanu</th>\n",
       "      <td>136</td>\n",
       "      <td>0</td>\n",
       "      <td>1.000000</td>\n",
       "      <td>0.000952</td>\n",
       "      <td>0.001902</td>\n",
       "      <td>0.930034</td>\n",
       "      <td>1.000000</td>\n",
       "      <td>0.963749</td>\n",
       "      <td>0.000000</td>\n",
       "      <td>0.000000</td>\n",
       "      <td>0.000000</td>\n",
       "      <td>0.069966</td>\n",
       "      <td>0.389047</td>\n",
       "      <td>0.118603</td>\n",
       "      <td>-1.0</td>\n",
       "    </tr>\n",
       "    <tr>\n",
       "      <th>euroala</th>\n",
       "      <td>88</td>\n",
       "      <td>0</td>\n",
       "      <td>1.000000</td>\n",
       "      <td>0.000616</td>\n",
       "      <td>0.001231</td>\n",
       "      <td>0.930034</td>\n",
       "      <td>0.999634</td>\n",
       "      <td>0.963579</td>\n",
       "      <td>0.000000</td>\n",
       "      <td>0.000000</td>\n",
       "      <td>0.000000</td>\n",
       "      <td>0.069966</td>\n",
       "      <td>0.389047</td>\n",
       "      <td>0.118603</td>\n",
       "      <td>-1.0</td>\n",
       "    </tr>\n",
       "    <tr>\n",
       "      <th>piirikaubanduse</th>\n",
       "      <td>85</td>\n",
       "      <td>0</td>\n",
       "      <td>1.000000</td>\n",
       "      <td>0.000595</td>\n",
       "      <td>0.001189</td>\n",
       "      <td>0.930034</td>\n",
       "      <td>0.999426</td>\n",
       "      <td>0.963482</td>\n",
       "      <td>0.000000</td>\n",
       "      <td>0.000000</td>\n",
       "      <td>0.000000</td>\n",
       "      <td>0.069966</td>\n",
       "      <td>0.389047</td>\n",
       "      <td>0.118603</td>\n",
       "      <td>-1.0</td>\n",
       "    </tr>\n",
       "    <tr>\n",
       "      <th>maksusüsteemi</th>\n",
       "      <td>75</td>\n",
       "      <td>0</td>\n",
       "      <td>1.000000</td>\n",
       "      <td>0.000525</td>\n",
       "      <td>0.001049</td>\n",
       "      <td>0.930034</td>\n",
       "      <td>0.997687</td>\n",
       "      <td>0.962673</td>\n",
       "      <td>0.000000</td>\n",
       "      <td>0.000000</td>\n",
       "      <td>0.000000</td>\n",
       "      <td>0.069966</td>\n",
       "      <td>0.389047</td>\n",
       "      <td>0.118603</td>\n",
       "      <td>-1.0</td>\n",
       "    </tr>\n",
       "    <tr>\n",
       "      <th>panga</th>\n",
       "      <td>148</td>\n",
       "      <td>1</td>\n",
       "      <td>0.993289</td>\n",
       "      <td>0.001036</td>\n",
       "      <td>0.002069</td>\n",
       "      <td>0.927273</td>\n",
       "      <td>1.000000</td>\n",
       "      <td>0.962264</td>\n",
       "      <td>0.006711</td>\n",
       "      <td>0.000007</td>\n",
       "      <td>0.000015</td>\n",
       "      <td>0.072727</td>\n",
       "      <td>0.404138</td>\n",
       "      <td>0.123270</td>\n",
       "      <td>-1.0</td>\n",
       "    </tr>\n",
       "    <tr>\n",
       "      <th>eesti panga</th>\n",
       "      <td>111</td>\n",
       "      <td>1</td>\n",
       "      <td>0.991071</td>\n",
       "      <td>0.000777</td>\n",
       "      <td>0.001552</td>\n",
       "      <td>0.926343</td>\n",
       "      <td>0.999993</td>\n",
       "      <td>0.961760</td>\n",
       "      <td>0.008929</td>\n",
       "      <td>0.000007</td>\n",
       "      <td>0.000015</td>\n",
       "      <td>0.073657</td>\n",
       "      <td>0.404138</td>\n",
       "      <td>0.124604</td>\n",
       "      <td>-1.0</td>\n",
       "    </tr>\n",
       "    <tr>\n",
       "      <th>reserve</th>\n",
       "      <td>70</td>\n",
       "      <td>0</td>\n",
       "      <td>1.000000</td>\n",
       "      <td>0.000490</td>\n",
       "      <td>0.000979</td>\n",
       "      <td>0.930034</td>\n",
       "      <td>0.995633</td>\n",
       "      <td>0.961716</td>\n",
       "      <td>0.000000</td>\n",
       "      <td>0.000000</td>\n",
       "      <td>0.000000</td>\n",
       "      <td>0.069966</td>\n",
       "      <td>0.389047</td>\n",
       "      <td>0.118603</td>\n",
       "      <td>-1.0</td>\n",
       "    </tr>\n",
       "    <tr>\n",
       "      <th>austatud esimees</th>\n",
       "      <td>89</td>\n",
       "      <td>1</td>\n",
       "      <td>0.988889</td>\n",
       "      <td>0.000623</td>\n",
       "      <td>0.001245</td>\n",
       "      <td>0.925419</td>\n",
       "      <td>0.999686</td>\n",
       "      <td>0.961120</td>\n",
       "      <td>0.011111</td>\n",
       "      <td>0.000007</td>\n",
       "      <td>0.000015</td>\n",
       "      <td>0.074581</td>\n",
       "      <td>0.404138</td>\n",
       "      <td>0.125924</td>\n",
       "      <td>-1.0</td>\n",
       "    </tr>\n",
       "    <tr>\n",
       "      <th>esm</th>\n",
       "      <td>67</td>\n",
       "      <td>0</td>\n",
       "      <td>1.000000</td>\n",
       "      <td>0.000469</td>\n",
       "      <td>0.000937</td>\n",
       "      <td>0.930034</td>\n",
       "      <td>0.993728</td>\n",
       "      <td>0.960827</td>\n",
       "      <td>0.000000</td>\n",
       "      <td>0.000000</td>\n",
       "      <td>0.000000</td>\n",
       "      <td>0.069966</td>\n",
       "      <td>0.389047</td>\n",
       "      <td>0.118603</td>\n",
       "      <td>-1.0</td>\n",
       "    </tr>\n",
       "  </tbody>\n",
       "</table>\n",
       "</div>"
      ],
      "text/plain": [
       "                  Aivar  Jevgeni  Aivar_precision  Aivar_freq_pct  \\\n",
       "term                                                                \n",
       "tähelepanu eest     138        0         1.000000        0.000966   \n",
       "tänan tähelepanu    136        0         1.000000        0.000952   \n",
       "euroala              88        0         1.000000        0.000616   \n",
       "piirikaubanduse      85        0         1.000000        0.000595   \n",
       "maksusüsteemi        75        0         1.000000        0.000525   \n",
       "panga               148        1         0.993289        0.001036   \n",
       "eesti panga         111        1         0.991071        0.000777   \n",
       "reserve              70        0         1.000000        0.000490   \n",
       "austatud esimees     89        1         0.988889        0.000623   \n",
       "esm                  67        0         1.000000        0.000469   \n",
       "\n",
       "                  Aivar_hmean  Aivar_precision_normcdf  \\\n",
       "term                                                     \n",
       "tähelepanu eest      0.001930                 0.930034   \n",
       "tänan tähelepanu     0.001902                 0.930034   \n",
       "euroala              0.001231                 0.930034   \n",
       "piirikaubanduse      0.001189                 0.930034   \n",
       "maksusüsteemi        0.001049                 0.930034   \n",
       "panga                0.002069                 0.927273   \n",
       "eesti panga          0.001552                 0.926343   \n",
       "reserve              0.000979                 0.930034   \n",
       "austatud esimees     0.001245                 0.925419   \n",
       "esm                  0.000937                 0.930034   \n",
       "\n",
       "                  Aivar_freq_pct_normcdf  Aivar_scaled_f_score  \\\n",
       "term                                                             \n",
       "tähelepanu eest                 1.000000              0.963749   \n",
       "tänan tähelepanu                1.000000              0.963749   \n",
       "euroala                         0.999634              0.963579   \n",
       "piirikaubanduse                 0.999426              0.963482   \n",
       "maksusüsteemi                   0.997687              0.962673   \n",
       "panga                           1.000000              0.962264   \n",
       "eesti panga                     0.999993              0.961760   \n",
       "reserve                         0.995633              0.961716   \n",
       "austatud esimees                0.999686              0.961120   \n",
       "esm                             0.993728              0.960827   \n",
       "\n",
       "                  Jevgeni_precision  Jevgeni_freq_pct  Jevgeni_hmean  \\\n",
       "term                                                                   \n",
       "tähelepanu eest            0.000000          0.000000       0.000000   \n",
       "tänan tähelepanu           0.000000          0.000000       0.000000   \n",
       "euroala                    0.000000          0.000000       0.000000   \n",
       "piirikaubanduse            0.000000          0.000000       0.000000   \n",
       "maksusüsteemi              0.000000          0.000000       0.000000   \n",
       "panga                      0.006711          0.000007       0.000015   \n",
       "eesti panga                0.008929          0.000007       0.000015   \n",
       "reserve                    0.000000          0.000000       0.000000   \n",
       "austatud esimees           0.011111          0.000007       0.000015   \n",
       "esm                        0.000000          0.000000       0.000000   \n",
       "\n",
       "                  Jevgeni_precision_normcdf  Jevgeni_freq_pct_normcdf  \\\n",
       "term                                                                    \n",
       "tähelepanu eest                    0.069966                  0.389047   \n",
       "tänan tähelepanu                   0.069966                  0.389047   \n",
       "euroala                            0.069966                  0.389047   \n",
       "piirikaubanduse                    0.069966                  0.389047   \n",
       "maksusüsteemi                      0.069966                  0.389047   \n",
       "panga                              0.072727                  0.404138   \n",
       "eesti panga                        0.073657                  0.404138   \n",
       "reserve                            0.069966                  0.389047   \n",
       "austatud esimees                   0.074581                  0.404138   \n",
       "esm                                0.069966                  0.389047   \n",
       "\n",
       "                  Jevgeni_scaled_f_score  scaled_f_score  \n",
       "term                                                      \n",
       "tähelepanu eest                 0.118603            -1.0  \n",
       "tänan tähelepanu                0.118603            -1.0  \n",
       "euroala                         0.118603            -1.0  \n",
       "piirikaubanduse                 0.118603            -1.0  \n",
       "maksusüsteemi                   0.118603            -1.0  \n",
       "panga                           0.123270            -1.0  \n",
       "eesti panga                     0.124604            -1.0  \n",
       "reserve                         0.118603            -1.0  \n",
       "austatud esimees                0.125924            -1.0  \n",
       "esm                             0.118603            -1.0  "
      ]
     },
     "execution_count": 37,
     "metadata": {},
     "output_type": "execute_result"
    }
   ],
   "source": [
    "df_scaled_fscore.sort_values(by='Aivar_scaled_f_score', ascending=False).iloc[:10]"
   ]
  },
  {
   "cell_type": "markdown",
   "metadata": {
    "id": "GJwKiist6Xu1",
    "pycharm": {
     "name": "#%% md\n"
    }
   },
   "source": [
    "### Let's visualize the corpus using Scattertext\n",
    "\n",
    "The x-axis indicates the rank of a word or bigram in the set of positive reviews, and the y-axis negative reviews.\n",
    "\n",
    "Ranks are determined using \"dense\" ranking, meaning the most frequent terms, regardless of ties, are given rank 1, the next most frequent terms, regardless of ties, are given rank 2, etc.\n",
    "\n",
    "It appears that terms more associated with a class are a further distance from the diagonal line between the lower-left and upper-right corners.  Terms are colored according to this distance.  We'll return to this in a bit.\n",
    "\n",
    "Scattertext selectively labels points in such a way as to prevent labels from overlapping other elements of the graph. Mouse-over points and term labels for a preview, and click for a key-word in context view.\n",
    "\n",
    "References:\n",
    "* Jason S. Kessler. Scattertext: a Browser-Based Tool for Visualizing how Corpora Differ. ACL System Demonstrations. 2017."
   ]
  },
  {
   "cell_type": "code",
   "execution_count": 36,
   "metadata": {
    "id": "VsdseXiw7kkk",
    "pycharm": {
     "name": "#%%\n"
    }
   },
   "outputs": [],
   "source": [
    "# import os\n",
    "# os.mkdir('output')"
   ]
  },
  {
   "cell_type": "code",
   "execution_count": 43,
   "metadata": {
    "colab": {
     "base_uri": "https://localhost:8080/",
     "height": 639
    },
    "id": "T0fWj2J66Xu3",
    "outputId": "c3f18231-8923-4d84-c9eb-d628a9d63b47",
    "pycharm": {
     "name": "#%%\n"
    }
   },
   "outputs": [
    {
     "data": {
      "text/html": [
       "\n",
       "        <iframe\n",
       "            width=\"1300\"\n",
       "            height=\"700\"\n",
       "            src=\"output/temp.html\"\n",
       "            frameborder=\"0\"\n",
       "            allowfullscreen\n",
       "            \n",
       "        ></iframe>\n",
       "        "
      ],
      "text/plain": [
       "<IPython.lib.display.IFrame at 0x1f019382c10>"
      ]
     },
     "execution_count": 43,
     "metadata": {},
     "output_type": "execute_result"
    }
   ],
   "source": [
    "html = st.produce_scattertext_explorer(\n",
    "    corpus,\n",
    "    category='Jevgeni Ossinovski',\n",
    "    category_name='Jevgeni Ossinovski',\n",
    "    not_category_name='Aivar Sõerd',\n",
    "    sort_by_dist=False,\n",
    "    # metadata=rdf['movie_name'],\n",
    "    term_scorer=st.RankDifference(),\n",
    "    transform=st.Scalers.percentile_dense\n",
    ")\n",
    "# display(HTML(html))\n",
    "open('output/temp.html', 'wb').write(html.encode('utf-8'))\n",
    "IFrame(src='output/temp.html', width = 1300, height=700)"
   ]
  },
  {
   "cell_type": "markdown",
   "metadata": {
    "id": "P6DlANpj6Xu8",
    "pycharm": {
     "name": "#%% md\n"
    }
   },
   "source": [
    "### We view can see more terms through breaking ties in ranking alphabetically.\n",
    "Lower frequency terms are more prominent in this view, and more terms can be labeled."
   ]
  },
  {
   "cell_type": "code",
   "execution_count": 44,
   "metadata": {
    "colab": {
     "base_uri": "https://localhost:8080/",
     "height": 639
    },
    "id": "z48nGPLj6Xu_",
    "outputId": "46f6e60e-0d90-473e-8c5b-4bca2cfc87fa",
    "pycharm": {
     "name": "#%%\n"
    }
   },
   "outputs": [
    {
     "data": {
      "text/html": [
       "\n",
       "        <iframe\n",
       "            width=\"1300\"\n",
       "            height=\"700\"\n",
       "            src=\"output/temp.html\"\n",
       "            frameborder=\"0\"\n",
       "            allowfullscreen\n",
       "            \n",
       "        ></iframe>\n",
       "        "
      ],
      "text/plain": [
       "<IPython.lib.display.IFrame at 0x1f015f62fd0>"
      ]
     },
     "execution_count": 44,
     "metadata": {},
     "output_type": "execute_result"
    }
   ],
   "source": [
    "html = st.produce_scattertext_explorer(\n",
    "    corpus,\n",
    "    category='Jevgeni Ossinovski',\n",
    "    category_name='Jevgeni Ossinovski',\n",
    "    not_category_name='Aivar Sõerd',\n",
    "    sort_by_dist=False,\n",
    "    # metadata=rdf['movie_name'],\n",
    "    term_scorer=st.RankDifference(),\n",
    ")\n",
    "open('output/temp.html', 'wb').write(html.encode('utf-8'))\n",
    "IFrame(src='output/temp.html', width = 1300, height=700)"
   ]
  },
  {
   "cell_type": "markdown",
   "metadata": {
    "id": "vp5Qh9nT6XvH",
    "pycharm": {
     "name": "#%% md\n"
    }
   },
   "source": [
    "# Examining term-category association\n",
    "We'll roughly follow the explanation given in Monroe et. al (2008), culminating in a version of their Log-Odds-Ratio with an Informed Dirichlet Prior score.\n",
    "\n",
    "### Naive approach 1\n",
    "### Frequency difference (not recommended)\n",
    "$$\n",
    "\\begin{align}\n",
    "  \\mbox{freqdiff}(\\mbox{term}) & := \\mbox{% or words in catgory A that are term} &- \\mbox{% or words in catgory B that are term}\\\\\n",
    "  \\mbox{freqdiff}(\\mbox{term}) & := \\frac{\\#(\\mbox{term}\\in\\mbox{category}_a)}{\\#(\\mbox{category}_a)} &- \\frac{\\#(\\mbox{term}\\in\\mbox{category}_b)}{\\#(\\mbox{category}_b)}\\\\\n",
    "\\end{align}\n",
    "$$\n",
    "Disporportionately favors very frequent words.\n",
    "\n",
    "References\n",
    "* Burt L. Monroe, Michael P. Colaresi, and Kevin M. Quinn. 2008. Fightin’ words: Lexical feature selection and evaluation for identifying the content of political conflict. Political Analysis.\n"
   ]
  },
  {
   "cell_type": "code",
   "execution_count": 45,
   "metadata": {
    "colab": {
     "base_uri": "https://localhost:8080/",
     "height": 639
    },
    "id": "dhlss1Jo6XvK",
    "outputId": "a6c16510-9ca3-4aef-d045-4a3b3ff2cb52",
    "pycharm": {
     "name": "#%%\n"
    }
   },
   "outputs": [
    {
     "data": {
      "text/html": [
       "\n",
       "        <iframe\n",
       "            width=\"1300\"\n",
       "            height=\"700\"\n",
       "            src=\"output/temp.html\"\n",
       "            frameborder=\"0\"\n",
       "            allowfullscreen\n",
       "            \n",
       "        ></iframe>\n",
       "        "
      ],
      "text/plain": [
       "<IPython.lib.display.IFrame at 0x1f01d511430>"
      ]
     },
     "execution_count": 45,
     "metadata": {},
     "output_type": "execute_result"
    }
   ],
   "source": [
    "class FrequencyDifference:\n",
    "    def get_scores(self, a, b):\n",
    "        return a/np.sum(a) - b/np.sum(b)\n",
    "    def get_name(self):\n",
    "        return 'Frequency Difference'\n",
    "\n",
    "html = st.produce_frequency_explorer(\n",
    "    corpus,\n",
    "    category='Jevgeni Ossinovski',\n",
    "    category_name='Jevgeni Ossinovski',\n",
    "    not_category_name='Aivar Sõerd',\n",
    "    term_scorer=FrequencyDifference(),\n",
    "    # metadata = rdf['movie_name'],\n",
    "    grey_threshold=0\n",
    ")\n",
    "open('output/temp.html', 'wb').write(html.encode('utf-8'))\n",
    "IFrame(src='output/temp.html', width = 1300, height=700)"
   ]
  },
  {
   "cell_type": "code",
   "execution_count": 51,
   "metadata": {
    "colab": {
     "base_uri": "https://localhost:8080/",
     "height": 639
    },
    "id": "SAD1InldO0ao",
    "outputId": "128df0a1-eee7-4a19-8a6e-8b065c8cb864",
    "pycharm": {
     "name": "#%%\n"
    }
   },
   "outputs": [
    {
     "data": {
      "text/html": [
       "\n",
       "        <iframe\n",
       "            width=\"1300\"\n",
       "            height=\"700\"\n",
       "            src=\"output/temp.html\"\n",
       "            frameborder=\"0\"\n",
       "            allowfullscreen\n",
       "            \n",
       "        ></iframe>\n",
       "        "
      ],
      "text/plain": [
       "<IPython.lib.display.IFrame at 0x1f0193bd0d0>"
      ]
     },
     "execution_count": 51,
     "metadata": {},
     "output_type": "execute_result"
    }
   ],
   "source": [
    "class NBSVM:\n",
    "    def get_scores(self, a, b):\n",
    "        return (np.log((a+0.01)/(np.sum(a) + len(a)*0.01))\n",
    "                - np.log((b+0.01)/(np.sum(b) + len(a)*0.01)))\n",
    "    def get_name(self):\n",
    "        return 'NBSVM Score'\n",
    "\n",
    "html = st.produce_frequency_explorer(\n",
    "    unigram_posnegcorpus,\n",
    "    category='Jevgeni Ossinovski',\n",
    "    category_name='Jevgeni Ossinovski',\n",
    "    not_category_name='Aivar Sõerd',\n",
    "    term_scorer=NBSVM(),\n",
    "    # metadata = unigram_posnegcorpus.get_df()['movie_name'],\n",
    "    grey_threshold=0\n",
    ")\n",
    "open('output/temp.html', 'wb').write(html.encode('utf-8'))\n",
    "IFrame(src='output/temp.html', width = 1300, height=700)"
   ]
  },
  {
   "cell_type": "code",
   "execution_count": 53,
   "metadata": {
    "id": "i_Yyr7CN8BFZ",
    "pycharm": {
     "name": "#%%\n"
    }
   },
   "outputs": [],
   "source": [
    "tdf = posnegcorpus.get_unigram_corpus().get_term_freq_df('')\n",
    "'''\n",
    "class FrequencyDifference:\n",
    "    def get_scores(self, a, b):\n",
    "        return a/np.sum(a) - b/np.sum(b)\n",
    "    def get_name(self):\n",
    "        return 'Frequency Difference'\n",
    "\n",
    "html = st.produce_fightin_words_explorer(\n",
    "    corpus,\n",
    "    category='Positive',\n",
    "    not_categories=['Negative'],\n",
    "    term_scorer=FrequencyDifference(),\n",
    "    metadata = rdf['movie_name'],\n",
    "    grey_threshold=0\n",
    ")\n",
    "HTML(html)\n",
    "'''\n",
    "a = tdf['Jevgeni Ossinovski']\n",
    "# b = tdf['Negative']\n"
   ]
  },
  {
   "cell_type": "code",
   "execution_count": 54,
   "metadata": {
    "pycharm": {
     "name": "#%%\n"
    }
   },
   "outputs": [],
   "source": [
    "# tdf"
   ]
  },
  {
   "cell_type": "markdown",
   "metadata": {
    "id": "GQmnQMku6XvP",
    "pycharm": {
     "name": "#%% md\n"
    }
   },
   "source": [
    "### Naive approach 2\n",
    "### tf.idf difference (not recommended)\n",
    "$$ \\mbox{Term Frquency}(\\mbox{term}, \\mbox{category}) = \\#(\\mbox{term}\\in\\mbox{category}) $$\n",
    "\n",
    "$$ \\mbox{Inverse Document Frquency}(\\mbox{term}) = \\log \\frac{\\mbox{# of categories}}{\\mbox{# of categories containing term}} $$\n",
    "\n",
    "$$ \\mbox{tfidf}(\\mbox{term}, \\mbox{category}) = \\mbox{Term Frquency}(\\mbox{term}, \\mbox{category}) \\times \\mbox{Inverse Document Frquency}(\\mbox{term}) $$\n",
    "\n",
    "$$ \\mbox{tfidf-difference}(\\mbox{term}, \\mbox{category}) = \\mbox{tf.idf}(\\mbox{term}, \\mbox{category}_a) - \\mbox{tf.idf}(\\mbox{term}, \\mbox{category}_b) $$\n",
    "\n",
    "Tf.idf ignores terms used in each category.  Since we only consider three categories (positive, negative and plot descriptions), a large number of terms have zero (log 1) scores.  The problem is Tf.idf doesn't weight how often a term is used in another category.  This causes eccentric, brittle, low-frequency terms to be favored.\n",
    "\n",
    "This formulation does take into account data from a background corpus.\n",
    "\n",
    "Note: this formula was shown to be more increase classification performane relative to using tf.idf weights or raw term counts. (Martineau and Finin 2009)\n",
    "\n",
    "Justin Martineau and Tim Finin. Delta TFIDF: An Improved Feature Space for Sentiment Analysis. ICWSM 2009."
   ]
  },
  {
   "cell_type": "code",
   "execution_count": 55,
   "metadata": {
    "id": "flXbAok56XvR",
    "pycharm": {
     "name": "#%%\n"
    }
   },
   "outputs": [],
   "source": [
    "\n",
    "import math\n",
    "\n",
    "import pandas as pd\n",
    "from scipy.stats import norm\n",
    "\n",
    "from scattertext.termscoring.CohensDCalculator import CohensDCalculator\n",
    "from scattertext.termscoring.CorpusBasedTermScorer import CorpusBasedTermScorer\n",
    "import numpy as np\n",
    "from scipy.sparse import csr_matrix\n",
    "\n",
    "\n",
    "\n",
    "class DeltaTFIDF(CorpusBasedTermScorer):\n",
    "    '''\n",
    "    Justin Martineau and Tim Finin. Delta TFIDF: An Improved Feature Space for Sentiment Analysis. ICWSM 2009.\n",
    "\n",
    "    '''\n",
    "\n",
    "    def get_score_df(self):\n",
    "        '''\n",
    "        :return: pd.DataFrame\n",
    "        '''\n",
    "\n",
    "        cat_mask = np.isin(\n",
    "            self.corpus_.get_category_names_by_row(),\n",
    "            [self.category_name] + self.neutral_category_names\n",
    "        )\n",
    "\n",
    "        ncat_mask = np.isin(\n",
    "            self.corpus_.get_category_names_by_row(),\n",
    "            [self.not_category_names]\n",
    "            + self.neutral_category_names\n",
    "        )\n",
    "\n",
    "        X = self.corpus_.get_term_doc_mat()\n",
    "        catX = X[cat_mask]\n",
    "        ncatX = X[ncat_mask]\n",
    "\n",
    "        catidf = np.log(sum(cat_mask)/((catX > 0).sum(axis=0).A1))/np.log(2)\n",
    "        ncatidf = np.log(sum(ncat_mask)/((ncatX > 0).sum(axis=0).A1))/np.log(2)\n",
    "\n",
    "        cat_tfidf = X[cat_mask].multiply(catidf).mean(axis=0).A1\n",
    "        ncat_tfidf = X[ncat_mask].multiply(ncatidf).mean(axis=0).A1\n",
    "\n",
    "        score_df = pd.DataFrame({\n",
    "            'idf': cat_tfidf,\n",
    "            'pos_tfidf': cat_tfidf,\n",
    "            'neg_tfidf': ncat_tfidf,\n",
    "            'delta_tf_idf': cat_tfidf - ncat_tfidf\n",
    "        }, index=self.corpus_.get_terms())\n",
    "        return score_df\n",
    "\n",
    "    def _set_scorer_args(self, **kwargs):\n",
    "        self.eta = kwargs.get('eta', 1.)\n",
    "        self.use_sublinear = kwargs.get('use_sublinear', True)\n",
    "        self.use_cred = kwargs.get('use_cred', True)\n",
    "        self.use_l2_norm = kwargs.get('use_l2_norm', True)\n",
    "\n",
    "    def get_scores(self, *args):\n",
    "        return self.get_score_df()['delta_tf_idf']\n",
    "\n",
    "    def get_name(self):\n",
    "        return \"Delta mean tf-idf\"\n",
    "\n"
   ]
  },
  {
   "cell_type": "code",
   "execution_count": 57,
   "metadata": {
    "colab": {
     "base_uri": "https://localhost:8080/",
     "height": 391
    },
    "id": "t-94ue8VqgQe",
    "outputId": "8d10b4c5-95be-4f4e-f3cc-c231dcc91561",
    "pycharm": {
     "name": "#%%\n"
    }
   },
   "outputs": [],
   "source": [
    "\n",
    "# html = st.produce_frequency_explorer(\n",
    "#     unigram_posnegcorpus,\n",
    "#     category='Jevgeni Ossinovski',\n",
    "#     category_name='Jevgeni Ossinovski',\n",
    "#     not_category_name='Aivar Sõerd',\n",
    "#     #neutral_categories=['Plot'],\n",
    "#     term_scorer=DeltaTFIDF(unigram_posnegcorpus),\n",
    "#     # metadata = unigram_posnegcorpus.get_df()['movie_name'],\n",
    "#     grey_threshold=0,\n",
    "#     #show_neutral=True\n",
    "# )\n",
    "# HTML(html)"
   ]
  },
  {
   "cell_type": "code",
   "execution_count": 58,
   "metadata": {
    "colab": {
     "base_uri": "https://localhost:8080/",
     "height": 391
    },
    "id": "AFVqo01nWX6T",
    "outputId": "0e6bf76f-8d56-4e03-d2bd-01a135b5d8b0",
    "pycharm": {
     "name": "#%%\n"
    }
   },
   "outputs": [],
   "source": [
    "\n",
    "# html = st.produce_frequency_explorer(\n",
    "#     unigram_posnegcorpus,\n",
    "#         category='Jevgeni Ossinovski',\n",
    "#     category_name='Jevgeni Ossinovski',\n",
    "#     not_category_name='Aivar Sõerd',\n",
    "#     #neutral_categories=['Plot'],\n",
    "#     term_scorer=DeltaTFIDF(unigram_posnegcorpus),\n",
    "#     # metadata = unigram_posnegcorpus.get_df()['movie_name'],\n",
    "#     grey_threshold=0,\n",
    "#     #show_neutral=True\n",
    "# )\n",
    "# HTML(html)"
   ]
  },
  {
   "cell_type": "markdown",
   "metadata": {
    "id": "QUiFlaNj3KxQ",
    "pycharm": {
     "name": "#%% md\n"
    }
   },
   "source": [
    "###Naive approach 2.5\n",
    "####BM25 Difference"
   ]
  },
  {
   "cell_type": "code",
   "execution_count": null,
   "metadata": {
    "id": "i-Qpt73cXxas",
    "pycharm": {
     "name": "#%%\n"
    }
   },
   "outputs": [],
   "source": []
  },
  {
   "cell_type": "code",
   "execution_count": 60,
   "metadata": {
    "colab": {
     "base_uri": "https://localhost:8080/",
     "height": 356
    },
    "id": "BVE776oc3Sp1",
    "outputId": "815e2dca-3f6f-4b91-c951-6c9e8c6ae8b0",
    "pycharm": {
     "name": "#%%\n"
    }
   },
   "outputs": [],
   "source": [
    "# html = st.produce_frequency_explorer(\n",
    "#     corpus,\n",
    "#         category='Jevgeni Ossinovski',\n",
    "#     category_name='Jevgeni Ossinovski',\n",
    "#     not_category_name='Aivar Sõerd',\n",
    "#     # neutral_categories=['Plot'],\n",
    "#     term_scorer=st.BM25Difference(corpus),\n",
    "#     # metadata = rdf['movie_name'],\n",
    "#     grey_threshold=0,\n",
    "#     show_neutral=True\n",
    "# )\n",
    "# HTML(html)"
   ]
  },
  {
   "cell_type": "markdown",
   "metadata": {
    "id": "ULrdZ0ZlrUQz",
    "pycharm": {
     "name": "#%% md\n"
    }
   },
   "source": [
    "### Recommended TF-IDF Approach\n",
    "#### Difference of mean credible tf-idf scores\n",
    "\n",
    "TF is sublinear scaled and shurnk toward zero if counts are low.  Based on actuarial science.\n",
    "\n",
    "Yoon Kim, Owen Zhang. Credibility Adjusted Term Frequency: A Supervised Term Weighting Scheme for Sentiment Analysis and Text Classification. WASSA-ACL 2014. http://www.people.fas.harvard.edu/~yoonkim/data/cred-tfidf.pdf\n"
   ]
  },
  {
   "cell_type": "code",
   "execution_count": 62,
   "metadata": {
    "colab": {
     "base_uri": "https://localhost:8080/",
     "height": 460
    },
    "id": "ZEY52J3KpeU8",
    "outputId": "3b568978-db2f-4613-e8d5-4621be97711d",
    "pycharm": {
     "name": "#%%\n"
    }
   },
   "outputs": [],
   "source": [
    "# # posnegcorpus = corpus.remove_categories(['Plot'])\n",
    "# html = st.produce_frequency_explorer(\n",
    "#     posnegcorpus,\n",
    "#         category='Jevgeni Ossinovski',\n",
    "#     category_name='Jevgeni Ossinovski',\n",
    "#     not_category_name='Aivar Sõerd',\n",
    "#     term_scorer = st.CredTFIDF(posnegcorpus),\n",
    "#     # metadata = posnegcorpus.get_df()['movie_name'],\n",
    "#     grey_threshold=0\n",
    "# )\n",
    "# HTML(html)"
   ]
  },
  {
   "cell_type": "code",
   "execution_count": null,
   "metadata": {
    "id": "N7TjmoUlrS-T",
    "pycharm": {
     "name": "#%%\n"
    }
   },
   "outputs": [],
   "source": []
  },
  {
   "cell_type": "markdown",
   "metadata": {
    "id": "W7Ksbydg6XvX",
    "pycharm": {
     "name": "#%% md\n"
    }
   },
   "source": [
    "### Naive approach 3\n",
    "### Log-odds-ratio w/ smoothing (not preferred)\n",
    "\n",
    "$$ \\newcommand\\ddfrac[2]{\\frac{\\displaystyle #1}{\\displaystyle #2}}$$\n",
    "$$ \\mbox{Odds}(\\mbox{term}_i, \\mbox{category}) = \\frac{\\#(\\mbox{term}_i\\in\\mbox{category}_a)}{\\sum_{\\mbox{term}` \\neq \\mbox{term}} \\#(\\mbox{term}'\\in\\mbox{category})} = \\frac{y_{ai}}{n_{a} - y_{ai}} $$\n",
    "Note: this can be a very small number.\n",
    "\n",
    "The odds ratio is the ratio of the odds of a term being used in one category vs. another.\n",
    "$$ \\mbox{Odds-Ratio}(\\mbox{term}_i, \\mbox{category}_a, \\mbox{category}_b) =  \\ddfrac{y_{ai}\\mathbin{/}(n_{a} - y_{ai})}{y_{bi}\\mathbin{/}(n_{b} - y_{bi})} $$\n",
    "\n",
    "The Log-Odds-Ratio is often used, given these quantities are often very small.  For our purposes, the fact that it's normally distributed is important.\n",
    "\n",
    "$$ \\mbox{Log-Odds-Ratio}(\\mbox{term}_i, \\mbox{category}_a, \\mbox{category}_b) = \\log \\frac{y_{ai}}{n_{a} - y_{ai}} - \\log \\frac{y_{bi}}{n_{b} - y_{bi}} $$\n",
    "\n",
    "If term does not appear in $\\mbox{category}_b$ (i.e., $ y_{bi} = 0 $), the odd of term_i in category_b will be 0 resulting the odds-ratio to be undefined.  We circumvent this issue by adding a pseudo-count to each term, assuming it occurs at least $\\alpha$ times.  \n",
    "\n",
    "$$ \\mbox{Smoothed Log-Odds-Ratio}(\\mbox{term}_i, \\mbox{category}_a, \\mbox{category}_b) = \\log \\frac{y_{ai} + \\alpha}{n_{a} + \\alpha \\cdot |y| - y_{ai} - \\alpha} - \\log \\frac{y_{bi} + \\alpha}{n_{b} + \\alpha \\cdot |y| - y_{bi} - \\alpha} $$\n",
    "\n",
    "This has a slightly better profile than tf.idf, but still favors very low-frequency terms that are unique to a category.\n",
    "\n",
    "We can see that terms used exclusively in one category or another clump form extremely high or low-scoring clumps.  These terms occur infrequently.  Intuitively, we'd like to score things highly if they have a lot of evidence behind them AND they tend to be used much more in one category vs. another.\n",
    "\n",
    "Note: a common error when implementing this is to not account for other pseudocounts in the denominator.\n"
   ]
  },
  {
   "cell_type": "code",
   "execution_count": 63,
   "metadata": {
    "colab": {
     "base_uri": "https://localhost:8080/",
     "height": 639
    },
    "id": "q9l9BHO96XvY",
    "outputId": "66d23d94-e193-486e-ad75-946cf15b7afd",
    "scrolled": false,
    "pycharm": {
     "name": "#%%\n"
    }
   },
   "outputs": [
    {
     "data": {
      "text/html": [
       "\n",
       "        <iframe\n",
       "            width=\"1300\"\n",
       "            height=\"700\"\n",
       "            src=\"output/temp.html\"\n",
       "            frameborder=\"0\"\n",
       "            allowfullscreen\n",
       "            \n",
       "        ></iframe>\n",
       "        "
      ],
      "text/plain": [
       "<IPython.lib.display.IFrame at 0x1f01d6c91c0>"
      ]
     },
     "execution_count": 63,
     "metadata": {},
     "output_type": "execute_result"
    }
   ],
   "source": [
    "class LogOddsRatioSmoothed:\n",
    "    def __init__(self, alpha):\n",
    "        self.alpha = alpha\n",
    "    def get_scores(self, a, b):\n",
    "        return (np.log((a + self.alpha)/(np.sum(a) + self.alpha * len(a) - a - self.alpha))\n",
    "                - np.log((b + self.alpha)/(np.sum(b) + self.alpha * len(b) - b - self.alpha)))\n",
    "    def get_name(self):\n",
    "        return 'Smoothed Log-Odds-Ratio'\n",
    "\n",
    "html = st.produce_fightin_words_explorer(\n",
    "    corpus,\n",
    "        category='Jevgeni Ossinovski',\n",
    "    category_name='Jevgeni Ossinovski',\n",
    "    not_category_name='Aivar Sõerd',\n",
    "    term_scorer=LogOddsRatioSmoothed(0.01),\n",
    "    # metadata = rdf['movie_name'],\n",
    "    grey_threshold=0,\n",
    ")\n",
    "open('output/temp.html', 'wb').write(html.encode('utf-8'))\n",
    "IFrame(src='output/temp.html', width = 1300, height=700)"
   ]
  },
  {
   "cell_type": "markdown",
   "metadata": {
    "id": "ppHcT4z46Xve",
    "pycharm": {
     "name": "#%% md\n"
    }
   },
   "source": [
    "### Accounting for variance\n",
    "How can we account for the certainty of the estimates?  Less frequent terms will have higher variances.\n",
    "\n",
    "The standard error of the log-odds-ratio is:\n",
    "\n",
    "$$ \\mbox{SE-Smoothed Log-Odds-Ratio}(\\mbox{term}_i, \\mbox{category}_a, \\mbox{category}_b) = \\frac{1}{y_{ai} + \\alpha} + \\frac{1}{n_{a} + \\alpha \\cdot |y| - y_{ai} - \\alpha} + \\frac{1}{y_{bi} + \\alpha}+ \\frac{1}{n_{b} + \\alpha \\cdot |y| - y_{bi} - \\alpha} $$\n",
    "\n",
    "The plot below shows how terms used infrequently and especially those which only appear in one class have a very high variance."
   ]
  },
  {
   "cell_type": "code",
   "execution_count": 64,
   "metadata": {
    "colab": {
     "base_uri": "https://localhost:8080/",
     "height": 639
    },
    "id": "PTxHb1Kg6Xvg",
    "outputId": "d71fb195-646f-491b-a9b1-def6b6a6d349",
    "pycharm": {
     "name": "#%%\n"
    }
   },
   "outputs": [
    {
     "data": {
      "text/html": [
       "\n",
       "        <iframe\n",
       "            width=\"1300\"\n",
       "            height=\"700\"\n",
       "            src=\"output/temp.html\"\n",
       "            frameborder=\"0\"\n",
       "            allowfullscreen\n",
       "            \n",
       "        ></iframe>\n",
       "        "
      ],
      "text/plain": [
       "<IPython.lib.display.IFrame at 0x1f0203f2df0>"
      ]
     },
     "execution_count": 64,
     "metadata": {},
     "output_type": "execute_result"
    }
   ],
   "source": [
    "class SELogOddsRatioSmoothed:\n",
    "    def __init__(self, alpha):\n",
    "        self.alpha = alpha\n",
    "    def get_scores(self, a, b):\n",
    "        a += self.alpha\n",
    "        b += self.alpha\n",
    "        return  1./a + 1./(np.sum(a) - a) + 1./b + 1./(np.sum(b) - b)\n",
    "    def get_name(self):\n",
    "        return 'SE Smoothed Log-Odds-Ratio'\n",
    "\n",
    "html = st.produce_fightin_words_explorer(\n",
    "    corpus,\n",
    "    category='Jevgeni Ossinovski',\n",
    "    category_name='Jevgeni Ossinovski',\n",
    "    not_category_name='Aivar Sõerd',\n",
    "    term_scorer=SELogOddsRatioSmoothed(0.01),\n",
    "    # metadata = rdf['movie_name'],\n",
    "    grey_threshold=0\n",
    ")\n",
    "open('output/temp.html', 'wb').write(html.encode('utf-8'))\n",
    "IFrame(src='output/temp.html', width = 1300, height=700)"
   ]
  },
  {
   "cell_type": "markdown",
   "metadata": {
    "id": "oeQ69kxL6Xvl",
    "pycharm": {
     "name": "#%% md\n"
    }
   },
   "source": [
    "### Smoothed Log-Odds-Ratio Z-Score\n",
    "### Preferred in certain cases\n",
    "\n",
    "Finding the Z-Scores of log-odds-ratios allows us to gracefully account for variance.\n",
    "\n",
    "$$ \\mbox{LOR Smoothed Z-Score}(\\mbox{term}_i, \\mbox{category}_a, \\mbox{category}_b) = \\frac{\\mbox{LOR Smoothed}}{\\sqrt{\\mbox{SE LOR Smoothed}}} $$\n",
    "\n",
    "The chart below, given a smoothing $\\alpha$ of 0.01, dampens the score of infrequent words and allows for frequently words to rank highly.  However, the words \"and\" and \"of\" appear to be over-weighted.\n",
    "\n",
    "Eccentric words like \"winning\" are down-weighted but still significant.\n",
    "\n",
    "MCQ refers to this at the Log-Odds-Ratio with an Uninformative Dirichlet Prior"
   ]
  },
  {
   "cell_type": "code",
   "execution_count": 65,
   "metadata": {
    "colab": {
     "base_uri": "https://localhost:8080/",
     "height": 639
    },
    "id": "HF9SJKj26Xvn",
    "outputId": "2d40b07d-a2e9-4c74-a319-981c3aa591c0",
    "pycharm": {
     "name": "#%%\n"
    }
   },
   "outputs": [
    {
     "data": {
      "text/html": [
       "\n",
       "        <iframe\n",
       "            width=\"1300\"\n",
       "            height=\"700\"\n",
       "            src=\"output/temp.html\"\n",
       "            frameborder=\"0\"\n",
       "            allowfullscreen\n",
       "            \n",
       "        ></iframe>\n",
       "        "
      ],
      "text/plain": [
       "<IPython.lib.display.IFrame at 0x1f017c8dd90>"
      ]
     },
     "execution_count": 65,
     "metadata": {},
     "output_type": "execute_result"
    }
   ],
   "source": [
    "class LogOddsRatioSmoothedZScorePrior:\n",
    "    def __init__(self, prior):\n",
    "        self.prior = prior\n",
    "    def get_scores(self, a, b):\n",
    "        a += self.prior\n",
    "        b += self.prior\n",
    "        lor = (np.log(a/(np.sum(a) - a)) - np.log(b/(np.sum(b) - b)))\n",
    "        lorstd = 1./a + 1./(np.sum(a) - a) + 1./b + 1./(np.sum(b) - b)\n",
    "        return lor/np.sqrt(lorstd)\n",
    "\n",
    "    def get_name(self):\n",
    "        return 'Smoothed Log-Odds-Ratio w/ Prior Z-Score'\n",
    "html = st.produce_fightin_words_explorer(\n",
    "    corpus,\n",
    "        category='Jevgeni Ossinovski',\n",
    "    category_name='Jevgeni Ossinovski',\n",
    "    not_category_name='Aivar Sõerd',\n",
    "    term_scorer=LogOddsRatioSmoothedZScorePrior(0.01),\n",
    "    # metadata = rdf['movie_name'],\n",
    "    grey_threshold = 1.96\n",
    ")\n",
    "open('output/temp.html', 'wb').write(html.encode('utf-8'))\n",
    "IFrame(src='output/temp.html', width = 1300, height=700)"
   ]
  },
  {
   "cell_type": "markdown",
   "metadata": {
    "id": "QqVjpDBb6Xvu",
    "pycharm": {
     "name": "#%% md\n"
    }
   },
   "source": [
    "### Log-Odds-Ratio with Informative Dirichlet Prior Z-Score\n",
    "### Prefered, currently very popular in NLP and CSS literature, flaws exist\n",
    "### Note: this formulation is modified slightly from Monroe et al. 2008.\n",
    "\n",
    "We know, intuitively, words which which are used very frequently require much more evidence to be significantly associated with a class than less frequent words.  For example, words like \"best\" and \"entertaining\" in the above example should be scored lower than \"and\" and \"of\".  \n",
    "\n",
    "The approach developed by Monroe et. al is to more aggressively smooth terms based on their frequency in a background corpus.\n",
    "\n",
    "The downside is of this approach is that obtaining a background corpus may be difficult. Lists of background term frequencies, especially for 2+grams, can be very large and unwieldy. Moreover, term frequency lists can become outdated very quickly, especially wrt to politics, pop culture, and technology.\n",
    "\n",
    "We construct two vectors of background term counts for each category, $\\alpha_a$ and $\\alpha_b$.  The priors are based on a background set of word frequencies, referred to as $y_{c}$  These are ideally in the same domain as the documents being studied, although could come from a general list of word frequencies.  The background counts are normalized to the size of their respective categories. The hyperparameter $\\sigma$ scales the background counts to a multiple of their category size. In other words, as $\\sigma$ increases, the regularization increases, and the odds ratio tends more toward zero.\n",
    "\n",
    "The $\\sigma$ I've found most useful is 10, which I include in Scattertext.\n",
    "\n",
    "$$ \\alpha_a = \\sigma \\cdot n_a \\cdot \\frac{y_{ci}}{n_c} $$\n",
    "\n",
    "$$ \\alpha_b = \\sigma \\cdot n_b \\cdot \\frac{y_{ci}}{n_c} $$\n",
    "\n",
    "\n",
    "The $\\alpha$s can then be used analogously to find the Z-Score of the LOR.\n",
    "\n",
    "$$ \\mbox{LOR}(\\mbox{term}_i, \\mbox{category}_a, \\mbox{category}_b) = \\log \\frac{y_{ai} + \\alpha_a}{n_{a} + \\alpha_a \\cdot |y| - y_{ai} - \\alpha_a} - \\log \\frac{y_{bi} + \\alpha_b}{n_{b} + \\alpha_b \\cdot |y| - y_{bi} - \\alpha_b} $$\n",
    "\n",
    "$$ \\mbox{LOR-SE}(\\mbox{term}_i, \\mbox{category}_a, \\mbox{category}_b) = \\frac{1}{y_{ai} + \\alpha_a} + \\frac{1}{n_{a} + \\alpha_a \\cdot |y| - y_{ai} - \\alpha_a} + \\frac{1}{y_{bi} + \\alpha_b}+ \\frac{1}{n_{b} + \\alpha_b \\cdot |y| - y_{bi} - \\alpha_b} $$\n",
    "\n",
    "Monroe et al. used a different approach to finding $\\alpha$, scaling the sum of the peusdocounts to the mean number of words in a document.\n",
    "\n",
    "$$ \\alpha_a = \\alpha_b = \\overline{|d_{y}|} \\frac{y_{ci}}{\\sum n_{c}} $$\n",
    "\n",
    "Jurafsky et al. suggested using raw background corpus counts as $\\alpha$.\n",
    "\n",
    "$$ \\alpha_a = \\alpha_b = y_c $$\n",
    "\n",
    "In the following example, we use the plot description as a background corpus using the first method.\n",
    "\n",
    "* Dan Jurafsky, Victor Chahuneau, Bryan Routledge, and Noah Smith. Narrative framing of consumer sentiment in online restaurant reviews. First Monday. 2014."
   ]
  },
  {
   "cell_type": "code",
   "execution_count": 66,
   "metadata": {
    "colab": {
     "base_uri": "https://localhost:8080/",
     "height": 639
    },
    "id": "Mg4Q9Quv6Xvx",
    "outputId": "c5b9ec0e-6e0b-449f-a542-29fcf2dc9c8c",
    "pycharm": {
     "name": "#%%\n"
    }
   },
   "outputs": [
    {
     "data": {
      "text/html": [
       "\n",
       "        <iframe\n",
       "            width=\"1300\"\n",
       "            height=\"700\"\n",
       "            src=\"output/temp.html\"\n",
       "            frameborder=\"0\"\n",
       "            allowfullscreen\n",
       "            \n",
       "        ></iframe>\n",
       "        "
      ],
      "text/plain": [
       "<IPython.lib.display.IFrame at 0x1f01daabe20>"
      ]
     },
     "execution_count": 66,
     "metadata": {},
     "output_type": "execute_result"
    }
   ],
   "source": [
    "priors = (st.PriorFactory(unigram_corpus,\n",
    "                          # category='Positive',\n",
    "                          # not_categories=['Negative'],\n",
    "                          category='Jevgeni Ossinovski',\n",
    "                          # category_name='Jevgeni Ossinovski',\n",
    "                          not_categories=['Aivar Sõerd'],\n",
    "                          starting_count=0.01)\n",
    "          .use_neutral_categories()\n",
    "          .get_priors())\n",
    "class LogOddsRatioSmoothedZScorePrior:\n",
    "    def __init__(self, prior, prior_scale):\n",
    "        self.prior = prior\n",
    "        self.prior_scale = prior_scale\n",
    "    def get_scores(self, a, b):\n",
    "        ap = a + self.prior * self.prior_scale*sum(a)/sum(self.prior.values)\n",
    "        bp = b + self.prior * self.prior_scale*sum(b)/sum(self.prior.values)\n",
    "        lor = (np.log(ap/(np.sum(ap) - ap)) - np.log(bp/(np.sum(bp) - bp)))\n",
    "        lorstd = 1./ap + 1./(np.sum(ap) - ap) + 1./bp + 1./(np.sum(bp) - bp)\n",
    "        return lor/np.sqrt(lorstd)\n",
    "\n",
    "    def get_name(self):\n",
    "        return 'Log-Odds-Ratio w/ Informative Dirichlet Prior Z-Score'\n",
    "html = st.produce_fightin_words_explorer(\n",
    "    unigram_corpus,\n",
    "    category='Jevgeni Ossinovski',\n",
    "    category_name='Jevgeni Ossinovski',\n",
    "    not_category_name='Aivar Sõerd',\n",
    "    #term_scorer=LogOddsRatioSmoothedZScorePrior(priors, 10, ),\n",
    "    # Equivalent:\n",
    "    term_scorer=st.LogOddsRatioInformativeDirichletPrior(priors, 10, 'class-size'),\n",
    "    # metadata = rdf['movie_name']\n",
    ")\n",
    "open('output/temp.html', 'wb').write(html.encode('utf-8'))\n",
    "IFrame(src='output/temp.html', width = 1300, height=700)"
   ]
  },
  {
   "cell_type": "markdown",
   "metadata": {
    "id": "PFJavK066Xv5",
    "pycharm": {
     "name": "#%% md\n"
    }
   },
   "source": [
    "### Effect of $\\sigma$\n",
    "In the plot below, we can see how a changing $\\sigma$ alters the z-scores of low and high-frequency terms which are associated the Positive category.\n",
    "\n",
    "A high $\\sigma$ causes the infrequent word \"winning\", which only occurs in Positive documents, to dominate more frequent, associated terms.  A very low $\\sigma$ causes rankings to revert to Smoothed LOR Z-Score."
   ]
  },
  {
   "cell_type": "code",
   "execution_count": 67,
   "metadata": {
    "colab": {
     "base_uri": "https://localhost:8080/",
     "height": 741
    },
    "id": "y7J7hmlv6Xv6",
    "outputId": "525036c5-e14b-4082-dd5c-f3b475b86161",
    "pycharm": {
     "name": "#%%\n"
    }
   },
   "outputs": [
    {
     "data": {
      "text/plain": [
       "Text(0, 0.5, 'Z-Score')"
      ]
     },
     "execution_count": 67,
     "metadata": {},
     "output_type": "execute_result"
    },
    {
     "data": {
      "image/png": "[encoded data removed]",
      "text/plain": [
       "<Figure size 1500x800 with 1 Axes>"
      ]
     },
     "metadata": {},
     "output_type": "display_data"
    }
   ],
   "source": [
    "term_freqs = unigram_corpus.get_term_freq_df()\n",
    "data = []\n",
    "for sigma in np.linspace(0.01, 30, 40):\n",
    "    scores = LogOddsRatioSmoothedZScorePrior(priors, sigma).get_scores(term_freqs['Jevgeni Ossinovski freq'], term_freqs['Aivar Sõerd freq'])\n",
    "    for term in ['venemaa', 'eelarve', 'seaduse', 'ida', 'eurot']:\n",
    "        data.append({'term': term, 'score': scores[term], 'sigma': sigma})\n",
    "ax = (pd.DataFrame(data)\n",
    " .pivot(index='sigma', columns='term', values='score')\n",
    " .plot(figsize=(15, 8), fontsize=20))\n",
    "ax.legend(prop={'size': 20})\n",
    "ax.set_xlabel('$\\sigma_{class\\ size}$', size= 20)\n",
    "ax.axvline(10, color='k', linestyle='--')\n",
    "ax.axhline(1.96, color='k', linestyle='--')\n",
    "ax.set_ylabel('Z-Score', size= 20)"
   ]
  },
  {
   "cell_type": "markdown",
   "metadata": {
    "id": "l6RDZivc6XwB",
    "pycharm": {
     "name": "#%% md\n"
    }
   },
   "source": [
    "The method suggested in Monroe et al., on the other hand, is more restrictive when it comes to stop words, strongly minimizing the word \"and\", in particular.  The words \"fun\" and \"entertaining\" end up being below the signficance threshold."
   ]
  },
  {
   "cell_type": "code",
   "execution_count": 68,
   "metadata": {
    "colab": {
     "base_uri": "https://localhost:8080/",
     "height": 639
    },
    "id": "vQAEZIUm6XwC",
    "outputId": "5555016d-82a8-4f53-e9c0-ef1343e5af8b",
    "pycharm": {
     "name": "#%%\n"
    }
   },
   "outputs": [
    {
     "data": {
      "text/html": [
       "\n",
       "        <iframe\n",
       "            width=\"1300\"\n",
       "            height=\"700\"\n",
       "            src=\"output/temp.html\"\n",
       "            frameborder=\"0\"\n",
       "            allowfullscreen\n",
       "            \n",
       "        ></iframe>\n",
       "        "
      ],
      "text/plain": [
       "<IPython.lib.display.IFrame at 0x1f01499f670>"
      ]
     },
     "execution_count": 68,
     "metadata": {},
     "output_type": "execute_result"
    }
   ],
   "source": [
    "mean_doc_length = df.text.apply(lambda x: len(st.whitespace_nlp(x).sents[0])).mean()\n",
    "html = st.produce_fightin_words_explorer(\n",
    "    unigram_corpus,\n",
    "    category='Jevgeni Ossinovski',\n",
    "    category_name='Jevgeni Ossinovski',\n",
    "    not_category_name='Aivar Sõerd',\n",
    "    term_scorer=st.LogOddsRatioInformativeDirichletPrior(priors, mean_doc_length, 'word'),\n",
    "    # metadata = rdf['movie_name']\n",
    ")\n",
    "open('output/temp.html', 'wb').write(html.encode('utf-8'))\n",
    "IFrame(src='output/temp.html', width = 1300, height=700)"
   ]
  },
  {
   "cell_type": "markdown",
   "metadata": {
    "id": "nfZsnE9I_C01",
    "pycharm": {
     "name": "#%% md\n"
    }
   },
   "source": [
    "Scaling the size of the prior equal to the size of the corpus of Positive and Negative documents can better suppress common terms."
   ]
  },
  {
   "cell_type": "code",
   "execution_count": 69,
   "metadata": {
    "colab": {
     "base_uri": "https://localhost:8080/",
     "height": 639
    },
    "id": "MA7UHVb16XwH",
    "outputId": "5406a071-bf88-46cc-deef-ecd28eb925b3",
    "pycharm": {
     "name": "#%%\n"
    }
   },
   "outputs": [
    {
     "data": {
      "text/html": [
       "\n",
       "        <iframe\n",
       "            width=\"1300\"\n",
       "            height=\"700\"\n",
       "            src=\"output/temp.html\"\n",
       "            frameborder=\"0\"\n",
       "            allowfullscreen\n",
       "            \n",
       "        ></iframe>\n",
       "        "
      ],
      "text/plain": [
       "<IPython.lib.display.IFrame at 0x1f01daacd90>"
      ]
     },
     "execution_count": 69,
     "metadata": {},
     "output_type": "execute_result"
    }
   ],
   "source": [
    "html = st.produce_fightin_words_explorer(\n",
    "    unigram_corpus,\n",
    "    category='Jevgeni Ossinovski',\n",
    "    category_name='Jevgeni Ossinovski',\n",
    "    not_category_name='Aivar Sõerd',\n",
    "    term_scorer=st.LogOddsRatioInformativeDirichletPrior(priors, 1, 'corpus-size'),\n",
    "    # metadata = rdf['movie_name']\n",
    ")\n",
    "open('output/temp.html', 'wb').write(html.encode('utf-8'))\n",
    "IFrame(src='output/temp.html', width = 1300, height=700)"
   ]
  },
  {
   "cell_type": "markdown",
   "metadata": {
    "id": "BU2kZQzd6XwS",
    "pycharm": {
     "name": "#%% md\n"
    }
   },
   "source": [
    "### Dense rank differences\n",
    "### Prefered, but may under-score extremely frequent and infrequent terms\n",
    "\n",
    "Let $\\rho_\\mbox{category}$ be the dense rank function for a given category, with the most frequently occuring term(s) having a rank of 0.\n",
    "\n",
    "Let $d_\\mbox{category}$ be the number of distinct term frequencies in a category.  The most infrequenty terms receive this rank.\n",
    "\n",
    "This metric takes the difference of the normalized category-specific dense ranks of term frequencies.\n",
    "\n",
    "Define the rank-difference score as the difference in\n",
    "$$\\mbox{Rank-Difference} = \\frac{\\rho_{a}(y_a)}{d_a} - \\frac{\\rho_{b}(y_b)}{d_b}$$\n",
    "\n",
    "We can see that the words which occur fairly frequently are favored.  Frequent and very infrequent words are heavily regularized.\n",
    "\n",
    "No background frequencies are required!"
   ]
  },
  {
   "cell_type": "code",
   "execution_count": 70,
   "metadata": {
    "colab": {
     "base_uri": "https://localhost:8080/",
     "height": 639
    },
    "id": "4-Kwl25h6XwT",
    "outputId": "88ed39ae-fa54-409e-93de-aa1a43522b8e",
    "pycharm": {
     "name": "#%%\n"
    }
   },
   "outputs": [
    {
     "data": {
      "text/html": [
       "\n",
       "        <iframe\n",
       "            width=\"1300\"\n",
       "            height=\"700\"\n",
       "            src=\"output/temp.html\"\n",
       "            frameborder=\"0\"\n",
       "            allowfullscreen\n",
       "            \n",
       "        ></iframe>\n",
       "        "
      ],
      "text/plain": [
       "<IPython.lib.display.IFrame at 0x1f01a0f7310>"
      ]
     },
     "execution_count": 70,
     "metadata": {},
     "output_type": "execute_result"
    }
   ],
   "source": [
    "class RankDifference:\n",
    "    def __init__(self, method='dense'):\n",
    "        self.method = method\n",
    "    def get_scores(self, a, b):\n",
    "        return rankdata(a, self.method)/np.max(rankdata(a,self.method)) - rankdata(b,self.method)/np.max(rankdata(b,self.method))\n",
    "    def get_name(self):\n",
    "        return self.method.title() + ' Rank Difference'\n",
    "\n",
    "html = st.produce_frequency_explorer(\n",
    "    corpus,\n",
    "    category='Jevgeni Ossinovski',\n",
    "    category_name='Jevgeni Ossinovski',\n",
    "    not_category_name='Aivar Sõerd',\n",
    "    term_scorer=RankDifference('dense'),\n",
    "    # metadata = rdf['movie_name'],\n",
    "    grey_threshold=0\n",
    ")\n",
    "open('output/temp.html', 'wb').write(html.encode('utf-8'))\n",
    "IFrame(src='output/temp.html', width = 1300, height=700)"
   ]
  },
  {
   "cell_type": "code",
   "execution_count": 71,
   "metadata": {
    "colab": {
     "base_uri": "https://localhost:8080/",
     "height": 639
    },
    "id": "XqjoN8U2zWTv",
    "outputId": "6430d3d7-f56e-4556-b7cb-ca58f84f991d",
    "pycharm": {
     "name": "#%%\n"
    }
   },
   "outputs": [
    {
     "data": {
      "text/html": [
       "\n",
       "        <iframe\n",
       "            width=\"1300\"\n",
       "            height=\"700\"\n",
       "            src=\"output/temp.html\"\n",
       "            frameborder=\"0\"\n",
       "            allowfullscreen\n",
       "            \n",
       "        ></iframe>\n",
       "        "
      ],
      "text/plain": [
       "<IPython.lib.display.IFrame at 0x1f016aa4460>"
      ]
     },
     "execution_count": 71,
     "metadata": {},
     "output_type": "execute_result"
    }
   ],
   "source": [
    "html = st.produce_frequency_explorer(\n",
    "    corpus,\n",
    "    category='Jevgeni Ossinovski',\n",
    "    category_name='Jevgeni Ossinovski',\n",
    "    not_category_name='Aivar Sõerd',\n",
    "    term_scorer=RankDifference('average'),\n",
    "    # metadata = rdf['movie_name'],\n",
    "    grey_threshold=0\n",
    ")\n",
    "open('output/temp.html', 'wb').write(html.encode('utf-8'))\n",
    "IFrame(src='output/temp.html', width = 1300, height=700)"
   ]
  },
  {
   "cell_type": "code",
   "execution_count": 107,
   "metadata": {
    "colab": {
     "base_uri": "https://localhost:8080/",
     "height": 639
    },
    "id": "JEHL8jLTzsrT",
    "outputId": "10e9b8cd-2057-4da8-b929-8202043bec77",
    "pycharm": {
     "name": "#%%\n"
    }
   },
   "outputs": [
    {
     "data": {
      "text/html": [
       "\n",
       "        <iframe\n",
       "            width=\"1300\"\n",
       "            height=\"700\"\n",
       "            src=\"output/temp.html\"\n",
       "            frameborder=\"0\"\n",
       "            allowfullscreen\n",
       "            \n",
       "        ></iframe>\n",
       "        "
      ],
      "text/plain": [
       "<IPython.lib.display.IFrame at 0x1f02738fdc0>"
      ]
     },
     "execution_count": 107,
     "metadata": {},
     "output_type": "execute_result"
    }
   ],
   "source": [
    "html = st.produce_frequency_explorer(\n",
    "    corpus,\n",
    "    category='Jevgeni Ossinovski',\n",
    "    category_name='Jevgeni Ossinovski',\n",
    "    not_category_name='Aivar Sõerd',\n",
    "    term_scorer=RankDifference('ordinal'),\n",
    "    # metadata = rdf['movie_name'],*\n",
    "    grey_threshold=0\n",
    ")\n",
    "open('output/temp.html', 'wb').write(html.encode('utf-8'))\n",
    "IFrame(src='output/temp.html', width = 1300, height=700)"
   ]
  },
  {
   "cell_type": "markdown",
   "metadata": {
    "id": "W21PvEnf6XwZ",
    "pycharm": {
     "name": "#%% md\n"
    }
   },
   "source": [
    "## Scaled F-Score\n",
    "### Associatied terms have a *relatively* high category-specific precision and category-specific term frequency (i.e., % of terms in category are term)\n",
    "### Take the harmonic mean of precision and frequency (both have to be high)\n",
    "\n",
    "Given a word $w_i \\in W$ and a category $c_j \\in C$, define the precision of the word $w_i$ wrt to a category as:\n",
    "$$ \\mbox{prec}(w_i, c_j) = \\frac{\\#(w_i, c_j)}{\\sum_{c \\in C} \\#(w_i, c)}. $$\n",
    "\n",
    "The function $\\#(w_i, c_j)$ represents either the number of times $w_i$ occurs in a document labeled with the category $c_j$ or the number of documents labeled $c_j$ which contain $w_i$.\n",
    "\n",
    "Similarly, define the frequency a word occurs in the category as:\n",
    "\n",
    "$$ \\mbox{freq}(w_i, c_j) = \\frac{\\#(w_i, c_j)}{\\sum_{w \\in W} \\#(w, c_j)}. $$\n",
    "\n",
    "The F-Score of these two values is defined as:\n",
    "\n",
    "$$ \\mathcal{F}_\\beta(\\mbox{prec}, \\mbox{freq}) = (1 + \\beta^2) \\frac{\\mbox{prec} \\cdot \\mbox{freq}}{\\beta^2 \\cdot \\mbox{prec} + \\mbox{freq}}. $$\n",
    "\n",
    "$\\beta \\in \\mathcal{R}^+$ is a scaling factor where frequency is favored if $\\beta < 1$, precision if $\\beta > 1$, and both are equally weighted if $\\beta = 1$. F-Score is equivalent to the harmonic mean where $\\beta = 1$."
   ]
  },
  {
   "cell_type": "code",
   "execution_count": 73,
   "metadata": {
    "colab": {
     "base_uri": "https://localhost:8080/",
     "height": 394
    },
    "id": "7dlEDqtm6Xwb",
    "outputId": "38dfd152-9753-4056-892b-83b28167589e",
    "pycharm": {
     "name": "#%%\n"
    }
   },
   "outputs": [
    {
     "data": {
      "text/html": [
       "<div>\n",
       "<style scoped>\n",
       "    .dataframe tbody tr th:only-of-type {\n",
       "        vertical-align: middle;\n",
       "    }\n",
       "\n",
       "    .dataframe tbody tr th {\n",
       "        vertical-align: top;\n",
       "    }\n",
       "\n",
       "    .dataframe thead th {\n",
       "        text-align: right;\n",
       "    }\n",
       "</style>\n",
       "<table border=\"1\" class=\"dataframe\">\n",
       "  <thead>\n",
       "    <tr style=\"text-align: right;\">\n",
       "      <th></th>\n",
       "      <th>Jevgeni Ossinovski freq</th>\n",
       "      <th>Aivar Sõerd freq</th>\n",
       "      <th>jev_precision</th>\n",
       "      <th>jev_freq_pct</th>\n",
       "      <th>jev_hmean</th>\n",
       "    </tr>\n",
       "    <tr>\n",
       "      <th>term</th>\n",
       "      <th></th>\n",
       "      <th></th>\n",
       "      <th></th>\n",
       "      <th></th>\n",
       "      <th></th>\n",
       "    </tr>\n",
       "  </thead>\n",
       "  <tbody>\n",
       "    <tr>\n",
       "      <th>ei ole</th>\n",
       "      <td>1507</td>\n",
       "      <td>899</td>\n",
       "      <td>0.626351</td>\n",
       "      <td>0.010961</td>\n",
       "      <td>0.021544</td>\n",
       "    </tr>\n",
       "    <tr>\n",
       "      <th>väga</th>\n",
       "      <td>1015</td>\n",
       "      <td>601</td>\n",
       "      <td>0.628094</td>\n",
       "      <td>0.007382</td>\n",
       "      <td>0.014593</td>\n",
       "    </tr>\n",
       "    <tr>\n",
       "      <th>või</th>\n",
       "      <td>898</td>\n",
       "      <td>853</td>\n",
       "      <td>0.512850</td>\n",
       "      <td>0.006531</td>\n",
       "      <td>0.012898</td>\n",
       "    </tr>\n",
       "    <tr>\n",
       "      <th>see on</th>\n",
       "      <td>804</td>\n",
       "      <td>579</td>\n",
       "      <td>0.581345</td>\n",
       "      <td>0.005848</td>\n",
       "      <td>0.011579</td>\n",
       "    </tr>\n",
       "    <tr>\n",
       "      <th>aitäh</th>\n",
       "      <td>727</td>\n",
       "      <td>712</td>\n",
       "      <td>0.505212</td>\n",
       "      <td>0.005288</td>\n",
       "      <td>0.010466</td>\n",
       "    </tr>\n",
       "    <tr>\n",
       "      <th>eelnõu</th>\n",
       "      <td>728</td>\n",
       "      <td>1239</td>\n",
       "      <td>0.370107</td>\n",
       "      <td>0.005295</td>\n",
       "      <td>0.010440</td>\n",
       "    </tr>\n",
       "    <tr>\n",
       "      <th>küsimus</th>\n",
       "      <td>584</td>\n",
       "      <td>424</td>\n",
       "      <td>0.579365</td>\n",
       "      <td>0.004248</td>\n",
       "      <td>0.008433</td>\n",
       "    </tr>\n",
       "    <tr>\n",
       "      <th>võimalik</th>\n",
       "      <td>502</td>\n",
       "      <td>242</td>\n",
       "      <td>0.674731</td>\n",
       "      <td>0.003651</td>\n",
       "      <td>0.007263</td>\n",
       "    </tr>\n",
       "    <tr>\n",
       "      <th>ära</th>\n",
       "      <td>464</td>\n",
       "      <td>324</td>\n",
       "      <td>0.588832</td>\n",
       "      <td>0.003375</td>\n",
       "      <td>0.006711</td>\n",
       "    </tr>\n",
       "    <tr>\n",
       "      <th>nüüd</th>\n",
       "      <td>459</td>\n",
       "      <td>275</td>\n",
       "      <td>0.625341</td>\n",
       "      <td>0.003338</td>\n",
       "      <td>0.006641</td>\n",
       "    </tr>\n",
       "  </tbody>\n",
       "</table>\n",
       "</div>"
      ],
      "text/plain": [
       "          Jevgeni Ossinovski freq  Aivar Sõerd freq  jev_precision  \\\n",
       "term                                                                 \n",
       "ei ole                       1507               899       0.626351   \n",
       "väga                         1015               601       0.628094   \n",
       "või                           898               853       0.512850   \n",
       "see on                        804               579       0.581345   \n",
       "aitäh                         727               712       0.505212   \n",
       "eelnõu                        728              1239       0.370107   \n",
       "küsimus                       584               424       0.579365   \n",
       "võimalik                      502               242       0.674731   \n",
       "ära                           464               324       0.588832   \n",
       "nüüd                          459               275       0.625341   \n",
       "\n",
       "          jev_freq_pct  jev_hmean  \n",
       "term                               \n",
       "ei ole        0.010961   0.021544  \n",
       "väga          0.007382   0.014593  \n",
       "või           0.006531   0.012898  \n",
       "see on        0.005848   0.011579  \n",
       "aitäh         0.005288   0.010466  \n",
       "eelnõu        0.005295   0.010440  \n",
       "küsimus       0.004248   0.008433  \n",
       "võimalik      0.003651   0.007263  \n",
       "ära           0.003375   0.006711  \n",
       "nüüd          0.003338   0.006641  "
      ]
     },
     "execution_count": 73,
     "metadata": {},
     "output_type": "execute_result"
    }
   ],
   "source": [
    "from scipy.stats import hmean\n",
    "\n",
    "term_freq_df = corpus.get_term_freq_df()[['Jevgeni Ossinovski freq', 'Aivar Sõerd freq']]\n",
    "term_freq_df = term_freq_df[term_freq_df.sum(axis=1) > 0]\n",
    "\n",
    "term_freq_df['jev_precision'] = (term_freq_df['Jevgeni Ossinovski freq'] * 1./\n",
    "                                 (term_freq_df['Jevgeni Ossinovski freq'] + term_freq_df['Aivar Sõerd freq']))\n",
    "\n",
    "term_freq_df['jev_freq_pct'] = (term_freq_df['Jevgeni Ossinovski freq'] * 1.\n",
    "                                /term_freq_df['Jevgeni Ossinovski freq'].sum())\n",
    "\n",
    "term_freq_df['jev_hmean'] = (term_freq_df\n",
    "                             .apply(lambda x: (hmean([x['jev_precision'], x['jev_freq_pct']])\n",
    "                                               if x['jev_precision'] > 0 and x['jev_freq_pct'] > 0\n",
    "                                               else 0), axis=1))\n",
    "term_freq_df.sort_values(by='jev_hmean', ascending=False).iloc[:10]"
   ]
  },
  {
   "cell_type": "markdown",
   "metadata": {
    "id": "8pyrKpOu6Xwf",
    "pycharm": {
     "name": "#%% md\n"
    }
   },
   "source": [
    "## Problem: harmonic means are dominated by the precision\n",
    "### Take the normal CDF of precision and frequency percentage scores, which will fall between 0 and 1, which scales and standardizes both scores.\n",
    "\n",
    "Define the the Normal CDF as:\n",
    "\n",
    "$$ \\Phi(z) = \\int_{-\\infty}^z \\mathcal{N}(x; \\mu, \\sigma^2)\\ \\mathrm{d}x.$$\n",
    "\n",
    "Where $ \\mathcal{N} $ is the PDF of the Normal distribution, $\\mu$ is the mean, and $\\sigma^2$ is the variance.\n",
    "\n",
    "$\\Phi$ is used to scale and standardize the precisions and frequencies, and place them on the same scale $[0,1]$.\n",
    "\n",
    "Now we can define Scaled F-Score as the harmonic mean of the Normal CDF transformed frequency and precision:\n",
    "\n",
    "$$ \\mbox{S-CAT}_{\\beta}(w_i, c_j) = \\mathcal{F}_{\\beta}(\\Phi(\\mbox{prec}(w_i, c_j)), \\Phi(\\mbox{freq}(w_i, c_j))).$$\n",
    "\n",
    "$\\mu$ and $\\sigma^2$ are defined separately as the mean and variance of precision and frequency.\n",
    "\n",
    "A $\\beta$ of 2 is recommended and is the default value in Scattertext.\n",
    "\n",
    "Note that any function with the range of $[0,1]$ (this includes the identity function) may be used in place of $\\Phi$.  Also, when the precision is very small (e.g., of a tiny minority class) normalization may be foregone."
   ]
  },
  {
   "cell_type": "code",
   "execution_count": 74,
   "metadata": {
    "colab": {
     "base_uri": "https://localhost:8080/",
     "height": 394
    },
    "id": "gxgLCXSZ6Xwg",
    "outputId": "6cb0ccbd-c49b-47c6-d420-5b0259be4076",
    "scrolled": true,
    "pycharm": {
     "name": "#%%\n"
    }
   },
   "outputs": [
    {
     "data": {
      "text/html": [
       "<div>\n",
       "<style scoped>\n",
       "    .dataframe tbody tr th:only-of-type {\n",
       "        vertical-align: middle;\n",
       "    }\n",
       "\n",
       "    .dataframe tbody tr th {\n",
       "        vertical-align: top;\n",
       "    }\n",
       "\n",
       "    .dataframe thead th {\n",
       "        text-align: right;\n",
       "    }\n",
       "</style>\n",
       "<table border=\"1\" class=\"dataframe\">\n",
       "  <thead>\n",
       "    <tr style=\"text-align: right;\">\n",
       "      <th></th>\n",
       "      <th>Jevgeni Ossinovski freq</th>\n",
       "      <th>Aivar Sõerd freq</th>\n",
       "      <th>jev_precision</th>\n",
       "      <th>jev_freq_pct</th>\n",
       "      <th>jev_hmean</th>\n",
       "      <th>jev_precision_normcdf</th>\n",
       "      <th>jev_freq_pct_normcdf</th>\n",
       "      <th>jev_scaled_f_score</th>\n",
       "    </tr>\n",
       "    <tr>\n",
       "      <th>term</th>\n",
       "      <th></th>\n",
       "      <th></th>\n",
       "      <th></th>\n",
       "      <th></th>\n",
       "      <th></th>\n",
       "      <th></th>\n",
       "      <th></th>\n",
       "      <th></th>\n",
       "    </tr>\n",
       "  </thead>\n",
       "  <tbody>\n",
       "    <tr>\n",
       "      <th>föderatsiooni</th>\n",
       "      <td>165</td>\n",
       "      <td>0</td>\n",
       "      <td>1.000000</td>\n",
       "      <td>0.001200</td>\n",
       "      <td>0.002397</td>\n",
       "      <td>0.938592</td>\n",
       "      <td>1.000000</td>\n",
       "      <td>0.968323</td>\n",
       "    </tr>\n",
       "    <tr>\n",
       "      <th>venemaa föderatsiooni</th>\n",
       "      <td>163</td>\n",
       "      <td>0</td>\n",
       "      <td>1.000000</td>\n",
       "      <td>0.001186</td>\n",
       "      <td>0.002368</td>\n",
       "      <td>0.938592</td>\n",
       "      <td>1.000000</td>\n",
       "      <td>0.968323</td>\n",
       "    </tr>\n",
       "    <tr>\n",
       "      <th>millisel viisil</th>\n",
       "      <td>131</td>\n",
       "      <td>0</td>\n",
       "      <td>1.000000</td>\n",
       "      <td>0.000953</td>\n",
       "      <td>0.001904</td>\n",
       "      <td>0.938592</td>\n",
       "      <td>0.999999</td>\n",
       "      <td>0.968323</td>\n",
       "    </tr>\n",
       "    <tr>\n",
       "      <th>kodakondsusest</th>\n",
       "      <td>95</td>\n",
       "      <td>0</td>\n",
       "      <td>1.000000</td>\n",
       "      <td>0.000691</td>\n",
       "      <td>0.001381</td>\n",
       "      <td>0.938592</td>\n",
       "      <td>0.999707</td>\n",
       "      <td>0.968186</td>\n",
       "    </tr>\n",
       "    <tr>\n",
       "      <th>kahtlematult</th>\n",
       "      <td>93</td>\n",
       "      <td>0</td>\n",
       "      <td>1.000000</td>\n",
       "      <td>0.000676</td>\n",
       "      <td>0.001352</td>\n",
       "      <td>0.938592</td>\n",
       "      <td>0.999609</td>\n",
       "      <td>0.968140</td>\n",
       "    </tr>\n",
       "    <tr>\n",
       "      <th>vähemasti</th>\n",
       "      <td>74</td>\n",
       "      <td>0</td>\n",
       "      <td>1.000000</td>\n",
       "      <td>0.000538</td>\n",
       "      <td>0.001076</td>\n",
       "      <td>0.938592</td>\n",
       "      <td>0.995544</td>\n",
       "      <td>0.966229</td>\n",
       "    </tr>\n",
       "    <tr>\n",
       "      <th>kodanikuks</th>\n",
       "      <td>74</td>\n",
       "      <td>0</td>\n",
       "      <td>1.000000</td>\n",
       "      <td>0.000538</td>\n",
       "      <td>0.001076</td>\n",
       "      <td>0.938592</td>\n",
       "      <td>0.995544</td>\n",
       "      <td>0.966229</td>\n",
       "    </tr>\n",
       "    <tr>\n",
       "      <th>lugupeetud kolleegid</th>\n",
       "      <td>73</td>\n",
       "      <td>0</td>\n",
       "      <td>1.000000</td>\n",
       "      <td>0.000531</td>\n",
       "      <td>0.001061</td>\n",
       "      <td>0.938592</td>\n",
       "      <td>0.995006</td>\n",
       "      <td>0.965976</td>\n",
       "    </tr>\n",
       "    <tr>\n",
       "      <th>laps</th>\n",
       "      <td>89</td>\n",
       "      <td>1</td>\n",
       "      <td>0.988889</td>\n",
       "      <td>0.000647</td>\n",
       "      <td>0.001294</td>\n",
       "      <td>0.934416</td>\n",
       "      <td>0.999319</td>\n",
       "      <td>0.965778</td>\n",
       "    </tr>\n",
       "    <tr>\n",
       "      <th>lugupeetud ettekandja</th>\n",
       "      <td>72</td>\n",
       "      <td>0</td>\n",
       "      <td>1.000000</td>\n",
       "      <td>0.000524</td>\n",
       "      <td>0.001047</td>\n",
       "      <td>0.938592</td>\n",
       "      <td>0.994411</td>\n",
       "      <td>0.965695</td>\n",
       "    </tr>\n",
       "  </tbody>\n",
       "</table>\n",
       "</div>"
      ],
      "text/plain": [
       "                       Jevgeni Ossinovski freq  Aivar Sõerd freq  \\\n",
       "term                                                               \n",
       "föderatsiooni                              165                 0   \n",
       "venemaa föderatsiooni                      163                 0   \n",
       "millisel viisil                            131                 0   \n",
       "kodakondsusest                              95                 0   \n",
       "kahtlematult                                93                 0   \n",
       "vähemasti                                   74                 0   \n",
       "kodanikuks                                  74                 0   \n",
       "lugupeetud kolleegid                        73                 0   \n",
       "laps                                        89                 1   \n",
       "lugupeetud ettekandja                       72                 0   \n",
       "\n",
       "                       jev_precision  jev_freq_pct  jev_hmean  \\\n",
       "term                                                            \n",
       "föderatsiooni               1.000000      0.001200   0.002397   \n",
       "venemaa föderatsiooni       1.000000      0.001186   0.002368   \n",
       "millisel viisil             1.000000      0.000953   0.001904   \n",
       "kodakondsusest              1.000000      0.000691   0.001381   \n",
       "kahtlematult                1.000000      0.000676   0.001352   \n",
       "vähemasti                   1.000000      0.000538   0.001076   \n",
       "kodanikuks                  1.000000      0.000538   0.001076   \n",
       "lugupeetud kolleegid        1.000000      0.000531   0.001061   \n",
       "laps                        0.988889      0.000647   0.001294   \n",
       "lugupeetud ettekandja       1.000000      0.000524   0.001047   \n",
       "\n",
       "                       jev_precision_normcdf  jev_freq_pct_normcdf  \\\n",
       "term                                                                 \n",
       "föderatsiooni                       0.938592              1.000000   \n",
       "venemaa föderatsiooni               0.938592              1.000000   \n",
       "millisel viisil                     0.938592              0.999999   \n",
       "kodakondsusest                      0.938592              0.999707   \n",
       "kahtlematult                        0.938592              0.999609   \n",
       "vähemasti                           0.938592              0.995544   \n",
       "kodanikuks                          0.938592              0.995544   \n",
       "lugupeetud kolleegid                0.938592              0.995006   \n",
       "laps                                0.934416              0.999319   \n",
       "lugupeetud ettekandja               0.938592              0.994411   \n",
       "\n",
       "                       jev_scaled_f_score  \n",
       "term                                       \n",
       "föderatsiooni                    0.968323  \n",
       "venemaa föderatsiooni            0.968323  \n",
       "millisel viisil                  0.968323  \n",
       "kodakondsusest                   0.968186  \n",
       "kahtlematult                     0.968140  \n",
       "vähemasti                        0.966229  \n",
       "kodanikuks                       0.966229  \n",
       "lugupeetud kolleegid             0.965976  \n",
       "laps                             0.965778  \n",
       "lugupeetud ettekandja            0.965695  "
      ]
     },
     "execution_count": 74,
     "metadata": {},
     "output_type": "execute_result"
    }
   ],
   "source": [
    "from scipy.stats import norm\n",
    "\n",
    "def normcdf(x):\n",
    "    return norm.cdf(x, x.mean(), x.std())\n",
    "\n",
    "term_freq_df['jev_precision_normcdf'] = normcdf(term_freq_df['jev_precision'])\n",
    "\n",
    "term_freq_df['jev_freq_pct_normcdf'] = normcdf(term_freq_df['jev_freq_pct'])\n",
    "\n",
    "term_freq_df['jev_scaled_f_score'] = hmean([term_freq_df['jev_precision_normcdf'], term_freq_df['jev_freq_pct_normcdf']])\n",
    "\n",
    "term_freq_df.sort_values(by='jev_scaled_f_score', ascending=False).iloc[:10]\n"
   ]
  },
  {
   "cell_type": "code",
   "execution_count": 75,
   "metadata": {
    "colab": {
     "base_uri": "https://localhost:8080/",
     "height": 394
    },
    "id": "W5G0kZa_6Xwm",
    "outputId": "5e119c6e-55ab-42cd-d58d-24d174ea01a9",
    "pycharm": {
     "name": "#%%\n"
    }
   },
   "outputs": [
    {
     "data": {
      "text/html": [
       "<div>\n",
       "<style scoped>\n",
       "    .dataframe tbody tr th:only-of-type {\n",
       "        vertical-align: middle;\n",
       "    }\n",
       "\n",
       "    .dataframe tbody tr th {\n",
       "        vertical-align: top;\n",
       "    }\n",
       "\n",
       "    .dataframe thead th {\n",
       "        text-align: right;\n",
       "    }\n",
       "</style>\n",
       "<table border=\"1\" class=\"dataframe\">\n",
       "  <thead>\n",
       "    <tr style=\"text-align: right;\">\n",
       "      <th></th>\n",
       "      <th>Jevgeni Ossinovski freq</th>\n",
       "      <th>Aivar Sõerd freq</th>\n",
       "      <th>jev_precision</th>\n",
       "      <th>jev_freq_pct</th>\n",
       "      <th>jev_hmean</th>\n",
       "      <th>jev_precision_normcdf</th>\n",
       "      <th>jev_freq_pct_normcdf</th>\n",
       "      <th>jev_scaled_f_score</th>\n",
       "    </tr>\n",
       "    <tr>\n",
       "      <th>term</th>\n",
       "      <th></th>\n",
       "      <th></th>\n",
       "      <th></th>\n",
       "      <th></th>\n",
       "      <th></th>\n",
       "      <th></th>\n",
       "      <th></th>\n",
       "      <th></th>\n",
       "    </tr>\n",
       "  </thead>\n",
       "  <tbody>\n",
       "    <tr>\n",
       "      <th>maksueksperimenti</th>\n",
       "      <td>0</td>\n",
       "      <td>4</td>\n",
       "      <td>0.0</td>\n",
       "      <td>0.0</td>\n",
       "      <td>0.0</td>\n",
       "      <td>0.069966</td>\n",
       "      <td>0.389047</td>\n",
       "      <td>0.118603</td>\n",
       "    </tr>\n",
       "    <tr>\n",
       "      <th>ja määrata</th>\n",
       "      <td>0</td>\n",
       "      <td>10</td>\n",
       "      <td>0.0</td>\n",
       "      <td>0.0</td>\n",
       "      <td>0.0</td>\n",
       "      <td>0.069966</td>\n",
       "      <td>0.389047</td>\n",
       "      <td>0.118603</td>\n",
       "    </tr>\n",
       "    <tr>\n",
       "      <th>lükake ümber</th>\n",
       "      <td>0</td>\n",
       "      <td>4</td>\n",
       "      <td>0.0</td>\n",
       "      <td>0.0</td>\n",
       "      <td>0.0</td>\n",
       "      <td>0.069966</td>\n",
       "      <td>0.389047</td>\n",
       "      <td>0.118603</td>\n",
       "    </tr>\n",
       "    <tr>\n",
       "      <th>eelnõu menetlemine</th>\n",
       "      <td>0</td>\n",
       "      <td>4</td>\n",
       "      <td>0.0</td>\n",
       "      <td>0.0</td>\n",
       "      <td>0.0</td>\n",
       "      <td>0.069966</td>\n",
       "      <td>0.389047</td>\n",
       "      <td>0.118603</td>\n",
       "    </tr>\n",
       "    <tr>\n",
       "      <th>pangas</th>\n",
       "      <td>0</td>\n",
       "      <td>5</td>\n",
       "      <td>0.0</td>\n",
       "      <td>0.0</td>\n",
       "      <td>0.0</td>\n",
       "      <td>0.069966</td>\n",
       "      <td>0.389047</td>\n",
       "      <td>0.118603</td>\n",
       "    </tr>\n",
       "    <tr>\n",
       "      <th>ja esm</th>\n",
       "      <td>0</td>\n",
       "      <td>5</td>\n",
       "      <td>0.0</td>\n",
       "      <td>0.0</td>\n",
       "      <td>0.0</td>\n",
       "      <td>0.069966</td>\n",
       "      <td>0.389047</td>\n",
       "      <td>0.118603</td>\n",
       "    </tr>\n",
       "    <tr>\n",
       "      <th>kahtlus et</th>\n",
       "      <td>0</td>\n",
       "      <td>5</td>\n",
       "      <td>0.0</td>\n",
       "      <td>0.0</td>\n",
       "      <td>0.0</td>\n",
       "      <td>0.069966</td>\n",
       "      <td>0.389047</td>\n",
       "      <td>0.118603</td>\n",
       "    </tr>\n",
       "    <tr>\n",
       "      <th>see abi</th>\n",
       "      <td>0</td>\n",
       "      <td>4</td>\n",
       "      <td>0.0</td>\n",
       "      <td>0.0</td>\n",
       "      <td>0.0</td>\n",
       "      <td>0.069966</td>\n",
       "      <td>0.389047</td>\n",
       "      <td>0.118603</td>\n",
       "    </tr>\n",
       "    <tr>\n",
       "      <th>stabiilsust ja</th>\n",
       "      <td>0</td>\n",
       "      <td>4</td>\n",
       "      <td>0.0</td>\n",
       "      <td>0.0</td>\n",
       "      <td>0.0</td>\n",
       "      <td>0.069966</td>\n",
       "      <td>0.389047</td>\n",
       "      <td>0.118603</td>\n",
       "    </tr>\n",
       "    <tr>\n",
       "      <th>eelnõu tutvustas</th>\n",
       "      <td>0</td>\n",
       "      <td>4</td>\n",
       "      <td>0.0</td>\n",
       "      <td>0.0</td>\n",
       "      <td>0.0</td>\n",
       "      <td>0.069966</td>\n",
       "      <td>0.389047</td>\n",
       "      <td>0.118603</td>\n",
       "    </tr>\n",
       "  </tbody>\n",
       "</table>\n",
       "</div>"
      ],
      "text/plain": [
       "                    Jevgeni Ossinovski freq  Aivar Sõerd freq  jev_precision  \\\n",
       "term                                                                           \n",
       "maksueksperimenti                         0                 4            0.0   \n",
       "ja määrata                                0                10            0.0   \n",
       "lükake ümber                              0                 4            0.0   \n",
       "eelnõu menetlemine                        0                 4            0.0   \n",
       "pangas                                    0                 5            0.0   \n",
       "ja esm                                    0                 5            0.0   \n",
       "kahtlus et                                0                 5            0.0   \n",
       "see abi                                   0                 4            0.0   \n",
       "stabiilsust ja                            0                 4            0.0   \n",
       "eelnõu tutvustas                          0                 4            0.0   \n",
       "\n",
       "                    jev_freq_pct  jev_hmean  jev_precision_normcdf  \\\n",
       "term                                                                 \n",
       "maksueksperimenti            0.0        0.0               0.069966   \n",
       "ja määrata                   0.0        0.0               0.069966   \n",
       "lükake ümber                 0.0        0.0               0.069966   \n",
       "eelnõu menetlemine           0.0        0.0               0.069966   \n",
       "pangas                       0.0        0.0               0.069966   \n",
       "ja esm                       0.0        0.0               0.069966   \n",
       "kahtlus et                   0.0        0.0               0.069966   \n",
       "see abi                      0.0        0.0               0.069966   \n",
       "stabiilsust ja               0.0        0.0               0.069966   \n",
       "eelnõu tutvustas             0.0        0.0               0.069966   \n",
       "\n",
       "                    jev_freq_pct_normcdf  jev_scaled_f_score  \n",
       "term                                                          \n",
       "maksueksperimenti               0.389047            0.118603  \n",
       "ja määrata                      0.389047            0.118603  \n",
       "lükake ümber                    0.389047            0.118603  \n",
       "eelnõu menetlemine              0.389047            0.118603  \n",
       "pangas                          0.389047            0.118603  \n",
       "ja esm                          0.389047            0.118603  \n",
       "kahtlus et                      0.389047            0.118603  \n",
       "see abi                         0.389047            0.118603  \n",
       "stabiilsust ja                  0.389047            0.118603  \n",
       "eelnõu tutvustas                0.389047            0.118603  "
      ]
     },
     "execution_count": 75,
     "metadata": {},
     "output_type": "execute_result"
    }
   ],
   "source": [
    "term_freq_df.sort_values(by='jev_scaled_f_score', ascending=True).iloc[:10]"
   ]
  },
  {
   "cell_type": "markdown",
   "metadata": {
    "id": "7z0Gjcrx6Xwr",
    "pycharm": {
     "name": "#%% md\n"
    }
   },
   "source": [
    "## A second problem: low-scores are infrequent, low precision words.\n",
    "### Solution: compute SFS of negative class. If that score has a higher magnitude than the positive SFS, keep that, but as a negative score.\n",
    "\n",
    "Define the Scaled F-Score for category $j$ as\n",
    "$$ \\mbox{S-CAT}^{j} =  \\mbox{S-CAT}_{\\beta}(w_i, c_j). $$\n",
    "\n",
    "Define a class $\\neg j$ which includes all categories other than $j$.\n",
    "\n",
    "and the Scaled F-Score for all other categories as\n",
    "$$ \\mbox{S-CAT}^{\\neg j} = \\mbox{S-CAT}_{\\beta}(w_i, c_{\\neg j}). $$\n",
    "\n",
    "Let the corrected version of Scaled F-Score be:\n",
    "\n",
    "$$\\mathcal{S}_{\\beta} = 2 \\cdot \\big(-0.5 + \\begin{cases}\n",
    "      \\mbox{S-CAT}^{j} & \\text{if}\\ \\mbox{S-CAT}^{j} > \\mbox{S-CAT}^{\\neg j}, \\\\\n",
    "      1 - \\mbox{S-CAT}^{\\neg j} & \\text{if}\\ \\mbox{S-CAT}^{j} < \\mbox{S-CAT}^{\\neg j}, \\\\\n",
    "      0 & \\text{otherwise}.\n",
    "    \\end{cases} \\big).$$\n",
    "    \n",
    "Note that the range of $\\mathcal{S}$ is now $[-1, 1]$, where $\\mathcal{S} < 0$ indicates a term less associated with the category is question than average, and a positive score being more associated."
   ]
  },
  {
   "cell_type": "code",
   "execution_count": 76,
   "metadata": {
    "colab": {
     "base_uri": "https://localhost:8080/",
     "height": 466
    },
    "id": "PkJRfraq6Xws",
    "outputId": "6be05b60-936b-43b3-cd18-4c7abe907c15",
    "pycharm": {
     "name": "#%%\n"
    }
   },
   "outputs": [
    {
     "data": {
      "text/html": [
       "<div>\n",
       "<style scoped>\n",
       "    .dataframe tbody tr th:only-of-type {\n",
       "        vertical-align: middle;\n",
       "    }\n",
       "\n",
       "    .dataframe tbody tr th {\n",
       "        vertical-align: top;\n",
       "    }\n",
       "\n",
       "    .dataframe thead th {\n",
       "        text-align: right;\n",
       "    }\n",
       "</style>\n",
       "<table border=\"1\" class=\"dataframe\">\n",
       "  <thead>\n",
       "    <tr style=\"text-align: right;\">\n",
       "      <th></th>\n",
       "      <th>Jevgeni Ossinovski freq</th>\n",
       "      <th>Aivar Sõerd freq</th>\n",
       "      <th>jev_precision</th>\n",
       "      <th>jev_freq_pct</th>\n",
       "      <th>jev_hmean</th>\n",
       "      <th>jev_precision_normcdf</th>\n",
       "      <th>jev_freq_pct_normcdf</th>\n",
       "      <th>jev_scaled_f_score</th>\n",
       "      <th>aivar_precision</th>\n",
       "      <th>aivar_freq_pct</th>\n",
       "      <th>aivar_scaled_f_score</th>\n",
       "      <th>scaled_f_score</th>\n",
       "    </tr>\n",
       "    <tr>\n",
       "      <th>term</th>\n",
       "      <th></th>\n",
       "      <th></th>\n",
       "      <th></th>\n",
       "      <th></th>\n",
       "      <th></th>\n",
       "      <th></th>\n",
       "      <th></th>\n",
       "      <th></th>\n",
       "      <th></th>\n",
       "      <th></th>\n",
       "      <th></th>\n",
       "      <th></th>\n",
       "    </tr>\n",
       "  </thead>\n",
       "  <tbody>\n",
       "    <tr>\n",
       "      <th>ka eelmise</th>\n",
       "      <td>3</td>\n",
       "      <td>4</td>\n",
       "      <td>0.428571</td>\n",
       "      <td>0.000022</td>\n",
       "      <td>0.000044</td>\n",
       "      <td>0.427736</td>\n",
       "      <td>0.434728</td>\n",
       "      <td>0.431204</td>\n",
       "      <td>0.571429</td>\n",
       "      <td>0.000028</td>\n",
       "      <td>0.498748</td>\n",
       "      <td>0.002505</td>\n",
       "    </tr>\n",
       "    <tr>\n",
       "      <th>selle töö</th>\n",
       "      <td>3</td>\n",
       "      <td>4</td>\n",
       "      <td>0.428571</td>\n",
       "      <td>0.000022</td>\n",
       "      <td>0.000044</td>\n",
       "      <td>0.427736</td>\n",
       "      <td>0.434728</td>\n",
       "      <td>0.431204</td>\n",
       "      <td>0.571429</td>\n",
       "      <td>0.000028</td>\n",
       "      <td>0.498748</td>\n",
       "      <td>0.002505</td>\n",
       "    </tr>\n",
       "    <tr>\n",
       "      <th>juttu et</th>\n",
       "      <td>3</td>\n",
       "      <td>4</td>\n",
       "      <td>0.428571</td>\n",
       "      <td>0.000022</td>\n",
       "      <td>0.000044</td>\n",
       "      <td>0.427736</td>\n",
       "      <td>0.434728</td>\n",
       "      <td>0.431204</td>\n",
       "      <td>0.571429</td>\n",
       "      <td>0.000028</td>\n",
       "      <td>0.498748</td>\n",
       "      <td>0.002505</td>\n",
       "    </tr>\n",
       "    <tr>\n",
       "      <th>üle võtta</th>\n",
       "      <td>3</td>\n",
       "      <td>4</td>\n",
       "      <td>0.428571</td>\n",
       "      <td>0.000022</td>\n",
       "      <td>0.000044</td>\n",
       "      <td>0.427736</td>\n",
       "      <td>0.434728</td>\n",
       "      <td>0.431204</td>\n",
       "      <td>0.571429</td>\n",
       "      <td>0.000028</td>\n",
       "      <td>0.498748</td>\n",
       "      <td>0.002505</td>\n",
       "    </tr>\n",
       "    <tr>\n",
       "      <th>need arutelud</th>\n",
       "      <td>3</td>\n",
       "      <td>4</td>\n",
       "      <td>0.428571</td>\n",
       "      <td>0.000022</td>\n",
       "      <td>0.000044</td>\n",
       "      <td>0.427736</td>\n",
       "      <td>0.434728</td>\n",
       "      <td>0.431204</td>\n",
       "      <td>0.571429</td>\n",
       "      <td>0.000028</td>\n",
       "      <td>0.498748</td>\n",
       "      <td>0.002505</td>\n",
       "    </tr>\n",
       "    <tr>\n",
       "      <th>ma eeldan</th>\n",
       "      <td>3</td>\n",
       "      <td>4</td>\n",
       "      <td>0.428571</td>\n",
       "      <td>0.000022</td>\n",
       "      <td>0.000044</td>\n",
       "      <td>0.427736</td>\n",
       "      <td>0.434728</td>\n",
       "      <td>0.431204</td>\n",
       "      <td>0.571429</td>\n",
       "      <td>0.000028</td>\n",
       "      <td>0.498748</td>\n",
       "      <td>0.002505</td>\n",
       "    </tr>\n",
       "    <tr>\n",
       "      <th>paar aastat</th>\n",
       "      <td>3</td>\n",
       "      <td>4</td>\n",
       "      <td>0.428571</td>\n",
       "      <td>0.000022</td>\n",
       "      <td>0.000044</td>\n",
       "      <td>0.427736</td>\n",
       "      <td>0.434728</td>\n",
       "      <td>0.431204</td>\n",
       "      <td>0.571429</td>\n",
       "      <td>0.000028</td>\n",
       "      <td>0.498748</td>\n",
       "      <td>0.002505</td>\n",
       "    </tr>\n",
       "    <tr>\n",
       "      <th>keskmiste</th>\n",
       "      <td>3</td>\n",
       "      <td>4</td>\n",
       "      <td>0.428571</td>\n",
       "      <td>0.000022</td>\n",
       "      <td>0.000044</td>\n",
       "      <td>0.427736</td>\n",
       "      <td>0.434728</td>\n",
       "      <td>0.431204</td>\n",
       "      <td>0.571429</td>\n",
       "      <td>0.000028</td>\n",
       "      <td>0.498748</td>\n",
       "      <td>0.002505</td>\n",
       "    </tr>\n",
       "    <tr>\n",
       "      <th>et riigil</th>\n",
       "      <td>3</td>\n",
       "      <td>4</td>\n",
       "      <td>0.428571</td>\n",
       "      <td>0.000022</td>\n",
       "      <td>0.000044</td>\n",
       "      <td>0.427736</td>\n",
       "      <td>0.434728</td>\n",
       "      <td>0.431204</td>\n",
       "      <td>0.571429</td>\n",
       "      <td>0.000028</td>\n",
       "      <td>0.498748</td>\n",
       "      <td>0.002505</td>\n",
       "    </tr>\n",
       "    <tr>\n",
       "      <th>arutamise</th>\n",
       "      <td>3</td>\n",
       "      <td>4</td>\n",
       "      <td>0.428571</td>\n",
       "      <td>0.000022</td>\n",
       "      <td>0.000044</td>\n",
       "      <td>0.427736</td>\n",
       "      <td>0.434728</td>\n",
       "      <td>0.431204</td>\n",
       "      <td>0.571429</td>\n",
       "      <td>0.000028</td>\n",
       "      <td>0.498748</td>\n",
       "      <td>0.002505</td>\n",
       "    </tr>\n",
       "  </tbody>\n",
       "</table>\n",
       "</div>"
      ],
      "text/plain": [
       "               Jevgeni Ossinovski freq  Aivar Sõerd freq  jev_precision  \\\n",
       "term                                                                      \n",
       "ka eelmise                           3                 4       0.428571   \n",
       "selle töö                            3                 4       0.428571   \n",
       "juttu et                             3                 4       0.428571   \n",
       "üle võtta                            3                 4       0.428571   \n",
       "need arutelud                        3                 4       0.428571   \n",
       "ma eeldan                            3                 4       0.428571   \n",
       "paar aastat                          3                 4       0.428571   \n",
       "keskmiste                            3                 4       0.428571   \n",
       "et riigil                            3                 4       0.428571   \n",
       "arutamise                            3                 4       0.428571   \n",
       "\n",
       "               jev_freq_pct  jev_hmean  jev_precision_normcdf  \\\n",
       "term                                                            \n",
       "ka eelmise         0.000022   0.000044               0.427736   \n",
       "selle töö          0.000022   0.000044               0.427736   \n",
       "juttu et           0.000022   0.000044               0.427736   \n",
       "üle võtta          0.000022   0.000044               0.427736   \n",
       "need arutelud      0.000022   0.000044               0.427736   \n",
       "ma eeldan          0.000022   0.000044               0.427736   \n",
       "paar aastat        0.000022   0.000044               0.427736   \n",
       "keskmiste          0.000022   0.000044               0.427736   \n",
       "et riigil          0.000022   0.000044               0.427736   \n",
       "arutamise          0.000022   0.000044               0.427736   \n",
       "\n",
       "               jev_freq_pct_normcdf  jev_scaled_f_score  aivar_precision  \\\n",
       "term                                                                       \n",
       "ka eelmise                 0.434728            0.431204         0.571429   \n",
       "selle töö                  0.434728            0.431204         0.571429   \n",
       "juttu et                   0.434728            0.431204         0.571429   \n",
       "üle võtta                  0.434728            0.431204         0.571429   \n",
       "need arutelud              0.434728            0.431204         0.571429   \n",
       "ma eeldan                  0.434728            0.431204         0.571429   \n",
       "paar aastat                0.434728            0.431204         0.571429   \n",
       "keskmiste                  0.434728            0.431204         0.571429   \n",
       "et riigil                  0.434728            0.431204         0.571429   \n",
       "arutamise                  0.434728            0.431204         0.571429   \n",
       "\n",
       "               aivar_freq_pct  aivar_scaled_f_score  scaled_f_score  \n",
       "term                                                                 \n",
       "ka eelmise           0.000028              0.498748        0.002505  \n",
       "selle töö            0.000028              0.498748        0.002505  \n",
       "juttu et             0.000028              0.498748        0.002505  \n",
       "üle võtta            0.000028              0.498748        0.002505  \n",
       "need arutelud        0.000028              0.498748        0.002505  \n",
       "ma eeldan            0.000028              0.498748        0.002505  \n",
       "paar aastat          0.000028              0.498748        0.002505  \n",
       "keskmiste            0.000028              0.498748        0.002505  \n",
       "et riigil            0.000028              0.498748        0.002505  \n",
       "arutamise            0.000028              0.498748        0.002505  "
      ]
     },
     "execution_count": 76,
     "metadata": {},
     "output_type": "execute_result"
    }
   ],
   "source": [
    "term_freq_df['aivar_precision'] = (term_freq_df['Aivar Sõerd freq'] * 1./\n",
    "                                 (term_freq_df['Aivar Sõerd freq'] + term_freq_df['Jevgeni Ossinovski freq']))\n",
    "\n",
    "term_freq_df['aivar_freq_pct'] = (term_freq_df['Aivar Sõerd freq'] * 1.\n",
    "                                /term_freq_df['Aivar Sõerd freq'].sum())\n",
    "\n",
    "term_freq_df['aivar_scaled_f_score'] = hmean([normcdf(term_freq_df['aivar_precision']),  normcdf(term_freq_df['aivar_freq_pct'])])\n",
    "\n",
    "term_freq_df['scaled_f_score'] = 0\n",
    "term_freq_df.loc[term_freq_df['jev_scaled_f_score'] > term_freq_df['jev_scaled_f_score'],\n",
    "                 'scaled_f_score'] = term_freq_df['jev_scaled_f_score']\n",
    "term_freq_df.loc[term_freq_df['jev_scaled_f_score'] < term_freq_df['aivar_scaled_f_score'],\n",
    "                 'scaled_f_score'] = 1-term_freq_df['aivar_scaled_f_score']\n",
    "term_freq_df['scaled_f_score'] = 2 * (term_freq_df['scaled_f_score'] - 0.5)\n",
    "term_freq_df.sort_values(by='scaled_f_score', ascending=False).iloc[:10]"
   ]
  },
  {
   "cell_type": "code",
   "execution_count": 77,
   "metadata": {
    "colab": {
     "base_uri": "https://localhost:8080/",
     "height": 466
    },
    "id": "Ug20MN0h6Xwz",
    "outputId": "df03681b-3b4b-4c3e-abb5-f8cd1d23f881",
    "pycharm": {
     "name": "#%%\n"
    }
   },
   "outputs": [
    {
     "data": {
      "text/html": [
       "<div>\n",
       "<style scoped>\n",
       "    .dataframe tbody tr th:only-of-type {\n",
       "        vertical-align: middle;\n",
       "    }\n",
       "\n",
       "    .dataframe tbody tr th {\n",
       "        vertical-align: top;\n",
       "    }\n",
       "\n",
       "    .dataframe thead th {\n",
       "        text-align: right;\n",
       "    }\n",
       "</style>\n",
       "<table border=\"1\" class=\"dataframe\">\n",
       "  <thead>\n",
       "    <tr style=\"text-align: right;\">\n",
       "      <th></th>\n",
       "      <th>Jevgeni Ossinovski freq</th>\n",
       "      <th>Aivar Sõerd freq</th>\n",
       "      <th>jev_precision</th>\n",
       "      <th>jev_freq_pct</th>\n",
       "      <th>jev_hmean</th>\n",
       "      <th>jev_precision_normcdf</th>\n",
       "      <th>jev_freq_pct_normcdf</th>\n",
       "      <th>jev_scaled_f_score</th>\n",
       "      <th>aivar_precision</th>\n",
       "      <th>aivar_freq_pct</th>\n",
       "      <th>aivar_scaled_f_score</th>\n",
       "      <th>scaled_f_score</th>\n",
       "    </tr>\n",
       "    <tr>\n",
       "      <th>term</th>\n",
       "      <th></th>\n",
       "      <th></th>\n",
       "      <th></th>\n",
       "      <th></th>\n",
       "      <th></th>\n",
       "      <th></th>\n",
       "      <th></th>\n",
       "      <th></th>\n",
       "      <th></th>\n",
       "      <th></th>\n",
       "      <th></th>\n",
       "      <th></th>\n",
       "    </tr>\n",
       "  </thead>\n",
       "  <tbody>\n",
       "    <tr>\n",
       "      <th>aitäh</th>\n",
       "      <td>727</td>\n",
       "      <td>712</td>\n",
       "      <td>0.505212</td>\n",
       "      <td>0.005288</td>\n",
       "      <td>0.010466</td>\n",
       "      <td>0.519637</td>\n",
       "      <td>1.000000</td>\n",
       "      <td>0.683896</td>\n",
       "      <td>0.494788</td>\n",
       "      <td>0.004983</td>\n",
       "      <td>0.648980</td>\n",
       "      <td>-1.0</td>\n",
       "    </tr>\n",
       "    <tr>\n",
       "      <th>riigikogu saab</th>\n",
       "      <td>3</td>\n",
       "      <td>1</td>\n",
       "      <td>0.750000</td>\n",
       "      <td>0.000022</td>\n",
       "      <td>0.000044</td>\n",
       "      <td>0.784734</td>\n",
       "      <td>0.434728</td>\n",
       "      <td>0.559502</td>\n",
       "      <td>0.250000</td>\n",
       "      <td>0.000007</td>\n",
       "      <td>0.278137</td>\n",
       "      <td>-1.0</td>\n",
       "    </tr>\n",
       "    <tr>\n",
       "      <th>meid on</th>\n",
       "      <td>2</td>\n",
       "      <td>2</td>\n",
       "      <td>0.500000</td>\n",
       "      <td>0.000015</td>\n",
       "      <td>0.000029</td>\n",
       "      <td>0.513365</td>\n",
       "      <td>0.419372</td>\n",
       "      <td>0.461633</td>\n",
       "      <td>0.500000</td>\n",
       "      <td>0.000014</td>\n",
       "      <td>0.444511</td>\n",
       "      <td>-1.0</td>\n",
       "    </tr>\n",
       "    <tr>\n",
       "      <th>tagasi oli</th>\n",
       "      <td>5</td>\n",
       "      <td>4</td>\n",
       "      <td>0.555556</td>\n",
       "      <td>0.000036</td>\n",
       "      <td>0.000073</td>\n",
       "      <td>0.579743</td>\n",
       "      <td>0.465715</td>\n",
       "      <td>0.516510</td>\n",
       "      <td>0.444444</td>\n",
       "      <td>0.000028</td>\n",
       "      <td>0.430840</td>\n",
       "      <td>-1.0</td>\n",
       "    </tr>\n",
       "    <tr>\n",
       "      <th>tõesti väga</th>\n",
       "      <td>8</td>\n",
       "      <td>8</td>\n",
       "      <td>0.500000</td>\n",
       "      <td>0.000058</td>\n",
       "      <td>0.000116</td>\n",
       "      <td>0.513365</td>\n",
       "      <td>0.512528</td>\n",
       "      <td>0.512946</td>\n",
       "      <td>0.500000</td>\n",
       "      <td>0.000056</td>\n",
       "      <td>0.497421</td>\n",
       "      <td>-1.0</td>\n",
       "    </tr>\n",
       "    <tr>\n",
       "      <th>väita</th>\n",
       "      <td>10</td>\n",
       "      <td>8</td>\n",
       "      <td>0.555556</td>\n",
       "      <td>0.000073</td>\n",
       "      <td>0.000145</td>\n",
       "      <td>0.579743</td>\n",
       "      <td>0.543681</td>\n",
       "      <td>0.561133</td>\n",
       "      <td>0.444444</td>\n",
       "      <td>0.000056</td>\n",
       "      <td>0.460266</td>\n",
       "      <td>-1.0</td>\n",
       "    </tr>\n",
       "    <tr>\n",
       "      <th>teile ka</th>\n",
       "      <td>5</td>\n",
       "      <td>2</td>\n",
       "      <td>0.714286</td>\n",
       "      <td>0.000036</td>\n",
       "      <td>0.000073</td>\n",
       "      <td>0.751893</td>\n",
       "      <td>0.465715</td>\n",
       "      <td>0.575173</td>\n",
       "      <td>0.285714</td>\n",
       "      <td>0.000014</td>\n",
       "      <td>0.308884</td>\n",
       "      <td>-1.0</td>\n",
       "    </tr>\n",
       "    <tr>\n",
       "      <th>päris õige</th>\n",
       "      <td>3</td>\n",
       "      <td>3</td>\n",
       "      <td>0.500000</td>\n",
       "      <td>0.000022</td>\n",
       "      <td>0.000044</td>\n",
       "      <td>0.513365</td>\n",
       "      <td>0.434728</td>\n",
       "      <td>0.470786</td>\n",
       "      <td>0.500000</td>\n",
       "      <td>0.000021</td>\n",
       "      <td>0.454001</td>\n",
       "      <td>-1.0</td>\n",
       "    </tr>\n",
       "    <tr>\n",
       "      <th>väita et</th>\n",
       "      <td>9</td>\n",
       "      <td>7</td>\n",
       "      <td>0.562500</td>\n",
       "      <td>0.000065</td>\n",
       "      <td>0.000131</td>\n",
       "      <td>0.587922</td>\n",
       "      <td>0.528126</td>\n",
       "      <td>0.556422</td>\n",
       "      <td>0.437500</td>\n",
       "      <td>0.000049</td>\n",
       "      <td>0.448491</td>\n",
       "      <td>-1.0</td>\n",
       "    </tr>\n",
       "    <tr>\n",
       "      <th>ja rahva</th>\n",
       "      <td>5</td>\n",
       "      <td>0</td>\n",
       "      <td>1.000000</td>\n",
       "      <td>0.000036</td>\n",
       "      <td>0.000073</td>\n",
       "      <td>0.938592</td>\n",
       "      <td>0.465715</td>\n",
       "      <td>0.622537</td>\n",
       "      <td>0.000000</td>\n",
       "      <td>0.000000</td>\n",
       "      <td>0.105608</td>\n",
       "      <td>-1.0</td>\n",
       "    </tr>\n",
       "  </tbody>\n",
       "</table>\n",
       "</div>"
      ],
      "text/plain": [
       "                Jevgeni Ossinovski freq  Aivar Sõerd freq  jev_precision  \\\n",
       "term                                                                       \n",
       "aitäh                               727               712       0.505212   \n",
       "riigikogu saab                        3                 1       0.750000   \n",
       "meid on                               2                 2       0.500000   \n",
       "tagasi oli                            5                 4       0.555556   \n",
       "tõesti väga                           8                 8       0.500000   \n",
       "väita                                10                 8       0.555556   \n",
       "teile ka                              5                 2       0.714286   \n",
       "päris õige                            3                 3       0.500000   \n",
       "väita et                              9                 7       0.562500   \n",
       "ja rahva                              5                 0       1.000000   \n",
       "\n",
       "                jev_freq_pct  jev_hmean  jev_precision_normcdf  \\\n",
       "term                                                             \n",
       "aitäh               0.005288   0.010466               0.519637   \n",
       "riigikogu saab      0.000022   0.000044               0.784734   \n",
       "meid on             0.000015   0.000029               0.513365   \n",
       "tagasi oli          0.000036   0.000073               0.579743   \n",
       "tõesti väga         0.000058   0.000116               0.513365   \n",
       "väita               0.000073   0.000145               0.579743   \n",
       "teile ka            0.000036   0.000073               0.751893   \n",
       "päris õige          0.000022   0.000044               0.513365   \n",
       "väita et            0.000065   0.000131               0.587922   \n",
       "ja rahva            0.000036   0.000073               0.938592   \n",
       "\n",
       "                jev_freq_pct_normcdf  jev_scaled_f_score  aivar_precision  \\\n",
       "term                                                                        \n",
       "aitäh                       1.000000            0.683896         0.494788   \n",
       "riigikogu saab              0.434728            0.559502         0.250000   \n",
       "meid on                     0.419372            0.461633         0.500000   \n",
       "tagasi oli                  0.465715            0.516510         0.444444   \n",
       "tõesti väga                 0.512528            0.512946         0.500000   \n",
       "väita                       0.543681            0.561133         0.444444   \n",
       "teile ka                    0.465715            0.575173         0.285714   \n",
       "päris õige                  0.434728            0.470786         0.500000   \n",
       "väita et                    0.528126            0.556422         0.437500   \n",
       "ja rahva                    0.465715            0.622537         0.000000   \n",
       "\n",
       "                aivar_freq_pct  aivar_scaled_f_score  scaled_f_score  \n",
       "term                                                                  \n",
       "aitäh                 0.004983              0.648980            -1.0  \n",
       "riigikogu saab        0.000007              0.278137            -1.0  \n",
       "meid on               0.000014              0.444511            -1.0  \n",
       "tagasi oli            0.000028              0.430840            -1.0  \n",
       "tõesti väga           0.000056              0.497421            -1.0  \n",
       "väita                 0.000056              0.460266            -1.0  \n",
       "teile ka              0.000014              0.308884            -1.0  \n",
       "päris õige            0.000021              0.454001            -1.0  \n",
       "väita et              0.000049              0.448491            -1.0  \n",
       "ja rahva              0.000000              0.105608            -1.0  "
      ]
     },
     "execution_count": 77,
     "metadata": {},
     "output_type": "execute_result"
    }
   ],
   "source": [
    "term_freq_df.sort_values(by='scaled_f_score', ascending=True).iloc[:10]"
   ]
  },
  {
   "cell_type": "code",
   "execution_count": 78,
   "metadata": {
    "colab": {
     "base_uri": "https://localhost:8080/",
     "height": 639
    },
    "id": "ES9U0_4Q6Xw6",
    "outputId": "4f786b53-e379-4d17-d7f1-74b1f3758e43",
    "pycharm": {
     "name": "#%%\n"
    }
   },
   "outputs": [
    {
     "data": {
      "text/html": [
       "\n",
       "        <iframe\n",
       "            width=\"1300\"\n",
       "            height=\"700\"\n",
       "            src=\"output/temp.html\"\n",
       "            frameborder=\"0\"\n",
       "            allowfullscreen\n",
       "            \n",
       "        ></iframe>\n",
       "        "
      ],
      "text/plain": [
       "<IPython.lib.display.IFrame at 0x1f0195cc610>"
      ]
     },
     "execution_count": 78,
     "metadata": {},
     "output_type": "execute_result"
    }
   ],
   "source": [
    "html = st.produce_fightin_words_explorer(\n",
    "    unigram_corpus,\n",
    "    category='Jevgeni Ossinovski',\n",
    "    category_name='Jevgeni Ossinovski',\n",
    "    not_category_name='Aivar Sõerd',\n",
    "    neutral_categories=[],\n",
    "    term_scorer=st.ScaledFScorePresetsNeg1To1(beta=1, scaler_algo='normcdf'),\n",
    "    # metadata = rdf['movie_name'],\n",
    "    grey_threshold=0\n",
    ")\n",
    "open('output/temp.html', 'wb').write(html.encode('utf-8'))\n",
    "IFrame(src='output/temp.html', width = 1300, height=700)"
   ]
  },
  {
   "cell_type": "markdown",
   "metadata": {
    "id": "737ZxIUTb2XP",
    "pycharm": {
     "name": "#%% md\n"
    }
   },
   "source": [
    "#PMI\n",
    "\n",
    "## Smoothed PPMI positive-class association\n",
    "\n",
    "$$\\mbox{Let }W \\mbox{ be the set of all words in the corpus.}$$\n",
    "$$\\mbox{Let }C \\mbox{ be the set of all categories in the corpus.}$$\n",
    "$$\\#(\\mbox{word}_w) = \\mbox{number of times word}_w\\mbox{ occurs} +\\alpha $$\n",
    "$$\\#(\\mbox{word}_{wc}) = \\mbox{number of times word}_w\\mbox{ occurs in category}_c +\\alpha $$\n",
    "\n",
    "$$P(word_i) = \\frac{\\#({word}_i)}{\\sum_{w\\in W}\\#({word}_i)}$$\n",
    "$$ $$\n",
    "$$P(category_j) = \\frac{\\sum_{w\\in W}\\#({word}_{ij})}{\\sum_{w\\in W}\\#({word}_i)}$$\n",
    "$$ $$\n",
    "$$P(word_i,category_j) = \\frac{\\#({word}_{ij})}{\\sum_{w\\in W}\\#({word}_i)}$$\n",
    "$$ $$\n",
    "$$\\mbox{PMI}(\\mbox{word}_i,\\mbox{category}_c) = \\log_2\\frac{P(\\mbox{word}_i,\\mbox{category}_c)}{P(\\mbox{word}_i)P(\\mbox{category}_c)}$$\n",
    "$$ $$\n",
    "$$\\mbox{PPMI}(\\mbox{word}_i,\\mbox{category}_c ) = \\max(\\mbox{PMI}(\\mbox{word}_i,\\mbox{category}_c), 0)$$"
   ]
  },
  {
   "cell_type": "code",
   "execution_count": 79,
   "metadata": {
    "colab": {
     "base_uri": "https://localhost:8080/",
     "height": 639
    },
    "id": "RtrLt2_O0I_7",
    "outputId": "16eedeae-a3d0-4be6-8627-acce46c7e544",
    "pycharm": {
     "name": "#%%\n"
    }
   },
   "outputs": [
    {
     "data": {
      "text/html": [
       "\n",
       "        <iframe\n",
       "            width=\"1300\"\n",
       "            height=\"700\"\n",
       "            src=\"output/temp.html\"\n",
       "            frameborder=\"0\"\n",
       "            allowfullscreen\n",
       "            \n",
       "        ></iframe>\n",
       "        "
      ],
      "text/plain": [
       "<IPython.lib.display.IFrame at 0x1f01d6c90d0>"
      ]
     },
     "execution_count": 79,
     "metadata": {},
     "output_type": "execute_result"
    }
   ],
   "source": [
    "class PPMI:\n",
    "    def __init__(self, alpha, exponent=1.):\n",
    "        self.exponent = exponent\n",
    "        self.alpha = alpha\n",
    "    def get_scores(self, a, b):\n",
    "        return self.get_ppmi(a, b)\n",
    "    def get_ppmi(self, cat_counts, ncat_counts):\n",
    "        a = (cat_counts + self.alpha)**self.exponent\n",
    "        b = (ncat_counts + self.alpha)**self.exponent\n",
    "        p_word_class = a/sum(a)\n",
    "        p_class = (a.sum())/(a.sum() + b.sum())\n",
    "        p_word = (a + b)/(a.sum() + b.sum())\n",
    "        pmi_a = np.log(p_word_class)/np.log(2) - np.log(p_class*p_word)/np.log(2)\n",
    "        ppmi_a = pmi_a.values\n",
    "        ppmi_a[ppmi_a < 0] = 0\n",
    "        return ppmi_a\n",
    "\n",
    "    def get_name(self):\n",
    "        return 'Positive-Class PPMI'\n",
    "\n",
    "html = st.produce_fightin_words_explorer(\n",
    "    unigram_posnegcorpus,\n",
    "    category='Jevgeni Ossinovski',\n",
    "    category_name='Jevgeni Ossinovski',\n",
    "    not_category_name='Aivar Sõerd',\n",
    "    term_scorer=PPMI(0.0001, 1),\n",
    "    # metadata = unigram_posnegcorpus.get_df()['movie_name'],\n",
    "    grey_threshold=0,\n",
    ")\n",
    "open('output/temp.html', 'wb').write(html.encode('utf-8'))\n",
    "IFrame(src='output/temp.html', width = 1300, height=700)"
   ]
  },
  {
   "cell_type": "code",
   "execution_count": 80,
   "metadata": {
    "colab": {
     "base_uri": "https://localhost:8080/",
     "height": 639
    },
    "id": "emx5m4WsbTIO",
    "outputId": "9a06e83d-6ae8-4e51-fa29-58dcb94da088",
    "pycharm": {
     "name": "#%%\n"
    }
   },
   "outputs": [
    {
     "data": {
      "text/html": [
       "\n",
       "        <iframe\n",
       "            width=\"1300\"\n",
       "            height=\"700\"\n",
       "            src=\"output/temp.html\"\n",
       "            frameborder=\"0\"\n",
       "            allowfullscreen\n",
       "            \n",
       "        ></iframe>\n",
       "        "
      ],
      "text/plain": [
       "<IPython.lib.display.IFrame at 0x1f01daabeb0>"
      ]
     },
     "execution_count": 80,
     "metadata": {},
     "output_type": "execute_result"
    }
   ],
   "source": [
    "class DeltaPPMI(PPMI):\n",
    "    def get_scores(self, a, b):\n",
    "        return self.get_ppmi(a, b) - self.get_ppmi(b, a)\n",
    "    def get_name(self):\n",
    "        return 'Delta PPMI'\n",
    "\n",
    "html = st.produce_fightin_words_explorer(\n",
    "    corpus,\n",
    "    category='Jevgeni Ossinovski',\n",
    "    category_name='Jevgeni Ossinovski',\n",
    "    not_category_name='Aivar Sõerd',\n",
    "    term_scorer=DeltaPPMI(0.0001, 1),\n",
    "    # metadata = rdf['movie_name'],\n",
    "    grey_threshold=0,\n",
    ")\n",
    "open('output/temp.html', 'wb').write(html.encode('utf-8'))\n",
    "IFrame(src='output/temp.html', width = 1300, height=700)"
   ]
  },
  {
   "cell_type": "code",
   "execution_count": 81,
   "metadata": {
    "colab": {
     "base_uri": "https://localhost:8080/"
    },
    "id": "7xu-1rLpZ76G",
    "outputId": "9d6e08b4-8b06-4847-c5ba-0745d9421817",
    "pycharm": {
     "name": "#%%\n"
    }
   },
   "outputs": [
    {
     "data": {
      "text/plain": [
       "['Jevgeni Ossinovski']"
      ]
     },
     "execution_count": 81,
     "metadata": {},
     "output_type": "execute_result"
    }
   ],
   "source": [
    "posnegcorpus.get_categories()"
   ]
  },
  {
   "cell_type": "code",
   "execution_count": 82,
   "metadata": {
    "id": "NPfUKmciaeri",
    "pycharm": {
     "name": "#%%\n"
    }
   },
   "outputs": [],
   "source": [
    "st.MannWhitneyU(posnegcorpus)#.set_catgories('Jevgeni Ossinovski')\n",
    "pr=st.MannWhitneyU(posnegcorpus)"
   ]
  },
  {
   "cell_type": "code",
   "execution_count": 83,
   "metadata": {
    "colab": {
     "base_uri": "https://localhost:8080/"
    },
    "id": "HxNw4YyHa21Q",
    "outputId": "bdfb61f1-5051-4e5f-9300-b9fb6d29a189",
    "pycharm": {
     "name": "#%%\n"
    }
   },
   "outputs": [
    {
     "data": {
      "text/plain": [
       "<scattertext.termscoring.MannWhitneyU.MannWhitneyU at 0x1f01d8f67f0>"
      ]
     },
     "execution_count": 83,
     "metadata": {},
     "output_type": "execute_result"
    }
   ],
   "source": [
    "pr.set_categories('Jevgeni Ossinovski')"
   ]
  },
  {
   "cell_type": "code",
   "execution_count": 86,
   "metadata": {
    "pycharm": {
     "name": "#%%\n"
    }
   },
   "outputs": [
    {
     "data": {
      "text/plain": [
       "['Jevgeni Ossinovski']"
      ]
     },
     "execution_count": 86,
     "metadata": {},
     "output_type": "execute_result"
    }
   ],
   "source": [
    "posnegcorpus.get_categories()"
   ]
  },
  {
   "cell_type": "code",
   "execution_count": 90,
   "metadata": {
    "colab": {
     "base_uri": "https://localhost:8080/",
     "height": 356
    },
    "id": "k6n23NH9fvIo",
    "outputId": "57d08014-8f70-48f1-83c5-972b190ee5e6",
    "pycharm": {
     "name": "#%%\n"
    }
   },
   "outputs": [],
   "source": [
    "# # score_df = (st.MannWhitneyU(posnegcorpus)).set_categories('Jevgeni Ossinovski', ['Aivar Sõerd'], []).get_score_df().loc[posnegcorpus.get_terms()]\n",
    "# score_df = (st.MannWhitneyU(posnegcorpus)).set_categories('Jevgeni Ossinovski', [], []).get_score_df().loc[posnegcorpus.get_terms()]\n",
    "# # score_df = st.MannWhitneyU(posnegcorpus).get_score_df().loc[posnegcorpus.get_terms()]\n",
    "# html = st.produce_frequency_explorer(\n",
    "#     posnegcorpus,\n",
    "#     category='Jevgeni Ossinovski',\n",
    "#     category_name='Jevgeni Ossinovski',\n",
    "#     not_category_name='Aivar Sõerd',\n",
    "#     y_label = 'MWU Z',\n",
    "#     scores = score_df.mwu_z,\n",
    "#     # metadata = posnegcorpus.get_df()['movie_name'],\n",
    "#     grey_threshold=0\n",
    "# )\n",
    "# open('output/temp.html', 'wb').write(html.encode('utf-8'))\n",
    "# IFrame(src='output/temp.html', width = 1300, height=700)"
   ]
  },
  {
   "cell_type": "code",
   "execution_count": 91,
   "metadata": {
    "id": "P2hb6fL5fxOe",
    "pycharm": {
     "name": "#%%\n"
    }
   },
   "outputs": [],
   "source": [
    "# score_df = st.MannWhitneyU(corpus).set_categories('Positive', ['Negative'], []).get_score_df('fdr_bh').loc[posnegcorpus.get_terms()]\n",
    "# html = st.produce_frequency_explorer(\n",
    "#     posnegcorpus,\n",
    "#     category='Positive',\n",
    "#     not_category_name='Negative',\n",
    "#     not_categories=['Negative'],\n",
    "#     y_label = 'MWU Z - FWER',\n",
    "#     scores = score_df.mwu_z,\n",
    "#     metadata = posnegcorpus.get_df()['movie_name'],\n",
    "#     grey_threshold=0\n",
    "# )\n",
    "# HTML(html)"
   ]
  },
  {
   "cell_type": "code",
   "execution_count": 92,
   "metadata": {
    "id": "ReRA2nD_f8Aa",
    "pycharm": {
     "name": "#%%\n"
    }
   },
   "outputs": [],
   "source": [
    "# score_df = st.CohensD(corpus).set_categories('Positive', ['Negative'], []).get_score_df().loc[posnegcorpus.get_terms()]\n",
    "# html = st.produce_frequency_explorer(\n",
    "#     posnegcorpus,\n",
    "#     category='Positive',\n",
    "#     not_category_name='Negative',\n",
    "#     not_categories=['Negative'],\n",
    "#     y_label = 'Cohen''s d',\n",
    "#     scores = score_df.cohens_d,\n",
    "#     metadata = posnegcorpus.get_df()['movie_name'],\n",
    "#     grey_threshold=0\n",
    "# )\n",
    "# HTML(html)"
   ]
  },
  {
   "cell_type": "code",
   "execution_count": null,
   "metadata": {
    "id": "RChs-7n8pTBd",
    "pycharm": {
     "name": "#%%\n"
    }
   },
   "outputs": [],
   "source": []
  },
  {
   "cell_type": "markdown",
   "metadata": {
    "id": "d6Hg-Dzy6XxB",
    "pycharm": {
     "name": "#%% md\n"
    }
   },
   "source": [
    "### The Semiotic Square using RankDiff and phrases from PhraseMachine"
   ]
  },
  {
   "cell_type": "code",
   "execution_count": 93,
   "metadata": {
    "colab": {
     "base_uri": "https://localhost:8080/"
    },
    "id": "OwAqJ3eb6XxD",
    "outputId": "7473b60a-b118-4205-9c64-822be18b0a66",
    "pycharm": {
     "name": "#%%\n"
    }
   },
   "outputs": [],
   "source": [
    "# spacy.cli.download(\"en_core_web_sm\")\n",
    "# nlp = spacy.load('en_core_web_sm')"
   ]
  },
  {
   "cell_type": "code",
   "execution_count": 94,
   "metadata": {
    "id": "pRc0be1-6XxJ",
    "pycharm": {
     "name": "#%%\n"
    }
   },
   "outputs": [],
   "source": [
    "# rdf['parse'] = rdf.text.apply(nlp)"
   ]
  },
  {
   "cell_type": "code",
   "execution_count": 95,
   "metadata": {
    "id": "W29xR8hi6XxN",
    "pycharm": {
     "name": "#%%\n"
    }
   },
   "outputs": [],
   "source": [
    "# phrase_corpus = (st.CorpusFromParsedDocuments(rdf,\n",
    "#                                        category_col='category_name',\n",
    "#                                        parsed_col='parse',\n",
    "#                                        feats_from_spacy_doc = st.PhraseMachinePhrases())\n",
    "#           .build())"
   ]
  },
  {
   "cell_type": "code",
   "execution_count": 96,
   "metadata": {
    "id": "-dndT07l6XxQ",
    "pycharm": {
     "name": "#%%\n"
    }
   },
   "outputs": [],
   "source": [
    "# phrase_corpus_compact = phrase_corpus.compact(st.CompactTerms(minimum_term_count=2))"
   ]
  },
  {
   "cell_type": "code",
   "execution_count": 97,
   "metadata": {
    "id": "zJ_kU0wx6XxT",
    "pycharm": {
     "name": "#%%\n"
    }
   },
   "outputs": [],
   "source": [
    "# semiotic_square = st.SemioticSquare(\n",
    "#     phrase_corpus_compact,\n",
    "#     category_a='Positive',\n",
    "#     category_b='Negative',\n",
    "#     neutral_categories=['Plot'],\n",
    "#     scorer=st.RankDifference(),\n",
    "#     labels = {'a_and_b': 'Reviews',\n",
    "#               'not_a_and_not_b': 'Plot Descriptions',\n",
    "#               'a_and_not_b': 'Positive/Plot',\n",
    "#               'b_and_not_a': 'Negative/Plot',\n",
    "#              }\n",
    "# )\n",
    "\n",
    "# html = st.produce_semiotic_square_explorer(semiotic_square,\n",
    "#                                            category_name='Positive',\n",
    "#                                            not_category_name='Negative',\n",
    "#                                            x_label='Positive-Negative',\n",
    "#                                            y_label='Review-Plot',\n",
    "#                                            minimum_term_frequency=2,\n",
    "#                                            pmi_threshold_coefficient=0,\n",
    "#                                            neutral_category_name='Plot Description',\n",
    "#                                            metadata=rdf['movie_name'])\n",
    "\n",
    "# HTML(html)"
   ]
  },
  {
   "cell_type": "code",
   "execution_count": 106,
   "metadata": {
    "id": "sAoygflh6Xxa",
    "pycharm": {
     "name": "#%%\n"
    }
   },
   "outputs": [],
   "source": [
    "# unigram_corpus_compact = unigram_corpus.compact(st.ClassPercentageCompactor(term_count=2))"
   ]
  },
  {
   "cell_type": "code",
   "execution_count": 105,
   "metadata": {
    "id": "O91DtNsc6Xxd",
    "pycharm": {
     "name": "#%%\n"
    }
   },
   "outputs": [],
   "source": [
    "# unigram_semiotic_square = st.SemioticSquare(\n",
    "#     unigram_corpus_compact,\n",
    "#     category_a='Jevgeni Ossinovski',\n",
    "#     category_b='Aivar Sõerd',\n",
    "#     neutral_categories=['Aivar Sõerd'],\n",
    "#     scorer=st.RankDifference(),\n",
    "#     labels = {'a_and_b': 'Reviews',\n",
    "#               'not_a_and_not_b': 'Plot Descriptions',\n",
    "#               'a_and_not_b': 'Positive/Plot',\n",
    "#               'b_and_not_a': 'Negative/Plot',\n",
    "#              }\n",
    "# )\n",
    "\n",
    "# html = st.produce_semiotic_square_explorer(unigram_semiotic_square,\n",
    "#                                            category_name='Jevgeni Ossinovski',\n",
    "#                                            not_category_name='Aivar Sõerd',\n",
    "#                                            x_label='Jevgeni-Aivar',\n",
    "#                                            y_label='Review-Plot',\n",
    "#                                            minimum_term_frequency=2,\n",
    "#                                            pmi_threshold_coefficient=0,\n",
    "#                                            neutral_category_name='Plot Description',\n",
    "# #                                            metadata=rdf['movie_name']\n",
    "#                                           )\n",
    "\n",
    "# open('output/temp.html', 'wb').write(html.encode('utf-8'))\n",
    "# IFrame(src='output/temp.html', width = 1300, height=700)"
   ]
  },
  {
   "cell_type": "code",
   "execution_count": null,
   "metadata": {
    "pycharm": {
     "name": "#%%\n"
    }
   },
   "outputs": [],
   "source": []
  }
 ],
 "metadata": {
  "colab": {
   "collapsed_sections": [
    "d6Hg-Dzy6XxB"
   ],
   "provenance": []
  },
  "kernelspec": {
   "display_name": "Python 3 (ipykernel)",
   "language": "python",
   "name": "python3"
  },
  "language_info": {
   "codemirror_mode": {
    "name": "ipython",
    "version": 3
   },
   "file_extension": ".py",
   "mimetype": "text/x-python",
   "name": "python",
   "nbconvert_exporter": "python",
   "pygments_lexer": "ipython3",
   "version": "3.9.12"
  }
 },
 "nbformat": 4,
 "nbformat_minor": 1
}