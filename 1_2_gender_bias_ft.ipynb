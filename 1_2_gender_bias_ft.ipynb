{
 "cells": [
  {
   "cell_type": "code",
   "execution_count": 1,
   "id": "a6cc912b",
   "metadata": {},
   "outputs": [],
   "source": [
    "import math\n",
    "import gensim\n",
    "import umap\n",
    "import hdbscan\n",
    "import numpy as np\n",
    "import pandas as pd\n",
    "from ast import literal_eval\n",
    "from collections import Counter\n",
    "from sklearn.cluster import AgglomerativeClustering\n",
    "from src.gender_bias import SC_WEAT, get_word_vecs"
   ]
  },
  {
   "cell_type": "markdown",
   "id": "99345190",
   "metadata": {},
   "source": [
    "## Load wordvectors"
   ]
  },
  {
   "cell_type": "code",
   "execution_count": 89,
   "id": "2eb4945c",
   "metadata": {},
   "outputs": [],
   "source": [
    "vecs_w2v=gensim.models.KeyedVectors.load('wordvectors/riigikogu_ft.wordvectors')"
   ]
  },
  {
   "cell_type": "code",
   "execution_count": 90,
   "id": "2d239532",
   "metadata": {},
   "outputs": [
    {
     "data": {
      "text/plain": [
       "(1, 300)"
      ]
     },
     "execution_count": 90,
     "metadata": {},
     "output_type": "execute_result"
    }
   ],
   "source": [
    "np.expand_dims(vecs_w2v['õed'], axis=0).shape"
   ]
  },
  {
   "cell_type": "code",
   "execution_count": 155,
   "id": "0d5001f8",
   "metadata": {},
   "outputs": [
    {
     "data": {
      "text/plain": [
       "[('koolkond', 0.8596926331520081),\n",
       " ('e-kool', 0.8544713854789734),\n",
       " ('keskkool', 0.8158486485481262),\n",
       " ('koolilaps', 0.8155820965766907),\n",
       " ('koolipoiss', 0.8018566370010376),\n",
       " ('koolibuss', 0.7951183915138245),\n",
       " ('balletikool', 0.7884907722473145),\n",
       " ('kunstikool', 0.7793153524398804),\n",
       " ('algkool', 0.7788565754890442),\n",
       " ('koolivend', 0.7765803933143616)]"
      ]
     },
     "execution_count": 155,
     "metadata": {},
     "output_type": "execute_result"
    }
   ],
   "source": [
    "vecs_w2v.most_similar('kool')"
   ]
  },
  {
   "cell_type": "markdown",
   "id": "c2dddafa",
   "metadata": {},
   "source": [
    "## Get word vectors"
   ]
  },
  {
   "cell_type": "code",
   "execution_count": 93,
   "id": "100c8b04",
   "metadata": {},
   "outputs": [
    {
     "data": {
      "text/plain": [
       "True"
      ]
     },
     "execution_count": 93,
     "metadata": {},
     "output_type": "execute_result"
    }
   ],
   "source": [
    "#Attribute Words\n",
    "female_stimuli = ['naise','naine','tüdruk','tüdruku','õde', 'naiste','naistele','naist','õed','tütar', 'naisterahvas', 'tüdrukud', 'tüdrukute', 'ema', 'emad', 'naistel', 'üksikema']\n",
    "male_stimuli = ['mehe','mees','poiss','poisi', 'vend', 'meeste','meestele','meest','vennad','poeg', 'meesterahvas', 'poisid', 'poiste', 'isa', 'isad', 'meestel', 'üksikisa']\n",
    "\n",
    "len(set(female_stimuli))==len(set(male_stimuli))"
   ]
  },
  {
   "cell_type": "code",
   "execution_count": 95,
   "id": "799dd917",
   "metadata": {},
   "outputs": [
    {
     "name": "stdout",
     "output_type": "stream",
     "text": [
      "working on word 0\n",
      "working on word 0\n"
     ]
    }
   ],
   "source": [
    "female_embeddings=get_word_vecs(vecs_w2v, female_stimuli)\n",
    "male_embeddings=get_word_vecs(vecs_w2v, male_stimuli)"
   ]
  },
  {
   "cell_type": "code",
   "execution_count": 96,
   "id": "0158a470",
   "metadata": {},
   "outputs": [
    {
     "data": {
      "text/plain": [
       "((17, 300), (17, 300))"
      ]
     },
     "execution_count": 96,
     "metadata": {},
     "output_type": "execute_result"
    }
   ],
   "source": [
    "female_embeddings.shape, male_embeddings.shape"
   ]
  },
  {
   "cell_type": "markdown",
   "id": "607e749e",
   "metadata": {},
   "source": [
    "## Get target words - use frequency and remove stopwords"
   ]
  },
  {
   "cell_type": "code",
   "execution_count": 97,
   "id": "48db438d",
   "metadata": {},
   "outputs": [
    {
     "data": {
      "text/plain": [
       "(209949, 25)"
      ]
     },
     "execution_count": 97,
     "metadata": {},
     "output_type": "execute_result"
    }
   ],
   "source": [
    "df=pd.read_csv('data/interim/stenos_cleaned_topics_vecs.csv')\n",
    "df.shape"
   ]
  },
  {
   "cell_type": "code",
   "execution_count": 98,
   "id": "0bf63fdf",
   "metadata": {},
   "outputs": [
    {
     "data": {
      "text/plain": [
       "\"['auväärt', 'kolleegid', ',', 'auväärt', 'riigikogu', ',', 'tere', 'hommikust', '!', 'kui', 'te', 'nüüd', 'korraks', 'jälle', 'keskendute', 'meie', 'suurepärase', 'istungi', 'rakendamisele', 'ja', 'räägite', 'omavahelisi', 'jutte', 'edasi', 'pärast', ',', 'siis', 'on', 'mul', 'suur', 'rõõm', 'avada', 'riigikogu', 'täiskogu', 'ii', 'istungjärgu', '9.', 'töönädala', 'teisipäevane', 'istung', '.', 'kõigepealt', 'on', 'eelnõude', 'ja', 'arupärimiste', 'üleandmine', ',', 'kui', 'selleks', 'on', 'soovi', '.', 'eelnõude', 'ja', 'arupärimiste', 'üleandmise', 'soovi', 'ma', 'ei', 'näe', '.', 'siis', 'teeme', 'palun', 'kohaloleku', 'kontrolli', '.', 'kohaloleku', 'kontroll', 'kohal', 'on', '75', 'riigikogu', 'liiget', ',', 'puudub', '26.', 'sellest', 'piisab', 'täielikult', ',', 'et', 'asuda', 'meie', 'päevakorra', 'arutelu', 'juurde', '.']\""
      ]
     },
     "execution_count": 98,
     "metadata": {},
     "output_type": "execute_result"
    }
   ],
   "source": [
    "df.tokes[0]"
   ]
  },
  {
   "cell_type": "code",
   "execution_count": 99,
   "id": "1be39514",
   "metadata": {},
   "outputs": [
    {
     "name": "stdout",
     "output_type": "stream",
     "text": [
      "5295\n"
     ]
    }
   ],
   "source": [
    "with open('utils/estonian-stopwords.txt', encoding='utf-8') as f:\n",
    "    stopwords=f.read().split('\\n')\n",
    "print(len(stopwords))  \n",
    "with open('utils/estonian-stopwords_additional.txt', encoding='utf-8') as f:\n",
    "    stopwords_addit=f.read().split('\\n')\n",
    "    \n",
    "stopwords.extend(stopwords_addit)\n",
    "stopwords.extend(['.', ',', '!', '?', ':', ';', ')', '(', '-', ']', '[', '...', '–,'])\n",
    "stopwords.extend(female_stimuli)\n",
    "stopwords.extend(male_stimuli)"
   ]
  },
  {
   "cell_type": "code",
   "execution_count": 100,
   "id": "13b0f056",
   "metadata": {},
   "outputs": [],
   "source": [
    "tokens=df.tokes.apply(literal_eval).tolist()\n",
    "tokens=[item for sublist in tokens for item in sublist]"
   ]
  },
  {
   "cell_type": "code",
   "execution_count": 101,
   "id": "60973a09",
   "metadata": {},
   "outputs": [
    {
     "data": {
      "text/plain": [
       "(25252052, 420801)"
      ]
     },
     "execution_count": 101,
     "metadata": {},
     "output_type": "execute_result"
    }
   ],
   "source": [
    "len(tokens), len(set(tokens))"
   ]
  },
  {
   "cell_type": "code",
   "execution_count": 102,
   "id": "00acc090",
   "metadata": {},
   "outputs": [
    {
     "name": "stdout",
     "output_type": "stream",
     "text": [
      "CPU times: total: 2.25 s\n",
      "Wall time: 2.25 s\n"
     ]
    }
   ],
   "source": [
    "%time cnt=Counter(tokens)"
   ]
  },
  {
   "cell_type": "code",
   "execution_count": 103,
   "id": "44c8f6dc",
   "metadata": {},
   "outputs": [
    {
     "data": {
      "text/plain": [
       "0"
      ]
     },
     "execution_count": 103,
     "metadata": {},
     "output_type": "execute_result"
    }
   ],
   "source": [
    "cnt['vanapoiss']"
   ]
  },
  {
   "cell_type": "code",
   "execution_count": 104,
   "id": "c4a8cb32",
   "metadata": {},
   "outputs": [
    {
     "data": {
      "text/plain": [
       "['euroopa',\n",
       " 'seaduse',\n",
       " 'raha',\n",
       " 'eurot',\n",
       " 'küsimusi',\n",
       " 'tänan',\n",
       " 'kolleeg',\n",
       " 'ettepaneku',\n",
       " 'inimesi',\n",
       " 'fraktsiooni']"
      ]
     },
     "execution_count": 104,
     "metadata": {},
     "output_type": "execute_result"
    }
   ],
   "source": [
    "MIN_COUNT=20\n",
    "most_common_tokens_cnt=cnt.most_common(100000)\n",
    "most_common_tokens_cnt=[el for el in most_common_tokens_cnt if el[1]>=MIN_COUNT]\n",
    "most_common_tokens=[el[0] for el in most_common_tokens_cnt if el[0] not in stopwords]\n",
    "most_common_tokens=[el for el in most_common_tokens if el in vecs_w2v]\n",
    "most_common_tokens[:10]"
   ]
  },
  {
   "cell_type": "code",
   "execution_count": 105,
   "id": "619c629a",
   "metadata": {},
   "outputs": [
    {
     "data": {
      "text/plain": [
       "40560"
      ]
     },
     "execution_count": 105,
     "metadata": {},
     "output_type": "execute_result"
    }
   ],
   "source": [
    "len(most_common_tokens)"
   ]
  },
  {
   "cell_type": "markdown",
   "id": "aed3e4b9",
   "metadata": {},
   "source": [
    "## Calculate WEATS"
   ]
  },
  {
   "cell_type": "code",
   "execution_count": 107,
   "id": "e637ae16",
   "metadata": {},
   "outputs": [],
   "source": [
    "STEP = 10000\n",
    "N_ITERS=math.ceil(len(most_common_tokens)/STEP)\n",
    "PERMUTATIONS = 10000"
   ]
  },
  {
   "cell_type": "code",
   "execution_count": 109,
   "id": "17621e23",
   "metadata": {},
   "outputs": [
    {
     "name": "stdout",
     "output_type": "stream",
     "text": [
      "0\n"
     ]
    },
    {
     "name": "stderr",
     "output_type": "stream",
     "text": [
      "C:\\Users\\RistoHinno\\AppData\\Local\\Temp\\ipykernel_25692\\3901138716.py:8: FutureWarning: The frame.append method is deprecated and will be removed from pandas in a future version. Use pandas.concat instead.\n",
      "  df_bias=df_bias.append(bias_df_)\n"
     ]
    },
    {
     "name": "stdout",
     "output_type": "stream",
     "text": [
      "1\n"
     ]
    },
    {
     "name": "stderr",
     "output_type": "stream",
     "text": [
      "C:\\Users\\RistoHinno\\AppData\\Local\\Temp\\ipykernel_25692\\3901138716.py:8: FutureWarning: The frame.append method is deprecated and will be removed from pandas in a future version. Use pandas.concat instead.\n",
      "  df_bias=df_bias.append(bias_df_)\n"
     ]
    },
    {
     "name": "stdout",
     "output_type": "stream",
     "text": [
      "2\n"
     ]
    },
    {
     "name": "stderr",
     "output_type": "stream",
     "text": [
      "C:\\Users\\RistoHinno\\AppData\\Local\\Temp\\ipykernel_25692\\3901138716.py:8: FutureWarning: The frame.append method is deprecated and will be removed from pandas in a future version. Use pandas.concat instead.\n",
      "  df_bias=df_bias.append(bias_df_)\n"
     ]
    },
    {
     "name": "stdout",
     "output_type": "stream",
     "text": [
      "3\n"
     ]
    },
    {
     "name": "stderr",
     "output_type": "stream",
     "text": [
      "C:\\Users\\RistoHinno\\AppData\\Local\\Temp\\ipykernel_25692\\3901138716.py:8: FutureWarning: The frame.append method is deprecated and will be removed from pandas in a future version. Use pandas.concat instead.\n",
      "  df_bias=df_bias.append(bias_df_)\n"
     ]
    },
    {
     "name": "stdout",
     "output_type": "stream",
     "text": [
      "4\n"
     ]
    },
    {
     "name": "stderr",
     "output_type": "stream",
     "text": [
      "C:\\Users\\RistoHinno\\AppData\\Local\\Temp\\ipykernel_25692\\3901138716.py:8: FutureWarning: The frame.append method is deprecated and will be removed from pandas in a future version. Use pandas.concat instead.\n",
      "  df_bias=df_bias.append(bias_df_)\n"
     ]
    }
   ],
   "source": [
    "df_bias=pd.DataFrame()\n",
    "for i in range(N_ITERS):\n",
    "    print(i)\n",
    "    targets = most_common_tokens[i*STEP:(i+1)*STEP]\n",
    "    bias_array = np.array([SC_WEAT(vecs_w2v[word],\n",
    "                                   female_embeddings, male_embeddings,PERMUTATIONS) for word in targets])\n",
    "    bias_df_ = pd.DataFrame(bias_array, columns=['female_effect_size','female_p_value'])\n",
    "    df_bias=df_bias.append(bias_df_)"
   ]
  },
  {
   "cell_type": "code",
   "execution_count": 110,
   "id": "5d2cd9fb",
   "metadata": {},
   "outputs": [],
   "source": [
    "df_bias.index=most_common_tokens"
   ]
  },
  {
   "cell_type": "code",
   "execution_count": 111,
   "id": "6b9ee10a",
   "metadata": {},
   "outputs": [
    {
     "data": {
      "text/html": [
       "<div>\n",
       "<style scoped>\n",
       "    .dataframe tbody tr th:only-of-type {\n",
       "        vertical-align: middle;\n",
       "    }\n",
       "\n",
       "    .dataframe tbody tr th {\n",
       "        vertical-align: top;\n",
       "    }\n",
       "\n",
       "    .dataframe thead th {\n",
       "        text-align: right;\n",
       "    }\n",
       "</style>\n",
       "<table border=\"1\" class=\"dataframe\">\n",
       "  <thead>\n",
       "    <tr style=\"text-align: right;\">\n",
       "      <th></th>\n",
       "      <th>female_effect_size</th>\n",
       "      <th>female_p_value</th>\n",
       "    </tr>\n",
       "  </thead>\n",
       "  <tbody>\n",
       "    <tr>\n",
       "      <th>psüühika-</th>\n",
       "      <td>1.337927</td>\n",
       "      <td>0.000043</td>\n",
       "    </tr>\n",
       "    <tr>\n",
       "      <th>psüühikahäirega</th>\n",
       "      <td>1.164181</td>\n",
       "      <td>0.000307</td>\n",
       "    </tr>\n",
       "    <tr>\n",
       "      <th>õppe-</th>\n",
       "      <td>1.086988</td>\n",
       "      <td>0.000781</td>\n",
       "    </tr>\n",
       "    <tr>\n",
       "      <th>psüühikahäire</th>\n",
       "      <td>1.078061</td>\n",
       "      <td>0.000909</td>\n",
       "    </tr>\n",
       "    <tr>\n",
       "      <th>kehvemasse</th>\n",
       "      <td>1.007580</td>\n",
       "      <td>0.001547</td>\n",
       "    </tr>\n",
       "    <tr>\n",
       "      <th>nooremas</th>\n",
       "      <td>0.993021</td>\n",
       "      <td>0.001899</td>\n",
       "    </tr>\n",
       "    <tr>\n",
       "      <th>täiskasvanu</th>\n",
       "      <td>0.960464</td>\n",
       "      <td>0.002331</td>\n",
       "    </tr>\n",
       "    <tr>\n",
       "      <th>täiskasvanuna</th>\n",
       "      <td>0.941072</td>\n",
       "      <td>0.003254</td>\n",
       "    </tr>\n",
       "    <tr>\n",
       "      <th>õppejõu</th>\n",
       "      <td>0.930382</td>\n",
       "      <td>0.003201</td>\n",
       "    </tr>\n",
       "    <tr>\n",
       "      <th>neiu</th>\n",
       "      <td>0.922881</td>\n",
       "      <td>0.003975</td>\n",
       "    </tr>\n",
       "    <tr>\n",
       "      <th>kehvemal</th>\n",
       "      <td>0.905584</td>\n",
       "      <td>0.004274</td>\n",
       "    </tr>\n",
       "    <tr>\n",
       "      <th>täiskasvanuks</th>\n",
       "      <td>0.899256</td>\n",
       "      <td>0.004653</td>\n",
       "    </tr>\n",
       "    <tr>\n",
       "      <th>täiskasvanut</th>\n",
       "      <td>0.896383</td>\n",
       "      <td>0.004365</td>\n",
       "    </tr>\n",
       "    <tr>\n",
       "      <th>kehvemas</th>\n",
       "      <td>0.888232</td>\n",
       "      <td>0.004608</td>\n",
       "    </tr>\n",
       "    <tr>\n",
       "      <th>raskemasse</th>\n",
       "      <td>0.888102</td>\n",
       "      <td>0.004989</td>\n",
       "    </tr>\n",
       "    <tr>\n",
       "      <th>noorema</th>\n",
       "      <td>0.882632</td>\n",
       "      <td>0.004989</td>\n",
       "    </tr>\n",
       "    <tr>\n",
       "      <th>tavakooli</th>\n",
       "      <td>0.875551</td>\n",
       "      <td>0.005139</td>\n",
       "    </tr>\n",
       "    <tr>\n",
       "      <th>piinlikum</th>\n",
       "      <td>0.873575</td>\n",
       "      <td>0.004870</td>\n",
       "    </tr>\n",
       "    <tr>\n",
       "      <th>kehvem</th>\n",
       "      <td>0.872345</td>\n",
       "      <td>0.005460</td>\n",
       "    </tr>\n",
       "    <tr>\n",
       "      <th>halvemasse</th>\n",
       "      <td>0.869565</td>\n",
       "      <td>0.004945</td>\n",
       "    </tr>\n",
       "    <tr>\n",
       "      <th>õppesse</th>\n",
       "      <td>0.868800</td>\n",
       "      <td>0.005779</td>\n",
       "    </tr>\n",
       "    <tr>\n",
       "      <th>b2</th>\n",
       "      <td>0.866227</td>\n",
       "      <td>0.006111</td>\n",
       "    </tr>\n",
       "    <tr>\n",
       "      <th>erikooli</th>\n",
       "      <td>0.862319</td>\n",
       "      <td>0.005505</td>\n",
       "    </tr>\n",
       "    <tr>\n",
       "      <th>kodu-</th>\n",
       "      <td>0.847272</td>\n",
       "      <td>0.006040</td>\n",
       "    </tr>\n",
       "    <tr>\n",
       "      <th>kersna</th>\n",
       "      <td>0.837932</td>\n",
       "      <td>0.007596</td>\n",
       "    </tr>\n",
       "    <tr>\n",
       "      <th>põhikooli</th>\n",
       "      <td>0.834697</td>\n",
       "      <td>0.006835</td>\n",
       "    </tr>\n",
       "    <tr>\n",
       "      <th>doktoriõpe</th>\n",
       "      <td>0.831780</td>\n",
       "      <td>0.007353</td>\n",
       "    </tr>\n",
       "    <tr>\n",
       "      <th>aabi</th>\n",
       "      <td>0.828544</td>\n",
       "      <td>0.008036</td>\n",
       "    </tr>\n",
       "    <tr>\n",
       "      <th>kbfi</th>\n",
       "      <td>0.823782</td>\n",
       "      <td>0.007605</td>\n",
       "    </tr>\n",
       "    <tr>\n",
       "      <th>eriala</th>\n",
       "      <td>0.822071</td>\n",
       "      <td>0.008103</td>\n",
       "    </tr>\n",
       "  </tbody>\n",
       "</table>\n",
       "</div>"
      ],
      "text/plain": [
       "                 female_effect_size  female_p_value\n",
       "psüühika-                  1.337927        0.000043\n",
       "psüühikahäirega            1.164181        0.000307\n",
       "õppe-                      1.086988        0.000781\n",
       "psüühikahäire              1.078061        0.000909\n",
       "kehvemasse                 1.007580        0.001547\n",
       "nooremas                   0.993021        0.001899\n",
       "täiskasvanu                0.960464        0.002331\n",
       "täiskasvanuna              0.941072        0.003254\n",
       "õppejõu                    0.930382        0.003201\n",
       "neiu                       0.922881        0.003975\n",
       "kehvemal                   0.905584        0.004274\n",
       "täiskasvanuks              0.899256        0.004653\n",
       "täiskasvanut               0.896383        0.004365\n",
       "kehvemas                   0.888232        0.004608\n",
       "raskemasse                 0.888102        0.004989\n",
       "noorema                    0.882632        0.004989\n",
       "tavakooli                  0.875551        0.005139\n",
       "piinlikum                  0.873575        0.004870\n",
       "kehvem                     0.872345        0.005460\n",
       "halvemasse                 0.869565        0.004945\n",
       "õppesse                    0.868800        0.005779\n",
       "b2                         0.866227        0.006111\n",
       "erikooli                   0.862319        0.005505\n",
       "kodu-                      0.847272        0.006040\n",
       "kersna                     0.837932        0.007596\n",
       "põhikooli                  0.834697        0.006835\n",
       "doktoriõpe                 0.831780        0.007353\n",
       "aabi                       0.828544        0.008036\n",
       "kbfi                       0.823782        0.007605\n",
       "eriala                     0.822071        0.008103"
      ]
     },
     "execution_count": 111,
     "metadata": {},
     "output_type": "execute_result"
    }
   ],
   "source": [
    "df_bias[(df_bias.female_effect_size>.5)&(df_bias.female_p_value<.05)].sort_values('female_effect_size', ascending=False).head(30)"
   ]
  },
  {
   "cell_type": "markdown",
   "id": "6e6f5b7d",
   "metadata": {},
   "source": [
    "## Save"
   ]
  },
  {
   "cell_type": "code",
   "execution_count": 112,
   "id": "27917b7b",
   "metadata": {},
   "outputs": [],
   "source": [
    "df_bias.to_csv('data/interim/gender_bias/words_female_scores_ft_v2.csv')"
   ]
  },
  {
   "cell_type": "markdown",
   "id": "804206c6",
   "metadata": {},
   "source": [
    "## Load "
   ]
  },
  {
   "cell_type": "code",
   "execution_count": 113,
   "id": "b6dc074b",
   "metadata": {},
   "outputs": [
    {
     "data": {
      "text/plain": [
       "(40560, 2)"
      ]
     },
     "execution_count": 113,
     "metadata": {},
     "output_type": "execute_result"
    }
   ],
   "source": [
    "df_bias=pd.read_csv('data/interim/gender_bias/words_female_scores_ft_v2.csv', index_col=0)\n",
    "df_bias.shape"
   ]
  },
  {
   "cell_type": "code",
   "execution_count": 114,
   "id": "95da4cb2",
   "metadata": {},
   "outputs": [
    {
     "data": {
      "text/html": [
       "<div>\n",
       "<style scoped>\n",
       "    .dataframe tbody tr th:only-of-type {\n",
       "        vertical-align: middle;\n",
       "    }\n",
       "\n",
       "    .dataframe tbody tr th {\n",
       "        vertical-align: top;\n",
       "    }\n",
       "\n",
       "    .dataframe thead th {\n",
       "        text-align: right;\n",
       "    }\n",
       "</style>\n",
       "<table border=\"1\" class=\"dataframe\">\n",
       "  <thead>\n",
       "    <tr style=\"text-align: right;\">\n",
       "      <th></th>\n",
       "      <th>female_effect_size</th>\n",
       "      <th>female_p_value</th>\n",
       "    </tr>\n",
       "  </thead>\n",
       "  <tbody>\n",
       "    <tr>\n",
       "      <th>euroopa</th>\n",
       "      <td>0.162927</td>\n",
       "      <td>0.320740</td>\n",
       "    </tr>\n",
       "    <tr>\n",
       "      <th>seaduse</th>\n",
       "      <td>0.167700</td>\n",
       "      <td>0.311534</td>\n",
       "    </tr>\n",
       "    <tr>\n",
       "      <th>raha</th>\n",
       "      <td>-0.516739</td>\n",
       "      <td>0.933825</td>\n",
       "    </tr>\n",
       "    <tr>\n",
       "      <th>eurot</th>\n",
       "      <td>0.107782</td>\n",
       "      <td>0.379906</td>\n",
       "    </tr>\n",
       "    <tr>\n",
       "      <th>küsimusi</th>\n",
       "      <td>-0.215929</td>\n",
       "      <td>0.737552</td>\n",
       "    </tr>\n",
       "    <tr>\n",
       "      <th>...</th>\n",
       "      <td>...</td>\n",
       "      <td>...</td>\n",
       "    </tr>\n",
       "    <tr>\n",
       "      <th>lasketiiru</th>\n",
       "      <td>-0.219089</td>\n",
       "      <td>0.739115</td>\n",
       "    </tr>\n",
       "    <tr>\n",
       "      <th>käsimüügiravimite</th>\n",
       "      <td>0.232356</td>\n",
       "      <td>0.249476</td>\n",
       "    </tr>\n",
       "    <tr>\n",
       "      <th>baskini</th>\n",
       "      <td>-0.367254</td>\n",
       "      <td>0.857242</td>\n",
       "    </tr>\n",
       "    <tr>\n",
       "      <th>c2</th>\n",
       "      <td>0.699231</td>\n",
       "      <td>0.020415</td>\n",
       "    </tr>\n",
       "    <tr>\n",
       "      <th>1.8</th>\n",
       "      <td>0.253974</td>\n",
       "      <td>0.227613</td>\n",
       "    </tr>\n",
       "  </tbody>\n",
       "</table>\n",
       "<p>40560 rows × 2 columns</p>\n",
       "</div>"
      ],
      "text/plain": [
       "                   female_effect_size  female_p_value\n",
       "euroopa                      0.162927        0.320740\n",
       "seaduse                      0.167700        0.311534\n",
       "raha                        -0.516739        0.933825\n",
       "eurot                        0.107782        0.379906\n",
       "küsimusi                    -0.215929        0.737552\n",
       "...                               ...             ...\n",
       "lasketiiru                  -0.219089        0.739115\n",
       "käsimüügiravimite            0.232356        0.249476\n",
       "baskini                     -0.367254        0.857242\n",
       "c2                           0.699231        0.020415\n",
       "1.8                          0.253974        0.227613\n",
       "\n",
       "[40560 rows x 2 columns]"
      ]
     },
     "execution_count": 114,
     "metadata": {},
     "output_type": "execute_result"
    }
   ],
   "source": [
    "df_bias"
   ]
  },
  {
   "cell_type": "code",
   "execution_count": 115,
   "id": "7d87103d",
   "metadata": {},
   "outputs": [
    {
     "data": {
      "text/plain": [
       "(331, 2)"
      ]
     },
     "execution_count": 115,
     "metadata": {},
     "output_type": "execute_result"
    }
   ],
   "source": [
    "df_bias_female=df_bias[(df_bias.female_effect_size>=.5)&(df_bias.female_p_value<=.05)].sort_values('female_effect_size', ascending=False)\n",
    "df_bias_female.shape"
   ]
  },
  {
   "cell_type": "code",
   "execution_count": 116,
   "id": "b0fe8234",
   "metadata": {},
   "outputs": [
    {
     "data": {
      "text/html": [
       "<div>\n",
       "<style scoped>\n",
       "    .dataframe tbody tr th:only-of-type {\n",
       "        vertical-align: middle;\n",
       "    }\n",
       "\n",
       "    .dataframe tbody tr th {\n",
       "        vertical-align: top;\n",
       "    }\n",
       "\n",
       "    .dataframe thead th {\n",
       "        text-align: right;\n",
       "    }\n",
       "</style>\n",
       "<table border=\"1\" class=\"dataframe\">\n",
       "  <thead>\n",
       "    <tr style=\"text-align: right;\">\n",
       "      <th></th>\n",
       "      <th>female_effect_size</th>\n",
       "      <th>female_p_value</th>\n",
       "    </tr>\n",
       "  </thead>\n",
       "  <tbody>\n",
       "    <tr>\n",
       "      <th>psüühika-</th>\n",
       "      <td>1.337927</td>\n",
       "      <td>0.000043</td>\n",
       "    </tr>\n",
       "    <tr>\n",
       "      <th>psüühikahäirega</th>\n",
       "      <td>1.164181</td>\n",
       "      <td>0.000307</td>\n",
       "    </tr>\n",
       "    <tr>\n",
       "      <th>õppe-</th>\n",
       "      <td>1.086988</td>\n",
       "      <td>0.000781</td>\n",
       "    </tr>\n",
       "    <tr>\n",
       "      <th>psüühikahäire</th>\n",
       "      <td>1.078061</td>\n",
       "      <td>0.000909</td>\n",
       "    </tr>\n",
       "    <tr>\n",
       "      <th>kehvemasse</th>\n",
       "      <td>1.007580</td>\n",
       "      <td>0.001547</td>\n",
       "    </tr>\n",
       "    <tr>\n",
       "      <th>nooremas</th>\n",
       "      <td>0.993021</td>\n",
       "      <td>0.001899</td>\n",
       "    </tr>\n",
       "    <tr>\n",
       "      <th>täiskasvanu</th>\n",
       "      <td>0.960464</td>\n",
       "      <td>0.002331</td>\n",
       "    </tr>\n",
       "    <tr>\n",
       "      <th>täiskasvanuna</th>\n",
       "      <td>0.941072</td>\n",
       "      <td>0.003254</td>\n",
       "    </tr>\n",
       "    <tr>\n",
       "      <th>õppejõu</th>\n",
       "      <td>0.930382</td>\n",
       "      <td>0.003201</td>\n",
       "    </tr>\n",
       "    <tr>\n",
       "      <th>neiu</th>\n",
       "      <td>0.922881</td>\n",
       "      <td>0.003975</td>\n",
       "    </tr>\n",
       "    <tr>\n",
       "      <th>kehvemal</th>\n",
       "      <td>0.905584</td>\n",
       "      <td>0.004274</td>\n",
       "    </tr>\n",
       "    <tr>\n",
       "      <th>täiskasvanuks</th>\n",
       "      <td>0.899256</td>\n",
       "      <td>0.004653</td>\n",
       "    </tr>\n",
       "    <tr>\n",
       "      <th>täiskasvanut</th>\n",
       "      <td>0.896383</td>\n",
       "      <td>0.004365</td>\n",
       "    </tr>\n",
       "    <tr>\n",
       "      <th>kehvemas</th>\n",
       "      <td>0.888232</td>\n",
       "      <td>0.004608</td>\n",
       "    </tr>\n",
       "    <tr>\n",
       "      <th>raskemasse</th>\n",
       "      <td>0.888102</td>\n",
       "      <td>0.004989</td>\n",
       "    </tr>\n",
       "    <tr>\n",
       "      <th>noorema</th>\n",
       "      <td>0.882632</td>\n",
       "      <td>0.004989</td>\n",
       "    </tr>\n",
       "    <tr>\n",
       "      <th>tavakooli</th>\n",
       "      <td>0.875551</td>\n",
       "      <td>0.005139</td>\n",
       "    </tr>\n",
       "    <tr>\n",
       "      <th>piinlikum</th>\n",
       "      <td>0.873575</td>\n",
       "      <td>0.004870</td>\n",
       "    </tr>\n",
       "    <tr>\n",
       "      <th>kehvem</th>\n",
       "      <td>0.872345</td>\n",
       "      <td>0.005460</td>\n",
       "    </tr>\n",
       "    <tr>\n",
       "      <th>halvemasse</th>\n",
       "      <td>0.869565</td>\n",
       "      <td>0.004945</td>\n",
       "    </tr>\n",
       "  </tbody>\n",
       "</table>\n",
       "</div>"
      ],
      "text/plain": [
       "                 female_effect_size  female_p_value\n",
       "psüühika-                  1.337927        0.000043\n",
       "psüühikahäirega            1.164181        0.000307\n",
       "õppe-                      1.086988        0.000781\n",
       "psüühikahäire              1.078061        0.000909\n",
       "kehvemasse                 1.007580        0.001547\n",
       "nooremas                   0.993021        0.001899\n",
       "täiskasvanu                0.960464        0.002331\n",
       "täiskasvanuna              0.941072        0.003254\n",
       "õppejõu                    0.930382        0.003201\n",
       "neiu                       0.922881        0.003975\n",
       "kehvemal                   0.905584        0.004274\n",
       "täiskasvanuks              0.899256        0.004653\n",
       "täiskasvanut               0.896383        0.004365\n",
       "kehvemas                   0.888232        0.004608\n",
       "raskemasse                 0.888102        0.004989\n",
       "noorema                    0.882632        0.004989\n",
       "tavakooli                  0.875551        0.005139\n",
       "piinlikum                  0.873575        0.004870\n",
       "kehvem                     0.872345        0.005460\n",
       "halvemasse                 0.869565        0.004945"
      ]
     },
     "execution_count": 116,
     "metadata": {},
     "output_type": "execute_result"
    }
   ],
   "source": [
    "df_bias_female.head(20)"
   ]
  },
  {
   "cell_type": "code",
   "execution_count": 156,
   "id": "3efa8c72",
   "metadata": {},
   "outputs": [
    {
     "data": {
      "text/plain": [
       "(1330, 2)"
      ]
     },
     "execution_count": 156,
     "metadata": {},
     "output_type": "execute_result"
    }
   ],
   "source": [
    "df_bias_male=df_bias[(df_bias.female_effect_size<=-.5)&(df_bias.female_p_value>=.95)].sort_values('female_effect_size', ascending=True)\n",
    "df_bias_male.shape"
   ]
  },
  {
   "cell_type": "code",
   "execution_count": 157,
   "id": "cb6f201a",
   "metadata": {},
   "outputs": [
    {
     "data": {
      "text/html": [
       "<div>\n",
       "<style scoped>\n",
       "    .dataframe tbody tr th:only-of-type {\n",
       "        vertical-align: middle;\n",
       "    }\n",
       "\n",
       "    .dataframe tbody tr th {\n",
       "        vertical-align: top;\n",
       "    }\n",
       "\n",
       "    .dataframe thead th {\n",
       "        text-align: right;\n",
       "    }\n",
       "</style>\n",
       "<table border=\"1\" class=\"dataframe\">\n",
       "  <thead>\n",
       "    <tr style=\"text-align: right;\">\n",
       "      <th></th>\n",
       "      <th>female_effect_size</th>\n",
       "      <th>female_p_value</th>\n",
       "    </tr>\n",
       "  </thead>\n",
       "  <tbody>\n",
       "    <tr>\n",
       "      <th>loosungiga</th>\n",
       "      <td>-1.244283</td>\n",
       "      <td>0.999865</td>\n",
       "    </tr>\n",
       "    <tr>\n",
       "      <th>tormata</th>\n",
       "      <td>-1.202379</td>\n",
       "      <td>0.999771</td>\n",
       "    </tr>\n",
       "    <tr>\n",
       "      <th>ideena</th>\n",
       "      <td>-1.183721</td>\n",
       "      <td>0.999731</td>\n",
       "    </tr>\n",
       "    <tr>\n",
       "      <th>nimekiri</th>\n",
       "      <td>-1.166723</td>\n",
       "      <td>0.999666</td>\n",
       "    </tr>\n",
       "    <tr>\n",
       "      <th>toompea</th>\n",
       "      <td>-1.161083</td>\n",
       "      <td>0.999634</td>\n",
       "    </tr>\n",
       "    <tr>\n",
       "      <th>tuld</th>\n",
       "      <td>-1.160888</td>\n",
       "      <td>0.999632</td>\n",
       "    </tr>\n",
       "    <tr>\n",
       "      <th>lipu</th>\n",
       "      <td>-1.151933</td>\n",
       "      <td>0.999635</td>\n",
       "    </tr>\n",
       "    <tr>\n",
       "      <th>käekiri</th>\n",
       "      <td>-1.131399</td>\n",
       "      <td>0.999541</td>\n",
       "    </tr>\n",
       "    <tr>\n",
       "      <th>top-up</th>\n",
       "      <td>-1.112270</td>\n",
       "      <td>0.999385</td>\n",
       "    </tr>\n",
       "    <tr>\n",
       "      <th>barack</th>\n",
       "      <td>-1.102836</td>\n",
       "      <td>0.999403</td>\n",
       "    </tr>\n",
       "    <tr>\n",
       "      <th>sõerd</th>\n",
       "      <td>-1.095528</td>\n",
       "      <td>0.999260</td>\n",
       "    </tr>\n",
       "    <tr>\n",
       "      <th>pirita</th>\n",
       "      <td>-1.086526</td>\n",
       "      <td>0.999197</td>\n",
       "    </tr>\n",
       "    <tr>\n",
       "      <th>top</th>\n",
       "      <td>-1.075789</td>\n",
       "      <td>0.999197</td>\n",
       "    </tr>\n",
       "    <tr>\n",
       "      <th>lennukompanii</th>\n",
       "      <td>-1.072977</td>\n",
       "      <td>0.999159</td>\n",
       "    </tr>\n",
       "    <tr>\n",
       "      <th>loosungit</th>\n",
       "      <td>-1.070161</td>\n",
       "      <td>0.999086</td>\n",
       "    </tr>\n",
       "    <tr>\n",
       "      <th>mängita</th>\n",
       "      <td>-1.069404</td>\n",
       "      <td>0.999036</td>\n",
       "    </tr>\n",
       "    <tr>\n",
       "      <th>san</th>\n",
       "      <td>-1.065785</td>\n",
       "      <td>0.998983</td>\n",
       "    </tr>\n",
       "    <tr>\n",
       "      <th>portfellita</th>\n",
       "      <td>-1.064559</td>\n",
       "      <td>0.999133</td>\n",
       "    </tr>\n",
       "    <tr>\n",
       "      <th>hoian</th>\n",
       "      <td>-1.061450</td>\n",
       "      <td>0.998827</td>\n",
       "    </tr>\n",
       "    <tr>\n",
       "      <th>loos</th>\n",
       "      <td>-1.051046</td>\n",
       "      <td>0.998946</td>\n",
       "    </tr>\n",
       "  </tbody>\n",
       "</table>\n",
       "</div>"
      ],
      "text/plain": [
       "               female_effect_size  female_p_value\n",
       "loosungiga              -1.244283        0.999865\n",
       "tormata                 -1.202379        0.999771\n",
       "ideena                  -1.183721        0.999731\n",
       "nimekiri                -1.166723        0.999666\n",
       "toompea                 -1.161083        0.999634\n",
       "tuld                    -1.160888        0.999632\n",
       "lipu                    -1.151933        0.999635\n",
       "käekiri                 -1.131399        0.999541\n",
       "top-up                  -1.112270        0.999385\n",
       "barack                  -1.102836        0.999403\n",
       "sõerd                   -1.095528        0.999260\n",
       "pirita                  -1.086526        0.999197\n",
       "top                     -1.075789        0.999197\n",
       "lennukompanii           -1.072977        0.999159\n",
       "loosungit               -1.070161        0.999086\n",
       "mängita                 -1.069404        0.999036\n",
       "san                     -1.065785        0.998983\n",
       "portfellita             -1.064559        0.999133\n",
       "hoian                   -1.061450        0.998827\n",
       "loos                    -1.051046        0.998946"
      ]
     },
     "execution_count": 157,
     "metadata": {},
     "output_type": "execute_result"
    }
   ],
   "source": [
    "df_bias_male.head(20)"
   ]
  },
  {
   "cell_type": "markdown",
   "id": "b279f6e8",
   "metadata": {},
   "source": [
    "## Cluster female and male words"
   ]
  },
  {
   "cell_type": "code",
   "execution_count": 197,
   "id": "c2122fee",
   "metadata": {},
   "outputs": [],
   "source": [
    "def cosine_similarity(vecs_ar1, vecs_ar2, words=None):\n",
    "    \"\"\"returns vecs_ar.shape[0] x vecs_ar.shape[0] dataframe of each word cosine similarity with other words\"\"\"\n",
    "    sims= np.dot(vecs_ar1, vecs_ar2.T)/(np.linalg.norm(vecs_ar1)*np.linalg.norm(vecs_ar2.T))\n",
    "    df_sims=pd.DataFrame(sims)\n",
    "    if isinstance(words, list):\n",
    "        df_sims.index=words\n",
    "        df_sims.columns=words\n",
    "    return df_sims\n",
    "\n",
    "def cluster_sims(df_sims, n_clusters):\n",
    "    clustering = AgglomerativeClustering(n_clusters=n_clusters, compute_distances=True).fit(df_sims)\n",
    "    df_clusters=pd.DataFrame({'token':df_sims.index, 'cluster':clustering.labels_})\n",
    "    df_clusters.index=df_clusters.token\n",
    "    return clustering, df_clusters"
   ]
  },
  {
   "cell_type": "markdown",
   "id": "7fd510da",
   "metadata": {},
   "source": [
    "#### word embeddings"
   ]
  },
  {
   "cell_type": "code",
   "execution_count": 198,
   "id": "7bed67ba",
   "metadata": {},
   "outputs": [
    {
     "name": "stdout",
     "output_type": "stream",
     "text": [
      "working on word 0\n"
     ]
    }
   ],
   "source": [
    "df_bias_female_embs=pd.DataFrame(get_word_vecs(vecs_w2v, df_bias_female.index))\n",
    "df_bias_female_embs.index=df_bias_female.index"
   ]
  },
  {
   "cell_type": "code",
   "execution_count": 199,
   "id": "107b0110",
   "metadata": {},
   "outputs": [
    {
     "name": "stdout",
     "output_type": "stream",
     "text": [
      "working on word 0\n",
      "working on word 1000\n"
     ]
    }
   ],
   "source": [
    "df_bias_male_embs=pd.DataFrame(get_word_vecs(vecs_w2v, df_bias_male.index))\n",
    "df_bias_male_embs.index=df_bias_male.index"
   ]
  },
  {
   "cell_type": "markdown",
   "id": "88bc00bb",
   "metadata": {},
   "source": [
    "#### cosine similarity between vectors"
   ]
  },
  {
   "cell_type": "code",
   "execution_count": 200,
   "id": "56671d50",
   "metadata": {},
   "outputs": [],
   "source": [
    "df_bias_female_embs_sims=cosine_similarity(df_bias_female_embs, df_bias_female_embs, list(df_bias_female_embs.index))\n",
    "# df_bias_female_embs_sims"
   ]
  },
  {
   "cell_type": "code",
   "execution_count": 201,
   "id": "a478ec91",
   "metadata": {},
   "outputs": [],
   "source": [
    "df_bias_male_embs_sims=cosine_similarity(df_bias_male_embs, df_bias_male_embs, list(df_bias_male_embs.index))\n",
    "# df_bias_male_embs"
   ]
  },
  {
   "cell_type": "markdown",
   "id": "e53bfdc6",
   "metadata": {},
   "source": [
    "#### Agglomerative clustering"
   ]
  },
  {
   "cell_type": "code",
   "execution_count": 230,
   "id": "f2b1fc04",
   "metadata": {},
   "outputs": [],
   "source": [
    "clust_clf_female_ag, df_female_clusters_ag=cluster_sims(df_bias_female_embs_sims, n_clusters=20)"
   ]
  },
  {
   "cell_type": "code",
   "execution_count": 231,
   "id": "c4ed0fd6",
   "metadata": {},
   "outputs": [
    {
     "data": {
      "text/plain": [
       "3     50\n",
       "1     41\n",
       "9     40\n",
       "11    35\n",
       "2     27\n",
       "5     21\n",
       "6     18\n",
       "4     16\n",
       "19    15\n",
       "12    11\n",
       "7     10\n",
       "14    10\n",
       "0      9\n",
       "16     8\n",
       "10     8\n",
       "15     7\n",
       "8      2\n",
       "17     1\n",
       "18     1\n",
       "13     1\n",
       "Name: cluster, dtype: int64"
      ]
     },
     "execution_count": 231,
     "metadata": {},
     "output_type": "execute_result"
    }
   ],
   "source": [
    "df_female_clusters_ag.cluster.value_counts()[:20]"
   ]
  },
  {
   "cell_type": "code",
   "execution_count": 232,
   "id": "2d4aa53d",
   "metadata": {},
   "outputs": [],
   "source": [
    "clust_clf_male_ag, df_male_clusters_ag=cluster_sims(df_bias_male_embs_sims, n_clusters=20)"
   ]
  },
  {
   "cell_type": "markdown",
   "id": "d12c5b29",
   "metadata": {},
   "source": [
    "#### HDBSCAN"
   ]
  },
  {
   "cell_type": "code",
   "execution_count": 233,
   "id": "169b7653",
   "metadata": {},
   "outputs": [],
   "source": [
    "#first reduce dimensions\n",
    "reducer = umap.UMAP(random_state=42,n_components=4, metric='cosine')\n",
    "bias_female_embs_sims_red=reducer.fit_transform(df_bias_female_embs_sims)"
   ]
  },
  {
   "cell_type": "code",
   "execution_count": 234,
   "id": "9b96d9cb",
   "metadata": {},
   "outputs": [],
   "source": [
    "#first reduce dimensions\n",
    "reducer = umap.UMAP(random_state=42,n_components=4, metric='cosine')\n",
    "bias_male_embs_sims_red=reducer.fit_transform(df_bias_male_embs_sims)"
   ]
  },
  {
   "cell_type": "code",
   "execution_count": 235,
   "id": "337d7776",
   "metadata": {},
   "outputs": [
    {
     "data": {
      "text/plain": [
       "((331, 4), (1330, 4))"
      ]
     },
     "execution_count": 235,
     "metadata": {},
     "output_type": "execute_result"
    }
   ],
   "source": [
    "bias_female_embs_sims_red.shape, bias_male_embs_sims_red.shape"
   ]
  },
  {
   "cell_type": "code",
   "execution_count": 236,
   "id": "bb30b062",
   "metadata": {},
   "outputs": [
    {
     "data": {
      "text/plain": [
       "HDBSCAN()"
      ]
     },
     "execution_count": 236,
     "metadata": {},
     "output_type": "execute_result"
    }
   ],
   "source": [
    "clust_hdb = hdbscan.HDBSCAN()\n",
    "clust_hdb.fit(pd.DataFrame(bias_female_embs_sims_red))"
   ]
  },
  {
   "cell_type": "code",
   "execution_count": 237,
   "id": "8d0114f9",
   "metadata": {},
   "outputs": [
    {
     "data": {
      "text/plain": [
       "9"
      ]
     },
     "execution_count": 237,
     "metadata": {},
     "output_type": "execute_result"
    }
   ],
   "source": [
    "#number of clusters\n",
    "len(set(clust_hdb.labels_))"
   ]
  },
  {
   "cell_type": "code",
   "execution_count": 238,
   "id": "e64ef3f7",
   "metadata": {},
   "outputs": [
    {
     "data": {
      "text/plain": [
       "HDBSCAN()"
      ]
     },
     "execution_count": 238,
     "metadata": {},
     "output_type": "execute_result"
    }
   ],
   "source": [
    "clust_hdb_male = hdbscan.HDBSCAN()\n",
    "clust_hdb_male.fit(pd.DataFrame(bias_male_embs_sims_red))"
   ]
  },
  {
   "cell_type": "code",
   "execution_count": 239,
   "id": "e971dfd2",
   "metadata": {},
   "outputs": [],
   "source": [
    "df_female_clusters_ag['cluster_hdb']=clust_hdb.labels_\n",
    "df_male_clusters_ag['cluster_hdb']=clust_hdb_male.labels_"
   ]
  },
  {
   "cell_type": "code",
   "execution_count": 240,
   "id": "ded5714d",
   "metadata": {},
   "outputs": [
    {
     "data": {
      "text/plain": [
       " 6    98\n",
       " 7    67\n",
       " 4    43\n",
       " 1    42\n",
       " 0    36\n",
       " 5    21\n",
       " 2    16\n",
       " 3     7\n",
       "-1     1\n",
       "Name: cluster_hdb, dtype: int64"
      ]
     },
     "execution_count": 240,
     "metadata": {},
     "output_type": "execute_result"
    }
   ],
   "source": [
    "df_female_clusters_ag.cluster_hdb.value_counts()"
   ]
  },
  {
   "cell_type": "code",
   "execution_count": 241,
   "id": "dac2013f",
   "metadata": {},
   "outputs": [
    {
     "data": {
      "text/html": [
       "<div>\n",
       "<style scoped>\n",
       "    .dataframe tbody tr th:only-of-type {\n",
       "        vertical-align: middle;\n",
       "    }\n",
       "\n",
       "    .dataframe tbody tr th {\n",
       "        vertical-align: top;\n",
       "    }\n",
       "\n",
       "    .dataframe thead th {\n",
       "        text-align: right;\n",
       "    }\n",
       "</style>\n",
       "<table border=\"1\" class=\"dataframe\">\n",
       "  <thead>\n",
       "    <tr style=\"text-align: right;\">\n",
       "      <th></th>\n",
       "      <th>token</th>\n",
       "      <th>cluster</th>\n",
       "      <th>cluster_hdb</th>\n",
       "    </tr>\n",
       "    <tr>\n",
       "      <th>token</th>\n",
       "      <th></th>\n",
       "      <th></th>\n",
       "      <th></th>\n",
       "    </tr>\n",
       "  </thead>\n",
       "  <tbody>\n",
       "    <tr>\n",
       "      <th>psüühika-</th>\n",
       "      <td>psüühika-</td>\n",
       "      <td>3</td>\n",
       "      <td>6</td>\n",
       "    </tr>\n",
       "    <tr>\n",
       "      <th>psüühikahäirega</th>\n",
       "      <td>psüühikahäirega</td>\n",
       "      <td>3</td>\n",
       "      <td>6</td>\n",
       "    </tr>\n",
       "    <tr>\n",
       "      <th>õppe-</th>\n",
       "      <td>õppe-</td>\n",
       "      <td>0</td>\n",
       "      <td>7</td>\n",
       "    </tr>\n",
       "    <tr>\n",
       "      <th>psüühikahäire</th>\n",
       "      <td>psüühikahäire</td>\n",
       "      <td>3</td>\n",
       "      <td>6</td>\n",
       "    </tr>\n",
       "    <tr>\n",
       "      <th>kehvemasse</th>\n",
       "      <td>kehvemasse</td>\n",
       "      <td>15</td>\n",
       "      <td>3</td>\n",
       "    </tr>\n",
       "    <tr>\n",
       "      <th>...</th>\n",
       "      <td>...</td>\n",
       "      <td>...</td>\n",
       "      <td>...</td>\n",
       "    </tr>\n",
       "    <tr>\n",
       "      <th>levima</th>\n",
       "      <td>levima</td>\n",
       "      <td>10</td>\n",
       "      <td>1</td>\n",
       "    </tr>\n",
       "    <tr>\n",
       "      <th>leiva</th>\n",
       "      <td>leiva</td>\n",
       "      <td>19</td>\n",
       "      <td>6</td>\n",
       "    </tr>\n",
       "    <tr>\n",
       "      <th>lähisuhtevägivalla</th>\n",
       "      <td>lähisuhtevägivalla</td>\n",
       "      <td>3</td>\n",
       "      <td>6</td>\n",
       "    </tr>\n",
       "    <tr>\n",
       "      <th>hilisemal</th>\n",
       "      <td>hilisemal</td>\n",
       "      <td>1</td>\n",
       "      <td>4</td>\n",
       "    </tr>\n",
       "    <tr>\n",
       "      <th>lühem</th>\n",
       "      <td>lühem</td>\n",
       "      <td>1</td>\n",
       "      <td>4</td>\n",
       "    </tr>\n",
       "  </tbody>\n",
       "</table>\n",
       "<p>331 rows × 3 columns</p>\n",
       "</div>"
      ],
      "text/plain": [
       "                                 token  cluster  cluster_hdb\n",
       "token                                                       \n",
       "psüühika-                    psüühika-        3            6\n",
       "psüühikahäirega        psüühikahäirega        3            6\n",
       "õppe-                            õppe-        0            7\n",
       "psüühikahäire            psüühikahäire        3            6\n",
       "kehvemasse                  kehvemasse       15            3\n",
       "...                                ...      ...          ...\n",
       "levima                          levima       10            1\n",
       "leiva                            leiva       19            6\n",
       "lähisuhtevägivalla  lähisuhtevägivalla        3            6\n",
       "hilisemal                    hilisemal        1            4\n",
       "lühem                            lühem        1            4\n",
       "\n",
       "[331 rows x 3 columns]"
      ]
     },
     "execution_count": 241,
     "metadata": {},
     "output_type": "execute_result"
    }
   ],
   "source": [
    "df_female_clusters_ag"
   ]
  },
  {
   "cell_type": "code",
   "execution_count": 242,
   "id": "6d6cfdc6",
   "metadata": {},
   "outputs": [],
   "source": [
    "#add it to original data\n",
    "df_bias_female['clust_ag']=df_female_clusters_ag.cluster\n",
    "df_bias_female['cluster_hdb']=df_female_clusters_ag.cluster_hdb"
   ]
  },
  {
   "cell_type": "code",
   "execution_count": 243,
   "id": "d7782aa0",
   "metadata": {},
   "outputs": [],
   "source": [
    "df_bias_male['clust_ag']=df_male_clusters_ag.cluster\n",
    "df_bias_male['cluster_hdb']=df_male_clusters_ag.cluster_hdb"
   ]
  },
  {
   "cell_type": "markdown",
   "id": "af15c47c",
   "metadata": {},
   "source": [
    "## Female clusters"
   ]
  },
  {
   "cell_type": "code",
   "execution_count": 244,
   "id": "3a16e2af",
   "metadata": {},
   "outputs": [
    {
     "data": {
      "text/plain": [
       "clust_ag\n",
       "13    0.796828\n",
       "0     0.751974\n",
       "12    0.723268\n",
       "2     0.707655\n",
       "1     0.694861\n",
       "15    0.660072\n",
       "9     0.646263\n",
       "3     0.645838\n",
       "6     0.642157\n",
       "14    0.635579\n",
       "4     0.624965\n",
       "17    0.622648\n",
       "7     0.620554\n",
       "16    0.618817\n",
       "18    0.618424\n",
       "5     0.617519\n",
       "11    0.609718\n",
       "10    0.599374\n",
       "19    0.596353\n",
       "8     0.590170\n",
       "Name: female_effect_size, dtype: float64"
      ]
     },
     "execution_count": 244,
     "metadata": {},
     "output_type": "execute_result"
    }
   ],
   "source": [
    "df_bias_female.groupby('clust_ag')['female_effect_size'].median().sort_values(ascending=False).head(20)"
   ]
  },
  {
   "cell_type": "code",
   "execution_count": 246,
   "id": "c2ce47c6",
   "metadata": {},
   "outputs": [
    {
     "data": {
      "text/plain": [
       "cluster_hdb\n",
       " 4    0.694861\n",
       " 3    0.660072\n",
       " 7    0.655614\n",
       " 6    0.640821\n",
       " 5    0.632836\n",
       " 2    0.624965\n",
       " 1    0.615174\n",
       " 0    0.612225\n",
       "-1    0.566590\n",
       "Name: female_effect_size, dtype: float64"
      ]
     },
     "execution_count": 246,
     "metadata": {},
     "output_type": "execute_result"
    }
   ],
   "source": [
    "df_bias_female.groupby('cluster_hdb')['female_effect_size'].median().sort_values(ascending=False).head(20)"
   ]
  },
  {
   "cell_type": "markdown",
   "id": "569e4c94",
   "metadata": {},
   "source": [
    "## Male clusters"
   ]
  },
  {
   "cell_type": "code",
   "execution_count": 247,
   "id": "f3efda48",
   "metadata": {},
   "outputs": [
    {
     "data": {
      "text/plain": [
       "cluster_hdb\n",
       " 8    -0.720913\n",
       " 17   -0.716080\n",
       " 10   -0.698120\n",
       " 6    -0.694866\n",
       " 1    -0.694566\n",
       " 14   -0.693734\n",
       " 5    -0.692701\n",
       " 26   -0.689394\n",
       " 15   -0.687362\n",
       " 24   -0.681173\n",
       " 2    -0.680988\n",
       " 4    -0.680490\n",
       " 23   -0.678033\n",
       " 31   -0.674806\n",
       " 21   -0.670588\n",
       " 18   -0.670250\n",
       " 19   -0.667749\n",
       " 3    -0.667253\n",
       " 0    -0.658267\n",
       "-1    -0.657993\n",
       "Name: female_effect_size, dtype: float64"
      ]
     },
     "execution_count": 247,
     "metadata": {},
     "output_type": "execute_result"
    }
   ],
   "source": [
    "df_bias_male.groupby('cluster_hdb')['female_effect_size'].median().sort_values(ascending=True).head(20)"
   ]
  },
  {
   "cell_type": "markdown",
   "id": "af5c06ff",
   "metadata": {},
   "source": [
    "## Create 2d vectors for visualization"
   ]
  },
  {
   "cell_type": "code",
   "execution_count": 249,
   "id": "59004752",
   "metadata": {},
   "outputs": [
    {
     "name": "stderr",
     "output_type": "stream",
     "text": [
      "C:\\Users\\RistoHinno\\AppData\\Local\\Temp\\ipykernel_25692\\578596992.py:1: FutureWarning: The frame.append method is deprecated and will be removed from pandas in a future version. Use pandas.concat instead.\n",
      "  df_bias_all_embs=df_bias_female_embs.append(df_bias_male_embs)\n"
     ]
    }
   ],
   "source": [
    "df_bias_all_embs=df_bias_female_embs.append(df_bias_male_embs)\n",
    "df_bias_all_embs_sims=cosine_similarity(df_bias_all_embs, df_bias_all_embs, list(df_bias_all_embs.index))"
   ]
  },
  {
   "cell_type": "code",
   "execution_count": 250,
   "id": "a732fc05",
   "metadata": {},
   "outputs": [],
   "source": [
    "reducer = umap.UMAP(random_state=42,n_components=2, metric='cosine')\n",
    "bias_all_embs_sims_red=reducer.fit_transform(df_bias_all_embs)"
   ]
  },
  {
   "cell_type": "code",
   "execution_count": 251,
   "id": "d3f4248d",
   "metadata": {},
   "outputs": [],
   "source": [
    "df_bias_all_embs_sims_red=pd.DataFrame(bias_all_embs_sims_red)"
   ]
  },
  {
   "cell_type": "code",
   "execution_count": 252,
   "id": "22a01abf",
   "metadata": {},
   "outputs": [],
   "source": [
    "df_bias_female['x']=df_bias_all_embs_sims_red[0].tolist()[:df_bias_female.shape[0]]\n",
    "df_bias_female['y']=df_bias_all_embs_sims_red[1].tolist()[:df_bias_female.shape[0]]"
   ]
  },
  {
   "cell_type": "code",
   "execution_count": 253,
   "id": "a830ea4c",
   "metadata": {},
   "outputs": [],
   "source": [
    "df_bias_male['x']=df_bias_all_embs_sims_red[0].tolist()[df_bias_female.shape[0]:]\n",
    "df_bias_male['y']=df_bias_all_embs_sims_red[1].tolist()[df_bias_female.shape[0]:]"
   ]
  },
  {
   "cell_type": "code",
   "execution_count": 254,
   "id": "8b88a60b",
   "metadata": {},
   "outputs": [
    {
     "data": {
      "text/html": [
       "<div>\n",
       "<style scoped>\n",
       "    .dataframe tbody tr th:only-of-type {\n",
       "        vertical-align: middle;\n",
       "    }\n",
       "\n",
       "    .dataframe tbody tr th {\n",
       "        vertical-align: top;\n",
       "    }\n",
       "\n",
       "    .dataframe thead th {\n",
       "        text-align: right;\n",
       "    }\n",
       "</style>\n",
       "<table border=\"1\" class=\"dataframe\">\n",
       "  <thead>\n",
       "    <tr style=\"text-align: right;\">\n",
       "      <th></th>\n",
       "      <th>female_effect_size</th>\n",
       "      <th>female_p_value</th>\n",
       "      <th>clust_ag</th>\n",
       "      <th>cluster_hdb</th>\n",
       "      <th>x</th>\n",
       "      <th>y</th>\n",
       "    </tr>\n",
       "  </thead>\n",
       "  <tbody>\n",
       "    <tr>\n",
       "      <th>loosungiga</th>\n",
       "      <td>-1.244283</td>\n",
       "      <td>0.999865</td>\n",
       "      <td>10</td>\n",
       "      <td>2</td>\n",
       "      <td>12.384358</td>\n",
       "      <td>11.696504</td>\n",
       "    </tr>\n",
       "    <tr>\n",
       "      <th>tormata</th>\n",
       "      <td>-1.202379</td>\n",
       "      <td>0.999771</td>\n",
       "      <td>5</td>\n",
       "      <td>4</td>\n",
       "      <td>3.907009</td>\n",
       "      <td>10.012736</td>\n",
       "    </tr>\n",
       "    <tr>\n",
       "      <th>ideena</th>\n",
       "      <td>-1.183721</td>\n",
       "      <td>0.999731</td>\n",
       "      <td>3</td>\n",
       "      <td>5</td>\n",
       "      <td>10.622167</td>\n",
       "      <td>9.758638</td>\n",
       "    </tr>\n",
       "    <tr>\n",
       "      <th>nimekiri</th>\n",
       "      <td>-1.166723</td>\n",
       "      <td>0.999666</td>\n",
       "      <td>1</td>\n",
       "      <td>28</td>\n",
       "      <td>11.647769</td>\n",
       "      <td>10.540583</td>\n",
       "    </tr>\n",
       "    <tr>\n",
       "      <th>toompea</th>\n",
       "      <td>-1.161083</td>\n",
       "      <td>0.999634</td>\n",
       "      <td>2</td>\n",
       "      <td>-1</td>\n",
       "      <td>9.992006</td>\n",
       "      <td>12.730493</td>\n",
       "    </tr>\n",
       "    <tr>\n",
       "      <th>...</th>\n",
       "      <td>...</td>\n",
       "      <td>...</td>\n",
       "      <td>...</td>\n",
       "      <td>...</td>\n",
       "      <td>...</td>\n",
       "      <td>...</td>\n",
       "    </tr>\n",
       "    <tr>\n",
       "      <th>tonn</th>\n",
       "      <td>-0.560028</td>\n",
       "      <td>0.950856</td>\n",
       "      <td>1</td>\n",
       "      <td>-1</td>\n",
       "      <td>8.634193</td>\n",
       "      <td>10.261371</td>\n",
       "    </tr>\n",
       "    <tr>\n",
       "      <th>toe</th>\n",
       "      <td>-0.559997</td>\n",
       "      <td>0.950635</td>\n",
       "      <td>3</td>\n",
       "      <td>5</td>\n",
       "      <td>10.308892</td>\n",
       "      <td>10.477944</td>\n",
       "    </tr>\n",
       "    <tr>\n",
       "      <th>delegatsioon</th>\n",
       "      <td>-0.557763</td>\n",
       "      <td>0.950354</td>\n",
       "      <td>9</td>\n",
       "      <td>16</td>\n",
       "      <td>8.843691</td>\n",
       "      <td>9.980645</td>\n",
       "    </tr>\n",
       "    <tr>\n",
       "      <th>barjääre</th>\n",
       "      <td>-0.556434</td>\n",
       "      <td>0.950183</td>\n",
       "      <td>4</td>\n",
       "      <td>-1</td>\n",
       "      <td>7.086227</td>\n",
       "      <td>9.688588</td>\n",
       "    </tr>\n",
       "    <tr>\n",
       "      <th>ettekäändel</th>\n",
       "      <td>-0.553897</td>\n",
       "      <td>0.950984</td>\n",
       "      <td>4</td>\n",
       "      <td>-1</td>\n",
       "      <td>10.521451</td>\n",
       "      <td>11.948971</td>\n",
       "    </tr>\n",
       "  </tbody>\n",
       "</table>\n",
       "<p>1330 rows × 6 columns</p>\n",
       "</div>"
      ],
      "text/plain": [
       "              female_effect_size  female_p_value  clust_ag  cluster_hdb  \\\n",
       "loosungiga             -1.244283        0.999865        10            2   \n",
       "tormata                -1.202379        0.999771         5            4   \n",
       "ideena                 -1.183721        0.999731         3            5   \n",
       "nimekiri               -1.166723        0.999666         1           28   \n",
       "toompea                -1.161083        0.999634         2           -1   \n",
       "...                          ...             ...       ...          ...   \n",
       "tonn                   -0.560028        0.950856         1           -1   \n",
       "toe                    -0.559997        0.950635         3            5   \n",
       "delegatsioon           -0.557763        0.950354         9           16   \n",
       "barjääre               -0.556434        0.950183         4           -1   \n",
       "ettekäändel            -0.553897        0.950984         4           -1   \n",
       "\n",
       "                      x          y  \n",
       "loosungiga    12.384358  11.696504  \n",
       "tormata        3.907009  10.012736  \n",
       "ideena        10.622167   9.758638  \n",
       "nimekiri      11.647769  10.540583  \n",
       "toompea        9.992006  12.730493  \n",
       "...                 ...        ...  \n",
       "tonn           8.634193  10.261371  \n",
       "toe           10.308892  10.477944  \n",
       "delegatsioon   8.843691   9.980645  \n",
       "barjääre       7.086227   9.688588  \n",
       "ettekäändel   10.521451  11.948971  \n",
       "\n",
       "[1330 rows x 6 columns]"
      ]
     },
     "execution_count": 254,
     "metadata": {},
     "output_type": "execute_result"
    }
   ],
   "source": [
    "df_bias_male"
   ]
  },
  {
   "cell_type": "markdown",
   "id": "71ff58c7",
   "metadata": {},
   "source": [
    "## Add counts"
   ]
  },
  {
   "cell_type": "code",
   "execution_count": 257,
   "id": "84c1d932",
   "metadata": {},
   "outputs": [],
   "source": [
    "df_bias_male['count']=[cnt[x] for x in df_bias_male.index]\n",
    "df_bias_female['count']=[cnt[x] for x in df_bias_female.index]"
   ]
  },
  {
   "cell_type": "markdown",
   "id": "e6c434ef",
   "metadata": {},
   "source": [
    "## Save"
   ]
  },
  {
   "cell_type": "code",
   "execution_count": 258,
   "id": "4ebeea67",
   "metadata": {},
   "outputs": [],
   "source": [
    "df_bias_male.to_csv('data/interim/gender_bias/separated/bias_male_ft.csv')"
   ]
  },
  {
   "cell_type": "code",
   "execution_count": 259,
   "id": "31f206ae",
   "metadata": {},
   "outputs": [],
   "source": [
    "df_bias_female.to_csv('data/interim/gender_bias/separated/bias_female_ft.csv')"
   ]
  },
  {
   "cell_type": "code",
   "execution_count": null,
   "id": "c7b5f171",
   "metadata": {},
   "outputs": [],
   "source": []
  }
 ],
 "metadata": {
  "kernelspec": {
   "display_name": "Python 3 (ipykernel)",
   "language": "python",
   "name": "python3"
  },
  "language_info": {
   "codemirror_mode": {
    "name": "ipython",
    "version": 3
   },
   "file_extension": ".py",
   "mimetype": "text/x-python",
   "name": "python",
   "nbconvert_exporter": "python",
   "pygments_lexer": "ipython3",
   "version": "3.9.12"
  }
 },
 "nbformat": 4,
 "nbformat_minor": 5
}
