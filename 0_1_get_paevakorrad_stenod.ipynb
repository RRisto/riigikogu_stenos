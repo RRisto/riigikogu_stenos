{
 "cells": [
  {
   "cell_type": "code",
   "execution_count": 1,
   "metadata": {},
   "outputs": [],
   "source": [
    "import requests\n",
    "import json\n",
    "from copy import deepcopy\n",
    "import pandas as pd\n",
    "from bs4 import BeautifulSoup"
   ]
  },
  {
   "cell_type": "markdown",
   "metadata": {},
   "source": [
    "## Helpers"
   ]
  },
  {
   "cell_type": "code",
   "execution_count": 2,
   "metadata": {},
   "outputs": [],
   "source": [
    "def get_query_jsn(url):\n",
    "    \"\"\"returns json from request\n",
    "    -INPUT:\n",
    "        -url: str of url to be requested\n",
    "    -OUTPUT:\n",
    "        - list of päevakorrad\"\"\"\n",
    "    return json.loads(requests.get(url).content)\n",
    "\n",
    "def get_years_paevakorrad(years):\n",
    "    \"\"\"collects all päevakord from each year\n",
    "    -years: list of integeres\"\"\"\n",
    "    paevakorrad=[]\n",
    "    for year in years:\n",
    "        print(f'working on year {year}')\n",
    "        try:\n",
    "            paevakorrad_year=get_query_jsn(f'https://api.riigikogu.ee/api/agenda/plenary?endDate={year}-12-31&lang=et&querySteno=true&startDate={year}-01-01')\n",
    "            paevakorrad.append(paevakorrad_year)\n",
    "        except Exception as e:\n",
    "            print(f'exception on year {year}, {e}')\n",
    "            paevakorrad_year_first_half=get_query_jsn(f'https://api.riigikogu.ee/api/agenda/plenary?endDate={year}-06-01&lang=et&querySteno=true&startDate={year}-01-01')\n",
    "            paevakorrad.append(paevakorrad_year_first_half)\n",
    "            paevakorrad_year_second_half=get_query_jsn(f'https://api.riigikogu.ee/api/agenda/plenary?endDate={year}-12-31&lang=et&querySteno=true&startDate={year}-06-02')\n",
    "            paevakorrad.append(paevakorrad_year_second_half)\n",
    "    return paevakorrad"
   ]
  },
  {
   "cell_type": "code",
   "execution_count": 3,
   "metadata": {},
   "outputs": [],
   "source": [
    "def paevakorrad_stenos_count(paevakorrad):\n",
    "    \"\"\"counts number of stenos \n",
    "    -INPUT:\n",
    "        - paevakorrad: list of päevakorrad\n",
    "    -OUTPUT:\n",
    "        -pandas DataFrame with päevakorrad and stenos count info\"\"\"\n",
    "    paevakorrad_stenos_count={}\n",
    "    for year in paevakorrad:\n",
    "        paevakorrad_stenos_count[year.get('weekStartDate')]={'agendaItems':0,\n",
    "                                                            'have_stenos':0,\n",
    "                                                            'stenos_links':[],\n",
    "                                                            'stenos_n_unique_links':0}\n",
    "        sittings=year.get('sittings', {})\n",
    "        for sitting in sittings:\n",
    "            agenda_items=sitting.get('agendaItems', {})\n",
    "            for agenda_item in agenda_items:\n",
    "                link=agenda_item.get('_links',{}).get('steno',{}).get('href', {})\n",
    "                paevakorrad_stenos_count[year.get('weekStartDate', )]['agendaItems']+=1\n",
    "                if link!={}:\n",
    "                    paevakorrad_stenos_count[year.get('weekStartDate')]['have_stenos']+=1\n",
    "                    paevakorrad_stenos_count[year.get('weekStartDate')]['stenos_links'].append(link.split('#')[0])\n",
    "        paevakorrad_stenos_count[year.get('weekStartDate')]['stenos_n_unique_links']=len(set(paevakorrad_stenos_count[year.get('weekStartDate')]['stenos_links']))\n",
    "    return pd.DataFrame(paevakorrad_stenos_count).T"
   ]
  },
  {
   "cell_type": "code",
   "execution_count": 4,
   "metadata": {},
   "outputs": [],
   "source": [
    "def get_main_talk(soup, conversations=[], steno_link=None):\n",
    "    \"\"\"scrape content of stenogram\n",
    "    -INPUT:\n",
    "        - soup: beautifulsoup object of stenogram\n",
    "        - conversations: list where to store stenograms\n",
    "        - steno_link: str of url to steno\n",
    "    -OUTPUT:\n",
    "        lis of conversations (previous + currently parsed)\"\"\"\n",
    "    for i, tag in enumerate(soup.find('article').next_siblings):\n",
    "        if tag.name=='article':\n",
    "            heading=tag.find('h3').text.strip()\n",
    "            speech_areas=tag.findAll(\"div\", {\"class\": \"pb-4 speech-area\"})\n",
    "            for speech_area in speech_areas:\n",
    "                link=speech_area.find('a', {'class':'steno-video-icon'})\n",
    "                if link is not None:\n",
    "                    link=link['href']\n",
    "                else:\n",
    "                    link=None\n",
    "\n",
    "                speaker=speech_area.find('h4').text.strip()\n",
    "                p_tags=speech_area.find_all('p')\n",
    "                if p_tags is not None:\n",
    "                    text=' '.join([p.get_text(separator=\" \").strip() for p in p_tags])\n",
    "                else:\n",
    "                    text=None\n",
    "                ind=tag['id']\n",
    "                ind_snd=speech_area['id']\n",
    "                conversation={'heading':heading,\n",
    "                              'speaker':speaker,\n",
    "                              'link_video':link,\n",
    "                              'link_steno':steno_link,\n",
    "                              'index_pk':ind,\n",
    "                              'index_snd':ind_snd,\n",
    "                             'text':text}\n",
    "                conversations.append(conversation)\n",
    "    return conversations"
   ]
  },
  {
   "cell_type": "code",
   "execution_count": 5,
   "metadata": {},
   "outputs": [],
   "source": [
    "def get_agenda(soup, steno_link=None):\n",
    "    \"\"\"scrape steno agenda from soup\n",
    "    -INPUT:\n",
    "         - soup: beautifulsoup object of stenogram\n",
    "         - steno_link: str of url to steno\n",
    "    -OUTPUT:\n",
    "        -list of conversation agenda information\"\"\"\n",
    "    conversations=[]\n",
    "    header=None\n",
    "    text=None\n",
    "    url=None\n",
    "    for i, tag in enumerate(soup.find('article', {\"class\": \"steno-agenda-item\"})):\n",
    "        if tag.name=='h3':\n",
    "            heading=tag.text.strip()\n",
    "        if tag.name=='div' and tag.attrs['class']!=['d-flex']:\n",
    "            speaker=tag.find('h4').text.strip()\n",
    "            p_tag=tag.find('p')\n",
    "            if p_tag is not None:\n",
    "                text=p_tag.get_text(separator=\" \").strip()\n",
    "            else:\n",
    "                text=None\n",
    "            href_tag=tag.find('a', {'class':'steno-video-icon'})\n",
    "            if href_tag is not None:\n",
    "                url=href_tag['href']\n",
    "            else:\n",
    "                url=None\n",
    "            ind=tag.parent['id']\n",
    "            ind_snd=tag['id']\n",
    "            conversation={'heading':heading,\n",
    "                              'speaker':speaker,\n",
    "                              'link_video':url,\n",
    "                              'link_steno':steno_link,\n",
    "                              'index_pk':ind,\n",
    "                              'index_snd':ind_snd,\n",
    "                             'text':text}\n",
    "            conversations.append(conversation)\n",
    "            \n",
    "    return conversations"
   ]
  },
  {
   "cell_type": "code",
   "execution_count": 6,
   "metadata": {},
   "outputs": [],
   "source": [
    "def parse_steno(soup, steno_link):\n",
    "    \"\"\"wrapper function to get steno content and agenda\n",
    "    -INPUT:\n",
    "        - soup: beautifulsoup object of stenogram\n",
    "         - steno_link: str of url to steno\n",
    "    -OUTPUT:\n",
    "        - list of conversations info (steno content + agenda)\"\"\"\n",
    "    conversations=get_agenda(soup, steno_link)\n",
    "    conversations=get_main_talk(soup, conversations, steno_link)\n",
    "    return conversations"
   ]
  },
  {
   "cell_type": "code",
   "execution_count": 7,
   "metadata": {},
   "outputs": [],
   "source": [
    "def get_links_stenos(links):\n",
    "    \"\"\"function to get all steno content from links\n",
    "    -INPUT:\n",
    "        - links: list of links to stenos\n",
    "    -OUTPUT:\n",
    "        -dict of {steno_link:steno_content}\"\"\"\n",
    "    stenos={}\n",
    "    for i, link in enumerate(links):\n",
    "        if i%20==0:\n",
    "            print(f'working on {i}')\n",
    "        steno_soup=BeautifulSoup(requests.get(link).content)\n",
    "        talk=[]\n",
    "        try:\n",
    "            talk=parse_steno(steno_soup, link)\n",
    "        except Exception as e:\n",
    "            print(e)\n",
    "            print(link)\n",
    "        stenos[link]={'talk':talk}\n",
    "    return stenos"
   ]
  },
  {
   "cell_type": "markdown",
   "metadata": {},
   "source": [
    "## Collect päevakorrad which have links to stenos"
   ]
  },
  {
   "cell_type": "code",
   "execution_count": 8,
   "metadata": {},
   "outputs": [
    {
     "name": "stdout",
     "output_type": "stream",
     "text": [
      "working on year 2022\n",
      "working on year 2023\n",
      "CPU times: total: 31.2 ms\n",
      "Wall time: 1min 9s\n"
     ]
    }
   ],
   "source": [
    "%time paevakorrad2022=get_years_paevakorrad(range(2022, 2024))"
   ]
  },
  {
   "cell_type": "code",
   "execution_count": 15,
   "metadata": {},
   "outputs": [
    {
     "name": "stdout",
     "output_type": "stream",
     "text": [
      "working on year 2010\n",
      "working on year 2011\n",
      "working on year 2012\n",
      "working on year 2013\n",
      "working on year 2014\n",
      "working on year 2015\n",
      "working on year 2016\n",
      "working on year 2017\n",
      "working on year 2018\n",
      "working on year 2019\n",
      "working on year 2020\n",
      "working on year 2021\n",
      "working on year 2022\n",
      "Wall time: 8min 28s\n"
     ]
    }
   ],
   "source": [
    "%time paevakorrad=get_years_paevakorrad(range(2010, 2023))"
   ]
  },
  {
   "cell_type": "code",
   "execution_count": 16,
   "metadata": {},
   "outputs": [
    {
     "data": {
      "text/plain": [
       "13"
      ]
     },
     "execution_count": 16,
     "metadata": {},
     "output_type": "execute_result"
    }
   ],
   "source": [
    "len(paevakorrad)"
   ]
  },
  {
   "cell_type": "code",
   "execution_count": 9,
   "metadata": {},
   "outputs": [
    {
     "data": {
      "text/plain": [
       "2"
      ]
     },
     "execution_count": 9,
     "metadata": {},
     "output_type": "execute_result"
    }
   ],
   "source": [
    "len(paevakorrad2022)"
   ]
  },
  {
   "cell_type": "markdown",
   "metadata": {},
   "source": [
    "## How many stenos do we have for each year"
   ]
  },
  {
   "cell_type": "code",
   "execution_count": 11,
   "metadata": {},
   "outputs": [
    {
     "data": {
      "text/html": [
       "<div>\n",
       "<style scoped>\n",
       "    .dataframe tbody tr th:only-of-type {\n",
       "        vertical-align: middle;\n",
       "    }\n",
       "\n",
       "    .dataframe tbody tr th {\n",
       "        vertical-align: top;\n",
       "    }\n",
       "\n",
       "    .dataframe thead th {\n",
       "        text-align: right;\n",
       "    }\n",
       "</style>\n",
       "<table border=\"1\" class=\"dataframe\">\n",
       "  <thead>\n",
       "    <tr style=\"text-align: right;\">\n",
       "      <th></th>\n",
       "      <th>agendaItems</th>\n",
       "      <th>have_stenos</th>\n",
       "      <th>stenos_links</th>\n",
       "      <th>stenos_n_unique_links</th>\n",
       "    </tr>\n",
       "  </thead>\n",
       "  <tbody>\n",
       "    <tr>\n",
       "      <th>2022-01-01</th>\n",
       "      <td>945</td>\n",
       "      <td>552</td>\n",
       "      <td>[https://stenogrammid.riigikogu.ee/20220110150...</td>\n",
       "      <td>146</td>\n",
       "    </tr>\n",
       "    <tr>\n",
       "      <th>2023-01-01</th>\n",
       "      <td>600</td>\n",
       "      <td>295</td>\n",
       "      <td>[https://stenogrammid.riigikogu.ee/20230109150...</td>\n",
       "      <td>65</td>\n",
       "    </tr>\n",
       "  </tbody>\n",
       "</table>\n",
       "</div>"
      ],
      "text/plain": [
       "           agendaItems have_stenos  \\\n",
       "2022-01-01         945         552   \n",
       "2023-01-01         600         295   \n",
       "\n",
       "                                                 stenos_links  \\\n",
       "2022-01-01  [https://stenogrammid.riigikogu.ee/20220110150...   \n",
       "2023-01-01  [https://stenogrammid.riigikogu.ee/20230109150...   \n",
       "\n",
       "           stenos_n_unique_links  \n",
       "2022-01-01                   146  \n",
       "2023-01-01                    65  "
      ]
     },
     "execution_count": 11,
     "metadata": {},
     "output_type": "execute_result"
    }
   ],
   "source": [
    "df_stenos_links2022=paevakorrad_stenos_count(paevakorrad2022)\n",
    "df_stenos_links2022"
   ]
  },
  {
   "cell_type": "code",
   "execution_count": 19,
   "metadata": {},
   "outputs": [],
   "source": [
    "df_stenos_links=paevakorrad_stenos_count(paevakorrad)"
   ]
  },
  {
   "cell_type": "code",
   "execution_count": 20,
   "metadata": {},
   "outputs": [
    {
     "data": {
      "text/html": [
       "<div>\n",
       "<style scoped>\n",
       "    .dataframe tbody tr th:only-of-type {\n",
       "        vertical-align: middle;\n",
       "    }\n",
       "\n",
       "    .dataframe tbody tr th {\n",
       "        vertical-align: top;\n",
       "    }\n",
       "\n",
       "    .dataframe thead th {\n",
       "        text-align: right;\n",
       "    }\n",
       "</style>\n",
       "<table border=\"1\" class=\"dataframe\">\n",
       "  <thead>\n",
       "    <tr style=\"text-align: right;\">\n",
       "      <th></th>\n",
       "      <th>agendaItems</th>\n",
       "      <th>have_stenos</th>\n",
       "      <th>stenos_links</th>\n",
       "      <th>stenos_n_unique_links</th>\n",
       "    </tr>\n",
       "  </thead>\n",
       "  <tbody>\n",
       "    <tr>\n",
       "      <th>2010-01-01</th>\n",
       "      <td>945</td>\n",
       "      <td>144</td>\n",
       "      <td>[https://stenogrammid.riigikogu.ee/20100111150...</td>\n",
       "      <td>144</td>\n",
       "    </tr>\n",
       "    <tr>\n",
       "      <th>2011-01-01</th>\n",
       "      <td>743</td>\n",
       "      <td>118</td>\n",
       "      <td>[https://stenogrammid.riigikogu.ee/20110110150...</td>\n",
       "      <td>118</td>\n",
       "    </tr>\n",
       "    <tr>\n",
       "      <th>2012-01-01</th>\n",
       "      <td>705</td>\n",
       "      <td>99</td>\n",
       "      <td>[https://stenogrammid.riigikogu.ee/20120111130...</td>\n",
       "      <td>99</td>\n",
       "    </tr>\n",
       "    <tr>\n",
       "      <th>2013-01-01</th>\n",
       "      <td>649</td>\n",
       "      <td>85</td>\n",
       "      <td>[https://stenogrammid.riigikogu.ee/20130115100...</td>\n",
       "      <td>85</td>\n",
       "    </tr>\n",
       "    <tr>\n",
       "      <th>2014-01-01</th>\n",
       "      <td>700</td>\n",
       "      <td>121</td>\n",
       "      <td>[https://stenogrammid.riigikogu.ee/20140113150...</td>\n",
       "      <td>121</td>\n",
       "    </tr>\n",
       "    <tr>\n",
       "      <th>2015-01-01</th>\n",
       "      <td>718</td>\n",
       "      <td>107</td>\n",
       "      <td>[https://stenogrammid.riigikogu.ee/20150112150...</td>\n",
       "      <td>107</td>\n",
       "    </tr>\n",
       "    <tr>\n",
       "      <th>2016-01-01</th>\n",
       "      <td>860</td>\n",
       "      <td>144</td>\n",
       "      <td>[https://stenogrammid.riigikogu.ee/20160111150...</td>\n",
       "      <td>144</td>\n",
       "    </tr>\n",
       "    <tr>\n",
       "      <th>2017-01-01</th>\n",
       "      <td>842</td>\n",
       "      <td>145</td>\n",
       "      <td>[https://stenogrammid.riigikogu.ee/20170109150...</td>\n",
       "      <td>145</td>\n",
       "    </tr>\n",
       "    <tr>\n",
       "      <th>2018-01-01</th>\n",
       "      <td>760</td>\n",
       "      <td>141</td>\n",
       "      <td>[https://stenogrammid.riigikogu.ee/20180108150...</td>\n",
       "      <td>141</td>\n",
       "    </tr>\n",
       "    <tr>\n",
       "      <th>2019-01-01</th>\n",
       "      <td>663</td>\n",
       "      <td>102</td>\n",
       "      <td>[https://stenogrammid.riigikogu.ee/20190114150...</td>\n",
       "      <td>102</td>\n",
       "    </tr>\n",
       "    <tr>\n",
       "      <th>2020-01-01</th>\n",
       "      <td>838</td>\n",
       "      <td>127</td>\n",
       "      <td>[https://stenogrammid.riigikogu.ee/20200113150...</td>\n",
       "      <td>127</td>\n",
       "    </tr>\n",
       "    <tr>\n",
       "      <th>2021-01-01</th>\n",
       "      <td>828</td>\n",
       "      <td>98</td>\n",
       "      <td>[https://stenogrammid.riigikogu.ee/20210111150...</td>\n",
       "      <td>97</td>\n",
       "    </tr>\n",
       "    <tr>\n",
       "      <th>2022-01-01</th>\n",
       "      <td>549</td>\n",
       "      <td>63</td>\n",
       "      <td>[https://stenogrammid.riigikogu.ee/20220111100...</td>\n",
       "      <td>63</td>\n",
       "    </tr>\n",
       "  </tbody>\n",
       "</table>\n",
       "</div>"
      ],
      "text/plain": [
       "           agendaItems have_stenos  \\\n",
       "2010-01-01         945         144   \n",
       "2011-01-01         743         118   \n",
       "2012-01-01         705          99   \n",
       "2013-01-01         649          85   \n",
       "2014-01-01         700         121   \n",
       "2015-01-01         718         107   \n",
       "2016-01-01         860         144   \n",
       "2017-01-01         842         145   \n",
       "2018-01-01         760         141   \n",
       "2019-01-01         663         102   \n",
       "2020-01-01         838         127   \n",
       "2021-01-01         828          98   \n",
       "2022-01-01         549          63   \n",
       "\n",
       "                                                 stenos_links  \\\n",
       "2010-01-01  [https://stenogrammid.riigikogu.ee/20100111150...   \n",
       "2011-01-01  [https://stenogrammid.riigikogu.ee/20110110150...   \n",
       "2012-01-01  [https://stenogrammid.riigikogu.ee/20120111130...   \n",
       "2013-01-01  [https://stenogrammid.riigikogu.ee/20130115100...   \n",
       "2014-01-01  [https://stenogrammid.riigikogu.ee/20140113150...   \n",
       "2015-01-01  [https://stenogrammid.riigikogu.ee/20150112150...   \n",
       "2016-01-01  [https://stenogrammid.riigikogu.ee/20160111150...   \n",
       "2017-01-01  [https://stenogrammid.riigikogu.ee/20170109150...   \n",
       "2018-01-01  [https://stenogrammid.riigikogu.ee/20180108150...   \n",
       "2019-01-01  [https://stenogrammid.riigikogu.ee/20190114150...   \n",
       "2020-01-01  [https://stenogrammid.riigikogu.ee/20200113150...   \n",
       "2021-01-01  [https://stenogrammid.riigikogu.ee/20210111150...   \n",
       "2022-01-01  [https://stenogrammid.riigikogu.ee/20220111100...   \n",
       "\n",
       "           stenos_n_unique_links  \n",
       "2010-01-01                   144  \n",
       "2011-01-01                   118  \n",
       "2012-01-01                    99  \n",
       "2013-01-01                    85  \n",
       "2014-01-01                   121  \n",
       "2015-01-01                   107  \n",
       "2016-01-01                   144  \n",
       "2017-01-01                   145  \n",
       "2018-01-01                   141  \n",
       "2019-01-01                   102  \n",
       "2020-01-01                   127  \n",
       "2021-01-01                    97  \n",
       "2022-01-01                    63  "
      ]
     },
     "execution_count": 20,
     "metadata": {},
     "output_type": "execute_result"
    }
   ],
   "source": [
    "df_stenos_links"
   ]
  },
  {
   "cell_type": "markdown",
   "metadata": {},
   "source": [
    "## Get all unique memos"
   ]
  },
  {
   "cell_type": "code",
   "execution_count": 21,
   "metadata": {},
   "outputs": [
    {
     "data": {
      "text/plain": [
       "1493"
      ]
     },
     "execution_count": 21,
     "metadata": {},
     "output_type": "execute_result"
    }
   ],
   "source": [
    "unique_steno_links=list(set([item.replace('hans-frontend.riigikogu.ee', 'stenogrammid.riigikogu.ee')\n",
    "                             for sublist in df_stenos_links.stenos_links.to_list() for item in sublist]))\n",
    "len(unique_steno_links)"
   ]
  },
  {
   "cell_type": "code",
   "execution_count": 12,
   "metadata": {},
   "outputs": [
    {
     "data": {
      "text/plain": [
       "211"
      ]
     },
     "execution_count": 12,
     "metadata": {},
     "output_type": "execute_result"
    }
   ],
   "source": [
    "unique_steno_links2022=list(set([item.replace('hans-frontend.riigikogu.ee', 'stenogrammid.riigikogu.ee')\n",
    "                             for sublist in df_stenos_links2022.stenos_links.to_list() for item in sublist]))\n",
    "len(unique_steno_links2022)"
   ]
  },
  {
   "cell_type": "code",
   "execution_count": 22,
   "metadata": {},
   "outputs": [
    {
     "name": "stdout",
     "output_type": "stream",
     "text": [
      "working on 0\n",
      "working on 20\n",
      "working on 40\n",
      "working on 60\n",
      "working on 80\n",
      "working on 100\n",
      "working on 120\n",
      "working on 140\n",
      "working on 160\n",
      "working on 180\n",
      "working on 200\n",
      "working on 220\n",
      "working on 240\n",
      "working on 260\n",
      "working on 280\n",
      "working on 300\n",
      "working on 320\n",
      "working on 340\n",
      "working on 360\n",
      "working on 380\n",
      "working on 400\n",
      "working on 420\n",
      "working on 440\n",
      "working on 460\n",
      "working on 480\n",
      "working on 500\n",
      "working on 520\n",
      "working on 540\n",
      "working on 560\n",
      "working on 580\n",
      "working on 600\n",
      "working on 620\n",
      "working on 640\n",
      "working on 660\n",
      "working on 680\n",
      "working on 700\n",
      "working on 720\n",
      "working on 740\n",
      "working on 760\n",
      "working on 780\n",
      "working on 800\n",
      "working on 820\n",
      "working on 840\n",
      "working on 860\n",
      "working on 880\n",
      "Wall time: 12min 40s\n"
     ]
    }
   ],
   "source": [
    "%time stenos1=get_links_stenos(unique_steno_links[:900])"
   ]
  },
  {
   "cell_type": "code",
   "execution_count": 23,
   "metadata": {},
   "outputs": [
    {
     "name": "stdout",
     "output_type": "stream",
     "text": [
      "working on 0\n",
      "working on 20\n",
      "working on 40\n",
      "working on 60\n",
      "working on 80\n",
      "working on 100\n",
      "working on 120\n",
      "working on 140\n",
      "working on 160\n",
      "working on 180\n",
      "working on 200\n",
      "working on 220\n",
      "working on 240\n",
      "working on 260\n",
      "working on 280\n",
      "working on 300\n",
      "working on 320\n",
      "working on 340\n",
      "working on 360\n",
      "working on 380\n",
      "working on 400\n",
      "working on 420\n",
      "working on 440\n",
      "working on 460\n",
      "working on 480\n",
      "working on 500\n",
      "working on 520\n",
      "working on 540\n",
      "working on 560\n",
      "working on 580\n",
      "Wall time: 8min 33s\n"
     ]
    }
   ],
   "source": [
    "%time stenos2=get_links_stenos(unique_steno_links[900:])"
   ]
  },
  {
   "cell_type": "code",
   "execution_count": 24,
   "metadata": {},
   "outputs": [],
   "source": [
    "stenos1.update(stenos2)"
   ]
  },
  {
   "cell_type": "code",
   "execution_count": 25,
   "metadata": {},
   "outputs": [
    {
     "data": {
      "text/plain": [
       "1493"
      ]
     },
     "execution_count": 25,
     "metadata": {},
     "output_type": "execute_result"
    }
   ],
   "source": [
    "len(stenos1)"
   ]
  },
  {
   "cell_type": "code",
   "execution_count": 13,
   "metadata": {},
   "outputs": [
    {
     "name": "stdout",
     "output_type": "stream",
     "text": [
      "working on 0\n",
      "working on 20\n",
      "working on 40\n",
      "working on 60\n",
      "working on 80\n",
      "working on 100\n",
      "working on 120\n",
      "working on 140\n",
      "working on 160\n",
      "working on 180\n",
      "working on 200\n",
      "CPU times: total: 11.3 s\n",
      "Wall time: 3min 55s\n"
     ]
    }
   ],
   "source": [
    "%time stenos2022=get_links_stenos(unique_steno_links2022)"
   ]
  },
  {
   "cell_type": "markdown",
   "metadata": {},
   "source": [
    "## Save"
   ]
  },
  {
   "cell_type": "code",
   "execution_count": 27,
   "metadata": {},
   "outputs": [],
   "source": [
    "with open('data/raw/stenos_from_links.json', 'w') as f:\n",
    "    json.dump(stenos1, f)"
   ]
  },
  {
   "cell_type": "code",
   "execution_count": 14,
   "metadata": {},
   "outputs": [],
   "source": [
    "with open('data/raw/stenos_from_links2022.json', 'w') as f:\n",
    "    json.dump(stenos2022, f)"
   ]
  },
  {
   "cell_type": "code",
   "execution_count": null,
   "metadata": {},
   "outputs": [],
   "source": []
  }
 ],
 "metadata": {
  "kernelspec": {
   "display_name": "Python 3 (ipykernel)",
   "language": "python",
   "name": "python3"
  },
  "language_info": {
   "codemirror_mode": {
    "name": "ipython",
    "version": 3
   },
   "file_extension": ".py",
   "mimetype": "text/x-python",
   "name": "python",
   "nbconvert_exporter": "python",
   "pygments_lexer": "ipython3",
   "version": "3.9.12"
  }
 },
 "nbformat": 4,
 "nbformat_minor": 4
}
