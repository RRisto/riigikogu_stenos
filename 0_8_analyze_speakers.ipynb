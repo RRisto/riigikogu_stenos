{
 "cells": [
  {
   "cell_type": "code",
   "execution_count": 4,
   "id": "a4712868",
   "metadata": {},
   "outputs": [
    {
     "name": "stderr",
     "output_type": "stream",
     "text": [
      "C:\\Users\\RistoHinno\\AppData\\Local\\Temp\\ipykernel_20372\\3496233029.py:22: FutureWarning: Passing a negative integer is deprecated in version 1.0 and will not be supported in future version. Instead, use None to not limit the column width.\n",
      "  pd.set_option('display.max_colwidth', -1)\n"
     ]
    }
   ],
   "source": [
    "import json\n",
    "import math\n",
    "from functools import partial\n",
    "from pathlib import Path\n",
    "from configparser import ConfigParser\n",
    "\n",
    "import umap\n",
    "import hdbscan\n",
    "import pandas as pd\n",
    "import numpy as np\n",
    "import matplotlib.pyplot as plt\n",
    "import seaborn as sns\n",
    "import plotly\n",
    "from plotly.graph_objs import Scatter, Layout, Heatmap\n",
    "from plotly.subplots import make_subplots\n",
    "import plotly.graph_objs as go\n",
    "import chart_studio\n",
    "import chart_studio.plotly as py\n",
    "\n",
    "from src.aggregator import *\n",
    "\n",
    "pd.set_option('display.max_colwidth', -1)"
   ]
  },
  {
   "cell_type": "markdown",
   "id": "fd92a756",
   "metadata": {},
   "source": [
    "## Configure chart studio for interactive chart hosting"
   ]
  },
  {
   "cell_type": "code",
   "execution_count": 30,
   "id": "ee3592e6",
   "metadata": {},
   "outputs": [],
   "source": [
    "#create your account in https://chart-studio.plotly.com/\n",
    "#add credentials to 'conf/plotly.ini'\n",
    "conf=ConfigParser()\n",
    "conf.read('conf/plotly.ini')\n",
    "username=conf['plotly']['username']\n",
    "api_key=conf['plotly']['apikey']\n",
    "chart_studio.tools.set_credentials_file(username=username,\n",
    "                                        api_key=api_key)"
   ]
  },
  {
   "cell_type": "markdown",
   "id": "c7488952",
   "metadata": {},
   "source": [
    "## Data"
   ]
  },
  {
   "cell_type": "code",
   "execution_count": 5,
   "id": "df1cb55b",
   "metadata": {},
   "outputs": [
    {
     "data": {
      "text/plain": [
       "(209949, 22)"
      ]
     },
     "execution_count": 5,
     "metadata": {},
     "output_type": "execute_result"
    }
   ],
   "source": [
    "df=pd.read_csv('data/interim/stenos_cleaned_topics.csv')\n",
    "df.shape"
   ]
  },
  {
   "cell_type": "code",
   "execution_count": 6,
   "id": "4718f654",
   "metadata": {},
   "outputs": [],
   "source": [
    "#normalize factions\n",
    "df['fation']=df.fation.replace({'Fraktsiooni mittekuuluvad saadikud': 'Fraktsioonidesse mittekuulunud Riigikogu liikmed',\n",
    "                               'Fraktsiooni mittekuuluvad Riigikogu liikmed':'Fraktsioonidesse mittekuulunud Riigikogu liikmed'})"
   ]
  },
  {
   "cell_type": "code",
   "execution_count": 7,
   "id": "788d7c8a",
   "metadata": {},
   "outputs": [
    {
     "data": {
      "text/plain": [
       "(1152, 9)"
      ]
     },
     "execution_count": 7,
     "metadata": {},
     "output_type": "execute_result"
    }
   ],
   "source": [
    "df_topic_clusters=pd.read_excel('data/interim/riigikogu_topics_clusters.xlsx')\n",
    "df_topic_clusters['topic_words3']=df_topic_clusters.words.apply(lambda x: ' '.join(x.split()[:3]))\n",
    "df_topic_clusters.shape"
   ]
  },
  {
   "cell_type": "markdown",
   "id": "4a0e1d0d",
   "metadata": {},
   "source": [
    "## Colors for plotting"
   ]
  },
  {
   "cell_type": "code",
   "execution_count": 8,
   "id": "b1ef5f31",
   "metadata": {},
   "outputs": [],
   "source": [
    "colors=json.loads(Path('utils/colors.json').read_text())\n",
    "colors=list(colors.keys())[10:]"
   ]
  },
  {
   "cell_type": "markdown",
   "id": "26ef1095",
   "metadata": {},
   "source": [
    "## Add topics to original data"
   ]
  },
  {
   "cell_type": "code",
   "execution_count": 9,
   "id": "fb11d538",
   "metadata": {},
   "outputs": [
    {
     "data": {
      "text/plain": [
       "(209949, 25)"
      ]
     },
     "execution_count": 9,
     "metadata": {},
     "output_type": "execute_result"
    }
   ],
   "source": [
    "df=pd.merge(df, df_topic_clusters[['topic_cluster_id','topic_id', 'x_rand', 'y_rand']], \n",
    "            left_on='topic_id', right_on='topic_id', how='left')\n",
    "df.shape"
   ]
  },
  {
   "cell_type": "markdown",
   "id": "66f926a3",
   "metadata": {},
   "source": [
    "## Cluster which are noninformative"
   ]
  },
  {
   "cell_type": "code",
   "execution_count": 10,
   "id": "86185f91",
   "metadata": {},
   "outputs": [],
   "source": [
    "clusters_noninform=pd.read_csv('data/interim/noninform_clusters.csv')['0'].tolist()\n",
    "topics_noninform=pd.read_csv('data/interim/noninform_topics.csv')['0'].tolist()"
   ]
  },
  {
   "cell_type": "markdown",
   "id": "01e60c56",
   "metadata": {},
   "source": [
    "## Find speakers similarity"
   ]
  },
  {
   "cell_type": "code",
   "execution_count": 11,
   "id": "f7e69e6e",
   "metadata": {},
   "outputs": [
    {
     "data": {
      "text/plain": [
       "(695,)"
      ]
     },
     "execution_count": 11,
     "metadata": {},
     "output_type": "execute_result"
    }
   ],
   "source": [
    "df_inform=df[(~df.topic_cluster.isin(clusters_noninform))&(~df.topic_id.isin(topics_noninform))]\n",
    "speaker_counts=df_inform.speaker.value_counts()\n",
    "speaker_counts.shape"
   ]
  },
  {
   "cell_type": "code",
   "execution_count": 12,
   "id": "6a1ffac6",
   "metadata": {},
   "outputs": [
    {
     "data": {
      "text/plain": [
       "<AxesSubplot:>"
      ]
     },
     "execution_count": 12,
     "metadata": {},
     "output_type": "execute_result"
    },
    {
     "data": {
      "image/png": "[encoded data removed]",
      "text/plain": [
       "<Figure size 432x288 with 1 Axes>"
      ]
     },
     "metadata": {
      "needs_background": "light"
     },
     "output_type": "display_data"
    }
   ],
   "source": [
    "speaker_counts.hist(bins=40)"
   ]
  },
  {
   "cell_type": "markdown",
   "id": "407d1b44",
   "metadata": {},
   "source": [
    "## Keep speakers who have a bit more data (segments) to compare"
   ]
  },
  {
   "cell_type": "code",
   "execution_count": 13,
   "id": "d21dd598",
   "metadata": {},
   "outputs": [
    {
     "data": {
      "text/plain": [
       "((86318, 25), 249)"
      ]
     },
     "execution_count": 13,
     "metadata": {},
     "output_type": "execute_result"
    }
   ],
   "source": [
    "#keep speakers who have enough data to compare\n",
    "MIN_N_SEGMENTS=100\n",
    "speakers_filtered=speaker_counts[speaker_counts>MIN_N_SEGMENTS]\n",
    "df_speakers_filt=df_inform[df_inform.speaker.isin(list(speakers_filtered.index))]\n",
    "df_speakers_filt.shape, df_speakers_filt.speaker.nunique()"
   ]
  },
  {
   "cell_type": "code",
   "execution_count": 14,
   "id": "256ea284",
   "metadata": {},
   "outputs": [],
   "source": [
    "df_speaker_topics=get_group_topics_prop(df_speakers_filt, 'speaker', \n",
    "                                        n_topics_per_group=df_speakers_filt.speaker.nunique())\n",
    "df_speaker_topic_vecs=create_group_vecs(df_speaker_topics, group_col='speaker', fillna=0)"
   ]
  },
  {
   "cell_type": "code",
   "execution_count": 15,
   "id": "e1f7873c",
   "metadata": {},
   "outputs": [
    {
     "data": {
      "text/plain": [
       "((23202, 4), (256, 249))"
      ]
     },
     "execution_count": 15,
     "metadata": {},
     "output_type": "execute_result"
    }
   ],
   "source": [
    "df_speaker_topics.shape, df_speaker_topic_vecs.shape"
   ]
  },
  {
   "cell_type": "markdown",
   "id": "9ad757fa",
   "metadata": {},
   "source": [
    "## Cluster speakers based on topics"
   ]
  },
  {
   "cell_type": "code",
   "execution_count": 16,
   "id": "658b6a01",
   "metadata": {},
   "outputs": [],
   "source": [
    "reducer = umap.UMAP(random_state=42,n_components=4, metric='cosine')\n",
    "embedding=reducer.fit_transform(df_speaker_topic_vecs.T)"
   ]
  },
  {
   "cell_type": "code",
   "execution_count": 17,
   "id": "1678b9bc",
   "metadata": {},
   "outputs": [],
   "source": [
    "#create 2d for visualization\n",
    "reducer_2d = umap.UMAP(random_state=42,n_components=2, metric='cosine')\n",
    "embedding_2d=reducer_2d.fit_transform(df_speaker_topic_vecs.T)"
   ]
  },
  {
   "cell_type": "code",
   "execution_count": 18,
   "id": "dc2cbb4b",
   "metadata": {},
   "outputs": [],
   "source": [
    "df_speaker_embedding=pd.DataFrame(embedding_2d)"
   ]
  },
  {
   "cell_type": "code",
   "execution_count": 20,
   "id": "097f76be",
   "metadata": {},
   "outputs": [
    {
     "data": {
      "text/plain": [
       "HDBSCAN()"
      ]
     },
     "execution_count": 20,
     "metadata": {},
     "output_type": "execute_result"
    }
   ],
   "source": [
    "#cluster data\n",
    "clusterer = hdbscan.HDBSCAN()\n",
    "clusterer.fit(pd.DataFrame(embedding))"
   ]
  },
  {
   "cell_type": "code",
   "execution_count": 21,
   "id": "b31b00a1",
   "metadata": {},
   "outputs": [
    {
     "data": {
      "text/plain": [
       "(249, 5)"
      ]
     },
     "execution_count": 21,
     "metadata": {},
     "output_type": "execute_result"
    }
   ],
   "source": [
    "df_speaker_embedding['speaker']=df_speaker_topic_vecs.T.index\n",
    "df_speaker_embedding['label']=clusterer.labels_\n",
    "df_speaker_embedding['label_color']=df_speaker_embedding.label.apply(lambda x: colors[x])\n",
    "df_speaker_embedding.shape"
   ]
  },
  {
   "cell_type": "code",
   "execution_count": 22,
   "id": "a352cb1f",
   "metadata": {},
   "outputs": [
    {
     "data": {
      "text/plain": [
       "14"
      ]
     },
     "execution_count": 22,
     "metadata": {},
     "output_type": "execute_result"
    }
   ],
   "source": [
    "#number of clusters\n",
    "df_speaker_embedding.label.nunique()"
   ]
  },
  {
   "cell_type": "code",
   "execution_count": 23,
   "id": "ff63f5e0",
   "metadata": {},
   "outputs": [
    {
     "data": {
      "text/html": [
       "<div>\n",
       "<style scoped>\n",
       "    .dataframe tbody tr th:only-of-type {\n",
       "        vertical-align: middle;\n",
       "    }\n",
       "\n",
       "    .dataframe tbody tr th {\n",
       "        vertical-align: top;\n",
       "    }\n",
       "\n",
       "    .dataframe thead th {\n",
       "        text-align: right;\n",
       "    }\n",
       "</style>\n",
       "<table border=\"1\" class=\"dataframe\">\n",
       "  <thead>\n",
       "    <tr style=\"text-align: right;\">\n",
       "      <th></th>\n",
       "      <th>0</th>\n",
       "      <th>1</th>\n",
       "      <th>speaker</th>\n",
       "      <th>label</th>\n",
       "      <th>label_color</th>\n",
       "    </tr>\n",
       "  </thead>\n",
       "  <tbody>\n",
       "    <tr>\n",
       "      <th>0</th>\n",
       "      <td>13.693436</td>\n",
       "      <td>13.246423</td>\n",
       "      <td>Aadu Must</td>\n",
       "      <td>3</td>\n",
       "      <td>darkorange</td>\n",
       "    </tr>\n",
       "    <tr>\n",
       "      <th>1</th>\n",
       "      <td>14.542329</td>\n",
       "      <td>8.931796</td>\n",
       "      <td>Ain Lutsepp</td>\n",
       "      <td>1</td>\n",
       "      <td>darkmagenta</td>\n",
       "    </tr>\n",
       "    <tr>\n",
       "      <th>2</th>\n",
       "      <td>9.892005</td>\n",
       "      <td>12.805812</td>\n",
       "      <td>Aivar Kokk</td>\n",
       "      <td>11</td>\n",
       "      <td>darkviolet</td>\n",
       "    </tr>\n",
       "    <tr>\n",
       "      <th>3</th>\n",
       "      <td>14.732650</td>\n",
       "      <td>9.038327</td>\n",
       "      <td>Aivar Riisalu</td>\n",
       "      <td>1</td>\n",
       "      <td>darkmagenta</td>\n",
       "    </tr>\n",
       "    <tr>\n",
       "      <th>4</th>\n",
       "      <td>9.405340</td>\n",
       "      <td>11.996966</td>\n",
       "      <td>Aivar Sõerd</td>\n",
       "      <td>11</td>\n",
       "      <td>darkviolet</td>\n",
       "    </tr>\n",
       "    <tr>\n",
       "      <th>...</th>\n",
       "      <td>...</td>\n",
       "      <td>...</td>\n",
       "      <td>...</td>\n",
       "      <td>...</td>\n",
       "      <td>...</td>\n",
       "    </tr>\n",
       "    <tr>\n",
       "      <th>244</th>\n",
       "      <td>15.270149</td>\n",
       "      <td>11.253157</td>\n",
       "      <td>Välisminister Urmas Reinsalu</td>\n",
       "      <td>2</td>\n",
       "      <td>darkolivegreen</td>\n",
       "    </tr>\n",
       "    <tr>\n",
       "      <th>245</th>\n",
       "      <td>12.953678</td>\n",
       "      <td>12.957911</td>\n",
       "      <td>Yana Toom</td>\n",
       "      <td>3</td>\n",
       "      <td>darkorange</td>\n",
       "    </tr>\n",
       "    <tr>\n",
       "      <th>246</th>\n",
       "      <td>13.290545</td>\n",
       "      <td>14.143823</td>\n",
       "      <td>Yoko Alender</td>\n",
       "      <td>3</td>\n",
       "      <td>darkorange</td>\n",
       "    </tr>\n",
       "    <tr>\n",
       "      <th>247</th>\n",
       "      <td>11.777964</td>\n",
       "      <td>10.203660</td>\n",
       "      <td>Õiguskantsler Indrek Teder</td>\n",
       "      <td>8</td>\n",
       "      <td>darkslateblue</td>\n",
       "    </tr>\n",
       "    <tr>\n",
       "      <th>248</th>\n",
       "      <td>11.645860</td>\n",
       "      <td>10.358209</td>\n",
       "      <td>Õiguskantsler Ülle Madise</td>\n",
       "      <td>8</td>\n",
       "      <td>darkslateblue</td>\n",
       "    </tr>\n",
       "  </tbody>\n",
       "</table>\n",
       "<p>249 rows × 5 columns</p>\n",
       "</div>"
      ],
      "text/plain": [
       "             0          1                       speaker  label     label_color\n",
       "0    13.693436  13.246423  Aadu Must                     3      darkorange    \n",
       "1    14.542329  8.931796   Ain Lutsepp                   1      darkmagenta   \n",
       "2    9.892005   12.805812  Aivar Kokk                    11     darkviolet    \n",
       "3    14.732650  9.038327   Aivar Riisalu                 1      darkmagenta   \n",
       "4    9.405340   11.996966  Aivar Sõerd                   11     darkviolet    \n",
       "..        ...         ...          ...                   ..            ...    \n",
       "244  15.270149  11.253157  Välisminister Urmas Reinsalu  2      darkolivegreen\n",
       "245  12.953678  12.957911  Yana Toom                     3      darkorange    \n",
       "246  13.290545  14.143823  Yoko Alender                  3      darkorange    \n",
       "247  11.777964  10.203660  Õiguskantsler Indrek Teder    8      darkslateblue \n",
       "248  11.645860  10.358209  Õiguskantsler Ülle Madise     8      darkslateblue \n",
       "\n",
       "[249 rows x 5 columns]"
      ]
     },
     "execution_count": 23,
     "metadata": {},
     "output_type": "execute_result"
    }
   ],
   "source": [
    "df_speaker_embedding"
   ]
  },
  {
   "cell_type": "code",
   "execution_count": 24,
   "id": "df19039e",
   "metadata": {},
   "outputs": [
    {
     "data": {
      "text/plain": [
       "-1     52\n",
       " 3     31\n",
       " 5     30\n",
       " 11    23\n",
       " 4     22\n",
       " 9     16\n",
       " 1     13\n",
       " 2     11\n",
       " 0     10\n",
       " 12    10\n",
       " 10    9 \n",
       " 7     8 \n",
       " 8     7 \n",
       " 6     7 \n",
       "Name: label, dtype: int64"
      ]
     },
     "execution_count": 24,
     "metadata": {},
     "output_type": "execute_result"
    }
   ],
   "source": [
    "df_speaker_embedding.label.value_counts()"
   ]
  },
  {
   "cell_type": "markdown",
   "id": "2311ea6b",
   "metadata": {},
   "source": [
    "## Review speaker clusters"
   ]
  },
  {
   "cell_type": "code",
   "execution_count": 26,
   "id": "08e4b68e",
   "metadata": {},
   "outputs": [
    {
     "data": {
      "text/html": [
       "<div>\n",
       "<style scoped>\n",
       "    .dataframe tbody tr th:only-of-type {\n",
       "        vertical-align: middle;\n",
       "    }\n",
       "\n",
       "    .dataframe tbody tr th {\n",
       "        vertical-align: top;\n",
       "    }\n",
       "\n",
       "    .dataframe thead th {\n",
       "        text-align: right;\n",
       "    }\n",
       "</style>\n",
       "<table border=\"1\" class=\"dataframe\">\n",
       "  <thead>\n",
       "    <tr style=\"text-align: right;\">\n",
       "      <th></th>\n",
       "      <th>0</th>\n",
       "      <th>1</th>\n",
       "      <th>speaker</th>\n",
       "      <th>label</th>\n",
       "      <th>label_color</th>\n",
       "    </tr>\n",
       "  </thead>\n",
       "  <tbody>\n",
       "    <tr>\n",
       "      <th>18</th>\n",
       "      <td>11.775587</td>\n",
       "      <td>6.457350</td>\n",
       "      <td>Aseesimees Enn Eesmaa</td>\n",
       "      <td>0</td>\n",
       "      <td>darkkhaki</td>\n",
       "    </tr>\n",
       "    <tr>\n",
       "      <th>19</th>\n",
       "      <td>11.455017</td>\n",
       "      <td>6.646468</td>\n",
       "      <td>Aseesimees Hanno Pevkur</td>\n",
       "      <td>0</td>\n",
       "      <td>darkkhaki</td>\n",
       "    </tr>\n",
       "    <tr>\n",
       "      <th>20</th>\n",
       "      <td>11.677352</td>\n",
       "      <td>6.518062</td>\n",
       "      <td>Aseesimees Helir-Valdor Seeder</td>\n",
       "      <td>0</td>\n",
       "      <td>darkkhaki</td>\n",
       "    </tr>\n",
       "    <tr>\n",
       "      <th>21</th>\n",
       "      <td>11.643548</td>\n",
       "      <td>6.510684</td>\n",
       "      <td>Aseesimees Jüri Ratas</td>\n",
       "      <td>0</td>\n",
       "      <td>darkkhaki</td>\n",
       "    </tr>\n",
       "    <tr>\n",
       "      <th>22</th>\n",
       "      <td>11.611263</td>\n",
       "      <td>6.583851</td>\n",
       "      <td>Aseesimees Laine Randjärv</td>\n",
       "      <td>0</td>\n",
       "      <td>darkkhaki</td>\n",
       "    </tr>\n",
       "    <tr>\n",
       "      <th>23</th>\n",
       "      <td>11.398531</td>\n",
       "      <td>6.741222</td>\n",
       "      <td>Aseesimees Martin Helme</td>\n",
       "      <td>0</td>\n",
       "      <td>darkkhaki</td>\n",
       "    </tr>\n",
       "    <tr>\n",
       "      <th>35</th>\n",
       "      <td>11.622769</td>\n",
       "      <td>6.519792</td>\n",
       "      <td>Esimees Eiki Nestor</td>\n",
       "      <td>0</td>\n",
       "      <td>darkkhaki</td>\n",
       "    </tr>\n",
       "    <tr>\n",
       "      <th>36</th>\n",
       "      <td>11.478252</td>\n",
       "      <td>6.629584</td>\n",
       "      <td>Esimees Ene Ergma</td>\n",
       "      <td>0</td>\n",
       "      <td>darkkhaki</td>\n",
       "    </tr>\n",
       "    <tr>\n",
       "      <th>37</th>\n",
       "      <td>11.521387</td>\n",
       "      <td>6.551674</td>\n",
       "      <td>Esimees Henn Põlluaas</td>\n",
       "      <td>0</td>\n",
       "      <td>darkkhaki</td>\n",
       "    </tr>\n",
       "    <tr>\n",
       "      <th>38</th>\n",
       "      <td>11.534305</td>\n",
       "      <td>6.523025</td>\n",
       "      <td>Esimees Jüri Ratas</td>\n",
       "      <td>0</td>\n",
       "      <td>darkkhaki</td>\n",
       "    </tr>\n",
       "  </tbody>\n",
       "</table>\n",
       "</div>"
      ],
      "text/plain": [
       "            0         1                         speaker  label label_color\n",
       "18  11.775587  6.457350  Aseesimees Enn Eesmaa           0      darkkhaki \n",
       "19  11.455017  6.646468  Aseesimees Hanno Pevkur         0      darkkhaki \n",
       "20  11.677352  6.518062  Aseesimees Helir-Valdor Seeder  0      darkkhaki \n",
       "21  11.643548  6.510684  Aseesimees Jüri Ratas           0      darkkhaki \n",
       "22  11.611263  6.583851  Aseesimees Laine Randjärv       0      darkkhaki \n",
       "23  11.398531  6.741222  Aseesimees Martin Helme         0      darkkhaki \n",
       "35  11.622769  6.519792  Esimees Eiki Nestor             0      darkkhaki \n",
       "36  11.478252  6.629584  Esimees Ene Ergma               0      darkkhaki \n",
       "37  11.521387  6.551674  Esimees Henn Põlluaas           0      darkkhaki \n",
       "38  11.534305  6.523025  Esimees Jüri Ratas              0      darkkhaki "
      ]
     },
     "execution_count": 26,
     "metadata": {},
     "output_type": "execute_result"
    }
   ],
   "source": [
    "df_speaker_embedding[df_speaker_embedding.label==0]"
   ]
  },
  {
   "cell_type": "code",
   "execution_count": 27,
   "id": "cf7fb51a",
   "metadata": {},
   "outputs": [
    {
     "data": {
      "text/html": [
       "<div>\n",
       "<style scoped>\n",
       "    .dataframe tbody tr th:only-of-type {\n",
       "        vertical-align: middle;\n",
       "    }\n",
       "\n",
       "    .dataframe tbody tr th {\n",
       "        vertical-align: top;\n",
       "    }\n",
       "\n",
       "    .dataframe thead th {\n",
       "        text-align: right;\n",
       "    }\n",
       "</style>\n",
       "<table border=\"1\" class=\"dataframe\">\n",
       "  <thead>\n",
       "    <tr style=\"text-align: right;\">\n",
       "      <th></th>\n",
       "      <th>0</th>\n",
       "      <th>1</th>\n",
       "      <th>speaker</th>\n",
       "      <th>label</th>\n",
       "      <th>label_color</th>\n",
       "    </tr>\n",
       "  </thead>\n",
       "  <tbody>\n",
       "    <tr>\n",
       "      <th>91</th>\n",
       "      <td>13.109004</td>\n",
       "      <td>11.636521</td>\n",
       "      <td>Kaja Kallas</td>\n",
       "      <td>5</td>\n",
       "      <td>darkred</td>\n",
       "    </tr>\n",
       "    <tr>\n",
       "      <th>166</th>\n",
       "      <td>12.423191</td>\n",
       "      <td>11.563149</td>\n",
       "      <td>Peaminister Kaja Kallas</td>\n",
       "      <td>5</td>\n",
       "      <td>darkred</td>\n",
       "    </tr>\n",
       "  </tbody>\n",
       "</table>\n",
       "</div>"
      ],
      "text/plain": [
       "             0          1                  speaker  label label_color\n",
       "91   13.109004  11.636521  Kaja Kallas              5      darkred   \n",
       "166  12.423191  11.563149  Peaminister Kaja Kallas  5      darkred   "
      ]
     },
     "execution_count": 27,
     "metadata": {},
     "output_type": "execute_result"
    }
   ],
   "source": [
    "#Kaja Kallas\n",
    "df_speaker_embedding[df_speaker_embedding.speaker.str.contains('Kaja Kallas')]"
   ]
  },
  {
   "cell_type": "code",
   "execution_count": 28,
   "id": "8da3ef4c",
   "metadata": {},
   "outputs": [
    {
     "data": {
      "text/html": [
       "<div>\n",
       "<style scoped>\n",
       "    .dataframe tbody tr th:only-of-type {\n",
       "        vertical-align: middle;\n",
       "    }\n",
       "\n",
       "    .dataframe tbody tr th {\n",
       "        vertical-align: top;\n",
       "    }\n",
       "\n",
       "    .dataframe thead th {\n",
       "        text-align: right;\n",
       "    }\n",
       "</style>\n",
       "<table border=\"1\" class=\"dataframe\">\n",
       "  <thead>\n",
       "    <tr style=\"text-align: right;\">\n",
       "      <th></th>\n",
       "      <th>0</th>\n",
       "      <th>1</th>\n",
       "      <th>speaker</th>\n",
       "      <th>label</th>\n",
       "      <th>label_color</th>\n",
       "    </tr>\n",
       "  </thead>\n",
       "  <tbody>\n",
       "    <tr>\n",
       "      <th>21</th>\n",
       "      <td>11.643548</td>\n",
       "      <td>6.510684</td>\n",
       "      <td>Aseesimees Jüri Ratas</td>\n",
       "      <td>0</td>\n",
       "      <td>darkkhaki</td>\n",
       "    </tr>\n",
       "    <tr>\n",
       "      <th>38</th>\n",
       "      <td>11.534305</td>\n",
       "      <td>6.523025</td>\n",
       "      <td>Esimees Jüri Ratas</td>\n",
       "      <td>0</td>\n",
       "      <td>darkkhaki</td>\n",
       "    </tr>\n",
       "    <tr>\n",
       "      <th>165</th>\n",
       "      <td>12.380655</td>\n",
       "      <td>11.819221</td>\n",
       "      <td>Peaminister Jüri Ratas</td>\n",
       "      <td>5</td>\n",
       "      <td>darkred</td>\n",
       "    </tr>\n",
       "  </tbody>\n",
       "</table>\n",
       "</div>"
      ],
      "text/plain": [
       "             0          1                 speaker  label label_color\n",
       "21   11.643548  6.510684   Aseesimees Jüri Ratas   0      darkkhaki \n",
       "38   11.534305  6.523025   Esimees Jüri Ratas      0      darkkhaki \n",
       "165  12.380655  11.819221  Peaminister Jüri Ratas  5      darkred   "
      ]
     },
     "execution_count": 28,
     "metadata": {},
     "output_type": "execute_result"
    }
   ],
   "source": [
    "#Jüri Ratas\n",
    "df_speaker_embedding[df_speaker_embedding.speaker.str.contains('Jüri Ratas')]"
   ]
  },
  {
   "cell_type": "markdown",
   "id": "0c9931d0",
   "metadata": {},
   "source": [
    "## Make plotliy scatter plot"
   ]
  },
  {
   "cell_type": "code",
   "execution_count": 31,
   "id": "fad0962f",
   "metadata": {},
   "outputs": [
    {
     "data": {
      "text/plain": [
       "'https://plotly.com/~risto.hinno/332/'"
      ]
     },
     "execution_count": 31,
     "metadata": {},
     "output_type": "execute_result"
    }
   ],
   "source": [
    "# Create a trace containing the scatter plot\n",
    "scatter = go.Scatter(x = df_speaker_embedding[0], y = df_speaker_embedding[1], mode = 'markers', \\\n",
    "                   marker= dict(size= 18, color = df_speaker_embedding['label_color'],\\\n",
    "                   line = dict(width = 2, color = 'rgb(0, 0, 0)')),\n",
    "                   text = df_speaker_embedding['speaker']+' cluster id: '+df_speaker_embedding['label'].astype(str))\n",
    "\n",
    "# Collect the trace(s) into the data to be plotted.\n",
    "data = [scatter]\n",
    "\n",
    "# Edit the layout\n",
    "layout = dict(title = 'Speaker topic embeddings',\n",
    "              xaxis = dict(title = 'x'),\n",
    "              yaxis = dict(title = 'y'),\n",
    "              hovermode = 'closest',\n",
    "              )\n",
    "\n",
    "# Define the figure\n",
    "fig = dict(data=data, layout=layout)\n",
    "\n",
    "# Save figure and layout into html file\n",
    "plot_url = plotly.offline.plot(fig, filename='visualisations/scatter_speaker_topic_embeddings.html')\n",
    "py.plot(fig, filename='scatter_speaker_topic_embeddings', auto_open = True)"
   ]
  }
 ],
 "metadata": {
  "kernelspec": {
   "display_name": "Python 3 (ipykernel)",
   "language": "python",
   "name": "python3"
  },
  "language_info": {
   "codemirror_mode": {
    "name": "ipython",
    "version": 3
   },
   "file_extension": ".py",
   "mimetype": "text/x-python",
   "name": "python",
   "nbconvert_exporter": "python",
   "pygments_lexer": "ipython3",
   "version": "3.9.12"
  }
 },
 "nbformat": 4,
 "nbformat_minor": 5
}
